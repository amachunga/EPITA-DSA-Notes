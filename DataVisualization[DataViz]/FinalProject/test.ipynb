{
 "cells": [
  {
   "cell_type": "code",
   "execution_count": 65,
   "metadata": {},
   "outputs": [],
   "source": [
    "import streamlit as st\n",
    "import pandas as pd\n",
    "import numpy as np\n",
    "import plotly.express as px\n",
    "import requests as req\n",
    "import plotly.graph_objects as go\n",
    "import pycountry_convert as pcconvert\n",
    "\n",
    "\n",
    "# show all columns when printed\n",
    "pd.set_option('display.max_columns', None)"
   ]
  },
  {
   "cell_type": "code",
   "execution_count": 66,
   "metadata": {},
   "outputs": [],
   "source": [
    "# read dataframe from the excel file\n",
    "df = pd.read_csv('./NikeUpdatedCopy.csv')"
   ]
  },
  {
   "cell_type": "code",
   "execution_count": 67,
   "metadata": {},
   "outputs": [],
   "source": [
    "# # drop the unnecessary column\n",
    "# df = df.drop(['Operating Region'], axis=1)"
   ]
  },
  {
   "cell_type": "code",
   "execution_count": 68,
   "metadata": {},
   "outputs": [],
   "source": [
    "# # change float column to int\n",
    "# def float_to_int(df, cols):\n",
    "#     df[cols] = df[cols].fillna(0.0).astype(int)"
   ]
  },
  {
   "cell_type": "code",
   "execution_count": 69,
   "metadata": {},
   "outputs": [],
   "source": [
    "# # change float columns to int (to original type)\n",
    "# cols = ['Total Workers', 'Line Workers']\n",
    "# float_to_int(df, cols)"
   ]
  },
  {
   "cell_type": "code",
   "execution_count": 70,
   "metadata": {},
   "outputs": [],
   "source": [
    "# # create Female Worker and Migrant Worker count columns\n",
    "# df['Female Worker Count'] = df['Total Workers'] * df['% Female Workers']\n",
    "# df['Migrant Worker Count'] = df['Total Workers'] * df['% Migrant Workers']\n",
    "# cols = ['Female Worker Count', 'Migrant Worker Count']\n",
    "# float_to_int(df, cols)"
   ]
  },
  {
   "cell_type": "code",
   "execution_count": 71,
   "metadata": {},
   "outputs": [],
   "source": [
    "# def country_to_continent(country_name):\n",
    "#     country_alpha2 = pcconvert.country_name_to_country_alpha2(country_name)\n",
    "#     country_continent_code = pcconvert.country_alpha2_to_continent_code(country_alpha2)\n",
    "#     country_continent_name = pcconvert.convert_continent_code_to_continent_name(country_continent_code)\n",
    "#     return country_continent_name"
   ]
  },
  {
   "cell_type": "code",
   "execution_count": 72,
   "metadata": {},
   "outputs": [],
   "source": [
    "# # create Continent column and find each of them by the Country names\n",
    "# df['Continent'] = np.nan\n",
    "\n",
    "# for i in range(len(df)):\n",
    "#     try:\n",
    "#         if df['Country'][i] == 'USA':\n",
    "#             df['Continent'][i] = country_to_continent(df['Country'][i])\n",
    "#         elif df['Country'][i] == 'BOSNIA':\n",
    "#             df['Continent'][i] = country_to_continent('Bosnia and Herzegovina')\n",
    "#         else:\n",
    "#             df['Continent'][i] = country_to_continent(df['Country'][i].title())    \n",
    "#     except KeyError as e:\n",
    "#         print(e)\n"
   ]
  },
  {
   "cell_type": "code",
   "execution_count": 73,
   "metadata": {},
   "outputs": [
    {
     "data": {
      "text/html": [
       "<div>\n",
       "<style scoped>\n",
       "    .dataframe tbody tr th:only-of-type {\n",
       "        vertical-align: middle;\n",
       "    }\n",
       "\n",
       "    .dataframe tbody tr th {\n",
       "        vertical-align: top;\n",
       "    }\n",
       "\n",
       "    .dataframe thead th {\n",
       "        text-align: right;\n",
       "    }\n",
       "</style>\n",
       "<table border=\"1\" class=\"dataframe\">\n",
       "  <thead>\n",
       "    <tr style=\"text-align: right;\">\n",
       "      <th></th>\n",
       "      <th>Unnamed: 0.2</th>\n",
       "      <th>Unnamed: 0.1</th>\n",
       "      <th>Unnamed: 0</th>\n",
       "      <th>Factory Name</th>\n",
       "      <th>Factory Type</th>\n",
       "      <th>Product Type</th>\n",
       "      <th>Nike, Inc. Brand(s)</th>\n",
       "      <th>Events</th>\n",
       "      <th>Supplier Group</th>\n",
       "      <th>Address</th>\n",
       "      <th>City</th>\n",
       "      <th>State</th>\n",
       "      <th>Postal Code</th>\n",
       "      <th>Country</th>\n",
       "      <th>Total Workers</th>\n",
       "      <th>Line Workers</th>\n",
       "      <th>% Female Workers</th>\n",
       "      <th>% Migrant Workers</th>\n",
       "      <th>Contact Name</th>\n",
       "      <th>Contact Phone</th>\n",
       "      <th>Contact Fax</th>\n",
       "      <th>Contact Email</th>\n",
       "      <th>Subcons</th>\n",
       "      <th>Female Worker Count</th>\n",
       "      <th>Migrant Worker Count</th>\n",
       "      <th>Longitude</th>\n",
       "      <th>Latitude</th>\n",
       "      <th>Continent</th>\n",
       "    </tr>\n",
       "  </thead>\n",
       "  <tbody>\n",
       "    <tr>\n",
       "      <th>0</th>\n",
       "      <td>0</td>\n",
       "      <td>0</td>\n",
       "      <td>0</td>\n",
       "      <td>A &amp; K DESIGNS, INC.</td>\n",
       "      <td>FINISHED GOODS</td>\n",
       "      <td>APPAREL</td>\n",
       "      <td>NIKE</td>\n",
       "      <td>Collegiate</td>\n",
       "      <td>A &amp; K DESIGNS</td>\n",
       "      <td>8325 SE HARNEY ST.</td>\n",
       "      <td>PORTLAND</td>\n",
       "      <td>OREGON</td>\n",
       "      <td>97266</td>\n",
       "      <td>USA</td>\n",
       "      <td>94</td>\n",
       "      <td>82</td>\n",
       "      <td>0.69</td>\n",
       "      <td>0.000</td>\n",
       "      <td>Paul Lee</td>\n",
       "      <td>503-238-6514</td>\n",
       "      <td>877-968-2889</td>\n",
       "      <td>paul.lee@akdesignsinc.com</td>\n",
       "      <td>NaN</td>\n",
       "      <td>64</td>\n",
       "      <td>0</td>\n",
       "      <td>-122.674195</td>\n",
       "      <td>45.520247</td>\n",
       "      <td>North America</td>\n",
       "    </tr>\n",
       "    <tr>\n",
       "      <th>1</th>\n",
       "      <td>1</td>\n",
       "      <td>1</td>\n",
       "      <td>1</td>\n",
       "      <td>A. FIRST VINA CO. LTD.</td>\n",
       "      <td>FINISHED GOODS</td>\n",
       "      <td>APPAREL</td>\n",
       "      <td>NIKE</td>\n",
       "      <td>NaN</td>\n",
       "      <td>A. FIRST VINA CO. LTD.</td>\n",
       "      <td>TAM PHUOC INDUSTRIAL ZONE</td>\n",
       "      <td>BIEN HOA</td>\n",
       "      <td>DONG NAI</td>\n",
       "      <td>NaN</td>\n",
       "      <td>VIETNAM</td>\n",
       "      <td>1958</td>\n",
       "      <td>1844</td>\n",
       "      <td>0.88</td>\n",
       "      <td>0.062</td>\n",
       "      <td>NaN</td>\n",
       "      <td>NaN</td>\n",
       "      <td>NaN</td>\n",
       "      <td>NaN</td>\n",
       "      <td>NaN</td>\n",
       "      <td>1723</td>\n",
       "      <td>121</td>\n",
       "      <td>106.852981</td>\n",
       "      <td>10.956026</td>\n",
       "      <td>Asia</td>\n",
       "    </tr>\n",
       "    <tr>\n",
       "      <th>2</th>\n",
       "      <td>2</td>\n",
       "      <td>2</td>\n",
       "      <td>2</td>\n",
       "      <td>ACABADOS Y SERIGRAFIA, SA (ACSA)</td>\n",
       "      <td>FINISHED GOODS</td>\n",
       "      <td>APPAREL</td>\n",
       "      <td>NIKE</td>\n",
       "      <td>NaN</td>\n",
       "      <td>NO SUPPLIER GROUP</td>\n",
       "      <td>KM.16.5 A SAN JUAN SACATEPEQUEZ</td>\n",
       "      <td>MIXCO</td>\n",
       "      <td>GUATEMALA</td>\n",
       "      <td>NaN</td>\n",
       "      <td>GUATEMALA</td>\n",
       "      <td>191</td>\n",
       "      <td>181</td>\n",
       "      <td>0.32</td>\n",
       "      <td>0.000</td>\n",
       "      <td>NaN</td>\n",
       "      <td>NaN</td>\n",
       "      <td>NaN</td>\n",
       "      <td>NaN</td>\n",
       "      <td>NaN</td>\n",
       "      <td>61</td>\n",
       "      <td>0</td>\n",
       "      <td>-90.606160</td>\n",
       "      <td>14.630717</td>\n",
       "      <td>North America</td>\n",
       "    </tr>\n",
       "    <tr>\n",
       "      <th>3</th>\n",
       "      <td>3</td>\n",
       "      <td>3</td>\n",
       "      <td>3</td>\n",
       "      <td>ADORA FOOTWEAR LIMITED</td>\n",
       "      <td>FINISHED GOODS</td>\n",
       "      <td>FOOTWEAR</td>\n",
       "      <td>CONVERSE</td>\n",
       "      <td>NaN</td>\n",
       "      <td>HONG FU</td>\n",
       "      <td>TAM DIEP INDUSTRIAL ZONE</td>\n",
       "      <td>TAM DIEP TOWN</td>\n",
       "      <td>NINH BINH PROVINCE.</td>\n",
       "      <td>NaN</td>\n",
       "      <td>VIETNAM</td>\n",
       "      <td>7795</td>\n",
       "      <td>6899</td>\n",
       "      <td>0.91</td>\n",
       "      <td>0.005</td>\n",
       "      <td>NaN</td>\n",
       "      <td>NaN</td>\n",
       "      <td>NaN</td>\n",
       "      <td>NaN</td>\n",
       "      <td>NaN</td>\n",
       "      <td>7093</td>\n",
       "      <td>38</td>\n",
       "      <td>NaN</td>\n",
       "      <td>NaN</td>\n",
       "      <td>Asia</td>\n",
       "    </tr>\n",
       "    <tr>\n",
       "      <th>4</th>\n",
       "      <td>4</td>\n",
       "      <td>4</td>\n",
       "      <td>4</td>\n",
       "      <td>AJARA TEXTILE</td>\n",
       "      <td>FINISHED GOODS</td>\n",
       "      <td>APPAREL</td>\n",
       "      <td>NIKE</td>\n",
       "      <td>NaN</td>\n",
       "      <td>MILTEKS</td>\n",
       "      <td>31 MOTSERELIA STR.</td>\n",
       "      <td>POTI</td>\n",
       "      <td>SAMEGRELO-ZEMO SVANETI</td>\n",
       "      <td>4400</td>\n",
       "      <td>GEORGIA</td>\n",
       "      <td>616</td>\n",
       "      <td>582</td>\n",
       "      <td>0.96</td>\n",
       "      <td>0.000</td>\n",
       "      <td>NaN</td>\n",
       "      <td>NaN</td>\n",
       "      <td>NaN</td>\n",
       "      <td>NaN</td>\n",
       "      <td>NaN</td>\n",
       "      <td>591</td>\n",
       "      <td>0</td>\n",
       "      <td>41.674803</td>\n",
       "      <td>42.141614</td>\n",
       "      <td>Asia</td>\n",
       "    </tr>\n",
       "    <tr>\n",
       "      <th>5</th>\n",
       "      <td>5</td>\n",
       "      <td>5</td>\n",
       "      <td>5</td>\n",
       "      <td>ALL WELLS INTERNATIONAL</td>\n",
       "      <td>FINISHED GOODS</td>\n",
       "      <td>EQUIPMENT</td>\n",
       "      <td>NIKE</td>\n",
       "      <td>NaN</td>\n",
       "      <td>ALL WELLS INTERNATIONAL</td>\n",
       "      <td>TOC TIEN COMMUNE TAN THANH DISTRICT</td>\n",
       "      <td>BA RIA</td>\n",
       "      <td>VUNG TAU PROVINCE</td>\n",
       "      <td>NaN</td>\n",
       "      <td>VIETNAM</td>\n",
       "      <td>5313</td>\n",
       "      <td>3678</td>\n",
       "      <td>0.80</td>\n",
       "      <td>0.318</td>\n",
       "      <td>NaN</td>\n",
       "      <td>NaN</td>\n",
       "      <td>NaN</td>\n",
       "      <td>NaN</td>\n",
       "      <td>NaN</td>\n",
       "      <td>4250</td>\n",
       "      <td>1689</td>\n",
       "      <td>107.168843</td>\n",
       "      <td>10.496270</td>\n",
       "      <td>Asia</td>\n",
       "    </tr>\n",
       "    <tr>\n",
       "      <th>6</th>\n",
       "      <td>6</td>\n",
       "      <td>6</td>\n",
       "      <td>6</td>\n",
       "      <td>ANDBRAVA SRL</td>\n",
       "      <td>FINISHED GOODS</td>\n",
       "      <td>EQUIPMENT</td>\n",
       "      <td>CONVERSE</td>\n",
       "      <td>NaN</td>\n",
       "      <td>NO SUPPLIER GROUP</td>\n",
       "      <td>SARGENTO CABRAL  - PASAJE 62, Nº 1071</td>\n",
       "      <td>BUENOS AIRES</td>\n",
       "      <td>BUENOS AIRES</td>\n",
       "      <td>Pasaje 62, Nº 1071</td>\n",
       "      <td>ARGENTINA</td>\n",
       "      <td>7</td>\n",
       "      <td>5</td>\n",
       "      <td>0.14</td>\n",
       "      <td>0.000</td>\n",
       "      <td>NaN</td>\n",
       "      <td>NaN</td>\n",
       "      <td>NaN</td>\n",
       "      <td>NaN</td>\n",
       "      <td>NaN</td>\n",
       "      <td>0</td>\n",
       "      <td>0</td>\n",
       "      <td>-58.437089</td>\n",
       "      <td>-34.607568</td>\n",
       "      <td>South America</td>\n",
       "    </tr>\n",
       "    <tr>\n",
       "      <th>7</th>\n",
       "      <td>7</td>\n",
       "      <td>7</td>\n",
       "      <td>7</td>\n",
       "      <td>ANHUI COSMO SPORTING GOODS COMPANY LIMITED</td>\n",
       "      <td>FINISHED GOODS</td>\n",
       "      <td>EQUIPMENT</td>\n",
       "      <td>NIKE</td>\n",
       "      <td>NaN</td>\n",
       "      <td>ANHUI COSMO</td>\n",
       "      <td>ECONOMIC DEVELOPMENT ZONE, JINZHAI COUNTY</td>\n",
       "      <td>LU'AN CITY</td>\n",
       "      <td>ANHUI</td>\n",
       "      <td>NaN</td>\n",
       "      <td>CHINA</td>\n",
       "      <td>372</td>\n",
       "      <td>308</td>\n",
       "      <td>0.89</td>\n",
       "      <td>0.000</td>\n",
       "      <td>NaN</td>\n",
       "      <td>NaN</td>\n",
       "      <td>NaN</td>\n",
       "      <td>NaN</td>\n",
       "      <td>NaN</td>\n",
       "      <td>331</td>\n",
       "      <td>0</td>\n",
       "      <td>-0.127647</td>\n",
       "      <td>51.507322</td>\n",
       "      <td>Asia</td>\n",
       "    </tr>\n",
       "    <tr>\n",
       "      <th>8</th>\n",
       "      <td>8</td>\n",
       "      <td>8</td>\n",
       "      <td>8</td>\n",
       "      <td>ANIGER CALÇADOS SUPRIMENTOS E EMPREENDIMENTOS ...</td>\n",
       "      <td>FINISHED GOODS</td>\n",
       "      <td>FOOTWEAR</td>\n",
       "      <td>NIKE</td>\n",
       "      <td>NaN</td>\n",
       "      <td>ANIGER</td>\n",
       "      <td>RUA ARMINDO ELTZ, 51  - QUATRO COLÔNIAS</td>\n",
       "      <td>CAMPO BOM – RS</td>\n",
       "      <td>RS</td>\n",
       "      <td>93700-000</td>\n",
       "      <td>BRAZIL</td>\n",
       "      <td>490</td>\n",
       "      <td>218</td>\n",
       "      <td>0.49</td>\n",
       "      <td>0.000</td>\n",
       "      <td>NaN</td>\n",
       "      <td>NaN</td>\n",
       "      <td>NaN</td>\n",
       "      <td>NaN</td>\n",
       "      <td>A &amp; K Designs, Inc., Acabados y Serigrafia, SA...</td>\n",
       "      <td>240</td>\n",
       "      <td>0</td>\n",
       "      <td>NaN</td>\n",
       "      <td>NaN</td>\n",
       "      <td>South America</td>\n",
       "    </tr>\n",
       "    <tr>\n",
       "      <th>9</th>\n",
       "      <td>9</td>\n",
       "      <td>9</td>\n",
       "      <td>9</td>\n",
       "      <td>ANNIC LLC</td>\n",
       "      <td>FINISHED GOODS</td>\n",
       "      <td>APPAREL</td>\n",
       "      <td>NIKE</td>\n",
       "      <td>Collegiate</td>\n",
       "      <td>GILDAN</td>\n",
       "      <td>KM45 1/2, CARRETERA MASATEPE-SAN MARCOS,</td>\n",
       "      <td>MASATEPE</td>\n",
       "      <td>NaN</td>\n",
       "      <td>NaN</td>\n",
       "      <td>NICARAGUA</td>\n",
       "      <td>3963</td>\n",
       "      <td>3398</td>\n",
       "      <td>0.50</td>\n",
       "      <td>0.002</td>\n",
       "      <td>Lesbia Elisa Chavarria</td>\n",
       "      <td>505-2532-6000</td>\n",
       "      <td>NaN</td>\n",
       "      <td>lchavarria@gildan.com</td>\n",
       "      <td>NaN</td>\n",
       "      <td>1981</td>\n",
       "      <td>7</td>\n",
       "      <td>-86.144556</td>\n",
       "      <td>11.914505</td>\n",
       "      <td>North America</td>\n",
       "    </tr>\n",
       "  </tbody>\n",
       "</table>\n",
       "</div>"
      ],
      "text/plain": [
       "   Unnamed: 0.2  Unnamed: 0.1  Unnamed: 0  \\\n",
       "0             0             0           0   \n",
       "1             1             1           1   \n",
       "2             2             2           2   \n",
       "3             3             3           3   \n",
       "4             4             4           4   \n",
       "5             5             5           5   \n",
       "6             6             6           6   \n",
       "7             7             7           7   \n",
       "8             8             8           8   \n",
       "9             9             9           9   \n",
       "\n",
       "                                        Factory Name    Factory Type  \\\n",
       "0                                A & K DESIGNS, INC.  FINISHED GOODS   \n",
       "1                             A. FIRST VINA CO. LTD.  FINISHED GOODS   \n",
       "2                   ACABADOS Y SERIGRAFIA, SA (ACSA)  FINISHED GOODS   \n",
       "3                             ADORA FOOTWEAR LIMITED  FINISHED GOODS   \n",
       "4                                      AJARA TEXTILE  FINISHED GOODS   \n",
       "5                            ALL WELLS INTERNATIONAL  FINISHED GOODS   \n",
       "6                                       ANDBRAVA SRL  FINISHED GOODS   \n",
       "7         ANHUI COSMO SPORTING GOODS COMPANY LIMITED  FINISHED GOODS   \n",
       "8  ANIGER CALÇADOS SUPRIMENTOS E EMPREENDIMENTOS ...  FINISHED GOODS   \n",
       "9                                          ANNIC LLC  FINISHED GOODS   \n",
       "\n",
       "  Product Type Nike, Inc. Brand(s)      Events           Supplier Group  \\\n",
       "0      APPAREL                NIKE  Collegiate            A & K DESIGNS   \n",
       "1      APPAREL                NIKE         NaN   A. FIRST VINA CO. LTD.   \n",
       "2      APPAREL                NIKE         NaN        NO SUPPLIER GROUP   \n",
       "3     FOOTWEAR            CONVERSE         NaN                  HONG FU   \n",
       "4      APPAREL                NIKE         NaN                  MILTEKS   \n",
       "5    EQUIPMENT                NIKE         NaN  ALL WELLS INTERNATIONAL   \n",
       "6    EQUIPMENT            CONVERSE         NaN        NO SUPPLIER GROUP   \n",
       "7    EQUIPMENT                NIKE         NaN              ANHUI COSMO   \n",
       "8     FOOTWEAR                NIKE         NaN                   ANIGER   \n",
       "9      APPAREL                NIKE  Collegiate                   GILDAN   \n",
       "\n",
       "                                     Address            City  \\\n",
       "0                         8325 SE HARNEY ST.        PORTLAND   \n",
       "1                  TAM PHUOC INDUSTRIAL ZONE        BIEN HOA   \n",
       "2            KM.16.5 A SAN JUAN SACATEPEQUEZ           MIXCO   \n",
       "3                   TAM DIEP INDUSTRIAL ZONE   TAM DIEP TOWN   \n",
       "4                         31 MOTSERELIA STR.            POTI   \n",
       "5        TOC TIEN COMMUNE TAN THANH DISTRICT          BA RIA   \n",
       "6      SARGENTO CABRAL  - PASAJE 62, Nº 1071   BUENOS AIRES    \n",
       "7  ECONOMIC DEVELOPMENT ZONE, JINZHAI COUNTY      LU'AN CITY   \n",
       "8    RUA ARMINDO ELTZ, 51  - QUATRO COLÔNIAS  CAMPO BOM – RS   \n",
       "9   KM45 1/2, CARRETERA MASATEPE-SAN MARCOS,        MASATEPE   \n",
       "\n",
       "                    State         Postal Code    Country  Total Workers  \\\n",
       "0                  OREGON               97266        USA             94   \n",
       "1                DONG NAI                 NaN    VIETNAM           1958   \n",
       "2               GUATEMALA                 NaN  GUATEMALA            191   \n",
       "3     NINH BINH PROVINCE.                 NaN    VIETNAM           7795   \n",
       "4  SAMEGRELO-ZEMO SVANETI                4400    GEORGIA            616   \n",
       "5       VUNG TAU PROVINCE                 NaN    VIETNAM           5313   \n",
       "6           BUENOS AIRES   Pasaje 62, Nº 1071  ARGENTINA              7   \n",
       "7                   ANHUI                 NaN      CHINA            372   \n",
       "8                      RS           93700-000     BRAZIL            490   \n",
       "9                     NaN                 NaN  NICARAGUA           3963   \n",
       "\n",
       "   Line Workers  % Female Workers  % Migrant Workers            Contact Name  \\\n",
       "0            82              0.69              0.000                Paul Lee   \n",
       "1          1844              0.88              0.062                     NaN   \n",
       "2           181              0.32              0.000                     NaN   \n",
       "3          6899              0.91              0.005                     NaN   \n",
       "4           582              0.96              0.000                     NaN   \n",
       "5          3678              0.80              0.318                     NaN   \n",
       "6             5              0.14              0.000                     NaN   \n",
       "7           308              0.89              0.000                     NaN   \n",
       "8           218              0.49              0.000                     NaN   \n",
       "9          3398              0.50              0.002  Lesbia Elisa Chavarria   \n",
       "\n",
       "   Contact Phone   Contact Fax              Contact Email  \\\n",
       "0   503-238-6514  877-968-2889  paul.lee@akdesignsinc.com   \n",
       "1            NaN           NaN                        NaN   \n",
       "2            NaN           NaN                        NaN   \n",
       "3            NaN           NaN                        NaN   \n",
       "4            NaN           NaN                        NaN   \n",
       "5            NaN           NaN                        NaN   \n",
       "6            NaN           NaN                        NaN   \n",
       "7            NaN           NaN                        NaN   \n",
       "8            NaN           NaN                        NaN   \n",
       "9  505-2532-6000           NaN      lchavarria@gildan.com   \n",
       "\n",
       "                                             Subcons  Female Worker Count  \\\n",
       "0                                                NaN                   64   \n",
       "1                                                NaN                 1723   \n",
       "2                                                NaN                   61   \n",
       "3                                                NaN                 7093   \n",
       "4                                                NaN                  591   \n",
       "5                                                NaN                 4250   \n",
       "6                                                NaN                    0   \n",
       "7                                                NaN                  331   \n",
       "8  A & K Designs, Inc., Acabados y Serigrafia, SA...                  240   \n",
       "9                                                NaN                 1981   \n",
       "\n",
       "   Migrant Worker Count   Longitude   Latitude      Continent  \n",
       "0                     0 -122.674195  45.520247  North America  \n",
       "1                   121  106.852981  10.956026           Asia  \n",
       "2                     0  -90.606160  14.630717  North America  \n",
       "3                    38         NaN        NaN           Asia  \n",
       "4                     0   41.674803  42.141614           Asia  \n",
       "5                  1689  107.168843  10.496270           Asia  \n",
       "6                     0  -58.437089 -34.607568  South America  \n",
       "7                     0   -0.127647  51.507322           Asia  \n",
       "8                     0         NaN        NaN  South America  \n",
       "9                     7  -86.144556  11.914505  North America  "
      ]
     },
     "execution_count": 73,
     "metadata": {},
     "output_type": "execute_result"
    }
   ],
   "source": [
    "df.head(10)"
   ]
  },
  {
   "cell_type": "code",
   "execution_count": 74,
   "metadata": {},
   "outputs": [],
   "source": [
    "# # API key for OpenWeatherMap - is not stored as an enviroment variable to be able to\n",
    "# # produce the same result from different systems as well\n",
    "# API_KEY='26d87b67e9196fced6ce50d77eb89968'"
   ]
  },
  {
   "cell_type": "code",
   "execution_count": 75,
   "metadata": {},
   "outputs": [],
   "source": [
    "# # create 2 new columns\n",
    "# df['Longitude'], df['Latitude'] = np.nan, np.nan\n",
    "\n",
    "# # get the geolocation info via OpenWeatherMap API\n",
    "# for i in range(len(df)):\n",
    "#     city = df['City'][i]\n",
    "#     res = req.get(f'https://api.openweathermap.org/geo/1.0/direct?q={city}&limit=1&appid={API_KEY}')\n",
    "#     if len(res.json()) > 0:\n",
    "#         df['Longitude'].iloc[i] = res.json()[0]['lon']\n",
    "#         df['Latitude'][i] = res.json()[0]['lat']\n",
    "#     else:\n",
    "#         pass"
   ]
  },
  {
   "cell_type": "code",
   "execution_count": 76,
   "metadata": {},
   "outputs": [],
   "source": [
    "# # save df into a new file in case if API doesn't work\n",
    "# df.to_csv('NikeUpdatedCopy.csv')"
   ]
  },
  {
   "cell_type": "markdown",
   "metadata": {},
   "source": [
    "Nike Inc (formerly known as Blue Ribbon Sports) is a sought after American athletic shoe, equipment, and sports clothing brand. On January 25, 1964, the well-known brand 'Nike' was born. The founders Phil Knight and Oregon University coach Bill Bowerman began by importing shoes to the USA from Japan. The duo began to sell their shoes from very small beginnings, and by the year 1980, Nike went public. Since then, the shoe brand has risen to be the number one athletic sportswear company in the world.\n",
    "\n",
    "Nike Products are actually manufactured across 41 countries,  with the help of 533 factories and 1.1million workers. Most of Nike's factories are outsourced, meaning that they don't own the actual facility and they 'contract' the factories to produce for them. They contract the manufacture of their apparel, equipment, and even footwear."
   ]
  },
  {
   "cell_type": "markdown",
   "metadata": {},
   "source": [
    "With 41 countries and 533+ factories, the question stands, \"Where on earth is Nike actually made?\". You can certainly find their manufacturing sites in countries like Vietnam, China, Japan, Indonesia, Thailand, and Italy. But China wins this competition with a total of 112 factories, and 156 THOUSAND workers (those are some huge factories right!). The reason that Nike has all of its major factories in Asia is due to the low cost of wages and the ability to produce high quality products for a fraction of the cost of that in North America. It's simply better business for major corporations to shift their production to lower-cost countries, in order to maximise their profit margins.\n",
    "\n",
    "#### 3 major benefits of manufacturing in Asian countries\n",
    "1. Cost of product\n",
    "2. Cost of wages\n",
    "3. Population\n",
    "\n",
    "In Asian countries, the cost of living is comparatively low, and so in turn so is the minimum wage. In China, the minimum wage is 24 Yuan or USD 3.39 per hour. Comparatively, the average minimum wage in the USA is $7.25per hour. This nearly cuts wages in half for Nike. Keeping the costs of producing low, ensuring quality across the range is high, and charging a considerably premium price, all combines to show exactly why Nike is the largest sports brand in the world with more than $US30 Billion annually revenue.\n",
    "\n",
    "### An ethical twist to keep costs low\n",
    "\n",
    "Nike is clearly a leading sports apparel and equipment brand across the globe. With such an extensive brand reach, Nike must work diligently to create (& maintain) a robust supply chain. They cannot risk to be left without product, and shortages of products must be kept at a minimum (avoided at all costs)."
   ]
  },
  {
   "cell_type": "code",
   "execution_count": 77,
   "metadata": {},
   "outputs": [
    {
     "data": {
      "application/vnd.plotly.v1+json": {
       "config": {
        "plotlyServerURL": "https://plot.ly"
       },
       "data": [
        {
         "lat": [
          45.5202471,
          10.9560264,
          14.6307175,
          null,
          42.141614,
          10.4962696,
          -34.6075682,
          51.5073219,
          null,
          11.914505,
          null,
          6.8018439,
          null,
          32.944012,
          43.207178,
          32.8295183,
          36.8968052,
          46.057226,
          46.1078974,
          46.0060512,
          46.057226,
          10.9560264,
          -29.517549,
          34.5186316,
          20.858864,
          52.08701595,
          37.3798891,
          -6.1760311,
          null,
          45.5202471,
          45.649723,
          32.7762719,
          32.7762719,
          6.6479256,
          6.716628,
          6.5423445,
          6.5423445,
          -29.446421,
          25.011997,
          32.3969935,
          39.7683331,
          27.1341946,
          null,
          -19.0148349,
          34.7659252,
          30.6743643,
          -29.614306,
          19.0437196,
          -31.448994,
          null,
          null,
          10.7758439,
          -6.3042012,
          45.3662519,
          11.58331,
          35.1799528,
          24.9929995,
          31.8122623,
          24.9929995,
          27.738153,
          24.163162,
          -29.22647,
          -5.1983553,
          45.5789629,
          10.3629555,
          28.2741176,
          null,
          -29.2562253,
          33.5881366,
          -5.1076699,
          -29.446421,
          14.5308826,
          41.9908485,
          -6.2349858,
          11.568271,
          -24.522583,
          -14.8567487,
          -29.5934057,
          -12.4340621,
          -14.8567487,
          -26.6976713,
          -29.614306,
          10.7758439,
          13.8402875,
          40.8458611,
          22.0259517,
          32.9159104,
          43.8480413,
          -34.6075682,
          23.7861979,
          31.8658887,
          45.2134004,
          45.7759956,
          8.3583002,
          null,
          11.58331,
          11.58331,
          11.58331,
          null,
          null,
          23.0205969,
          23.0205969,
          24.9075751,
          23.0205969,
          33.6367669,
          23.0205969,
          23.0205969,
          23.0205969,
          10.9560264,
          52.3744779,
          32.1787766,
          35.1595775,
          43.6534817,
          28.3973634,
          13.0836939,
          null,
          null,
          11.58331,
          24.9929995,
          15.5062156,
          10.7715512,
          null,
          -27.6350709,
          10.9035106,
          10.6408029,
          12.9767936,
          null,
          22.9912348,
          31.2322758,
          13.539067,
          45.5228939,
          -26.9195567,
          45.3168509,
          null,
          null,
          31.3016935,
          10.9035106,
          15.3165257,
          24.9929995,
          10.8264638,
          10.9560264,
          10.9560264,
          42.8546185,
          null,
          -0.2201641,
          45.143731,
          20.6720375,
          44.0371195,
          22.273734,
          null,
          11.568271,
          35.1433533,
          -6.9903988,
          23.1146515,
          23.7050525,
          31.6572954,
          10.6427276,
          41.5398348,
          36.7899498,
          11.58331,
          10.7758439,
          50.3712659,
          25.4557366,
          27.9511188,
          25.7237321,
          25.4557366,
          23.1038568,
          25.7237321,
          13.7544238,
          16.054804,
          35.1799528,
          10.9808435,
          6.6712394,
          15.6127426,
          37.9839412,
          22.5213807,
          -23.5506507,
          null,
          32.1901111,
          10.9035106,
          23.6832984,
          34.3508273,
          42.2713945,
          33.2000368,
          null,
          21.0294498,
          30.5276676,
          10.3108304,
          10.7758439,
          40.5395421,
          35.021041,
          15.5062156,
          13.6593962,
          null,
          null,
          13.2684945,
          13.7544238,
          13.2684945,
          null,
          25.0375198,
          13.7544238,
          null,
          null,
          1.8472584,
          null,
          25.4557366,
          33.5524785,
          24.9929995,
          null,
          26.6384386,
          23.1146515,
          20.6568406,
          10.7758439,
          null,
          45.5031824,
          22.9912348,
          33.6783336,
          19.611389,
          31.4220558,
          13.0836939,
          null,
          22.2525211,
          31.199004,
          24.0807667,
          30.3162878,
          33.5524785,
          33.5524785,
          32.3969935,
          31.9092756,
          28.687547,
          30.7474425,
          30.6782402,
          35.4089574,
          36.617331,
          7.4870464,
          14.5596159,
          35.1799528,
          11.0839073,
          33.9412127,
          43.6534817,
          45.5202471,
          30.1658896,
          34.5415175,
          null,
          47.6571934,
          31.3869323,
          23.0205969,
          null,
          null,
          null,
          45.5202471,
          null,
          null,
          35.360687,
          45.3990409,
          null,
          32.1840381,
          7.2791971,
          22.5598573,
          -29.4686024,
          31.199004,
          34.8333051,
          24.1014769,
          23.1146515,
          23.1146515,
          24.2918414,
          22.555454,
          null,
          null,
          null,
          10.7758439,
          31.5656822,
          null,
          46.1410937,
          -26.9195567,
          7.156773,
          7.2805314,
          7.156773,
          6.9522325,
          6.9387469,
          6.9387469,
          null,
          7.2532006,
          7.2791971,
          33.8595564,
          34.5094067,
          20.4232641,
          20.4232641,
          14.6222328,
          42.1487691,
          24.9929995,
          10.9560264,
          55.4776435,
          41.0010262,
          41.6509502,
          35.1799528,
          -23.5506507,
          24.68374,
          null,
          10.7758439,
          null,
          27.6598607,
          null,
          16.5194442,
          25.011997,
          12.1459907,
          30.6782402,
          null,
          13.9226541,
          null,
          null,
          32.5866826,
          29.8622194,
          29.8622194,
          29.8622194,
          29.8622194,
          29.8622194,
          29.8622194,
          29.8622194,
          29.8622194,
          29.8622194,
          38.9181714,
          16.4293625,
          21.2737079,
          null,
          31.8782976,
          null,
          11.568271,
          null,
          45.5202471,
          21.2737079,
          null,
          23.0205969,
          33.6633386,
          12.4345376,
          38.1547698,
          44.0500054,
          45.0775473,
          23.1301964,
          -29.1684951,
          -29.1684951,
          14.7026327,
          -34.6075682,
          13.2684945,
          31.9515694,
          30.6782402,
          22.0972997,
          23.1146515,
          34.895858,
          37.1994653,
          10.9509538,
          45.6598951,
          22.6105576,
          22.5445741,
          -7.5344079,
          23.0205969,
          10.2566915,
          24.9929995,
          22.9912348,
          null,
          33.7690164,
          -7.8011945,
          -6.1760311,
          -6.1760311,
          48.464708,
          -6.1753942,
          null,
          -6.1753942,
          null,
          -6.9199289,
          -6.136197,
          -6.2349858,
          -6.1760311,
          -6.2349858,
          -6.5962986,
          46.3144754,
          -6.1169662,
          -6.9903988,
          -6.2955404,
          -6.9199289,
          -6.9903988,
          -6.9903988,
          -6.3042012,
          -6.1760311,
          -6.1760311,
          -6.1760311,
          -6.9199289,
          -6.1760311,
          -6.1760311,
          -6.8351874,
          -6.98393825,
          -6.9344694,
          -6.9903988,
          -6.5906502,
          -6.824096,
          -6.3042012,
          -6.1431943,
          null,
          36.4083982,
          36.0638034,
          36.8618279,
          36.4083982,
          36.0638034,
          37.461928,
          36.0638034,
          32.1901111,
          10.7758439,
          24.8755492,
          24.8755492,
          -34.6075682,
          null,
          31.3016935,
          null,
          31.3016935,
          1.4728119,
          14.9747545,
          24.9929995,
          22.555454,
          46.3144754,
          52.5170365,
          41.8386737,
          38.661953,
          39.7589478,
          29.8622194,
          -29.6905705,
          31.8658887,
          32.1787766,
          null,
          14.3535427,
          13.3662087,
          14.2972357,
          -34.6648394,
          -6.1760311,
          22.6203348,
          10.2566915,
          23.0205969,
          null,
          10.9509538,
          45.6472814,
          32.4585127,
          38.2493581,
          -34.6075682,
          null,
          null,
          45.5202471,
          32.7833323,
          -27.4689682,
          7.3400745,
          27.81697,
          31.2322758,
          29.034552,
          26.993991,
          12.6817905,
          11.568271,
          null,
          null,
          -6.1169662,
          24.8136095,
          23.6832984,
          23.6832984,
          26.423568,
          32.3353965,
          32.4935378,
          41.3459033,
          35.9556924,
          35.9556924,
          10.7758439,
          51.7610497,
          1.8472584,
          31.3016935,
          5.3870844,
          15.5062156,
          19.6978751,
          44.6204796,
          10.7758439,
          null,
          null,
          24.9929995,
          28.9488761,
          42.8258195,
          31.7165941,
          31.8786659,
          45.7427,
          31.5656822,
          31.5656822,
          31.5656822,
          32.3969935,
          -34.6075682,
          13.9853216,
          43.1339001,
          31.3016935,
          31.3016935,
          null,
          null,
          22.4997452,
          10.9560264,
          10.3606197,
          10.9560264,
          35.2310947,
          14.2972357,
          null,
          2.5124036,
          2.0322421,
          24.163162,
          47.2186371,
          -6.5962986,
          24.9929995,
          27.4989278,
          42.7317899,
          44.26833,
          7.1692723,
          44.8186266,
          -26.8901747,
          -34.6075682,
          44.26833,
          48.7645251,
          30.0443879,
          null,
          19.1818062,
          null,
          31.4933074,
          33.5524785,
          -29.4686024,
          10.7500035,
          10.7758439,
          24.163162,
          25.7237321,
          24.163162,
          23.894999,
          10.9035106,
          23.894999,
          10.7758439,
          22.5213807,
          21.592477,
          44.26833,
          21.4845174,
          10.2566915,
          36.0176,
          null,
          24.9929995,
          47.2186371,
          16.0568089,
          32.1901111,
          48.60107,
          24.9929995,
          10.7758439,
          45.3099218,
          36.3263653,
          31.6572954,
          10.9560264,
          10.9509538,
          23.0205969,
          11.58331,
          5.2228164,
          null,
          13.2684945,
          null,
          47.188449,
          21.1428919,
          61.4980214,
          32.1901111,
          10.3629555,
          null,
          10.7758439,
          10.7758439,
          10.7758439,
          49.3180769,
          11.3138286,
          null,
          18.0198156,
          -29.861825,
          10.7758439,
          10.7758439,
          23.3740077,
          10.2544281,
          10.3486485,
          -29.3759836,
          30.5142256,
          22.9912348,
          23.0205969,
          23.1144539,
          23.0205969,
          10.7758439,
          26.4370826,
          33.3495657,
          32.3968554,
          22.5213807,
          null,
          40.1827657,
          40.1827657,
          34.6183433,
          22.9912348,
          47.7231316,
          22.7282309,
          26.423568,
          35.1799528,
          35.1799528,
          35.1799528,
          11.1510856,
          35.1041,
          null,
          35.1799528,
          null,
          24.0807667,
          23.356377,
          10.9509538,
          34.8113006,
          31.8782976,
          31.8782976,
          29.1176794,
          30.2489634,
          null,
          30.0357,
          32.1901111,
          22.5213807,
          22.5213807,
          22.5213807,
          29.7112121
         ],
         "lon": [
          -122.6741949,
          106.8529805,
          -90.6061595,
          null,
          41.6748028,
          107.1688433,
          -58.4370894,
          -0.1276474,
          null,
          -86.1445563,
          null,
          79.9227034,
          null,
          -85.9538532,
          -71.537476,
          -96.9442177,
          -76.2602336,
          28.8249983,
          28.6021997,
          28.6628157,
          28.8249983,
          106.8529805,
          -51.179798,
          135.8434724,
          106.6749591,
          4.876687198673499,
          126.8032255,
          106.6384468,
          null,
          -122.6741949,
          9.2053999,
          -96.7968559,
          -96.7968559,
          80.7014023,
          80.0619488,
          80.157362,
          80.157362,
          -51.136725,
          121.4656619,
          119.4077008,
          -86.1583502,
          87.45070414001327,
          null,
          -40.539464,
          -88.526717,
          -96.3699632,
          -52.193159,
          -98.1981486,
          -60.9304048,
          null,
          null,
          106.7017555,
          107.307897,
          126.3046846,
          107.3610131,
          129.0752365,
          121.3010003,
          119.9691539,
          121.3010003,
          111.7776649,
          120.6478282,
          -51.3468188,
          -39.2955573,
          13.7364985,
          106.6767031,
          117.034423,
          null,
          -51.5269167,
          -117.6248,
          -38.3727852,
          -51.136725,
          -90.5963325,
          -88.1850028,
          106.9945444,
          104.9224426,
          -48.1093489,
          -40.8414804,
          -51.1599403,
          -39.2556115,
          -40.8414804,
          -52.638293,
          -52.193159,
          106.7017555,
          -89.4437598,
          31.164851,
          110.4031831,
          35.293429,
          25.9542057,
          -58.4370894,
          90.4026151,
          -116.6029835,
          10.9793623,
          12.0450646,
          80.5121579,
          null,
          107.3610131,
          107.3610131,
          107.3610131,
          null,
          null,
          113.7457788,
          113.7457788,
          121.1458735,
          113.7457788,
          116.9852556,
          113.7457788,
          113.7457788,
          113.7457788,
          106.8529805,
          9.7385532,
          115.6844851,
          126.8515089,
          -79.3839347,
          114.798217,
          80.270186,
          null,
          null,
          107.3610131,
          121.3010003,
          -88.0248937,
          106.6983801,
          null,
          -52.2738654,
          106.6990779,
          107.05094,
          77.590082,
          null,
          120.184982,
          121.4692071,
          99.8197035,
          -122.989827,
          -49.0658025,
          13.5649454,
          null,
          null,
          120.5810725,
          106.6990779,
          108.8014978,
          121.3010003,
          107.3412097,
          106.8529805,
          106.8529805,
          13.5755038,
          null,
          -78.5123274,
          -122.8553725,
          -103.338396,
          15.01844625,
          113.5721327,
          null,
          104.9224426,
          110.769063,
          110.4229104,
          114.4107202,
          120.5372523,
          120.7480757,
          106.4833859,
          2.4448926,
          127.0026769,
          107.3610131,
          106.7017555,
          -4.1425658,
          119.0029034,
          116.3530413,
          119.3795377,
          119.0029034,
          107.6946613,
          119.3795377,
          100.4930399,
          108.08238,
          129.0752365,
          106.6537483,
          -73.1753984,
          -87.950694,
          23.7283052,
          113.3656141,
          -46.6333824,
          null,
          119.4200584,
          106.6990779,
          113.0505994,
          62.2164003,
          -89.093966,
          -117.2425355,
          null,
          105.8544441,
          120.9420572,
          106.358565,
          106.7017555,
          -75.4968502,
          135.7556075,
          -88.0248937,
          102.5708301,
          null,
          null,
          100.9676152,
          100.4930399,
          100.9676152,
          null,
          121.5636796,
          100.4930399,
          null,
          null,
          102.9346697,
          null,
          119.0029034,
          119.1075773,
          121.3010003,
          null,
          102.5768454,
          114.4107202,
          106.054036,
          106.7017555,
          null,
          -73.5698065,
          120.184982,
          -118.0000166,
          -96.949444,
          73.0923253,
          80.270186,
          null,
          112.2876964,
          29.894378,
          120.5423,
          31.73694101738903,
          119.1075773,
          119.1075773,
          119.4077008,
          120.2630426,
          115.8540042,
          120.7510971,
          121.0116196,
          116.3368106,
          101.7761976,
          80.364908,
          -90.46214160738042,
          129.0752365,
          106.2650701,
          -84.2135309,
          -79.3839347,
          -122.6741949,
          119.212585,
          135.6988328,
          null,
          -117.4235106,
          120.9764683,
          113.7457788,
          null,
          null,
          null,
          -122.6741949,
          null,
          null,
          139.406942,
          -72.721834,
          null,
          -96.8847194,
          80.2239914,
          113.8790404,
          -52.0868635,
          29.894378,
          112.1167048,
          115.0577538,
          114.4107202,
          114.4107202,
          116.1171428,
          114.0543297,
          null,
          null,
          null,
          106.7017555,
          74.3141829,
          null,
          12.3623258,
          -49.0658025,
          79.8716676,
          80.6960665,
          79.8716676,
          80.2125947,
          79.8541134,
          79.8541134,
          null,
          80.3454132,
          80.2239914,
          -118.2167197,
          135.792955,
          106.1688515,
          106.1688515,
          -90.5185188,
          -72.6071119,
          121.3010003,
          106.8529805,
          -2.5553768,
          28.6419843,
          41.6360085,
          129.0752365,
          -46.6333824,
          120.8734318,
          null,
          106.7017555,
          null,
          95.8761179,
          null,
          102.2188111,
          121.4656619,
          -86.2746665,
          121.0116196,
          null,
          100.6009966,
          null,
          null,
          117.0130019,
          121.6203873,
          121.6203873,
          121.6203873,
          121.6203873,
          121.6203873,
          121.6203873,
          121.6203873,
          121.6203873,
          121.6203873,
          121.6282945,
          102.8322966,
          110.3548318,
          null,
          120.5514595,
          null,
          104.9224426,
          null,
          -122.6741949,
          110.3548318,
          null,
          113.7457788,
          -117.903317,
          -86.8773498,
          -91.2440329,
          -91.6392294,
          7.5724262,
          113.2592945,
          -51.1796197,
          -51.1796197,
          -91.8656361,
          -58.4370894,
          100.9676152,
          35.9239625,
          121.0116196,
          106.7633247,
          114.4107202,
          136.838323,
          126.8312632,
          106.8226134,
          8.7932013,
          75.6790283,
          114.0545429,
          110.6041944,
          113.7457788,
          105.593182,
          121.3010003,
          120.184982,
          null,
          -118.191604,
          110.364917,
          106.6384468,
          106.6384468,
          22.0269947,
          106.827183,
          null,
          106.827183,
          null,
          106.9265095,
          106.90069022428446,
          106.9945444,
          106.6384468,
          106.9945444,
          106.7972421,
          11.0480288,
          106.1518079,
          110.4229104,
          106.7085494,
          106.9265095,
          110.4229104,
          110.4229104,
          107.307897,
          106.6384468,
          106.6384468,
          106.6384468,
          106.9265095,
          106.6384468,
          106.6384468,
          108.2277623,
          107.43629599196056,
          107.6049539,
          110.4229104,
          110.6673202,
          107.1374006,
          107.307897,
          106.6646663,
          null,
          120.5348775,
          120.3781372,
          120.5158492,
          120.5348775,
          120.3781372,
          121.4425255,
          120.3781372,
          119.4200584,
          106.7017555,
          118.6723605,
          118.6723605,
          -58.4370894,
          null,
          120.5810725,
          null,
          120.5810725,
          103.7642651,
          102.0929301,
          121.3010003,
          114.0543297,
          11.0480288,
          13.3888599,
          -94.1069211,
          -90.5643258,
          -84.1916069,
          121.6203873,
          -51.1429035,
          -116.6029835,
          115.6844851,
          null,
          100.5645684,
          100.9872185,
          109.0796699,
          -58.3628061,
          106.6384468,
          120.3120375,
          105.593182,
          113.7457788,
          null,
          106.8226134,
          9.3790871,
          130.1930487,
          -122.039966,
          -58.4370894,
          null,
          null,
          -122.6741949,
          130.7333361,
          153.0234991,
          80.9928846,
          114.4112498,
          121.4692071,
          111.6928724,
          111.2684212,
          101.277765,
          104.9224426,
          null,
          null,
          106.1518079,
          113.5922116,
          113.0505994,
          113.0505994,
          111.6081495,
          74.3540308,
          74.5411575,
          2.0413673,
          -80.0053176,
          -80.0053176,
          106.7017555,
          6.1762958,
          102.9346697,
          120.5810725,
          100.3821843,
          -88.0248937,
          72.7686942,
          17.3698016,
          106.7017555,
          null,
          null,
          121.3010003,
          -81.2986741,
          -95.8075134,
          35.7943856,
          36.0043148,
          11.9726933,
          74.3141829,
          74.3141829,
          74.3141829,
          119.4077008,
          -58.4370894,
          -89.6802434,
          -88.2220372,
          120.5810725,
          120.5810725,
          null,
          null,
          103.9656924,
          106.8529805,
          106.3658439,
          106.8529805,
          128.8908228,
          109.0796699,
          null,
          102.8137391,
          103.3190922,
          120.6478282,
          -1.5541362,
          106.7972421,
          121.3010003,
          -82.5748194,
          -93.7321871,
          11.3234319,
          79.9484613,
          8.1091847,
          -49.2416736,
          -58.4370894,
          11.3234319,
          2.1396015,
          31.2357257,
          null,
          -99.4680167,
          null,
          120.3074357,
          119.1075773,
          -52.0868635,
          106.51488582967848,
          106.7017555,
          120.6478282,
          119.3795377,
          120.6478282,
          120.478577,
          106.6990779,
          120.478577,
          106.7017555,
          113.3656141,
          105.8435398,
          11.3234319,
          109.1165772,
          105.593182,
          45.7573,
          null,
          121.3010003,
          -1.5541362,
          103.6514286,
          119.4200584,
          0.27343,
          121.3010003,
          106.7017555,
          -122.7681602,
          138.8878314,
          120.7480757,
          106.8529805,
          106.8226134,
          113.7457788,
          107.3610131,
          100.4980609,
          null,
          100.9676152,
          null,
          23.9944624,
          -88.1524717,
          23.7603118,
          119.4200584,
          106.6767031,
          null,
          106.7017555,
          106.7017555,
          106.7017555,
          -0.3555361,
          106.0964769,
          null,
          -90.8809957,
          31.009909,
          106.7017555,
          106.7017555,
          116.7120999,
          105.9669665,
          107.0765028,
          -51.1123342,
          120.6759733,
          120.184982,
          113.7457788,
          109.5946193,
          113.7457788,
          106.7017555,
          110.8518642,
          120.1576778,
          119.4077658,
          113.3656141,
          null,
          29.0677305,
          29.0677305,
          -79.0083993,
          120.184982,
          128.8785919,
          121.1063135,
          111.6081495,
          129.0752365,
          129.0752365,
          129.0752365,
          106.6010334,
          128.9751,
          null,
          129.0752365,
          null,
          120.5423,
          116.6775918,
          106.8226134,
          117.3178278,
          120.5514595,
          120.5514595,
          110.4741428,
          120.2052342,
          null,
          120.8640628,
          119.4200584,
          113.3656141,
          113.3656141,
          113.3656141,
          120.2419855
         ],
         "mode": "markers",
         "text": [
          "PORTLAND",
          "BIEN HOA",
          "MIXCO",
          "TAM DIEP TOWN",
          "POTI",
          "BA RIA",
          "BUENOS AIRES ",
          "LU'AN CITY",
          "CAMPO BOM – RS",
          "MASATEPE",
          "TINH GIA DISTRICT",
          "PILIYANDALA",
          "NACO QUIMISTAN",
          "ALEXANDER CITY",
          "CONCORD",
          "WEST IRVING",
          "NORFOLK",
          "CEADIR LUNGA",
          "KONGAZ,COMRAT ",
          "KAZAYAK",
          "CEADIR-LUNGA",
          "BIEN HOA",
          "PRESIDENTE LUCENA",
          "SAKURAI",
          "HAIPHONG",
          "WOERDEN",
          "SIHEUNG-SI",
          "TANGERANG",
          "HUYEN TAN UYEN & BEN CAT",
          "PORTLAND",
          "SEREGNO",
          "DALLAS",
          "DALLAS",
          "BALANGODA",
          "HORANA",
          "AGALAWATTA",
          "AGALAWATTA",
          "PICADA-CAFÉ",
          "NEW TAIPEI CITY",
          "YANGZHOU",
          "INDIANAPOLIS",
          "SUNGNAM-SI",
          "ZHONGSAN",
          "SAO GABRIEL DA PALHA",
          "RIENZI",
          "BRYAN",
          "VENANCIO AIRES",
          "PUEBLA",
          "ESPERANZA, CD OBREGON",
          "SAN FRANCISCO DE CAMPECHE",
          "DUONG MINH CHAU DISTRICT",
          "HO CHI MINH",
          "KARAWANG",
          "LONG THANH DISTRICT",
          "DONG NAI",
          "BUSAN",
          "TAOYUAN",
          "CHANGZHOU",
          "TAOYUAN",
          "YUAN LIN HSIEN",
          "TAICHUNG",
          "FARROUPILHA",
          "QUIXERAMOBIM",
          "ANCARANO",
          "GO CONG",
          "YINGTAN",
          "GUAYMALLEN",
          "GARIBALDI",
          "LAS FLORES",
          "MORADA NOVA",
          "PICADA CAFÉ",
          "VILLA NUEVA",
          "BARTLETT",
          "BEKASI",
          "PHNOM PENH",
          "ELDORADO",
          "VITÓRIA DA CONQUISTA",
          "IVOTI",
          "SANTO ESTEVÃO",
          "VITORIA DA CONQUISTA",
          "SAUDADES",
          "VENANCIO AIRES",
          "HO CHI MINH CITY",
          "CIUDAD ARCE",
          "DUZCE",
          "BINH DINH",
          "KARMIEL",
          "ROUSSE",
          "BUENOS AIRES",
          "DHAKA",
          "ENSENADA",
          "SORGA",
          "MONTEBELLUNA",
          "MIHINTALE",
          "DOSSON DI CASIER",
          "DONG NAI",
          "DONG NAI",
          "DONG NAI",
          "TRANG BOM DISTRICT",
          "LIAOBU TOWN, DONGGUAN",
          "DONGGUAN",
          "DONGGUAN",
          "YANGMEI CITY",
          "DONGGUAN",
          "DONG GUAN",
          "DONGGUAN",
          "DONGGUAN",
          "DONGGUAN",
          "BIEN HOA",
          "SA-HA GU, BUSAN",
          "DONGGUAN CITY",
          "GWANGJU-SI",
          "TORONTO",
          "YIFENG",
          "CHENNAI",
          "GUNMA PREF",
          "BA RIA VUNG TAU",
          "DONG NAI",
          "TAOYUAN CITY",
          "SAN PEDRO SULA",
          "HO CHI MINH  CITY",
          "LADKRABANG",
          "JOSE BONIFACIO",
          "THUAN AN",
          "MY XUAN VILLAGE, TAN THANH DISTRICT",
          "BANGALORE",
          "TAN UYEN DISTRICT",
          "TAINAN CITY",
          "SHANGHAI",
          "RATCHABURI",
          "HILLSBORO",
          "BLUMENAU",
          "NOVIGRAD",
          "UTHANGARAI TALUK",
          "JIANG SU",
          "SUZHOU",
          "THUAN AN",
          "BINH PHUOC",
          "TAOYUAN",
          "XUAN TAY",
          "BIEN HOA",
          "BIEN HOA",
          "ASCOLI PICENO",
          "DOU LIOU",
          "QUITO",
          "WOODBURN",
          "GUADALAJARA",
          "SAVAR",
          "ZHUHAI",
          "SATTELDORF - GRONINGEN",
          "PHNOM PENH",
          "YUAN-LIN CHEN",
          "SEMARANG",
          "HUIZHOU",
          "TOULIU",
          "CHANGSHU",
          "BEN LUC",
          "MATARO ",
          "ASAN",
          "DONG NAI",
          "HO CHI MINH",
          "PLYMOUTH",
          "PUTIAN",
          "FUZHOU",
          "FUQING",
          "PUTIAN",
          "LONG AN",
          "FUQING",
          "BANGKOK",
          "PHUOC DONG",
          "BUSAN",
          "THU DAU MOT",
          "VILLANUEVA",
          "CHOLOMA",
          "ATHENS",
          "ZHONGSHAN",
          "SÃO PAULO",
          "S.STEFANO ZIMELLA (VR)",
          "TIEN GIANG",
          "THUAN AN",
          "QING YUAN",
          "LONG AN PROVINCE",
          "ROCKFORD",
          "VISTA",
          "BEN CAT TOWN",
          "HA NOI CITY",
          "HAIYAN",
          "CHAU THANH, TIEN GIANG",
          "HO CHI MINH",
          "EMMAUS,",
          "KYOTO-SHI",
          "SAN PEDRO SULA",
          "POIPET CITY",
          "BANGKRU",
          "THATOOM",
          "MUANG",
          "BANGKOK",
          "MUANG",
          "DUY XUYEN DISTRICT",
          "NEW TAIEPI CITY",
          "BANGKOK",
          "RATHJABURANA",
          "DUC HOA DISTRICT",
          "BATU PAHAT",
          "JIANGSU PROVINCE",
          "PUTIAN",
          "HUAI AN",
          "TAOYUAN",
          "GUANGDONG PROVINCE",
          "HUIDONG",
          "HUIZHOU",
          "HUNG YEN",
          "HO CHI MINH CITY",
          "MEOLO (VENEZIA)",
          "MONTREAL",
          "TAINAN",
          "HUNTINGTON BEACH",
          "JILOTEPEC",
          "FAISALABAD",
          "CHENNAI",
          "MUTILVA BAJA",
          "ENPING",
          "ALEXANDRIA",
          "CHANGHUA",
          "10TH OF RAMADAN CITY",
          "HUAI AN",
          "HUAIAN",
          "YANGZHOU",
          "JIANGYIN",
          "NANCHANG",
          "JIAXING",
          "PING HU",
          "JIAXIANG",
          "JI NING CITY",
          "KURUNEGALA",
          "PUERTA PARADA",
          "BUSAN",
          "GÒ DẦU",
          "NORCROSS",
          "TORONTO",
          "PORTLAND",
          "CHANGHWA",
          "KASHIBA",
          "NEANG KOK VILLAGE",
          "SPOKANE",
          "KUNSHAN",
          "DONGGUAN",
          "NHON TRACH DISTRICT",
          "H THUAN AN",
          "PARQUE INDUSTRIAL PLATANOS",
          "PORTLAND",
          "THUAN AN TOWN",
          "CD. OBREGON",
          "KAGAWA",
          "GRANBY",
          "YUN-LIN HSIEN",
          "ITALY",
          "THULHIRIYA",
          "BAOAN",
          "SANTA CLARA DO SUL",
          "ALEXANDRIA",
          "TAN AN",
          "HEYUAN",
          "HUIZHOU",
          "HUIZHOU",
          "MEIZHOU",
          "SHENZHEN",
          "NEAR KANCHIPURAM",
          "TIRUVANNAMALAI DISTRICT",
          "32-050 SKAWINA, POLAND",
          "HO CHI MINH CITY",
          "LAHORE",
          "SAN JUAN RÍO",
          "PUOS D’ALPAGO",
          "BLUMENAU",
          "KATUNAYAKE",
          "PALLEKELE",
          "KATUNAYAKE",
          "AVISSAWELLA",
          "COLOMBO",
          "COLOMBO",
          "ANDHRA PRADESH",
          "KEGALLE",
          "THULHIRIYA",
          "RANCHO DOMINGUEZ",
          "KASHIHARA",
          "NAM DINH",
          "NAM DINH",
          "GUATEMALA CITY",
          "CHICOPEE",
          "TAOYUAN",
          "BIEN HOA",
          "JEDBURGH",
          "BEYLIKDUZU",
          "BATUMI",
          "BUSAN",
          "SAO PAULO",
          "NAM TRUC",
          "NAMDINH",
          "HO CHI MINH",
          "LADYAO, NAKHONSAWAN",
          "NONGKHAM",
          "WACHIRABARAMI",
          "A. SAMPHAN",
          "NEW TAIPEI CITY",
          "MANAGUA",
          "PINGHU",
          "KHONKEAN",
          "MUANG DISTRICT",
          "CHUMPAE",
          "NONGBUALAMPOO",
          "HUAI AN CITY",
          "NINGBO",
          "NINGBO",
          "NINGBO",
          "NINGBO",
          "NINGBO",
          "NINGBO",
          "NINGBO",
          "NINGBO",
          "NINGBO",
          "DALIAN",
          "KHON KAEN",
          "AN GIANG",
          "KITAKATSURAGI-GUN",
          "ZHANGJIAGANG",
          "KABINBURI",
          "PHNOM PENH",
          "SAMUTSAKORN",
          "PORTLAND",
          "AN GIANG",
          "NONGBUADANG",
          "DONGGUAN",
          "COSTA MESA",
          "LEON",
          "BOURBON",
          "WINONA",
          "COLLEGNO",
          "GUANGZHOU",
          "CAXIAS DO SUL",
          "CAXIAS DO SUL",
          "COATEPEQUE",
          "BUENOS AIRES",
          "MUANG",
          "AMMAN",
          "PINGHU",
          "PINGXIANG",
          "HUI ZHOU",
          "CHANG HUA",
          "CHANG HWA",
          "BIEN HOA CITY",
          "GALLARATE",
          "PITHAMPUR, DISTRICT DHAR",
          "SHENZHEN CITY",
          "BOYOLALI",
          "DONGGUAN",
          "TAN THANH",
          "TAOYUAN",
          "TAINAN",
          "NHON TRACH DISTRICT",
          "LONG BEACH",
          "YOGYAKARTA",
          "TANGERANG",
          "TANGERANG",
          "LELES",
          "JAKARTA",
          "KARAWANG TIMUR",
          "JAKARTA",
          "KABUPATEN SERANG",
          "SUKABUMI",
          "JAKARTA UTARA",
          "BEKASI",
          "TANGERANG",
          "BEKASI",
          "BOGOR",
          null,
          "SERANG",
          "SEMARANG",
          "TANGERANG SELATAN",
          "SUKABUMI",
          "SEMARANG",
          "SEMARANG",
          "KARAWANG",
          "TANGERANG",
          "TANGERANG",
          "TANGERANG",
          "SUKABUMI",
          "TANGERANG",
          "TANGERANG",
          "MAJALENGKA",
          "BANDUNG BARAT",
          "BANDUNG",
          "SEMARANG",
          "JEPARA, CENTRAL JAVA",
          "CIANJUR",
          "KARAWANG",
          "BELENDUNG, CIBOGO",
          "CIBATU KABUPATEN PURWAKARTA",
          "JIMO, QINGDAO",
          "QINGDAO",
          "LAIXI CITY",
          "JIMO CITY",
          "QINGDAO",
          "YANTAI",
          "QINGDAO",
          "TIEN GIANG",
          "HO CHI MINH",
          "QUANZHOU",
          "QUANZHOU",
          "CAPITAL FEDERAL",
          "SRIRACHA",
          "SUZHOU",
          "JIANG SU",
          "SUZHOU",
          " JOHOR",
          "NAKHON RATCHASIMA",
          "TAOYUAN",
          "SHENZHEN",
          null,
          "BERLIN",
          "PERRY",
          "CHESTERFIELD",
          "DAYTON",
          "NINGBO",
          "NOVO HAMBURGO",
          "ENSENADA",
          "DONGGUAN CITY",
          "SAMRONG TORNG DISTRICT",
          "AYUTTHAYA",
          "CHONBURI",
          "BINH DUONG",
          "AVELLANEDA",
          "TANGERANG",
          "KAOHSIUNG",
          "TAN THANH",
          "DONGGUAN",
          "CHOSEIGUN",
          "BIEN HOA CITY",
          "CARNATE",
          "AMAKUSA-CITY",
          "FAIRFIELD",
          "BUENOS AIRES",
          "VERTEMATE CON MINOPRIO (COMO)",
          "CHAUCHINA-GRANADA",
          "PORTLAND",
          "KUMAMOTO -CITY",
          "BRISBANE",
          "MAHIYANGANAYA",
          "YICHUN",
          "SHANGHAI",
          "CHANDE CITY",
          "SHAOYANG CITY",
          "RAYONG",
          "PHNOM PENH",
          "SHENZHEN GUANGMING DISTRICT",
          "HENGXIKENG, LONGGANG DISTRICT, SHENZHEN CITY",
          "SERANG",
          "SHAO GUANG",
          "QINGYUAN CITY",
          "QINGYUAN CITY",
          "YONGZHOU CITY",
          "DASKA",
          "SIALKOT",
          "SANT BOI DE LLOBREGAT",
          "HIGH POINT",
          "HIGH POINT",
          "HO CHI MINH CITY",
          "HAI HAU",
          "BATU PAHAT",
          "SUZHOU",
          "PRAI",
          "CARRETERA A SAN PEDRO SULA",
          "PALGHAR",
          "KOTOR VAROS",
          "HO CHI MINH CITY",
          "SONEPAT",
          "BHAGANI",
          "TAOYUAN",
          "ORANGE CITY",
          "MARCUS",
          "MADABA",
          "SAHAB",
          "CASELLE DI ALTIVOLE",
          "LAHORE",
          "LAHORE",
          "LAHORE",
          "YANGZHOU",
          "BUENOS AIRES",
          "CHALCHUAPA",
          "SUSSEX",
          "SUZHOU",
          "SUZHOU",
          "MUDU TOWN, WUZHONG SECTION",
          "NAKA-GUN",
          "CAI RANG",
          "BIEN HOA",
          "MY THO",
          "BIEN HOA",
          "GIMHAE",
          "BINH DUONG",
          "JOHOR DARUL TAKZIM",
          "SEGAMAT",
          "KLUANG",
          "TAICHUNG",
          "NANTO",
          "BOGOR",
          "TAOYUAN",
          "BRADENTON",
          "CLARION",
          "LUJAN",
          "MINUWANGODA",
          "SAN MARTIN",
          "INDAIAL",
          "CAPITAL FEDERAL",
          "LUJAN",
          "LES LOGES EN JOSAS",
          "CAIRO",
          "EL ROSARIO LA PAZ",
          "SANTIAGO TIANGUISTENCO",
          "PRAPRADAENG",
          "WUXI",
          "HUAIAN",
          "SANTA CLARA DO SUL",
          "BINH CHANH DISTRICT",
          "HO CHI MINH CITY",
          "TAICHUNG CITY",
          "FUQING CITY",
          "TAICHUNG",
          "PITOU",
          "THUAN AN",
          "PITOU",
          "HO CHI MINH CITY",
          "ZHONG SHAN",
          "THAI NGUYEN",
          "LUJAN",
          "BEIHAI",
          "TAN THANH",
          "KANDAL",
          "JIANG SU",
          "TAOYUAN",
          "NANTO",
          "ROI-ET",
          "TIEN GIANG",
          "TREMONT",
          "TAOYUAN",
          "HO CHI MINH",
          "WILSONVILLE",
          "ANNAKA",
          "CHANGSHU CITY",
          "BIEN HOA",
          "BIEN HOA CITY",
          "DONGGUAN",
          "DONG NAI",
          "SUNGAI  BAKAP",
          "NAKORNPRATHOM",
          "MUANG",
          "WARINCHAMRAB",
          "BACA",
          "TIZIMIN",
          "BEN TRE",
          "TIEN GIANG",
          "GO CONG TOWN",
          "NHON TRACH DISTRICT",
          "HO CHI MINH CITY",
          "HO CHI MINH",
          "HO CHI MINH",
          "BEN LUC COUNTY",
          "TAY NINH",
          "TRANG BOM",
          "ESTADO DE MEXICO",
          "DURBAN",
          "HO CHI MINH CITY",
          "HO CHI MINH",
          "LONG HO",
          "VINH LONG",
          "VUNG TAU",
          "NOVA PETRÓPOLIS",
          "HAINING",
          "TAINAN",
          "DONGGUAN",
          "GUIGANG",
          "DONGGUAN",
          "HO CHI MINH",
          "XINNING",
          "YANCHENG",
          "YANG ZHOU",
          "ZHONGSHAN",
          "TAN PHUOC DISTRICT",
          "BURSA",
          "BURSA",
          "LUMBERTON",
          "TAINAN",
          "YICHUN CITY",
          "FENG YUAN",
          "YONGZHOU",
          "BUSAN",
          "BUSAN",
          "BUSAN",
          "BEN CAT",
          "SAHA-GU",
          "TRANG BANG DISTRICT",
          "BUSAN",
          "KRATOOMBAN",
          "CHANGHUA CITY",
          "SHANTOU",
          "BIEN HOA CITY",
          "ZAOZHUANG CITY",
          "ZHANGJIAGANG",
          "ZHANGJIAGANG",
          "ZHANGJIAJIE",
          "HANGZHOU",
          "CAOTA TOWN, ZHUJI",
          "SHANGYU CITY",
          "ZHENJIANG",
          "ZHONGSHAN",
          "ZHONGSHAN",
          "ZHONGSHAN",
          "ZHUJI"
         ],
         "type": "scattergeo"
        }
       ],
       "layout": {
        "geo": {
         "scope": "world"
        },
        "template": {
         "data": {
          "bar": [
           {
            "error_x": {
             "color": "#2a3f5f"
            },
            "error_y": {
             "color": "#2a3f5f"
            },
            "marker": {
             "line": {
              "color": "#E5ECF6",
              "width": 0.5
             },
             "pattern": {
              "fillmode": "overlay",
              "size": 10,
              "solidity": 0.2
             }
            },
            "type": "bar"
           }
          ],
          "barpolar": [
           {
            "marker": {
             "line": {
              "color": "#E5ECF6",
              "width": 0.5
             },
             "pattern": {
              "fillmode": "overlay",
              "size": 10,
              "solidity": 0.2
             }
            },
            "type": "barpolar"
           }
          ],
          "carpet": [
           {
            "aaxis": {
             "endlinecolor": "#2a3f5f",
             "gridcolor": "white",
             "linecolor": "white",
             "minorgridcolor": "white",
             "startlinecolor": "#2a3f5f"
            },
            "baxis": {
             "endlinecolor": "#2a3f5f",
             "gridcolor": "white",
             "linecolor": "white",
             "minorgridcolor": "white",
             "startlinecolor": "#2a3f5f"
            },
            "type": "carpet"
           }
          ],
          "choropleth": [
           {
            "colorbar": {
             "outlinewidth": 0,
             "ticks": ""
            },
            "type": "choropleth"
           }
          ],
          "contour": [
           {
            "colorbar": {
             "outlinewidth": 0,
             "ticks": ""
            },
            "colorscale": [
             [
              0,
              "#0d0887"
             ],
             [
              0.1111111111111111,
              "#46039f"
             ],
             [
              0.2222222222222222,
              "#7201a8"
             ],
             [
              0.3333333333333333,
              "#9c179e"
             ],
             [
              0.4444444444444444,
              "#bd3786"
             ],
             [
              0.5555555555555556,
              "#d8576b"
             ],
             [
              0.6666666666666666,
              "#ed7953"
             ],
             [
              0.7777777777777778,
              "#fb9f3a"
             ],
             [
              0.8888888888888888,
              "#fdca26"
             ],
             [
              1,
              "#f0f921"
             ]
            ],
            "type": "contour"
           }
          ],
          "contourcarpet": [
           {
            "colorbar": {
             "outlinewidth": 0,
             "ticks": ""
            },
            "type": "contourcarpet"
           }
          ],
          "heatmap": [
           {
            "colorbar": {
             "outlinewidth": 0,
             "ticks": ""
            },
            "colorscale": [
             [
              0,
              "#0d0887"
             ],
             [
              0.1111111111111111,
              "#46039f"
             ],
             [
              0.2222222222222222,
              "#7201a8"
             ],
             [
              0.3333333333333333,
              "#9c179e"
             ],
             [
              0.4444444444444444,
              "#bd3786"
             ],
             [
              0.5555555555555556,
              "#d8576b"
             ],
             [
              0.6666666666666666,
              "#ed7953"
             ],
             [
              0.7777777777777778,
              "#fb9f3a"
             ],
             [
              0.8888888888888888,
              "#fdca26"
             ],
             [
              1,
              "#f0f921"
             ]
            ],
            "type": "heatmap"
           }
          ],
          "heatmapgl": [
           {
            "colorbar": {
             "outlinewidth": 0,
             "ticks": ""
            },
            "colorscale": [
             [
              0,
              "#0d0887"
             ],
             [
              0.1111111111111111,
              "#46039f"
             ],
             [
              0.2222222222222222,
              "#7201a8"
             ],
             [
              0.3333333333333333,
              "#9c179e"
             ],
             [
              0.4444444444444444,
              "#bd3786"
             ],
             [
              0.5555555555555556,
              "#d8576b"
             ],
             [
              0.6666666666666666,
              "#ed7953"
             ],
             [
              0.7777777777777778,
              "#fb9f3a"
             ],
             [
              0.8888888888888888,
              "#fdca26"
             ],
             [
              1,
              "#f0f921"
             ]
            ],
            "type": "heatmapgl"
           }
          ],
          "histogram": [
           {
            "marker": {
             "pattern": {
              "fillmode": "overlay",
              "size": 10,
              "solidity": 0.2
             }
            },
            "type": "histogram"
           }
          ],
          "histogram2d": [
           {
            "colorbar": {
             "outlinewidth": 0,
             "ticks": ""
            },
            "colorscale": [
             [
              0,
              "#0d0887"
             ],
             [
              0.1111111111111111,
              "#46039f"
             ],
             [
              0.2222222222222222,
              "#7201a8"
             ],
             [
              0.3333333333333333,
              "#9c179e"
             ],
             [
              0.4444444444444444,
              "#bd3786"
             ],
             [
              0.5555555555555556,
              "#d8576b"
             ],
             [
              0.6666666666666666,
              "#ed7953"
             ],
             [
              0.7777777777777778,
              "#fb9f3a"
             ],
             [
              0.8888888888888888,
              "#fdca26"
             ],
             [
              1,
              "#f0f921"
             ]
            ],
            "type": "histogram2d"
           }
          ],
          "histogram2dcontour": [
           {
            "colorbar": {
             "outlinewidth": 0,
             "ticks": ""
            },
            "colorscale": [
             [
              0,
              "#0d0887"
             ],
             [
              0.1111111111111111,
              "#46039f"
             ],
             [
              0.2222222222222222,
              "#7201a8"
             ],
             [
              0.3333333333333333,
              "#9c179e"
             ],
             [
              0.4444444444444444,
              "#bd3786"
             ],
             [
              0.5555555555555556,
              "#d8576b"
             ],
             [
              0.6666666666666666,
              "#ed7953"
             ],
             [
              0.7777777777777778,
              "#fb9f3a"
             ],
             [
              0.8888888888888888,
              "#fdca26"
             ],
             [
              1,
              "#f0f921"
             ]
            ],
            "type": "histogram2dcontour"
           }
          ],
          "mesh3d": [
           {
            "colorbar": {
             "outlinewidth": 0,
             "ticks": ""
            },
            "type": "mesh3d"
           }
          ],
          "parcoords": [
           {
            "line": {
             "colorbar": {
              "outlinewidth": 0,
              "ticks": ""
             }
            },
            "type": "parcoords"
           }
          ],
          "pie": [
           {
            "automargin": true,
            "type": "pie"
           }
          ],
          "scatter": [
           {
            "fillpattern": {
             "fillmode": "overlay",
             "size": 10,
             "solidity": 0.2
            },
            "type": "scatter"
           }
          ],
          "scatter3d": [
           {
            "line": {
             "colorbar": {
              "outlinewidth": 0,
              "ticks": ""
             }
            },
            "marker": {
             "colorbar": {
              "outlinewidth": 0,
              "ticks": ""
             }
            },
            "type": "scatter3d"
           }
          ],
          "scattercarpet": [
           {
            "marker": {
             "colorbar": {
              "outlinewidth": 0,
              "ticks": ""
             }
            },
            "type": "scattercarpet"
           }
          ],
          "scattergeo": [
           {
            "marker": {
             "colorbar": {
              "outlinewidth": 0,
              "ticks": ""
             }
            },
            "type": "scattergeo"
           }
          ],
          "scattergl": [
           {
            "marker": {
             "colorbar": {
              "outlinewidth": 0,
              "ticks": ""
             }
            },
            "type": "scattergl"
           }
          ],
          "scattermapbox": [
           {
            "marker": {
             "colorbar": {
              "outlinewidth": 0,
              "ticks": ""
             }
            },
            "type": "scattermapbox"
           }
          ],
          "scatterpolar": [
           {
            "marker": {
             "colorbar": {
              "outlinewidth": 0,
              "ticks": ""
             }
            },
            "type": "scatterpolar"
           }
          ],
          "scatterpolargl": [
           {
            "marker": {
             "colorbar": {
              "outlinewidth": 0,
              "ticks": ""
             }
            },
            "type": "scatterpolargl"
           }
          ],
          "scatterternary": [
           {
            "marker": {
             "colorbar": {
              "outlinewidth": 0,
              "ticks": ""
             }
            },
            "type": "scatterternary"
           }
          ],
          "surface": [
           {
            "colorbar": {
             "outlinewidth": 0,
             "ticks": ""
            },
            "colorscale": [
             [
              0,
              "#0d0887"
             ],
             [
              0.1111111111111111,
              "#46039f"
             ],
             [
              0.2222222222222222,
              "#7201a8"
             ],
             [
              0.3333333333333333,
              "#9c179e"
             ],
             [
              0.4444444444444444,
              "#bd3786"
             ],
             [
              0.5555555555555556,
              "#d8576b"
             ],
             [
              0.6666666666666666,
              "#ed7953"
             ],
             [
              0.7777777777777778,
              "#fb9f3a"
             ],
             [
              0.8888888888888888,
              "#fdca26"
             ],
             [
              1,
              "#f0f921"
             ]
            ],
            "type": "surface"
           }
          ],
          "table": [
           {
            "cells": {
             "fill": {
              "color": "#EBF0F8"
             },
             "line": {
              "color": "white"
             }
            },
            "header": {
             "fill": {
              "color": "#C8D4E3"
             },
             "line": {
              "color": "white"
             }
            },
            "type": "table"
           }
          ]
         },
         "layout": {
          "annotationdefaults": {
           "arrowcolor": "#2a3f5f",
           "arrowhead": 0,
           "arrowwidth": 1
          },
          "autotypenumbers": "strict",
          "coloraxis": {
           "colorbar": {
            "outlinewidth": 0,
            "ticks": ""
           }
          },
          "colorscale": {
           "diverging": [
            [
             0,
             "#8e0152"
            ],
            [
             0.1,
             "#c51b7d"
            ],
            [
             0.2,
             "#de77ae"
            ],
            [
             0.3,
             "#f1b6da"
            ],
            [
             0.4,
             "#fde0ef"
            ],
            [
             0.5,
             "#f7f7f7"
            ],
            [
             0.6,
             "#e6f5d0"
            ],
            [
             0.7,
             "#b8e186"
            ],
            [
             0.8,
             "#7fbc41"
            ],
            [
             0.9,
             "#4d9221"
            ],
            [
             1,
             "#276419"
            ]
           ],
           "sequential": [
            [
             0,
             "#0d0887"
            ],
            [
             0.1111111111111111,
             "#46039f"
            ],
            [
             0.2222222222222222,
             "#7201a8"
            ],
            [
             0.3333333333333333,
             "#9c179e"
            ],
            [
             0.4444444444444444,
             "#bd3786"
            ],
            [
             0.5555555555555556,
             "#d8576b"
            ],
            [
             0.6666666666666666,
             "#ed7953"
            ],
            [
             0.7777777777777778,
             "#fb9f3a"
            ],
            [
             0.8888888888888888,
             "#fdca26"
            ],
            [
             1,
             "#f0f921"
            ]
           ],
           "sequentialminus": [
            [
             0,
             "#0d0887"
            ],
            [
             0.1111111111111111,
             "#46039f"
            ],
            [
             0.2222222222222222,
             "#7201a8"
            ],
            [
             0.3333333333333333,
             "#9c179e"
            ],
            [
             0.4444444444444444,
             "#bd3786"
            ],
            [
             0.5555555555555556,
             "#d8576b"
            ],
            [
             0.6666666666666666,
             "#ed7953"
            ],
            [
             0.7777777777777778,
             "#fb9f3a"
            ],
            [
             0.8888888888888888,
             "#fdca26"
            ],
            [
             1,
             "#f0f921"
            ]
           ]
          },
          "colorway": [
           "#636efa",
           "#EF553B",
           "#00cc96",
           "#ab63fa",
           "#FFA15A",
           "#19d3f3",
           "#FF6692",
           "#B6E880",
           "#FF97FF",
           "#FECB52"
          ],
          "font": {
           "color": "#2a3f5f"
          },
          "geo": {
           "bgcolor": "white",
           "lakecolor": "white",
           "landcolor": "#E5ECF6",
           "showlakes": true,
           "showland": true,
           "subunitcolor": "white"
          },
          "hoverlabel": {
           "align": "left"
          },
          "hovermode": "closest",
          "mapbox": {
           "style": "light"
          },
          "paper_bgcolor": "white",
          "plot_bgcolor": "#E5ECF6",
          "polar": {
           "angularaxis": {
            "gridcolor": "white",
            "linecolor": "white",
            "ticks": ""
           },
           "bgcolor": "#E5ECF6",
           "radialaxis": {
            "gridcolor": "white",
            "linecolor": "white",
            "ticks": ""
           }
          },
          "scene": {
           "xaxis": {
            "backgroundcolor": "#E5ECF6",
            "gridcolor": "white",
            "gridwidth": 2,
            "linecolor": "white",
            "showbackground": true,
            "ticks": "",
            "zerolinecolor": "white"
           },
           "yaxis": {
            "backgroundcolor": "#E5ECF6",
            "gridcolor": "white",
            "gridwidth": 2,
            "linecolor": "white",
            "showbackground": true,
            "ticks": "",
            "zerolinecolor": "white"
           },
           "zaxis": {
            "backgroundcolor": "#E5ECF6",
            "gridcolor": "white",
            "gridwidth": 2,
            "linecolor": "white",
            "showbackground": true,
            "ticks": "",
            "zerolinecolor": "white"
           }
          },
          "shapedefaults": {
           "line": {
            "color": "#2a3f5f"
           }
          },
          "ternary": {
           "aaxis": {
            "gridcolor": "white",
            "linecolor": "white",
            "ticks": ""
           },
           "baxis": {
            "gridcolor": "white",
            "linecolor": "white",
            "ticks": ""
           },
           "bgcolor": "#E5ECF6",
           "caxis": {
            "gridcolor": "white",
            "linecolor": "white",
            "ticks": ""
           }
          },
          "title": {
           "x": 0.05
          },
          "xaxis": {
           "automargin": true,
           "gridcolor": "white",
           "linecolor": "white",
           "ticks": "",
           "title": {
            "standoff": 15
           },
           "zerolinecolor": "white",
           "zerolinewidth": 2
          },
          "yaxis": {
           "automargin": true,
           "gridcolor": "white",
           "linecolor": "white",
           "ticks": "",
           "title": {
            "standoff": 15
           },
           "zerolinecolor": "white",
           "zerolinewidth": 2
          }
         }
        },
        "title": {
         "text": "Nike Factory Locations all around the World"
        }
       }
      }
     },
     "metadata": {},
     "output_type": "display_data"
    }
   ],
   "source": [
    "# geomap of factories\n",
    "fig = go.Figure(data=go.Scattergeo(\n",
    "        lon = df['Longitude'],\n",
    "        lat = df['Latitude'],\n",
    "        text = df['City'],\n",
    "        mode = 'markers'\n",
    "        ))\n",
    "\n",
    "fig.update_layout(\n",
    "        title = 'Nike Factory Locations all around the World',\n",
    "        geo_scope='world',\n",
    "    )\n",
    "fig.show()"
   ]
  },
  {
   "cell_type": "markdown",
   "metadata": {},
   "source": [
    "Most of the factories are placed in Asia and the rest majority ones are in mostly Europe and North America"
   ]
  },
  {
   "cell_type": "code",
   "execution_count": 78,
   "metadata": {},
   "outputs": [
    {
     "data": {
      "application/vnd.plotly.v1+json": {
       "config": {
        "plotlyServerURL": "https://plot.ly"
       },
       "data": [
        {
         "hovertemplate": "<b>%{hovertext}</b><br><br>Continent=North America<br>Total Workers=%{marker.size}<br>Country=%{y}<extra></extra>",
         "hovertext": [
          "OREGON",
          "GUATEMALA",
          null,
          "SANTA BARBARA",
          "ALABAMA",
          "NORTH CAROLINA",
          "TEXAS",
          "VIRGINIA",
          "OR",
          "TEXAS",
          "TEXAS",
          "INDIANA",
          "MISSISSIPPI",
          "TEXAS",
          "PUEBLA",
          "SONORA",
          "CAMPECHE",
          "GUATEMALA",
          "TENNESSEE",
          "LA LIBERTAD",
          "BAJA CALIFORNIA",
          "ONTARIO",
          "CORTES",
          "OREGON",
          "OREGON",
          "JALISCO",
          "COLON",
          "YORO",
          "ILLINOIS",
          "CALIFORNIA",
          "PENNSYLVANIA",
          "CORTES",
          "QUEBEC",
          "CALIFORNIA",
          "ESTADO DE MEXICO",
          null,
          "GA",
          "ONTARIO",
          "OREGON",
          "WASHINGTON",
          "OREGON",
          "SONORA",
          "QUEBEC",
          "VIRGINIA",
          "QUERÉTARO",
          "CALIFORNIA",
          null,
          "MASSACHUSETTS",
          null,
          "OREGON",
          "CALIFORNIA",
          "GUANAJUATO",
          "MISSOURI",
          "MISSOURI",
          "SAN SALVADOR",
          "CALIFORNIA",
          "WISCONSIN",
          "NEW YORK",
          "MISSOURI",
          "TENNESSEE",
          "BC",
          "OREGON",
          "CALIFORNIA",
          "NORTH CAROLINA",
          "NORTH CAROLINA",
          "CORTÉS",
          "IOWA",
          "IOWA",
          "SANTA ANA",
          "WISCONSIN",
          "FLORIDA",
          "IOWA",
          "DEPTO DE LA PAZ",
          "ESTADO  DE MEXICO",
          "PENNSYLVANIA",
          "OREGON",
          "YUCATAN",
          "YUCATAN, MEXICO",
          "CP",
          "NEW JERSEY"
         ],
         "legendgroup": "North America",
         "marker": {
          "color": "#636efa",
          "size": [
           94,
           191,
           3963,
           0,
           60,
           114,
           87,
           230,
           31,
           39,
           49,
           177,
           87,
           206,
           15,
           1109,
           189,
           2305,
           59,
           804,
           813,
           100,
           2197,
           24,
           131,
           5590,
           4686,
           2858,
           98,
           33,
           34,
           2197,
           4,
           121,
           248,
           498,
           42,
           46,
           7,
           134,
           60,
           1542,
           87,
           24,
           1244,
           180,
           634,
           104,
           1813,
           110,
           89,
           363,
           560,
           94,
           0,
           168,
           157,
           47,
           47,
           95,
           165,
           13,
           77,
           352,
           249,
           3709,
           531,
           73,
           1839,
           270,
           186,
           29,
           2246,
           377,
           47,
           16,
           2099,
           240,
           630,
           70
          ],
          "sizemode": "area",
          "sizeref": 6.87,
          "symbol": "circle"
         },
         "mode": "markers",
         "name": "North America",
         "orientation": "h",
         "showlegend": true,
         "type": "scatter",
         "x": [
          94,
          191,
          3963,
          0,
          60,
          114,
          87,
          230,
          31,
          39,
          49,
          177,
          87,
          206,
          15,
          1109,
          189,
          2305,
          59,
          804,
          813,
          100,
          2197,
          24,
          131,
          5590,
          4686,
          2858,
          98,
          33,
          34,
          2197,
          4,
          121,
          248,
          498,
          42,
          46,
          7,
          134,
          60,
          1542,
          87,
          24,
          1244,
          180,
          634,
          104,
          1813,
          110,
          89,
          363,
          560,
          94,
          0,
          168,
          157,
          47,
          47,
          95,
          165,
          13,
          77,
          352,
          249,
          3709,
          531,
          73,
          1839,
          270,
          186,
          29,
          2246,
          377,
          47,
          16,
          2099,
          240,
          630,
          70
         ],
         "xaxis": "x",
         "y": [
          "USA",
          "GUATEMALA",
          "NICARAGUA",
          "HONDURAS",
          "USA",
          "USA",
          "USA",
          "USA",
          "USA",
          "USA",
          "USA",
          "USA",
          "USA",
          "USA",
          "MEXICO",
          "MEXICO",
          "MEXICO",
          "GUATEMALA",
          "USA",
          "EL SALVADOR",
          "MEXICO",
          "CANADA",
          "HONDURAS",
          "USA",
          "USA",
          "MEXICO",
          "HONDURAS",
          "HONDURAS",
          "USA",
          "USA",
          "USA",
          "HONDURAS",
          "CANADA",
          "USA",
          "MEXICO",
          "GUATEMALA",
          "USA",
          "CANADA",
          "USA",
          "USA",
          "USA",
          "MEXICO",
          "CANADA",
          "USA",
          "MEXICO",
          "USA",
          "GUATEMALA",
          "USA",
          "NICARAGUA",
          "USA",
          "USA",
          "MEXICO",
          "USA",
          "USA",
          "EL SALVADOR",
          "USA",
          "USA",
          "USA",
          "USA",
          "USA",
          "MEXICO",
          "USA",
          "USA",
          "USA",
          "USA",
          "HONDURAS",
          "USA",
          "USA",
          "EL SALVADOR",
          "USA",
          "USA",
          "USA",
          "EL SALVADOR",
          "MEXICO",
          "USA",
          "USA",
          "MEXICO",
          "MEXICO",
          "MEXICO",
          "USA"
         ],
         "yaxis": "y"
        },
        {
         "hovertemplate": "<b>%{hovertext}</b><br><br>Continent=Asia<br>Total Workers=%{marker.size}<br>Country=%{y}<extra></extra>",
         "hovertext": [
          "DONG NAI",
          "NINH BINH PROVINCE.",
          "SAMEGRELO-ZEMO SVANETI",
          "VUNG TAU PROVINCE",
          "ANHUI",
          "THAN HOA",
          "SRI LANKA",
          "DONG NAI",
          "NARA PREFECTURE",
          null,
          "BUSAN",
          "BANTEN",
          "BINH DUONG",
          "SRI LANKA",
          "WESTERN PROVINCE",
          "WESTERN PROVINCE",
          "SRI LANKA",
          "T'AI-PEI",
          "JIANGSU",
          "KYUNGGI-DO",
          "GUANGDONG",
          "TAY NINH PROVINCE",
          "HO CHI MINH",
          "WEST JAVA",
          "DONG NAI",
          "DONG NAI",
          "KOREA",
          "T'AI-PEI",
          "JIANGSU",
          "KAO-HSIUNG",
          null,
          "TAIWAN, R.O.C.",
          "TIEN GIANG",
          "JIANGXI",
          "JAWA BARAT",
          "POUTHISAT",
          "BINH CHIEU WARD, THU DUC DISTRICT",
          "DUZCE",
          "BINH DINH",
          null,
          "BANGLADESH",
          null,
          "DONG NAI",
          "DONG NAI  PROVINCE",
          "DONG NAI",
          "DONG NAI",
          "GUANGDONG",
          "GUANGDONG",
          "GUANGDONG",
          "T'AI-PEI",
          "GUANGDONG",
          "GUANGDONG",
          "GUANGDONG",
          "GUANGDONG",
          "SHENZHEN",
          "DONG NAI PROVINCE",
          "BUSAN",
          "GUANGDONG",
          "GYEONGGI",
          "JIANGXI",
          "CHENNAI",
          "GUMMA",
          "BA RIA-VUNG TAU",
          "DONG NAI",
          "T'AI-WAN",
          "HOA BINH",
          "BANGKOK",
          "BINH DUONG",
          "BA RIA – VUNG TAU PROVINCE",
          "KARNATAKA",
          "BINH DUONG PROVINCE",
          "T'AI-WAN",
          "SHANGHAI",
          "CENTRAL",
          "TAMIL NADU",
          "JIANGSU",
          "JIANGSU",
          "BINH DUONG",
          "BINH PHUOC",
          "T'AI-PEI",
          "DONG NAI",
          "DONG NAI",
          "DONG NAI",
          "YUNLIN COUNTY",
          "DHAKA",
          "GUANGDONG",
          "KANDAL",
          "T'AI-WAN",
          "JAKARTA",
          "GUANGDONG",
          null,
          "JIANGSU",
          "LONG AN",
          "CHOONGNAM",
          "DONG NAI",
          null,
          "FUJIAN",
          "FUJIAN",
          "FUJIAN",
          "FUJIAN",
          "LONG AN",
          "FUJIAN",
          "BANGKOK METROPOLIS",
          "TAY NINH",
          "BUSAN",
          "BINH DUONG",
          "GUANGDONG",
          "TIEN GIANG",
          "BINH DUONG PROVINCE",
          "GUANGDONG",
          "LONG AN",
          "BINH DUONG",
          "HA NOI",
          "ZHEJIANG",
          "TIEN GIANG",
          "HO CHI MINH",
          "KYOTO-FU",
          "KANDAL",
          "SAMUTPRAKARN",
          null,
          "CHAIYAPHUM",
          "BANGKOK",
          "CHAIYAPHUM",
          "QUANG NAM",
          "T'AI-PEI",
          null,
          "BANGKOK",
          "LONG AN",
          "JOHOR",
          "JIANGSU",
          "FUJIAN",
          "JIANGSU",
          "TAIWAN",
          "GUANGDONG",
          "GUANGDONG",
          "GUANGDONG",
          "HUNG YEN",
          "HO CHI MINH CITY",
          "T'AI-WAN",
          "PUNJAB",
          "TAMIL NADU",
          "GUANGDONG",
          "SHE-TOU SHANG",
          "JIANGSU",
          "JIANGSU",
          "JIANGSU",
          "JIANGSU",
          "JIANGXI",
          "ZHEJIANG",
          "ZHEJIANG",
          "ZHEJIANG",
          "SHANDONG",
          "NORTH  WESTURN",
          "BUSAN",
          "TAY NINH",
          "T'AI-WAN",
          "NARA",
          "KAOH KONG",
          "JIANGSU",
          "GUANGDONG",
          "DONG NAI",
          "BINH DUONG",
          "BINH DUONG PROVINCE",
          "KAGAWA",
          null,
          "SABARAGAMUWA",
          "GUANGDONG",
          "LONG AN",
          "GUANGDONG",
          "GUANGDONG",
          "GUANGDONG",
          "GUANGDONG",
          "GUANGDONG",
          "TAMIL NADU",
          "TAMIL NADU",
          "THANH PHO HO CHI MINH",
          "PUNJAB",
          "WESTERN PROVINCE",
          "CENTRAL PROVINCE",
          "WESTERN PROVINCE",
          "WESTERN",
          "SRI LANKA",
          "SRI LANKA",
          "TAMIL NADU",
          "SRI LANKA",
          "SRI LANKA",
          "NARA",
          "NAM DINH",
          "NAM DINH",
          "T'AI-WAN",
          "DONG NAI",
          "ISTANBUL",
          "ADJARA",
          "SOUTH GYEONGSANG",
          "NAM DINH",
          "HUNG YEN",
          "HO CHI MINH",
          null,
          "BANGKOK",
          "PICHIT",
          "NAKORNPATOM",
          "T'AI-WAN",
          "ZHEJIANG",
          null,
          "NONTHABURI",
          "KHONKAEN",
          "NORTHERN",
          "JIANGSU",
          "ZHEJIANG",
          "ZHEJIANG",
          "ZHEJIANG",
          "ZHEJIANG",
          "ZHEJIANG",
          "ZHEJIANG",
          "ZHEJIANG",
          "ZHEJIANG",
          "ZHEJIANG",
          "LIAONING",
          "NORTHERN",
          "AN GIANG",
          "NARA",
          "JIANGSU",
          "PRACHINBURI",
          "KAMPOT",
          "SAMUTSAKORN",
          "AN GIANG",
          "NORTHEASTERN",
          "GUANGDONG",
          "GUANGDONG",
          "SAMUTSAKHON",
          "JORDAN",
          "ZHEJIANG",
          "JIANGXI",
          "GUANGDONG",
          "T'AI-WAN",
          "TAIWAN",
          "DONG NAI",
          "MADHYA PRADESH",
          "PRC",
          "JAWA TENGAH",
          "GUANGDONG",
          "DONG NAI",
          "T'AI-WAN",
          "T'AI-WAN",
          "DONG NAI",
          "DI YOGYAKARTA",
          "BANTEN",
          "BANTEN",
          "JAWA BARAT",
          "DKI JAKARTA",
          "JAWA BARAT (WEST JAVA)",
          "DKI JAKARTA",
          "BANTEN",
          "WEST JAVA",
          "DKI JAKARTA",
          "WEST JAVA",
          "BANTEN",
          "WEST JAVA",
          "WEST JAVA",
          "KECAMATAN BERGAS",
          "BANTEN",
          "JAWA TENGAH",
          "BANTEN",
          "WEST JAVA",
          "CENTRAL JAVA",
          "CENTRAL JAVA",
          "WEST JAVA",
          "BANTEN",
          "BANTEN",
          "BANTEN",
          "CENTRAL JAVA",
          "BANTEN",
          "BANTEN",
          "WEST JAVA",
          "JAWA BARAT, WEST JAVA",
          "WEST JAVA",
          "JAWA TENGAH",
          "CENTRAL JAVA",
          "JAWA BARAT",
          "JAWA BARAT",
          "WEST JAVA",
          "JAWA BARAT",
          "SHANDONG",
          "SHANDONG",
          "SHANDONG",
          "SHANDONG",
          "SHANDONG",
          "SHANDONG",
          "SHANDONG",
          "TIEN GIANG",
          "HO CHI MINH",
          "FUJIAN",
          "FUJIAN",
          "CHONBURI",
          "JIANGSU",
          "JIANGSU",
          "JIANGSU",
          null,
          "NORTHEASTERN",
          "T'AI-WAN",
          "GUANGDONG",
          "ZHEJIANG",
          "GUANGDONG ,  CHINA",
          "KAMPONG SPEU PROVINCE",
          "CENTRAL",
          "CENTRAL",
          "BINH DUONG",
          "SERANG",
          null,
          "THANH PHO HO CHI MINH",
          "GUANGDONG",
          "CHIBA",
          "DONG NAI PROVINCE",
          "KUMAMOTO",
          "KUMAMOTO",
          "UVA",
          "JIANGXI",
          "SHANGHAI",
          "HUNAN",
          "HUNAN",
          "PLUAK DANG",
          null,
          "GUANGDONG",
          "GUANGDONG",
          "BANTEN",
          "GUANGDONG",
          "GUANGDONG",
          "GUANGDONG",
          "HUNAN",
          "PUNJAB",
          "PANJAB",
          null,
          "NAM DINH",
          "JOHOR",
          "JIANGSU",
          "PENANG",
          "MAHARASTRA",
          null,
          "HARYANA",
          "HIMACHAL PRADESH",
          "T'AI-WAN",
          "JORDAN",
          "JORDAN",
          "PUNJAB",
          "PUNJAB",
          "PUNJAB",
          "JIANGSU",
          "JIANGSU",
          "JIANGSU",
          "JIANGSU",
          "IBARAKI-PREF",
          "CAN THO",
          "DONG NAI",
          "TIEN GIANG",
          "DONG NAI",
          "GYUNGNAM",
          "BINH DUONG",
          "JOHOR",
          "JOHOR",
          "JOHOR",
          "T'AI-WAN",
          "TOYAMA",
          "WEST JAVA",
          "T'AI-WAN",
          "SRI LANKA",
          "SAMUTPRAKARN",
          "JIANGSU",
          "JIANGSU",
          "THANH PHO HO CHI MINH",
          "THANH PHO HO CHI MINH",
          null,
          "FUJIAN",
          "T'AI-WAN",
          "T'AI-WAN",
          "BINH DUONG PROVINCE",
          "T'AI-WAN",
          "THANH PHO HO CHI MINH",
          "GUANGDONG",
          "THAI NGUYEN",
          "GUANGXI",
          "BINH DUONG",
          null,
          "JIANGSU",
          "T'AI-WAN",
          "TOYAMA",
          "NORTHEASTERN",
          null,
          "T'AI-PEI",
          "BINH DUONG",
          "GUNMA-KEN",
          "JIANGSU",
          "DONG NAI",
          "DONG NAI",
          "GUANGDONG",
          "DONG NAI",
          "PENANG",
          null,
          "SAMUTPRAKARN",
          "UBONRATCHATHANI",
          "BEN TRE",
          "TIEN GIANG",
          "TIEN GIANG",
          "DONG NAI PROVINCE",
          "THANH PHO HO CHI MINH",
          "THANH HOA",
          "HO CHI MINH",
          "LONG AN PROVINCE",
          "TAY NINH",
          "DONG NAI",
          "THANH PHO HO CHI MINH",
          "HO CHI MINH CITY",
          "VINH LONG",
          "VINH LONG",
          "BA RIA- VUNG TAU",
          "ZHEJIANG",
          "TAIWAN",
          "SHENZHEN",
          "GUANGXI ZHUANG",
          "GUANGDONG",
          "THANH PHO HO CHI MINH",
          "GUANGDONG",
          "JIANGSU",
          "JIANGSU",
          "GUANGDONG",
          "TIEN GIANG",
          "BURSA",
          "BURSA",
          "T'AI-WAN",
          "JIANGXI PROVINCE",
          "TAICHUNG",
          "HUNAN",
          "BUSAN",
          "KOREA",
          null,
          "BINH DUONG",
          "BUSAN",
          "TAY NINH",
          "SOUTH GYEONGSANG",
          "SAMUTSAKORN",
          "T'AI-WAN",
          "GUANGDONG",
          "DONG NAI",
          "SHANDONG",
          "JIANGSU",
          "JIANGSU",
          "HUNAN",
          "ZHEJIANG",
          "ZHEJIANG",
          "ZHEJIANG",
          "JIANGSU",
          "GUANGDONG",
          "GUANGDONG",
          "GUANGDONG",
          "ZHEJIANG"
         ],
         "legendgroup": "Asia",
         "marker": {
          "color": "#EF553B",
          "size": [
           1958,
           7795,
           616,
           5313,
           372,
           14076,
           903,
           2242,
           6,
           7530,
           0,
           0,
           0,
           1090,
           5903,
           2193,
           1018,
           0,
           899,
           10,
           194,
           8951,
           2159,
           13425,
           4689,
           24732,
           824,
           0,
           815,
           0,
           50,
           94,
           2180,
           54,
           0,
           4843,
           13306,
           543,
           1780,
           307,
           2660,
           1035,
           10541,
           9469,
           14524,
           9625,
           1985,
           96,
           369,
           0,
           920,
           186,
           400,
           147,
           18,
           0,
           150,
           692,
           26,
           2439,
           5852,
           95,
           0,
           6331,
           0,
           1580,
           314,
           5187,
           2658,
           960,
           603,
           0,
           0,
           0,
           2110,
           0,
           1535,
           4345,
           3333,
           0,
           748,
           859,
           2290,
           1824,
           3178,
           6325,
           106,
           0,
           1585,
           370,
           0,
           0,
           0,
           37,
           487,
           22170,
           4008,
           3270,
           1244,
           4974,
           8627,
           200,
           452,
           0,
           0,
           0,
           0,
           1010,
           2026,
           1064,
           698,
           1244,
           396,
           50,
           5192,
           7726,
           5,
           2028,
           1217,
           684,
           1081,
           1106,
           617,
           1006,
           0,
           471,
           3414,
           858,
           1449,
           1067,
           113,
           811,
           0,
           329,
           286,
           101,
           2563,
           341,
           200,
           6578,
           3652,
           166,
           0,
           1435,
           407,
           214,
           299,
           2551,
           22,
           1698,
           145,
           1192,
           955,
           640,
           0,
           145,
           52,
           6361,
           972,
           0,
           0,
           118,
           2132,
           68,
           546,
           444,
           452,
           1300,
           5684,
           7517,
           2914,
           772,
           780,
           5974,
           7600,
           1232,
           4224,
           667,
           1608,
           1219,
           1995,
           777,
           1645,
           608,
           1814,
           2578,
           25,
           1711,
           591,
           0,
           0,
           191,
           749,
           0,
           1501,
           576,
           630,
           1339,
           1274,
           2111,
           1362,
           12,
           101,
           1732,
           1200,
           3509,
           1280,
           608,
           115,
           263,
           2143,
           124,
           0,
           1979,
           4183,
           3265,
           414,
           570,
           1391,
           718,
           74,
           207,
           674,
           1890,
           109,
           813,
           257,
           500,
           2096,
           673,
           2085,
           125,
           1401,
           1063,
           0,
           1713,
           17856,
           2488,
           158,
           2629,
           0,
           0,
           0,
           0,
           0,
           159,
           8336,
           2344,
           6239,
           1178,
           2836,
           633,
           2693,
           7123,
           1474,
           2576,
           12768,
           1038,
           562,
           2321,
           19564,
           2008,
           7918,
           19038,
           672,
           3355,
           1621,
           1561,
           1158,
           15213,
           1729,
           0,
           0,
           2671,
           992,
           12686,
           2307,
           5138,
           7441,
           1922,
           16485,
           463,
           573,
           4685,
           726,
           534,
           4323,
           903,
           2250,
           6105,
           6247,
           50,
           57,
           290,
           735,
           0,
           714,
           0,
           96,
           0,
           1417,
           361,
           53,
           5971,
           0,
           0,
           764,
           0,
           0,
           0,
           0,
           36,
           1189,
           40,
           40,
           1651,
           9751,
           33,
           1037,
           5557,
           2805,
           2345,
           42,
           57,
           0,
           155,
           1132,
           11778,
           3735,
           161,
           2129,
           149,
           2000,
           728,
           344,
           421,
           145,
           155,
           2634,
           506,
           627,
           426,
           1504,
           3557,
           385,
           2844,
           279,
           30,
           51,
           563,
           130,
           2059,
           17369,
           5088,
           10596,
           770,
           105,
           1517,
           886,
           750,
           85,
           12,
           85,
           0,
           597,
           785,
           70,
           67,
           1423,
           1334,
           0,
           0,
           0,
           0,
           0,
           0,
           2034,
           560,
           1536,
           0,
           0,
           3987,
           0,
           0,
           4,
           1944,
           60,
           0,
           902,
           37,
           85,
           351,
           1717,
           198,
           2232,
           894,
           490,
           609,
           2950,
           2291,
           1676,
           1662,
           0,
           2338,
           2249,
           2769,
           22344,
           14494,
           16821,
           171,
           2047,
           9021,
           2079,
           1481,
           930,
           11,
           1639,
           417,
           801,
           9549,
           4341,
           86,
           2953,
           114,
           838,
           2003,
           0,
           30,
           3218,
           46,
           1157,
           0,
           255,
           0,
           0,
           0,
           0,
           0,
           0,
           245,
           2515,
           1920,
           2087,
           241,
           85,
           268,
           46,
           207,
           1228,
           553,
           658,
           893,
           2434,
           116
          ],
          "sizemode": "area",
          "sizeref": 6.87,
          "symbol": "circle"
         },
         "mode": "markers",
         "name": "Asia",
         "orientation": "h",
         "showlegend": true,
         "type": "scatter",
         "x": [
          1958,
          7795,
          616,
          5313,
          372,
          14076,
          903,
          2242,
          6,
          7530,
          0,
          0,
          0,
          1090,
          5903,
          2193,
          1018,
          0,
          899,
          10,
          194,
          8951,
          2159,
          13425,
          4689,
          24732,
          824,
          0,
          815,
          0,
          50,
          94,
          2180,
          54,
          0,
          4843,
          13306,
          543,
          1780,
          307,
          2660,
          1035,
          10541,
          9469,
          14524,
          9625,
          1985,
          96,
          369,
          0,
          920,
          186,
          400,
          147,
          18,
          0,
          150,
          692,
          26,
          2439,
          5852,
          95,
          0,
          6331,
          0,
          1580,
          314,
          5187,
          2658,
          960,
          603,
          0,
          0,
          0,
          2110,
          0,
          1535,
          4345,
          3333,
          0,
          748,
          859,
          2290,
          1824,
          3178,
          6325,
          106,
          0,
          1585,
          370,
          0,
          0,
          0,
          37,
          487,
          22170,
          4008,
          3270,
          1244,
          4974,
          8627,
          200,
          452,
          0,
          0,
          0,
          0,
          1010,
          2026,
          1064,
          698,
          1244,
          396,
          50,
          5192,
          7726,
          5,
          2028,
          1217,
          684,
          1081,
          1106,
          617,
          1006,
          0,
          471,
          3414,
          858,
          1449,
          1067,
          113,
          811,
          0,
          329,
          286,
          101,
          2563,
          341,
          200,
          6578,
          3652,
          166,
          0,
          1435,
          407,
          214,
          299,
          2551,
          22,
          1698,
          145,
          1192,
          955,
          640,
          0,
          145,
          52,
          6361,
          972,
          0,
          0,
          118,
          2132,
          68,
          546,
          444,
          452,
          1300,
          5684,
          7517,
          2914,
          772,
          780,
          5974,
          7600,
          1232,
          4224,
          667,
          1608,
          1219,
          1995,
          777,
          1645,
          608,
          1814,
          2578,
          25,
          1711,
          591,
          0,
          0,
          191,
          749,
          0,
          1501,
          576,
          630,
          1339,
          1274,
          2111,
          1362,
          12,
          101,
          1732,
          1200,
          3509,
          1280,
          608,
          115,
          263,
          2143,
          124,
          0,
          1979,
          4183,
          3265,
          414,
          570,
          1391,
          718,
          74,
          207,
          674,
          1890,
          109,
          813,
          257,
          500,
          2096,
          673,
          2085,
          125,
          1401,
          1063,
          0,
          1713,
          17856,
          2488,
          158,
          2629,
          0,
          0,
          0,
          0,
          0,
          159,
          8336,
          2344,
          6239,
          1178,
          2836,
          633,
          2693,
          7123,
          1474,
          2576,
          12768,
          1038,
          562,
          2321,
          19564,
          2008,
          7918,
          19038,
          672,
          3355,
          1621,
          1561,
          1158,
          15213,
          1729,
          0,
          0,
          2671,
          992,
          12686,
          2307,
          5138,
          7441,
          1922,
          16485,
          463,
          573,
          4685,
          726,
          534,
          4323,
          903,
          2250,
          6105,
          6247,
          50,
          57,
          290,
          735,
          0,
          714,
          0,
          96,
          0,
          1417,
          361,
          53,
          5971,
          0,
          0,
          764,
          0,
          0,
          0,
          0,
          36,
          1189,
          40,
          40,
          1651,
          9751,
          33,
          1037,
          5557,
          2805,
          2345,
          42,
          57,
          0,
          155,
          1132,
          11778,
          3735,
          161,
          2129,
          149,
          2000,
          728,
          344,
          421,
          145,
          155,
          2634,
          506,
          627,
          426,
          1504,
          3557,
          385,
          2844,
          279,
          30,
          51,
          563,
          130,
          2059,
          17369,
          5088,
          10596,
          770,
          105,
          1517,
          886,
          750,
          85,
          12,
          85,
          0,
          597,
          785,
          70,
          67,
          1423,
          1334,
          0,
          0,
          0,
          0,
          0,
          0,
          2034,
          560,
          1536,
          0,
          0,
          3987,
          0,
          0,
          4,
          1944,
          60,
          0,
          902,
          37,
          85,
          351,
          1717,
          198,
          2232,
          894,
          490,
          609,
          2950,
          2291,
          1676,
          1662,
          0,
          2338,
          2249,
          2769,
          22344,
          14494,
          16821,
          171,
          2047,
          9021,
          2079,
          1481,
          930,
          11,
          1639,
          417,
          801,
          9549,
          4341,
          86,
          2953,
          114,
          838,
          2003,
          0,
          30,
          3218,
          46,
          1157,
          0,
          255,
          0,
          0,
          0,
          0,
          0,
          0,
          245,
          2515,
          1920,
          2087,
          241,
          85,
          268,
          46,
          207,
          1228,
          553,
          658,
          893,
          2434,
          116
         ],
         "xaxis": "x",
         "y": [
          "VIETNAM",
          "VIETNAM",
          "GEORGIA",
          "VIETNAM",
          "CHINA",
          "VIETNAM",
          "SRI LANKA",
          "VIETNAM",
          "JAPAN",
          "VIETNAM",
          "SOUTH KOREA",
          "INDONESIA",
          "VIETNAM",
          "SRI LANKA",
          "SRI LANKA",
          "SRI LANKA",
          "SRI LANKA",
          "TAIWAN",
          "CHINA",
          "SOUTH KOREA",
          "CHINA",
          "VIETNAM",
          "VIETNAM",
          "INDONESIA",
          "VIETNAM",
          "VIETNAM",
          "SOUTH KOREA",
          "TAIWAN",
          "CHINA",
          "TAIWAN",
          "TAIWAN",
          "TAIWAN",
          "VIETNAM",
          "CHINA",
          "INDONESIA",
          "CAMBODIA",
          "VIETNAM",
          "TURKEY",
          "VIETNAM",
          "ISRAEL",
          "BANGLADESH",
          "SRI LANKA",
          "VIETNAM",
          "VIETNAM",
          "VIETNAM",
          "VIETNAM",
          "CHINA",
          "CHINA",
          "CHINA",
          "TAIWAN",
          "CHINA",
          "CHINA",
          "CHINA",
          "CHINA",
          "CHINA",
          "VIETNAM",
          "SOUTH KOREA",
          "CHINA",
          "SOUTH KOREA",
          "CHINA",
          "INDIA",
          "JAPAN",
          "VIETNAM",
          "VIETNAM",
          "TAIWAN",
          "VIETNAM",
          "THAILAND",
          "VIETNAM",
          "VIETNAM",
          "INDIA",
          "VIETNAM",
          "TAIWAN",
          "CHINA",
          "THAILAND",
          "INDIA",
          "CHINA",
          "CHINA",
          "VIETNAM",
          "VIETNAM",
          "TAIWAN",
          "VIETNAM",
          "VIETNAM",
          "VIETNAM",
          "TAIWAN",
          "BANGLADESH",
          "CHINA",
          "CAMBODIA",
          "TAIWAN",
          "INDONESIA",
          "CHINA",
          "TAIWAN",
          "CHINA",
          "VIETNAM",
          "SOUTH KOREA",
          "VIETNAM",
          "VIETNAM",
          "CHINA",
          "CHINA",
          "CHINA",
          "CHINA",
          "VIETNAM",
          "CHINA",
          "THAILAND",
          "VIETNAM",
          "SOUTH KOREA",
          "VIETNAM",
          "CHINA",
          "VIETNAM",
          "VIETNAM",
          "CHINA",
          "VIETNAM",
          "VIETNAM",
          "VIETNAM",
          "CHINA",
          "VIETNAM",
          "VIETNAM",
          "JAPAN",
          "CAMBODIA",
          "THAILAND",
          "THAILAND",
          "THAILAND",
          "THAILAND",
          "THAILAND",
          "VIETNAM",
          "TAIWAN",
          "THAILAND",
          "THAILAND",
          "VIETNAM",
          "MALAYSIA",
          "CHINA",
          "CHINA",
          "CHINA",
          "TAIWAN",
          "CHINA",
          "CHINA",
          "CHINA",
          "VIETNAM",
          "VIETNAM",
          "TAIWAN",
          "PAKISTAN",
          "INDIA",
          "CHINA",
          "TAIWAN",
          "CHINA",
          "CHINA",
          "CHINA",
          "CHINA",
          "CHINA",
          "CHINA",
          "CHINA",
          "CHINA",
          "CHINA",
          "SRI LANKA",
          "SOUTH KOREA",
          "VIETNAM",
          "TAIWAN",
          "JAPAN",
          "CAMBODIA",
          "CHINA",
          "CHINA",
          "VIETNAM",
          "VIETNAM",
          "VIETNAM",
          "JAPAN",
          "TAIWAN",
          "SRI LANKA",
          "CHINA",
          "VIETNAM",
          "CHINA",
          "CHINA",
          "CHINA",
          "CHINA",
          "CHINA",
          "INDIA",
          "INDIA",
          "VIETNAM",
          "PAKISTAN",
          "SRI LANKA",
          "SRI LANKA",
          "SRI LANKA",
          "SRI LANKA",
          "SRI LANKA",
          "SRI LANKA",
          "INDIA",
          "SRI LANKA",
          "SRI LANKA",
          "JAPAN",
          "VIETNAM",
          "VIETNAM",
          "TAIWAN",
          "VIETNAM",
          "TURKEY",
          "GEORGIA",
          "SOUTH KOREA",
          "VIETNAM",
          "VIETNAM",
          "VIETNAM",
          "THAILAND",
          "THAILAND",
          "THAILAND",
          "THAILAND",
          "TAIWAN",
          "CHINA",
          "THAILAND",
          "THAILAND",
          "THAILAND",
          "THAILAND",
          "CHINA",
          "CHINA",
          "CHINA",
          "CHINA",
          "CHINA",
          "CHINA",
          "CHINA",
          "CHINA",
          "CHINA",
          "CHINA",
          "CHINA",
          "THAILAND",
          "VIETNAM",
          "JAPAN",
          "CHINA",
          "THAILAND",
          "CAMBODIA",
          "THAILAND",
          "VIETNAM",
          "THAILAND",
          "CHINA",
          "CHINA",
          "THAILAND",
          "JORDAN",
          "CHINA",
          "CHINA",
          "CHINA",
          "TAIWAN",
          "TAIWAN",
          "VIETNAM",
          "INDIA",
          "CHINA",
          "INDONESIA",
          "CHINA",
          "VIETNAM",
          "TAIWAN",
          "TAIWAN",
          "VIETNAM",
          "INDONESIA",
          "INDONESIA",
          "INDONESIA",
          "INDONESIA",
          "INDONESIA",
          "INDONESIA",
          "INDONESIA",
          "INDONESIA",
          "INDONESIA",
          "INDONESIA",
          "INDONESIA",
          "INDONESIA",
          "INDONESIA",
          "INDONESIA",
          "INDONESIA",
          "INDONESIA",
          "INDONESIA",
          "INDONESIA",
          "INDONESIA",
          "INDONESIA",
          "INDONESIA",
          "INDONESIA",
          "INDONESIA",
          "INDONESIA",
          "INDONESIA",
          "INDONESIA",
          "INDONESIA",
          "INDONESIA",
          "INDONESIA",
          "INDONESIA",
          "INDONESIA",
          "INDONESIA",
          "INDONESIA",
          "INDONESIA",
          "INDONESIA",
          "INDONESIA",
          "INDONESIA",
          "CHINA",
          "CHINA",
          "CHINA",
          "CHINA",
          "CHINA",
          "CHINA",
          "CHINA",
          "VIETNAM",
          "VIETNAM",
          "CHINA",
          "CHINA",
          "THAILAND",
          "CHINA",
          "CHINA",
          "CHINA",
          "MALAYSIA",
          "THAILAND",
          "TAIWAN",
          "CHINA",
          "CHINA",
          "CHINA",
          "CAMBODIA",
          "THAILAND",
          "THAILAND",
          "VIETNAM",
          "INDONESIA",
          "TAIWAN",
          "VIETNAM",
          "CHINA",
          "JAPAN",
          "VIETNAM",
          "JAPAN",
          "JAPAN",
          "SRI LANKA",
          "CHINA",
          "CHINA",
          "CHINA",
          "CHINA",
          "THAILAND",
          "CAMBODIA",
          "CHINA",
          "CHINA",
          "INDONESIA",
          "CHINA",
          "CHINA",
          "CHINA",
          "CHINA",
          "PAKISTAN",
          "PAKISTAN",
          "VIETNAM",
          "VIETNAM",
          "MALAYSIA",
          "CHINA",
          "MALAYSIA",
          "INDIA",
          "VIETNAM",
          "INDIA",
          "INDIA",
          "TAIWAN",
          "JORDAN",
          "JORDAN",
          "PAKISTAN",
          "PAKISTAN",
          "PAKISTAN",
          "CHINA",
          "CHINA",
          "CHINA",
          "CHINA",
          "JAPAN",
          "VIETNAM",
          "VIETNAM",
          "VIETNAM",
          "VIETNAM",
          "SOUTH KOREA",
          "VIETNAM",
          "MALAYSIA",
          "MALAYSIA",
          "MALAYSIA",
          "TAIWAN",
          "JAPAN",
          "INDONESIA",
          "TAIWAN",
          "SRI LANKA",
          "THAILAND",
          "CHINA",
          "CHINA",
          "VIETNAM",
          "VIETNAM",
          "TAIWAN",
          "CHINA",
          "TAIWAN",
          "TAIWAN",
          "VIETNAM",
          "TAIWAN",
          "VIETNAM",
          "CHINA",
          "VIETNAM",
          "CHINA",
          "VIETNAM",
          "CAMBODIA",
          "CHINA",
          "TAIWAN",
          "JAPAN",
          "THAILAND",
          "VIETNAM",
          "TAIWAN",
          "VIETNAM",
          "JAPAN",
          "CHINA",
          "VIETNAM",
          "VIETNAM",
          "CHINA",
          "VIETNAM",
          "MALAYSIA",
          "THAILAND",
          "THAILAND",
          "THAILAND",
          "VIETNAM",
          "VIETNAM",
          "VIETNAM",
          "VIETNAM",
          "VIETNAM",
          "VIETNAM",
          "VIETNAM",
          "VIETNAM",
          "VIETNAM",
          "VIETNAM",
          "VIETNAM",
          "VIETNAM",
          "VIETNAM",
          "VIETNAM",
          "VIETNAM",
          "CHINA",
          "TAIWAN",
          "CHINA",
          "CHINA",
          "CHINA",
          "VIETNAM",
          "CHINA",
          "CHINA",
          "CHINA",
          "CHINA",
          "VIETNAM",
          "TURKEY",
          "TURKEY",
          "TAIWAN",
          "CHINA",
          "TAIWAN",
          "CHINA",
          "SOUTH KOREA",
          "SOUTH KOREA",
          "SOUTH KOREA",
          "VIETNAM",
          "SOUTH KOREA",
          "VIETNAM",
          "SOUTH KOREA",
          "THAILAND",
          "TAIWAN",
          "CHINA",
          "VIETNAM",
          "CHINA",
          "CHINA",
          "CHINA",
          "CHINA",
          "CHINA",
          "CHINA",
          "CHINA",
          "CHINA",
          "CHINA",
          "CHINA",
          "CHINA",
          "CHINA"
         ],
         "yaxis": "y"
        },
        {
         "hovertemplate": "<b>%{hovertext}</b><br><br>Continent=South America<br>Total Workers=%{marker.size}<br>Country=%{y}<extra></extra>",
         "hovertext": [
          "BUENOS AIRES ",
          "RS",
          "RS",
          "RS",
          "ES",
          "RS",
          "RS",
          "CEARÁ",
          "MENDOZA",
          "RIO GRANDE DO SUL",
          "ARGENTINA",
          "CEARA",
          "RS",
          "MISIONES",
          "BAHIA - BA",
          "RS",
          "BAHIA",
          "BAHIA",
          "SC",
          "RIO GRANDE DO SUL",
          "BUENOS AIRES",
          "SAN PAULO BRAZIL",
          "SC",
          "PICHINCHA",
          "SP",
          "BERAZATEGUI",
          "RS",
          "SANTA CATARINA",
          "SAO PAULO",
          "RIO GRANDE DO SUL",
          "RIO GRANDE DO SUL",
          "BUENOS AIRES",
          "BUENOS AIRES",
          "RIO GRANDE DO SUL",
          "BUENOS AIRES",
          "BUENOS AIRES",
          "BUENOS AIRES",
          "BUENOS AIRES",
          "BUENOS AIRES",
          "SANTA CATARINA",
          "BUENOS AIRES",
          "BUENOS AIRES",
          "RIO GRANDE DO SUL",
          "BUENOS AIRES",
          "RS"
         ],
         "legendgroup": "South America",
         "marker": {
          "color": "#00cc96",
          "size": [
           7,
           490,
           34,
           42,
           64,
           83,
           31,
           4440,
           35,
           118,
           152,
           1972,
           873,
           1251,
           1289,
           32,
           3500,
           2589,
           562,
           176,
           93,
           90,
           44,
           754,
           52,
           20,
           89,
           285,
           39,
           568,
           0,
           44,
           800,
           164,
           11,
           398,
           323,
           264,
           145,
           308,
           185,
           75,
           66,
           28,
           95
          ],
          "sizemode": "area",
          "sizeref": 6.87,
          "symbol": "circle"
         },
         "mode": "markers",
         "name": "South America",
         "orientation": "h",
         "showlegend": true,
         "type": "scatter",
         "x": [
          7,
          490,
          34,
          42,
          64,
          83,
          31,
          4440,
          35,
          118,
          152,
          1972,
          873,
          1251,
          1289,
          32,
          3500,
          2589,
          562,
          176,
          93,
          90,
          44,
          754,
          52,
          20,
          89,
          285,
          39,
          568,
          0,
          44,
          800,
          164,
          11,
          398,
          323,
          264,
          145,
          308,
          185,
          75,
          66,
          28,
          95
         ],
         "xaxis": "x",
         "y": [
          "ARGENTINA",
          "BRAZIL",
          "BRAZIL",
          "BRAZIL",
          "BRAZIL",
          "BRAZIL",
          "BRAZIL",
          "BRAZIL",
          "ARGENTINA",
          "BRAZIL",
          "ARGENTINA",
          "BRAZIL",
          "BRAZIL",
          "ARGENTINA",
          "BRAZIL",
          "BRAZIL",
          "BRAZIL",
          "BRAZIL",
          "BRAZIL",
          "BRAZIL",
          "ARGENTINA",
          "BRAZIL",
          "BRAZIL",
          "ECUADOR",
          "BRAZIL",
          "ARGENTINA",
          "BRAZIL",
          "BRAZIL",
          "BRAZIL",
          "BRAZIL",
          "BRAZIL",
          "ARGENTINA",
          "ARGENTINA",
          "BRAZIL",
          "ARGENTINA",
          "ARGENTINA",
          "ARGENTINA",
          "ARGENTINA",
          "ARGENTINA",
          "BRAZIL",
          "ARGENTINA",
          "ARGENTINA",
          "BRAZIL",
          "ARGENTINA",
          "BRAZIL"
         ],
         "yaxis": "y"
        },
        {
         "hovertemplate": "<b>%{hovertext}</b><br><br>Continent=Europe<br>Total Workers=%{marker.size}<br>Country=%{y}<extra></extra>",
         "hovertext": [
          null,
          null,
          "CEADIR LUNGA ",
          null,
          null,
          "LOMBARDIA",
          "ABRUZZI",
          null,
          "VERONA",
          "VENETO",
          "TV",
          "ISTRIA",
          "MARCHE",
          "BADEN-WURTTEMBERG",
          null,
          "ENGLAND",
          "CENTRAL GREECE & EVVOIA",
          null,
          "VENETO",
          "MUTILVA BAJA",
          "VENETO",
          null,
          "VENETO",
          "SCOTLAND",
          "PIEMONTE",
          "VERESE",
          null,
          "LOMBARDIA",
          null,
          "ANDALUCIA",
          "BARCELONA",
          "BANJA LUKA",
          "TREVISO",
          "ILE-DE-FRANCE"
         ],
         "legendgroup": "Europe",
         "marker": {
          "color": "#ab63fa",
          "size": [
           335,
           387,
           283,
           354,
           15,
           16,
           360,
           610,
           230,
           51,
           14,
           72,
           13,
           10,
           7,
           78,
           10,
           18,
           15,
           5,
           23,
           269,
           315,
           18,
           95,
           28,
           20,
           103,
           25,
           14,
           14,
           1944,
           18,
           17
          ],
          "sizemode": "area",
          "sizeref": 6.87,
          "symbol": "circle"
         },
         "mode": "markers",
         "name": "Europe",
         "orientation": "h",
         "showlegend": true,
         "type": "scatter",
         "x": [
          335,
          387,
          283,
          354,
          15,
          16,
          360,
          610,
          230,
          51,
          14,
          72,
          13,
          10,
          7,
          78,
          10,
          18,
          15,
          5,
          23,
          269,
          315,
          18,
          95,
          28,
          20,
          103,
          25,
          14,
          14,
          1944,
          18,
          17
         ],
         "xaxis": "x",
         "y": [
          "MOLDOVA",
          "MOLDOVA",
          "MOLDOVA",
          "MOLDOVA",
          "NETHERLANDS",
          "ITALY",
          "ITALY",
          "BULGARIA",
          "ITALY",
          "ITALY",
          "ITALY",
          "CROATIA",
          "ITALY",
          "GERMANY",
          "SPAIN",
          "UNITED KINGDOM",
          "GREECE",
          "ITALY",
          "ITALY",
          "SPAIN",
          "ITALY",
          "POLAND",
          "ITALY",
          "UNITED KINGDOM",
          "ITALY",
          "ITALY",
          "NETHERLANDS",
          "ITALY",
          "ITALY",
          "SPAIN",
          "SPAIN",
          "BOSNIA",
          "ITALY",
          "FRANCE"
         ],
         "yaxis": "y"
        },
        {
         "hovertemplate": "<b>%{hovertext}</b><br><br>Continent=Africa<br>Total Workers=%{marker.size}<br>Country=%{y}<extra></extra>",
         "hovertext": [
          null,
          "SHARKIYYA",
          "CAIRO",
          "KWAZULU NATAL"
         ],
         "legendgroup": "Africa",
         "marker": {
          "color": "#FFA15A",
          "size": [
           964,
           2362,
           1237,
           341
          ],
          "sizemode": "area",
          "sizeref": 6.87,
          "symbol": "circle"
         },
         "mode": "markers",
         "name": "Africa",
         "orientation": "h",
         "showlegend": true,
         "type": "scatter",
         "x": [
          964,
          2362,
          1237,
          341
         ],
         "xaxis": "x",
         "y": [
          "EGYPT",
          "EGYPT",
          "EGYPT",
          "SOUTH AFRICA"
         ],
         "yaxis": "y"
        },
        {
         "hovertemplate": "<b>%{hovertext}</b><br><br>Continent=Oceania<br>Total Workers=%{marker.size}<br>Country=%{y}<extra></extra>",
         "hovertext": [
          "VICTORIA"
         ],
         "legendgroup": "Oceania",
         "marker": {
          "color": "#19d3f3",
          "size": [
           10
          ],
          "sizemode": "area",
          "sizeref": 6.87,
          "symbol": "circle"
         },
         "mode": "markers",
         "name": "Oceania",
         "orientation": "h",
         "showlegend": true,
         "type": "scatter",
         "x": [
          10
         ],
         "xaxis": "x",
         "y": [
          "AUSTRALIA"
         ],
         "yaxis": "y"
        }
       ],
       "layout": {
        "legend": {
         "itemsizing": "constant",
         "title": {
          "text": "Continent"
         },
         "tracegroupgap": 0
        },
        "template": {
         "data": {
          "bar": [
           {
            "error_x": {
             "color": "#2a3f5f"
            },
            "error_y": {
             "color": "#2a3f5f"
            },
            "marker": {
             "line": {
              "color": "#E5ECF6",
              "width": 0.5
             },
             "pattern": {
              "fillmode": "overlay",
              "size": 10,
              "solidity": 0.2
             }
            },
            "type": "bar"
           }
          ],
          "barpolar": [
           {
            "marker": {
             "line": {
              "color": "#E5ECF6",
              "width": 0.5
             },
             "pattern": {
              "fillmode": "overlay",
              "size": 10,
              "solidity": 0.2
             }
            },
            "type": "barpolar"
           }
          ],
          "carpet": [
           {
            "aaxis": {
             "endlinecolor": "#2a3f5f",
             "gridcolor": "white",
             "linecolor": "white",
             "minorgridcolor": "white",
             "startlinecolor": "#2a3f5f"
            },
            "baxis": {
             "endlinecolor": "#2a3f5f",
             "gridcolor": "white",
             "linecolor": "white",
             "minorgridcolor": "white",
             "startlinecolor": "#2a3f5f"
            },
            "type": "carpet"
           }
          ],
          "choropleth": [
           {
            "colorbar": {
             "outlinewidth": 0,
             "ticks": ""
            },
            "type": "choropleth"
           }
          ],
          "contour": [
           {
            "colorbar": {
             "outlinewidth": 0,
             "ticks": ""
            },
            "colorscale": [
             [
              0,
              "#0d0887"
             ],
             [
              0.1111111111111111,
              "#46039f"
             ],
             [
              0.2222222222222222,
              "#7201a8"
             ],
             [
              0.3333333333333333,
              "#9c179e"
             ],
             [
              0.4444444444444444,
              "#bd3786"
             ],
             [
              0.5555555555555556,
              "#d8576b"
             ],
             [
              0.6666666666666666,
              "#ed7953"
             ],
             [
              0.7777777777777778,
              "#fb9f3a"
             ],
             [
              0.8888888888888888,
              "#fdca26"
             ],
             [
              1,
              "#f0f921"
             ]
            ],
            "type": "contour"
           }
          ],
          "contourcarpet": [
           {
            "colorbar": {
             "outlinewidth": 0,
             "ticks": ""
            },
            "type": "contourcarpet"
           }
          ],
          "heatmap": [
           {
            "colorbar": {
             "outlinewidth": 0,
             "ticks": ""
            },
            "colorscale": [
             [
              0,
              "#0d0887"
             ],
             [
              0.1111111111111111,
              "#46039f"
             ],
             [
              0.2222222222222222,
              "#7201a8"
             ],
             [
              0.3333333333333333,
              "#9c179e"
             ],
             [
              0.4444444444444444,
              "#bd3786"
             ],
             [
              0.5555555555555556,
              "#d8576b"
             ],
             [
              0.6666666666666666,
              "#ed7953"
             ],
             [
              0.7777777777777778,
              "#fb9f3a"
             ],
             [
              0.8888888888888888,
              "#fdca26"
             ],
             [
              1,
              "#f0f921"
             ]
            ],
            "type": "heatmap"
           }
          ],
          "heatmapgl": [
           {
            "colorbar": {
             "outlinewidth": 0,
             "ticks": ""
            },
            "colorscale": [
             [
              0,
              "#0d0887"
             ],
             [
              0.1111111111111111,
              "#46039f"
             ],
             [
              0.2222222222222222,
              "#7201a8"
             ],
             [
              0.3333333333333333,
              "#9c179e"
             ],
             [
              0.4444444444444444,
              "#bd3786"
             ],
             [
              0.5555555555555556,
              "#d8576b"
             ],
             [
              0.6666666666666666,
              "#ed7953"
             ],
             [
              0.7777777777777778,
              "#fb9f3a"
             ],
             [
              0.8888888888888888,
              "#fdca26"
             ],
             [
              1,
              "#f0f921"
             ]
            ],
            "type": "heatmapgl"
           }
          ],
          "histogram": [
           {
            "marker": {
             "pattern": {
              "fillmode": "overlay",
              "size": 10,
              "solidity": 0.2
             }
            },
            "type": "histogram"
           }
          ],
          "histogram2d": [
           {
            "colorbar": {
             "outlinewidth": 0,
             "ticks": ""
            },
            "colorscale": [
             [
              0,
              "#0d0887"
             ],
             [
              0.1111111111111111,
              "#46039f"
             ],
             [
              0.2222222222222222,
              "#7201a8"
             ],
             [
              0.3333333333333333,
              "#9c179e"
             ],
             [
              0.4444444444444444,
              "#bd3786"
             ],
             [
              0.5555555555555556,
              "#d8576b"
             ],
             [
              0.6666666666666666,
              "#ed7953"
             ],
             [
              0.7777777777777778,
              "#fb9f3a"
             ],
             [
              0.8888888888888888,
              "#fdca26"
             ],
             [
              1,
              "#f0f921"
             ]
            ],
            "type": "histogram2d"
           }
          ],
          "histogram2dcontour": [
           {
            "colorbar": {
             "outlinewidth": 0,
             "ticks": ""
            },
            "colorscale": [
             [
              0,
              "#0d0887"
             ],
             [
              0.1111111111111111,
              "#46039f"
             ],
             [
              0.2222222222222222,
              "#7201a8"
             ],
             [
              0.3333333333333333,
              "#9c179e"
             ],
             [
              0.4444444444444444,
              "#bd3786"
             ],
             [
              0.5555555555555556,
              "#d8576b"
             ],
             [
              0.6666666666666666,
              "#ed7953"
             ],
             [
              0.7777777777777778,
              "#fb9f3a"
             ],
             [
              0.8888888888888888,
              "#fdca26"
             ],
             [
              1,
              "#f0f921"
             ]
            ],
            "type": "histogram2dcontour"
           }
          ],
          "mesh3d": [
           {
            "colorbar": {
             "outlinewidth": 0,
             "ticks": ""
            },
            "type": "mesh3d"
           }
          ],
          "parcoords": [
           {
            "line": {
             "colorbar": {
              "outlinewidth": 0,
              "ticks": ""
             }
            },
            "type": "parcoords"
           }
          ],
          "pie": [
           {
            "automargin": true,
            "type": "pie"
           }
          ],
          "scatter": [
           {
            "fillpattern": {
             "fillmode": "overlay",
             "size": 10,
             "solidity": 0.2
            },
            "type": "scatter"
           }
          ],
          "scatter3d": [
           {
            "line": {
             "colorbar": {
              "outlinewidth": 0,
              "ticks": ""
             }
            },
            "marker": {
             "colorbar": {
              "outlinewidth": 0,
              "ticks": ""
             }
            },
            "type": "scatter3d"
           }
          ],
          "scattercarpet": [
           {
            "marker": {
             "colorbar": {
              "outlinewidth": 0,
              "ticks": ""
             }
            },
            "type": "scattercarpet"
           }
          ],
          "scattergeo": [
           {
            "marker": {
             "colorbar": {
              "outlinewidth": 0,
              "ticks": ""
             }
            },
            "type": "scattergeo"
           }
          ],
          "scattergl": [
           {
            "marker": {
             "colorbar": {
              "outlinewidth": 0,
              "ticks": ""
             }
            },
            "type": "scattergl"
           }
          ],
          "scattermapbox": [
           {
            "marker": {
             "colorbar": {
              "outlinewidth": 0,
              "ticks": ""
             }
            },
            "type": "scattermapbox"
           }
          ],
          "scatterpolar": [
           {
            "marker": {
             "colorbar": {
              "outlinewidth": 0,
              "ticks": ""
             }
            },
            "type": "scatterpolar"
           }
          ],
          "scatterpolargl": [
           {
            "marker": {
             "colorbar": {
              "outlinewidth": 0,
              "ticks": ""
             }
            },
            "type": "scatterpolargl"
           }
          ],
          "scatterternary": [
           {
            "marker": {
             "colorbar": {
              "outlinewidth": 0,
              "ticks": ""
             }
            },
            "type": "scatterternary"
           }
          ],
          "surface": [
           {
            "colorbar": {
             "outlinewidth": 0,
             "ticks": ""
            },
            "colorscale": [
             [
              0,
              "#0d0887"
             ],
             [
              0.1111111111111111,
              "#46039f"
             ],
             [
              0.2222222222222222,
              "#7201a8"
             ],
             [
              0.3333333333333333,
              "#9c179e"
             ],
             [
              0.4444444444444444,
              "#bd3786"
             ],
             [
              0.5555555555555556,
              "#d8576b"
             ],
             [
              0.6666666666666666,
              "#ed7953"
             ],
             [
              0.7777777777777778,
              "#fb9f3a"
             ],
             [
              0.8888888888888888,
              "#fdca26"
             ],
             [
              1,
              "#f0f921"
             ]
            ],
            "type": "surface"
           }
          ],
          "table": [
           {
            "cells": {
             "fill": {
              "color": "#EBF0F8"
             },
             "line": {
              "color": "white"
             }
            },
            "header": {
             "fill": {
              "color": "#C8D4E3"
             },
             "line": {
              "color": "white"
             }
            },
            "type": "table"
           }
          ]
         },
         "layout": {
          "annotationdefaults": {
           "arrowcolor": "#2a3f5f",
           "arrowhead": 0,
           "arrowwidth": 1
          },
          "autotypenumbers": "strict",
          "coloraxis": {
           "colorbar": {
            "outlinewidth": 0,
            "ticks": ""
           }
          },
          "colorscale": {
           "diverging": [
            [
             0,
             "#8e0152"
            ],
            [
             0.1,
             "#c51b7d"
            ],
            [
             0.2,
             "#de77ae"
            ],
            [
             0.3,
             "#f1b6da"
            ],
            [
             0.4,
             "#fde0ef"
            ],
            [
             0.5,
             "#f7f7f7"
            ],
            [
             0.6,
             "#e6f5d0"
            ],
            [
             0.7,
             "#b8e186"
            ],
            [
             0.8,
             "#7fbc41"
            ],
            [
             0.9,
             "#4d9221"
            ],
            [
             1,
             "#276419"
            ]
           ],
           "sequential": [
            [
             0,
             "#0d0887"
            ],
            [
             0.1111111111111111,
             "#46039f"
            ],
            [
             0.2222222222222222,
             "#7201a8"
            ],
            [
             0.3333333333333333,
             "#9c179e"
            ],
            [
             0.4444444444444444,
             "#bd3786"
            ],
            [
             0.5555555555555556,
             "#d8576b"
            ],
            [
             0.6666666666666666,
             "#ed7953"
            ],
            [
             0.7777777777777778,
             "#fb9f3a"
            ],
            [
             0.8888888888888888,
             "#fdca26"
            ],
            [
             1,
             "#f0f921"
            ]
           ],
           "sequentialminus": [
            [
             0,
             "#0d0887"
            ],
            [
             0.1111111111111111,
             "#46039f"
            ],
            [
             0.2222222222222222,
             "#7201a8"
            ],
            [
             0.3333333333333333,
             "#9c179e"
            ],
            [
             0.4444444444444444,
             "#bd3786"
            ],
            [
             0.5555555555555556,
             "#d8576b"
            ],
            [
             0.6666666666666666,
             "#ed7953"
            ],
            [
             0.7777777777777778,
             "#fb9f3a"
            ],
            [
             0.8888888888888888,
             "#fdca26"
            ],
            [
             1,
             "#f0f921"
            ]
           ]
          },
          "colorway": [
           "#636efa",
           "#EF553B",
           "#00cc96",
           "#ab63fa",
           "#FFA15A",
           "#19d3f3",
           "#FF6692",
           "#B6E880",
           "#FF97FF",
           "#FECB52"
          ],
          "font": {
           "color": "#2a3f5f"
          },
          "geo": {
           "bgcolor": "white",
           "lakecolor": "white",
           "landcolor": "#E5ECF6",
           "showlakes": true,
           "showland": true,
           "subunitcolor": "white"
          },
          "hoverlabel": {
           "align": "left"
          },
          "hovermode": "closest",
          "mapbox": {
           "style": "light"
          },
          "paper_bgcolor": "white",
          "plot_bgcolor": "#E5ECF6",
          "polar": {
           "angularaxis": {
            "gridcolor": "white",
            "linecolor": "white",
            "ticks": ""
           },
           "bgcolor": "#E5ECF6",
           "radialaxis": {
            "gridcolor": "white",
            "linecolor": "white",
            "ticks": ""
           }
          },
          "scene": {
           "xaxis": {
            "backgroundcolor": "#E5ECF6",
            "gridcolor": "white",
            "gridwidth": 2,
            "linecolor": "white",
            "showbackground": true,
            "ticks": "",
            "zerolinecolor": "white"
           },
           "yaxis": {
            "backgroundcolor": "#E5ECF6",
            "gridcolor": "white",
            "gridwidth": 2,
            "linecolor": "white",
            "showbackground": true,
            "ticks": "",
            "zerolinecolor": "white"
           },
           "zaxis": {
            "backgroundcolor": "#E5ECF6",
            "gridcolor": "white",
            "gridwidth": 2,
            "linecolor": "white",
            "showbackground": true,
            "ticks": "",
            "zerolinecolor": "white"
           }
          },
          "shapedefaults": {
           "line": {
            "color": "#2a3f5f"
           }
          },
          "ternary": {
           "aaxis": {
            "gridcolor": "white",
            "linecolor": "white",
            "ticks": ""
           },
           "baxis": {
            "gridcolor": "white",
            "linecolor": "white",
            "ticks": ""
           },
           "bgcolor": "#E5ECF6",
           "caxis": {
            "gridcolor": "white",
            "linecolor": "white",
            "ticks": ""
           }
          },
          "title": {
           "x": 0.05
          },
          "xaxis": {
           "automargin": true,
           "gridcolor": "white",
           "linecolor": "white",
           "ticks": "",
           "title": {
            "standoff": 15
           },
           "zerolinecolor": "white",
           "zerolinewidth": 2
          },
          "yaxis": {
           "automargin": true,
           "gridcolor": "white",
           "linecolor": "white",
           "ticks": "",
           "title": {
            "standoff": 15
           },
           "zerolinecolor": "white",
           "zerolinewidth": 2
          }
         }
        },
        "title": {
         "text": "Total Workers by Country sized by Worker Count on Sized Scatter Chart"
        },
        "xaxis": {
         "anchor": "y",
         "domain": [
          0,
          1
         ],
         "title": {
          "text": "Total Workers"
         },
         "type": "log"
        },
        "yaxis": {
         "anchor": "x",
         "domain": [
          0,
          1
         ],
         "title": {
          "text": "Country"
         }
        }
       }
      }
     },
     "metadata": {},
     "output_type": "display_data"
    }
   ],
   "source": [
    "# bubble chart\n",
    "fig = px.scatter(df, x=\"Total Workers\", y=\"Country\", color=\"Continent\", size=\"Total Workers\",\n",
    "                 hover_name=\"State\", log_x=True, size_max=60, title='Total Workers by Country sized by Worker Count on Sized Scatter Chart')\n",
    "fig.show()"
   ]
  },
  {
   "cell_type": "markdown",
   "metadata": {},
   "source": [
    "Here we have both Country and Continent wise Total Workers Distribition as of sized bubble points. \n",
    "Interestingly, there is one factory in Australia with only 10 workers in it. "
   ]
  },
  {
   "cell_type": "code",
   "execution_count": 79,
   "metadata": {},
   "outputs": [
    {
     "data": {
      "application/vnd.plotly.v1+json": {
       "config": {
        "plotlyServerURL": "https://plot.ly"
       },
       "data": [
        {
         "domain": {
          "x": [
           0,
           1
          ],
          "y": [
           0,
           1
          ]
         },
         "hovertemplate": "Country=%{label}<br>Total Workers=%{value}<extra></extra>",
         "labels": [
          "USA",
          "VIETNAM",
          "GUATEMALA",
          "VIETNAM",
          "GEORGIA",
          "VIETNAM",
          "ARGENTINA",
          "CHINA",
          "BRAZIL",
          "NICARAGUA",
          "VIETNAM",
          "SRI LANKA",
          "HONDURAS",
          "USA",
          "USA",
          "USA",
          "USA",
          "MOLDOVA",
          "MOLDOVA",
          "MOLDOVA",
          "MOLDOVA",
          "VIETNAM",
          "BRAZIL",
          "JAPAN",
          "VIETNAM",
          "NETHERLANDS",
          "SOUTH KOREA",
          "INDONESIA",
          "VIETNAM",
          "USA",
          "ITALY",
          "USA",
          "USA",
          "SRI LANKA",
          "SRI LANKA",
          "SRI LANKA",
          "SRI LANKA",
          "BRAZIL",
          "TAIWAN",
          "CHINA",
          "USA",
          "SOUTH KOREA",
          "CHINA",
          "BRAZIL",
          "USA",
          "USA",
          "BRAZIL",
          "MEXICO",
          "MEXICO",
          "MEXICO",
          "VIETNAM",
          "VIETNAM",
          "INDONESIA",
          "VIETNAM",
          "VIETNAM",
          "SOUTH KOREA",
          "TAIWAN",
          "CHINA",
          "TAIWAN",
          "TAIWAN",
          "TAIWAN",
          "BRAZIL",
          "BRAZIL",
          "ITALY",
          "VIETNAM",
          "CHINA",
          "ARGENTINA",
          "BRAZIL",
          "ARGENTINA",
          "BRAZIL",
          "BRAZIL",
          "GUATEMALA",
          "USA",
          "INDONESIA",
          "CAMBODIA",
          "ARGENTINA",
          "BRAZIL",
          "BRAZIL",
          "BRAZIL",
          "BRAZIL",
          "BRAZIL",
          "BRAZIL",
          "VIETNAM",
          "EL SALVADOR",
          "TURKEY",
          "VIETNAM",
          "ISRAEL",
          "BULGARIA",
          "ARGENTINA",
          "BANGLADESH",
          "MEXICO",
          "ITALY",
          "ITALY",
          "SRI LANKA",
          "ITALY",
          "VIETNAM",
          "VIETNAM",
          "VIETNAM",
          "VIETNAM",
          "CHINA",
          "CHINA",
          "CHINA",
          "TAIWAN",
          "CHINA",
          "CHINA",
          "CHINA",
          "CHINA",
          "CHINA",
          "VIETNAM",
          "SOUTH KOREA",
          "CHINA",
          "SOUTH KOREA",
          "CANADA",
          "CHINA",
          "INDIA",
          "JAPAN",
          "VIETNAM",
          "VIETNAM",
          "TAIWAN",
          "HONDURAS",
          "VIETNAM",
          "THAILAND",
          "BRAZIL",
          "VIETNAM",
          "VIETNAM",
          "INDIA",
          "VIETNAM",
          "TAIWAN",
          "CHINA",
          "THAILAND",
          "USA",
          "BRAZIL",
          "CROATIA",
          "INDIA",
          "CHINA",
          "CHINA",
          "VIETNAM",
          "VIETNAM",
          "TAIWAN",
          "VIETNAM",
          "VIETNAM",
          "VIETNAM",
          "ITALY",
          "TAIWAN",
          "ECUADOR",
          "USA",
          "MEXICO",
          "BANGLADESH",
          "CHINA",
          "GERMANY",
          "CAMBODIA",
          "TAIWAN",
          "INDONESIA",
          "CHINA",
          "TAIWAN",
          "CHINA",
          "VIETNAM",
          "SPAIN",
          "SOUTH KOREA",
          "VIETNAM",
          "VIETNAM",
          "UNITED KINGDOM",
          "CHINA",
          "CHINA",
          "CHINA",
          "CHINA",
          "VIETNAM",
          "CHINA",
          "THAILAND",
          "VIETNAM",
          "SOUTH KOREA",
          "VIETNAM",
          "HONDURAS",
          "HONDURAS",
          "GREECE",
          "CHINA",
          "BRAZIL",
          "ITALY",
          "VIETNAM",
          "VIETNAM",
          "CHINA",
          "VIETNAM",
          "USA",
          "USA",
          "VIETNAM",
          "VIETNAM",
          "CHINA",
          "VIETNAM",
          "VIETNAM",
          "USA",
          "JAPAN",
          "HONDURAS",
          "CAMBODIA",
          "THAILAND",
          "THAILAND",
          "THAILAND",
          "THAILAND",
          "THAILAND",
          "VIETNAM",
          "TAIWAN",
          "THAILAND",
          "THAILAND",
          "VIETNAM",
          "MALAYSIA",
          "CHINA",
          "CHINA",
          "CHINA",
          "TAIWAN",
          "CHINA",
          "CHINA",
          "CHINA",
          "VIETNAM",
          "VIETNAM",
          "ITALY",
          "CANADA",
          "TAIWAN",
          "USA",
          "MEXICO",
          "PAKISTAN",
          "INDIA",
          "SPAIN",
          "CHINA",
          "EGYPT",
          "TAIWAN",
          "EGYPT",
          "CHINA",
          "CHINA",
          "CHINA",
          "CHINA",
          "CHINA",
          "CHINA",
          "CHINA",
          "CHINA",
          "CHINA",
          "SRI LANKA",
          "GUATEMALA",
          "SOUTH KOREA",
          "VIETNAM",
          "USA",
          "CANADA",
          "USA",
          "TAIWAN",
          "JAPAN",
          "CAMBODIA",
          "USA",
          "CHINA",
          "CHINA",
          "VIETNAM",
          "VIETNAM",
          "ARGENTINA",
          "USA",
          "VIETNAM",
          "MEXICO",
          "JAPAN",
          "CANADA",
          "TAIWAN",
          "ITALY",
          "SRI LANKA",
          "CHINA",
          "BRAZIL",
          "USA",
          "VIETNAM",
          "CHINA",
          "CHINA",
          "CHINA",
          "CHINA",
          "CHINA",
          "INDIA",
          "INDIA",
          "POLAND",
          "VIETNAM",
          "PAKISTAN",
          "MEXICO",
          "ITALY",
          "BRAZIL",
          "SRI LANKA",
          "SRI LANKA",
          "SRI LANKA",
          "SRI LANKA",
          "SRI LANKA",
          "SRI LANKA",
          "INDIA",
          "SRI LANKA",
          "SRI LANKA",
          "USA",
          "JAPAN",
          "VIETNAM",
          "VIETNAM",
          "GUATEMALA",
          "USA",
          "TAIWAN",
          "VIETNAM",
          "UNITED KINGDOM",
          "TURKEY",
          "GEORGIA",
          "SOUTH KOREA",
          "BRAZIL",
          "VIETNAM",
          "VIETNAM",
          "VIETNAM",
          "THAILAND",
          "THAILAND",
          "THAILAND",
          "THAILAND",
          "TAIWAN",
          "NICARAGUA",
          "CHINA",
          "THAILAND",
          "THAILAND",
          "THAILAND",
          "THAILAND",
          "CHINA",
          "CHINA",
          "CHINA",
          "CHINA",
          "CHINA",
          "CHINA",
          "CHINA",
          "CHINA",
          "CHINA",
          "CHINA",
          "CHINA",
          "THAILAND",
          "VIETNAM",
          "JAPAN",
          "CHINA",
          "THAILAND",
          "CAMBODIA",
          "THAILAND",
          "USA",
          "VIETNAM",
          "THAILAND",
          "CHINA",
          "USA",
          "MEXICO",
          "USA",
          "USA",
          "ITALY",
          "CHINA",
          "BRAZIL",
          "BRAZIL",
          "EL SALVADOR",
          "ARGENTINA",
          "THAILAND",
          "JORDAN",
          "CHINA",
          "CHINA",
          "CHINA",
          "TAIWAN",
          "TAIWAN",
          "VIETNAM",
          "ITALY",
          "INDIA",
          "CHINA",
          "INDONESIA",
          "CHINA",
          "VIETNAM",
          "TAIWAN",
          "TAIWAN",
          "VIETNAM",
          "USA",
          "INDONESIA",
          "INDONESIA",
          "INDONESIA",
          "INDONESIA",
          "INDONESIA",
          "INDONESIA",
          "INDONESIA",
          "INDONESIA",
          "INDONESIA",
          "INDONESIA",
          "INDONESIA",
          "INDONESIA",
          "INDONESIA",
          "INDONESIA",
          "INDONESIA",
          "INDONESIA",
          "INDONESIA",
          "INDONESIA",
          "INDONESIA",
          "INDONESIA",
          "INDONESIA",
          "INDONESIA",
          "INDONESIA",
          "INDONESIA",
          "INDONESIA",
          "INDONESIA",
          "INDONESIA",
          "INDONESIA",
          "INDONESIA",
          "INDONESIA",
          "INDONESIA",
          "INDONESIA",
          "INDONESIA",
          "INDONESIA",
          "INDONESIA",
          "INDONESIA",
          "INDONESIA",
          "CHINA",
          "CHINA",
          "CHINA",
          "CHINA",
          "CHINA",
          "CHINA",
          "CHINA",
          "VIETNAM",
          "VIETNAM",
          "CHINA",
          "CHINA",
          "ARGENTINA",
          "THAILAND",
          "CHINA",
          "CHINA",
          "CHINA",
          "MALAYSIA",
          "THAILAND",
          "TAIWAN",
          "CHINA",
          "NETHERLANDS",
          "USA",
          "USA",
          "USA",
          "USA",
          "CHINA",
          "BRAZIL",
          "MEXICO",
          "CHINA",
          "CAMBODIA",
          "THAILAND",
          "THAILAND",
          "VIETNAM",
          "ARGENTINA",
          "INDONESIA",
          "TAIWAN",
          "VIETNAM",
          "CHINA",
          "JAPAN",
          "VIETNAM",
          "ITALY",
          "JAPAN",
          "AUSTRALIA",
          "ARGENTINA",
          "ITALY",
          "SPAIN",
          "USA",
          "JAPAN",
          "USA",
          "SRI LANKA",
          "CHINA",
          "CHINA",
          "CHINA",
          "CHINA",
          "THAILAND",
          "CAMBODIA",
          "CHINA",
          "CHINA",
          "INDONESIA",
          "CHINA",
          "CHINA",
          "CHINA",
          "CHINA",
          "PAKISTAN",
          "PAKISTAN",
          "SPAIN",
          "USA",
          "USA",
          "VIETNAM",
          "VIETNAM",
          "MALAYSIA",
          "CHINA",
          "MALAYSIA",
          "HONDURAS",
          "INDIA",
          "BOSNIA",
          "VIETNAM",
          "INDIA",
          "INDIA",
          "TAIWAN",
          "USA",
          "USA",
          "JORDAN",
          "JORDAN",
          "ITALY",
          "PAKISTAN",
          "PAKISTAN",
          "PAKISTAN",
          "CHINA",
          "ARGENTINA",
          "EL SALVADOR",
          "USA",
          "CHINA",
          "CHINA",
          "CHINA",
          "JAPAN",
          "VIETNAM",
          "VIETNAM",
          "VIETNAM",
          "VIETNAM",
          "SOUTH KOREA",
          "VIETNAM",
          "MALAYSIA",
          "MALAYSIA",
          "MALAYSIA",
          "TAIWAN",
          "JAPAN",
          "INDONESIA",
          "TAIWAN",
          "USA",
          "USA",
          "ARGENTINA",
          "SRI LANKA",
          "ARGENTINA",
          "BRAZIL",
          "ARGENTINA",
          "ARGENTINA",
          "FRANCE",
          "EGYPT",
          "EL SALVADOR",
          "MEXICO",
          "THAILAND",
          "CHINA",
          "CHINA",
          "BRAZIL",
          "VIETNAM",
          "VIETNAM",
          "TAIWAN",
          "CHINA",
          "TAIWAN",
          "TAIWAN",
          "VIETNAM",
          "TAIWAN",
          "VIETNAM",
          "CHINA",
          "VIETNAM",
          "ARGENTINA",
          "CHINA",
          "VIETNAM",
          "CAMBODIA",
          "CHINA",
          "TAIWAN",
          "JAPAN",
          "THAILAND",
          "VIETNAM",
          "USA",
          "TAIWAN",
          "VIETNAM",
          "USA",
          "JAPAN",
          "CHINA",
          "VIETNAM",
          "VIETNAM",
          "CHINA",
          "VIETNAM",
          "MALAYSIA",
          "THAILAND",
          "THAILAND",
          "THAILAND",
          "MEXICO",
          "MEXICO",
          "VIETNAM",
          "VIETNAM",
          "VIETNAM",
          "VIETNAM",
          "VIETNAM",
          "VIETNAM",
          "VIETNAM",
          "VIETNAM",
          "VIETNAM",
          "VIETNAM",
          "MEXICO",
          "SOUTH AFRICA",
          "VIETNAM",
          "VIETNAM",
          "VIETNAM",
          "VIETNAM",
          "VIETNAM",
          "BRAZIL",
          "CHINA",
          "TAIWAN",
          "CHINA",
          "CHINA",
          "CHINA",
          "VIETNAM",
          "CHINA",
          "CHINA",
          "CHINA",
          "CHINA",
          "VIETNAM",
          "TURKEY",
          "TURKEY",
          "USA",
          "TAIWAN",
          "CHINA",
          "TAIWAN",
          "CHINA",
          "SOUTH KOREA",
          "SOUTH KOREA",
          "SOUTH KOREA",
          "VIETNAM",
          "SOUTH KOREA",
          "VIETNAM",
          "SOUTH KOREA",
          "THAILAND",
          "TAIWAN",
          "CHINA",
          "VIETNAM",
          "CHINA",
          "CHINA",
          "CHINA",
          "CHINA",
          "CHINA",
          "CHINA",
          "CHINA",
          "CHINA",
          "CHINA",
          "CHINA",
          "CHINA",
          "CHINA"
         ],
         "legendgroup": "",
         "name": "",
         "showlegend": true,
         "textinfo": "percent",
         "textposition": "inside",
         "type": "pie",
         "values": [
          94,
          1958,
          191,
          7795,
          616,
          5313,
          7,
          372,
          490,
          3963,
          14076,
          903,
          0,
          60,
          114,
          87,
          230,
          335,
          387,
          283,
          354,
          2242,
          34,
          6,
          7530,
          15,
          0,
          0,
          0,
          31,
          16,
          39,
          49,
          1090,
          5903,
          2193,
          1018,
          42,
          0,
          899,
          177,
          10,
          194,
          64,
          87,
          206,
          83,
          15,
          1109,
          189,
          8951,
          2159,
          13425,
          4689,
          24732,
          824,
          0,
          815,
          0,
          50,
          94,
          31,
          4440,
          360,
          2180,
          54,
          35,
          118,
          152,
          1972,
          873,
          2305,
          59,
          0,
          4843,
          1251,
          1289,
          32,
          3500,
          2589,
          562,
          176,
          13306,
          804,
          543,
          1780,
          307,
          610,
          93,
          2660,
          813,
          230,
          51,
          1035,
          14,
          10541,
          9469,
          14524,
          9625,
          1985,
          96,
          369,
          0,
          920,
          186,
          400,
          147,
          18,
          0,
          150,
          692,
          26,
          100,
          2439,
          5852,
          95,
          0,
          6331,
          0,
          2197,
          1580,
          314,
          90,
          5187,
          2658,
          960,
          603,
          0,
          0,
          0,
          24,
          44,
          72,
          2110,
          0,
          1535,
          4345,
          3333,
          0,
          748,
          859,
          2290,
          13,
          1824,
          754,
          131,
          5590,
          3178,
          6325,
          10,
          106,
          0,
          1585,
          370,
          0,
          0,
          0,
          7,
          37,
          487,
          22170,
          78,
          4008,
          3270,
          1244,
          4974,
          8627,
          200,
          452,
          0,
          0,
          0,
          4686,
          2858,
          10,
          0,
          52,
          18,
          1010,
          2026,
          1064,
          698,
          98,
          33,
          1244,
          396,
          50,
          5192,
          7726,
          34,
          5,
          2197,
          2028,
          1217,
          684,
          1081,
          1106,
          617,
          1006,
          0,
          471,
          3414,
          858,
          1449,
          1067,
          113,
          811,
          0,
          329,
          286,
          101,
          2563,
          341,
          15,
          4,
          200,
          121,
          248,
          6578,
          3652,
          5,
          166,
          964,
          0,
          2362,
          1435,
          407,
          214,
          299,
          2551,
          22,
          1698,
          145,
          1192,
          955,
          498,
          640,
          0,
          42,
          46,
          7,
          145,
          52,
          6361,
          134,
          972,
          0,
          0,
          118,
          20,
          60,
          2132,
          1542,
          68,
          87,
          546,
          23,
          444,
          452,
          89,
          24,
          1300,
          5684,
          7517,
          2914,
          772,
          780,
          5974,
          7600,
          269,
          1232,
          4224,
          1244,
          315,
          285,
          667,
          1608,
          1219,
          1995,
          777,
          1645,
          608,
          1814,
          2578,
          180,
          25,
          1711,
          591,
          634,
          104,
          0,
          0,
          18,
          191,
          749,
          0,
          39,
          1501,
          576,
          630,
          1339,
          1274,
          2111,
          1362,
          12,
          1813,
          101,
          1732,
          1200,
          3509,
          1280,
          608,
          115,
          263,
          2143,
          124,
          0,
          1979,
          4183,
          3265,
          414,
          570,
          1391,
          718,
          74,
          207,
          674,
          1890,
          109,
          110,
          813,
          257,
          500,
          89,
          363,
          560,
          94,
          95,
          2096,
          568,
          0,
          0,
          44,
          673,
          2085,
          125,
          1401,
          1063,
          0,
          1713,
          17856,
          28,
          2488,
          158,
          2629,
          0,
          0,
          0,
          0,
          0,
          168,
          159,
          8336,
          2344,
          6239,
          1178,
          2836,
          633,
          2693,
          7123,
          1474,
          2576,
          12768,
          1038,
          562,
          2321,
          19564,
          2008,
          7918,
          19038,
          672,
          3355,
          1621,
          1561,
          1158,
          15213,
          1729,
          0,
          0,
          2671,
          992,
          12686,
          2307,
          5138,
          7441,
          1922,
          16485,
          463,
          573,
          4685,
          726,
          534,
          4323,
          903,
          2250,
          6105,
          6247,
          50,
          57,
          800,
          290,
          735,
          0,
          714,
          0,
          96,
          0,
          1417,
          20,
          157,
          47,
          47,
          95,
          361,
          164,
          165,
          53,
          5971,
          0,
          0,
          764,
          11,
          0,
          0,
          0,
          0,
          36,
          1189,
          103,
          40,
          10,
          398,
          25,
          14,
          13,
          40,
          77,
          1651,
          9751,
          33,
          1037,
          5557,
          2805,
          2345,
          42,
          57,
          0,
          155,
          1132,
          11778,
          3735,
          161,
          2129,
          14,
          352,
          249,
          149,
          2000,
          728,
          344,
          421,
          3709,
          145,
          1944,
          155,
          2634,
          506,
          627,
          531,
          73,
          426,
          1504,
          18,
          3557,
          385,
          2844,
          279,
          323,
          1839,
          270,
          30,
          51,
          563,
          130,
          2059,
          17369,
          5088,
          10596,
          770,
          105,
          1517,
          886,
          750,
          85,
          12,
          85,
          0,
          186,
          29,
          264,
          597,
          145,
          308,
          185,
          75,
          17,
          1237,
          2246,
          377,
          785,
          70,
          67,
          66,
          1423,
          1334,
          0,
          0,
          0,
          0,
          0,
          0,
          2034,
          560,
          1536,
          28,
          0,
          0,
          3987,
          0,
          0,
          4,
          1944,
          60,
          47,
          0,
          902,
          16,
          37,
          85,
          351,
          1717,
          198,
          2232,
          894,
          490,
          609,
          2950,
          2099,
          240,
          2291,
          1676,
          1662,
          0,
          2338,
          2249,
          2769,
          22344,
          14494,
          16821,
          630,
          341,
          171,
          2047,
          9021,
          2079,
          1481,
          95,
          930,
          11,
          1639,
          417,
          801,
          9549,
          4341,
          86,
          2953,
          114,
          838,
          2003,
          0,
          70,
          30,
          3218,
          46,
          1157,
          0,
          255,
          0,
          0,
          0,
          0,
          0,
          0,
          245,
          2515,
          1920,
          2087,
          241,
          85,
          268,
          46,
          207,
          1228,
          553,
          658,
          893,
          2434,
          116
         ]
        }
       ],
       "layout": {
        "legend": {
         "tracegroupgap": 0
        },
        "template": {
         "data": {
          "bar": [
           {
            "error_x": {
             "color": "#2a3f5f"
            },
            "error_y": {
             "color": "#2a3f5f"
            },
            "marker": {
             "line": {
              "color": "#E5ECF6",
              "width": 0.5
             },
             "pattern": {
              "fillmode": "overlay",
              "size": 10,
              "solidity": 0.2
             }
            },
            "type": "bar"
           }
          ],
          "barpolar": [
           {
            "marker": {
             "line": {
              "color": "#E5ECF6",
              "width": 0.5
             },
             "pattern": {
              "fillmode": "overlay",
              "size": 10,
              "solidity": 0.2
             }
            },
            "type": "barpolar"
           }
          ],
          "carpet": [
           {
            "aaxis": {
             "endlinecolor": "#2a3f5f",
             "gridcolor": "white",
             "linecolor": "white",
             "minorgridcolor": "white",
             "startlinecolor": "#2a3f5f"
            },
            "baxis": {
             "endlinecolor": "#2a3f5f",
             "gridcolor": "white",
             "linecolor": "white",
             "minorgridcolor": "white",
             "startlinecolor": "#2a3f5f"
            },
            "type": "carpet"
           }
          ],
          "choropleth": [
           {
            "colorbar": {
             "outlinewidth": 0,
             "ticks": ""
            },
            "type": "choropleth"
           }
          ],
          "contour": [
           {
            "colorbar": {
             "outlinewidth": 0,
             "ticks": ""
            },
            "colorscale": [
             [
              0,
              "#0d0887"
             ],
             [
              0.1111111111111111,
              "#46039f"
             ],
             [
              0.2222222222222222,
              "#7201a8"
             ],
             [
              0.3333333333333333,
              "#9c179e"
             ],
             [
              0.4444444444444444,
              "#bd3786"
             ],
             [
              0.5555555555555556,
              "#d8576b"
             ],
             [
              0.6666666666666666,
              "#ed7953"
             ],
             [
              0.7777777777777778,
              "#fb9f3a"
             ],
             [
              0.8888888888888888,
              "#fdca26"
             ],
             [
              1,
              "#f0f921"
             ]
            ],
            "type": "contour"
           }
          ],
          "contourcarpet": [
           {
            "colorbar": {
             "outlinewidth": 0,
             "ticks": ""
            },
            "type": "contourcarpet"
           }
          ],
          "heatmap": [
           {
            "colorbar": {
             "outlinewidth": 0,
             "ticks": ""
            },
            "colorscale": [
             [
              0,
              "#0d0887"
             ],
             [
              0.1111111111111111,
              "#46039f"
             ],
             [
              0.2222222222222222,
              "#7201a8"
             ],
             [
              0.3333333333333333,
              "#9c179e"
             ],
             [
              0.4444444444444444,
              "#bd3786"
             ],
             [
              0.5555555555555556,
              "#d8576b"
             ],
             [
              0.6666666666666666,
              "#ed7953"
             ],
             [
              0.7777777777777778,
              "#fb9f3a"
             ],
             [
              0.8888888888888888,
              "#fdca26"
             ],
             [
              1,
              "#f0f921"
             ]
            ],
            "type": "heatmap"
           }
          ],
          "heatmapgl": [
           {
            "colorbar": {
             "outlinewidth": 0,
             "ticks": ""
            },
            "colorscale": [
             [
              0,
              "#0d0887"
             ],
             [
              0.1111111111111111,
              "#46039f"
             ],
             [
              0.2222222222222222,
              "#7201a8"
             ],
             [
              0.3333333333333333,
              "#9c179e"
             ],
             [
              0.4444444444444444,
              "#bd3786"
             ],
             [
              0.5555555555555556,
              "#d8576b"
             ],
             [
              0.6666666666666666,
              "#ed7953"
             ],
             [
              0.7777777777777778,
              "#fb9f3a"
             ],
             [
              0.8888888888888888,
              "#fdca26"
             ],
             [
              1,
              "#f0f921"
             ]
            ],
            "type": "heatmapgl"
           }
          ],
          "histogram": [
           {
            "marker": {
             "pattern": {
              "fillmode": "overlay",
              "size": 10,
              "solidity": 0.2
             }
            },
            "type": "histogram"
           }
          ],
          "histogram2d": [
           {
            "colorbar": {
             "outlinewidth": 0,
             "ticks": ""
            },
            "colorscale": [
             [
              0,
              "#0d0887"
             ],
             [
              0.1111111111111111,
              "#46039f"
             ],
             [
              0.2222222222222222,
              "#7201a8"
             ],
             [
              0.3333333333333333,
              "#9c179e"
             ],
             [
              0.4444444444444444,
              "#bd3786"
             ],
             [
              0.5555555555555556,
              "#d8576b"
             ],
             [
              0.6666666666666666,
              "#ed7953"
             ],
             [
              0.7777777777777778,
              "#fb9f3a"
             ],
             [
              0.8888888888888888,
              "#fdca26"
             ],
             [
              1,
              "#f0f921"
             ]
            ],
            "type": "histogram2d"
           }
          ],
          "histogram2dcontour": [
           {
            "colorbar": {
             "outlinewidth": 0,
             "ticks": ""
            },
            "colorscale": [
             [
              0,
              "#0d0887"
             ],
             [
              0.1111111111111111,
              "#46039f"
             ],
             [
              0.2222222222222222,
              "#7201a8"
             ],
             [
              0.3333333333333333,
              "#9c179e"
             ],
             [
              0.4444444444444444,
              "#bd3786"
             ],
             [
              0.5555555555555556,
              "#d8576b"
             ],
             [
              0.6666666666666666,
              "#ed7953"
             ],
             [
              0.7777777777777778,
              "#fb9f3a"
             ],
             [
              0.8888888888888888,
              "#fdca26"
             ],
             [
              1,
              "#f0f921"
             ]
            ],
            "type": "histogram2dcontour"
           }
          ],
          "mesh3d": [
           {
            "colorbar": {
             "outlinewidth": 0,
             "ticks": ""
            },
            "type": "mesh3d"
           }
          ],
          "parcoords": [
           {
            "line": {
             "colorbar": {
              "outlinewidth": 0,
              "ticks": ""
             }
            },
            "type": "parcoords"
           }
          ],
          "pie": [
           {
            "automargin": true,
            "type": "pie"
           }
          ],
          "scatter": [
           {
            "fillpattern": {
             "fillmode": "overlay",
             "size": 10,
             "solidity": 0.2
            },
            "type": "scatter"
           }
          ],
          "scatter3d": [
           {
            "line": {
             "colorbar": {
              "outlinewidth": 0,
              "ticks": ""
             }
            },
            "marker": {
             "colorbar": {
              "outlinewidth": 0,
              "ticks": ""
             }
            },
            "type": "scatter3d"
           }
          ],
          "scattercarpet": [
           {
            "marker": {
             "colorbar": {
              "outlinewidth": 0,
              "ticks": ""
             }
            },
            "type": "scattercarpet"
           }
          ],
          "scattergeo": [
           {
            "marker": {
             "colorbar": {
              "outlinewidth": 0,
              "ticks": ""
             }
            },
            "type": "scattergeo"
           }
          ],
          "scattergl": [
           {
            "marker": {
             "colorbar": {
              "outlinewidth": 0,
              "ticks": ""
             }
            },
            "type": "scattergl"
           }
          ],
          "scattermapbox": [
           {
            "marker": {
             "colorbar": {
              "outlinewidth": 0,
              "ticks": ""
             }
            },
            "type": "scattermapbox"
           }
          ],
          "scatterpolar": [
           {
            "marker": {
             "colorbar": {
              "outlinewidth": 0,
              "ticks": ""
             }
            },
            "type": "scatterpolar"
           }
          ],
          "scatterpolargl": [
           {
            "marker": {
             "colorbar": {
              "outlinewidth": 0,
              "ticks": ""
             }
            },
            "type": "scatterpolargl"
           }
          ],
          "scatterternary": [
           {
            "marker": {
             "colorbar": {
              "outlinewidth": 0,
              "ticks": ""
             }
            },
            "type": "scatterternary"
           }
          ],
          "surface": [
           {
            "colorbar": {
             "outlinewidth": 0,
             "ticks": ""
            },
            "colorscale": [
             [
              0,
              "#0d0887"
             ],
             [
              0.1111111111111111,
              "#46039f"
             ],
             [
              0.2222222222222222,
              "#7201a8"
             ],
             [
              0.3333333333333333,
              "#9c179e"
             ],
             [
              0.4444444444444444,
              "#bd3786"
             ],
             [
              0.5555555555555556,
              "#d8576b"
             ],
             [
              0.6666666666666666,
              "#ed7953"
             ],
             [
              0.7777777777777778,
              "#fb9f3a"
             ],
             [
              0.8888888888888888,
              "#fdca26"
             ],
             [
              1,
              "#f0f921"
             ]
            ],
            "type": "surface"
           }
          ],
          "table": [
           {
            "cells": {
             "fill": {
              "color": "#EBF0F8"
             },
             "line": {
              "color": "white"
             }
            },
            "header": {
             "fill": {
              "color": "#C8D4E3"
             },
             "line": {
              "color": "white"
             }
            },
            "type": "table"
           }
          ]
         },
         "layout": {
          "annotationdefaults": {
           "arrowcolor": "#2a3f5f",
           "arrowhead": 0,
           "arrowwidth": 1
          },
          "autotypenumbers": "strict",
          "coloraxis": {
           "colorbar": {
            "outlinewidth": 0,
            "ticks": ""
           }
          },
          "colorscale": {
           "diverging": [
            [
             0,
             "#8e0152"
            ],
            [
             0.1,
             "#c51b7d"
            ],
            [
             0.2,
             "#de77ae"
            ],
            [
             0.3,
             "#f1b6da"
            ],
            [
             0.4,
             "#fde0ef"
            ],
            [
             0.5,
             "#f7f7f7"
            ],
            [
             0.6,
             "#e6f5d0"
            ],
            [
             0.7,
             "#b8e186"
            ],
            [
             0.8,
             "#7fbc41"
            ],
            [
             0.9,
             "#4d9221"
            ],
            [
             1,
             "#276419"
            ]
           ],
           "sequential": [
            [
             0,
             "#0d0887"
            ],
            [
             0.1111111111111111,
             "#46039f"
            ],
            [
             0.2222222222222222,
             "#7201a8"
            ],
            [
             0.3333333333333333,
             "#9c179e"
            ],
            [
             0.4444444444444444,
             "#bd3786"
            ],
            [
             0.5555555555555556,
             "#d8576b"
            ],
            [
             0.6666666666666666,
             "#ed7953"
            ],
            [
             0.7777777777777778,
             "#fb9f3a"
            ],
            [
             0.8888888888888888,
             "#fdca26"
            ],
            [
             1,
             "#f0f921"
            ]
           ],
           "sequentialminus": [
            [
             0,
             "#0d0887"
            ],
            [
             0.1111111111111111,
             "#46039f"
            ],
            [
             0.2222222222222222,
             "#7201a8"
            ],
            [
             0.3333333333333333,
             "#9c179e"
            ],
            [
             0.4444444444444444,
             "#bd3786"
            ],
            [
             0.5555555555555556,
             "#d8576b"
            ],
            [
             0.6666666666666666,
             "#ed7953"
            ],
            [
             0.7777777777777778,
             "#fb9f3a"
            ],
            [
             0.8888888888888888,
             "#fdca26"
            ],
            [
             1,
             "#f0f921"
            ]
           ]
          },
          "colorway": [
           "#636efa",
           "#EF553B",
           "#00cc96",
           "#ab63fa",
           "#FFA15A",
           "#19d3f3",
           "#FF6692",
           "#B6E880",
           "#FF97FF",
           "#FECB52"
          ],
          "font": {
           "color": "#2a3f5f"
          },
          "geo": {
           "bgcolor": "white",
           "lakecolor": "white",
           "landcolor": "#E5ECF6",
           "showlakes": true,
           "showland": true,
           "subunitcolor": "white"
          },
          "hoverlabel": {
           "align": "left"
          },
          "hovermode": "closest",
          "mapbox": {
           "style": "light"
          },
          "paper_bgcolor": "white",
          "plot_bgcolor": "#E5ECF6",
          "polar": {
           "angularaxis": {
            "gridcolor": "white",
            "linecolor": "white",
            "ticks": ""
           },
           "bgcolor": "#E5ECF6",
           "radialaxis": {
            "gridcolor": "white",
            "linecolor": "white",
            "ticks": ""
           }
          },
          "scene": {
           "xaxis": {
            "backgroundcolor": "#E5ECF6",
            "gridcolor": "white",
            "gridwidth": 2,
            "linecolor": "white",
            "showbackground": true,
            "ticks": "",
            "zerolinecolor": "white"
           },
           "yaxis": {
            "backgroundcolor": "#E5ECF6",
            "gridcolor": "white",
            "gridwidth": 2,
            "linecolor": "white",
            "showbackground": true,
            "ticks": "",
            "zerolinecolor": "white"
           },
           "zaxis": {
            "backgroundcolor": "#E5ECF6",
            "gridcolor": "white",
            "gridwidth": 2,
            "linecolor": "white",
            "showbackground": true,
            "ticks": "",
            "zerolinecolor": "white"
           }
          },
          "shapedefaults": {
           "line": {
            "color": "#2a3f5f"
           }
          },
          "ternary": {
           "aaxis": {
            "gridcolor": "white",
            "linecolor": "white",
            "ticks": ""
           },
           "baxis": {
            "gridcolor": "white",
            "linecolor": "white",
            "ticks": ""
           },
           "bgcolor": "#E5ECF6",
           "caxis": {
            "gridcolor": "white",
            "linecolor": "white",
            "ticks": ""
           }
          },
          "title": {
           "x": 0.05
          },
          "xaxis": {
           "automargin": true,
           "gridcolor": "white",
           "linecolor": "white",
           "ticks": "",
           "title": {
            "standoff": 15
           },
           "zerolinecolor": "white",
           "zerolinewidth": 2
          },
          "yaxis": {
           "automargin": true,
           "gridcolor": "white",
           "linecolor": "white",
           "ticks": "",
           "title": {
            "standoff": 15
           },
           "zerolinecolor": "white",
           "zerolinewidth": 2
          }
         }
        },
        "title": {
         "text": "Total Worker Distrubution by Country Presented in Pie Chart"
        }
       }
      }
     },
     "metadata": {},
     "output_type": "display_data"
    }
   ],
   "source": [
    "# pie chart\n",
    "fig = px.pie(df, values='Total Workers', names='Country', title='Total Worker Distrubution by Country Presented in Pie Chart')\n",
    "fig.update_traces(textposition='inside', textinfo='percent')\n",
    "fig.show()"
   ]
  },
  {
   "cell_type": "code",
   "execution_count": 80,
   "metadata": {},
   "outputs": [
    {
     "data": {
      "application/vnd.plotly.v1+json": {
       "config": {
        "plotlyServerURL": "https://plot.ly"
       },
       "data": [
        {
         "alignmentgroup": "True",
         "hovertemplate": "Country=%{y}<br>Product Type=%{x}<extra></extra>",
         "legendgroup": "USA",
         "marker": {
          "color": "#636efa",
          "pattern": {
           "shape": ""
          }
         },
         "name": "USA",
         "offsetgroup": "USA",
         "orientation": "v",
         "showlegend": true,
         "textposition": "auto",
         "type": "bar",
         "x": [
          "APPAREL",
          "APPAREL",
          "APPAREL",
          "APPAREL",
          "APPAREL",
          "APPAREL",
          "EQUIPMENT",
          "APPAREL",
          "APPAREL",
          "APPAREL",
          "APPAREL",
          "APPAREL",
          "APPAREL",
          "APPAREL",
          "APPAREL",
          "APPAREL",
          "APPAREL",
          "APPAREL",
          "EQUIPMENT",
          "APPAREL",
          "APPAREL",
          "APPAREL",
          "APPAREL",
          "APPAREL",
          "EQUIPMENT",
          "APPAREL",
          "APPAREL",
          "APPAREL",
          "APPAREL",
          "APPAREL",
          "APPAREL",
          "APPAREL",
          "APPAREL",
          "APPAREL",
          "APPAREL",
          "APPAREL",
          "EQUIPMENT",
          "EQUIPMENT",
          "APPAREL",
          "APPAREL",
          "EQUIPMENT",
          "APPAREL",
          "EQUIPMENT",
          "APPAREL",
          "APPAREL",
          "APPAREL"
         ],
         "xaxis": "x",
         "y": [
          "USA",
          "USA",
          "USA",
          "USA",
          "USA",
          "USA",
          "USA",
          "USA",
          "USA",
          "USA",
          "USA",
          "USA",
          "USA",
          "USA",
          "USA",
          "USA",
          "USA",
          "USA",
          "USA",
          "USA",
          "USA",
          "USA",
          "USA",
          "USA",
          "USA",
          "USA",
          "USA",
          "USA",
          "USA",
          "USA",
          "USA",
          "USA",
          "USA",
          "USA",
          "USA",
          "USA",
          "USA",
          "USA",
          "USA",
          "USA",
          "USA",
          "USA",
          "USA",
          "USA",
          "USA",
          "USA"
         ],
         "yaxis": "y"
        },
        {
         "alignmentgroup": "True",
         "hovertemplate": "Country=%{y}<br>Product Type=%{x}<extra></extra>",
         "legendgroup": "VIETNAM",
         "marker": {
          "color": "#EF553B",
          "pattern": {
           "shape": ""
          }
         },
         "name": "VIETNAM",
         "offsetgroup": "VIETNAM",
         "orientation": "v",
         "showlegend": true,
         "textposition": "auto",
         "type": "bar",
         "x": [
          "APPAREL",
          "FOOTWEAR",
          "EQUIPMENT",
          "FOOTWEAR",
          "APPAREL",
          "FOOTWEAR",
          "MATERIALS",
          "FOOTWEAR",
          "APPAREL",
          "FOOTWEAR",
          "FOOTWEAR",
          "APPAREL",
          "FOOTWEAR",
          "EQUIPMENT",
          "FOOTWEAR",
          "FOOTWEAR",
          "FOOTWEAR",
          "FOOTWEAR",
          "MATERIALS",
          "MATERIALS",
          "APPAREL",
          "APPAREL",
          "APPAREL",
          "APPAREL",
          "FOOTWEAR",
          "APPAREL",
          "APPAREL",
          "APPAREL",
          "APPAREL",
          "APPAREL",
          "MATERIALS",
          "FOOTWEAR",
          "FOOTWEAR",
          "FOOTWEAR",
          "MATERIALS",
          "MATERIALS",
          "APPAREL",
          "APPAREL",
          "EQUIPMENT",
          "APPAREL",
          "APPAREL",
          "APPAREL",
          "APPAREL",
          "APPAREL",
          "APPAREL",
          "APPAREL",
          "APPAREL",
          "MATERIALS",
          "MATERIALS",
          "APPAREL",
          "APPAREL",
          "APPAREL",
          "APPAREL",
          "APPAREL",
          "APPAREL",
          "MATERIALS",
          "FOOTWEAR",
          "APPAREL",
          "APPAREL",
          "APPAREL",
          "APPAREL",
          "FOOTWEAR",
          "MATERIALS",
          "MATERIALS",
          "APPAREL",
          "APPAREL",
          "EQUIPMENT",
          "MATERIALS",
          "FOOTWEAR",
          "APPAREL",
          "APPAREL",
          "APPAREL",
          "FOOTWEAR",
          "FOOTWEAR",
          "FOOTWEAR",
          "FOOTWEAR",
          "APPAREL",
          "APPAREL",
          "APPAREL",
          "MATERIALS",
          "APPAREL",
          "APPAREL",
          "MATERIALS",
          "APPAREL",
          "APPAREL",
          "APPAREL",
          "APPAREL",
          "APPAREL",
          "APPAREL",
          "APPAREL",
          "APPAREL",
          "MATERIALS",
          "APPAREL",
          "APPAREL",
          "APPAREL",
          "FOOTWEAR",
          "FOOTWEAR",
          "FOOTWEAR",
          "APPAREL",
          "APPAREL",
          "FOOTWEAR",
          "APPAREL",
          "EQUIPMENT",
          "APPAREL",
          "EQUIPMENT",
          "MATERIALS",
          "MATERIALS",
          "APPAREL"
         ],
         "xaxis": "x",
         "y": [
          "VIETNAM",
          "VIETNAM",
          "VIETNAM",
          "VIETNAM",
          "VIETNAM",
          "VIETNAM",
          "VIETNAM",
          "VIETNAM",
          "VIETNAM",
          "VIETNAM",
          "VIETNAM",
          "VIETNAM",
          "VIETNAM",
          "VIETNAM",
          "VIETNAM",
          "VIETNAM",
          "VIETNAM",
          "VIETNAM",
          "VIETNAM",
          "VIETNAM",
          "VIETNAM",
          "VIETNAM",
          "VIETNAM",
          "VIETNAM",
          "VIETNAM",
          "VIETNAM",
          "VIETNAM",
          "VIETNAM",
          "VIETNAM",
          "VIETNAM",
          "VIETNAM",
          "VIETNAM",
          "VIETNAM",
          "VIETNAM",
          "VIETNAM",
          "VIETNAM",
          "VIETNAM",
          "VIETNAM",
          "VIETNAM",
          "VIETNAM",
          "VIETNAM",
          "VIETNAM",
          "VIETNAM",
          "VIETNAM",
          "VIETNAM",
          "VIETNAM",
          "VIETNAM",
          "VIETNAM",
          "VIETNAM",
          "VIETNAM",
          "VIETNAM",
          "VIETNAM",
          "VIETNAM",
          "VIETNAM",
          "VIETNAM",
          "VIETNAM",
          "VIETNAM",
          "VIETNAM",
          "VIETNAM",
          "VIETNAM",
          "VIETNAM",
          "VIETNAM",
          "VIETNAM",
          "VIETNAM",
          "VIETNAM",
          "VIETNAM",
          "VIETNAM",
          "VIETNAM",
          "VIETNAM",
          "VIETNAM",
          "VIETNAM",
          "VIETNAM",
          "VIETNAM",
          "VIETNAM",
          "VIETNAM",
          "VIETNAM",
          "VIETNAM",
          "VIETNAM",
          "VIETNAM",
          "VIETNAM",
          "VIETNAM",
          "VIETNAM",
          "VIETNAM",
          "VIETNAM",
          "VIETNAM",
          "VIETNAM",
          "VIETNAM",
          "VIETNAM",
          "VIETNAM",
          "VIETNAM",
          "VIETNAM",
          "VIETNAM",
          "VIETNAM",
          "VIETNAM",
          "VIETNAM",
          "VIETNAM",
          "VIETNAM",
          "VIETNAM",
          "VIETNAM",
          "VIETNAM",
          "VIETNAM",
          "VIETNAM",
          "VIETNAM",
          "VIETNAM",
          "VIETNAM",
          "VIETNAM",
          "VIETNAM",
          "VIETNAM"
         ],
         "yaxis": "y"
        },
        {
         "alignmentgroup": "True",
         "hovertemplate": "Country=%{y}<br>Product Type=%{x}<extra></extra>",
         "legendgroup": "GUATEMALA",
         "marker": {
          "color": "#00cc96",
          "pattern": {
           "shape": ""
          }
         },
         "name": "GUATEMALA",
         "offsetgroup": "GUATEMALA",
         "orientation": "v",
         "showlegend": true,
         "textposition": "auto",
         "type": "bar",
         "x": [
          "APPAREL",
          "APPAREL",
          "APPAREL",
          "APPAREL"
         ],
         "xaxis": "x",
         "y": [
          "GUATEMALA",
          "GUATEMALA",
          "GUATEMALA",
          "GUATEMALA"
         ],
         "yaxis": "y"
        },
        {
         "alignmentgroup": "True",
         "hovertemplate": "Country=%{y}<br>Product Type=%{x}<extra></extra>",
         "legendgroup": "GEORGIA",
         "marker": {
          "color": "#ab63fa",
          "pattern": {
           "shape": ""
          }
         },
         "name": "GEORGIA",
         "offsetgroup": "GEORGIA",
         "orientation": "v",
         "showlegend": true,
         "textposition": "auto",
         "type": "bar",
         "x": [
          "APPAREL",
          "APPAREL"
         ],
         "xaxis": "x",
         "y": [
          "GEORGIA",
          "GEORGIA"
         ],
         "yaxis": "y"
        },
        {
         "alignmentgroup": "True",
         "hovertemplate": "Country=%{y}<br>Product Type=%{x}<extra></extra>",
         "legendgroup": "ARGENTINA",
         "marker": {
          "color": "#FFA15A",
          "pattern": {
           "shape": ""
          }
         },
         "name": "ARGENTINA",
         "offsetgroup": "ARGENTINA",
         "orientation": "v",
         "showlegend": true,
         "textposition": "auto",
         "type": "bar",
         "x": [
          "EQUIPMENT",
          "APPAREL",
          "FOOTWEAR",
          "FOOTWEAR",
          "EQUIPMENT",
          "APPAREL",
          "EQUIPMENT",
          "APPAREL",
          "APPAREL",
          "APPAREL",
          "FOOTWEAR",
          "FOOTWEAR",
          "APPAREL",
          "EQUIPMENT",
          "APPAREL",
          "APPAREL"
         ],
         "xaxis": "x",
         "y": [
          "ARGENTINA",
          "ARGENTINA",
          "ARGENTINA",
          "ARGENTINA",
          "ARGENTINA",
          "ARGENTINA",
          "ARGENTINA",
          "ARGENTINA",
          "ARGENTINA",
          "ARGENTINA",
          "ARGENTINA",
          "ARGENTINA",
          "ARGENTINA",
          "ARGENTINA",
          "ARGENTINA",
          "ARGENTINA"
         ],
         "yaxis": "y"
        },
        {
         "alignmentgroup": "True",
         "hovertemplate": "Country=%{y}<br>Product Type=%{x}<extra></extra>",
         "legendgroup": "CHINA",
         "marker": {
          "color": "#19d3f3",
          "pattern": {
           "shape": ""
          }
         },
         "name": "CHINA",
         "offsetgroup": "CHINA",
         "orientation": "v",
         "showlegend": true,
         "textposition": "auto",
         "type": "bar",
         "x": [
          "EQUIPMENT",
          "APPAREL",
          "EQUIPMENT",
          "APPAREL",
          "EQUIPMENT",
          "EQUIPMENT",
          "EQUIPMENT",
          "FOOTWEAR",
          "APPAREL",
          "EQUIPMENT",
          "EQUIPMENT",
          "APPAREL",
          "EQUIPMENT",
          "APPAREL",
          "APPAREL",
          "MATERIALS",
          "MATERIALS",
          "APPAREL",
          "EQUIPMENT",
          "EQUIPMENT",
          "MATERIALS",
          "FOOTWEAR",
          "FOOTWEAR",
          "FOOTWEAR",
          "FOOTWEAR",
          "APPAREL",
          "MATERIALS",
          "EQUIPMENT",
          "EQUIPMENT",
          "APPAREL",
          "FOOTWEAR",
          "APPAREL",
          "FOOTWEAR",
          "EQUIPMENT",
          "EQUIPMENT",
          "APPAREL",
          "APPAREL",
          "EQUIPMENT",
          "APPAREL",
          "APPAREL",
          "FOOTWEAR",
          "APPAREL",
          "APPAREL",
          "EQUIPMENT",
          "FOOTWEAR",
          "APPAREL",
          "MATERIALS",
          "APPAREL",
          "FOOTWEAR",
          "FOOTWEAR",
          "FOOTWEAR",
          "FOOTWEAR",
          "EQUIPMENT",
          "EQUIPMENT",
          "EQUIPMENT",
          "APPAREL",
          "APPAREL",
          "APPAREL",
          "APPAREL",
          "MATERIALS",
          "APPAREL",
          "APPAREL",
          "APPAREL",
          "APPAREL",
          "EQUIPMENT",
          "EQUIPMENT",
          "APPAREL",
          "FOOTWEAR",
          "EQUIPMENT",
          "FOOTWEAR",
          "EQUIPMENT",
          "EQUIPMENT",
          "MATERIALS",
          "FOOTWEAR",
          "FOOTWEAR",
          "FOOTWEAR",
          "FOOTWEAR",
          "FOOTWEAR",
          "APPAREL",
          "APPAREL",
          "EQUIPMENT",
          "EQUIPMENT",
          "APPAREL",
          "MATERIALS",
          "APPAREL",
          "APPAREL",
          "APPAREL",
          "APPAREL",
          "MATERIALS",
          "FOOTWEAR",
          "APPAREL",
          "FOOTWEAR",
          "FOOTWEAR",
          "APPAREL",
          "EQUIPMENT",
          "APPAREL",
          "FOOTWEAR",
          "FOOTWEAR",
          "FOOTWEAR",
          "APPAREL",
          "APPAREL",
          "APPAREL",
          "APPAREL",
          "APPAREL",
          "APPAREL",
          "EQUIPMENT",
          "MATERIALS",
          "APPAREL",
          "MATERIALS",
          "MATERIALS",
          "APPAREL",
          "EQUIPMENT",
          "EQUIPMENT",
          "EQUIPMENT",
          "APPAREL",
          "EQUIPMENT",
          "FOOTWEAR",
          "APPAREL",
          "FOOTWEAR",
          "FOOTWEAR",
          "FOOTWEAR",
          "FOOTWEAR",
          "APPAREL",
          "FOOTWEAR",
          "EQUIPMENT",
          "APPAREL",
          "EQUIPMENT",
          "APPAREL",
          "EQUIPMENT",
          "APPAREL",
          "APPAREL",
          "FOOTWEAR",
          "APPAREL",
          "EQUIPMENT",
          "EQUIPMENT"
         ],
         "xaxis": "x",
         "y": [
          "CHINA",
          "CHINA",
          "CHINA",
          "CHINA",
          "CHINA",
          "CHINA",
          "CHINA",
          "CHINA",
          "CHINA",
          "CHINA",
          "CHINA",
          "CHINA",
          "CHINA",
          "CHINA",
          "CHINA",
          "CHINA",
          "CHINA",
          "CHINA",
          "CHINA",
          "CHINA",
          "CHINA",
          "CHINA",
          "CHINA",
          "CHINA",
          "CHINA",
          "CHINA",
          "CHINA",
          "CHINA",
          "CHINA",
          "CHINA",
          "CHINA",
          "CHINA",
          "CHINA",
          "CHINA",
          "CHINA",
          "CHINA",
          "CHINA",
          "CHINA",
          "CHINA",
          "CHINA",
          "CHINA",
          "CHINA",
          "CHINA",
          "CHINA",
          "CHINA",
          "CHINA",
          "CHINA",
          "CHINA",
          "CHINA",
          "CHINA",
          "CHINA",
          "CHINA",
          "CHINA",
          "CHINA",
          "CHINA",
          "CHINA",
          "CHINA",
          "CHINA",
          "CHINA",
          "CHINA",
          "CHINA",
          "CHINA",
          "CHINA",
          "CHINA",
          "CHINA",
          "CHINA",
          "CHINA",
          "CHINA",
          "CHINA",
          "CHINA",
          "CHINA",
          "CHINA",
          "CHINA",
          "CHINA",
          "CHINA",
          "CHINA",
          "CHINA",
          "CHINA",
          "CHINA",
          "CHINA",
          "CHINA",
          "CHINA",
          "CHINA",
          "CHINA",
          "CHINA",
          "CHINA",
          "CHINA",
          "CHINA",
          "CHINA",
          "CHINA",
          "CHINA",
          "CHINA",
          "CHINA",
          "CHINA",
          "CHINA",
          "CHINA",
          "CHINA",
          "CHINA",
          "CHINA",
          "CHINA",
          "CHINA",
          "CHINA",
          "CHINA",
          "CHINA",
          "CHINA",
          "CHINA",
          "CHINA",
          "CHINA",
          "CHINA",
          "CHINA",
          "CHINA",
          "CHINA",
          "CHINA",
          "CHINA",
          "CHINA",
          "CHINA",
          "CHINA",
          "CHINA",
          "CHINA",
          "CHINA",
          "CHINA",
          "CHINA",
          "CHINA",
          "CHINA",
          "CHINA",
          "CHINA",
          "CHINA",
          "CHINA",
          "CHINA",
          "CHINA",
          "CHINA",
          "CHINA",
          "CHINA",
          "CHINA",
          "CHINA"
         ],
         "yaxis": "y"
        },
        {
         "alignmentgroup": "True",
         "hovertemplate": "Country=%{y}<br>Product Type=%{x}<extra></extra>",
         "legendgroup": "BRAZIL",
         "marker": {
          "color": "#FF6692",
          "pattern": {
           "shape": ""
          }
         },
         "name": "BRAZIL",
         "offsetgroup": "BRAZIL",
         "orientation": "v",
         "showlegend": true,
         "textposition": "auto",
         "type": "bar",
         "x": [
          "FOOTWEAR",
          "FOOTWEAR",
          "FOOTWEAR",
          "APPAREL",
          "FOOTWEAR",
          "FOOTWEAR",
          "FOOTWEAR",
          "FOOTWEAR",
          "FOOTWEAR",
          "FOOTWEAR",
          "APPAREL",
          "FOOTWEAR",
          "FOOTWEAR",
          "FOOTWEAR",
          "APPAREL",
          "FOOTWEAR",
          "APPAREL",
          "APPAREL",
          "APPAREL",
          "FOOTWEAR",
          "APPAREL",
          "APPAREL",
          "APPAREL",
          "MATERIALS",
          "FOOTWEAR",
          "APPAREL",
          "FOOTWEAR",
          "FOOTWEAR"
         ],
         "xaxis": "x",
         "y": [
          "BRAZIL",
          "BRAZIL",
          "BRAZIL",
          "BRAZIL",
          "BRAZIL",
          "BRAZIL",
          "BRAZIL",
          "BRAZIL",
          "BRAZIL",
          "BRAZIL",
          "BRAZIL",
          "BRAZIL",
          "BRAZIL",
          "BRAZIL",
          "BRAZIL",
          "BRAZIL",
          "BRAZIL",
          "BRAZIL",
          "BRAZIL",
          "BRAZIL",
          "BRAZIL",
          "BRAZIL",
          "BRAZIL",
          "BRAZIL",
          "BRAZIL",
          "BRAZIL",
          "BRAZIL",
          "BRAZIL"
         ],
         "yaxis": "y"
        },
        {
         "alignmentgroup": "True",
         "hovertemplate": "Country=%{y}<br>Product Type=%{x}<extra></extra>",
         "legendgroup": "NICARAGUA",
         "marker": {
          "color": "#B6E880",
          "pattern": {
           "shape": ""
          }
         },
         "name": "NICARAGUA",
         "offsetgroup": "NICARAGUA",
         "orientation": "v",
         "showlegend": true,
         "textposition": "auto",
         "type": "bar",
         "x": [
          "APPAREL",
          "APPAREL"
         ],
         "xaxis": "x",
         "y": [
          "NICARAGUA",
          "NICARAGUA"
         ],
         "yaxis": "y"
        },
        {
         "alignmentgroup": "True",
         "hovertemplate": "Country=%{y}<br>Product Type=%{x}<extra></extra>",
         "legendgroup": "SRI LANKA",
         "marker": {
          "color": "#FF97FF",
          "pattern": {
           "shape": ""
          }
         },
         "name": "SRI LANKA",
         "offsetgroup": "SRI LANKA",
         "orientation": "v",
         "showlegend": true,
         "textposition": "auto",
         "type": "bar",
         "x": [
          "APPAREL",
          "APPAREL",
          "APPAREL",
          "APPAREL",
          "APPAREL",
          "APPAREL",
          "APPAREL",
          "APPAREL",
          "APPAREL",
          "APPAREL",
          "APPAREL",
          "APPAREL",
          "APPAREL",
          "APPAREL",
          "APPAREL",
          "FOOTWEAR",
          "APPAREL",
          "EQUIPMENT"
         ],
         "xaxis": "x",
         "y": [
          "SRI LANKA",
          "SRI LANKA",
          "SRI LANKA",
          "SRI LANKA",
          "SRI LANKA",
          "SRI LANKA",
          "SRI LANKA",
          "SRI LANKA",
          "SRI LANKA",
          "SRI LANKA",
          "SRI LANKA",
          "SRI LANKA",
          "SRI LANKA",
          "SRI LANKA",
          "SRI LANKA",
          "SRI LANKA",
          "SRI LANKA",
          "SRI LANKA"
         ],
         "yaxis": "y"
        },
        {
         "alignmentgroup": "True",
         "hovertemplate": "Country=%{y}<br>Product Type=%{x}<extra></extra>",
         "legendgroup": "HONDURAS",
         "marker": {
          "color": "#FECB52",
          "pattern": {
           "shape": ""
          }
         },
         "name": "HONDURAS",
         "offsetgroup": "HONDURAS",
         "orientation": "v",
         "showlegend": true,
         "textposition": "auto",
         "type": "bar",
         "x": [
          "MATERIALS",
          "APPAREL",
          "APPAREL",
          "APPAREL",
          "APPAREL",
          "APPAREL"
         ],
         "xaxis": "x",
         "y": [
          "HONDURAS",
          "HONDURAS",
          "HONDURAS",
          "HONDURAS",
          "HONDURAS",
          "HONDURAS"
         ],
         "yaxis": "y"
        },
        {
         "alignmentgroup": "True",
         "hovertemplate": "Country=%{y}<br>Product Type=%{x}<extra></extra>",
         "legendgroup": "MOLDOVA",
         "marker": {
          "color": "#636efa",
          "pattern": {
           "shape": ""
          }
         },
         "name": "MOLDOVA",
         "offsetgroup": "MOLDOVA",
         "orientation": "v",
         "showlegend": true,
         "textposition": "auto",
         "type": "bar",
         "x": [
          "APPAREL",
          "APPAREL",
          "APPAREL",
          "APPAREL"
         ],
         "xaxis": "x",
         "y": [
          "MOLDOVA",
          "MOLDOVA",
          "MOLDOVA",
          "MOLDOVA"
         ],
         "yaxis": "y"
        },
        {
         "alignmentgroup": "True",
         "hovertemplate": "Country=%{y}<br>Product Type=%{x}<extra></extra>",
         "legendgroup": "JAPAN",
         "marker": {
          "color": "#EF553B",
          "pattern": {
           "shape": ""
          }
         },
         "name": "JAPAN",
         "offsetgroup": "JAPAN",
         "orientation": "v",
         "showlegend": true,
         "textposition": "auto",
         "type": "bar",
         "x": [
          "EQUIPMENT",
          "APPAREL",
          "FOOTWEAR",
          "EQUIPMENT",
          "EQUIPMENT",
          "EQUIPMENT",
          "EQUIPMENT",
          "APPAREL",
          "APPAREL",
          "APPAREL",
          "EQUIPMENT",
          "EQUIPMENT",
          "EQUIPMENT",
          "APPAREL"
         ],
         "xaxis": "x",
         "y": [
          "JAPAN",
          "JAPAN",
          "JAPAN",
          "JAPAN",
          "JAPAN",
          "JAPAN",
          "JAPAN",
          "JAPAN",
          "JAPAN",
          "JAPAN",
          "JAPAN",
          "JAPAN",
          "JAPAN",
          "JAPAN"
         ],
         "yaxis": "y"
        },
        {
         "alignmentgroup": "True",
         "hovertemplate": "Country=%{y}<br>Product Type=%{x}<extra></extra>",
         "legendgroup": "NETHERLANDS",
         "marker": {
          "color": "#00cc96",
          "pattern": {
           "shape": ""
          }
         },
         "name": "NETHERLANDS",
         "offsetgroup": "NETHERLANDS",
         "orientation": "v",
         "showlegend": true,
         "textposition": "auto",
         "type": "bar",
         "x": [
          "APPAREL",
          "APPAREL"
         ],
         "xaxis": "x",
         "y": [
          "NETHERLANDS",
          "NETHERLANDS"
         ],
         "yaxis": "y"
        },
        {
         "alignmentgroup": "True",
         "hovertemplate": "Country=%{y}<br>Product Type=%{x}<extra></extra>",
         "legendgroup": "SOUTH KOREA",
         "marker": {
          "color": "#ab63fa",
          "pattern": {
           "shape": ""
          }
         },
         "name": "SOUTH KOREA",
         "offsetgroup": "SOUTH KOREA",
         "orientation": "v",
         "showlegend": true,
         "textposition": "auto",
         "type": "bar",
         "x": [
          "MATERIALS",
          "EQUIPMENT",
          "FOOTWEAR",
          "FOOTWEAR",
          "FOOTWEAR",
          "FOOTWEAR",
          "MATERIALS",
          "FOOTWEAR",
          "MATERIALS",
          "FOOTWEAR",
          "MATERIALS",
          "FOOTWEAR",
          "MATERIALS",
          "MATERIALS",
          "MATERIALS"
         ],
         "xaxis": "x",
         "y": [
          "SOUTH KOREA",
          "SOUTH KOREA",
          "SOUTH KOREA",
          "SOUTH KOREA",
          "SOUTH KOREA",
          "SOUTH KOREA",
          "SOUTH KOREA",
          "SOUTH KOREA",
          "SOUTH KOREA",
          "SOUTH KOREA",
          "SOUTH KOREA",
          "SOUTH KOREA",
          "SOUTH KOREA",
          "SOUTH KOREA",
          "SOUTH KOREA"
         ],
         "yaxis": "y"
        },
        {
         "alignmentgroup": "True",
         "hovertemplate": "Country=%{y}<br>Product Type=%{x}<extra></extra>",
         "legendgroup": "INDONESIA",
         "marker": {
          "color": "#FFA15A",
          "pattern": {
           "shape": ""
          }
         },
         "name": "INDONESIA",
         "offsetgroup": "INDONESIA",
         "orientation": "v",
         "showlegend": true,
         "textposition": "auto",
         "type": "bar",
         "x": [
          "MATERIALS",
          "FOOTWEAR",
          "MATERIALS",
          "EQUIPMENT",
          "APPAREL",
          "EQUIPMENT",
          "FOOTWEAR",
          "FOOTWEAR",
          "FOOTWEAR",
          "EQUIPMENT",
          "FOOTWEAR",
          "APPAREL",
          "APPAREL",
          "FOOTWEAR",
          "APPAREL",
          "APPAREL",
          "FOOTWEAR",
          "APPAREL",
          "APPAREL",
          "APPAREL",
          "FOOTWEAR",
          "APPAREL",
          "FOOTWEAR",
          "FOOTWEAR",
          "APPAREL",
          "APPAREL",
          "APPAREL",
          "APPAREL",
          "APPAREL",
          "FOOTWEAR",
          "APPAREL",
          "MATERIALS",
          "MATERIALS",
          "FOOTWEAR",
          "APPAREL",
          "FOOTWEAR",
          "APPAREL",
          "EQUIPMENT",
          "FOOTWEAR",
          "FOOTWEAR",
          "FOOTWEAR",
          "FOOTWEAR",
          "MATERIALS",
          "MATERIALS",
          "EQUIPMENT"
         ],
         "xaxis": "x",
         "y": [
          "INDONESIA",
          "INDONESIA",
          "INDONESIA",
          "INDONESIA",
          "INDONESIA",
          "INDONESIA",
          "INDONESIA",
          "INDONESIA",
          "INDONESIA",
          "INDONESIA",
          "INDONESIA",
          "INDONESIA",
          "INDONESIA",
          "INDONESIA",
          "INDONESIA",
          "INDONESIA",
          "INDONESIA",
          "INDONESIA",
          "INDONESIA",
          "INDONESIA",
          "INDONESIA",
          "INDONESIA",
          "INDONESIA",
          "INDONESIA",
          "INDONESIA",
          "INDONESIA",
          "INDONESIA",
          "INDONESIA",
          "INDONESIA",
          "INDONESIA",
          "INDONESIA",
          "INDONESIA",
          "INDONESIA",
          "INDONESIA",
          "INDONESIA",
          "INDONESIA",
          "INDONESIA",
          "INDONESIA",
          "INDONESIA",
          "INDONESIA",
          "INDONESIA",
          "INDONESIA",
          "INDONESIA",
          "INDONESIA",
          "INDONESIA"
         ],
         "yaxis": "y"
        },
        {
         "alignmentgroup": "True",
         "hovertemplate": "Country=%{y}<br>Product Type=%{x}<extra></extra>",
         "legendgroup": "ITALY",
         "marker": {
          "color": "#19d3f3",
          "pattern": {
           "shape": ""
          }
         },
         "name": "ITALY",
         "offsetgroup": "ITALY",
         "orientation": "v",
         "showlegend": true,
         "textposition": "auto",
         "type": "bar",
         "x": [
          "APPAREL",
          "FOOTWEAR",
          "FOOTWEAR",
          "FOOTWEAR",
          "APPAREL",
          "APPAREL",
          "APPAREL",
          "APPAREL",
          "FOOTWEAR",
          "EQUIPMENT",
          "APPAREL",
          "APPAREL",
          "EQUIPMENT",
          "APPAREL",
          "FOOTWEAR"
         ],
         "xaxis": "x",
         "y": [
          "ITALY",
          "ITALY",
          "ITALY",
          "ITALY",
          "ITALY",
          "ITALY",
          "ITALY",
          "ITALY",
          "ITALY",
          "ITALY",
          "ITALY",
          "ITALY",
          "ITALY",
          "ITALY",
          "ITALY"
         ],
         "yaxis": "y"
        },
        {
         "alignmentgroup": "True",
         "hovertemplate": "Country=%{y}<br>Product Type=%{x}<extra></extra>",
         "legendgroup": "TAIWAN",
         "marker": {
          "color": "#FF6692",
          "pattern": {
           "shape": ""
          }
         },
         "name": "TAIWAN",
         "offsetgroup": "TAIWAN",
         "orientation": "v",
         "showlegend": true,
         "textposition": "auto",
         "type": "bar",
         "x": [
          "MATERIALS",
          "MATERIALS",
          "MATERIALS",
          "APPAREL",
          "APPAREL",
          "MATERIALS",
          "MATERIALS",
          "MATERIALS",
          "MATERIALS",
          "FOOTWEAR",
          "MATERIALS",
          "MATERIALS",
          "MATERIALS",
          "MATERIALS",
          "EQUIPMENT",
          "MATERIALS",
          "EQUIPMENT",
          "FOOTWEAR",
          "MATERIALS",
          "APPAREL",
          "MATERIALS",
          "FOOTWEAR",
          "MATERIALS",
          "MATERIALS",
          "MATERIALS",
          "MATERIALS",
          "APPAREL",
          "APPAREL",
          "MATERIALS",
          "MATERIALS",
          "MATERIALS",
          "MATERIALS",
          "MATERIALS",
          "MATERIALS",
          "MATERIALS",
          "EQUIPMENT",
          "EQUIPMENT",
          "EQUIPMENT",
          "FOOTWEAR"
         ],
         "xaxis": "x",
         "y": [
          "TAIWAN",
          "TAIWAN",
          "TAIWAN",
          "TAIWAN",
          "TAIWAN",
          "TAIWAN",
          "TAIWAN",
          "TAIWAN",
          "TAIWAN",
          "TAIWAN",
          "TAIWAN",
          "TAIWAN",
          "TAIWAN",
          "TAIWAN",
          "TAIWAN",
          "TAIWAN",
          "TAIWAN",
          "TAIWAN",
          "TAIWAN",
          "TAIWAN",
          "TAIWAN",
          "TAIWAN",
          "TAIWAN",
          "TAIWAN",
          "TAIWAN",
          "TAIWAN",
          "TAIWAN",
          "TAIWAN",
          "TAIWAN",
          "TAIWAN",
          "TAIWAN",
          "TAIWAN",
          "TAIWAN",
          "TAIWAN",
          "TAIWAN",
          "TAIWAN",
          "TAIWAN",
          "TAIWAN",
          "TAIWAN"
         ],
         "yaxis": "y"
        },
        {
         "alignmentgroup": "True",
         "hovertemplate": "Country=%{y}<br>Product Type=%{x}<extra></extra>",
         "legendgroup": "MEXICO",
         "marker": {
          "color": "#B6E880",
          "pattern": {
           "shape": ""
          }
         },
         "name": "MEXICO",
         "offsetgroup": "MEXICO",
         "orientation": "v",
         "showlegend": true,
         "textposition": "auto",
         "type": "bar",
         "x": [
          "APPAREL",
          "APPAREL",
          "APPAREL",
          "APPAREL",
          "FOOTWEAR",
          "APPAREL",
          "APPAREL",
          "APPAREL",
          "FOOTWEAR",
          "APPAREL",
          "APPAREL",
          "APPAREL",
          "APPAREL",
          "APPAREL"
         ],
         "xaxis": "x",
         "y": [
          "MEXICO",
          "MEXICO",
          "MEXICO",
          "MEXICO",
          "MEXICO",
          "MEXICO",
          "MEXICO",
          "MEXICO",
          "MEXICO",
          "MEXICO",
          "MEXICO",
          "MEXICO",
          "MEXICO",
          "MEXICO"
         ],
         "yaxis": "y"
        },
        {
         "alignmentgroup": "True",
         "hovertemplate": "Country=%{y}<br>Product Type=%{x}<extra></extra>",
         "legendgroup": "CAMBODIA",
         "marker": {
          "color": "#FF97FF",
          "pattern": {
           "shape": ""
          }
         },
         "name": "CAMBODIA",
         "offsetgroup": "CAMBODIA",
         "orientation": "v",
         "showlegend": true,
         "textposition": "auto",
         "type": "bar",
         "x": [
          "APPAREL",
          "APPAREL",
          "APPAREL",
          "APPAREL",
          "APPAREL",
          "APPAREL",
          "APPAREL",
          "APPAREL"
         ],
         "xaxis": "x",
         "y": [
          "CAMBODIA",
          "CAMBODIA",
          "CAMBODIA",
          "CAMBODIA",
          "CAMBODIA",
          "CAMBODIA",
          "CAMBODIA",
          "CAMBODIA"
         ],
         "yaxis": "y"
        },
        {
         "alignmentgroup": "True",
         "hovertemplate": "Country=%{y}<br>Product Type=%{x}<extra></extra>",
         "legendgroup": "EL SALVADOR",
         "marker": {
          "color": "#FECB52",
          "pattern": {
           "shape": ""
          }
         },
         "name": "EL SALVADOR",
         "offsetgroup": "EL SALVADOR",
         "orientation": "v",
         "showlegend": true,
         "textposition": "auto",
         "type": "bar",
         "x": [
          "APPAREL",
          "MATERIALS",
          "APPAREL",
          "APPAREL"
         ],
         "xaxis": "x",
         "y": [
          "EL SALVADOR",
          "EL SALVADOR",
          "EL SALVADOR",
          "EL SALVADOR"
         ],
         "yaxis": "y"
        },
        {
         "alignmentgroup": "True",
         "hovertemplate": "Country=%{y}<br>Product Type=%{x}<extra></extra>",
         "legendgroup": "TURKEY",
         "marker": {
          "color": "#636efa",
          "pattern": {
           "shape": ""
          }
         },
         "name": "TURKEY",
         "offsetgroup": "TURKEY",
         "orientation": "v",
         "showlegend": true,
         "textposition": "auto",
         "type": "bar",
         "x": [
          "EQUIPMENT",
          "APPAREL",
          "APPAREL",
          "MATERIALS"
         ],
         "xaxis": "x",
         "y": [
          "TURKEY",
          "TURKEY",
          "TURKEY",
          "TURKEY"
         ],
         "yaxis": "y"
        },
        {
         "alignmentgroup": "True",
         "hovertemplate": "Country=%{y}<br>Product Type=%{x}<extra></extra>",
         "legendgroup": "ISRAEL",
         "marker": {
          "color": "#EF553B",
          "pattern": {
           "shape": ""
          }
         },
         "name": "ISRAEL",
         "offsetgroup": "ISRAEL",
         "orientation": "v",
         "showlegend": true,
         "textposition": "auto",
         "type": "bar",
         "x": [
          "EQUIPMENT"
         ],
         "xaxis": "x",
         "y": [
          "ISRAEL"
         ],
         "yaxis": "y"
        },
        {
         "alignmentgroup": "True",
         "hovertemplate": "Country=%{y}<br>Product Type=%{x}<extra></extra>",
         "legendgroup": "BULGARIA",
         "marker": {
          "color": "#00cc96",
          "pattern": {
           "shape": ""
          }
         },
         "name": "BULGARIA",
         "offsetgroup": "BULGARIA",
         "orientation": "v",
         "showlegend": true,
         "textposition": "auto",
         "type": "bar",
         "x": [
          "EQUIPMENT"
         ],
         "xaxis": "x",
         "y": [
          "BULGARIA"
         ],
         "yaxis": "y"
        },
        {
         "alignmentgroup": "True",
         "hovertemplate": "Country=%{y}<br>Product Type=%{x}<extra></extra>",
         "legendgroup": "BANGLADESH",
         "marker": {
          "color": "#ab63fa",
          "pattern": {
           "shape": ""
          }
         },
         "name": "BANGLADESH",
         "offsetgroup": "BANGLADESH",
         "orientation": "v",
         "showlegend": true,
         "textposition": "auto",
         "type": "bar",
         "x": [
          "APPAREL",
          "EQUIPMENT"
         ],
         "xaxis": "x",
         "y": [
          "BANGLADESH",
          "BANGLADESH"
         ],
         "yaxis": "y"
        },
        {
         "alignmentgroup": "True",
         "hovertemplate": "Country=%{y}<br>Product Type=%{x}<extra></extra>",
         "legendgroup": "CANADA",
         "marker": {
          "color": "#FFA15A",
          "pattern": {
           "shape": ""
          }
         },
         "name": "CANADA",
         "offsetgroup": "CANADA",
         "orientation": "v",
         "showlegend": true,
         "textposition": "auto",
         "type": "bar",
         "x": [
          "APPAREL",
          "APPAREL",
          "APPAREL",
          "APPAREL"
         ],
         "xaxis": "x",
         "y": [
          "CANADA",
          "CANADA",
          "CANADA",
          "CANADA"
         ],
         "yaxis": "y"
        },
        {
         "alignmentgroup": "True",
         "hovertemplate": "Country=%{y}<br>Product Type=%{x}<extra></extra>",
         "legendgroup": "INDIA",
         "marker": {
          "color": "#19d3f3",
          "pattern": {
           "shape": ""
          }
         },
         "name": "INDIA",
         "offsetgroup": "INDIA",
         "orientation": "v",
         "showlegend": true,
         "textposition": "auto",
         "type": "bar",
         "x": [
          "FOOTWEAR",
          "APPAREL",
          "FOOTWEAR",
          "APPAREL",
          "FOOTWEAR",
          "FOOTWEAR",
          "APPAREL",
          "APPAREL",
          "EQUIPMENT",
          "FOOTWEAR",
          "FOOTWEAR"
         ],
         "xaxis": "x",
         "y": [
          "INDIA",
          "INDIA",
          "INDIA",
          "INDIA",
          "INDIA",
          "INDIA",
          "INDIA",
          "INDIA",
          "INDIA",
          "INDIA",
          "INDIA"
         ],
         "yaxis": "y"
        },
        {
         "alignmentgroup": "True",
         "hovertemplate": "Country=%{y}<br>Product Type=%{x}<extra></extra>",
         "legendgroup": "THAILAND",
         "marker": {
          "color": "#FF6692",
          "pattern": {
           "shape": ""
          }
         },
         "name": "THAILAND",
         "offsetgroup": "THAILAND",
         "orientation": "v",
         "showlegend": true,
         "textposition": "auto",
         "type": "bar",
         "x": [
          "APPAREL",
          "MATERIALS",
          "APPAREL",
          "APPAREL",
          "APPAREL",
          "APPAREL",
          "APPAREL",
          "APPAREL",
          "APPAREL",
          "APPAREL",
          "APPAREL",
          "APPAREL",
          "APPAREL",
          "APPAREL",
          "APPAREL",
          "APPAREL",
          "APPAREL",
          "APPAREL",
          "APPAREL",
          "EQUIPMENT",
          "APPAREL",
          "APPAREL",
          "APPAREL",
          "EQUIPMENT",
          "APPAREL",
          "MATERIALS",
          "MATERIALS",
          "APPAREL",
          "EQUIPMENT",
          "APPAREL",
          "EQUIPMENT",
          "EQUIPMENT",
          "APPAREL",
          "MATERIALS"
         ],
         "xaxis": "x",
         "y": [
          "THAILAND",
          "THAILAND",
          "THAILAND",
          "THAILAND",
          "THAILAND",
          "THAILAND",
          "THAILAND",
          "THAILAND",
          "THAILAND",
          "THAILAND",
          "THAILAND",
          "THAILAND",
          "THAILAND",
          "THAILAND",
          "THAILAND",
          "THAILAND",
          "THAILAND",
          "THAILAND",
          "THAILAND",
          "THAILAND",
          "THAILAND",
          "THAILAND",
          "THAILAND",
          "THAILAND",
          "THAILAND",
          "THAILAND",
          "THAILAND",
          "THAILAND",
          "THAILAND",
          "THAILAND",
          "THAILAND",
          "THAILAND",
          "THAILAND",
          "THAILAND"
         ],
         "yaxis": "y"
        },
        {
         "alignmentgroup": "True",
         "hovertemplate": "Country=%{y}<br>Product Type=%{x}<extra></extra>",
         "legendgroup": "CROATIA",
         "marker": {
          "color": "#B6E880",
          "pattern": {
           "shape": ""
          }
         },
         "name": "CROATIA",
         "offsetgroup": "CROATIA",
         "orientation": "v",
         "showlegend": true,
         "textposition": "auto",
         "type": "bar",
         "x": [
          "EQUIPMENT"
         ],
         "xaxis": "x",
         "y": [
          "CROATIA"
         ],
         "yaxis": "y"
        },
        {
         "alignmentgroup": "True",
         "hovertemplate": "Country=%{y}<br>Product Type=%{x}<extra></extra>",
         "legendgroup": "ECUADOR",
         "marker": {
          "color": "#FF97FF",
          "pattern": {
           "shape": ""
          }
         },
         "name": "ECUADOR",
         "offsetgroup": "ECUADOR",
         "orientation": "v",
         "showlegend": true,
         "textposition": "auto",
         "type": "bar",
         "x": [
          "APPAREL"
         ],
         "xaxis": "x",
         "y": [
          "ECUADOR"
         ],
         "yaxis": "y"
        },
        {
         "alignmentgroup": "True",
         "hovertemplate": "Country=%{y}<br>Product Type=%{x}<extra></extra>",
         "legendgroup": "GERMANY",
         "marker": {
          "color": "#FECB52",
          "pattern": {
           "shape": ""
          }
         },
         "name": "GERMANY",
         "offsetgroup": "GERMANY",
         "orientation": "v",
         "showlegend": true,
         "textposition": "auto",
         "type": "bar",
         "x": [
          "APPAREL"
         ],
         "xaxis": "x",
         "y": [
          "GERMANY"
         ],
         "yaxis": "y"
        },
        {
         "alignmentgroup": "True",
         "hovertemplate": "Country=%{y}<br>Product Type=%{x}<extra></extra>",
         "legendgroup": "SPAIN",
         "marker": {
          "color": "#636efa",
          "pattern": {
           "shape": ""
          }
         },
         "name": "SPAIN",
         "offsetgroup": "SPAIN",
         "orientation": "v",
         "showlegend": true,
         "textposition": "auto",
         "type": "bar",
         "x": [
          "APPAREL",
          "APPAREL",
          "APPAREL",
          "APPAREL"
         ],
         "xaxis": "x",
         "y": [
          "SPAIN",
          "SPAIN",
          "SPAIN",
          "SPAIN"
         ],
         "yaxis": "y"
        },
        {
         "alignmentgroup": "True",
         "hovertemplate": "Country=%{y}<br>Product Type=%{x}<extra></extra>",
         "legendgroup": "UNITED KINGDOM",
         "marker": {
          "color": "#EF553B",
          "pattern": {
           "shape": ""
          }
         },
         "name": "UNITED KINGDOM",
         "offsetgroup": "UNITED KINGDOM",
         "orientation": "v",
         "showlegend": true,
         "textposition": "auto",
         "type": "bar",
         "x": [
          "APPAREL",
          "APPAREL"
         ],
         "xaxis": "x",
         "y": [
          "UNITED KINGDOM",
          "UNITED KINGDOM"
         ],
         "yaxis": "y"
        },
        {
         "alignmentgroup": "True",
         "hovertemplate": "Country=%{y}<br>Product Type=%{x}<extra></extra>",
         "legendgroup": "GREECE",
         "marker": {
          "color": "#00cc96",
          "pattern": {
           "shape": ""
          }
         },
         "name": "GREECE",
         "offsetgroup": "GREECE",
         "orientation": "v",
         "showlegend": true,
         "textposition": "auto",
         "type": "bar",
         "x": [
          "APPAREL"
         ],
         "xaxis": "x",
         "y": [
          "GREECE"
         ],
         "yaxis": "y"
        },
        {
         "alignmentgroup": "True",
         "hovertemplate": "Country=%{y}<br>Product Type=%{x}<extra></extra>",
         "legendgroup": "MALAYSIA",
         "marker": {
          "color": "#ab63fa",
          "pattern": {
           "shape": ""
          }
         },
         "name": "MALAYSIA",
         "offsetgroup": "MALAYSIA",
         "orientation": "v",
         "showlegend": true,
         "textposition": "auto",
         "type": "bar",
         "x": [
          "APPAREL",
          "MATERIALS",
          "APPAREL",
          "APPAREL",
          "APPAREL",
          "APPAREL",
          "APPAREL",
          "APPAREL"
         ],
         "xaxis": "x",
         "y": [
          "MALAYSIA",
          "MALAYSIA",
          "MALAYSIA",
          "MALAYSIA",
          "MALAYSIA",
          "MALAYSIA",
          "MALAYSIA",
          "MALAYSIA"
         ],
         "yaxis": "y"
        },
        {
         "alignmentgroup": "True",
         "hovertemplate": "Country=%{y}<br>Product Type=%{x}<extra></extra>",
         "legendgroup": "PAKISTAN",
         "marker": {
          "color": "#FFA15A",
          "pattern": {
           "shape": ""
          }
         },
         "name": "PAKISTAN",
         "offsetgroup": "PAKISTAN",
         "orientation": "v",
         "showlegend": true,
         "textposition": "auto",
         "type": "bar",
         "x": [
          "EQUIPMENT",
          "APPAREL",
          "EQUIPMENT",
          "EQUIPMENT",
          "APPAREL",
          "APPAREL",
          "APPAREL"
         ],
         "xaxis": "x",
         "y": [
          "PAKISTAN",
          "PAKISTAN",
          "PAKISTAN",
          "PAKISTAN",
          "PAKISTAN",
          "PAKISTAN",
          "PAKISTAN"
         ],
         "yaxis": "y"
        },
        {
         "alignmentgroup": "True",
         "hovertemplate": "Country=%{y}<br>Product Type=%{x}<extra></extra>",
         "legendgroup": "EGYPT",
         "marker": {
          "color": "#19d3f3",
          "pattern": {
           "shape": ""
          }
         },
         "name": "EGYPT",
         "offsetgroup": "EGYPT",
         "orientation": "v",
         "showlegend": true,
         "textposition": "auto",
         "type": "bar",
         "x": [
          "APPAREL",
          "APPAREL",
          "APPAREL"
         ],
         "xaxis": "x",
         "y": [
          "EGYPT",
          "EGYPT",
          "EGYPT"
         ],
         "yaxis": "y"
        },
        {
         "alignmentgroup": "True",
         "hovertemplate": "Country=%{y}<br>Product Type=%{x}<extra></extra>",
         "legendgroup": "POLAND",
         "marker": {
          "color": "#FF6692",
          "pattern": {
           "shape": ""
          }
         },
         "name": "POLAND",
         "offsetgroup": "POLAND",
         "orientation": "v",
         "showlegend": true,
         "textposition": "auto",
         "type": "bar",
         "x": [
          "APPAREL"
         ],
         "xaxis": "x",
         "y": [
          "POLAND"
         ],
         "yaxis": "y"
        },
        {
         "alignmentgroup": "True",
         "hovertemplate": "Country=%{y}<br>Product Type=%{x}<extra></extra>",
         "legendgroup": "JORDAN",
         "marker": {
          "color": "#B6E880",
          "pattern": {
           "shape": ""
          }
         },
         "name": "JORDAN",
         "offsetgroup": "JORDAN",
         "orientation": "v",
         "showlegend": true,
         "textposition": "auto",
         "type": "bar",
         "x": [
          "APPAREL",
          "APPAREL",
          "APPAREL"
         ],
         "xaxis": "x",
         "y": [
          "JORDAN",
          "JORDAN",
          "JORDAN"
         ],
         "yaxis": "y"
        },
        {
         "alignmentgroup": "True",
         "hovertemplate": "Country=%{y}<br>Product Type=%{x}<extra></extra>",
         "legendgroup": "AUSTRALIA",
         "marker": {
          "color": "#FF97FF",
          "pattern": {
           "shape": ""
          }
         },
         "name": "AUSTRALIA",
         "offsetgroup": "AUSTRALIA",
         "orientation": "v",
         "showlegend": true,
         "textposition": "auto",
         "type": "bar",
         "x": [
          "APPAREL"
         ],
         "xaxis": "x",
         "y": [
          "AUSTRALIA"
         ],
         "yaxis": "y"
        },
        {
         "alignmentgroup": "True",
         "hovertemplate": "Country=%{y}<br>Product Type=%{x}<extra></extra>",
         "legendgroup": "BOSNIA",
         "marker": {
          "color": "#FECB52",
          "pattern": {
           "shape": ""
          }
         },
         "name": "BOSNIA",
         "offsetgroup": "BOSNIA",
         "orientation": "v",
         "showlegend": true,
         "textposition": "auto",
         "type": "bar",
         "x": [
          "FOOTWEAR"
         ],
         "xaxis": "x",
         "y": [
          "BOSNIA"
         ],
         "yaxis": "y"
        },
        {
         "alignmentgroup": "True",
         "hovertemplate": "Country=%{y}<br>Product Type=%{x}<extra></extra>",
         "legendgroup": "FRANCE",
         "marker": {
          "color": "#636efa",
          "pattern": {
           "shape": ""
          }
         },
         "name": "FRANCE",
         "offsetgroup": "FRANCE",
         "orientation": "v",
         "showlegend": true,
         "textposition": "auto",
         "type": "bar",
         "x": [
          "APPAREL"
         ],
         "xaxis": "x",
         "y": [
          "FRANCE"
         ],
         "yaxis": "y"
        },
        {
         "alignmentgroup": "True",
         "hovertemplate": "Country=%{y}<br>Product Type=%{x}<extra></extra>",
         "legendgroup": "SOUTH AFRICA",
         "marker": {
          "color": "#EF553B",
          "pattern": {
           "shape": ""
          }
         },
         "name": "SOUTH AFRICA",
         "offsetgroup": "SOUTH AFRICA",
         "orientation": "v",
         "showlegend": true,
         "textposition": "auto",
         "type": "bar",
         "x": [
          "APPAREL"
         ],
         "xaxis": "x",
         "y": [
          "SOUTH AFRICA"
         ],
         "yaxis": "y"
        }
       ],
       "layout": {
        "barmode": "relative",
        "legend": {
         "title": {
          "text": "Country"
         },
         "tracegroupgap": 0
        },
        "template": {
         "data": {
          "bar": [
           {
            "error_x": {
             "color": "#2a3f5f"
            },
            "error_y": {
             "color": "#2a3f5f"
            },
            "marker": {
             "line": {
              "color": "#E5ECF6",
              "width": 0.5
             },
             "pattern": {
              "fillmode": "overlay",
              "size": 10,
              "solidity": 0.2
             }
            },
            "type": "bar"
           }
          ],
          "barpolar": [
           {
            "marker": {
             "line": {
              "color": "#E5ECF6",
              "width": 0.5
             },
             "pattern": {
              "fillmode": "overlay",
              "size": 10,
              "solidity": 0.2
             }
            },
            "type": "barpolar"
           }
          ],
          "carpet": [
           {
            "aaxis": {
             "endlinecolor": "#2a3f5f",
             "gridcolor": "white",
             "linecolor": "white",
             "minorgridcolor": "white",
             "startlinecolor": "#2a3f5f"
            },
            "baxis": {
             "endlinecolor": "#2a3f5f",
             "gridcolor": "white",
             "linecolor": "white",
             "minorgridcolor": "white",
             "startlinecolor": "#2a3f5f"
            },
            "type": "carpet"
           }
          ],
          "choropleth": [
           {
            "colorbar": {
             "outlinewidth": 0,
             "ticks": ""
            },
            "type": "choropleth"
           }
          ],
          "contour": [
           {
            "colorbar": {
             "outlinewidth": 0,
             "ticks": ""
            },
            "colorscale": [
             [
              0,
              "#0d0887"
             ],
             [
              0.1111111111111111,
              "#46039f"
             ],
             [
              0.2222222222222222,
              "#7201a8"
             ],
             [
              0.3333333333333333,
              "#9c179e"
             ],
             [
              0.4444444444444444,
              "#bd3786"
             ],
             [
              0.5555555555555556,
              "#d8576b"
             ],
             [
              0.6666666666666666,
              "#ed7953"
             ],
             [
              0.7777777777777778,
              "#fb9f3a"
             ],
             [
              0.8888888888888888,
              "#fdca26"
             ],
             [
              1,
              "#f0f921"
             ]
            ],
            "type": "contour"
           }
          ],
          "contourcarpet": [
           {
            "colorbar": {
             "outlinewidth": 0,
             "ticks": ""
            },
            "type": "contourcarpet"
           }
          ],
          "heatmap": [
           {
            "colorbar": {
             "outlinewidth": 0,
             "ticks": ""
            },
            "colorscale": [
             [
              0,
              "#0d0887"
             ],
             [
              0.1111111111111111,
              "#46039f"
             ],
             [
              0.2222222222222222,
              "#7201a8"
             ],
             [
              0.3333333333333333,
              "#9c179e"
             ],
             [
              0.4444444444444444,
              "#bd3786"
             ],
             [
              0.5555555555555556,
              "#d8576b"
             ],
             [
              0.6666666666666666,
              "#ed7953"
             ],
             [
              0.7777777777777778,
              "#fb9f3a"
             ],
             [
              0.8888888888888888,
              "#fdca26"
             ],
             [
              1,
              "#f0f921"
             ]
            ],
            "type": "heatmap"
           }
          ],
          "heatmapgl": [
           {
            "colorbar": {
             "outlinewidth": 0,
             "ticks": ""
            },
            "colorscale": [
             [
              0,
              "#0d0887"
             ],
             [
              0.1111111111111111,
              "#46039f"
             ],
             [
              0.2222222222222222,
              "#7201a8"
             ],
             [
              0.3333333333333333,
              "#9c179e"
             ],
             [
              0.4444444444444444,
              "#bd3786"
             ],
             [
              0.5555555555555556,
              "#d8576b"
             ],
             [
              0.6666666666666666,
              "#ed7953"
             ],
             [
              0.7777777777777778,
              "#fb9f3a"
             ],
             [
              0.8888888888888888,
              "#fdca26"
             ],
             [
              1,
              "#f0f921"
             ]
            ],
            "type": "heatmapgl"
           }
          ],
          "histogram": [
           {
            "marker": {
             "pattern": {
              "fillmode": "overlay",
              "size": 10,
              "solidity": 0.2
             }
            },
            "type": "histogram"
           }
          ],
          "histogram2d": [
           {
            "colorbar": {
             "outlinewidth": 0,
             "ticks": ""
            },
            "colorscale": [
             [
              0,
              "#0d0887"
             ],
             [
              0.1111111111111111,
              "#46039f"
             ],
             [
              0.2222222222222222,
              "#7201a8"
             ],
             [
              0.3333333333333333,
              "#9c179e"
             ],
             [
              0.4444444444444444,
              "#bd3786"
             ],
             [
              0.5555555555555556,
              "#d8576b"
             ],
             [
              0.6666666666666666,
              "#ed7953"
             ],
             [
              0.7777777777777778,
              "#fb9f3a"
             ],
             [
              0.8888888888888888,
              "#fdca26"
             ],
             [
              1,
              "#f0f921"
             ]
            ],
            "type": "histogram2d"
           }
          ],
          "histogram2dcontour": [
           {
            "colorbar": {
             "outlinewidth": 0,
             "ticks": ""
            },
            "colorscale": [
             [
              0,
              "#0d0887"
             ],
             [
              0.1111111111111111,
              "#46039f"
             ],
             [
              0.2222222222222222,
              "#7201a8"
             ],
             [
              0.3333333333333333,
              "#9c179e"
             ],
             [
              0.4444444444444444,
              "#bd3786"
             ],
             [
              0.5555555555555556,
              "#d8576b"
             ],
             [
              0.6666666666666666,
              "#ed7953"
             ],
             [
              0.7777777777777778,
              "#fb9f3a"
             ],
             [
              0.8888888888888888,
              "#fdca26"
             ],
             [
              1,
              "#f0f921"
             ]
            ],
            "type": "histogram2dcontour"
           }
          ],
          "mesh3d": [
           {
            "colorbar": {
             "outlinewidth": 0,
             "ticks": ""
            },
            "type": "mesh3d"
           }
          ],
          "parcoords": [
           {
            "line": {
             "colorbar": {
              "outlinewidth": 0,
              "ticks": ""
             }
            },
            "type": "parcoords"
           }
          ],
          "pie": [
           {
            "automargin": true,
            "type": "pie"
           }
          ],
          "scatter": [
           {
            "fillpattern": {
             "fillmode": "overlay",
             "size": 10,
             "solidity": 0.2
            },
            "type": "scatter"
           }
          ],
          "scatter3d": [
           {
            "line": {
             "colorbar": {
              "outlinewidth": 0,
              "ticks": ""
             }
            },
            "marker": {
             "colorbar": {
              "outlinewidth": 0,
              "ticks": ""
             }
            },
            "type": "scatter3d"
           }
          ],
          "scattercarpet": [
           {
            "marker": {
             "colorbar": {
              "outlinewidth": 0,
              "ticks": ""
             }
            },
            "type": "scattercarpet"
           }
          ],
          "scattergeo": [
           {
            "marker": {
             "colorbar": {
              "outlinewidth": 0,
              "ticks": ""
             }
            },
            "type": "scattergeo"
           }
          ],
          "scattergl": [
           {
            "marker": {
             "colorbar": {
              "outlinewidth": 0,
              "ticks": ""
             }
            },
            "type": "scattergl"
           }
          ],
          "scattermapbox": [
           {
            "marker": {
             "colorbar": {
              "outlinewidth": 0,
              "ticks": ""
             }
            },
            "type": "scattermapbox"
           }
          ],
          "scatterpolar": [
           {
            "marker": {
             "colorbar": {
              "outlinewidth": 0,
              "ticks": ""
             }
            },
            "type": "scatterpolar"
           }
          ],
          "scatterpolargl": [
           {
            "marker": {
             "colorbar": {
              "outlinewidth": 0,
              "ticks": ""
             }
            },
            "type": "scatterpolargl"
           }
          ],
          "scatterternary": [
           {
            "marker": {
             "colorbar": {
              "outlinewidth": 0,
              "ticks": ""
             }
            },
            "type": "scatterternary"
           }
          ],
          "surface": [
           {
            "colorbar": {
             "outlinewidth": 0,
             "ticks": ""
            },
            "colorscale": [
             [
              0,
              "#0d0887"
             ],
             [
              0.1111111111111111,
              "#46039f"
             ],
             [
              0.2222222222222222,
              "#7201a8"
             ],
             [
              0.3333333333333333,
              "#9c179e"
             ],
             [
              0.4444444444444444,
              "#bd3786"
             ],
             [
              0.5555555555555556,
              "#d8576b"
             ],
             [
              0.6666666666666666,
              "#ed7953"
             ],
             [
              0.7777777777777778,
              "#fb9f3a"
             ],
             [
              0.8888888888888888,
              "#fdca26"
             ],
             [
              1,
              "#f0f921"
             ]
            ],
            "type": "surface"
           }
          ],
          "table": [
           {
            "cells": {
             "fill": {
              "color": "#EBF0F8"
             },
             "line": {
              "color": "white"
             }
            },
            "header": {
             "fill": {
              "color": "#C8D4E3"
             },
             "line": {
              "color": "white"
             }
            },
            "type": "table"
           }
          ]
         },
         "layout": {
          "annotationdefaults": {
           "arrowcolor": "#2a3f5f",
           "arrowhead": 0,
           "arrowwidth": 1
          },
          "autotypenumbers": "strict",
          "coloraxis": {
           "colorbar": {
            "outlinewidth": 0,
            "ticks": ""
           }
          },
          "colorscale": {
           "diverging": [
            [
             0,
             "#8e0152"
            ],
            [
             0.1,
             "#c51b7d"
            ],
            [
             0.2,
             "#de77ae"
            ],
            [
             0.3,
             "#f1b6da"
            ],
            [
             0.4,
             "#fde0ef"
            ],
            [
             0.5,
             "#f7f7f7"
            ],
            [
             0.6,
             "#e6f5d0"
            ],
            [
             0.7,
             "#b8e186"
            ],
            [
             0.8,
             "#7fbc41"
            ],
            [
             0.9,
             "#4d9221"
            ],
            [
             1,
             "#276419"
            ]
           ],
           "sequential": [
            [
             0,
             "#0d0887"
            ],
            [
             0.1111111111111111,
             "#46039f"
            ],
            [
             0.2222222222222222,
             "#7201a8"
            ],
            [
             0.3333333333333333,
             "#9c179e"
            ],
            [
             0.4444444444444444,
             "#bd3786"
            ],
            [
             0.5555555555555556,
             "#d8576b"
            ],
            [
             0.6666666666666666,
             "#ed7953"
            ],
            [
             0.7777777777777778,
             "#fb9f3a"
            ],
            [
             0.8888888888888888,
             "#fdca26"
            ],
            [
             1,
             "#f0f921"
            ]
           ],
           "sequentialminus": [
            [
             0,
             "#0d0887"
            ],
            [
             0.1111111111111111,
             "#46039f"
            ],
            [
             0.2222222222222222,
             "#7201a8"
            ],
            [
             0.3333333333333333,
             "#9c179e"
            ],
            [
             0.4444444444444444,
             "#bd3786"
            ],
            [
             0.5555555555555556,
             "#d8576b"
            ],
            [
             0.6666666666666666,
             "#ed7953"
            ],
            [
             0.7777777777777778,
             "#fb9f3a"
            ],
            [
             0.8888888888888888,
             "#fdca26"
            ],
            [
             1,
             "#f0f921"
            ]
           ]
          },
          "colorway": [
           "#636efa",
           "#EF553B",
           "#00cc96",
           "#ab63fa",
           "#FFA15A",
           "#19d3f3",
           "#FF6692",
           "#B6E880",
           "#FF97FF",
           "#FECB52"
          ],
          "font": {
           "color": "#2a3f5f"
          },
          "geo": {
           "bgcolor": "white",
           "lakecolor": "white",
           "landcolor": "#E5ECF6",
           "showlakes": true,
           "showland": true,
           "subunitcolor": "white"
          },
          "hoverlabel": {
           "align": "left"
          },
          "hovermode": "closest",
          "mapbox": {
           "style": "light"
          },
          "paper_bgcolor": "white",
          "plot_bgcolor": "#E5ECF6",
          "polar": {
           "angularaxis": {
            "gridcolor": "white",
            "linecolor": "white",
            "ticks": ""
           },
           "bgcolor": "#E5ECF6",
           "radialaxis": {
            "gridcolor": "white",
            "linecolor": "white",
            "ticks": ""
           }
          },
          "scene": {
           "xaxis": {
            "backgroundcolor": "#E5ECF6",
            "gridcolor": "white",
            "gridwidth": 2,
            "linecolor": "white",
            "showbackground": true,
            "ticks": "",
            "zerolinecolor": "white"
           },
           "yaxis": {
            "backgroundcolor": "#E5ECF6",
            "gridcolor": "white",
            "gridwidth": 2,
            "linecolor": "white",
            "showbackground": true,
            "ticks": "",
            "zerolinecolor": "white"
           },
           "zaxis": {
            "backgroundcolor": "#E5ECF6",
            "gridcolor": "white",
            "gridwidth": 2,
            "linecolor": "white",
            "showbackground": true,
            "ticks": "",
            "zerolinecolor": "white"
           }
          },
          "shapedefaults": {
           "line": {
            "color": "#2a3f5f"
           }
          },
          "ternary": {
           "aaxis": {
            "gridcolor": "white",
            "linecolor": "white",
            "ticks": ""
           },
           "baxis": {
            "gridcolor": "white",
            "linecolor": "white",
            "ticks": ""
           },
           "bgcolor": "#E5ECF6",
           "caxis": {
            "gridcolor": "white",
            "linecolor": "white",
            "ticks": ""
           }
          },
          "title": {
           "x": 0.05
          },
          "xaxis": {
           "automargin": true,
           "gridcolor": "white",
           "linecolor": "white",
           "ticks": "",
           "title": {
            "standoff": 15
           },
           "zerolinecolor": "white",
           "zerolinewidth": 2
          },
          "yaxis": {
           "automargin": true,
           "gridcolor": "white",
           "linecolor": "white",
           "ticks": "",
           "title": {
            "standoff": 15
           },
           "zerolinecolor": "white",
           "zerolinewidth": 2
          }
         }
        },
        "title": {
         "text": "Product Type by Countries in a Sliced Bar Chart"
        },
        "xaxis": {
         "anchor": "y",
         "domain": [
          0,
          1
         ],
         "title": {
          "text": "Product Type"
         }
        },
        "yaxis": {
         "anchor": "x",
         "categoryarray": [
          "SOUTH AFRICA",
          "FRANCE",
          "BOSNIA",
          "AUSTRALIA",
          "JORDAN",
          "POLAND",
          "EGYPT",
          "PAKISTAN",
          "MALAYSIA",
          "GREECE",
          "UNITED KINGDOM",
          "SPAIN",
          "GERMANY",
          "ECUADOR",
          "CROATIA",
          "THAILAND",
          "INDIA",
          "CANADA",
          "BANGLADESH",
          "BULGARIA",
          "ISRAEL",
          "TURKEY",
          "EL SALVADOR",
          "CAMBODIA",
          "MEXICO",
          "TAIWAN",
          "ITALY",
          "INDONESIA",
          "SOUTH KOREA",
          "NETHERLANDS",
          "JAPAN",
          "MOLDOVA",
          "HONDURAS",
          "SRI LANKA",
          "NICARAGUA",
          "BRAZIL",
          "CHINA",
          "ARGENTINA",
          "GEORGIA",
          "GUATEMALA",
          "VIETNAM",
          "USA"
         ],
         "categoryorder": "array",
         "domain": [
          0,
          1
         ],
         "title": {
          "text": "Country"
         }
        }
       }
      }
     },
     "metadata": {},
     "output_type": "display_data"
    }
   ],
   "source": [
    "# bar chart\n",
    "fig = px.bar(df, x=\"Product Type\", y=\"Country\", color=\"Country\", \n",
    "      title=\"Product Type by Countries in a Sliced Bar Chart\"\n",
    ")\n",
    "fig.show()"
   ]
  },
  {
   "cell_type": "code",
   "execution_count": 82,
   "metadata": {},
   "outputs": [
    {
     "data": {
      "application/vnd.plotly.v1+json": {
       "config": {
        "plotlyServerURL": "https://plot.ly"
       },
       "data": [
        {
         "alignmentgroup": "True",
         "box": {
          "visible": true
         },
         "customdata": [
          [
           4,
           4
          ]
         ],
         "hovertemplate": "color=Africa<br>x=%{x}<br>Total Workers=%{y}<br>Factory Name=%{customdata[0]}<br>Factory Type=%{customdata[1]}<extra></extra>",
         "legendgroup": "Africa",
         "marker": {
          "color": "#636efa"
         },
         "name": "Africa",
         "offsetgroup": "Africa",
         "orientation": "v",
         "points": "all",
         "scalegroup": "True",
         "showlegend": true,
         "type": "violin",
         "x": [
          "Africa"
         ],
         "x0": " ",
         "xaxis": "x",
         "y": [
          4
         ],
         "y0": " ",
         "yaxis": "y"
        },
        {
         "alignmentgroup": "True",
         "box": {
          "visible": true
         },
         "customdata": [
          [
           211,
           211
          ],
          [
           75,
           75
          ],
          [
           95,
           95
          ],
          [
           73,
           73
          ]
         ],
         "hovertemplate": "color=Asia<br>x=%{x}<br>Total Workers=%{y}<br>Factory Name=%{customdata[0]}<br>Factory Type=%{customdata[1]}<extra></extra>",
         "legendgroup": "Asia",
         "marker": {
          "color": "#EF553B"
         },
         "name": "Asia",
         "offsetgroup": "Asia",
         "orientation": "v",
         "points": "all",
         "scalegroup": "True",
         "showlegend": true,
         "type": "violin",
         "x": [
          "Asia",
          "Asia",
          "Asia",
          "Asia"
         ],
         "x0": " ",
         "xaxis": "x",
         "y": [
          211,
          75,
          95,
          73
         ],
         "y0": " ",
         "yaxis": "y"
        },
        {
         "alignmentgroup": "True",
         "box": {
          "visible": true
         },
         "customdata": [
          [
           24,
           24
          ],
          [
           4,
           4
          ],
          [
           6,
           6
          ]
         ],
         "hovertemplate": "color=Europe<br>x=%{x}<br>Total Workers=%{y}<br>Factory Name=%{customdata[0]}<br>Factory Type=%{customdata[1]}<extra></extra>",
         "legendgroup": "Europe",
         "marker": {
          "color": "#00cc96"
         },
         "name": "Europe",
         "offsetgroup": "Europe",
         "orientation": "v",
         "points": "all",
         "scalegroup": "True",
         "showlegend": true,
         "type": "violin",
         "x": [
          "Europe",
          "Europe",
          "Europe"
         ],
         "x0": " ",
         "xaxis": "x",
         "y": [
          24,
          4,
          6
         ],
         "y0": " ",
         "yaxis": "y"
        },
        {
         "alignmentgroup": "True",
         "box": {
          "visible": true
         },
         "customdata": [
          [
           69,
           69
          ],
          [
           7,
           7
          ],
          [
           2,
           2
          ],
          [
           2,
           2
          ]
         ],
         "hovertemplate": "color=North America<br>x=%{x}<br>Total Workers=%{y}<br>Factory Name=%{customdata[0]}<br>Factory Type=%{customdata[1]}<extra></extra>",
         "legendgroup": "North America",
         "marker": {
          "color": "#ab63fa"
         },
         "name": "North America",
         "offsetgroup": "North America",
         "orientation": "v",
         "points": "all",
         "scalegroup": "True",
         "showlegend": true,
         "type": "violin",
         "x": [
          "North America",
          "North America",
          "North America",
          "North America"
         ],
         "x0": " ",
         "xaxis": "x",
         "y": [
          69,
          7,
          2,
          2
         ],
         "y0": " ",
         "yaxis": "y"
        },
        {
         "alignmentgroup": "True",
         "box": {
          "visible": true
         },
         "customdata": [
          [
           1,
           1
          ]
         ],
         "hovertemplate": "color=Oceania<br>x=%{x}<br>Total Workers=%{y}<br>Factory Name=%{customdata[0]}<br>Factory Type=%{customdata[1]}<extra></extra>",
         "legendgroup": "Oceania",
         "marker": {
          "color": "#FFA15A"
         },
         "name": "Oceania",
         "offsetgroup": "Oceania",
         "orientation": "v",
         "points": "all",
         "scalegroup": "True",
         "showlegend": true,
         "type": "violin",
         "x": [
          "Oceania"
         ],
         "x0": " ",
         "xaxis": "x",
         "y": [
          1
         ],
         "y0": " ",
         "yaxis": "y"
        },
        {
         "alignmentgroup": "True",
         "box": {
          "visible": true
         },
         "customdata": [
          [
           19,
           19
          ],
          [
           4,
           4
          ],
          [
           21,
           21
          ],
          [
           1,
           1
          ]
         ],
         "hovertemplate": "color=South America<br>x=%{x}<br>Total Workers=%{y}<br>Factory Name=%{customdata[0]}<br>Factory Type=%{customdata[1]}<extra></extra>",
         "legendgroup": "South America",
         "marker": {
          "color": "#19d3f3"
         },
         "name": "South America",
         "offsetgroup": "South America",
         "orientation": "v",
         "points": "all",
         "scalegroup": "True",
         "showlegend": true,
         "type": "violin",
         "x": [
          "South America",
          "South America",
          "South America",
          "South America"
         ],
         "x0": " ",
         "xaxis": "x",
         "y": [
          19,
          4,
          21,
          1
         ],
         "y0": " ",
         "yaxis": "y"
        }
       ],
       "layout": {
        "legend": {
         "title": {
          "text": "color"
         },
         "tracegroupgap": 0
        },
        "template": {
         "data": {
          "bar": [
           {
            "error_x": {
             "color": "#2a3f5f"
            },
            "error_y": {
             "color": "#2a3f5f"
            },
            "marker": {
             "line": {
              "color": "#E5ECF6",
              "width": 0.5
             },
             "pattern": {
              "fillmode": "overlay",
              "size": 10,
              "solidity": 0.2
             }
            },
            "type": "bar"
           }
          ],
          "barpolar": [
           {
            "marker": {
             "line": {
              "color": "#E5ECF6",
              "width": 0.5
             },
             "pattern": {
              "fillmode": "overlay",
              "size": 10,
              "solidity": 0.2
             }
            },
            "type": "barpolar"
           }
          ],
          "carpet": [
           {
            "aaxis": {
             "endlinecolor": "#2a3f5f",
             "gridcolor": "white",
             "linecolor": "white",
             "minorgridcolor": "white",
             "startlinecolor": "#2a3f5f"
            },
            "baxis": {
             "endlinecolor": "#2a3f5f",
             "gridcolor": "white",
             "linecolor": "white",
             "minorgridcolor": "white",
             "startlinecolor": "#2a3f5f"
            },
            "type": "carpet"
           }
          ],
          "choropleth": [
           {
            "colorbar": {
             "outlinewidth": 0,
             "ticks": ""
            },
            "type": "choropleth"
           }
          ],
          "contour": [
           {
            "colorbar": {
             "outlinewidth": 0,
             "ticks": ""
            },
            "colorscale": [
             [
              0,
              "#0d0887"
             ],
             [
              0.1111111111111111,
              "#46039f"
             ],
             [
              0.2222222222222222,
              "#7201a8"
             ],
             [
              0.3333333333333333,
              "#9c179e"
             ],
             [
              0.4444444444444444,
              "#bd3786"
             ],
             [
              0.5555555555555556,
              "#d8576b"
             ],
             [
              0.6666666666666666,
              "#ed7953"
             ],
             [
              0.7777777777777778,
              "#fb9f3a"
             ],
             [
              0.8888888888888888,
              "#fdca26"
             ],
             [
              1,
              "#f0f921"
             ]
            ],
            "type": "contour"
           }
          ],
          "contourcarpet": [
           {
            "colorbar": {
             "outlinewidth": 0,
             "ticks": ""
            },
            "type": "contourcarpet"
           }
          ],
          "heatmap": [
           {
            "colorbar": {
             "outlinewidth": 0,
             "ticks": ""
            },
            "colorscale": [
             [
              0,
              "#0d0887"
             ],
             [
              0.1111111111111111,
              "#46039f"
             ],
             [
              0.2222222222222222,
              "#7201a8"
             ],
             [
              0.3333333333333333,
              "#9c179e"
             ],
             [
              0.4444444444444444,
              "#bd3786"
             ],
             [
              0.5555555555555556,
              "#d8576b"
             ],
             [
              0.6666666666666666,
              "#ed7953"
             ],
             [
              0.7777777777777778,
              "#fb9f3a"
             ],
             [
              0.8888888888888888,
              "#fdca26"
             ],
             [
              1,
              "#f0f921"
             ]
            ],
            "type": "heatmap"
           }
          ],
          "heatmapgl": [
           {
            "colorbar": {
             "outlinewidth": 0,
             "ticks": ""
            },
            "colorscale": [
             [
              0,
              "#0d0887"
             ],
             [
              0.1111111111111111,
              "#46039f"
             ],
             [
              0.2222222222222222,
              "#7201a8"
             ],
             [
              0.3333333333333333,
              "#9c179e"
             ],
             [
              0.4444444444444444,
              "#bd3786"
             ],
             [
              0.5555555555555556,
              "#d8576b"
             ],
             [
              0.6666666666666666,
              "#ed7953"
             ],
             [
              0.7777777777777778,
              "#fb9f3a"
             ],
             [
              0.8888888888888888,
              "#fdca26"
             ],
             [
              1,
              "#f0f921"
             ]
            ],
            "type": "heatmapgl"
           }
          ],
          "histogram": [
           {
            "marker": {
             "pattern": {
              "fillmode": "overlay",
              "size": 10,
              "solidity": 0.2
             }
            },
            "type": "histogram"
           }
          ],
          "histogram2d": [
           {
            "colorbar": {
             "outlinewidth": 0,
             "ticks": ""
            },
            "colorscale": [
             [
              0,
              "#0d0887"
             ],
             [
              0.1111111111111111,
              "#46039f"
             ],
             [
              0.2222222222222222,
              "#7201a8"
             ],
             [
              0.3333333333333333,
              "#9c179e"
             ],
             [
              0.4444444444444444,
              "#bd3786"
             ],
             [
              0.5555555555555556,
              "#d8576b"
             ],
             [
              0.6666666666666666,
              "#ed7953"
             ],
             [
              0.7777777777777778,
              "#fb9f3a"
             ],
             [
              0.8888888888888888,
              "#fdca26"
             ],
             [
              1,
              "#f0f921"
             ]
            ],
            "type": "histogram2d"
           }
          ],
          "histogram2dcontour": [
           {
            "colorbar": {
             "outlinewidth": 0,
             "ticks": ""
            },
            "colorscale": [
             [
              0,
              "#0d0887"
             ],
             [
              0.1111111111111111,
              "#46039f"
             ],
             [
              0.2222222222222222,
              "#7201a8"
             ],
             [
              0.3333333333333333,
              "#9c179e"
             ],
             [
              0.4444444444444444,
              "#bd3786"
             ],
             [
              0.5555555555555556,
              "#d8576b"
             ],
             [
              0.6666666666666666,
              "#ed7953"
             ],
             [
              0.7777777777777778,
              "#fb9f3a"
             ],
             [
              0.8888888888888888,
              "#fdca26"
             ],
             [
              1,
              "#f0f921"
             ]
            ],
            "type": "histogram2dcontour"
           }
          ],
          "mesh3d": [
           {
            "colorbar": {
             "outlinewidth": 0,
             "ticks": ""
            },
            "type": "mesh3d"
           }
          ],
          "parcoords": [
           {
            "line": {
             "colorbar": {
              "outlinewidth": 0,
              "ticks": ""
             }
            },
            "type": "parcoords"
           }
          ],
          "pie": [
           {
            "automargin": true,
            "type": "pie"
           }
          ],
          "scatter": [
           {
            "fillpattern": {
             "fillmode": "overlay",
             "size": 10,
             "solidity": 0.2
            },
            "type": "scatter"
           }
          ],
          "scatter3d": [
           {
            "line": {
             "colorbar": {
              "outlinewidth": 0,
              "ticks": ""
             }
            },
            "marker": {
             "colorbar": {
              "outlinewidth": 0,
              "ticks": ""
             }
            },
            "type": "scatter3d"
           }
          ],
          "scattercarpet": [
           {
            "marker": {
             "colorbar": {
              "outlinewidth": 0,
              "ticks": ""
             }
            },
            "type": "scattercarpet"
           }
          ],
          "scattergeo": [
           {
            "marker": {
             "colorbar": {
              "outlinewidth": 0,
              "ticks": ""
             }
            },
            "type": "scattergeo"
           }
          ],
          "scattergl": [
           {
            "marker": {
             "colorbar": {
              "outlinewidth": 0,
              "ticks": ""
             }
            },
            "type": "scattergl"
           }
          ],
          "scattermapbox": [
           {
            "marker": {
             "colorbar": {
              "outlinewidth": 0,
              "ticks": ""
             }
            },
            "type": "scattermapbox"
           }
          ],
          "scatterpolar": [
           {
            "marker": {
             "colorbar": {
              "outlinewidth": 0,
              "ticks": ""
             }
            },
            "type": "scatterpolar"
           }
          ],
          "scatterpolargl": [
           {
            "marker": {
             "colorbar": {
              "outlinewidth": 0,
              "ticks": ""
             }
            },
            "type": "scatterpolargl"
           }
          ],
          "scatterternary": [
           {
            "marker": {
             "colorbar": {
              "outlinewidth": 0,
              "ticks": ""
             }
            },
            "type": "scatterternary"
           }
          ],
          "surface": [
           {
            "colorbar": {
             "outlinewidth": 0,
             "ticks": ""
            },
            "colorscale": [
             [
              0,
              "#0d0887"
             ],
             [
              0.1111111111111111,
              "#46039f"
             ],
             [
              0.2222222222222222,
              "#7201a8"
             ],
             [
              0.3333333333333333,
              "#9c179e"
             ],
             [
              0.4444444444444444,
              "#bd3786"
             ],
             [
              0.5555555555555556,
              "#d8576b"
             ],
             [
              0.6666666666666666,
              "#ed7953"
             ],
             [
              0.7777777777777778,
              "#fb9f3a"
             ],
             [
              0.8888888888888888,
              "#fdca26"
             ],
             [
              1,
              "#f0f921"
             ]
            ],
            "type": "surface"
           }
          ],
          "table": [
           {
            "cells": {
             "fill": {
              "color": "#EBF0F8"
             },
             "line": {
              "color": "white"
             }
            },
            "header": {
             "fill": {
              "color": "#C8D4E3"
             },
             "line": {
              "color": "white"
             }
            },
            "type": "table"
           }
          ]
         },
         "layout": {
          "annotationdefaults": {
           "arrowcolor": "#2a3f5f",
           "arrowhead": 0,
           "arrowwidth": 1
          },
          "autotypenumbers": "strict",
          "coloraxis": {
           "colorbar": {
            "outlinewidth": 0,
            "ticks": ""
           }
          },
          "colorscale": {
           "diverging": [
            [
             0,
             "#8e0152"
            ],
            [
             0.1,
             "#c51b7d"
            ],
            [
             0.2,
             "#de77ae"
            ],
            [
             0.3,
             "#f1b6da"
            ],
            [
             0.4,
             "#fde0ef"
            ],
            [
             0.5,
             "#f7f7f7"
            ],
            [
             0.6,
             "#e6f5d0"
            ],
            [
             0.7,
             "#b8e186"
            ],
            [
             0.8,
             "#7fbc41"
            ],
            [
             0.9,
             "#4d9221"
            ],
            [
             1,
             "#276419"
            ]
           ],
           "sequential": [
            [
             0,
             "#0d0887"
            ],
            [
             0.1111111111111111,
             "#46039f"
            ],
            [
             0.2222222222222222,
             "#7201a8"
            ],
            [
             0.3333333333333333,
             "#9c179e"
            ],
            [
             0.4444444444444444,
             "#bd3786"
            ],
            [
             0.5555555555555556,
             "#d8576b"
            ],
            [
             0.6666666666666666,
             "#ed7953"
            ],
            [
             0.7777777777777778,
             "#fb9f3a"
            ],
            [
             0.8888888888888888,
             "#fdca26"
            ],
            [
             1,
             "#f0f921"
            ]
           ],
           "sequentialminus": [
            [
             0,
             "#0d0887"
            ],
            [
             0.1111111111111111,
             "#46039f"
            ],
            [
             0.2222222222222222,
             "#7201a8"
            ],
            [
             0.3333333333333333,
             "#9c179e"
            ],
            [
             0.4444444444444444,
             "#bd3786"
            ],
            [
             0.5555555555555556,
             "#d8576b"
            ],
            [
             0.6666666666666666,
             "#ed7953"
            ],
            [
             0.7777777777777778,
             "#fb9f3a"
            ],
            [
             0.8888888888888888,
             "#fdca26"
            ],
            [
             1,
             "#f0f921"
            ]
           ]
          },
          "colorway": [
           "#636efa",
           "#EF553B",
           "#00cc96",
           "#ab63fa",
           "#FFA15A",
           "#19d3f3",
           "#FF6692",
           "#B6E880",
           "#FF97FF",
           "#FECB52"
          ],
          "font": {
           "color": "#2a3f5f"
          },
          "geo": {
           "bgcolor": "white",
           "lakecolor": "white",
           "landcolor": "#E5ECF6",
           "showlakes": true,
           "showland": true,
           "subunitcolor": "white"
          },
          "hoverlabel": {
           "align": "left"
          },
          "hovermode": "closest",
          "mapbox": {
           "style": "light"
          },
          "paper_bgcolor": "white",
          "plot_bgcolor": "#E5ECF6",
          "polar": {
           "angularaxis": {
            "gridcolor": "white",
            "linecolor": "white",
            "ticks": ""
           },
           "bgcolor": "#E5ECF6",
           "radialaxis": {
            "gridcolor": "white",
            "linecolor": "white",
            "ticks": ""
           }
          },
          "scene": {
           "xaxis": {
            "backgroundcolor": "#E5ECF6",
            "gridcolor": "white",
            "gridwidth": 2,
            "linecolor": "white",
            "showbackground": true,
            "ticks": "",
            "zerolinecolor": "white"
           },
           "yaxis": {
            "backgroundcolor": "#E5ECF6",
            "gridcolor": "white",
            "gridwidth": 2,
            "linecolor": "white",
            "showbackground": true,
            "ticks": "",
            "zerolinecolor": "white"
           },
           "zaxis": {
            "backgroundcolor": "#E5ECF6",
            "gridcolor": "white",
            "gridwidth": 2,
            "linecolor": "white",
            "showbackground": true,
            "ticks": "",
            "zerolinecolor": "white"
           }
          },
          "shapedefaults": {
           "line": {
            "color": "#2a3f5f"
           }
          },
          "ternary": {
           "aaxis": {
            "gridcolor": "white",
            "linecolor": "white",
            "ticks": ""
           },
           "baxis": {
            "gridcolor": "white",
            "linecolor": "white",
            "ticks": ""
           },
           "bgcolor": "#E5ECF6",
           "caxis": {
            "gridcolor": "white",
            "linecolor": "white",
            "ticks": ""
           }
          },
          "title": {
           "x": 0.05
          },
          "xaxis": {
           "automargin": true,
           "gridcolor": "white",
           "linecolor": "white",
           "ticks": "",
           "title": {
            "standoff": 15
           },
           "zerolinecolor": "white",
           "zerolinewidth": 2
          },
          "yaxis": {
           "automargin": true,
           "gridcolor": "white",
           "linecolor": "white",
           "ticks": "",
           "title": {
            "standoff": 15
           },
           "zerolinecolor": "white",
           "zerolinewidth": 2
          }
         }
        },
        "title": {
         "text": "Violin Graph of Factory Distribituons Around All Continents including Outliers"
        },
        "violinmode": "group",
        "xaxis": {
         "anchor": "y",
         "domain": [
          0,
          1
         ],
         "title": {
          "text": "x"
         }
        },
        "yaxis": {
         "anchor": "x",
         "domain": [
          0,
          1
         ],
         "title": {
          "text": "Total Workers"
         }
        }
       }
      }
     },
     "metadata": {},
     "output_type": "display_data"
    }
   ],
   "source": [
    "# violin chart\n",
    "sub_df = df.groupby(['Continent', 'Product Type']).count()\n",
    "\n",
    "fig = px.violin(sub_df, x=sub_df.index.get_level_values(0), y='Total Workers', color=sub_df.index.get_level_values(0), box=True, points=\"all\",\n",
    "          hover_data=['Factory Name', 'Factory Type'],\n",
    "          title='Violin Graph of Factory Distribituons Around All Continents including Outliers'\n",
    ")\n",
    "\n",
    "fig.show()"
   ]
  },
  {
   "cell_type": "code",
   "execution_count": 83,
   "metadata": {},
   "outputs": [
    {
     "data": {
      "text/html": [
       "<div>\n",
       "<style scoped>\n",
       "    .dataframe tbody tr th:only-of-type {\n",
       "        vertical-align: middle;\n",
       "    }\n",
       "\n",
       "    .dataframe tbody tr th {\n",
       "        vertical-align: top;\n",
       "    }\n",
       "\n",
       "    .dataframe thead th {\n",
       "        text-align: right;\n",
       "    }\n",
       "</style>\n",
       "<table border=\"1\" class=\"dataframe\">\n",
       "  <thead>\n",
       "    <tr style=\"text-align: right;\">\n",
       "      <th></th>\n",
       "      <th></th>\n",
       "      <th>Unnamed: 0.2</th>\n",
       "      <th>Unnamed: 0.1</th>\n",
       "      <th>Unnamed: 0</th>\n",
       "      <th>Factory Name</th>\n",
       "      <th>Factory Type</th>\n",
       "      <th>Nike, Inc. Brand(s)</th>\n",
       "      <th>Events</th>\n",
       "      <th>Supplier Group</th>\n",
       "      <th>Address</th>\n",
       "      <th>City</th>\n",
       "      <th>State</th>\n",
       "      <th>Postal Code</th>\n",
       "      <th>Country</th>\n",
       "      <th>Total Workers</th>\n",
       "      <th>Line Workers</th>\n",
       "      <th>% Female Workers</th>\n",
       "      <th>% Migrant Workers</th>\n",
       "      <th>Contact Name</th>\n",
       "      <th>Contact Phone</th>\n",
       "      <th>Contact Fax</th>\n",
       "      <th>Contact Email</th>\n",
       "      <th>Subcons</th>\n",
       "      <th>Female Worker Count</th>\n",
       "      <th>Migrant Worker Count</th>\n",
       "      <th>Longitude</th>\n",
       "      <th>Latitude</th>\n",
       "    </tr>\n",
       "    <tr>\n",
       "      <th>Continent</th>\n",
       "      <th>Product Type</th>\n",
       "      <th></th>\n",
       "      <th></th>\n",
       "      <th></th>\n",
       "      <th></th>\n",
       "      <th></th>\n",
       "      <th></th>\n",
       "      <th></th>\n",
       "      <th></th>\n",
       "      <th></th>\n",
       "      <th></th>\n",
       "      <th></th>\n",
       "      <th></th>\n",
       "      <th></th>\n",
       "      <th></th>\n",
       "      <th></th>\n",
       "      <th></th>\n",
       "      <th></th>\n",
       "      <th></th>\n",
       "      <th></th>\n",
       "      <th></th>\n",
       "      <th></th>\n",
       "      <th></th>\n",
       "      <th></th>\n",
       "      <th></th>\n",
       "      <th></th>\n",
       "      <th></th>\n",
       "    </tr>\n",
       "  </thead>\n",
       "  <tbody>\n",
       "    <tr>\n",
       "      <th>Africa</th>\n",
       "      <th>APPAREL</th>\n",
       "      <td>4</td>\n",
       "      <td>4</td>\n",
       "      <td>4</td>\n",
       "      <td>4</td>\n",
       "      <td>4</td>\n",
       "      <td>4</td>\n",
       "      <td>0</td>\n",
       "      <td>4</td>\n",
       "      <td>4</td>\n",
       "      <td>4</td>\n",
       "      <td>3</td>\n",
       "      <td>2</td>\n",
       "      <td>4</td>\n",
       "      <td>4</td>\n",
       "      <td>4</td>\n",
       "      <td>4</td>\n",
       "      <td>4</td>\n",
       "      <td>0</td>\n",
       "      <td>0</td>\n",
       "      <td>0</td>\n",
       "      <td>0</td>\n",
       "      <td>0</td>\n",
       "      <td>4</td>\n",
       "      <td>4</td>\n",
       "      <td>4</td>\n",
       "      <td>4</td>\n",
       "    </tr>\n",
       "    <tr>\n",
       "      <th rowspan=\"4\" valign=\"top\">Asia</th>\n",
       "      <th>APPAREL</th>\n",
       "      <td>211</td>\n",
       "      <td>211</td>\n",
       "      <td>211</td>\n",
       "      <td>211</td>\n",
       "      <td>211</td>\n",
       "      <td>211</td>\n",
       "      <td>51</td>\n",
       "      <td>211</td>\n",
       "      <td>211</td>\n",
       "      <td>210</td>\n",
       "      <td>200</td>\n",
       "      <td>182</td>\n",
       "      <td>211</td>\n",
       "      <td>211</td>\n",
       "      <td>211</td>\n",
       "      <td>211</td>\n",
       "      <td>211</td>\n",
       "      <td>51</td>\n",
       "      <td>51</td>\n",
       "      <td>32</td>\n",
       "      <td>51</td>\n",
       "      <td>37</td>\n",
       "      <td>211</td>\n",
       "      <td>211</td>\n",
       "      <td>183</td>\n",
       "      <td>183</td>\n",
       "    </tr>\n",
       "    <tr>\n",
       "      <th>EQUIPMENT</th>\n",
       "      <td>75</td>\n",
       "      <td>75</td>\n",
       "      <td>75</td>\n",
       "      <td>75</td>\n",
       "      <td>75</td>\n",
       "      <td>75</td>\n",
       "      <td>5</td>\n",
       "      <td>75</td>\n",
       "      <td>75</td>\n",
       "      <td>75</td>\n",
       "      <td>73</td>\n",
       "      <td>65</td>\n",
       "      <td>75</td>\n",
       "      <td>75</td>\n",
       "      <td>75</td>\n",
       "      <td>75</td>\n",
       "      <td>75</td>\n",
       "      <td>5</td>\n",
       "      <td>5</td>\n",
       "      <td>2</td>\n",
       "      <td>5</td>\n",
       "      <td>5</td>\n",
       "      <td>75</td>\n",
       "      <td>75</td>\n",
       "      <td>64</td>\n",
       "      <td>64</td>\n",
       "    </tr>\n",
       "    <tr>\n",
       "      <th>FOOTWEAR</th>\n",
       "      <td>95</td>\n",
       "      <td>95</td>\n",
       "      <td>95</td>\n",
       "      <td>95</td>\n",
       "      <td>95</td>\n",
       "      <td>95</td>\n",
       "      <td>16</td>\n",
       "      <td>95</td>\n",
       "      <td>95</td>\n",
       "      <td>95</td>\n",
       "      <td>92</td>\n",
       "      <td>87</td>\n",
       "      <td>95</td>\n",
       "      <td>95</td>\n",
       "      <td>95</td>\n",
       "      <td>95</td>\n",
       "      <td>95</td>\n",
       "      <td>16</td>\n",
       "      <td>16</td>\n",
       "      <td>13</td>\n",
       "      <td>16</td>\n",
       "      <td>17</td>\n",
       "      <td>95</td>\n",
       "      <td>95</td>\n",
       "      <td>79</td>\n",
       "      <td>79</td>\n",
       "    </tr>\n",
       "    <tr>\n",
       "      <th>MATERIALS</th>\n",
       "      <td>73</td>\n",
       "      <td>73</td>\n",
       "      <td>73</td>\n",
       "      <td>73</td>\n",
       "      <td>73</td>\n",
       "      <td>73</td>\n",
       "      <td>0</td>\n",
       "      <td>73</td>\n",
       "      <td>73</td>\n",
       "      <td>73</td>\n",
       "      <td>68</td>\n",
       "      <td>65</td>\n",
       "      <td>73</td>\n",
       "      <td>73</td>\n",
       "      <td>73</td>\n",
       "      <td>73</td>\n",
       "      <td>73</td>\n",
       "      <td>0</td>\n",
       "      <td>0</td>\n",
       "      <td>0</td>\n",
       "      <td>0</td>\n",
       "      <td>0</td>\n",
       "      <td>73</td>\n",
       "      <td>73</td>\n",
       "      <td>63</td>\n",
       "      <td>63</td>\n",
       "    </tr>\n",
       "  </tbody>\n",
       "</table>\n",
       "</div>"
      ],
      "text/plain": [
       "                        Unnamed: 0.2  Unnamed: 0.1  Unnamed: 0  Factory Name  \\\n",
       "Continent Product Type                                                         \n",
       "Africa    APPAREL                  4             4           4             4   \n",
       "Asia      APPAREL                211           211         211           211   \n",
       "          EQUIPMENT               75            75          75            75   \n",
       "          FOOTWEAR                95            95          95            95   \n",
       "          MATERIALS               73            73          73            73   \n",
       "\n",
       "                        Factory Type  Nike, Inc. Brand(s)  Events  \\\n",
       "Continent Product Type                                              \n",
       "Africa    APPAREL                  4                    4       0   \n",
       "Asia      APPAREL                211                  211      51   \n",
       "          EQUIPMENT               75                   75       5   \n",
       "          FOOTWEAR                95                   95      16   \n",
       "          MATERIALS               73                   73       0   \n",
       "\n",
       "                        Supplier Group  Address  City  State  Postal Code  \\\n",
       "Continent Product Type                                                      \n",
       "Africa    APPAREL                    4        4     4      3            2   \n",
       "Asia      APPAREL                  211      211   210    200          182   \n",
       "          EQUIPMENT                 75       75    75     73           65   \n",
       "          FOOTWEAR                  95       95    95     92           87   \n",
       "          MATERIALS                 73       73    73     68           65   \n",
       "\n",
       "                        Country  Total Workers  Line Workers  \\\n",
       "Continent Product Type                                         \n",
       "Africa    APPAREL             4              4             4   \n",
       "Asia      APPAREL           211            211           211   \n",
       "          EQUIPMENT          75             75            75   \n",
       "          FOOTWEAR           95             95            95   \n",
       "          MATERIALS          73             73            73   \n",
       "\n",
       "                        % Female Workers  % Migrant Workers  Contact Name  \\\n",
       "Continent Product Type                                                      \n",
       "Africa    APPAREL                      4                  4             0   \n",
       "Asia      APPAREL                    211                211            51   \n",
       "          EQUIPMENT                   75                 75             5   \n",
       "          FOOTWEAR                    95                 95            16   \n",
       "          MATERIALS                   73                 73             0   \n",
       "\n",
       "                        Contact Phone  Contact Fax  Contact Email  Subcons  \\\n",
       "Continent Product Type                                                       \n",
       "Africa    APPAREL                   0            0              0        0   \n",
       "Asia      APPAREL                  51           32             51       37   \n",
       "          EQUIPMENT                 5            2              5        5   \n",
       "          FOOTWEAR                 16           13             16       17   \n",
       "          MATERIALS                 0            0              0        0   \n",
       "\n",
       "                        Female Worker Count  Migrant Worker Count  Longitude  \\\n",
       "Continent Product Type                                                         \n",
       "Africa    APPAREL                         4                     4          4   \n",
       "Asia      APPAREL                       211                   211        183   \n",
       "          EQUIPMENT                      75                    75         64   \n",
       "          FOOTWEAR                       95                    95         79   \n",
       "          MATERIALS                      73                    73         63   \n",
       "\n",
       "                        Latitude  \n",
       "Continent Product Type            \n",
       "Africa    APPAREL              4  \n",
       "Asia      APPAREL            183  \n",
       "          EQUIPMENT           64  \n",
       "          FOOTWEAR            79  \n",
       "          MATERIALS           63  "
      ]
     },
     "execution_count": 83,
     "metadata": {},
     "output_type": "execute_result"
    }
   ],
   "source": [
    "sub_df.head()"
   ]
  },
  {
   "cell_type": "code",
   "execution_count": 106,
   "metadata": {},
   "outputs": [
    {
     "data": {
      "application/vnd.plotly.v1+json": {
       "config": {
        "plotlyServerURL": "https://plot.ly"
       },
       "data": [
        {
         "branchvalues": "total",
         "customdata": [
          [
           687.6985121378231
          ],
          [
           10
          ],
          [
           2941.980815347722
          ],
          [
           1944
          ],
          [
           2550.807460624482
          ],
          [
           610
          ],
          [
           4673.318259416657
          ],
          [
           83.12658227848101
          ],
          [
           4120.5750741839765
          ],
          [
           72
          ],
          [
           754
          ],
          [
           1761.671926364234
          ],
          [
           1855.7686643485376
          ],
          [
           17
          ],
          [
           688.9794871794871
          ],
          [
           10
          ],
          [
           10
          ],
          [
           1653.656560088203
          ],
          [
           3421.5542276474725
          ],
          [
           4924.22788896062
          ],
          [
           11066.446474791952
          ],
          [
           307
          ],
          [
           232.16918429003022
          ],
          [
           72.82051282051282
          ],
          [
           1691.3367372353673
          ],
          [
           1091.7753197893153
          ],
          [
           2894.0867067833697
          ],
          [
           343.92862398822666
          ],
          [
           17.857142857142858
          ],
          [
           3288.14716066482
          ],
          [
           4354.54432035416
          ],
          [
           269
          ],
          [
           341
          ],
          [
           653.0774336283185
          ],
          [
           11.65
          ],
          [
           2481.1355546062937
          ],
          [
           1260.7466240227434
          ],
          [
           1921.0297494204658
          ],
          [
           1586.8976982097188
          ],
          [
           66.75
          ],
          [
           234.46957311534968
          ],
          [
           11309.372423325543
          ],
          [
           1662.8853996737357
          ],
          [
           8521.086105687647
          ],
          [
           866.152782578638
          ],
          [
           2608.740428577108
          ],
          [
           10
          ],
          [
           2176.3646384479716
          ]
         ],
         "domain": {
          "x": [
           0,
           1
          ],
          "y": [
           0,
           1
          ]
         },
         "hovertemplate": "labels=%{label}<br>Total Workers_sum=%{value}<br>parent=%{parent}<br>id=%{id}<br>Total Workers=%{color}<extra></extra>",
         "ids": [
          "South America/ARGENTINA",
          "Oceania/AUSTRALIA",
          "Asia/BANGLADESH",
          "Europe/BOSNIA",
          "South America/BRAZIL",
          "Europe/BULGARIA",
          "Asia/CAMBODIA",
          "North America/CANADA",
          "Asia/CHINA",
          "Europe/CROATIA",
          "South America/ECUADOR",
          "Africa/EGYPT",
          "North America/EL SALVADOR",
          "Europe/FRANCE",
          "Asia/GEORGIA",
          "Europe/GERMANY",
          "Europe/GREECE",
          "North America/GUATEMALA",
          "North America/HONDURAS",
          "Asia/INDIA",
          "Asia/INDONESIA",
          "Asia/ISRAEL",
          "Europe/ITALY",
          "Asia/JAPAN",
          "Asia/JORDAN",
          "Asia/MALAYSIA",
          "North America/MEXICO",
          "Europe/MOLDOVA",
          "Europe/NETHERLANDS",
          "North America/NICARAGUA",
          "Asia/PAKISTAN",
          "Europe/POLAND",
          "Africa/SOUTH AFRICA",
          "Asia/SOUTH KOREA",
          "Europe/SPAIN",
          "Asia/SRI LANKA",
          "Asia/TAIWAN",
          "Asia/THAILAND",
          "Asia/TURKEY",
          "Europe/UNITED KINGDOM",
          "North America/USA",
          "Asia/VIETNAM",
          "Africa",
          "Asia",
          "Europe",
          "North America",
          "Oceania",
          "South America"
         ],
         "labels": [
          "ARGENTINA",
          "AUSTRALIA",
          "BANGLADESH",
          "BOSNIA",
          "BRAZIL",
          "BULGARIA",
          "CAMBODIA",
          "CANADA",
          "CHINA",
          "CROATIA",
          "ECUADOR",
          "EGYPT",
          "EL SALVADOR",
          "FRANCE",
          "GEORGIA",
          "GERMANY",
          "GREECE",
          "GUATEMALA",
          "HONDURAS",
          "INDIA",
          "INDONESIA",
          "ISRAEL",
          "ITALY",
          "JAPAN",
          "JORDAN",
          "MALAYSIA",
          "MEXICO",
          "MOLDOVA",
          "NETHERLANDS",
          "NICARAGUA",
          "PAKISTAN",
          "POLAND",
          "SOUTH AFRICA",
          "SOUTH KOREA",
          "SPAIN",
          "SRI LANKA",
          "TAIWAN",
          "THAILAND",
          "TURKEY",
          "UNITED KINGDOM",
          "USA",
          "VIETNAM",
          "Africa",
          "Asia",
          "Europe",
          "North America",
          "Oceania",
          "South America"
         ],
         "marker": {
          "coloraxis": "coloraxis",
          "colors": [
           687.6985121378231,
           10,
           2941.980815347722,
           1944,
           2550.807460624482,
           610,
           4673.318259416657,
           83.12658227848101,
           4120.5750741839765,
           72,
           754,
           1761.671926364234,
           1855.7686643485376,
           17,
           688.9794871794871,
           10,
           10,
           1653.656560088203,
           3421.5542276474725,
           4924.22788896062,
           11066.446474791952,
           307,
           232.16918429003022,
           72.82051282051282,
           1691.3367372353673,
           1091.7753197893153,
           2894.0867067833697,
           343.92862398822666,
           17.857142857142858,
           3288.14716066482,
           4354.54432035416,
           269,
           341,
           653.0774336283185,
           11.65,
           2481.1355546062937,
           1260.7466240227434,
           1921.0297494204658,
           1586.8976982097188,
           66.75,
           234.46957311534968,
           11309.372423325543,
           1662.8853996737357,
           8521.086105687647,
           866.152782578638,
           2608.740428577108,
           10,
           2176.3646384479716
          ]
         },
         "name": "",
         "parents": [
          "South America",
          "Oceania",
          "Asia",
          "Europe",
          "South America",
          "Europe",
          "Asia",
          "North America",
          "Asia",
          "Europe",
          "South America",
          "Africa",
          "North America",
          "Europe",
          "Asia",
          "Europe",
          "Europe",
          "North America",
          "North America",
          "Asia",
          "Asia",
          "Asia",
          "Europe",
          "Asia",
          "Asia",
          "Asia",
          "North America",
          "Europe",
          "Europe",
          "North America",
          "Asia",
          "Europe",
          "Africa",
          "Asia",
          "Europe",
          "Asia",
          "Asia",
          "Asia",
          "Asia",
          "Europe",
          "North America",
          "Asia",
          "",
          "",
          "",
          "",
          "",
          ""
         ],
         "type": "sunburst",
         "values": [
          3831,
          10,
          5838,
          1944,
          18095,
          610,
          27531,
          237,
          161760,
          72,
          754,
          4563,
          4889,
          17,
          1365,
          10,
          10,
          3628,
          15647,
          32529,
          193946,
          307,
          1324,
          624,
          4015,
          6645,
          14624,
          1359,
          35,
          5776,
          19878,
          269,
          341,
          2712,
          40,
          28092,
          5628,
          36236,
          2737,
          96,
          5505,
          409491,
          4904,
          939334,
          5786,
          50306,
          10,
          22680
         ]
        }
       ],
       "layout": {
        "coloraxis": {
         "cmid": 8013.438243631601,
         "colorbar": {
          "title": {
           "text": "Total Workers"
          }
         },
         "colorscale": [
          [
           0,
           "#000004"
          ],
          [
           0.1111111111111111,
           "#180f3d"
          ],
          [
           0.2222222222222222,
           "#440f76"
          ],
          [
           0.3333333333333333,
           "#721f81"
          ],
          [
           0.4444444444444444,
           "#9e2f7f"
          ],
          [
           0.5555555555555556,
           "#cd4071"
          ],
          [
           0.6666666666666666,
           "#f1605d"
          ],
          [
           0.7777777777777778,
           "#fd9668"
          ],
          [
           0.8888888888888888,
           "#feca8d"
          ],
          [
           1,
           "#fcfdbf"
          ]
         ]
        },
        "legend": {
         "tracegroupgap": 0
        },
        "template": {
         "data": {
          "bar": [
           {
            "error_x": {
             "color": "#2a3f5f"
            },
            "error_y": {
             "color": "#2a3f5f"
            },
            "marker": {
             "line": {
              "color": "#E5ECF6",
              "width": 0.5
             },
             "pattern": {
              "fillmode": "overlay",
              "size": 10,
              "solidity": 0.2
             }
            },
            "type": "bar"
           }
          ],
          "barpolar": [
           {
            "marker": {
             "line": {
              "color": "#E5ECF6",
              "width": 0.5
             },
             "pattern": {
              "fillmode": "overlay",
              "size": 10,
              "solidity": 0.2
             }
            },
            "type": "barpolar"
           }
          ],
          "carpet": [
           {
            "aaxis": {
             "endlinecolor": "#2a3f5f",
             "gridcolor": "white",
             "linecolor": "white",
             "minorgridcolor": "white",
             "startlinecolor": "#2a3f5f"
            },
            "baxis": {
             "endlinecolor": "#2a3f5f",
             "gridcolor": "white",
             "linecolor": "white",
             "minorgridcolor": "white",
             "startlinecolor": "#2a3f5f"
            },
            "type": "carpet"
           }
          ],
          "choropleth": [
           {
            "colorbar": {
             "outlinewidth": 0,
             "ticks": ""
            },
            "type": "choropleth"
           }
          ],
          "contour": [
           {
            "colorbar": {
             "outlinewidth": 0,
             "ticks": ""
            },
            "colorscale": [
             [
              0,
              "#0d0887"
             ],
             [
              0.1111111111111111,
              "#46039f"
             ],
             [
              0.2222222222222222,
              "#7201a8"
             ],
             [
              0.3333333333333333,
              "#9c179e"
             ],
             [
              0.4444444444444444,
              "#bd3786"
             ],
             [
              0.5555555555555556,
              "#d8576b"
             ],
             [
              0.6666666666666666,
              "#ed7953"
             ],
             [
              0.7777777777777778,
              "#fb9f3a"
             ],
             [
              0.8888888888888888,
              "#fdca26"
             ],
             [
              1,
              "#f0f921"
             ]
            ],
            "type": "contour"
           }
          ],
          "contourcarpet": [
           {
            "colorbar": {
             "outlinewidth": 0,
             "ticks": ""
            },
            "type": "contourcarpet"
           }
          ],
          "heatmap": [
           {
            "colorbar": {
             "outlinewidth": 0,
             "ticks": ""
            },
            "colorscale": [
             [
              0,
              "#0d0887"
             ],
             [
              0.1111111111111111,
              "#46039f"
             ],
             [
              0.2222222222222222,
              "#7201a8"
             ],
             [
              0.3333333333333333,
              "#9c179e"
             ],
             [
              0.4444444444444444,
              "#bd3786"
             ],
             [
              0.5555555555555556,
              "#d8576b"
             ],
             [
              0.6666666666666666,
              "#ed7953"
             ],
             [
              0.7777777777777778,
              "#fb9f3a"
             ],
             [
              0.8888888888888888,
              "#fdca26"
             ],
             [
              1,
              "#f0f921"
             ]
            ],
            "type": "heatmap"
           }
          ],
          "heatmapgl": [
           {
            "colorbar": {
             "outlinewidth": 0,
             "ticks": ""
            },
            "colorscale": [
             [
              0,
              "#0d0887"
             ],
             [
              0.1111111111111111,
              "#46039f"
             ],
             [
              0.2222222222222222,
              "#7201a8"
             ],
             [
              0.3333333333333333,
              "#9c179e"
             ],
             [
              0.4444444444444444,
              "#bd3786"
             ],
             [
              0.5555555555555556,
              "#d8576b"
             ],
             [
              0.6666666666666666,
              "#ed7953"
             ],
             [
              0.7777777777777778,
              "#fb9f3a"
             ],
             [
              0.8888888888888888,
              "#fdca26"
             ],
             [
              1,
              "#f0f921"
             ]
            ],
            "type": "heatmapgl"
           }
          ],
          "histogram": [
           {
            "marker": {
             "pattern": {
              "fillmode": "overlay",
              "size": 10,
              "solidity": 0.2
             }
            },
            "type": "histogram"
           }
          ],
          "histogram2d": [
           {
            "colorbar": {
             "outlinewidth": 0,
             "ticks": ""
            },
            "colorscale": [
             [
              0,
              "#0d0887"
             ],
             [
              0.1111111111111111,
              "#46039f"
             ],
             [
              0.2222222222222222,
              "#7201a8"
             ],
             [
              0.3333333333333333,
              "#9c179e"
             ],
             [
              0.4444444444444444,
              "#bd3786"
             ],
             [
              0.5555555555555556,
              "#d8576b"
             ],
             [
              0.6666666666666666,
              "#ed7953"
             ],
             [
              0.7777777777777778,
              "#fb9f3a"
             ],
             [
              0.8888888888888888,
              "#fdca26"
             ],
             [
              1,
              "#f0f921"
             ]
            ],
            "type": "histogram2d"
           }
          ],
          "histogram2dcontour": [
           {
            "colorbar": {
             "outlinewidth": 0,
             "ticks": ""
            },
            "colorscale": [
             [
              0,
              "#0d0887"
             ],
             [
              0.1111111111111111,
              "#46039f"
             ],
             [
              0.2222222222222222,
              "#7201a8"
             ],
             [
              0.3333333333333333,
              "#9c179e"
             ],
             [
              0.4444444444444444,
              "#bd3786"
             ],
             [
              0.5555555555555556,
              "#d8576b"
             ],
             [
              0.6666666666666666,
              "#ed7953"
             ],
             [
              0.7777777777777778,
              "#fb9f3a"
             ],
             [
              0.8888888888888888,
              "#fdca26"
             ],
             [
              1,
              "#f0f921"
             ]
            ],
            "type": "histogram2dcontour"
           }
          ],
          "mesh3d": [
           {
            "colorbar": {
             "outlinewidth": 0,
             "ticks": ""
            },
            "type": "mesh3d"
           }
          ],
          "parcoords": [
           {
            "line": {
             "colorbar": {
              "outlinewidth": 0,
              "ticks": ""
             }
            },
            "type": "parcoords"
           }
          ],
          "pie": [
           {
            "automargin": true,
            "type": "pie"
           }
          ],
          "scatter": [
           {
            "fillpattern": {
             "fillmode": "overlay",
             "size": 10,
             "solidity": 0.2
            },
            "type": "scatter"
           }
          ],
          "scatter3d": [
           {
            "line": {
             "colorbar": {
              "outlinewidth": 0,
              "ticks": ""
             }
            },
            "marker": {
             "colorbar": {
              "outlinewidth": 0,
              "ticks": ""
             }
            },
            "type": "scatter3d"
           }
          ],
          "scattercarpet": [
           {
            "marker": {
             "colorbar": {
              "outlinewidth": 0,
              "ticks": ""
             }
            },
            "type": "scattercarpet"
           }
          ],
          "scattergeo": [
           {
            "marker": {
             "colorbar": {
              "outlinewidth": 0,
              "ticks": ""
             }
            },
            "type": "scattergeo"
           }
          ],
          "scattergl": [
           {
            "marker": {
             "colorbar": {
              "outlinewidth": 0,
              "ticks": ""
             }
            },
            "type": "scattergl"
           }
          ],
          "scattermapbox": [
           {
            "marker": {
             "colorbar": {
              "outlinewidth": 0,
              "ticks": ""
             }
            },
            "type": "scattermapbox"
           }
          ],
          "scatterpolar": [
           {
            "marker": {
             "colorbar": {
              "outlinewidth": 0,
              "ticks": ""
             }
            },
            "type": "scatterpolar"
           }
          ],
          "scatterpolargl": [
           {
            "marker": {
             "colorbar": {
              "outlinewidth": 0,
              "ticks": ""
             }
            },
            "type": "scatterpolargl"
           }
          ],
          "scatterternary": [
           {
            "marker": {
             "colorbar": {
              "outlinewidth": 0,
              "ticks": ""
             }
            },
            "type": "scatterternary"
           }
          ],
          "surface": [
           {
            "colorbar": {
             "outlinewidth": 0,
             "ticks": ""
            },
            "colorscale": [
             [
              0,
              "#0d0887"
             ],
             [
              0.1111111111111111,
              "#46039f"
             ],
             [
              0.2222222222222222,
              "#7201a8"
             ],
             [
              0.3333333333333333,
              "#9c179e"
             ],
             [
              0.4444444444444444,
              "#bd3786"
             ],
             [
              0.5555555555555556,
              "#d8576b"
             ],
             [
              0.6666666666666666,
              "#ed7953"
             ],
             [
              0.7777777777777778,
              "#fb9f3a"
             ],
             [
              0.8888888888888888,
              "#fdca26"
             ],
             [
              1,
              "#f0f921"
             ]
            ],
            "type": "surface"
           }
          ],
          "table": [
           {
            "cells": {
             "fill": {
              "color": "#EBF0F8"
             },
             "line": {
              "color": "white"
             }
            },
            "header": {
             "fill": {
              "color": "#C8D4E3"
             },
             "line": {
              "color": "white"
             }
            },
            "type": "table"
           }
          ]
         },
         "layout": {
          "annotationdefaults": {
           "arrowcolor": "#2a3f5f",
           "arrowhead": 0,
           "arrowwidth": 1
          },
          "autotypenumbers": "strict",
          "coloraxis": {
           "colorbar": {
            "outlinewidth": 0,
            "ticks": ""
           }
          },
          "colorscale": {
           "diverging": [
            [
             0,
             "#8e0152"
            ],
            [
             0.1,
             "#c51b7d"
            ],
            [
             0.2,
             "#de77ae"
            ],
            [
             0.3,
             "#f1b6da"
            ],
            [
             0.4,
             "#fde0ef"
            ],
            [
             0.5,
             "#f7f7f7"
            ],
            [
             0.6,
             "#e6f5d0"
            ],
            [
             0.7,
             "#b8e186"
            ],
            [
             0.8,
             "#7fbc41"
            ],
            [
             0.9,
             "#4d9221"
            ],
            [
             1,
             "#276419"
            ]
           ],
           "sequential": [
            [
             0,
             "#0d0887"
            ],
            [
             0.1111111111111111,
             "#46039f"
            ],
            [
             0.2222222222222222,
             "#7201a8"
            ],
            [
             0.3333333333333333,
             "#9c179e"
            ],
            [
             0.4444444444444444,
             "#bd3786"
            ],
            [
             0.5555555555555556,
             "#d8576b"
            ],
            [
             0.6666666666666666,
             "#ed7953"
            ],
            [
             0.7777777777777778,
             "#fb9f3a"
            ],
            [
             0.8888888888888888,
             "#fdca26"
            ],
            [
             1,
             "#f0f921"
            ]
           ],
           "sequentialminus": [
            [
             0,
             "#0d0887"
            ],
            [
             0.1111111111111111,
             "#46039f"
            ],
            [
             0.2222222222222222,
             "#7201a8"
            ],
            [
             0.3333333333333333,
             "#9c179e"
            ],
            [
             0.4444444444444444,
             "#bd3786"
            ],
            [
             0.5555555555555556,
             "#d8576b"
            ],
            [
             0.6666666666666666,
             "#ed7953"
            ],
            [
             0.7777777777777778,
             "#fb9f3a"
            ],
            [
             0.8888888888888888,
             "#fdca26"
            ],
            [
             1,
             "#f0f921"
            ]
           ]
          },
          "colorway": [
           "#636efa",
           "#EF553B",
           "#00cc96",
           "#ab63fa",
           "#FFA15A",
           "#19d3f3",
           "#FF6692",
           "#B6E880",
           "#FF97FF",
           "#FECB52"
          ],
          "font": {
           "color": "#2a3f5f"
          },
          "geo": {
           "bgcolor": "white",
           "lakecolor": "white",
           "landcolor": "#E5ECF6",
           "showlakes": true,
           "showland": true,
           "subunitcolor": "white"
          },
          "hoverlabel": {
           "align": "left"
          },
          "hovermode": "closest",
          "mapbox": {
           "style": "light"
          },
          "paper_bgcolor": "white",
          "plot_bgcolor": "#E5ECF6",
          "polar": {
           "angularaxis": {
            "gridcolor": "white",
            "linecolor": "white",
            "ticks": ""
           },
           "bgcolor": "#E5ECF6",
           "radialaxis": {
            "gridcolor": "white",
            "linecolor": "white",
            "ticks": ""
           }
          },
          "scene": {
           "xaxis": {
            "backgroundcolor": "#E5ECF6",
            "gridcolor": "white",
            "gridwidth": 2,
            "linecolor": "white",
            "showbackground": true,
            "ticks": "",
            "zerolinecolor": "white"
           },
           "yaxis": {
            "backgroundcolor": "#E5ECF6",
            "gridcolor": "white",
            "gridwidth": 2,
            "linecolor": "white",
            "showbackground": true,
            "ticks": "",
            "zerolinecolor": "white"
           },
           "zaxis": {
            "backgroundcolor": "#E5ECF6",
            "gridcolor": "white",
            "gridwidth": 2,
            "linecolor": "white",
            "showbackground": true,
            "ticks": "",
            "zerolinecolor": "white"
           }
          },
          "shapedefaults": {
           "line": {
            "color": "#2a3f5f"
           }
          },
          "ternary": {
           "aaxis": {
            "gridcolor": "white",
            "linecolor": "white",
            "ticks": ""
           },
           "baxis": {
            "gridcolor": "white",
            "linecolor": "white",
            "ticks": ""
           },
           "bgcolor": "#E5ECF6",
           "caxis": {
            "gridcolor": "white",
            "linecolor": "white",
            "ticks": ""
           }
          },
          "title": {
           "x": 0.05
          },
          "xaxis": {
           "automargin": true,
           "gridcolor": "white",
           "linecolor": "white",
           "ticks": "",
           "title": {
            "standoff": 15
           },
           "zerolinecolor": "white",
           "zerolinewidth": 2
          },
          "yaxis": {
           "automargin": true,
           "gridcolor": "white",
           "linecolor": "white",
           "ticks": "",
           "title": {
            "standoff": 15
           },
           "zerolinecolor": "white",
           "zerolinewidth": 2
          }
         }
        },
        "title": {
         "text": "Total Worker Distrubition Through Continents And Countries Over Sunburst Chart"
        }
       }
      }
     },
     "metadata": {},
     "output_type": "display_data"
    }
   ],
   "source": [
    "sunburst_df = df.fillna('...')\n",
    "\n",
    "# sunburst chart to show total worker distrubition through continents and then countries\n",
    "fig = px.sunburst(sunburst_df.loc[sunburst_df['Total Workers'] != 0], path=['Continent', 'Country'], \n",
    "                  values='Total Workers', color='Total Workers', color_continuous_scale='Magma',\n",
    "                  color_continuous_midpoint=np.average(df['Total Workers'], weights=df['Total Workers']),\n",
    "                  title='total worker distrubition through continents and countries over sunburst chart'.title())\n",
    "\n",
    "fig.show()"
   ]
  },
  {
   "cell_type": "code",
   "execution_count": 85,
   "metadata": {},
   "outputs": [
    {
     "data": {
      "application/vnd.plotly.v1+json": {
       "config": {
        "plotlyServerURL": "https://plot.ly"
       },
       "data": [
        {
         "hovertemplate": "variable=Total Workers<br>x=%{x}<br>value=%{y}<extra></extra>",
         "legendgroup": "Total Workers",
         "line": {
          "color": "#636efa",
          "dash": "solid"
         },
         "marker": {
          "symbol": "circle"
         },
         "mode": "lines",
         "name": "Total Workers",
         "orientation": "v",
         "showlegend": true,
         "type": "scatter",
         "x": [
          "Africa",
          "Asia",
          "Europe",
          "North America",
          "Oceania",
          "South America"
         ],
         "xaxis": "x",
         "y": [
          4904,
          939334,
          5786,
          50306,
          10,
          22680
         ],
         "yaxis": "y"
        },
        {
         "hovertemplate": "variable=Female Worker Count<br>x=%{x}<br>value=%{y}<extra></extra>",
         "legendgroup": "Female Worker Count",
         "line": {
          "color": "#EF553B",
          "dash": "solid"
         },
         "marker": {
          "symbol": "circle"
         },
         "mode": "lines",
         "name": "Female Worker Count",
         "orientation": "v",
         "showlegend": true,
         "type": "scatter",
         "x": [
          "Africa",
          "Asia",
          "Europe",
          "North America",
          "Oceania",
          "South America"
         ],
         "xaxis": "x",
         "y": [
          1750,
          706256,
          4144,
          28234,
          3,
          13627
         ],
         "yaxis": "y"
        },
        {
         "hovertemplate": "variable=Migrant Worker Count<br>x=%{x}<br>value=%{y}<extra></extra>",
         "legendgroup": "Migrant Worker Count",
         "line": {
          "color": "#00cc96",
          "dash": "solid"
         },
         "marker": {
          "symbol": "circle"
         },
         "mode": "lines",
         "name": "Migrant Worker Count",
         "orientation": "v",
         "showlegend": true,
         "type": "scatter",
         "x": [
          "Africa",
          "Asia",
          "Europe",
          "North America",
          "Oceania",
          "South America"
         ],
         "xaxis": "x",
         "y": [
          563,
          53608,
          89,
          357,
          0,
          1002
         ],
         "yaxis": "y"
        }
       ],
       "layout": {
        "legend": {
         "title": {
          "text": "variable"
         },
         "tracegroupgap": 0
        },
        "template": {
         "data": {
          "bar": [
           {
            "error_x": {
             "color": "#2a3f5f"
            },
            "error_y": {
             "color": "#2a3f5f"
            },
            "marker": {
             "line": {
              "color": "#E5ECF6",
              "width": 0.5
             },
             "pattern": {
              "fillmode": "overlay",
              "size": 10,
              "solidity": 0.2
             }
            },
            "type": "bar"
           }
          ],
          "barpolar": [
           {
            "marker": {
             "line": {
              "color": "#E5ECF6",
              "width": 0.5
             },
             "pattern": {
              "fillmode": "overlay",
              "size": 10,
              "solidity": 0.2
             }
            },
            "type": "barpolar"
           }
          ],
          "carpet": [
           {
            "aaxis": {
             "endlinecolor": "#2a3f5f",
             "gridcolor": "white",
             "linecolor": "white",
             "minorgridcolor": "white",
             "startlinecolor": "#2a3f5f"
            },
            "baxis": {
             "endlinecolor": "#2a3f5f",
             "gridcolor": "white",
             "linecolor": "white",
             "minorgridcolor": "white",
             "startlinecolor": "#2a3f5f"
            },
            "type": "carpet"
           }
          ],
          "choropleth": [
           {
            "colorbar": {
             "outlinewidth": 0,
             "ticks": ""
            },
            "type": "choropleth"
           }
          ],
          "contour": [
           {
            "colorbar": {
             "outlinewidth": 0,
             "ticks": ""
            },
            "colorscale": [
             [
              0,
              "#0d0887"
             ],
             [
              0.1111111111111111,
              "#46039f"
             ],
             [
              0.2222222222222222,
              "#7201a8"
             ],
             [
              0.3333333333333333,
              "#9c179e"
             ],
             [
              0.4444444444444444,
              "#bd3786"
             ],
             [
              0.5555555555555556,
              "#d8576b"
             ],
             [
              0.6666666666666666,
              "#ed7953"
             ],
             [
              0.7777777777777778,
              "#fb9f3a"
             ],
             [
              0.8888888888888888,
              "#fdca26"
             ],
             [
              1,
              "#f0f921"
             ]
            ],
            "type": "contour"
           }
          ],
          "contourcarpet": [
           {
            "colorbar": {
             "outlinewidth": 0,
             "ticks": ""
            },
            "type": "contourcarpet"
           }
          ],
          "heatmap": [
           {
            "colorbar": {
             "outlinewidth": 0,
             "ticks": ""
            },
            "colorscale": [
             [
              0,
              "#0d0887"
             ],
             [
              0.1111111111111111,
              "#46039f"
             ],
             [
              0.2222222222222222,
              "#7201a8"
             ],
             [
              0.3333333333333333,
              "#9c179e"
             ],
             [
              0.4444444444444444,
              "#bd3786"
             ],
             [
              0.5555555555555556,
              "#d8576b"
             ],
             [
              0.6666666666666666,
              "#ed7953"
             ],
             [
              0.7777777777777778,
              "#fb9f3a"
             ],
             [
              0.8888888888888888,
              "#fdca26"
             ],
             [
              1,
              "#f0f921"
             ]
            ],
            "type": "heatmap"
           }
          ],
          "heatmapgl": [
           {
            "colorbar": {
             "outlinewidth": 0,
             "ticks": ""
            },
            "colorscale": [
             [
              0,
              "#0d0887"
             ],
             [
              0.1111111111111111,
              "#46039f"
             ],
             [
              0.2222222222222222,
              "#7201a8"
             ],
             [
              0.3333333333333333,
              "#9c179e"
             ],
             [
              0.4444444444444444,
              "#bd3786"
             ],
             [
              0.5555555555555556,
              "#d8576b"
             ],
             [
              0.6666666666666666,
              "#ed7953"
             ],
             [
              0.7777777777777778,
              "#fb9f3a"
             ],
             [
              0.8888888888888888,
              "#fdca26"
             ],
             [
              1,
              "#f0f921"
             ]
            ],
            "type": "heatmapgl"
           }
          ],
          "histogram": [
           {
            "marker": {
             "pattern": {
              "fillmode": "overlay",
              "size": 10,
              "solidity": 0.2
             }
            },
            "type": "histogram"
           }
          ],
          "histogram2d": [
           {
            "colorbar": {
             "outlinewidth": 0,
             "ticks": ""
            },
            "colorscale": [
             [
              0,
              "#0d0887"
             ],
             [
              0.1111111111111111,
              "#46039f"
             ],
             [
              0.2222222222222222,
              "#7201a8"
             ],
             [
              0.3333333333333333,
              "#9c179e"
             ],
             [
              0.4444444444444444,
              "#bd3786"
             ],
             [
              0.5555555555555556,
              "#d8576b"
             ],
             [
              0.6666666666666666,
              "#ed7953"
             ],
             [
              0.7777777777777778,
              "#fb9f3a"
             ],
             [
              0.8888888888888888,
              "#fdca26"
             ],
             [
              1,
              "#f0f921"
             ]
            ],
            "type": "histogram2d"
           }
          ],
          "histogram2dcontour": [
           {
            "colorbar": {
             "outlinewidth": 0,
             "ticks": ""
            },
            "colorscale": [
             [
              0,
              "#0d0887"
             ],
             [
              0.1111111111111111,
              "#46039f"
             ],
             [
              0.2222222222222222,
              "#7201a8"
             ],
             [
              0.3333333333333333,
              "#9c179e"
             ],
             [
              0.4444444444444444,
              "#bd3786"
             ],
             [
              0.5555555555555556,
              "#d8576b"
             ],
             [
              0.6666666666666666,
              "#ed7953"
             ],
             [
              0.7777777777777778,
              "#fb9f3a"
             ],
             [
              0.8888888888888888,
              "#fdca26"
             ],
             [
              1,
              "#f0f921"
             ]
            ],
            "type": "histogram2dcontour"
           }
          ],
          "mesh3d": [
           {
            "colorbar": {
             "outlinewidth": 0,
             "ticks": ""
            },
            "type": "mesh3d"
           }
          ],
          "parcoords": [
           {
            "line": {
             "colorbar": {
              "outlinewidth": 0,
              "ticks": ""
             }
            },
            "type": "parcoords"
           }
          ],
          "pie": [
           {
            "automargin": true,
            "type": "pie"
           }
          ],
          "scatter": [
           {
            "fillpattern": {
             "fillmode": "overlay",
             "size": 10,
             "solidity": 0.2
            },
            "type": "scatter"
           }
          ],
          "scatter3d": [
           {
            "line": {
             "colorbar": {
              "outlinewidth": 0,
              "ticks": ""
             }
            },
            "marker": {
             "colorbar": {
              "outlinewidth": 0,
              "ticks": ""
             }
            },
            "type": "scatter3d"
           }
          ],
          "scattercarpet": [
           {
            "marker": {
             "colorbar": {
              "outlinewidth": 0,
              "ticks": ""
             }
            },
            "type": "scattercarpet"
           }
          ],
          "scattergeo": [
           {
            "marker": {
             "colorbar": {
              "outlinewidth": 0,
              "ticks": ""
             }
            },
            "type": "scattergeo"
           }
          ],
          "scattergl": [
           {
            "marker": {
             "colorbar": {
              "outlinewidth": 0,
              "ticks": ""
             }
            },
            "type": "scattergl"
           }
          ],
          "scattermapbox": [
           {
            "marker": {
             "colorbar": {
              "outlinewidth": 0,
              "ticks": ""
             }
            },
            "type": "scattermapbox"
           }
          ],
          "scatterpolar": [
           {
            "marker": {
             "colorbar": {
              "outlinewidth": 0,
              "ticks": ""
             }
            },
            "type": "scatterpolar"
           }
          ],
          "scatterpolargl": [
           {
            "marker": {
             "colorbar": {
              "outlinewidth": 0,
              "ticks": ""
             }
            },
            "type": "scatterpolargl"
           }
          ],
          "scatterternary": [
           {
            "marker": {
             "colorbar": {
              "outlinewidth": 0,
              "ticks": ""
             }
            },
            "type": "scatterternary"
           }
          ],
          "surface": [
           {
            "colorbar": {
             "outlinewidth": 0,
             "ticks": ""
            },
            "colorscale": [
             [
              0,
              "#0d0887"
             ],
             [
              0.1111111111111111,
              "#46039f"
             ],
             [
              0.2222222222222222,
              "#7201a8"
             ],
             [
              0.3333333333333333,
              "#9c179e"
             ],
             [
              0.4444444444444444,
              "#bd3786"
             ],
             [
              0.5555555555555556,
              "#d8576b"
             ],
             [
              0.6666666666666666,
              "#ed7953"
             ],
             [
              0.7777777777777778,
              "#fb9f3a"
             ],
             [
              0.8888888888888888,
              "#fdca26"
             ],
             [
              1,
              "#f0f921"
             ]
            ],
            "type": "surface"
           }
          ],
          "table": [
           {
            "cells": {
             "fill": {
              "color": "#EBF0F8"
             },
             "line": {
              "color": "white"
             }
            },
            "header": {
             "fill": {
              "color": "#C8D4E3"
             },
             "line": {
              "color": "white"
             }
            },
            "type": "table"
           }
          ]
         },
         "layout": {
          "annotationdefaults": {
           "arrowcolor": "#2a3f5f",
           "arrowhead": 0,
           "arrowwidth": 1
          },
          "autotypenumbers": "strict",
          "coloraxis": {
           "colorbar": {
            "outlinewidth": 0,
            "ticks": ""
           }
          },
          "colorscale": {
           "diverging": [
            [
             0,
             "#8e0152"
            ],
            [
             0.1,
             "#c51b7d"
            ],
            [
             0.2,
             "#de77ae"
            ],
            [
             0.3,
             "#f1b6da"
            ],
            [
             0.4,
             "#fde0ef"
            ],
            [
             0.5,
             "#f7f7f7"
            ],
            [
             0.6,
             "#e6f5d0"
            ],
            [
             0.7,
             "#b8e186"
            ],
            [
             0.8,
             "#7fbc41"
            ],
            [
             0.9,
             "#4d9221"
            ],
            [
             1,
             "#276419"
            ]
           ],
           "sequential": [
            [
             0,
             "#0d0887"
            ],
            [
             0.1111111111111111,
             "#46039f"
            ],
            [
             0.2222222222222222,
             "#7201a8"
            ],
            [
             0.3333333333333333,
             "#9c179e"
            ],
            [
             0.4444444444444444,
             "#bd3786"
            ],
            [
             0.5555555555555556,
             "#d8576b"
            ],
            [
             0.6666666666666666,
             "#ed7953"
            ],
            [
             0.7777777777777778,
             "#fb9f3a"
            ],
            [
             0.8888888888888888,
             "#fdca26"
            ],
            [
             1,
             "#f0f921"
            ]
           ],
           "sequentialminus": [
            [
             0,
             "#0d0887"
            ],
            [
             0.1111111111111111,
             "#46039f"
            ],
            [
             0.2222222222222222,
             "#7201a8"
            ],
            [
             0.3333333333333333,
             "#9c179e"
            ],
            [
             0.4444444444444444,
             "#bd3786"
            ],
            [
             0.5555555555555556,
             "#d8576b"
            ],
            [
             0.6666666666666666,
             "#ed7953"
            ],
            [
             0.7777777777777778,
             "#fb9f3a"
            ],
            [
             0.8888888888888888,
             "#fdca26"
            ],
            [
             1,
             "#f0f921"
            ]
           ]
          },
          "colorway": [
           "#636efa",
           "#EF553B",
           "#00cc96",
           "#ab63fa",
           "#FFA15A",
           "#19d3f3",
           "#FF6692",
           "#B6E880",
           "#FF97FF",
           "#FECB52"
          ],
          "font": {
           "color": "#2a3f5f"
          },
          "geo": {
           "bgcolor": "white",
           "lakecolor": "white",
           "landcolor": "#E5ECF6",
           "showlakes": true,
           "showland": true,
           "subunitcolor": "white"
          },
          "hoverlabel": {
           "align": "left"
          },
          "hovermode": "closest",
          "mapbox": {
           "style": "light"
          },
          "paper_bgcolor": "white",
          "plot_bgcolor": "#E5ECF6",
          "polar": {
           "angularaxis": {
            "gridcolor": "white",
            "linecolor": "white",
            "ticks": ""
           },
           "bgcolor": "#E5ECF6",
           "radialaxis": {
            "gridcolor": "white",
            "linecolor": "white",
            "ticks": ""
           }
          },
          "scene": {
           "xaxis": {
            "backgroundcolor": "#E5ECF6",
            "gridcolor": "white",
            "gridwidth": 2,
            "linecolor": "white",
            "showbackground": true,
            "ticks": "",
            "zerolinecolor": "white"
           },
           "yaxis": {
            "backgroundcolor": "#E5ECF6",
            "gridcolor": "white",
            "gridwidth": 2,
            "linecolor": "white",
            "showbackground": true,
            "ticks": "",
            "zerolinecolor": "white"
           },
           "zaxis": {
            "backgroundcolor": "#E5ECF6",
            "gridcolor": "white",
            "gridwidth": 2,
            "linecolor": "white",
            "showbackground": true,
            "ticks": "",
            "zerolinecolor": "white"
           }
          },
          "shapedefaults": {
           "line": {
            "color": "#2a3f5f"
           }
          },
          "ternary": {
           "aaxis": {
            "gridcolor": "white",
            "linecolor": "white",
            "ticks": ""
           },
           "baxis": {
            "gridcolor": "white",
            "linecolor": "white",
            "ticks": ""
           },
           "bgcolor": "#E5ECF6",
           "caxis": {
            "gridcolor": "white",
            "linecolor": "white",
            "ticks": ""
           }
          },
          "title": {
           "x": 0.05
          },
          "xaxis": {
           "automargin": true,
           "gridcolor": "white",
           "linecolor": "white",
           "ticks": "",
           "title": {
            "standoff": 15
           },
           "zerolinecolor": "white",
           "zerolinewidth": 2
          },
          "yaxis": {
           "automargin": true,
           "gridcolor": "white",
           "linecolor": "white",
           "ticks": "",
           "title": {
            "standoff": 15
           },
           "zerolinecolor": "white",
           "zerolinewidth": 2
          }
         }
        },
        "title": {
         "text": "Worker Counts per Each Continent on Multiple Line Plot"
        },
        "xaxis": {
         "anchor": "y",
         "domain": [
          0,
          1
         ],
         "title": {
          "text": "x"
         }
        },
        "yaxis": {
         "anchor": "x",
         "domain": [
          0,
          1
         ],
         "title": {
          "text": "value"
         }
        }
       }
      }
     },
     "metadata": {},
     "output_type": "display_data"
    }
   ],
   "source": [
    "# line plot - workers by continent\n",
    "fig = px.line(df.groupby('Continent').sum(), x=df.groupby('Continent').sum().index, \n",
    "        y=['Total Workers', 'Female Worker Count', 'Migrant Worker Count'],\n",
    "        title='Worker Counts per Each Continent on Multiple Line Plot')\n",
    "fig.show()"
   ]
  },
  {
   "cell_type": "code",
   "execution_count": 86,
   "metadata": {},
   "outputs": [
    {
     "data": {
      "application/vnd.plotly.v1+json": {
       "config": {
        "plotlyServerURL": "https://plot.ly"
       },
       "data": [
        {
         "hovertemplate": "Continents=%{x}<br>Product Type=%{y}<br>Factory Name=%{marker.color}<extra></extra>",
         "legendgroup": "",
         "marker": {
          "color": [
           4,
           211,
           75,
           95,
           73,
           24,
           4,
           6,
           69,
           7,
           2,
           2,
           1,
           19,
           4,
           21,
           1
          ],
          "coloraxis": "coloraxis",
          "size": [
           4,
           211,
           75,
           95,
           73,
           24,
           4,
           6,
           69,
           7,
           2,
           2,
           1,
           19,
           4,
           21,
           1
          ],
          "sizemode": "area",
          "sizeref": 0.5275,
          "symbol": "circle"
         },
         "mode": "markers",
         "name": "",
         "orientation": "v",
         "showlegend": false,
         "type": "scatter",
         "x": [
          "Africa",
          "Asia",
          "Asia",
          "Asia",
          "Asia",
          "Europe",
          "Europe",
          "Europe",
          "North America",
          "North America",
          "North America",
          "North America",
          "Oceania",
          "South America",
          "South America",
          "South America",
          "South America"
         ],
         "xaxis": "x",
         "y": [
          "APPAREL",
          "APPAREL",
          "EQUIPMENT",
          "FOOTWEAR",
          "MATERIALS",
          "APPAREL",
          "EQUIPMENT",
          "FOOTWEAR",
          "APPAREL",
          "EQUIPMENT",
          "FOOTWEAR",
          "MATERIALS",
          "APPAREL",
          "APPAREL",
          "EQUIPMENT",
          "FOOTWEAR",
          "MATERIALS"
         ],
         "yaxis": "y"
        }
       ],
       "layout": {
        "coloraxis": {
         "colorbar": {
          "title": {
           "text": "Factory Name"
          }
         },
         "colorscale": [
          [
           0,
           "rgb(0,0,255)"
          ],
          [
           1,
           "rgb(255,0,0)"
          ]
         ]
        },
        "legend": {
         "itemsizing": "constant",
         "tracegroupgap": 0
        },
        "template": {
         "data": {
          "bar": [
           {
            "error_x": {
             "color": "#2a3f5f"
            },
            "error_y": {
             "color": "#2a3f5f"
            },
            "marker": {
             "line": {
              "color": "#E5ECF6",
              "width": 0.5
             },
             "pattern": {
              "fillmode": "overlay",
              "size": 10,
              "solidity": 0.2
             }
            },
            "type": "bar"
           }
          ],
          "barpolar": [
           {
            "marker": {
             "line": {
              "color": "#E5ECF6",
              "width": 0.5
             },
             "pattern": {
              "fillmode": "overlay",
              "size": 10,
              "solidity": 0.2
             }
            },
            "type": "barpolar"
           }
          ],
          "carpet": [
           {
            "aaxis": {
             "endlinecolor": "#2a3f5f",
             "gridcolor": "white",
             "linecolor": "white",
             "minorgridcolor": "white",
             "startlinecolor": "#2a3f5f"
            },
            "baxis": {
             "endlinecolor": "#2a3f5f",
             "gridcolor": "white",
             "linecolor": "white",
             "minorgridcolor": "white",
             "startlinecolor": "#2a3f5f"
            },
            "type": "carpet"
           }
          ],
          "choropleth": [
           {
            "colorbar": {
             "outlinewidth": 0,
             "ticks": ""
            },
            "type": "choropleth"
           }
          ],
          "contour": [
           {
            "colorbar": {
             "outlinewidth": 0,
             "ticks": ""
            },
            "colorscale": [
             [
              0,
              "#0d0887"
             ],
             [
              0.1111111111111111,
              "#46039f"
             ],
             [
              0.2222222222222222,
              "#7201a8"
             ],
             [
              0.3333333333333333,
              "#9c179e"
             ],
             [
              0.4444444444444444,
              "#bd3786"
             ],
             [
              0.5555555555555556,
              "#d8576b"
             ],
             [
              0.6666666666666666,
              "#ed7953"
             ],
             [
              0.7777777777777778,
              "#fb9f3a"
             ],
             [
              0.8888888888888888,
              "#fdca26"
             ],
             [
              1,
              "#f0f921"
             ]
            ],
            "type": "contour"
           }
          ],
          "contourcarpet": [
           {
            "colorbar": {
             "outlinewidth": 0,
             "ticks": ""
            },
            "type": "contourcarpet"
           }
          ],
          "heatmap": [
           {
            "colorbar": {
             "outlinewidth": 0,
             "ticks": ""
            },
            "colorscale": [
             [
              0,
              "#0d0887"
             ],
             [
              0.1111111111111111,
              "#46039f"
             ],
             [
              0.2222222222222222,
              "#7201a8"
             ],
             [
              0.3333333333333333,
              "#9c179e"
             ],
             [
              0.4444444444444444,
              "#bd3786"
             ],
             [
              0.5555555555555556,
              "#d8576b"
             ],
             [
              0.6666666666666666,
              "#ed7953"
             ],
             [
              0.7777777777777778,
              "#fb9f3a"
             ],
             [
              0.8888888888888888,
              "#fdca26"
             ],
             [
              1,
              "#f0f921"
             ]
            ],
            "type": "heatmap"
           }
          ],
          "heatmapgl": [
           {
            "colorbar": {
             "outlinewidth": 0,
             "ticks": ""
            },
            "colorscale": [
             [
              0,
              "#0d0887"
             ],
             [
              0.1111111111111111,
              "#46039f"
             ],
             [
              0.2222222222222222,
              "#7201a8"
             ],
             [
              0.3333333333333333,
              "#9c179e"
             ],
             [
              0.4444444444444444,
              "#bd3786"
             ],
             [
              0.5555555555555556,
              "#d8576b"
             ],
             [
              0.6666666666666666,
              "#ed7953"
             ],
             [
              0.7777777777777778,
              "#fb9f3a"
             ],
             [
              0.8888888888888888,
              "#fdca26"
             ],
             [
              1,
              "#f0f921"
             ]
            ],
            "type": "heatmapgl"
           }
          ],
          "histogram": [
           {
            "marker": {
             "pattern": {
              "fillmode": "overlay",
              "size": 10,
              "solidity": 0.2
             }
            },
            "type": "histogram"
           }
          ],
          "histogram2d": [
           {
            "colorbar": {
             "outlinewidth": 0,
             "ticks": ""
            },
            "colorscale": [
             [
              0,
              "#0d0887"
             ],
             [
              0.1111111111111111,
              "#46039f"
             ],
             [
              0.2222222222222222,
              "#7201a8"
             ],
             [
              0.3333333333333333,
              "#9c179e"
             ],
             [
              0.4444444444444444,
              "#bd3786"
             ],
             [
              0.5555555555555556,
              "#d8576b"
             ],
             [
              0.6666666666666666,
              "#ed7953"
             ],
             [
              0.7777777777777778,
              "#fb9f3a"
             ],
             [
              0.8888888888888888,
              "#fdca26"
             ],
             [
              1,
              "#f0f921"
             ]
            ],
            "type": "histogram2d"
           }
          ],
          "histogram2dcontour": [
           {
            "colorbar": {
             "outlinewidth": 0,
             "ticks": ""
            },
            "colorscale": [
             [
              0,
              "#0d0887"
             ],
             [
              0.1111111111111111,
              "#46039f"
             ],
             [
              0.2222222222222222,
              "#7201a8"
             ],
             [
              0.3333333333333333,
              "#9c179e"
             ],
             [
              0.4444444444444444,
              "#bd3786"
             ],
             [
              0.5555555555555556,
              "#d8576b"
             ],
             [
              0.6666666666666666,
              "#ed7953"
             ],
             [
              0.7777777777777778,
              "#fb9f3a"
             ],
             [
              0.8888888888888888,
              "#fdca26"
             ],
             [
              1,
              "#f0f921"
             ]
            ],
            "type": "histogram2dcontour"
           }
          ],
          "mesh3d": [
           {
            "colorbar": {
             "outlinewidth": 0,
             "ticks": ""
            },
            "type": "mesh3d"
           }
          ],
          "parcoords": [
           {
            "line": {
             "colorbar": {
              "outlinewidth": 0,
              "ticks": ""
             }
            },
            "type": "parcoords"
           }
          ],
          "pie": [
           {
            "automargin": true,
            "type": "pie"
           }
          ],
          "scatter": [
           {
            "fillpattern": {
             "fillmode": "overlay",
             "size": 10,
             "solidity": 0.2
            },
            "type": "scatter"
           }
          ],
          "scatter3d": [
           {
            "line": {
             "colorbar": {
              "outlinewidth": 0,
              "ticks": ""
             }
            },
            "marker": {
             "colorbar": {
              "outlinewidth": 0,
              "ticks": ""
             }
            },
            "type": "scatter3d"
           }
          ],
          "scattercarpet": [
           {
            "marker": {
             "colorbar": {
              "outlinewidth": 0,
              "ticks": ""
             }
            },
            "type": "scattercarpet"
           }
          ],
          "scattergeo": [
           {
            "marker": {
             "colorbar": {
              "outlinewidth": 0,
              "ticks": ""
             }
            },
            "type": "scattergeo"
           }
          ],
          "scattergl": [
           {
            "marker": {
             "colorbar": {
              "outlinewidth": 0,
              "ticks": ""
             }
            },
            "type": "scattergl"
           }
          ],
          "scattermapbox": [
           {
            "marker": {
             "colorbar": {
              "outlinewidth": 0,
              "ticks": ""
             }
            },
            "type": "scattermapbox"
           }
          ],
          "scatterpolar": [
           {
            "marker": {
             "colorbar": {
              "outlinewidth": 0,
              "ticks": ""
             }
            },
            "type": "scatterpolar"
           }
          ],
          "scatterpolargl": [
           {
            "marker": {
             "colorbar": {
              "outlinewidth": 0,
              "ticks": ""
             }
            },
            "type": "scatterpolargl"
           }
          ],
          "scatterternary": [
           {
            "marker": {
             "colorbar": {
              "outlinewidth": 0,
              "ticks": ""
             }
            },
            "type": "scatterternary"
           }
          ],
          "surface": [
           {
            "colorbar": {
             "outlinewidth": 0,
             "ticks": ""
            },
            "colorscale": [
             [
              0,
              "#0d0887"
             ],
             [
              0.1111111111111111,
              "#46039f"
             ],
             [
              0.2222222222222222,
              "#7201a8"
             ],
             [
              0.3333333333333333,
              "#9c179e"
             ],
             [
              0.4444444444444444,
              "#bd3786"
             ],
             [
              0.5555555555555556,
              "#d8576b"
             ],
             [
              0.6666666666666666,
              "#ed7953"
             ],
             [
              0.7777777777777778,
              "#fb9f3a"
             ],
             [
              0.8888888888888888,
              "#fdca26"
             ],
             [
              1,
              "#f0f921"
             ]
            ],
            "type": "surface"
           }
          ],
          "table": [
           {
            "cells": {
             "fill": {
              "color": "#EBF0F8"
             },
             "line": {
              "color": "white"
             }
            },
            "header": {
             "fill": {
              "color": "#C8D4E3"
             },
             "line": {
              "color": "white"
             }
            },
            "type": "table"
           }
          ]
         },
         "layout": {
          "annotationdefaults": {
           "arrowcolor": "#2a3f5f",
           "arrowhead": 0,
           "arrowwidth": 1
          },
          "autotypenumbers": "strict",
          "coloraxis": {
           "colorbar": {
            "outlinewidth": 0,
            "ticks": ""
           }
          },
          "colorscale": {
           "diverging": [
            [
             0,
             "#8e0152"
            ],
            [
             0.1,
             "#c51b7d"
            ],
            [
             0.2,
             "#de77ae"
            ],
            [
             0.3,
             "#f1b6da"
            ],
            [
             0.4,
             "#fde0ef"
            ],
            [
             0.5,
             "#f7f7f7"
            ],
            [
             0.6,
             "#e6f5d0"
            ],
            [
             0.7,
             "#b8e186"
            ],
            [
             0.8,
             "#7fbc41"
            ],
            [
             0.9,
             "#4d9221"
            ],
            [
             1,
             "#276419"
            ]
           ],
           "sequential": [
            [
             0,
             "#0d0887"
            ],
            [
             0.1111111111111111,
             "#46039f"
            ],
            [
             0.2222222222222222,
             "#7201a8"
            ],
            [
             0.3333333333333333,
             "#9c179e"
            ],
            [
             0.4444444444444444,
             "#bd3786"
            ],
            [
             0.5555555555555556,
             "#d8576b"
            ],
            [
             0.6666666666666666,
             "#ed7953"
            ],
            [
             0.7777777777777778,
             "#fb9f3a"
            ],
            [
             0.8888888888888888,
             "#fdca26"
            ],
            [
             1,
             "#f0f921"
            ]
           ],
           "sequentialminus": [
            [
             0,
             "#0d0887"
            ],
            [
             0.1111111111111111,
             "#46039f"
            ],
            [
             0.2222222222222222,
             "#7201a8"
            ],
            [
             0.3333333333333333,
             "#9c179e"
            ],
            [
             0.4444444444444444,
             "#bd3786"
            ],
            [
             0.5555555555555556,
             "#d8576b"
            ],
            [
             0.6666666666666666,
             "#ed7953"
            ],
            [
             0.7777777777777778,
             "#fb9f3a"
            ],
            [
             0.8888888888888888,
             "#fdca26"
            ],
            [
             1,
             "#f0f921"
            ]
           ]
          },
          "colorway": [
           "#636efa",
           "#EF553B",
           "#00cc96",
           "#ab63fa",
           "#FFA15A",
           "#19d3f3",
           "#FF6692",
           "#B6E880",
           "#FF97FF",
           "#FECB52"
          ],
          "font": {
           "color": "#2a3f5f"
          },
          "geo": {
           "bgcolor": "white",
           "lakecolor": "white",
           "landcolor": "#E5ECF6",
           "showlakes": true,
           "showland": true,
           "subunitcolor": "white"
          },
          "hoverlabel": {
           "align": "left"
          },
          "hovermode": "closest",
          "mapbox": {
           "style": "light"
          },
          "paper_bgcolor": "white",
          "plot_bgcolor": "#E5ECF6",
          "polar": {
           "angularaxis": {
            "gridcolor": "white",
            "linecolor": "white",
            "ticks": ""
           },
           "bgcolor": "#E5ECF6",
           "radialaxis": {
            "gridcolor": "white",
            "linecolor": "white",
            "ticks": ""
           }
          },
          "scene": {
           "xaxis": {
            "backgroundcolor": "#E5ECF6",
            "gridcolor": "white",
            "gridwidth": 2,
            "linecolor": "white",
            "showbackground": true,
            "ticks": "",
            "zerolinecolor": "white"
           },
           "yaxis": {
            "backgroundcolor": "#E5ECF6",
            "gridcolor": "white",
            "gridwidth": 2,
            "linecolor": "white",
            "showbackground": true,
            "ticks": "",
            "zerolinecolor": "white"
           },
           "zaxis": {
            "backgroundcolor": "#E5ECF6",
            "gridcolor": "white",
            "gridwidth": 2,
            "linecolor": "white",
            "showbackground": true,
            "ticks": "",
            "zerolinecolor": "white"
           }
          },
          "shapedefaults": {
           "line": {
            "color": "#2a3f5f"
           }
          },
          "ternary": {
           "aaxis": {
            "gridcolor": "white",
            "linecolor": "white",
            "ticks": ""
           },
           "baxis": {
            "gridcolor": "white",
            "linecolor": "white",
            "ticks": ""
           },
           "bgcolor": "#E5ECF6",
           "caxis": {
            "gridcolor": "white",
            "linecolor": "white",
            "ticks": ""
           }
          },
          "title": {
           "x": 0.05
          },
          "xaxis": {
           "automargin": true,
           "gridcolor": "white",
           "linecolor": "white",
           "ticks": "",
           "title": {
            "standoff": 15
           },
           "zerolinecolor": "white",
           "zerolinewidth": 2
          },
          "yaxis": {
           "automargin": true,
           "gridcolor": "white",
           "linecolor": "white",
           "ticks": "",
           "title": {
            "standoff": 15
           },
           "zerolinecolor": "white",
           "zerolinewidth": 2
          }
         }
        },
        "title": {
         "text": "Factory Count Specified by Continents and Product Type in Scatter Chart"
        },
        "xaxis": {
         "anchor": "y",
         "domain": [
          0,
          1
         ],
         "title": {
          "text": "Continents"
         }
        },
        "yaxis": {
         "anchor": "x",
         "domain": [
          0,
          1
         ],
         "title": {
          "text": "Product Type"
         }
        }
       }
      }
     },
     "metadata": {},
     "output_type": "display_data"
    }
   ],
   "source": [
    "# scatter \n",
    "sub_df = df.groupby(['Continent', 'Product Type']).count()\n",
    "\n",
    "fig = px.scatter(sub_df, x=sub_df.index.get_level_values(0), y=list(sub_df.index.get_level_values(1)), size='Factory Name', color='Factory Name',\n",
    "        labels={\n",
    "                     \"x\": \"Continents\",\n",
    "                     \"y\": \"Product Type\"\n",
    "                 },\n",
    "        title='Factory Count Specified by Continents and Product Type in Scatter Chart', color_continuous_scale='Bluered'\n",
    ")\n",
    "fig.show()"
   ]
  },
  {
   "cell_type": "code",
   "execution_count": 87,
   "metadata": {},
   "outputs": [
    {
     "data": {
      "application/vnd.plotly.v1+json": {
       "config": {
        "plotlyServerURL": "https://plot.ly"
       },
       "data": [
        {
         "alignmentgroup": "True",
         "bingroup": "x",
         "histfunc": "sum",
         "hovertemplate": "Product Type=APPAREL<br>Continent=%{x}<br>sum of Total Workers=%{y}<extra></extra>",
         "legendgroup": "APPAREL",
         "marker": {
          "color": "#636efa",
          "pattern": {
           "shape": ""
          }
         },
         "name": "APPAREL",
         "offsetgroup": "APPAREL",
         "orientation": "v",
         "showlegend": true,
         "type": "histogram",
         "x": [
          "North America",
          "Asia",
          "North America",
          "Asia",
          "North America",
          "Asia",
          "North America",
          "North America",
          "North America",
          "North America",
          "Europe",
          "Europe",
          "Europe",
          "Europe",
          "Asia",
          "Europe",
          "North America",
          "Europe",
          "North America",
          "Asia",
          "Asia",
          "Asia",
          "Asia",
          "Asia",
          "North America",
          "South America",
          "North America",
          "North America",
          "North America",
          "North America",
          "North America",
          "Asia",
          "Asia",
          "Asia",
          "Asia",
          "Asia",
          "South America",
          "North America",
          "North America",
          "Asia",
          "South America",
          "South America",
          "North America",
          "Asia",
          "North America",
          "Asia",
          "Europe",
          "Asia",
          "Asia",
          "Asia",
          "North America",
          "Asia",
          "Asia",
          "Asia",
          "North America",
          "Asia",
          "Asia",
          "South America",
          "Asia",
          "Asia",
          "Asia",
          "North America",
          "South America",
          "Asia",
          "Asia",
          "Asia",
          "Asia",
          "Asia",
          "Asia",
          "Europe",
          "South America",
          "North America",
          "Europe",
          "Asia",
          "Europe",
          "Europe",
          "Asia",
          "Asia",
          "North America",
          "North America",
          "Europe",
          "South America",
          "Europe",
          "Asia",
          "Asia",
          "North America",
          "North America",
          "Asia",
          "Asia",
          "Asia",
          "Asia",
          "North America",
          "North America",
          "Asia",
          "Asia",
          "Asia",
          "Asia",
          "Asia",
          "Asia",
          "Asia",
          "Asia",
          "Asia",
          "Asia",
          "Asia",
          "Asia",
          "Asia",
          "Asia",
          "Asia",
          "Europe",
          "North America",
          "North America",
          "North America",
          "Asia",
          "Europe",
          "Asia",
          "Africa",
          "Africa",
          "Asia",
          "Asia",
          "Asia",
          "Asia",
          "Asia",
          "Asia",
          "North America",
          "North America",
          "North America",
          "Asia",
          "North America",
          "Asia",
          "Asia",
          "South America",
          "North America",
          "Asia",
          "North America",
          "North America",
          "Asia",
          "Asia",
          "North America",
          "Asia",
          "Europe",
          "Asia",
          "Asia",
          "North America",
          "South America",
          "Asia",
          "Asia",
          "Asia",
          "Asia",
          "Asia",
          "Asia",
          "Asia",
          "Asia",
          "North America",
          "Asia",
          "Asia",
          "North America",
          "Europe",
          "Asia",
          "Asia",
          "South America",
          "Asia",
          "Asia",
          "Asia",
          "Asia",
          "Asia",
          "Asia",
          "Asia",
          "North America",
          "Asia",
          "Asia",
          "Asia",
          "Asia",
          "Asia",
          "Asia",
          "Asia",
          "Asia",
          "Asia",
          "Asia",
          "Asia",
          "Asia",
          "Asia",
          "Asia",
          "Asia",
          "Asia",
          "North America",
          "Asia",
          "Asia",
          "Asia",
          "North America",
          "North America",
          "North America",
          "Europe",
          "South America",
          "Asia",
          "Asia",
          "Europe",
          "Asia",
          "Asia",
          "North America",
          "Asia",
          "Asia",
          "Asia",
          "Asia",
          "Asia",
          "Asia",
          "Asia",
          "Asia",
          "Asia",
          "Asia",
          "Asia",
          "Asia",
          "Asia",
          "Asia",
          "Asia",
          "Asia",
          "Asia",
          "Asia",
          "Asia",
          "Asia",
          "South America",
          "Asia",
          "Asia",
          "Asia",
          "Asia",
          "Europe",
          "North America",
          "North America",
          "North America",
          "North America",
          "Asia",
          "North America",
          "Asia",
          "Asia",
          "South America",
          "Asia",
          "Asia",
          "Oceania",
          "South America",
          "Europe",
          "Europe",
          "North America",
          "Asia",
          "North America",
          "Asia",
          "Asia",
          "Asia",
          "Asia",
          "Asia",
          "Asia",
          "Europe",
          "Asia",
          "Asia",
          "Asia",
          "Asia",
          "Asia",
          "North America",
          "Asia",
          "Asia",
          "North America",
          "North America",
          "Asia",
          "Asia",
          "Asia",
          "Asia",
          "Asia",
          "Asia",
          "North America",
          "Asia",
          "Asia",
          "Asia",
          "Asia",
          "Asia",
          "Asia",
          "Asia",
          "Asia",
          "North America",
          "South America",
          "South America",
          "South America",
          "Europe",
          "Africa",
          "North America",
          "North America",
          "Asia",
          "Asia",
          "Asia",
          "Asia",
          "Asia",
          "Asia",
          "South America",
          "Asia",
          "Asia",
          "Asia",
          "North America",
          "Asia",
          "North America",
          "Asia",
          "Asia",
          "Asia",
          "Asia",
          "Asia",
          "Asia",
          "Asia",
          "North America",
          "North America",
          "Asia",
          "Asia",
          "Asia",
          "Asia",
          "Asia",
          "Asia",
          "North America",
          "Africa",
          "Asia",
          "Asia",
          "Asia",
          "Asia",
          "Asia",
          "Asia",
          "Asia",
          "North America",
          "Asia",
          "Asia",
          "Asia",
          "Asia",
          "Asia",
          "Asia",
          "Asia"
         ],
         "xaxis": "x",
         "y": [
          94,
          1958,
          191,
          616,
          3963,
          903,
          60,
          114,
          87,
          230,
          335,
          387,
          283,
          354,
          2242,
          15,
          31,
          16,
          49,
          1090,
          5903,
          2193,
          1018,
          899,
          177,
          64,
          87,
          206,
          15,
          1109,
          189,
          2159,
          815,
          50,
          94,
          2180,
          35,
          2305,
          59,
          4843,
          1289,
          562,
          804,
          2660,
          813,
          1035,
          14,
          920,
          147,
          692,
          100,
          2439,
          95,
          6331,
          2197,
          1580,
          314,
          90,
          5187,
          2658,
          960,
          24,
          44,
          1535,
          4345,
          3333,
          748,
          859,
          2290,
          13,
          754,
          131,
          10,
          106,
          7,
          78,
          200,
          452,
          4686,
          2858,
          10,
          52,
          18,
          1010,
          2026,
          98,
          33,
          1244,
          396,
          5192,
          7726,
          34,
          2197,
          2028,
          1217,
          684,
          1081,
          1106,
          617,
          1006,
          471,
          3414,
          858,
          1449,
          1067,
          811,
          2563,
          341,
          15,
          4,
          121,
          248,
          3652,
          5,
          166,
          964,
          2362,
          1435,
          214,
          299,
          22,
          1698,
          955,
          498,
          46,
          7,
          6361,
          134,
          972,
          118,
          20,
          60,
          2132,
          1542,
          87,
          444,
          452,
          24,
          1300,
          269,
          1232,
          4224,
          1244,
          285,
          667,
          1608,
          1219,
          1995,
          777,
          1645,
          608,
          1814,
          180,
          1711,
          591,
          634,
          18,
          191,
          749,
          39,
          576,
          630,
          1339,
          1274,
          2111,
          1362,
          12,
          1813,
          1732,
          1200,
          3509,
          1280,
          115,
          263,
          2143,
          124,
          1979,
          4183,
          3265,
          414,
          1391,
          718,
          1890,
          109,
          110,
          813,
          257,
          500,
          89,
          560,
          94,
          95,
          568,
          673,
          2085,
          28,
          2488,
          2629,
          168,
          633,
          2693,
          1474,
          2576,
          1038,
          562,
          2321,
          2008,
          672,
          3355,
          1621,
          1561,
          1158,
          1729,
          992,
          2307,
          903,
          2250,
          6105,
          6247,
          800,
          735,
          714,
          96,
          1417,
          20,
          157,
          47,
          47,
          95,
          361,
          165,
          53,
          5971,
          11,
          36,
          40,
          10,
          398,
          25,
          14,
          13,
          40,
          77,
          1651,
          33,
          2805,
          2345,
          42,
          155,
          14,
          149,
          2000,
          728,
          344,
          421,
          3709,
          155,
          627,
          531,
          73,
          426,
          1504,
          3557,
          385,
          2844,
          279,
          1839,
          30,
          51,
          563,
          105,
          1517,
          886,
          750,
          85,
          186,
          145,
          308,
          75,
          17,
          1237,
          2246,
          377,
          70,
          1423,
          1334,
          2034,
          560,
          1536,
          28,
          3987,
          1944,
          60,
          47,
          902,
          16,
          37,
          85,
          351,
          1717,
          2232,
          894,
          2950,
          2099,
          240,
          2291,
          1676,
          1662,
          2338,
          2249,
          2769,
          630,
          341,
          171,
          2047,
          2079,
          417,
          9549,
          86,
          2003,
          70,
          2515,
          1920,
          85,
          46,
          1228,
          553,
          893
         ],
         "yaxis": "y"
        },
        {
         "alignmentgroup": "True",
         "boxpoints": "all",
         "customdata": [
          [
           64,
           0
          ],
          [
           1723,
           121
          ],
          [
           61,
           0
          ],
          [
           591,
           0
          ],
          [
           1981,
           7
          ],
          [
           388,
           0
          ],
          [
           36,
           0
          ],
          [
           59,
           8
          ],
          [
           52,
           3
          ],
          [
           80,
           43
          ],
          [
           308,
           0
          ],
          [
           367,
           0
          ],
          [
           263,
           0
          ],
          [
           329,
           0
          ],
          [
           1838,
           2
          ],
          [
           5,
           0
          ],
          [
           18,
           0
          ],
          [
           9,
           0
          ],
          [
           30,
           0
          ],
          [
           850,
           0
          ],
          [
           4309,
           0
          ],
          [
           1864,
           0
          ],
          [
           977,
           0
          ],
          [
           710,
           0
          ],
          [
           92,
           0
          ],
          [
           51,
           0
          ],
          [
           73,
           0
          ],
          [
           107,
           0
          ],
          [
           8,
           0
          ],
          [
           765,
           41
          ],
          [
           83,
           0
          ],
          [
           1835,
           1226
          ],
          [
           733,
           0
          ],
          [
           44,
           0
          ],
          [
           72,
           22
          ],
          [
           1874,
           0
          ],
          [
           25,
           0
          ],
          [
           1567,
           0
          ],
          [
           53,
           0
          ],
          [
           4600,
           4717
          ],
          [
           928,
           0
          ],
          [
           337,
           0
          ],
          [
           402,
           0
          ],
          [
           1569,
           0
          ],
          [
           504,
           0
          ],
          [
           807,
           0
          ],
          [
           14,
           0
          ],
          [
           561,
           0
          ],
          [
           80,
           0
          ],
          [
           449,
           0
          ],
          [
           77,
           0
          ],
          [
           2292,
           248
          ],
          [
           61,
           13
          ],
          [
           5697,
           0
          ],
          [
           1120,
           8
          ],
          [
           995,
           0
          ],
          [
           241,
           0
          ],
          [
           81,
           0
          ],
          [
           3786,
           0
          ],
          [
           2578,
           0
          ],
          [
           787,
           0
          ],
          [
           16,
           0
          ],
          [
           35,
           0
          ],
          [
           1289,
           0
          ],
          [
           3519,
           0
          ],
          [
           2499,
           0
          ],
          [
           635,
           0
          ],
          [
           755,
           0
          ],
          [
           1946,
           0
          ],
          [
           11,
           9
          ],
          [
           452,
           0
          ],
          [
           119,
           0
          ],
          [
           3,
           0
          ],
          [
           63,
           0
          ],
          [
           1,
           0
          ],
          [
           31,
           12
          ],
          [
           160,
           0
          ],
          [
           298,
           295
          ],
          [
           2999,
           0
          ],
          [
           628,
           2
          ],
          [
           3,
           3
          ],
          [
           36,
           0
          ],
          [
           16,
           0
          ],
          [
           868,
           0
          ],
          [
           1681,
           0
          ],
          [
           58,
           0
          ],
          [
           19,
           0
          ],
          [
           1057,
           0
          ],
          [
           332,
           0
          ],
          [
           4361,
           0
          ],
          [
           6180,
           3538
          ],
          [
           15,
           0
          ],
          [
           1384,
           24
          ],
          [
           1500,
           0
          ],
          [
           742,
           894
          ],
          [
           506,
           0
          ],
          [
           735,
           168
          ],
          [
           840,
           0
          ],
          [
           431,
           33
          ],
          [
           875,
           0
          ],
          [
           306,
           432
          ],
          [
           2219,
           3284
          ],
          [
           686,
           16
          ],
          [
           362,
           1302
          ],
          [
           928,
           0
          ],
          [
           681,
           0
          ],
          [
           1794,
           0
          ],
          [
           194,
           0
          ],
          [
           9,
           0
          ],
          [
           1,
           0
          ],
          [
           81,
           0
          ],
          [
           186,
           0
          ],
          [
           3213,
           0
          ],
          [
           2,
           0
          ],
          [
           106,
           0
          ],
          [
           260,
           91
          ],
          [
           472,
           472
          ],
          [
           1248,
           0
          ],
          [
           166,
           0
          ],
          [
           194,
           0
          ],
          [
           9,
           0
          ],
          [
           882,
           15
          ],
          [
           783,
           0
          ],
          [
           333,
           1
          ],
          [
           41,
           0
          ],
          [
           5,
           0
          ],
          [
           3307,
           114
          ],
          [
           80,
           0
          ],
          [
           845,
           0
          ],
          [
           100,
           17
          ],
          [
           10,
           1
          ],
          [
           34,
           54
          ],
          [
           1748,
           0
          ],
          [
           1279,
           67
          ],
          [
           69,
           11
          ],
          [
           368,
           0
          ],
          [
           212,
           0
          ],
          [
           7,
           0
          ],
          [
           909,
           0
          ],
          [
           174,
           0
          ],
          [
           924,
           0
          ],
          [
           760,
           0
          ],
          [
           746,
           6
          ],
          [
           210,
           0
          ],
          [
           480,
           0
          ],
          [
           1061,
           0
          ],
          [
           853,
           0
          ],
          [
           1356,
           0
          ],
          [
           349,
           0
          ],
          [
           1365,
           0
          ],
          [
           486,
           0
          ],
          [
           1396,
           0
          ],
          [
           102,
           0
          ],
          [
           1454,
           0
          ],
          [
           502,
           0
          ],
          [
           355,
           13
          ],
          [
           9,
           0
          ],
          [
           76,
           0
          ],
          [
           711,
           0
          ],
          [
           21,
           0
          ],
          [
           489,
           0
          ],
          [
           491,
           0
          ],
          [
           1017,
           0
          ],
          [
           942,
           1005
          ],
          [
           1646,
           0
          ],
          [
           912,
           942
          ],
          [
           10,
           2
          ],
          [
           942,
           9
          ],
          [
           1299,
           0
          ],
          [
           876,
           260
          ],
          [
           2596,
           0
          ],
          [
           972,
           0
          ],
          [
           78,
           14
          ],
          [
           157,
           0
          ],
          [
           1135,
           0
          ],
          [
           111,
           0
          ],
          [
           1385,
           0
          ],
          [
           3137,
           0
          ],
          [
           2318,
           0
          ],
          [
           227,
           24
          ],
          [
           973,
           0
          ],
          [
           545,
           603
          ],
          [
           1606,
           0
          ],
          [
           95,
           0
          ],
          [
           57,
           0
          ],
          [
           674,
           0
          ],
          [
           210,
           24
          ],
          [
           350,
           0
          ],
          [
           57,
           0
          ],
          [
           330,
           0
          ],
          [
           65,
           0
          ],
          [
           71,
           17
          ],
          [
           471,
           1
          ],
          [
           430,
           489
          ],
          [
           1563,
           1553
          ],
          [
           25,
           2
          ],
          [
           821,
           0
          ],
          [
           1577,
           0
          ],
          [
           151,
           0
          ],
          [
           297,
           8
          ],
          [
           1858,
           35
          ],
          [
           1326,
           0
          ],
          [
           2215,
           12
          ],
          [
           944,
           0
          ],
          [
           505,
           2
          ],
          [
           1972,
           0
          ],
          [
           1807,
           0
          ],
          [
           591,
           0
          ],
          [
           3187,
           23
          ],
          [
           1345,
           0
          ],
          [
           1389,
           0
          ],
          [
           1042,
           0
          ],
          [
           1452,
           10
          ],
          [
           714,
           2
          ],
          [
           2145,
           9
          ],
          [
           794,
           0
          ],
          [
           2002,
           0
          ],
          [
           5494,
           0
          ],
          [
           5872,
           0
          ],
          [
           336,
           489
          ],
          [
           683,
           628
          ],
          [
           628,
           651
          ],
          [
           74,
           0
          ],
          [
           850,
           0
          ],
          [
           7,
           1
          ],
          [
           135,
           0
          ],
          [
           39,
           0
          ],
          [
           31,
           0
          ],
          [
           39,
           0
          ],
          [
           184,
           0
          ],
          [
           99,
           0
          ],
          [
           27,
           0
          ],
          [
           5553,
           310
          ],
          [
           4,
           4
          ],
          [
           25,
           0
          ],
          [
           35,
           7
          ],
          [
           3,
           0
          ],
          [
           183,
           316
          ],
          [
           23,
           0
          ],
          [
           7,
           0
          ],
          [
           8,
           0
          ],
          [
           33,
           8
          ],
          [
           69,
           0
          ],
          [
           1238,
           0
          ],
          [
           24,
           0
          ],
          [
           2159,
           687
          ],
          [
           2180,
           2274
          ],
          [
           14,
           0
          ],
          [
           120,
           0
          ],
          [
           7,
           0
          ],
          [
           104,
           147
          ],
          [
           1700,
           0
          ],
          [
           276,
           692
          ],
          [
           302,
           335
          ],
          [
           273,
           309
          ],
          [
           2225,
           25
          ],
          [
           69,
           0
          ],
          [
           238,
           99
          ],
          [
           403,
           0
          ],
          [
           63,
           0
          ],
          [
           391,
           0
          ],
          [
           1022,
           1467
          ],
          [
           497,
           0
          ],
          [
           7,
           0
          ],
          [
           341,
           0
          ],
          [
           220,
           0
          ],
          [
           1066,
           9
          ],
          [
           27,
           0
          ],
          [
           22,
           0
          ],
          [
           512,
           547
          ],
          [
           28,
           21
          ],
          [
           455,
           1462
          ],
          [
           460,
           555
          ],
          [
           292,
           551
          ],
          [
           67,
           17
          ],
          [
           135,
           0
          ],
          [
           79,
           65
          ],
          [
           234,
           2
          ],
          [
           54,
           19
          ],
          [
           9,
           6
          ],
          [
           705,
           0
          ],
          [
           1167,
           8
          ],
          [
           233,
           0
          ],
          [
           52,
           0
          ],
          [
           1166,
           0
          ],
          [
           907,
           0
          ],
          [
           1383,
           0
          ],
          [
           380,
           0
          ],
          [
           1228,
           0
          ],
          [
           17,
           0
          ],
          [
           358,
           107
          ],
          [
           1360,
           0
          ],
          [
           19,
           0
          ],
          [
           34,
           0
          ],
          [
           784,
           0
          ],
          [
           14,
           0
          ],
          [
           17,
           0
          ],
          [
           59,
           0
          ],
          [
           336,
           0
          ],
          [
           1648,
           0
          ],
          [
           1941,
           1850
          ],
          [
           196,
           734
          ],
          [
           2065,
           828
          ],
          [
           860,
           0
          ],
          [
           100,
           0
          ],
          [
           1603,
           0
          ],
          [
           1106,
           244
          ],
          [
           1312,
           0
          ],
          [
           1356,
           49
          ],
          [
           1619,
           0
          ],
          [
           1965,
           0
          ],
          [
           415,
           0
          ],
          [
           313,
           0
          ],
          [
           92,
           0
          ],
          [
           1310,
           4
          ],
          [
           1663,
           0
          ],
          [
           391,
           0
          ],
          [
           8689,
           0
          ],
          [
           70,
           0
          ],
          [
           941,
           0
          ],
          [
           42,
           0
          ],
          [
           1886,
           0
          ],
          [
           1766,
           0
          ],
          [
           76,
           0
          ],
          [
           33,
           0
          ],
          [
           957,
           0
          ],
          [
           503,
           0
          ],
          [
           526,
           0
          ]
         ],
         "fillcolor": "rgba(255,255,255,0)",
         "hoveron": "points",
         "hovertemplate": "Product Type=APPAREL<br>Continent=%{x}<br>Female Worker Count=%{customdata[0]}<br>Migrant Worker Count=%{customdata[1]}<extra></extra>",
         "jitter": 0,
         "legendgroup": "APPAREL",
         "line": {
          "color": "rgba(255,255,255,0)"
         },
         "marker": {
          "color": "#636efa",
          "symbol": "line-ns-open"
         },
         "name": "APPAREL",
         "offsetgroup": "APPAREL",
         "showlegend": false,
         "type": "box",
         "x": [
          "North America",
          "Asia",
          "North America",
          "Asia",
          "North America",
          "Asia",
          "North America",
          "North America",
          "North America",
          "North America",
          "Europe",
          "Europe",
          "Europe",
          "Europe",
          "Asia",
          "Europe",
          "North America",
          "Europe",
          "North America",
          "Asia",
          "Asia",
          "Asia",
          "Asia",
          "Asia",
          "North America",
          "South America",
          "North America",
          "North America",
          "North America",
          "North America",
          "North America",
          "Asia",
          "Asia",
          "Asia",
          "Asia",
          "Asia",
          "South America",
          "North America",
          "North America",
          "Asia",
          "South America",
          "South America",
          "North America",
          "Asia",
          "North America",
          "Asia",
          "Europe",
          "Asia",
          "Asia",
          "Asia",
          "North America",
          "Asia",
          "Asia",
          "Asia",
          "North America",
          "Asia",
          "Asia",
          "South America",
          "Asia",
          "Asia",
          "Asia",
          "North America",
          "South America",
          "Asia",
          "Asia",
          "Asia",
          "Asia",
          "Asia",
          "Asia",
          "Europe",
          "South America",
          "North America",
          "Europe",
          "Asia",
          "Europe",
          "Europe",
          "Asia",
          "Asia",
          "North America",
          "North America",
          "Europe",
          "South America",
          "Europe",
          "Asia",
          "Asia",
          "North America",
          "North America",
          "Asia",
          "Asia",
          "Asia",
          "Asia",
          "North America",
          "North America",
          "Asia",
          "Asia",
          "Asia",
          "Asia",
          "Asia",
          "Asia",
          "Asia",
          "Asia",
          "Asia",
          "Asia",
          "Asia",
          "Asia",
          "Asia",
          "Asia",
          "Asia",
          "Europe",
          "North America",
          "North America",
          "North America",
          "Asia",
          "Europe",
          "Asia",
          "Africa",
          "Africa",
          "Asia",
          "Asia",
          "Asia",
          "Asia",
          "Asia",
          "Asia",
          "North America",
          "North America",
          "North America",
          "Asia",
          "North America",
          "Asia",
          "Asia",
          "South America",
          "North America",
          "Asia",
          "North America",
          "North America",
          "Asia",
          "Asia",
          "North America",
          "Asia",
          "Europe",
          "Asia",
          "Asia",
          "North America",
          "South America",
          "Asia",
          "Asia",
          "Asia",
          "Asia",
          "Asia",
          "Asia",
          "Asia",
          "Asia",
          "North America",
          "Asia",
          "Asia",
          "North America",
          "Europe",
          "Asia",
          "Asia",
          "South America",
          "Asia",
          "Asia",
          "Asia",
          "Asia",
          "Asia",
          "Asia",
          "Asia",
          "North America",
          "Asia",
          "Asia",
          "Asia",
          "Asia",
          "Asia",
          "Asia",
          "Asia",
          "Asia",
          "Asia",
          "Asia",
          "Asia",
          "Asia",
          "Asia",
          "Asia",
          "Asia",
          "Asia",
          "North America",
          "Asia",
          "Asia",
          "Asia",
          "North America",
          "North America",
          "North America",
          "Europe",
          "South America",
          "Asia",
          "Asia",
          "Europe",
          "Asia",
          "Asia",
          "North America",
          "Asia",
          "Asia",
          "Asia",
          "Asia",
          "Asia",
          "Asia",
          "Asia",
          "Asia",
          "Asia",
          "Asia",
          "Asia",
          "Asia",
          "Asia",
          "Asia",
          "Asia",
          "Asia",
          "Asia",
          "Asia",
          "Asia",
          "Asia",
          "South America",
          "Asia",
          "Asia",
          "Asia",
          "Asia",
          "Europe",
          "North America",
          "North America",
          "North America",
          "North America",
          "Asia",
          "North America",
          "Asia",
          "Asia",
          "South America",
          "Asia",
          "Asia",
          "Oceania",
          "South America",
          "Europe",
          "Europe",
          "North America",
          "Asia",
          "North America",
          "Asia",
          "Asia",
          "Asia",
          "Asia",
          "Asia",
          "Asia",
          "Europe",
          "Asia",
          "Asia",
          "Asia",
          "Asia",
          "Asia",
          "North America",
          "Asia",
          "Asia",
          "North America",
          "North America",
          "Asia",
          "Asia",
          "Asia",
          "Asia",
          "Asia",
          "Asia",
          "North America",
          "Asia",
          "Asia",
          "Asia",
          "Asia",
          "Asia",
          "Asia",
          "Asia",
          "Asia",
          "North America",
          "South America",
          "South America",
          "South America",
          "Europe",
          "Africa",
          "North America",
          "North America",
          "Asia",
          "Asia",
          "Asia",
          "Asia",
          "Asia",
          "Asia",
          "South America",
          "Asia",
          "Asia",
          "Asia",
          "North America",
          "Asia",
          "North America",
          "Asia",
          "Asia",
          "Asia",
          "Asia",
          "Asia",
          "Asia",
          "Asia",
          "North America",
          "North America",
          "Asia",
          "Asia",
          "Asia",
          "Asia",
          "Asia",
          "Asia",
          "North America",
          "Africa",
          "Asia",
          "Asia",
          "Asia",
          "Asia",
          "Asia",
          "Asia",
          "Asia",
          "North America",
          "Asia",
          "Asia",
          "Asia",
          "Asia",
          "Asia",
          "Asia",
          "Asia"
         ],
         "xaxis": "x2",
         "yaxis": "y2"
        },
        {
         "alignmentgroup": "True",
         "bingroup": "x",
         "histfunc": "sum",
         "hovertemplate": "Product Type=FOOTWEAR<br>Continent=%{x}<br>sum of Total Workers=%{y}<extra></extra>",
         "legendgroup": "FOOTWEAR",
         "marker": {
          "color": "#EF553B",
          "pattern": {
           "shape": ""
          }
         },
         "name": "FOOTWEAR",
         "offsetgroup": "FOOTWEAR",
         "orientation": "v",
         "showlegend": true,
         "type": "histogram",
         "x": [
          "Asia",
          "South America",
          "Asia",
          "South America",
          "Asia",
          "South America",
          "South America",
          "Asia",
          "Asia",
          "Asia",
          "Asia",
          "Asia",
          "South America",
          "South America",
          "Europe",
          "South America",
          "South America",
          "South America",
          "South America",
          "South America",
          "South America",
          "South America",
          "South America",
          "South America",
          "Asia",
          "Europe",
          "Europe",
          "Asia",
          "Asia",
          "Asia",
          "Asia",
          "Asia",
          "Asia",
          "Asia",
          "Asia",
          "Asia",
          "Asia",
          "Asia",
          "North America",
          "Asia",
          "Asia",
          "Asia",
          "Asia",
          "Asia",
          "Asia",
          "Asia",
          "Asia",
          "Asia",
          "Asia",
          "Asia",
          "Asia",
          "Asia",
          "Asia",
          "Asia",
          "Europe",
          "South America",
          "Asia",
          "Asia",
          "Asia",
          "Asia",
          "Asia",
          "Asia",
          "Asia",
          "Asia",
          "North America",
          "Asia",
          "Asia",
          "Asia",
          "Asia",
          "Asia",
          "Asia",
          "Asia",
          "Asia",
          "Asia",
          "Asia",
          "Asia",
          "Asia",
          "Asia",
          "Asia",
          "Asia",
          "Asia",
          "Asia",
          "Asia",
          "Asia",
          "Asia",
          "Asia",
          "Asia",
          "Asia",
          "Asia",
          "Asia",
          "South America",
          "Asia",
          "Asia",
          "Asia",
          "Asia",
          "Asia",
          "Asia",
          "Asia",
          "Europe",
          "Asia",
          "Asia",
          "Europe",
          "South America",
          "Asia",
          "Asia",
          "Asia",
          "Asia",
          "Asia",
          "South America",
          "South America",
          "Asia",
          "Asia",
          "Asia",
          "Asia",
          "South America",
          "Asia",
          "Asia",
          "Asia",
          "Asia",
          "Asia",
          "Asia",
          "Asia",
          "Asia",
          "Asia"
         ],
         "xaxis": "x",
         "y": [
          7795,
          490,
          14076,
          34,
          7530,
          42,
          83,
          8951,
          13425,
          4689,
          24732,
          824,
          31,
          4440,
          360,
          118,
          152,
          1972,
          873,
          1251,
          32,
          3500,
          2589,
          176,
          13306,
          230,
          51,
          10541,
          9469,
          14524,
          9625,
          369,
          150,
          26,
          5852,
          603,
          2110,
          1824,
          5590,
          37,
          487,
          22170,
          4008,
          3270,
          1244,
          4974,
          8627,
          5,
          113,
          329,
          2551,
          1192,
          640,
          546,
          23,
          89,
          5684,
          7517,
          2914,
          772,
          5974,
          7600,
          2578,
          1501,
          363,
          2096,
          1401,
          1713,
          17856,
          8336,
          2344,
          6239,
          2836,
          7123,
          12768,
          19564,
          7918,
          19038,
          15213,
          2671,
          12686,
          7441,
          1922,
          16485,
          463,
          573,
          4685,
          726,
          534,
          4323,
          164,
          1189,
          9751,
          1037,
          5557,
          1132,
          11778,
          3735,
          1944,
          2634,
          506,
          18,
          323,
          2059,
          17369,
          5088,
          10596,
          770,
          264,
          66,
          22344,
          14494,
          16821,
          9021,
          95,
          4341,
          2953,
          114,
          3218,
          1157,
          255,
          245,
          2087,
          658
         ],
         "yaxis": "y"
        },
        {
         "alignmentgroup": "True",
         "boxpoints": "all",
         "customdata": [
          [
           7093,
           38
          ],
          [
           240,
           0
          ],
          [
           12949,
           394
          ],
          [
           30,
           0
          ],
          [
           6551,
           82
          ],
          [
           38,
           0
          ],
          [
           82,
           0
          ],
          [
           5997,
           0
          ],
          [
           11545,
           53
          ],
          [
           4360,
           0
          ],
          [
           19785,
           0
          ],
          [
           304,
           0
          ],
          [
           28,
           0
          ],
          [
           2353,
           0
          ],
          [
           180,
           3
          ],
          [
           101,
           0
          ],
          [
           56,
           1
          ],
          [
           1124,
           0
          ],
          [
           488,
           0
          ],
          [
           800,
           43
          ],
          [
           28,
           0
          ],
          [
           2380,
           0
          ],
          [
           1631,
           0
          ],
          [
           135,
           0
          ],
          [
           10511,
           0
          ],
          [
           144,
           0
          ],
          [
           36,
           0
          ],
          [
           7378,
           0
          ],
          [
           6344,
           0
          ],
          [
           9876,
           0
          ],
          [
           6641,
           0
          ],
          [
           199,
           0
          ],
          [
           45,
           62
          ],
          [
           12,
           11
          ],
          [
           3628,
           0
          ],
          [
           198,
           0
          ],
          [
           1392,
           0
          ],
          [
           912,
           0
          ],
          [
           2962,
           0
          ],
          [
           3,
           0
          ],
          [
           194,
           0
          ],
          [
           19287,
           0
          ],
          [
           3046,
           0
          ],
          [
           2583,
           0
          ],
          [
           833,
           0
          ],
          [
           3879,
           0
          ],
          [
           6383,
           0
          ],
          [
           1,
           0
          ],
          [
           67,
           59
          ],
          [
           296,
           0
          ],
          [
           2091,
           316
          ],
          [
           1168,
           0
          ],
          [
           140,
           0
          ],
          [
           256,
           271
          ],
          [
           5,
           1
          ],
          [
           74,
           0
          ],
          [
           4945,
           0
          ],
          [
           3908,
           0
          ],
          [
           1894,
           0
          ],
          [
           741,
           0
          ],
          [
           3046,
           0
          ],
          [
           4256,
           0
          ],
          [
           1314,
           0
          ],
          [
           1305,
           0
          ],
          [
           199,
           1
          ],
          [
           1404,
           1672
          ],
          [
           1302,
           26
          ],
          [
           1079,
           0
          ],
          [
           14999,
           0
          ],
          [
           4334,
           25
          ],
          [
           1101,
           2
          ],
          [
           5615,
           12
          ],
          [
           1956,
           0
          ],
          [
           5840,
           49
          ],
          [
           9703,
           38
          ],
          [
           16238,
           78
          ],
          [
           6176,
           39
          ],
          [
           13326,
           0
          ],
          [
           11409,
           45
          ],
          [
           1709,
           34
          ],
          [
           8245,
           0
          ],
          [
           4613,
           0
          ],
          [
           1422,
           7
          ],
          [
           15495,
           65
          ],
          [
           277,
           6
          ],
          [
           252,
           1
          ],
          [
           4122,
           37
          ],
          [
           646,
           0
          ],
          [
           517,
           0
          ],
          [
           3501,
           0
          ],
          [
           68,
           0
          ],
          [
           1070,
           0
          ],
          [
           8483,
           351
          ],
          [
           1005,
           0
          ],
          [
           4779,
           0
          ],
          [
           996,
           129
          ],
          [
           9422,
           4628
          ],
          [
           3137,
           463
          ],
          [
           1302,
           3
          ],
          [
           1027,
           0
          ],
          [
           161,
           0
          ],
          [
           13,
           0
          ],
          [
           32,
           13
          ],
          [
           1503,
           0
          ],
          [
           13721,
           0
          ],
          [
           4833,
           0
          ],
          [
           8476,
           0
          ],
          [
           269,
           11
          ],
          [
           52,
           7
          ],
          [
           65,
           0
          ],
          [
           17651,
           4781
          ],
          [
           12174,
           0
          ],
          [
           14129,
           0
          ],
          [
           7577,
           0
          ],
          [
           79,
           0
          ],
          [
           3820,
           0
          ],
          [
           2362,
           0
          ],
          [
           88,
           0
          ],
          [
           3121,
           119
          ],
          [
           1029,
           141
          ],
          [
           40,
           0
          ],
          [
           115,
           154
          ],
          [
           2003,
           2
          ],
          [
           486,
           0
          ]
         ],
         "fillcolor": "rgba(255,255,255,0)",
         "hoveron": "points",
         "hovertemplate": "Product Type=FOOTWEAR<br>Continent=%{x}<br>Female Worker Count=%{customdata[0]}<br>Migrant Worker Count=%{customdata[1]}<extra></extra>",
         "jitter": 0,
         "legendgroup": "FOOTWEAR",
         "line": {
          "color": "rgba(255,255,255,0)"
         },
         "marker": {
          "color": "#EF553B",
          "symbol": "line-ns-open"
         },
         "name": "FOOTWEAR",
         "offsetgroup": "FOOTWEAR",
         "showlegend": false,
         "type": "box",
         "x": [
          "Asia",
          "South America",
          "Asia",
          "South America",
          "Asia",
          "South America",
          "South America",
          "Asia",
          "Asia",
          "Asia",
          "Asia",
          "Asia",
          "South America",
          "South America",
          "Europe",
          "South America",
          "South America",
          "South America",
          "South America",
          "South America",
          "South America",
          "South America",
          "South America",
          "South America",
          "Asia",
          "Europe",
          "Europe",
          "Asia",
          "Asia",
          "Asia",
          "Asia",
          "Asia",
          "Asia",
          "Asia",
          "Asia",
          "Asia",
          "Asia",
          "Asia",
          "North America",
          "Asia",
          "Asia",
          "Asia",
          "Asia",
          "Asia",
          "Asia",
          "Asia",
          "Asia",
          "Asia",
          "Asia",
          "Asia",
          "Asia",
          "Asia",
          "Asia",
          "Asia",
          "Europe",
          "South America",
          "Asia",
          "Asia",
          "Asia",
          "Asia",
          "Asia",
          "Asia",
          "Asia",
          "Asia",
          "North America",
          "Asia",
          "Asia",
          "Asia",
          "Asia",
          "Asia",
          "Asia",
          "Asia",
          "Asia",
          "Asia",
          "Asia",
          "Asia",
          "Asia",
          "Asia",
          "Asia",
          "Asia",
          "Asia",
          "Asia",
          "Asia",
          "Asia",
          "Asia",
          "Asia",
          "Asia",
          "Asia",
          "Asia",
          "Asia",
          "South America",
          "Asia",
          "Asia",
          "Asia",
          "Asia",
          "Asia",
          "Asia",
          "Asia",
          "Europe",
          "Asia",
          "Asia",
          "Europe",
          "South America",
          "Asia",
          "Asia",
          "Asia",
          "Asia",
          "Asia",
          "South America",
          "South America",
          "Asia",
          "Asia",
          "Asia",
          "Asia",
          "South America",
          "Asia",
          "Asia",
          "Asia",
          "Asia",
          "Asia",
          "Asia",
          "Asia",
          "Asia",
          "Asia"
         ],
         "xaxis": "x2",
         "yaxis": "y2"
        },
        {
         "alignmentgroup": "True",
         "bingroup": "x",
         "histfunc": "sum",
         "hovertemplate": "Product Type=EQUIPMENT<br>Continent=%{x}<br>sum of Total Workers=%{y}<extra></extra>",
         "legendgroup": "EQUIPMENT",
         "marker": {
          "color": "#00cc96",
          "pattern": {
           "shape": ""
          }
         },
         "name": "EQUIPMENT",
         "offsetgroup": "EQUIPMENT",
         "orientation": "v",
         "showlegend": true,
         "type": "histogram",
         "x": [
          "Asia",
          "South America",
          "Asia",
          "Asia",
          "North America",
          "Asia",
          "Asia",
          "Asia",
          "Asia",
          "Asia",
          "Asia",
          "Europe",
          "South America",
          "Asia",
          "Asia",
          "Asia",
          "Asia",
          "Asia",
          "Europe",
          "Asia",
          "Asia",
          "Asia",
          "Asia",
          "Asia",
          "Asia",
          "Asia",
          "Asia",
          "Asia",
          "Asia",
          "Asia",
          "Asia",
          "Asia",
          "North America",
          "Asia",
          "Asia",
          "Asia",
          "Asia",
          "Europe",
          "Asia",
          "North America",
          "Asia",
          "Asia",
          "Asia",
          "Asia",
          "Asia",
          "Asia",
          "South America",
          "Asia",
          "Asia",
          "Asia",
          "Asia",
          "Asia",
          "Asia",
          "Asia",
          "Asia",
          "Asia",
          "Asia",
          "Europe",
          "Asia",
          "Asia",
          "Asia",
          "North America",
          "North America",
          "Asia",
          "North America",
          "Asia",
          "Asia",
          "Asia",
          "North America",
          "Asia",
          "South America",
          "Asia",
          "Asia",
          "Asia",
          "Asia",
          "Asia",
          "Asia",
          "Asia",
          "Asia",
          "Asia",
          "Asia",
          "Asia",
          "Asia",
          "Asia",
          "Asia",
          "Asia",
          "Asia",
          "Asia",
          "Asia",
          "Asia"
         ],
         "xaxis": "x",
         "y": [
          5313,
          7,
          372,
          6,
          39,
          10,
          194,
          54,
          543,
          1780,
          307,
          610,
          93,
          1985,
          96,
          186,
          400,
          18,
          72,
          3178,
          6325,
          1585,
          370,
          1064,
          698,
          50,
          286,
          101,
          200,
          6578,
          407,
          145,
          42,
          145,
          52,
          68,
          780,
          315,
          25,
          104,
          101,
          608,
          570,
          74,
          207,
          674,
          44,
          125,
          1063,
          158,
          159,
          1178,
          5138,
          50,
          57,
          290,
          764,
          103,
          57,
          161,
          2129,
          352,
          249,
          145,
          270,
          130,
          12,
          85,
          29,
          597,
          185,
          785,
          67,
          4,
          198,
          490,
          609,
          1481,
          930,
          11,
          1639,
          801,
          838,
          30,
          46,
          241,
          268,
          207,
          2434,
          116
         ],
         "yaxis": "y"
        },
        {
         "alignmentgroup": "True",
         "boxpoints": "all",
         "customdata": [
          [
           4250,
           1689
          ],
          [
           0,
           0
          ],
          [
           331,
           0
          ],
          [
           3,
           0
          ],
          [
           7,
           17
          ],
          [
           5,
           0
          ],
          [
           129,
           0
          ],
          [
           30,
           54
          ],
          [
           244,
           0
          ],
          [
           1424,
           0
          ],
          [
           174,
           0
          ],
          [
           445,
           1
          ],
          [
           47,
           16
          ],
          [
           1171,
           0
          ],
          [
           57,
           0
          ],
          [
           93,
           44
          ],
          [
           268,
           0
          ],
          [
           5,
           18
          ],
          [
           64,
           1
          ],
          [
           2478,
           0
          ],
          [
           2783,
           0
          ],
          [
           1426,
           14
          ],
          [
           166,
           0
          ],
          [
           915,
           0
          ],
          [
           628,
           0
          ],
          [
           32,
           12
          ],
          [
           177,
           0
          ],
          [
           70,
           0
          ],
          [
           98,
           37
          ],
          [
           328,
           0
          ],
          [
           313,
           76
          ],
          [
           113,
           0
          ],
          [
           12,
           0
          ],
          [
           79,
           60
          ],
          [
           28,
           0
          ],
          [
           36,
           8
          ],
          [
           530,
           0
          ],
          [
           195,
           26
          ],
          [
           16,
           10
          ],
          [
           44,
           0
          ],
          [
           55,
           0
          ],
          [
           577,
           0
          ],
          [
           342,
           535
          ],
          [
           48,
           0
          ],
          [
           188,
           0
          ],
          [
           404,
           0
          ],
          [
           33,
           5
          ],
          [
           81,
           0
          ],
          [
           488,
           0
          ],
          [
           80,
           0
          ],
          [
           74,
           0
          ],
          [
           1095,
           0
          ],
          [
           4110,
           5
          ],
          [
           25,
           0
          ],
          [
           30,
           0
          ],
          [
           188,
           55
          ],
          [
           618,
           84
          ],
          [
           57,
           4
          ],
          [
           21,
           0
          ],
          [
           0,
           0
          ],
          [
           21,
           0
          ],
          [
           204,
           0
          ],
          [
           141,
           0
          ],
          [
           52,
           0
          ],
          [
           75,
           0
          ],
          [
           78,
           0
          ],
          [
           7,
           0
          ],
          [
           55,
           0
          ],
          [
           22,
           0
          ],
          [
           304,
           0
          ],
          [
           99,
           20
          ],
          [
           573,
           13
          ],
          [
           50,
           0
          ],
          [
           1,
           0
          ],
          [
           99,
           0
          ],
          [
           387,
           167
          ],
          [
           444,
           78
          ],
          [
           903,
           0
          ],
          [
           678,
           0
          ],
          [
           4,
           0
          ],
          [
           1212,
           0
          ],
          [
           472,
           0
          ],
          [
           620,
           88
          ],
          [
           25,
           0
          ],
          [
           26,
           12
          ],
          [
           187,
           0
          ],
          [
           254,
           0
          ],
          [
           113,
           199
          ],
          [
           1582,
           0
          ],
          [
           69,
           92
          ]
         ],
         "fillcolor": "rgba(255,255,255,0)",
         "hoveron": "points",
         "hovertemplate": "Product Type=EQUIPMENT<br>Continent=%{x}<br>Female Worker Count=%{customdata[0]}<br>Migrant Worker Count=%{customdata[1]}<extra></extra>",
         "jitter": 0,
         "legendgroup": "EQUIPMENT",
         "line": {
          "color": "rgba(255,255,255,0)"
         },
         "marker": {
          "color": "#00cc96",
          "symbol": "line-ns-open"
         },
         "name": "EQUIPMENT",
         "offsetgroup": "EQUIPMENT",
         "showlegend": false,
         "type": "box",
         "x": [
          "Asia",
          "South America",
          "Asia",
          "Asia",
          "North America",
          "Asia",
          "Asia",
          "Asia",
          "Asia",
          "Asia",
          "Asia",
          "Europe",
          "South America",
          "Asia",
          "Asia",
          "Asia",
          "Asia",
          "Asia",
          "Europe",
          "Asia",
          "Asia",
          "Asia",
          "Asia",
          "Asia",
          "Asia",
          "Asia",
          "Asia",
          "Asia",
          "Asia",
          "Asia",
          "Asia",
          "Asia",
          "North America",
          "Asia",
          "Asia",
          "Asia",
          "Asia",
          "Europe",
          "Asia",
          "North America",
          "Asia",
          "Asia",
          "Asia",
          "Asia",
          "Asia",
          "Asia",
          "South America",
          "Asia",
          "Asia",
          "Asia",
          "Asia",
          "Asia",
          "Asia",
          "Asia",
          "Asia",
          "Asia",
          "Asia",
          "Europe",
          "Asia",
          "Asia",
          "Asia",
          "North America",
          "North America",
          "Asia",
          "North America",
          "Asia",
          "Asia",
          "Asia",
          "North America",
          "Asia",
          "South America",
          "Asia",
          "Asia",
          "Asia",
          "Asia",
          "Asia",
          "Asia",
          "Asia",
          "Asia",
          "Asia",
          "Asia",
          "Asia",
          "Asia",
          "Asia",
          "Asia",
          "Asia",
          "Asia",
          "Asia",
          "Asia",
          "Asia"
         ],
         "xaxis": "x2",
         "yaxis": "y2"
        },
        {
         "alignmentgroup": "True",
         "bingroup": "x",
         "histfunc": "sum",
         "hovertemplate": "Product Type=MATERIALS<br>Continent=%{x}<br>sum of Total Workers=%{y}<extra></extra>",
         "legendgroup": "MATERIALS",
         "marker": {
          "color": "#ab63fa",
          "pattern": {
           "shape": ""
          }
         },
         "name": "MATERIALS",
         "offsetgroup": "MATERIALS",
         "orientation": "v",
         "showlegend": true,
         "type": "histogram",
         "x": [
          "North America",
          "Asia",
          "Asia",
          "Asia",
          "Asia",
          "Asia",
          "Asia",
          "Asia",
          "Asia",
          "Asia",
          "Asia",
          "Asia",
          "Asia",
          "Asia",
          "Asia",
          "Asia",
          "Asia",
          "Asia",
          "Asia",
          "Asia",
          "Asia",
          "Asia",
          "Asia",
          "Asia",
          "Asia",
          "Asia",
          "Asia",
          "Asia",
          "Asia",
          "Asia",
          "Asia",
          "Asia",
          "Asia",
          "Asia",
          "Asia",
          "South America",
          "North America",
          "Asia",
          "Asia",
          "Asia",
          "Asia",
          "Asia",
          "Asia",
          "Asia",
          "Asia",
          "Asia",
          "Asia",
          "Asia",
          "Asia",
          "Asia",
          "Asia",
          "Asia",
          "Asia",
          "Asia",
          "Asia",
          "Asia",
          "Asia",
          "Asia",
          "Asia",
          "Asia",
          "Asia",
          "Asia",
          "Asia",
          "Asia",
          "Asia",
          "Asia",
          "Asia",
          "Asia",
          "Asia",
          "Asia",
          "Asia",
          "Asia",
          "Asia",
          "Asia",
          "Asia",
          "Asia"
         ],
         "xaxis": "x",
         "y": [
          0,
          0,
          0,
          0,
          0,
          0,
          0,
          0,
          0,
          0,
          0,
          0,
          0,
          0,
          0,
          0,
          0,
          0,
          0,
          0,
          0,
          0,
          0,
          0,
          0,
          0,
          0,
          0,
          0,
          0,
          0,
          0,
          0,
          0,
          0,
          0,
          0,
          0,
          0,
          0,
          0,
          0,
          0,
          0,
          0,
          0,
          0,
          0,
          0,
          0,
          0,
          0,
          0,
          0,
          0,
          0,
          0,
          0,
          0,
          0,
          0,
          0,
          0,
          0,
          0,
          0,
          0,
          0,
          0,
          0,
          0,
          0,
          0,
          0,
          0,
          0
         ],
         "yaxis": "y"
        },
        {
         "alignmentgroup": "True",
         "boxpoints": "all",
         "customdata": [
          [
           0,
           0
          ],
          [
           0,
           0
          ],
          [
           0,
           0
          ],
          [
           0,
           0
          ],
          [
           0,
           0
          ],
          [
           0,
           0
          ],
          [
           0,
           0
          ],
          [
           0,
           0
          ],
          [
           0,
           0
          ],
          [
           0,
           0
          ],
          [
           0,
           0
          ],
          [
           0,
           0
          ],
          [
           0,
           0
          ],
          [
           0,
           0
          ],
          [
           0,
           0
          ],
          [
           0,
           0
          ],
          [
           0,
           0
          ],
          [
           0,
           0
          ],
          [
           0,
           0
          ],
          [
           0,
           0
          ],
          [
           0,
           0
          ],
          [
           0,
           0
          ],
          [
           0,
           0
          ],
          [
           0,
           0
          ],
          [
           0,
           0
          ],
          [
           0,
           0
          ],
          [
           0,
           0
          ],
          [
           0,
           0
          ],
          [
           0,
           0
          ],
          [
           0,
           0
          ],
          [
           0,
           0
          ],
          [
           0,
           0
          ],
          [
           0,
           0
          ],
          [
           0,
           0
          ],
          [
           0,
           0
          ],
          [
           0,
           0
          ],
          [
           0,
           0
          ],
          [
           0,
           0
          ],
          [
           0,
           0
          ],
          [
           0,
           0
          ],
          [
           0,
           0
          ],
          [
           0,
           0
          ],
          [
           0,
           0
          ],
          [
           0,
           0
          ],
          [
           0,
           0
          ],
          [
           0,
           0
          ],
          [
           0,
           0
          ],
          [
           0,
           0
          ],
          [
           0,
           0
          ],
          [
           0,
           0
          ],
          [
           0,
           0
          ],
          [
           0,
           0
          ],
          [
           0,
           0
          ],
          [
           0,
           0
          ],
          [
           0,
           0
          ],
          [
           0,
           0
          ],
          [
           0,
           0
          ],
          [
           0,
           0
          ],
          [
           0,
           0
          ],
          [
           0,
           0
          ],
          [
           0,
           0
          ],
          [
           0,
           0
          ],
          [
           0,
           0
          ],
          [
           0,
           0
          ],
          [
           0,
           0
          ],
          [
           0,
           0
          ],
          [
           0,
           0
          ],
          [
           0,
           0
          ],
          [
           0,
           0
          ],
          [
           0,
           0
          ],
          [
           0,
           0
          ],
          [
           0,
           0
          ],
          [
           0,
           0
          ],
          [
           0,
           0
          ],
          [
           0,
           0
          ],
          [
           0,
           0
          ]
         ],
         "fillcolor": "rgba(255,255,255,0)",
         "hoveron": "points",
         "hovertemplate": "Product Type=MATERIALS<br>Continent=%{x}<br>Female Worker Count=%{customdata[0]}<br>Migrant Worker Count=%{customdata[1]}<extra></extra>",
         "jitter": 0,
         "legendgroup": "MATERIALS",
         "line": {
          "color": "rgba(255,255,255,0)"
         },
         "marker": {
          "color": "#ab63fa",
          "symbol": "line-ns-open"
         },
         "name": "MATERIALS",
         "offsetgroup": "MATERIALS",
         "showlegend": false,
         "type": "box",
         "x": [
          "North America",
          "Asia",
          "Asia",
          "Asia",
          "Asia",
          "Asia",
          "Asia",
          "Asia",
          "Asia",
          "Asia",
          "Asia",
          "Asia",
          "Asia",
          "Asia",
          "Asia",
          "Asia",
          "Asia",
          "Asia",
          "Asia",
          "Asia",
          "Asia",
          "Asia",
          "Asia",
          "Asia",
          "Asia",
          "Asia",
          "Asia",
          "Asia",
          "Asia",
          "Asia",
          "Asia",
          "Asia",
          "Asia",
          "Asia",
          "Asia",
          "South America",
          "North America",
          "Asia",
          "Asia",
          "Asia",
          "Asia",
          "Asia",
          "Asia",
          "Asia",
          "Asia",
          "Asia",
          "Asia",
          "Asia",
          "Asia",
          "Asia",
          "Asia",
          "Asia",
          "Asia",
          "Asia",
          "Asia",
          "Asia",
          "Asia",
          "Asia",
          "Asia",
          "Asia",
          "Asia",
          "Asia",
          "Asia",
          "Asia",
          "Asia",
          "Asia",
          "Asia",
          "Asia",
          "Asia",
          "Asia",
          "Asia",
          "Asia",
          "Asia",
          "Asia",
          "Asia",
          "Asia"
         ],
         "xaxis": "x2",
         "yaxis": "y2"
        }
       ],
       "layout": {
        "barmode": "relative",
        "legend": {
         "title": {
          "text": "Product Type"
         },
         "tracegroupgap": 0
        },
        "template": {
         "data": {
          "bar": [
           {
            "error_x": {
             "color": "#2a3f5f"
            },
            "error_y": {
             "color": "#2a3f5f"
            },
            "marker": {
             "line": {
              "color": "#E5ECF6",
              "width": 0.5
             },
             "pattern": {
              "fillmode": "overlay",
              "size": 10,
              "solidity": 0.2
             }
            },
            "type": "bar"
           }
          ],
          "barpolar": [
           {
            "marker": {
             "line": {
              "color": "#E5ECF6",
              "width": 0.5
             },
             "pattern": {
              "fillmode": "overlay",
              "size": 10,
              "solidity": 0.2
             }
            },
            "type": "barpolar"
           }
          ],
          "carpet": [
           {
            "aaxis": {
             "endlinecolor": "#2a3f5f",
             "gridcolor": "white",
             "linecolor": "white",
             "minorgridcolor": "white",
             "startlinecolor": "#2a3f5f"
            },
            "baxis": {
             "endlinecolor": "#2a3f5f",
             "gridcolor": "white",
             "linecolor": "white",
             "minorgridcolor": "white",
             "startlinecolor": "#2a3f5f"
            },
            "type": "carpet"
           }
          ],
          "choropleth": [
           {
            "colorbar": {
             "outlinewidth": 0,
             "ticks": ""
            },
            "type": "choropleth"
           }
          ],
          "contour": [
           {
            "colorbar": {
             "outlinewidth": 0,
             "ticks": ""
            },
            "colorscale": [
             [
              0,
              "#0d0887"
             ],
             [
              0.1111111111111111,
              "#46039f"
             ],
             [
              0.2222222222222222,
              "#7201a8"
             ],
             [
              0.3333333333333333,
              "#9c179e"
             ],
             [
              0.4444444444444444,
              "#bd3786"
             ],
             [
              0.5555555555555556,
              "#d8576b"
             ],
             [
              0.6666666666666666,
              "#ed7953"
             ],
             [
              0.7777777777777778,
              "#fb9f3a"
             ],
             [
              0.8888888888888888,
              "#fdca26"
             ],
             [
              1,
              "#f0f921"
             ]
            ],
            "type": "contour"
           }
          ],
          "contourcarpet": [
           {
            "colorbar": {
             "outlinewidth": 0,
             "ticks": ""
            },
            "type": "contourcarpet"
           }
          ],
          "heatmap": [
           {
            "colorbar": {
             "outlinewidth": 0,
             "ticks": ""
            },
            "colorscale": [
             [
              0,
              "#0d0887"
             ],
             [
              0.1111111111111111,
              "#46039f"
             ],
             [
              0.2222222222222222,
              "#7201a8"
             ],
             [
              0.3333333333333333,
              "#9c179e"
             ],
             [
              0.4444444444444444,
              "#bd3786"
             ],
             [
              0.5555555555555556,
              "#d8576b"
             ],
             [
              0.6666666666666666,
              "#ed7953"
             ],
             [
              0.7777777777777778,
              "#fb9f3a"
             ],
             [
              0.8888888888888888,
              "#fdca26"
             ],
             [
              1,
              "#f0f921"
             ]
            ],
            "type": "heatmap"
           }
          ],
          "heatmapgl": [
           {
            "colorbar": {
             "outlinewidth": 0,
             "ticks": ""
            },
            "colorscale": [
             [
              0,
              "#0d0887"
             ],
             [
              0.1111111111111111,
              "#46039f"
             ],
             [
              0.2222222222222222,
              "#7201a8"
             ],
             [
              0.3333333333333333,
              "#9c179e"
             ],
             [
              0.4444444444444444,
              "#bd3786"
             ],
             [
              0.5555555555555556,
              "#d8576b"
             ],
             [
              0.6666666666666666,
              "#ed7953"
             ],
             [
              0.7777777777777778,
              "#fb9f3a"
             ],
             [
              0.8888888888888888,
              "#fdca26"
             ],
             [
              1,
              "#f0f921"
             ]
            ],
            "type": "heatmapgl"
           }
          ],
          "histogram": [
           {
            "marker": {
             "pattern": {
              "fillmode": "overlay",
              "size": 10,
              "solidity": 0.2
             }
            },
            "type": "histogram"
           }
          ],
          "histogram2d": [
           {
            "colorbar": {
             "outlinewidth": 0,
             "ticks": ""
            },
            "colorscale": [
             [
              0,
              "#0d0887"
             ],
             [
              0.1111111111111111,
              "#46039f"
             ],
             [
              0.2222222222222222,
              "#7201a8"
             ],
             [
              0.3333333333333333,
              "#9c179e"
             ],
             [
              0.4444444444444444,
              "#bd3786"
             ],
             [
              0.5555555555555556,
              "#d8576b"
             ],
             [
              0.6666666666666666,
              "#ed7953"
             ],
             [
              0.7777777777777778,
              "#fb9f3a"
             ],
             [
              0.8888888888888888,
              "#fdca26"
             ],
             [
              1,
              "#f0f921"
             ]
            ],
            "type": "histogram2d"
           }
          ],
          "histogram2dcontour": [
           {
            "colorbar": {
             "outlinewidth": 0,
             "ticks": ""
            },
            "colorscale": [
             [
              0,
              "#0d0887"
             ],
             [
              0.1111111111111111,
              "#46039f"
             ],
             [
              0.2222222222222222,
              "#7201a8"
             ],
             [
              0.3333333333333333,
              "#9c179e"
             ],
             [
              0.4444444444444444,
              "#bd3786"
             ],
             [
              0.5555555555555556,
              "#d8576b"
             ],
             [
              0.6666666666666666,
              "#ed7953"
             ],
             [
              0.7777777777777778,
              "#fb9f3a"
             ],
             [
              0.8888888888888888,
              "#fdca26"
             ],
             [
              1,
              "#f0f921"
             ]
            ],
            "type": "histogram2dcontour"
           }
          ],
          "mesh3d": [
           {
            "colorbar": {
             "outlinewidth": 0,
             "ticks": ""
            },
            "type": "mesh3d"
           }
          ],
          "parcoords": [
           {
            "line": {
             "colorbar": {
              "outlinewidth": 0,
              "ticks": ""
             }
            },
            "type": "parcoords"
           }
          ],
          "pie": [
           {
            "automargin": true,
            "type": "pie"
           }
          ],
          "scatter": [
           {
            "fillpattern": {
             "fillmode": "overlay",
             "size": 10,
             "solidity": 0.2
            },
            "type": "scatter"
           }
          ],
          "scatter3d": [
           {
            "line": {
             "colorbar": {
              "outlinewidth": 0,
              "ticks": ""
             }
            },
            "marker": {
             "colorbar": {
              "outlinewidth": 0,
              "ticks": ""
             }
            },
            "type": "scatter3d"
           }
          ],
          "scattercarpet": [
           {
            "marker": {
             "colorbar": {
              "outlinewidth": 0,
              "ticks": ""
             }
            },
            "type": "scattercarpet"
           }
          ],
          "scattergeo": [
           {
            "marker": {
             "colorbar": {
              "outlinewidth": 0,
              "ticks": ""
             }
            },
            "type": "scattergeo"
           }
          ],
          "scattergl": [
           {
            "marker": {
             "colorbar": {
              "outlinewidth": 0,
              "ticks": ""
             }
            },
            "type": "scattergl"
           }
          ],
          "scattermapbox": [
           {
            "marker": {
             "colorbar": {
              "outlinewidth": 0,
              "ticks": ""
             }
            },
            "type": "scattermapbox"
           }
          ],
          "scatterpolar": [
           {
            "marker": {
             "colorbar": {
              "outlinewidth": 0,
              "ticks": ""
             }
            },
            "type": "scatterpolar"
           }
          ],
          "scatterpolargl": [
           {
            "marker": {
             "colorbar": {
              "outlinewidth": 0,
              "ticks": ""
             }
            },
            "type": "scatterpolargl"
           }
          ],
          "scatterternary": [
           {
            "marker": {
             "colorbar": {
              "outlinewidth": 0,
              "ticks": ""
             }
            },
            "type": "scatterternary"
           }
          ],
          "surface": [
           {
            "colorbar": {
             "outlinewidth": 0,
             "ticks": ""
            },
            "colorscale": [
             [
              0,
              "#0d0887"
             ],
             [
              0.1111111111111111,
              "#46039f"
             ],
             [
              0.2222222222222222,
              "#7201a8"
             ],
             [
              0.3333333333333333,
              "#9c179e"
             ],
             [
              0.4444444444444444,
              "#bd3786"
             ],
             [
              0.5555555555555556,
              "#d8576b"
             ],
             [
              0.6666666666666666,
              "#ed7953"
             ],
             [
              0.7777777777777778,
              "#fb9f3a"
             ],
             [
              0.8888888888888888,
              "#fdca26"
             ],
             [
              1,
              "#f0f921"
             ]
            ],
            "type": "surface"
           }
          ],
          "table": [
           {
            "cells": {
             "fill": {
              "color": "#EBF0F8"
             },
             "line": {
              "color": "white"
             }
            },
            "header": {
             "fill": {
              "color": "#C8D4E3"
             },
             "line": {
              "color": "white"
             }
            },
            "type": "table"
           }
          ]
         },
         "layout": {
          "annotationdefaults": {
           "arrowcolor": "#2a3f5f",
           "arrowhead": 0,
           "arrowwidth": 1
          },
          "autotypenumbers": "strict",
          "coloraxis": {
           "colorbar": {
            "outlinewidth": 0,
            "ticks": ""
           }
          },
          "colorscale": {
           "diverging": [
            [
             0,
             "#8e0152"
            ],
            [
             0.1,
             "#c51b7d"
            ],
            [
             0.2,
             "#de77ae"
            ],
            [
             0.3,
             "#f1b6da"
            ],
            [
             0.4,
             "#fde0ef"
            ],
            [
             0.5,
             "#f7f7f7"
            ],
            [
             0.6,
             "#e6f5d0"
            ],
            [
             0.7,
             "#b8e186"
            ],
            [
             0.8,
             "#7fbc41"
            ],
            [
             0.9,
             "#4d9221"
            ],
            [
             1,
             "#276419"
            ]
           ],
           "sequential": [
            [
             0,
             "#0d0887"
            ],
            [
             0.1111111111111111,
             "#46039f"
            ],
            [
             0.2222222222222222,
             "#7201a8"
            ],
            [
             0.3333333333333333,
             "#9c179e"
            ],
            [
             0.4444444444444444,
             "#bd3786"
            ],
            [
             0.5555555555555556,
             "#d8576b"
            ],
            [
             0.6666666666666666,
             "#ed7953"
            ],
            [
             0.7777777777777778,
             "#fb9f3a"
            ],
            [
             0.8888888888888888,
             "#fdca26"
            ],
            [
             1,
             "#f0f921"
            ]
           ],
           "sequentialminus": [
            [
             0,
             "#0d0887"
            ],
            [
             0.1111111111111111,
             "#46039f"
            ],
            [
             0.2222222222222222,
             "#7201a8"
            ],
            [
             0.3333333333333333,
             "#9c179e"
            ],
            [
             0.4444444444444444,
             "#bd3786"
            ],
            [
             0.5555555555555556,
             "#d8576b"
            ],
            [
             0.6666666666666666,
             "#ed7953"
            ],
            [
             0.7777777777777778,
             "#fb9f3a"
            ],
            [
             0.8888888888888888,
             "#fdca26"
            ],
            [
             1,
             "#f0f921"
            ]
           ]
          },
          "colorway": [
           "#636efa",
           "#EF553B",
           "#00cc96",
           "#ab63fa",
           "#FFA15A",
           "#19d3f3",
           "#FF6692",
           "#B6E880",
           "#FF97FF",
           "#FECB52"
          ],
          "font": {
           "color": "#2a3f5f"
          },
          "geo": {
           "bgcolor": "white",
           "lakecolor": "white",
           "landcolor": "#E5ECF6",
           "showlakes": true,
           "showland": true,
           "subunitcolor": "white"
          },
          "hoverlabel": {
           "align": "left"
          },
          "hovermode": "closest",
          "mapbox": {
           "style": "light"
          },
          "paper_bgcolor": "white",
          "plot_bgcolor": "#E5ECF6",
          "polar": {
           "angularaxis": {
            "gridcolor": "white",
            "linecolor": "white",
            "ticks": ""
           },
           "bgcolor": "#E5ECF6",
           "radialaxis": {
            "gridcolor": "white",
            "linecolor": "white",
            "ticks": ""
           }
          },
          "scene": {
           "xaxis": {
            "backgroundcolor": "#E5ECF6",
            "gridcolor": "white",
            "gridwidth": 2,
            "linecolor": "white",
            "showbackground": true,
            "ticks": "",
            "zerolinecolor": "white"
           },
           "yaxis": {
            "backgroundcolor": "#E5ECF6",
            "gridcolor": "white",
            "gridwidth": 2,
            "linecolor": "white",
            "showbackground": true,
            "ticks": "",
            "zerolinecolor": "white"
           },
           "zaxis": {
            "backgroundcolor": "#E5ECF6",
            "gridcolor": "white",
            "gridwidth": 2,
            "linecolor": "white",
            "showbackground": true,
            "ticks": "",
            "zerolinecolor": "white"
           }
          },
          "shapedefaults": {
           "line": {
            "color": "#2a3f5f"
           }
          },
          "ternary": {
           "aaxis": {
            "gridcolor": "white",
            "linecolor": "white",
            "ticks": ""
           },
           "baxis": {
            "gridcolor": "white",
            "linecolor": "white",
            "ticks": ""
           },
           "bgcolor": "#E5ECF6",
           "caxis": {
            "gridcolor": "white",
            "linecolor": "white",
            "ticks": ""
           }
          },
          "title": {
           "x": 0.05
          },
          "xaxis": {
           "automargin": true,
           "gridcolor": "white",
           "linecolor": "white",
           "ticks": "",
           "title": {
            "standoff": 15
           },
           "zerolinecolor": "white",
           "zerolinewidth": 2
          },
          "yaxis": {
           "automargin": true,
           "gridcolor": "white",
           "linecolor": "white",
           "ticks": "",
           "title": {
            "standoff": 15
           },
           "zerolinecolor": "white",
           "zerolinewidth": 2
          }
         }
        },
        "title": {
         "text": "Size Of Workers Distributed By Product Type In Histogram Chart"
        },
        "xaxis": {
         "anchor": "y",
         "domain": [
          0,
          1
         ],
         "title": {
          "text": "Continent"
         }
        },
        "xaxis2": {
         "anchor": "y2",
         "domain": [
          0,
          1
         ],
         "matches": "x",
         "showgrid": true,
         "showticklabels": false
        },
        "yaxis": {
         "anchor": "x",
         "domain": [
          0,
          0.7326
         ],
         "title": {
          "text": "sum of Total Workers"
         }
        },
        "yaxis2": {
         "anchor": "x2",
         "domain": [
          0.7426,
          1
         ],
         "matches": "y2",
         "showgrid": false,
         "showline": false,
         "showticklabels": false,
         "ticks": ""
        }
       }
      }
     },
     "metadata": {},
     "output_type": "display_data"
    }
   ],
   "source": [
    "# hist chart - continent/total workers | product type\n",
    "fig = px.histogram(df, x=\"Continent\", y=\"Total Workers\", color='Product Type', marginal=\"rug\",\n",
    "                   hover_data=['Total Workers', 'Female Worker Count', 'Migrant Worker Count'],\n",
    "                   title='Size of Workers distributed by product type in histogram chart'.title())\n",
    "fig.show()"
   ]
  },
  {
   "cell_type": "code",
   "execution_count": 88,
   "metadata": {},
   "outputs": [
    {
     "data": {
      "application/vnd.plotly.v1+json": {
       "config": {
        "plotlyServerURL": "https://plot.ly"
       },
       "data": [
        {
         "geo": "geo",
         "hovertemplate": "<b>%{hovertext}</b><br><br>Continent=North America<br>Total Workers=%{marker.size}<br>Latitude=%{lat}<br>Longitude=%{lon}<extra></extra>",
         "hovertext": [
          "USA",
          "GUATEMALA",
          "NICARAGUA",
          "HONDURAS",
          "USA",
          "USA",
          "USA",
          "USA",
          "USA",
          "USA",
          "USA",
          "USA",
          "USA",
          "USA",
          "MEXICO",
          "MEXICO",
          "MEXICO",
          "GUATEMALA",
          "USA",
          "EL SALVADOR",
          "MEXICO",
          "CANADA",
          "HONDURAS",
          "USA",
          "USA",
          "MEXICO",
          "HONDURAS",
          "HONDURAS",
          "USA",
          "USA",
          "USA",
          "HONDURAS",
          "CANADA",
          "USA",
          "MEXICO",
          "GUATEMALA",
          "USA",
          "CANADA",
          "USA",
          "USA",
          "USA",
          "MEXICO",
          "CANADA",
          "USA",
          "MEXICO",
          "USA",
          "GUATEMALA",
          "USA",
          "NICARAGUA",
          "USA",
          "USA",
          "MEXICO",
          "USA",
          "USA",
          "EL SALVADOR",
          "USA",
          "USA",
          "USA",
          "USA",
          "USA",
          "MEXICO",
          "USA",
          "USA",
          "USA",
          "USA",
          "HONDURAS",
          "USA",
          "USA",
          "EL SALVADOR",
          "USA",
          "USA",
          "USA",
          "EL SALVADOR",
          "MEXICO",
          "USA",
          "USA",
          "MEXICO",
          "MEXICO",
          "MEXICO",
          "USA"
         ],
         "lat": [
          45.5202471,
          14.6307175,
          11.914505,
          null,
          32.944012,
          43.207178,
          32.8295183,
          36.8968052,
          45.5202471,
          32.7762719,
          32.7762719,
          39.7683331,
          34.7659252,
          30.6743643,
          19.0437196,
          -31.448994,
          null,
          14.5308826,
          41.9908485,
          13.8402875,
          31.8658887,
          43.6534817,
          15.5062156,
          45.5228939,
          45.143731,
          20.6720375,
          6.6712394,
          15.6127426,
          42.2713945,
          33.2000368,
          40.5395421,
          15.5062156,
          45.5031824,
          33.6783336,
          19.611389,
          14.5596159,
          33.9412127,
          43.6534817,
          45.5202471,
          47.6571934,
          45.5202471,
          null,
          45.3990409,
          31.199004,
          null,
          33.8595564,
          14.6222328,
          42.1487691,
          12.1459907,
          45.5202471,
          33.6633386,
          12.4345376,
          38.1547698,
          44.0500054,
          14.7026327,
          33.7690164,
          52.5170365,
          41.8386737,
          38.661953,
          39.7589478,
          31.8658887,
          45.5202471,
          -27.4689682,
          35.9556924,
          35.9556924,
          15.5062156,
          28.9488761,
          42.8258195,
          13.9853216,
          43.1339001,
          27.4989278,
          42.7317899,
          null,
          19.1818062,
          48.60107,
          45.3099218,
          47.188449,
          21.1428919,
          18.0198156,
          34.6183433
         ],
         "legendgroup": "North America",
         "lon": [
          -122.6741949,
          -90.6061595,
          -86.1445563,
          null,
          -85.9538532,
          -71.537476,
          -96.9442177,
          -76.2602336,
          -122.6741949,
          -96.7968559,
          -96.7968559,
          -86.1583502,
          -88.526717,
          -96.3699632,
          -98.1981486,
          -60.9304048,
          null,
          -90.5963325,
          -88.1850028,
          -89.4437598,
          -116.6029835,
          -79.3839347,
          -88.0248937,
          -122.989827,
          -122.8553725,
          -103.338396,
          -73.1753984,
          -87.950694,
          -89.093966,
          -117.2425355,
          -75.4968502,
          -88.0248937,
          -73.5698065,
          -118.0000166,
          -96.949444,
          -90.46214160738042,
          -84.2135309,
          -79.3839347,
          -122.6741949,
          -117.4235106,
          -122.6741949,
          null,
          -72.721834,
          29.894378,
          null,
          -118.2167197,
          -90.5185188,
          -72.6071119,
          -86.2746665,
          -122.6741949,
          -117.903317,
          -86.8773498,
          -91.2440329,
          -91.6392294,
          -91.8656361,
          -118.191604,
          13.3888599,
          -94.1069211,
          -90.5643258,
          -84.1916069,
          -116.6029835,
          -122.6741949,
          153.0234991,
          -80.0053176,
          -80.0053176,
          -88.0248937,
          -81.2986741,
          -95.8075134,
          -89.6802434,
          -88.2220372,
          -82.5748194,
          -93.7321871,
          null,
          -99.4680167,
          0.27343,
          -122.7681602,
          23.9944624,
          -88.1524717,
          -90.8809957,
          -79.0083993
         ],
         "marker": {
          "color": "#636efa",
          "size": [
           94,
           191,
           3963,
           0,
           60,
           114,
           87,
           230,
           31,
           39,
           49,
           177,
           87,
           206,
           15,
           1109,
           189,
           2305,
           59,
           804,
           813,
           100,
           2197,
           24,
           131,
           5590,
           4686,
           2858,
           98,
           33,
           34,
           2197,
           4,
           121,
           248,
           498,
           42,
           46,
           7,
           134,
           60,
           1542,
           87,
           24,
           1244,
           180,
           634,
           104,
           1813,
           110,
           89,
           363,
           560,
           94,
           0,
           168,
           157,
           47,
           47,
           95,
           165,
           13,
           77,
           352,
           249,
           3709,
           531,
           73,
           1839,
           270,
           186,
           29,
           2246,
           377,
           47,
           16,
           2099,
           240,
           630,
           70
          ],
          "sizemode": "area",
          "sizeref": 61.83,
          "symbol": "circle"
         },
         "mode": "markers",
         "name": "North America",
         "showlegend": true,
         "type": "scattergeo"
        },
        {
         "geo": "geo",
         "hovertemplate": "<b>%{hovertext}</b><br><br>Continent=Asia<br>Total Workers=%{marker.size}<br>Latitude=%{lat}<br>Longitude=%{lon}<extra></extra>",
         "hovertext": [
          "VIETNAM",
          "VIETNAM",
          "GEORGIA",
          "VIETNAM",
          "CHINA",
          "VIETNAM",
          "SRI LANKA",
          "VIETNAM",
          "JAPAN",
          "VIETNAM",
          "SOUTH KOREA",
          "INDONESIA",
          "VIETNAM",
          "SRI LANKA",
          "SRI LANKA",
          "SRI LANKA",
          "SRI LANKA",
          "TAIWAN",
          "CHINA",
          "SOUTH KOREA",
          "CHINA",
          "VIETNAM",
          "VIETNAM",
          "INDONESIA",
          "VIETNAM",
          "VIETNAM",
          "SOUTH KOREA",
          "TAIWAN",
          "CHINA",
          "TAIWAN",
          "TAIWAN",
          "TAIWAN",
          "VIETNAM",
          "CHINA",
          "INDONESIA",
          "CAMBODIA",
          "VIETNAM",
          "TURKEY",
          "VIETNAM",
          "ISRAEL",
          "BANGLADESH",
          "SRI LANKA",
          "VIETNAM",
          "VIETNAM",
          "VIETNAM",
          "VIETNAM",
          "CHINA",
          "CHINA",
          "CHINA",
          "TAIWAN",
          "CHINA",
          "CHINA",
          "CHINA",
          "CHINA",
          "CHINA",
          "VIETNAM",
          "SOUTH KOREA",
          "CHINA",
          "SOUTH KOREA",
          "CHINA",
          "INDIA",
          "JAPAN",
          "VIETNAM",
          "VIETNAM",
          "TAIWAN",
          "VIETNAM",
          "THAILAND",
          "VIETNAM",
          "VIETNAM",
          "INDIA",
          "VIETNAM",
          "TAIWAN",
          "CHINA",
          "THAILAND",
          "INDIA",
          "CHINA",
          "CHINA",
          "VIETNAM",
          "VIETNAM",
          "TAIWAN",
          "VIETNAM",
          "VIETNAM",
          "VIETNAM",
          "TAIWAN",
          "BANGLADESH",
          "CHINA",
          "CAMBODIA",
          "TAIWAN",
          "INDONESIA",
          "CHINA",
          "TAIWAN",
          "CHINA",
          "VIETNAM",
          "SOUTH KOREA",
          "VIETNAM",
          "VIETNAM",
          "CHINA",
          "CHINA",
          "CHINA",
          "CHINA",
          "VIETNAM",
          "CHINA",
          "THAILAND",
          "VIETNAM",
          "SOUTH KOREA",
          "VIETNAM",
          "CHINA",
          "VIETNAM",
          "VIETNAM",
          "CHINA",
          "VIETNAM",
          "VIETNAM",
          "VIETNAM",
          "CHINA",
          "VIETNAM",
          "VIETNAM",
          "JAPAN",
          "CAMBODIA",
          "THAILAND",
          "THAILAND",
          "THAILAND",
          "THAILAND",
          "THAILAND",
          "VIETNAM",
          "TAIWAN",
          "THAILAND",
          "THAILAND",
          "VIETNAM",
          "MALAYSIA",
          "CHINA",
          "CHINA",
          "CHINA",
          "TAIWAN",
          "CHINA",
          "CHINA",
          "CHINA",
          "VIETNAM",
          "VIETNAM",
          "TAIWAN",
          "PAKISTAN",
          "INDIA",
          "CHINA",
          "TAIWAN",
          "CHINA",
          "CHINA",
          "CHINA",
          "CHINA",
          "CHINA",
          "CHINA",
          "CHINA",
          "CHINA",
          "CHINA",
          "SRI LANKA",
          "SOUTH KOREA",
          "VIETNAM",
          "TAIWAN",
          "JAPAN",
          "CAMBODIA",
          "CHINA",
          "CHINA",
          "VIETNAM",
          "VIETNAM",
          "VIETNAM",
          "JAPAN",
          "TAIWAN",
          "SRI LANKA",
          "CHINA",
          "VIETNAM",
          "CHINA",
          "CHINA",
          "CHINA",
          "CHINA",
          "CHINA",
          "INDIA",
          "INDIA",
          "VIETNAM",
          "PAKISTAN",
          "SRI LANKA",
          "SRI LANKA",
          "SRI LANKA",
          "SRI LANKA",
          "SRI LANKA",
          "SRI LANKA",
          "INDIA",
          "SRI LANKA",
          "SRI LANKA",
          "JAPAN",
          "VIETNAM",
          "VIETNAM",
          "TAIWAN",
          "VIETNAM",
          "TURKEY",
          "GEORGIA",
          "SOUTH KOREA",
          "VIETNAM",
          "VIETNAM",
          "VIETNAM",
          "THAILAND",
          "THAILAND",
          "THAILAND",
          "THAILAND",
          "TAIWAN",
          "CHINA",
          "THAILAND",
          "THAILAND",
          "THAILAND",
          "THAILAND",
          "CHINA",
          "CHINA",
          "CHINA",
          "CHINA",
          "CHINA",
          "CHINA",
          "CHINA",
          "CHINA",
          "CHINA",
          "CHINA",
          "CHINA",
          "THAILAND",
          "VIETNAM",
          "JAPAN",
          "CHINA",
          "THAILAND",
          "CAMBODIA",
          "THAILAND",
          "VIETNAM",
          "THAILAND",
          "CHINA",
          "CHINA",
          "THAILAND",
          "JORDAN",
          "CHINA",
          "CHINA",
          "CHINA",
          "TAIWAN",
          "TAIWAN",
          "VIETNAM",
          "INDIA",
          "CHINA",
          "INDONESIA",
          "CHINA",
          "VIETNAM",
          "TAIWAN",
          "TAIWAN",
          "VIETNAM",
          "INDONESIA",
          "INDONESIA",
          "INDONESIA",
          "INDONESIA",
          "INDONESIA",
          "INDONESIA",
          "INDONESIA",
          "INDONESIA",
          "INDONESIA",
          "INDONESIA",
          "INDONESIA",
          "INDONESIA",
          "INDONESIA",
          "INDONESIA",
          "INDONESIA",
          "INDONESIA",
          "INDONESIA",
          "INDONESIA",
          "INDONESIA",
          "INDONESIA",
          "INDONESIA",
          "INDONESIA",
          "INDONESIA",
          "INDONESIA",
          "INDONESIA",
          "INDONESIA",
          "INDONESIA",
          "INDONESIA",
          "INDONESIA",
          "INDONESIA",
          "INDONESIA",
          "INDONESIA",
          "INDONESIA",
          "INDONESIA",
          "INDONESIA",
          "INDONESIA",
          "INDONESIA",
          "CHINA",
          "CHINA",
          "CHINA",
          "CHINA",
          "CHINA",
          "CHINA",
          "CHINA",
          "VIETNAM",
          "VIETNAM",
          "CHINA",
          "CHINA",
          "THAILAND",
          "CHINA",
          "CHINA",
          "CHINA",
          "MALAYSIA",
          "THAILAND",
          "TAIWAN",
          "CHINA",
          "CHINA",
          "CHINA",
          "CAMBODIA",
          "THAILAND",
          "THAILAND",
          "VIETNAM",
          "INDONESIA",
          "TAIWAN",
          "VIETNAM",
          "CHINA",
          "JAPAN",
          "VIETNAM",
          "JAPAN",
          "JAPAN",
          "SRI LANKA",
          "CHINA",
          "CHINA",
          "CHINA",
          "CHINA",
          "THAILAND",
          "CAMBODIA",
          "CHINA",
          "CHINA",
          "INDONESIA",
          "CHINA",
          "CHINA",
          "CHINA",
          "CHINA",
          "PAKISTAN",
          "PAKISTAN",
          "VIETNAM",
          "VIETNAM",
          "MALAYSIA",
          "CHINA",
          "MALAYSIA",
          "INDIA",
          "VIETNAM",
          "INDIA",
          "INDIA",
          "TAIWAN",
          "JORDAN",
          "JORDAN",
          "PAKISTAN",
          "PAKISTAN",
          "PAKISTAN",
          "CHINA",
          "CHINA",
          "CHINA",
          "CHINA",
          "JAPAN",
          "VIETNAM",
          "VIETNAM",
          "VIETNAM",
          "VIETNAM",
          "SOUTH KOREA",
          "VIETNAM",
          "MALAYSIA",
          "MALAYSIA",
          "MALAYSIA",
          "TAIWAN",
          "JAPAN",
          "INDONESIA",
          "TAIWAN",
          "SRI LANKA",
          "THAILAND",
          "CHINA",
          "CHINA",
          "VIETNAM",
          "VIETNAM",
          "TAIWAN",
          "CHINA",
          "TAIWAN",
          "TAIWAN",
          "VIETNAM",
          "TAIWAN",
          "VIETNAM",
          "CHINA",
          "VIETNAM",
          "CHINA",
          "VIETNAM",
          "CAMBODIA",
          "CHINA",
          "TAIWAN",
          "JAPAN",
          "THAILAND",
          "VIETNAM",
          "TAIWAN",
          "VIETNAM",
          "JAPAN",
          "CHINA",
          "VIETNAM",
          "VIETNAM",
          "CHINA",
          "VIETNAM",
          "MALAYSIA",
          "THAILAND",
          "THAILAND",
          "THAILAND",
          "VIETNAM",
          "VIETNAM",
          "VIETNAM",
          "VIETNAM",
          "VIETNAM",
          "VIETNAM",
          "VIETNAM",
          "VIETNAM",
          "VIETNAM",
          "VIETNAM",
          "VIETNAM",
          "VIETNAM",
          "VIETNAM",
          "VIETNAM",
          "VIETNAM",
          "CHINA",
          "TAIWAN",
          "CHINA",
          "CHINA",
          "CHINA",
          "VIETNAM",
          "CHINA",
          "CHINA",
          "CHINA",
          "CHINA",
          "VIETNAM",
          "TURKEY",
          "TURKEY",
          "TAIWAN",
          "CHINA",
          "TAIWAN",
          "CHINA",
          "SOUTH KOREA",
          "SOUTH KOREA",
          "SOUTH KOREA",
          "VIETNAM",
          "SOUTH KOREA",
          "VIETNAM",
          "SOUTH KOREA",
          "THAILAND",
          "TAIWAN",
          "CHINA",
          "VIETNAM",
          "CHINA",
          "CHINA",
          "CHINA",
          "CHINA",
          "CHINA",
          "CHINA",
          "CHINA",
          "CHINA",
          "CHINA",
          "CHINA",
          "CHINA",
          "CHINA"
         ],
         "lat": [
          10.9560264,
          null,
          42.141614,
          10.4962696,
          51.5073219,
          null,
          6.8018439,
          10.9560264,
          34.5186316,
          20.858864,
          37.3798891,
          -6.1760311,
          null,
          6.6479256,
          6.716628,
          6.5423445,
          6.5423445,
          25.011997,
          32.3969935,
          27.1341946,
          null,
          null,
          10.7758439,
          -6.3042012,
          45.3662519,
          11.58331,
          35.1799528,
          24.9929995,
          31.8122623,
          24.9929995,
          27.738153,
          24.163162,
          10.3629555,
          28.2741176,
          -6.2349858,
          11.568271,
          10.7758439,
          40.8458611,
          22.0259517,
          32.9159104,
          23.7861979,
          8.3583002,
          11.58331,
          11.58331,
          11.58331,
          null,
          null,
          23.0205969,
          23.0205969,
          24.9075751,
          23.0205969,
          33.6367669,
          23.0205969,
          23.0205969,
          23.0205969,
          10.9560264,
          52.3744779,
          32.1787766,
          35.1595775,
          28.3973634,
          13.0836939,
          null,
          null,
          11.58331,
          24.9929995,
          10.7715512,
          null,
          10.9035106,
          10.6408029,
          12.9767936,
          null,
          22.9912348,
          31.2322758,
          13.539067,
          null,
          null,
          31.3016935,
          10.9035106,
          15.3165257,
          24.9929995,
          10.8264638,
          10.9560264,
          10.9560264,
          null,
          44.0371195,
          22.273734,
          11.568271,
          35.1433533,
          -6.9903988,
          23.1146515,
          23.7050525,
          31.6572954,
          10.6427276,
          36.7899498,
          11.58331,
          10.7758439,
          25.4557366,
          27.9511188,
          25.7237321,
          25.4557366,
          23.1038568,
          25.7237321,
          13.7544238,
          16.054804,
          35.1799528,
          10.9808435,
          22.5213807,
          32.1901111,
          10.9035106,
          23.6832984,
          34.3508273,
          null,
          21.0294498,
          30.5276676,
          10.3108304,
          10.7758439,
          35.021041,
          13.6593962,
          null,
          null,
          13.2684945,
          13.7544238,
          13.2684945,
          null,
          25.0375198,
          13.7544238,
          null,
          null,
          1.8472584,
          null,
          25.4557366,
          33.5524785,
          24.9929995,
          null,
          26.6384386,
          23.1146515,
          20.6568406,
          10.7758439,
          22.9912348,
          31.4220558,
          13.0836939,
          22.2525211,
          24.0807667,
          33.5524785,
          33.5524785,
          32.3969935,
          31.9092756,
          28.687547,
          30.7474425,
          30.6782402,
          35.4089574,
          36.617331,
          7.4870464,
          35.1799528,
          11.0839073,
          30.1658896,
          34.5415175,
          null,
          31.3869323,
          23.0205969,
          null,
          null,
          null,
          35.360687,
          null,
          7.2791971,
          22.5598573,
          34.8333051,
          24.1014769,
          23.1146515,
          23.1146515,
          24.2918414,
          22.555454,
          null,
          null,
          10.7758439,
          31.5656822,
          7.156773,
          7.2805314,
          7.156773,
          6.9522325,
          6.9387469,
          6.9387469,
          null,
          7.2532006,
          7.2791971,
          34.5094067,
          20.4232641,
          20.4232641,
          24.9929995,
          10.9560264,
          41.0010262,
          41.6509502,
          35.1799528,
          24.68374,
          null,
          10.7758439,
          null,
          27.6598607,
          null,
          16.5194442,
          25.011997,
          30.6782402,
          null,
          13.9226541,
          null,
          null,
          32.5866826,
          29.8622194,
          29.8622194,
          29.8622194,
          29.8622194,
          29.8622194,
          29.8622194,
          29.8622194,
          29.8622194,
          29.8622194,
          38.9181714,
          16.4293625,
          21.2737079,
          null,
          31.8782976,
          null,
          11.568271,
          null,
          21.2737079,
          null,
          23.0205969,
          23.1301964,
          13.2684945,
          31.9515694,
          30.6782402,
          22.0972997,
          23.1146515,
          34.895858,
          37.1994653,
          10.9509538,
          22.6105576,
          22.5445741,
          -7.5344079,
          23.0205969,
          10.2566915,
          24.9929995,
          22.9912348,
          null,
          -7.8011945,
          -6.1760311,
          -6.1760311,
          48.464708,
          -6.1753942,
          null,
          -6.1753942,
          null,
          -6.9199289,
          -6.136197,
          -6.2349858,
          -6.1760311,
          -6.2349858,
          -6.5962986,
          46.3144754,
          -6.1169662,
          -6.9903988,
          -6.2955404,
          -6.9199289,
          -6.9903988,
          -6.9903988,
          -6.3042012,
          -6.1760311,
          -6.1760311,
          -6.1760311,
          -6.9199289,
          -6.1760311,
          -6.1760311,
          -6.8351874,
          -6.98393825,
          -6.9344694,
          -6.9903988,
          -6.5906502,
          -6.824096,
          -6.3042012,
          -6.1431943,
          null,
          36.4083982,
          36.0638034,
          36.8618279,
          36.4083982,
          36.0638034,
          37.461928,
          36.0638034,
          32.1901111,
          10.7758439,
          24.8755492,
          24.8755492,
          null,
          31.3016935,
          null,
          31.3016935,
          1.4728119,
          14.9747545,
          24.9929995,
          22.555454,
          29.8622194,
          32.1787766,
          null,
          14.3535427,
          13.3662087,
          14.2972357,
          -6.1760311,
          22.6203348,
          10.2566915,
          23.0205969,
          null,
          10.9509538,
          32.4585127,
          32.7833323,
          7.3400745,
          27.81697,
          31.2322758,
          29.034552,
          26.993991,
          12.6817905,
          11.568271,
          null,
          null,
          -6.1169662,
          24.8136095,
          23.6832984,
          23.6832984,
          26.423568,
          32.3353965,
          32.4935378,
          10.7758439,
          51.7610497,
          1.8472584,
          31.3016935,
          5.3870844,
          19.6978751,
          10.7758439,
          null,
          null,
          24.9929995,
          31.7165941,
          31.8786659,
          31.5656822,
          31.5656822,
          31.5656822,
          32.3969935,
          31.3016935,
          31.3016935,
          null,
          null,
          22.4997452,
          10.9560264,
          10.3606197,
          10.9560264,
          35.2310947,
          14.2972357,
          null,
          2.5124036,
          2.0322421,
          24.163162,
          47.2186371,
          -6.5962986,
          24.9929995,
          7.1692723,
          null,
          31.4933074,
          33.5524785,
          10.7500035,
          10.7758439,
          24.163162,
          25.7237321,
          24.163162,
          23.894999,
          10.9035106,
          23.894999,
          10.7758439,
          22.5213807,
          21.592477,
          21.4845174,
          10.2566915,
          36.0176,
          null,
          24.9929995,
          47.2186371,
          16.0568089,
          32.1901111,
          24.9929995,
          10.7758439,
          36.3263653,
          31.6572954,
          10.9560264,
          10.9509538,
          23.0205969,
          11.58331,
          5.2228164,
          null,
          13.2684945,
          null,
          61.4980214,
          32.1901111,
          10.3629555,
          null,
          10.7758439,
          10.7758439,
          10.7758439,
          49.3180769,
          11.3138286,
          null,
          10.7758439,
          10.7758439,
          23.3740077,
          10.2544281,
          10.3486485,
          30.5142256,
          22.9912348,
          23.0205969,
          23.1144539,
          23.0205969,
          10.7758439,
          26.4370826,
          33.3495657,
          32.3968554,
          22.5213807,
          null,
          40.1827657,
          40.1827657,
          22.9912348,
          47.7231316,
          22.7282309,
          26.423568,
          35.1799528,
          35.1799528,
          35.1799528,
          11.1510856,
          35.1041,
          null,
          35.1799528,
          null,
          24.0807667,
          23.356377,
          10.9509538,
          34.8113006,
          31.8782976,
          31.8782976,
          29.1176794,
          30.2489634,
          null,
          30.0357,
          32.1901111,
          22.5213807,
          22.5213807,
          22.5213807,
          29.7112121
         ],
         "legendgroup": "Asia",
         "lon": [
          106.8529805,
          null,
          41.6748028,
          107.1688433,
          -0.1276474,
          null,
          79.9227034,
          106.8529805,
          135.8434724,
          106.6749591,
          126.8032255,
          106.6384468,
          null,
          80.7014023,
          80.0619488,
          80.157362,
          80.157362,
          121.4656619,
          119.4077008,
          87.45070414001327,
          null,
          null,
          106.7017555,
          107.307897,
          126.3046846,
          107.3610131,
          129.0752365,
          121.3010003,
          119.9691539,
          121.3010003,
          111.7776649,
          120.6478282,
          106.6767031,
          117.034423,
          106.9945444,
          104.9224426,
          106.7017555,
          31.164851,
          110.4031831,
          35.293429,
          90.4026151,
          80.5121579,
          107.3610131,
          107.3610131,
          107.3610131,
          null,
          null,
          113.7457788,
          113.7457788,
          121.1458735,
          113.7457788,
          116.9852556,
          113.7457788,
          113.7457788,
          113.7457788,
          106.8529805,
          9.7385532,
          115.6844851,
          126.8515089,
          114.798217,
          80.270186,
          null,
          null,
          107.3610131,
          121.3010003,
          106.6983801,
          null,
          106.6990779,
          107.05094,
          77.590082,
          null,
          120.184982,
          121.4692071,
          99.8197035,
          null,
          null,
          120.5810725,
          106.6990779,
          108.8014978,
          121.3010003,
          107.3412097,
          106.8529805,
          106.8529805,
          null,
          15.01844625,
          113.5721327,
          104.9224426,
          110.769063,
          110.4229104,
          114.4107202,
          120.5372523,
          120.7480757,
          106.4833859,
          127.0026769,
          107.3610131,
          106.7017555,
          119.0029034,
          116.3530413,
          119.3795377,
          119.0029034,
          107.6946613,
          119.3795377,
          100.4930399,
          108.08238,
          129.0752365,
          106.6537483,
          113.3656141,
          119.4200584,
          106.6990779,
          113.0505994,
          62.2164003,
          null,
          105.8544441,
          120.9420572,
          106.358565,
          106.7017555,
          135.7556075,
          102.5708301,
          null,
          null,
          100.9676152,
          100.4930399,
          100.9676152,
          null,
          121.5636796,
          100.4930399,
          null,
          null,
          102.9346697,
          null,
          119.0029034,
          119.1075773,
          121.3010003,
          null,
          102.5768454,
          114.4107202,
          106.054036,
          106.7017555,
          120.184982,
          73.0923253,
          80.270186,
          112.2876964,
          120.5423,
          119.1075773,
          119.1075773,
          119.4077008,
          120.2630426,
          115.8540042,
          120.7510971,
          121.0116196,
          116.3368106,
          101.7761976,
          80.364908,
          129.0752365,
          106.2650701,
          119.212585,
          135.6988328,
          null,
          120.9764683,
          113.7457788,
          null,
          null,
          null,
          139.406942,
          null,
          80.2239914,
          113.8790404,
          112.1167048,
          115.0577538,
          114.4107202,
          114.4107202,
          116.1171428,
          114.0543297,
          null,
          null,
          106.7017555,
          74.3141829,
          79.8716676,
          80.6960665,
          79.8716676,
          80.2125947,
          79.8541134,
          79.8541134,
          null,
          80.3454132,
          80.2239914,
          135.792955,
          106.1688515,
          106.1688515,
          121.3010003,
          106.8529805,
          28.6419843,
          41.6360085,
          129.0752365,
          120.8734318,
          null,
          106.7017555,
          null,
          95.8761179,
          null,
          102.2188111,
          121.4656619,
          121.0116196,
          null,
          100.6009966,
          null,
          null,
          117.0130019,
          121.6203873,
          121.6203873,
          121.6203873,
          121.6203873,
          121.6203873,
          121.6203873,
          121.6203873,
          121.6203873,
          121.6203873,
          121.6282945,
          102.8322966,
          110.3548318,
          null,
          120.5514595,
          null,
          104.9224426,
          null,
          110.3548318,
          null,
          113.7457788,
          113.2592945,
          100.9676152,
          35.9239625,
          121.0116196,
          106.7633247,
          114.4107202,
          136.838323,
          126.8312632,
          106.8226134,
          75.6790283,
          114.0545429,
          110.6041944,
          113.7457788,
          105.593182,
          121.3010003,
          120.184982,
          null,
          110.364917,
          106.6384468,
          106.6384468,
          22.0269947,
          106.827183,
          null,
          106.827183,
          null,
          106.9265095,
          106.90069022428446,
          106.9945444,
          106.6384468,
          106.9945444,
          106.7972421,
          11.0480288,
          106.1518079,
          110.4229104,
          106.7085494,
          106.9265095,
          110.4229104,
          110.4229104,
          107.307897,
          106.6384468,
          106.6384468,
          106.6384468,
          106.9265095,
          106.6384468,
          106.6384468,
          108.2277623,
          107.43629599196056,
          107.6049539,
          110.4229104,
          110.6673202,
          107.1374006,
          107.307897,
          106.6646663,
          null,
          120.5348775,
          120.3781372,
          120.5158492,
          120.5348775,
          120.3781372,
          121.4425255,
          120.3781372,
          119.4200584,
          106.7017555,
          118.6723605,
          118.6723605,
          null,
          120.5810725,
          null,
          120.5810725,
          103.7642651,
          102.0929301,
          121.3010003,
          114.0543297,
          121.6203873,
          115.6844851,
          null,
          100.5645684,
          100.9872185,
          109.0796699,
          106.6384468,
          120.3120375,
          105.593182,
          113.7457788,
          null,
          106.8226134,
          130.1930487,
          130.7333361,
          80.9928846,
          114.4112498,
          121.4692071,
          111.6928724,
          111.2684212,
          101.277765,
          104.9224426,
          null,
          null,
          106.1518079,
          113.5922116,
          113.0505994,
          113.0505994,
          111.6081495,
          74.3540308,
          74.5411575,
          106.7017555,
          6.1762958,
          102.9346697,
          120.5810725,
          100.3821843,
          72.7686942,
          106.7017555,
          null,
          null,
          121.3010003,
          35.7943856,
          36.0043148,
          74.3141829,
          74.3141829,
          74.3141829,
          119.4077008,
          120.5810725,
          120.5810725,
          null,
          null,
          103.9656924,
          106.8529805,
          106.3658439,
          106.8529805,
          128.8908228,
          109.0796699,
          null,
          102.8137391,
          103.3190922,
          120.6478282,
          -1.5541362,
          106.7972421,
          121.3010003,
          79.9484613,
          null,
          120.3074357,
          119.1075773,
          106.51488582967848,
          106.7017555,
          120.6478282,
          119.3795377,
          120.6478282,
          120.478577,
          106.6990779,
          120.478577,
          106.7017555,
          113.3656141,
          105.8435398,
          109.1165772,
          105.593182,
          45.7573,
          null,
          121.3010003,
          -1.5541362,
          103.6514286,
          119.4200584,
          121.3010003,
          106.7017555,
          138.8878314,
          120.7480757,
          106.8529805,
          106.8226134,
          113.7457788,
          107.3610131,
          100.4980609,
          null,
          100.9676152,
          null,
          23.7603118,
          119.4200584,
          106.6767031,
          null,
          106.7017555,
          106.7017555,
          106.7017555,
          -0.3555361,
          106.0964769,
          null,
          106.7017555,
          106.7017555,
          116.7120999,
          105.9669665,
          107.0765028,
          120.6759733,
          120.184982,
          113.7457788,
          109.5946193,
          113.7457788,
          106.7017555,
          110.8518642,
          120.1576778,
          119.4077658,
          113.3656141,
          null,
          29.0677305,
          29.0677305,
          120.184982,
          128.8785919,
          121.1063135,
          111.6081495,
          129.0752365,
          129.0752365,
          129.0752365,
          106.6010334,
          128.9751,
          null,
          129.0752365,
          null,
          120.5423,
          116.6775918,
          106.8226134,
          117.3178278,
          120.5514595,
          120.5514595,
          110.4741428,
          120.2052342,
          null,
          120.8640628,
          119.4200584,
          113.3656141,
          113.3656141,
          113.3656141,
          120.2419855
         ],
         "marker": {
          "color": "#EF553B",
          "size": [
           1958,
           7795,
           616,
           5313,
           372,
           14076,
           903,
           2242,
           6,
           7530,
           0,
           0,
           0,
           1090,
           5903,
           2193,
           1018,
           0,
           899,
           10,
           194,
           8951,
           2159,
           13425,
           4689,
           24732,
           824,
           0,
           815,
           0,
           50,
           94,
           2180,
           54,
           0,
           4843,
           13306,
           543,
           1780,
           307,
           2660,
           1035,
           10541,
           9469,
           14524,
           9625,
           1985,
           96,
           369,
           0,
           920,
           186,
           400,
           147,
           18,
           0,
           150,
           692,
           26,
           2439,
           5852,
           95,
           0,
           6331,
           0,
           1580,
           314,
           5187,
           2658,
           960,
           603,
           0,
           0,
           0,
           2110,
           0,
           1535,
           4345,
           3333,
           0,
           748,
           859,
           2290,
           1824,
           3178,
           6325,
           106,
           0,
           1585,
           370,
           0,
           0,
           0,
           37,
           487,
           22170,
           4008,
           3270,
           1244,
           4974,
           8627,
           200,
           452,
           0,
           0,
           0,
           0,
           1010,
           2026,
           1064,
           698,
           1244,
           396,
           50,
           5192,
           7726,
           5,
           2028,
           1217,
           684,
           1081,
           1106,
           617,
           1006,
           0,
           471,
           3414,
           858,
           1449,
           1067,
           113,
           811,
           0,
           329,
           286,
           101,
           2563,
           341,
           200,
           6578,
           3652,
           166,
           0,
           1435,
           407,
           214,
           299,
           2551,
           22,
           1698,
           145,
           1192,
           955,
           640,
           0,
           145,
           52,
           6361,
           972,
           0,
           0,
           118,
           2132,
           68,
           546,
           444,
           452,
           1300,
           5684,
           7517,
           2914,
           772,
           780,
           5974,
           7600,
           1232,
           4224,
           667,
           1608,
           1219,
           1995,
           777,
           1645,
           608,
           1814,
           2578,
           25,
           1711,
           591,
           0,
           0,
           191,
           749,
           0,
           1501,
           576,
           630,
           1339,
           1274,
           2111,
           1362,
           12,
           101,
           1732,
           1200,
           3509,
           1280,
           608,
           115,
           263,
           2143,
           124,
           0,
           1979,
           4183,
           3265,
           414,
           570,
           1391,
           718,
           74,
           207,
           674,
           1890,
           109,
           813,
           257,
           500,
           2096,
           673,
           2085,
           125,
           1401,
           1063,
           0,
           1713,
           17856,
           2488,
           158,
           2629,
           0,
           0,
           0,
           0,
           0,
           159,
           8336,
           2344,
           6239,
           1178,
           2836,
           633,
           2693,
           7123,
           1474,
           2576,
           12768,
           1038,
           562,
           2321,
           19564,
           2008,
           7918,
           19038,
           672,
           3355,
           1621,
           1561,
           1158,
           15213,
           1729,
           0,
           0,
           2671,
           992,
           12686,
           2307,
           5138,
           7441,
           1922,
           16485,
           463,
           573,
           4685,
           726,
           534,
           4323,
           903,
           2250,
           6105,
           6247,
           50,
           57,
           290,
           735,
           0,
           714,
           0,
           96,
           0,
           1417,
           361,
           53,
           5971,
           0,
           0,
           764,
           0,
           0,
           0,
           0,
           36,
           1189,
           40,
           40,
           1651,
           9751,
           33,
           1037,
           5557,
           2805,
           2345,
           42,
           57,
           0,
           155,
           1132,
           11778,
           3735,
           161,
           2129,
           149,
           2000,
           728,
           344,
           421,
           145,
           155,
           2634,
           506,
           627,
           426,
           1504,
           3557,
           385,
           2844,
           279,
           30,
           51,
           563,
           130,
           2059,
           17369,
           5088,
           10596,
           770,
           105,
           1517,
           886,
           750,
           85,
           12,
           85,
           0,
           597,
           785,
           70,
           67,
           1423,
           1334,
           0,
           0,
           0,
           0,
           0,
           0,
           2034,
           560,
           1536,
           0,
           0,
           3987,
           0,
           0,
           4,
           1944,
           60,
           0,
           902,
           37,
           85,
           351,
           1717,
           198,
           2232,
           894,
           490,
           609,
           2950,
           2291,
           1676,
           1662,
           0,
           2338,
           2249,
           2769,
           22344,
           14494,
           16821,
           171,
           2047,
           9021,
           2079,
           1481,
           930,
           11,
           1639,
           417,
           801,
           9549,
           4341,
           86,
           2953,
           114,
           838,
           2003,
           0,
           30,
           3218,
           46,
           1157,
           0,
           255,
           0,
           0,
           0,
           0,
           0,
           0,
           245,
           2515,
           1920,
           2087,
           241,
           85,
           268,
           46,
           207,
           1228,
           553,
           658,
           893,
           2434,
           116
          ],
          "sizemode": "area",
          "sizeref": 61.83,
          "symbol": "circle"
         },
         "mode": "markers",
         "name": "Asia",
         "showlegend": true,
         "type": "scattergeo"
        },
        {
         "geo": "geo",
         "hovertemplate": "<b>%{hovertext}</b><br><br>Continent=South America<br>Total Workers=%{marker.size}<br>Latitude=%{lat}<br>Longitude=%{lon}<extra></extra>",
         "hovertext": [
          "ARGENTINA",
          "BRAZIL",
          "BRAZIL",
          "BRAZIL",
          "BRAZIL",
          "BRAZIL",
          "BRAZIL",
          "BRAZIL",
          "ARGENTINA",
          "BRAZIL",
          "ARGENTINA",
          "BRAZIL",
          "BRAZIL",
          "ARGENTINA",
          "BRAZIL",
          "BRAZIL",
          "BRAZIL",
          "BRAZIL",
          "BRAZIL",
          "BRAZIL",
          "ARGENTINA",
          "BRAZIL",
          "BRAZIL",
          "ECUADOR",
          "BRAZIL",
          "ARGENTINA",
          "BRAZIL",
          "BRAZIL",
          "BRAZIL",
          "BRAZIL",
          "BRAZIL",
          "ARGENTINA",
          "ARGENTINA",
          "BRAZIL",
          "ARGENTINA",
          "ARGENTINA",
          "ARGENTINA",
          "ARGENTINA",
          "ARGENTINA",
          "BRAZIL",
          "ARGENTINA",
          "ARGENTINA",
          "BRAZIL",
          "ARGENTINA",
          "BRAZIL"
         ],
         "lat": [
          -34.6075682,
          null,
          -29.517549,
          -29.446421,
          -19.0148349,
          -29.614306,
          -29.22647,
          -5.1983553,
          null,
          -29.2562253,
          33.5881366,
          -5.1076699,
          -29.446421,
          -24.522583,
          -14.8567487,
          -29.5934057,
          -12.4340621,
          -14.8567487,
          -26.6976713,
          -29.614306,
          -34.6075682,
          -27.6350709,
          -26.9195567,
          -0.2201641,
          -23.5506507,
          null,
          -29.4686024,
          -26.9195567,
          -23.5506507,
          -29.1684951,
          -29.1684951,
          -34.6075682,
          -34.6075682,
          -29.6905705,
          -34.6648394,
          -34.6075682,
          -34.6075682,
          44.26833,
          44.8186266,
          -26.8901747,
          -34.6075682,
          44.26833,
          -29.4686024,
          44.26833,
          -29.3759836
         ],
         "legendgroup": "South America",
         "lon": [
          -58.4370894,
          null,
          -51.179798,
          -51.136725,
          -40.539464,
          -52.193159,
          -51.3468188,
          -39.2955573,
          null,
          -51.5269167,
          -117.6248,
          -38.3727852,
          -51.136725,
          -48.1093489,
          -40.8414804,
          -51.1599403,
          -39.2556115,
          -40.8414804,
          -52.638293,
          -52.193159,
          -58.4370894,
          -52.2738654,
          -49.0658025,
          -78.5123274,
          -46.6333824,
          null,
          -52.0868635,
          -49.0658025,
          -46.6333824,
          -51.1796197,
          -51.1796197,
          -58.4370894,
          -58.4370894,
          -51.1429035,
          -58.3628061,
          -58.4370894,
          -58.4370894,
          11.3234319,
          8.1091847,
          -49.2416736,
          -58.4370894,
          11.3234319,
          -52.0868635,
          11.3234319,
          -51.1123342
         ],
         "marker": {
          "color": "#00cc96",
          "size": [
           7,
           490,
           34,
           42,
           64,
           83,
           31,
           4440,
           35,
           118,
           152,
           1972,
           873,
           1251,
           1289,
           32,
           3500,
           2589,
           562,
           176,
           93,
           90,
           44,
           754,
           52,
           20,
           89,
           285,
           39,
           568,
           0,
           44,
           800,
           164,
           11,
           398,
           323,
           264,
           145,
           308,
           185,
           75,
           66,
           28,
           95
          ],
          "sizemode": "area",
          "sizeref": 61.83,
          "symbol": "circle"
         },
         "mode": "markers",
         "name": "South America",
         "showlegend": true,
         "type": "scattergeo"
        },
        {
         "geo": "geo",
         "hovertemplate": "<b>%{hovertext}</b><br><br>Continent=Europe<br>Total Workers=%{marker.size}<br>Latitude=%{lat}<br>Longitude=%{lon}<extra></extra>",
         "hovertext": [
          "MOLDOVA",
          "MOLDOVA",
          "MOLDOVA",
          "MOLDOVA",
          "NETHERLANDS",
          "ITALY",
          "ITALY",
          "BULGARIA",
          "ITALY",
          "ITALY",
          "ITALY",
          "CROATIA",
          "ITALY",
          "GERMANY",
          "SPAIN",
          "UNITED KINGDOM",
          "GREECE",
          "ITALY",
          "ITALY",
          "SPAIN",
          "ITALY",
          "POLAND",
          "ITALY",
          "UNITED KINGDOM",
          "ITALY",
          "ITALY",
          "NETHERLANDS",
          "ITALY",
          "ITALY",
          "SPAIN",
          "SPAIN",
          "BOSNIA",
          "ITALY",
          "FRANCE"
         ],
         "lat": [
          46.057226,
          46.1078974,
          46.0060512,
          46.057226,
          52.08701595,
          45.649723,
          45.5789629,
          43.8480413,
          45.2134004,
          45.7759956,
          null,
          45.3168509,
          42.8546185,
          null,
          41.5398348,
          50.3712659,
          37.9839412,
          null,
          null,
          null,
          32.1840381,
          null,
          46.1410937,
          55.4776435,
          45.0775473,
          45.6598951,
          46.3144754,
          45.6472814,
          null,
          null,
          41.3459033,
          44.6204796,
          45.7427,
          48.7645251
         ],
         "legendgroup": "Europe",
         "lon": [
          28.8249983,
          28.6021997,
          28.6628157,
          28.8249983,
          4.876687198673499,
          9.2053999,
          13.7364985,
          25.9542057,
          10.9793623,
          12.0450646,
          null,
          13.5649454,
          13.5755038,
          null,
          2.4448926,
          -4.1425658,
          23.7283052,
          null,
          null,
          null,
          -96.8847194,
          null,
          12.3623258,
          -2.5553768,
          7.5724262,
          8.7932013,
          11.0480288,
          9.3790871,
          null,
          null,
          2.0413673,
          17.3698016,
          11.9726933,
          2.1396015
         ],
         "marker": {
          "color": "#ab63fa",
          "size": [
           335,
           387,
           283,
           354,
           15,
           16,
           360,
           610,
           230,
           51,
           14,
           72,
           13,
           10,
           7,
           78,
           10,
           18,
           15,
           5,
           23,
           269,
           315,
           18,
           95,
           28,
           20,
           103,
           25,
           14,
           14,
           1944,
           18,
           17
          ],
          "sizemode": "area",
          "sizeref": 61.83,
          "symbol": "circle"
         },
         "mode": "markers",
         "name": "Europe",
         "showlegend": true,
         "type": "scattergeo"
        },
        {
         "geo": "geo",
         "hovertemplate": "<b>%{hovertext}</b><br><br>Continent=Africa<br>Total Workers=%{marker.size}<br>Latitude=%{lat}<br>Longitude=%{lon}<extra></extra>",
         "hovertext": [
          "EGYPT",
          "EGYPT",
          "EGYPT",
          "SOUTH AFRICA"
         ],
         "lat": [
          31.199004,
          30.3162878,
          30.0443879,
          -29.861825
         ],
         "legendgroup": "Africa",
         "lon": [
          29.894378,
          31.73694101738903,
          31.2357257,
          31.009909
         ],
         "marker": {
          "color": "#FFA15A",
          "size": [
           964,
           2362,
           1237,
           341
          ],
          "sizemode": "area",
          "sizeref": 61.83,
          "symbol": "circle"
         },
         "mode": "markers",
         "name": "Africa",
         "showlegend": true,
         "type": "scattergeo"
        },
        {
         "geo": "geo",
         "hovertemplate": "<b>%{hovertext}</b><br><br>Continent=Oceania<br>Total Workers=%{marker.size}<br>Latitude=%{lat}<br>Longitude=%{lon}<extra></extra>",
         "hovertext": [
          "AUSTRALIA"
         ],
         "lat": [
          38.2493581
         ],
         "legendgroup": "Oceania",
         "lon": [
          -122.039966
         ],
         "marker": {
          "color": "#19d3f3",
          "size": [
           10
          ],
          "sizemode": "area",
          "sizeref": 61.83,
          "symbol": "circle"
         },
         "mode": "markers",
         "name": "Oceania",
         "showlegend": true,
         "type": "scattergeo"
        }
       ],
       "layout": {
        "geo": {
         "center": {},
         "domain": {
          "x": [
           0,
           1
          ],
          "y": [
           0,
           1
          ]
         },
         "projection": {
          "type": "natural earth"
         }
        },
        "legend": {
         "itemsizing": "constant",
         "title": {
          "text": "Continent"
         },
         "tracegroupgap": 0
        },
        "template": {
         "data": {
          "bar": [
           {
            "error_x": {
             "color": "#2a3f5f"
            },
            "error_y": {
             "color": "#2a3f5f"
            },
            "marker": {
             "line": {
              "color": "#E5ECF6",
              "width": 0.5
             },
             "pattern": {
              "fillmode": "overlay",
              "size": 10,
              "solidity": 0.2
             }
            },
            "type": "bar"
           }
          ],
          "barpolar": [
           {
            "marker": {
             "line": {
              "color": "#E5ECF6",
              "width": 0.5
             },
             "pattern": {
              "fillmode": "overlay",
              "size": 10,
              "solidity": 0.2
             }
            },
            "type": "barpolar"
           }
          ],
          "carpet": [
           {
            "aaxis": {
             "endlinecolor": "#2a3f5f",
             "gridcolor": "white",
             "linecolor": "white",
             "minorgridcolor": "white",
             "startlinecolor": "#2a3f5f"
            },
            "baxis": {
             "endlinecolor": "#2a3f5f",
             "gridcolor": "white",
             "linecolor": "white",
             "minorgridcolor": "white",
             "startlinecolor": "#2a3f5f"
            },
            "type": "carpet"
           }
          ],
          "choropleth": [
           {
            "colorbar": {
             "outlinewidth": 0,
             "ticks": ""
            },
            "type": "choropleth"
           }
          ],
          "contour": [
           {
            "colorbar": {
             "outlinewidth": 0,
             "ticks": ""
            },
            "colorscale": [
             [
              0,
              "#0d0887"
             ],
             [
              0.1111111111111111,
              "#46039f"
             ],
             [
              0.2222222222222222,
              "#7201a8"
             ],
             [
              0.3333333333333333,
              "#9c179e"
             ],
             [
              0.4444444444444444,
              "#bd3786"
             ],
             [
              0.5555555555555556,
              "#d8576b"
             ],
             [
              0.6666666666666666,
              "#ed7953"
             ],
             [
              0.7777777777777778,
              "#fb9f3a"
             ],
             [
              0.8888888888888888,
              "#fdca26"
             ],
             [
              1,
              "#f0f921"
             ]
            ],
            "type": "contour"
           }
          ],
          "contourcarpet": [
           {
            "colorbar": {
             "outlinewidth": 0,
             "ticks": ""
            },
            "type": "contourcarpet"
           }
          ],
          "heatmap": [
           {
            "colorbar": {
             "outlinewidth": 0,
             "ticks": ""
            },
            "colorscale": [
             [
              0,
              "#0d0887"
             ],
             [
              0.1111111111111111,
              "#46039f"
             ],
             [
              0.2222222222222222,
              "#7201a8"
             ],
             [
              0.3333333333333333,
              "#9c179e"
             ],
             [
              0.4444444444444444,
              "#bd3786"
             ],
             [
              0.5555555555555556,
              "#d8576b"
             ],
             [
              0.6666666666666666,
              "#ed7953"
             ],
             [
              0.7777777777777778,
              "#fb9f3a"
             ],
             [
              0.8888888888888888,
              "#fdca26"
             ],
             [
              1,
              "#f0f921"
             ]
            ],
            "type": "heatmap"
           }
          ],
          "heatmapgl": [
           {
            "colorbar": {
             "outlinewidth": 0,
             "ticks": ""
            },
            "colorscale": [
             [
              0,
              "#0d0887"
             ],
             [
              0.1111111111111111,
              "#46039f"
             ],
             [
              0.2222222222222222,
              "#7201a8"
             ],
             [
              0.3333333333333333,
              "#9c179e"
             ],
             [
              0.4444444444444444,
              "#bd3786"
             ],
             [
              0.5555555555555556,
              "#d8576b"
             ],
             [
              0.6666666666666666,
              "#ed7953"
             ],
             [
              0.7777777777777778,
              "#fb9f3a"
             ],
             [
              0.8888888888888888,
              "#fdca26"
             ],
             [
              1,
              "#f0f921"
             ]
            ],
            "type": "heatmapgl"
           }
          ],
          "histogram": [
           {
            "marker": {
             "pattern": {
              "fillmode": "overlay",
              "size": 10,
              "solidity": 0.2
             }
            },
            "type": "histogram"
           }
          ],
          "histogram2d": [
           {
            "colorbar": {
             "outlinewidth": 0,
             "ticks": ""
            },
            "colorscale": [
             [
              0,
              "#0d0887"
             ],
             [
              0.1111111111111111,
              "#46039f"
             ],
             [
              0.2222222222222222,
              "#7201a8"
             ],
             [
              0.3333333333333333,
              "#9c179e"
             ],
             [
              0.4444444444444444,
              "#bd3786"
             ],
             [
              0.5555555555555556,
              "#d8576b"
             ],
             [
              0.6666666666666666,
              "#ed7953"
             ],
             [
              0.7777777777777778,
              "#fb9f3a"
             ],
             [
              0.8888888888888888,
              "#fdca26"
             ],
             [
              1,
              "#f0f921"
             ]
            ],
            "type": "histogram2d"
           }
          ],
          "histogram2dcontour": [
           {
            "colorbar": {
             "outlinewidth": 0,
             "ticks": ""
            },
            "colorscale": [
             [
              0,
              "#0d0887"
             ],
             [
              0.1111111111111111,
              "#46039f"
             ],
             [
              0.2222222222222222,
              "#7201a8"
             ],
             [
              0.3333333333333333,
              "#9c179e"
             ],
             [
              0.4444444444444444,
              "#bd3786"
             ],
             [
              0.5555555555555556,
              "#d8576b"
             ],
             [
              0.6666666666666666,
              "#ed7953"
             ],
             [
              0.7777777777777778,
              "#fb9f3a"
             ],
             [
              0.8888888888888888,
              "#fdca26"
             ],
             [
              1,
              "#f0f921"
             ]
            ],
            "type": "histogram2dcontour"
           }
          ],
          "mesh3d": [
           {
            "colorbar": {
             "outlinewidth": 0,
             "ticks": ""
            },
            "type": "mesh3d"
           }
          ],
          "parcoords": [
           {
            "line": {
             "colorbar": {
              "outlinewidth": 0,
              "ticks": ""
             }
            },
            "type": "parcoords"
           }
          ],
          "pie": [
           {
            "automargin": true,
            "type": "pie"
           }
          ],
          "scatter": [
           {
            "fillpattern": {
             "fillmode": "overlay",
             "size": 10,
             "solidity": 0.2
            },
            "type": "scatter"
           }
          ],
          "scatter3d": [
           {
            "line": {
             "colorbar": {
              "outlinewidth": 0,
              "ticks": ""
             }
            },
            "marker": {
             "colorbar": {
              "outlinewidth": 0,
              "ticks": ""
             }
            },
            "type": "scatter3d"
           }
          ],
          "scattercarpet": [
           {
            "marker": {
             "colorbar": {
              "outlinewidth": 0,
              "ticks": ""
             }
            },
            "type": "scattercarpet"
           }
          ],
          "scattergeo": [
           {
            "marker": {
             "colorbar": {
              "outlinewidth": 0,
              "ticks": ""
             }
            },
            "type": "scattergeo"
           }
          ],
          "scattergl": [
           {
            "marker": {
             "colorbar": {
              "outlinewidth": 0,
              "ticks": ""
             }
            },
            "type": "scattergl"
           }
          ],
          "scattermapbox": [
           {
            "marker": {
             "colorbar": {
              "outlinewidth": 0,
              "ticks": ""
             }
            },
            "type": "scattermapbox"
           }
          ],
          "scatterpolar": [
           {
            "marker": {
             "colorbar": {
              "outlinewidth": 0,
              "ticks": ""
             }
            },
            "type": "scatterpolar"
           }
          ],
          "scatterpolargl": [
           {
            "marker": {
             "colorbar": {
              "outlinewidth": 0,
              "ticks": ""
             }
            },
            "type": "scatterpolargl"
           }
          ],
          "scatterternary": [
           {
            "marker": {
             "colorbar": {
              "outlinewidth": 0,
              "ticks": ""
             }
            },
            "type": "scatterternary"
           }
          ],
          "surface": [
           {
            "colorbar": {
             "outlinewidth": 0,
             "ticks": ""
            },
            "colorscale": [
             [
              0,
              "#0d0887"
             ],
             [
              0.1111111111111111,
              "#46039f"
             ],
             [
              0.2222222222222222,
              "#7201a8"
             ],
             [
              0.3333333333333333,
              "#9c179e"
             ],
             [
              0.4444444444444444,
              "#bd3786"
             ],
             [
              0.5555555555555556,
              "#d8576b"
             ],
             [
              0.6666666666666666,
              "#ed7953"
             ],
             [
              0.7777777777777778,
              "#fb9f3a"
             ],
             [
              0.8888888888888888,
              "#fdca26"
             ],
             [
              1,
              "#f0f921"
             ]
            ],
            "type": "surface"
           }
          ],
          "table": [
           {
            "cells": {
             "fill": {
              "color": "#EBF0F8"
             },
             "line": {
              "color": "white"
             }
            },
            "header": {
             "fill": {
              "color": "#C8D4E3"
             },
             "line": {
              "color": "white"
             }
            },
            "type": "table"
           }
          ]
         },
         "layout": {
          "annotationdefaults": {
           "arrowcolor": "#2a3f5f",
           "arrowhead": 0,
           "arrowwidth": 1
          },
          "autotypenumbers": "strict",
          "coloraxis": {
           "colorbar": {
            "outlinewidth": 0,
            "ticks": ""
           }
          },
          "colorscale": {
           "diverging": [
            [
             0,
             "#8e0152"
            ],
            [
             0.1,
             "#c51b7d"
            ],
            [
             0.2,
             "#de77ae"
            ],
            [
             0.3,
             "#f1b6da"
            ],
            [
             0.4,
             "#fde0ef"
            ],
            [
             0.5,
             "#f7f7f7"
            ],
            [
             0.6,
             "#e6f5d0"
            ],
            [
             0.7,
             "#b8e186"
            ],
            [
             0.8,
             "#7fbc41"
            ],
            [
             0.9,
             "#4d9221"
            ],
            [
             1,
             "#276419"
            ]
           ],
           "sequential": [
            [
             0,
             "#0d0887"
            ],
            [
             0.1111111111111111,
             "#46039f"
            ],
            [
             0.2222222222222222,
             "#7201a8"
            ],
            [
             0.3333333333333333,
             "#9c179e"
            ],
            [
             0.4444444444444444,
             "#bd3786"
            ],
            [
             0.5555555555555556,
             "#d8576b"
            ],
            [
             0.6666666666666666,
             "#ed7953"
            ],
            [
             0.7777777777777778,
             "#fb9f3a"
            ],
            [
             0.8888888888888888,
             "#fdca26"
            ],
            [
             1,
             "#f0f921"
            ]
           ],
           "sequentialminus": [
            [
             0,
             "#0d0887"
            ],
            [
             0.1111111111111111,
             "#46039f"
            ],
            [
             0.2222222222222222,
             "#7201a8"
            ],
            [
             0.3333333333333333,
             "#9c179e"
            ],
            [
             0.4444444444444444,
             "#bd3786"
            ],
            [
             0.5555555555555556,
             "#d8576b"
            ],
            [
             0.6666666666666666,
             "#ed7953"
            ],
            [
             0.7777777777777778,
             "#fb9f3a"
            ],
            [
             0.8888888888888888,
             "#fdca26"
            ],
            [
             1,
             "#f0f921"
            ]
           ]
          },
          "colorway": [
           "#636efa",
           "#EF553B",
           "#00cc96",
           "#ab63fa",
           "#FFA15A",
           "#19d3f3",
           "#FF6692",
           "#B6E880",
           "#FF97FF",
           "#FECB52"
          ],
          "font": {
           "color": "#2a3f5f"
          },
          "geo": {
           "bgcolor": "white",
           "lakecolor": "white",
           "landcolor": "#E5ECF6",
           "showlakes": true,
           "showland": true,
           "subunitcolor": "white"
          },
          "hoverlabel": {
           "align": "left"
          },
          "hovermode": "closest",
          "mapbox": {
           "style": "light"
          },
          "paper_bgcolor": "white",
          "plot_bgcolor": "#E5ECF6",
          "polar": {
           "angularaxis": {
            "gridcolor": "white",
            "linecolor": "white",
            "ticks": ""
           },
           "bgcolor": "#E5ECF6",
           "radialaxis": {
            "gridcolor": "white",
            "linecolor": "white",
            "ticks": ""
           }
          },
          "scene": {
           "xaxis": {
            "backgroundcolor": "#E5ECF6",
            "gridcolor": "white",
            "gridwidth": 2,
            "linecolor": "white",
            "showbackground": true,
            "ticks": "",
            "zerolinecolor": "white"
           },
           "yaxis": {
            "backgroundcolor": "#E5ECF6",
            "gridcolor": "white",
            "gridwidth": 2,
            "linecolor": "white",
            "showbackground": true,
            "ticks": "",
            "zerolinecolor": "white"
           },
           "zaxis": {
            "backgroundcolor": "#E5ECF6",
            "gridcolor": "white",
            "gridwidth": 2,
            "linecolor": "white",
            "showbackground": true,
            "ticks": "",
            "zerolinecolor": "white"
           }
          },
          "shapedefaults": {
           "line": {
            "color": "#2a3f5f"
           }
          },
          "ternary": {
           "aaxis": {
            "gridcolor": "white",
            "linecolor": "white",
            "ticks": ""
           },
           "baxis": {
            "gridcolor": "white",
            "linecolor": "white",
            "ticks": ""
           },
           "bgcolor": "#E5ECF6",
           "caxis": {
            "gridcolor": "white",
            "linecolor": "white",
            "ticks": ""
           }
          },
          "title": {
           "x": 0.05
          },
          "xaxis": {
           "automargin": true,
           "gridcolor": "white",
           "linecolor": "white",
           "ticks": "",
           "title": {
            "standoff": 15
           },
           "zerolinecolor": "white",
           "zerolinewidth": 2
          },
          "yaxis": {
           "automargin": true,
           "gridcolor": "white",
           "linecolor": "white",
           "ticks": "",
           "title": {
            "standoff": 15
           },
           "zerolinecolor": "white",
           "zerolinewidth": 2
          }
         }
        },
        "title": {
         "text": "Each Nike Factory Pointed Out by Size of Total Workers"
        }
       }
      }
     },
     "metadata": {},
     "output_type": "display_data"
    }
   ],
   "source": [
    "# scatter geo\n",
    "fig = px.scatter_geo(df, lat='Latitude', lon=\"Longitude\", color=\"Continent\",\n",
    "                     hover_name=\"Country\", size=\"Total Workers\",\n",
    "                     projection=\"natural earth\",\n",
    "                     title='Each Nike Factory Pointed Out by Size of Total Workers')\n",
    "fig.show()"
   ]
  }
 ],
 "metadata": {
  "kernelspec": {
   "display_name": "Python 3.8.13 ('dataviz')",
   "language": "python",
   "name": "python3"
  },
  "language_info": {
   "codemirror_mode": {
    "name": "ipython",
    "version": 3
   },
   "file_extension": ".py",
   "mimetype": "text/x-python",
   "name": "python",
   "nbconvert_exporter": "python",
   "pygments_lexer": "ipython3",
   "version": "3.8.13"
  },
  "orig_nbformat": 4,
  "vscode": {
   "interpreter": {
    "hash": "f8a2408c42c83a9859e8627fd08f73cec50a544ca97b4982eb2243c0b86652fb"
   }
  }
 },
 "nbformat": 4,
 "nbformat_minor": 2
}
