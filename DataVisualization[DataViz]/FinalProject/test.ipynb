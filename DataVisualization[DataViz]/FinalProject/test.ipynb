{
 "cells": [
  {
   "cell_type": "code",
   "execution_count": 189,
   "metadata": {},
   "outputs": [],
   "source": [
    "import streamlit as st\n",
    "import pandas as pd\n",
    "import numpy as np\n",
    "import plotly.express as px\n",
    "import requests as req\n",
    "import plotly.graph_objects as go\n",
    "\n",
    "# show all columns when printed\n",
    "pd.set_option('display.max_columns', None)"
   ]
  },
  {
   "cell_type": "code",
   "execution_count": 190,
   "metadata": {},
   "outputs": [],
   "source": [
    "df = pd.read_excel('./NikeFactoryLocations.xlsx')"
   ]
  },
  {
   "cell_type": "code",
   "execution_count": 191,
   "metadata": {},
   "outputs": [],
   "source": [
    "# drop the unnecessary column\n",
    "df = df.drop(['Operating Region'], axis=1)"
   ]
  },
  {
   "cell_type": "code",
   "execution_count": 197,
   "metadata": {},
   "outputs": [],
   "source": [
    "def float_to_int(df, cols):\n",
    "    df[cols] = df[cols].fillna(0.0).astype(int)"
   ]
  },
  {
   "cell_type": "code",
   "execution_count": 198,
   "metadata": {},
   "outputs": [],
   "source": [
    "# change float columns to int (to original type)\n",
    "cols = ['Total Workers', 'Line Workers']\n",
    "# df[cols] = df[cols].fillna(0.0).astype(int)\n",
    "# df.info()\n",
    "float_to_int(df, cols)"
   ]
  },
  {
   "cell_type": "code",
   "execution_count": 201,
   "metadata": {},
   "outputs": [],
   "source": [
    "# create Female Worker and Migrant Worker count columns\n",
    "df['Female Worker Count'] = df['Total Workers'] * df['% Female Workers']\n",
    "df['Migrant Worker Count'] = df['Total Workers'] * df['% Migrant Workers']\n",
    "cols = ['Female Worker Count', 'Migrant Worker Count']\n",
    "float_to_int(df, cols)"
   ]
  },
  {
   "cell_type": "code",
   "execution_count": 202,
   "metadata": {},
   "outputs": [
    {
     "data": {
      "text/html": [
       "<div>\n",
       "<style scoped>\n",
       "    .dataframe tbody tr th:only-of-type {\n",
       "        vertical-align: middle;\n",
       "    }\n",
       "\n",
       "    .dataframe tbody tr th {\n",
       "        vertical-align: top;\n",
       "    }\n",
       "\n",
       "    .dataframe thead th {\n",
       "        text-align: right;\n",
       "    }\n",
       "</style>\n",
       "<table border=\"1\" class=\"dataframe\">\n",
       "  <thead>\n",
       "    <tr style=\"text-align: right;\">\n",
       "      <th></th>\n",
       "      <th>Factory Name</th>\n",
       "      <th>Factory Type</th>\n",
       "      <th>Product Type</th>\n",
       "      <th>Nike, Inc. Brand(s)</th>\n",
       "      <th>Events</th>\n",
       "      <th>Supplier Group</th>\n",
       "      <th>Address</th>\n",
       "      <th>City</th>\n",
       "      <th>State</th>\n",
       "      <th>Postal Code</th>\n",
       "      <th>Country</th>\n",
       "      <th>Total Workers</th>\n",
       "      <th>Line Workers</th>\n",
       "      <th>% Female Workers</th>\n",
       "      <th>% Migrant Workers</th>\n",
       "      <th>Contact Name</th>\n",
       "      <th>Contact Phone</th>\n",
       "      <th>Contact Fax</th>\n",
       "      <th>Contact Email</th>\n",
       "      <th>Subcons</th>\n",
       "      <th>Female Worker Count</th>\n",
       "      <th>Migrant Worker Count</th>\n",
       "    </tr>\n",
       "  </thead>\n",
       "  <tbody>\n",
       "    <tr>\n",
       "      <th>0</th>\n",
       "      <td>A &amp; K DESIGNS, INC.</td>\n",
       "      <td>FINISHED GOODS</td>\n",
       "      <td>APPAREL</td>\n",
       "      <td>NIKE</td>\n",
       "      <td>Collegiate</td>\n",
       "      <td>A &amp; K DESIGNS</td>\n",
       "      <td>8325 SE HARNEY ST.</td>\n",
       "      <td>PORTLAND</td>\n",
       "      <td>OREGON</td>\n",
       "      <td>97266</td>\n",
       "      <td>USA</td>\n",
       "      <td>94</td>\n",
       "      <td>82</td>\n",
       "      <td>0.69</td>\n",
       "      <td>0.000</td>\n",
       "      <td>Paul Lee</td>\n",
       "      <td>503-238-6514</td>\n",
       "      <td>877-968-2889</td>\n",
       "      <td>paul.lee@akdesignsinc.com</td>\n",
       "      <td>NaN</td>\n",
       "      <td>64</td>\n",
       "      <td>0</td>\n",
       "    </tr>\n",
       "    <tr>\n",
       "      <th>1</th>\n",
       "      <td>A. FIRST VINA CO. LTD.</td>\n",
       "      <td>FINISHED GOODS</td>\n",
       "      <td>APPAREL</td>\n",
       "      <td>NIKE</td>\n",
       "      <td>NaN</td>\n",
       "      <td>A. FIRST VINA CO. LTD.</td>\n",
       "      <td>TAM PHUOC INDUSTRIAL ZONE</td>\n",
       "      <td>BIEN HOA</td>\n",
       "      <td>DONG NAI</td>\n",
       "      <td>NaN</td>\n",
       "      <td>VIETNAM</td>\n",
       "      <td>1958</td>\n",
       "      <td>1844</td>\n",
       "      <td>0.88</td>\n",
       "      <td>0.062</td>\n",
       "      <td>NaN</td>\n",
       "      <td>NaN</td>\n",
       "      <td>NaN</td>\n",
       "      <td>NaN</td>\n",
       "      <td>NaN</td>\n",
       "      <td>1723</td>\n",
       "      <td>121</td>\n",
       "    </tr>\n",
       "    <tr>\n",
       "      <th>2</th>\n",
       "      <td>ACABADOS Y SERIGRAFIA, SA (ACSA)</td>\n",
       "      <td>FINISHED GOODS</td>\n",
       "      <td>APPAREL</td>\n",
       "      <td>NIKE</td>\n",
       "      <td>NaN</td>\n",
       "      <td>NO SUPPLIER GROUP</td>\n",
       "      <td>KM.16.5 A SAN JUAN SACATEPEQUEZ</td>\n",
       "      <td>MIXCO</td>\n",
       "      <td>GUATEMALA</td>\n",
       "      <td>NaN</td>\n",
       "      <td>GUATEMALA</td>\n",
       "      <td>191</td>\n",
       "      <td>181</td>\n",
       "      <td>0.32</td>\n",
       "      <td>0.000</td>\n",
       "      <td>NaN</td>\n",
       "      <td>NaN</td>\n",
       "      <td>NaN</td>\n",
       "      <td>NaN</td>\n",
       "      <td>NaN</td>\n",
       "      <td>61</td>\n",
       "      <td>0</td>\n",
       "    </tr>\n",
       "    <tr>\n",
       "      <th>3</th>\n",
       "      <td>ADORA FOOTWEAR LIMITED</td>\n",
       "      <td>FINISHED GOODS</td>\n",
       "      <td>FOOTWEAR</td>\n",
       "      <td>CONVERSE</td>\n",
       "      <td>NaN</td>\n",
       "      <td>HONG FU</td>\n",
       "      <td>TAM DIEP INDUSTRIAL ZONE</td>\n",
       "      <td>TAM DIEP TOWN</td>\n",
       "      <td>NINH BINH PROVINCE.</td>\n",
       "      <td>NaN</td>\n",
       "      <td>VIETNAM</td>\n",
       "      <td>7795</td>\n",
       "      <td>6899</td>\n",
       "      <td>0.91</td>\n",
       "      <td>0.005</td>\n",
       "      <td>NaN</td>\n",
       "      <td>NaN</td>\n",
       "      <td>NaN</td>\n",
       "      <td>NaN</td>\n",
       "      <td>NaN</td>\n",
       "      <td>7093</td>\n",
       "      <td>38</td>\n",
       "    </tr>\n",
       "    <tr>\n",
       "      <th>4</th>\n",
       "      <td>AJARA TEXTILE</td>\n",
       "      <td>FINISHED GOODS</td>\n",
       "      <td>APPAREL</td>\n",
       "      <td>NIKE</td>\n",
       "      <td>NaN</td>\n",
       "      <td>MILTEKS</td>\n",
       "      <td>31 MOTSERELIA STR.</td>\n",
       "      <td>POTI</td>\n",
       "      <td>SAMEGRELO-ZEMO SVANETI</td>\n",
       "      <td>4400</td>\n",
       "      <td>GEORGIA</td>\n",
       "      <td>616</td>\n",
       "      <td>582</td>\n",
       "      <td>0.96</td>\n",
       "      <td>0.000</td>\n",
       "      <td>NaN</td>\n",
       "      <td>NaN</td>\n",
       "      <td>NaN</td>\n",
       "      <td>NaN</td>\n",
       "      <td>NaN</td>\n",
       "      <td>591</td>\n",
       "      <td>0</td>\n",
       "    </tr>\n",
       "    <tr>\n",
       "      <th>5</th>\n",
       "      <td>ALL WELLS INTERNATIONAL</td>\n",
       "      <td>FINISHED GOODS</td>\n",
       "      <td>EQUIPMENT</td>\n",
       "      <td>NIKE</td>\n",
       "      <td>NaN</td>\n",
       "      <td>ALL WELLS INTERNATIONAL</td>\n",
       "      <td>TOC TIEN COMMUNE TAN THANH DISTRICT</td>\n",
       "      <td>BA RIA</td>\n",
       "      <td>VUNG TAU PROVINCE</td>\n",
       "      <td>NaN</td>\n",
       "      <td>VIETNAM</td>\n",
       "      <td>5313</td>\n",
       "      <td>3678</td>\n",
       "      <td>0.80</td>\n",
       "      <td>0.318</td>\n",
       "      <td>NaN</td>\n",
       "      <td>NaN</td>\n",
       "      <td>NaN</td>\n",
       "      <td>NaN</td>\n",
       "      <td>NaN</td>\n",
       "      <td>4250</td>\n",
       "      <td>1689</td>\n",
       "    </tr>\n",
       "    <tr>\n",
       "      <th>6</th>\n",
       "      <td>ANDBRAVA SRL</td>\n",
       "      <td>FINISHED GOODS</td>\n",
       "      <td>EQUIPMENT</td>\n",
       "      <td>CONVERSE</td>\n",
       "      <td>NaN</td>\n",
       "      <td>NO SUPPLIER GROUP</td>\n",
       "      <td>SARGENTO CABRAL  - PASAJE 62, Nº 1071</td>\n",
       "      <td>BUENOS AIRES</td>\n",
       "      <td>BUENOS AIRES</td>\n",
       "      <td>Pasaje 62, Nº 1071</td>\n",
       "      <td>ARGENTINA</td>\n",
       "      <td>7</td>\n",
       "      <td>5</td>\n",
       "      <td>0.14</td>\n",
       "      <td>0.000</td>\n",
       "      <td>NaN</td>\n",
       "      <td>NaN</td>\n",
       "      <td>NaN</td>\n",
       "      <td>NaN</td>\n",
       "      <td>NaN</td>\n",
       "      <td>0</td>\n",
       "      <td>0</td>\n",
       "    </tr>\n",
       "    <tr>\n",
       "      <th>7</th>\n",
       "      <td>ANHUI COSMO SPORTING GOODS COMPANY LIMITED</td>\n",
       "      <td>FINISHED GOODS</td>\n",
       "      <td>EQUIPMENT</td>\n",
       "      <td>NIKE</td>\n",
       "      <td>NaN</td>\n",
       "      <td>ANHUI COSMO</td>\n",
       "      <td>ECONOMIC DEVELOPMENT ZONE, JINZHAI COUNTY</td>\n",
       "      <td>LU'AN CITY</td>\n",
       "      <td>ANHUI</td>\n",
       "      <td>NaN</td>\n",
       "      <td>CHINA</td>\n",
       "      <td>372</td>\n",
       "      <td>308</td>\n",
       "      <td>0.89</td>\n",
       "      <td>0.000</td>\n",
       "      <td>NaN</td>\n",
       "      <td>NaN</td>\n",
       "      <td>NaN</td>\n",
       "      <td>NaN</td>\n",
       "      <td>NaN</td>\n",
       "      <td>331</td>\n",
       "      <td>0</td>\n",
       "    </tr>\n",
       "    <tr>\n",
       "      <th>8</th>\n",
       "      <td>ANIGER CALÇADOS SUPRIMENTOS E EMPREENDIMENTOS ...</td>\n",
       "      <td>FINISHED GOODS</td>\n",
       "      <td>FOOTWEAR</td>\n",
       "      <td>NIKE</td>\n",
       "      <td>NaN</td>\n",
       "      <td>ANIGER</td>\n",
       "      <td>RUA ARMINDO ELTZ, 51  - QUATRO COLÔNIAS</td>\n",
       "      <td>CAMPO BOM – RS</td>\n",
       "      <td>RS</td>\n",
       "      <td>93700-000</td>\n",
       "      <td>BRAZIL</td>\n",
       "      <td>490</td>\n",
       "      <td>218</td>\n",
       "      <td>0.49</td>\n",
       "      <td>0.000</td>\n",
       "      <td>NaN</td>\n",
       "      <td>NaN</td>\n",
       "      <td>NaN</td>\n",
       "      <td>NaN</td>\n",
       "      <td>A &amp; K Designs, Inc., Acabados y Serigrafia, SA...</td>\n",
       "      <td>240</td>\n",
       "      <td>0</td>\n",
       "    </tr>\n",
       "    <tr>\n",
       "      <th>9</th>\n",
       "      <td>ANNIC LLC</td>\n",
       "      <td>FINISHED GOODS</td>\n",
       "      <td>APPAREL</td>\n",
       "      <td>NIKE</td>\n",
       "      <td>Collegiate</td>\n",
       "      <td>GILDAN</td>\n",
       "      <td>KM45 1/2, CARRETERA MASATEPE-SAN MARCOS,</td>\n",
       "      <td>MASATEPE</td>\n",
       "      <td>NaN</td>\n",
       "      <td>NaN</td>\n",
       "      <td>NICARAGUA</td>\n",
       "      <td>3963</td>\n",
       "      <td>3398</td>\n",
       "      <td>0.50</td>\n",
       "      <td>0.002</td>\n",
       "      <td>Lesbia Elisa Chavarria</td>\n",
       "      <td>505-2532-6000</td>\n",
       "      <td>NaN</td>\n",
       "      <td>lchavarria@gildan.com</td>\n",
       "      <td>NaN</td>\n",
       "      <td>1981</td>\n",
       "      <td>7</td>\n",
       "    </tr>\n",
       "  </tbody>\n",
       "</table>\n",
       "</div>"
      ],
      "text/plain": [
       "                                        Factory Name    Factory Type  \\\n",
       "0                                A & K DESIGNS, INC.  FINISHED GOODS   \n",
       "1                             A. FIRST VINA CO. LTD.  FINISHED GOODS   \n",
       "2                   ACABADOS Y SERIGRAFIA, SA (ACSA)  FINISHED GOODS   \n",
       "3                             ADORA FOOTWEAR LIMITED  FINISHED GOODS   \n",
       "4                                      AJARA TEXTILE  FINISHED GOODS   \n",
       "5                            ALL WELLS INTERNATIONAL  FINISHED GOODS   \n",
       "6                                       ANDBRAVA SRL  FINISHED GOODS   \n",
       "7         ANHUI COSMO SPORTING GOODS COMPANY LIMITED  FINISHED GOODS   \n",
       "8  ANIGER CALÇADOS SUPRIMENTOS E EMPREENDIMENTOS ...  FINISHED GOODS   \n",
       "9                                          ANNIC LLC  FINISHED GOODS   \n",
       "\n",
       "  Product Type Nike, Inc. Brand(s)      Events           Supplier Group  \\\n",
       "0      APPAREL                NIKE  Collegiate            A & K DESIGNS   \n",
       "1      APPAREL                NIKE         NaN   A. FIRST VINA CO. LTD.   \n",
       "2      APPAREL                NIKE         NaN        NO SUPPLIER GROUP   \n",
       "3     FOOTWEAR            CONVERSE         NaN                  HONG FU   \n",
       "4      APPAREL                NIKE         NaN                  MILTEKS   \n",
       "5    EQUIPMENT                NIKE         NaN  ALL WELLS INTERNATIONAL   \n",
       "6    EQUIPMENT            CONVERSE         NaN        NO SUPPLIER GROUP   \n",
       "7    EQUIPMENT                NIKE         NaN              ANHUI COSMO   \n",
       "8     FOOTWEAR                NIKE         NaN                   ANIGER   \n",
       "9      APPAREL                NIKE  Collegiate                   GILDAN   \n",
       "\n",
       "                                     Address            City  \\\n",
       "0                         8325 SE HARNEY ST.        PORTLAND   \n",
       "1                  TAM PHUOC INDUSTRIAL ZONE        BIEN HOA   \n",
       "2            KM.16.5 A SAN JUAN SACATEPEQUEZ           MIXCO   \n",
       "3                   TAM DIEP INDUSTRIAL ZONE   TAM DIEP TOWN   \n",
       "4                         31 MOTSERELIA STR.            POTI   \n",
       "5        TOC TIEN COMMUNE TAN THANH DISTRICT          BA RIA   \n",
       "6      SARGENTO CABRAL  - PASAJE 62, Nº 1071   BUENOS AIRES    \n",
       "7  ECONOMIC DEVELOPMENT ZONE, JINZHAI COUNTY      LU'AN CITY   \n",
       "8    RUA ARMINDO ELTZ, 51  - QUATRO COLÔNIAS  CAMPO BOM – RS   \n",
       "9   KM45 1/2, CARRETERA MASATEPE-SAN MARCOS,        MASATEPE   \n",
       "\n",
       "                    State         Postal Code    Country  Total Workers  \\\n",
       "0                  OREGON               97266        USA             94   \n",
       "1                DONG NAI                 NaN    VIETNAM           1958   \n",
       "2               GUATEMALA                 NaN  GUATEMALA            191   \n",
       "3     NINH BINH PROVINCE.                 NaN    VIETNAM           7795   \n",
       "4  SAMEGRELO-ZEMO SVANETI                4400    GEORGIA            616   \n",
       "5       VUNG TAU PROVINCE                 NaN    VIETNAM           5313   \n",
       "6           BUENOS AIRES   Pasaje 62, Nº 1071  ARGENTINA              7   \n",
       "7                   ANHUI                 NaN      CHINA            372   \n",
       "8                      RS           93700-000     BRAZIL            490   \n",
       "9                     NaN                 NaN  NICARAGUA           3963   \n",
       "\n",
       "   Line Workers  % Female Workers  % Migrant Workers            Contact Name  \\\n",
       "0            82              0.69              0.000                Paul Lee   \n",
       "1          1844              0.88              0.062                     NaN   \n",
       "2           181              0.32              0.000                     NaN   \n",
       "3          6899              0.91              0.005                     NaN   \n",
       "4           582              0.96              0.000                     NaN   \n",
       "5          3678              0.80              0.318                     NaN   \n",
       "6             5              0.14              0.000                     NaN   \n",
       "7           308              0.89              0.000                     NaN   \n",
       "8           218              0.49              0.000                     NaN   \n",
       "9          3398              0.50              0.002  Lesbia Elisa Chavarria   \n",
       "\n",
       "   Contact Phone   Contact Fax              Contact Email  \\\n",
       "0   503-238-6514  877-968-2889  paul.lee@akdesignsinc.com   \n",
       "1            NaN           NaN                        NaN   \n",
       "2            NaN           NaN                        NaN   \n",
       "3            NaN           NaN                        NaN   \n",
       "4            NaN           NaN                        NaN   \n",
       "5            NaN           NaN                        NaN   \n",
       "6            NaN           NaN                        NaN   \n",
       "7            NaN           NaN                        NaN   \n",
       "8            NaN           NaN                        NaN   \n",
       "9  505-2532-6000           NaN      lchavarria@gildan.com   \n",
       "\n",
       "                                             Subcons  Female Worker Count  \\\n",
       "0                                                NaN                   64   \n",
       "1                                                NaN                 1723   \n",
       "2                                                NaN                   61   \n",
       "3                                                NaN                 7093   \n",
       "4                                                NaN                  591   \n",
       "5                                                NaN                 4250   \n",
       "6                                                NaN                    0   \n",
       "7                                                NaN                  331   \n",
       "8  A & K Designs, Inc., Acabados y Serigrafia, SA...                  240   \n",
       "9                                                NaN                 1981   \n",
       "\n",
       "   Migrant Worker Count  \n",
       "0                     0  \n",
       "1                   121  \n",
       "2                     0  \n",
       "3                    38  \n",
       "4                     0  \n",
       "5                  1689  \n",
       "6                     0  \n",
       "7                     0  \n",
       "8                     0  \n",
       "9                     7  "
      ]
     },
     "execution_count": 202,
     "metadata": {},
     "output_type": "execute_result"
    }
   ],
   "source": [
    "df.head(10)"
   ]
  },
  {
   "cell_type": "code",
   "execution_count": 164,
   "metadata": {},
   "outputs": [],
   "source": [
    "API_KEY='26d87b67e9196fced6ce50d77eb89968'"
   ]
  },
  {
   "cell_type": "code",
   "execution_count": 165,
   "metadata": {},
   "outputs": [
    {
     "name": "stderr",
     "output_type": "stream",
     "text": [
      "/var/folders/0k/369f7zf50c59w8dkhr5_kczr0000gn/T/ipykernel_10001/659302689.py:8: SettingWithCopyWarning:\n",
      "\n",
      "\n",
      "A value is trying to be set on a copy of a slice from a DataFrame\n",
      "\n",
      "See the caveats in the documentation: https://pandas.pydata.org/pandas-docs/stable/user_guide/indexing.html#returning-a-view-versus-a-copy\n",
      "\n",
      "/var/folders/0k/369f7zf50c59w8dkhr5_kczr0000gn/T/ipykernel_10001/659302689.py:9: SettingWithCopyWarning:\n",
      "\n",
      "\n",
      "A value is trying to be set on a copy of a slice from a DataFrame\n",
      "\n",
      "See the caveats in the documentation: https://pandas.pydata.org/pandas-docs/stable/user_guide/indexing.html#returning-a-view-versus-a-copy\n",
      "\n"
     ]
    }
   ],
   "source": [
    "df['Longitude'], df['Latitude'] = np.nan, np.nan\n",
    "\n",
    "# get the geolocation info via OpenWeatherMap API\n",
    "for i in range(len(df)):\n",
    "    city = df['City'][i]\n",
    "    res = req.get(f'https://api.openweathermap.org/geo/1.0/direct?q={city}&limit=1&appid={API_KEY}')\n",
    "    if len(res.json()) > 0:\n",
    "        df['Longitude'].iloc[i] = res.json()[0]['lon']\n",
    "        df['Latitude'][i] = res.json()[0]['lat']\n",
    "    else:\n",
    "        pass"
   ]
  },
  {
   "cell_type": "code",
   "execution_count": 166,
   "metadata": {},
   "outputs": [
    {
     "data": {
      "application/vnd.plotly.v1+json": {
       "config": {
        "plotlyServerURL": "https://plot.ly"
       },
       "data": [
        {
         "lat": [
          45.5202471,
          10.9560264,
          14.6307175,
          null,
          42.141614,
          10.4962696,
          -34.6075682,
          51.5073219,
          null,
          11.914505,
          null,
          6.8018439,
          null,
          32.944012,
          43.207178,
          32.8295183,
          36.8968052,
          46.057226,
          46.1078974,
          46.0060512,
          46.057226,
          10.9560264,
          -29.517549,
          34.5186316,
          20.858864,
          52.08701595,
          37.3798891,
          -6.1760311,
          null,
          45.5202471,
          45.649723,
          32.7762719,
          32.7762719,
          6.6479256,
          6.716628,
          6.5423445,
          6.5423445,
          -29.446421,
          25.011997,
          32.3969935,
          39.7683331,
          27.1341946,
          null,
          -19.0148349,
          34.7659252,
          30.6743643,
          -29.614306,
          19.0437196,
          -31.448994,
          null,
          null,
          10.7758439,
          -6.3042012,
          45.3662519,
          11.58331,
          35.1799528,
          24.9929995,
          31.8122623,
          24.9929995,
          27.738153,
          24.163162,
          -29.22647,
          -5.1983553,
          45.5789629,
          10.3629555,
          28.2741176,
          null,
          -29.2562253,
          33.5881366,
          -5.1076699,
          -29.446421,
          14.5308826,
          41.9908485,
          -6.2349858,
          11.568271,
          -24.522583,
          -14.8567487,
          -29.5934057,
          -12.4340621,
          -14.8567487,
          -26.6976713,
          -29.614306,
          10.7758439,
          13.8402875,
          40.8458611,
          22.0259517,
          32.9159104,
          43.8480413,
          -34.6075682,
          23.7861979,
          31.8658887,
          45.2134004,
          45.7759956,
          8.3583002,
          null,
          11.58331,
          11.58331,
          11.58331,
          null,
          null,
          23.0205969,
          23.0205969,
          24.9075751,
          23.0205969,
          33.6367669,
          23.0205969,
          23.0205969,
          23.0205969,
          10.9560264,
          52.3744779,
          32.1787766,
          35.1595775,
          43.6534817,
          28.3973634,
          13.0836939,
          null,
          null,
          11.58331,
          24.9929995,
          15.5062156,
          10.7715512,
          null,
          -27.6350709,
          10.9035106,
          10.6408029,
          12.9767936,
          null,
          22.9912348,
          31.2322758,
          13.539067,
          45.5228939,
          -26.9195567,
          45.3168509,
          null,
          null,
          31.3016935,
          10.9035106,
          15.3165257,
          24.9929995,
          10.8264638,
          10.9560264,
          10.9560264,
          42.8546185,
          null,
          -0.2201641,
          45.143731,
          20.6720375,
          44.0371195,
          22.273734,
          null,
          11.568271,
          35.1433533,
          -6.9903988,
          23.1146515,
          23.7050525,
          31.6572954,
          10.6427276,
          41.5398348,
          36.7899498,
          11.58331,
          10.7758439,
          50.3712659,
          25.4557366,
          27.9511188,
          25.7237321,
          25.4557366,
          23.1038568,
          25.7237321,
          13.7544238,
          16.054804,
          35.1799528,
          10.9808435,
          6.6712394,
          15.6127426,
          37.9839412,
          22.5213807,
          -23.5506507,
          null,
          32.1901111,
          10.9035106,
          23.6832984,
          34.3508273,
          42.2713945,
          33.2000368,
          null,
          21.0294498,
          30.5276676,
          10.3108304,
          10.7758439,
          40.5395421,
          35.021041,
          15.5062156,
          13.6593962,
          null,
          null,
          13.2684945,
          13.7544238,
          13.2684945,
          null,
          25.0375198,
          13.7544238,
          null,
          null,
          1.8472584,
          null,
          25.4557366,
          33.5524785,
          24.9929995,
          null,
          26.6384386,
          23.1146515,
          20.6568406,
          10.7758439,
          null,
          45.5031824,
          22.9912348,
          33.6783336,
          19.611389,
          31.4220558,
          13.0836939,
          null,
          22.2525211,
          31.199004,
          24.0807667,
          30.3162878,
          33.5524785,
          33.5524785,
          32.3969935,
          31.9092756,
          28.687547,
          30.7474425,
          30.6782402,
          35.4089574,
          36.617331,
          7.4870464,
          14.5596159,
          35.1799528,
          11.0839073,
          33.9412127,
          43.6534817,
          45.5202471,
          30.1658896,
          34.5415175,
          null,
          47.6571934,
          31.3869323,
          23.0205969,
          null,
          null,
          null,
          45.5202471,
          null,
          null,
          35.360687,
          45.3990409,
          null,
          32.1840381,
          7.2791971,
          22.5598573,
          -29.4686024,
          31.199004,
          34.8333051,
          24.1014769,
          23.1146515,
          23.1146515,
          24.2918414,
          22.555454,
          null,
          null,
          null,
          10.7758439,
          31.5656822,
          null,
          46.1410937,
          -26.9195567,
          7.156773,
          7.2805314,
          7.156773,
          6.9522325,
          6.9387469,
          6.9387469,
          null,
          7.2532006,
          7.2791971,
          33.8595564,
          34.5094067,
          20.4232641,
          20.4232641,
          14.6222328,
          42.1487691,
          24.9929995,
          10.9560264,
          55.4776435,
          41.0010262,
          41.6509502,
          35.1799528,
          -23.5506507,
          24.68374,
          null,
          10.7758439,
          null,
          27.6598607,
          null,
          16.5194442,
          25.011997,
          12.1459907,
          30.6782402,
          null,
          13.9226541,
          null,
          null,
          32.5866826,
          29.8622194,
          29.8622194,
          29.8622194,
          29.8622194,
          29.8622194,
          29.8622194,
          29.8622194,
          29.8622194,
          29.8622194,
          38.9181714,
          16.4293625,
          21.2737079,
          null,
          31.8782976,
          null,
          11.568271,
          null,
          45.5202471,
          21.2737079,
          null,
          23.0205969,
          33.6633386,
          12.4345376,
          38.1547698,
          44.0500054,
          45.0775473,
          23.1301964,
          -29.1684951,
          -29.1684951,
          14.7026327,
          -34.6075682,
          13.2684945,
          31.9515694,
          30.6782402,
          22.0972997,
          23.1146515,
          34.895858,
          37.1994653,
          10.9509538,
          45.6598951,
          22.6105576,
          22.5445741,
          -7.5344079,
          23.0205969,
          10.2566915,
          24.9929995,
          22.9912348,
          null,
          33.7690164,
          -7.8011945,
          -6.1760311,
          -6.1760311,
          48.464708,
          -6.1753942,
          null,
          -6.1753942,
          null,
          -6.9199289,
          -6.136197,
          -6.2349858,
          -6.1760311,
          -6.2349858,
          -6.5962986,
          46.3144754,
          -6.1169662,
          -6.9903988,
          -6.2955404,
          -6.9199289,
          -6.9903988,
          -6.9903988,
          -6.3042012,
          -6.1760311,
          -6.1760311,
          -6.1760311,
          -6.9199289,
          -6.1760311,
          -6.1760311,
          -6.8351874,
          -6.98393825,
          -6.9344694,
          -6.9903988,
          -6.5906502,
          -6.824096,
          -6.3042012,
          -6.1431943,
          null,
          36.4083982,
          36.0638034,
          36.8618279,
          36.4083982,
          36.0638034,
          37.461928,
          36.0638034,
          32.1901111,
          10.7758439,
          24.8755492,
          24.8755492,
          -34.6075682,
          null,
          31.3016935,
          null,
          31.3016935,
          1.4728119,
          14.9747545,
          24.9929995,
          22.555454,
          46.3144754,
          52.5170365,
          41.8386737,
          38.661953,
          39.7589478,
          29.8622194,
          -29.6905705,
          31.8658887,
          32.1787766,
          null,
          14.3535427,
          13.3662087,
          14.2972357,
          -34.6648394,
          -6.1760311,
          22.6203348,
          10.2566915,
          23.0205969,
          null,
          10.9509538,
          45.6472814,
          32.4585127,
          38.2493581,
          -34.6075682,
          null,
          null,
          45.5202471,
          32.7833323,
          -27.4689682,
          7.3400745,
          27.81697,
          31.2322758,
          29.034552,
          26.993991,
          12.6817905,
          11.568271,
          null,
          null,
          -6.1169662,
          24.8136095,
          23.6832984,
          23.6832984,
          26.423568,
          32.3353965,
          32.4935378,
          41.3459033,
          35.9556924,
          35.9556924,
          10.7758439,
          51.7610497,
          1.8472584,
          31.3016935,
          5.3870844,
          15.5062156,
          19.6978751,
          44.6204796,
          10.7758439,
          null,
          null,
          24.9929995,
          28.9488761,
          42.8258195,
          31.7165941,
          31.8786659,
          45.7427,
          31.5656822,
          31.5656822,
          31.5656822,
          32.3969935,
          -34.6075682,
          13.9853216,
          43.1339001,
          31.3016935,
          31.3016935,
          null,
          null,
          22.4997452,
          10.9560264,
          10.3606197,
          10.9560264,
          35.2310947,
          14.2972357,
          null,
          2.5124036,
          2.0322421,
          24.163162,
          47.2186371,
          -6.5962986,
          24.9929995,
          27.4989278,
          42.7317899,
          44.26833,
          7.1692723,
          44.8186266,
          -26.8901747,
          -34.6075682,
          44.26833,
          48.7645251,
          30.0443879,
          null,
          19.1818062,
          null,
          31.4933074,
          33.5524785,
          -29.4686024,
          10.7500035,
          10.7758439,
          24.163162,
          25.7237321,
          24.163162,
          23.894999,
          10.9035106,
          23.894999,
          10.7758439,
          22.5213807,
          21.592477,
          44.26833,
          21.4845174,
          10.2566915,
          36.0176,
          null,
          24.9929995,
          47.2186371,
          16.0568089,
          32.1901111,
          48.60107,
          24.9929995,
          10.7758439,
          45.3099218,
          36.3263653,
          31.6572954,
          10.9560264,
          10.9509538,
          23.0205969,
          11.58331,
          5.2228164,
          null,
          13.2684945,
          null,
          47.188449,
          21.1428919,
          61.4980214,
          32.1901111,
          10.3629555,
          null,
          10.7758439,
          10.7758439,
          10.7758439,
          49.3180769,
          11.3138286,
          null,
          18.0198156,
          -29.861825,
          10.7758439,
          10.7758439,
          23.3740077,
          10.2544281,
          10.3486485,
          -29.3759836,
          30.5142256,
          22.9912348,
          23.0205969,
          23.1144539,
          23.0205969,
          10.7758439,
          26.4370826,
          33.3495657,
          32.3968554,
          22.5213807,
          null,
          40.1827657,
          40.1827657,
          34.6183433,
          22.9912348,
          47.7231316,
          22.7282309,
          26.423568,
          35.1799528,
          35.1799528,
          35.1799528,
          11.1510856,
          35.1041,
          null,
          35.1799528,
          null,
          24.0807667,
          23.356377,
          10.9509538,
          34.8113006,
          31.8782976,
          31.8782976,
          29.1176794,
          30.2489634,
          null,
          30.0357,
          32.1901111,
          22.5213807,
          22.5213807,
          22.5213807,
          29.7112121
         ],
         "lon": [
          -122.6741949,
          106.8529805,
          -90.6061595,
          null,
          41.6748028,
          107.1688433,
          -58.4370894,
          -0.1276474,
          null,
          -86.1445563,
          null,
          79.9227034,
          null,
          -85.9538532,
          -71.537476,
          -96.9442177,
          -76.2602336,
          28.8249983,
          28.6021997,
          28.6628157,
          28.8249983,
          106.8529805,
          -51.179798,
          135.8434724,
          106.6749591,
          4.876687198673499,
          126.8032255,
          106.6384468,
          null,
          -122.6741949,
          9.2053999,
          -96.7968559,
          -96.7968559,
          80.7014023,
          80.0619488,
          80.157362,
          80.157362,
          -51.136725,
          121.4656619,
          119.4077008,
          -86.1583502,
          87.45070414001327,
          null,
          -40.539464,
          -88.526717,
          -96.3699632,
          -52.193159,
          -98.1981486,
          -60.9304048,
          null,
          null,
          106.7017555,
          107.307897,
          126.3046846,
          107.3610131,
          129.0752365,
          121.3010003,
          119.9691539,
          121.3010003,
          111.7776649,
          120.6478282,
          -51.3468188,
          -39.2955573,
          13.7364985,
          106.6767031,
          117.034423,
          null,
          -51.5269167,
          -117.6248,
          -38.3727852,
          -51.136725,
          -90.5963325,
          -88.1850028,
          106.9945444,
          104.9224426,
          -48.1093489,
          -40.8414804,
          -51.1599403,
          -39.2556115,
          -40.8414804,
          -52.638293,
          -52.193159,
          106.7017555,
          -89.4437598,
          31.164851,
          110.4031831,
          35.293429,
          25.9542057,
          -58.4370894,
          90.4026151,
          -116.6029835,
          10.9793623,
          12.0450646,
          80.5121579,
          null,
          107.3610131,
          107.3610131,
          107.3610131,
          null,
          null,
          113.7457788,
          113.7457788,
          121.1458735,
          113.7457788,
          116.9852556,
          113.7457788,
          113.7457788,
          113.7457788,
          106.8529805,
          9.7385532,
          115.6844851,
          126.8515089,
          -79.3839347,
          114.798217,
          80.270186,
          null,
          null,
          107.3610131,
          121.3010003,
          -88.0248937,
          106.6983801,
          null,
          -52.2738654,
          106.6990779,
          107.05094,
          77.590082,
          null,
          120.184982,
          121.4692071,
          99.8197035,
          -122.989827,
          -49.0658025,
          13.5649454,
          null,
          null,
          120.5810725,
          106.6990779,
          108.8014978,
          121.3010003,
          107.3412097,
          106.8529805,
          106.8529805,
          13.5755038,
          null,
          -78.5123274,
          -122.8553725,
          -103.338396,
          15.01844625,
          113.5721327,
          null,
          104.9224426,
          110.769063,
          110.4229104,
          114.4107202,
          120.5372523,
          120.7480757,
          106.4833859,
          2.4448926,
          127.0026769,
          107.3610131,
          106.7017555,
          -4.1425658,
          119.0029034,
          116.3530413,
          119.3795377,
          119.0029034,
          107.6946613,
          119.3795377,
          100.4930399,
          108.08238,
          129.0752365,
          106.6537483,
          -73.1753984,
          -87.950694,
          23.7283052,
          113.3656141,
          -46.6333824,
          null,
          119.4200584,
          106.6990779,
          113.0505994,
          62.2164003,
          -89.093966,
          -117.2425355,
          null,
          105.8544441,
          120.9420572,
          106.358565,
          106.7017555,
          -75.4968502,
          135.7556075,
          -88.0248937,
          102.5708301,
          null,
          null,
          100.9676152,
          100.4930399,
          100.9676152,
          null,
          121.5636796,
          100.4930399,
          null,
          null,
          102.9346697,
          null,
          119.0029034,
          119.1075773,
          121.3010003,
          null,
          102.5768454,
          114.4107202,
          106.054036,
          106.7017555,
          null,
          -73.5698065,
          120.184982,
          -118.0000166,
          -96.949444,
          73.0923253,
          80.270186,
          null,
          112.2876964,
          29.894378,
          120.5423,
          31.73694101738903,
          119.1075773,
          119.1075773,
          119.4077008,
          120.2630426,
          115.8540042,
          120.7510971,
          121.0116196,
          116.3368106,
          101.7761976,
          80.364908,
          -90.46214160738042,
          129.0752365,
          106.2650701,
          -84.2135309,
          -79.3839347,
          -122.6741949,
          119.212585,
          135.6988328,
          null,
          -117.4235106,
          120.9764683,
          113.7457788,
          null,
          null,
          null,
          -122.6741949,
          null,
          null,
          139.406942,
          -72.721834,
          null,
          -96.8847194,
          80.2239914,
          113.8790404,
          -52.0868635,
          29.894378,
          112.1167048,
          115.0577538,
          114.4107202,
          114.4107202,
          116.1171428,
          114.0543297,
          null,
          null,
          null,
          106.7017555,
          74.3141829,
          null,
          12.3623258,
          -49.0658025,
          79.8716676,
          80.6960665,
          79.8716676,
          80.2125947,
          79.8541134,
          79.8541134,
          null,
          80.3454132,
          80.2239914,
          -118.2167197,
          135.792955,
          106.1688515,
          106.1688515,
          -90.5185188,
          -72.6071119,
          121.3010003,
          106.8529805,
          -2.5553768,
          28.6419843,
          41.6360085,
          129.0752365,
          -46.6333824,
          120.8734318,
          null,
          106.7017555,
          null,
          95.8761179,
          null,
          102.2188111,
          121.4656619,
          -86.2746665,
          121.0116196,
          null,
          100.6009966,
          null,
          null,
          117.0130019,
          121.6203873,
          121.6203873,
          121.6203873,
          121.6203873,
          121.6203873,
          121.6203873,
          121.6203873,
          121.6203873,
          121.6203873,
          121.6282945,
          102.8322966,
          110.3548318,
          null,
          120.5514595,
          null,
          104.9224426,
          null,
          -122.6741949,
          110.3548318,
          null,
          113.7457788,
          -117.903317,
          -86.8773498,
          -91.2440329,
          -91.6392294,
          7.5724262,
          113.2592945,
          -51.1796197,
          -51.1796197,
          -91.8656361,
          -58.4370894,
          100.9676152,
          35.9239625,
          121.0116196,
          106.7633247,
          114.4107202,
          136.838323,
          126.8312632,
          106.8226134,
          8.7932013,
          75.6790283,
          114.0545429,
          110.6041944,
          113.7457788,
          105.593182,
          121.3010003,
          120.184982,
          null,
          -118.191604,
          110.364917,
          106.6384468,
          106.6384468,
          22.0269947,
          106.827183,
          null,
          106.827183,
          null,
          106.9265095,
          106.90069022428446,
          106.9945444,
          106.6384468,
          106.9945444,
          106.7972421,
          11.0480288,
          106.1518079,
          110.4229104,
          106.7085494,
          106.9265095,
          110.4229104,
          110.4229104,
          107.307897,
          106.6384468,
          106.6384468,
          106.6384468,
          106.9265095,
          106.6384468,
          106.6384468,
          108.2277623,
          107.43629599196056,
          107.6049539,
          110.4229104,
          110.6673202,
          107.1374006,
          107.307897,
          106.6646663,
          null,
          120.5348775,
          120.3781372,
          120.5158492,
          120.5348775,
          120.3781372,
          121.4425255,
          120.3781372,
          119.4200584,
          106.7017555,
          118.6723605,
          118.6723605,
          -58.4370894,
          null,
          120.5810725,
          null,
          120.5810725,
          103.7642651,
          102.0929301,
          121.3010003,
          114.0543297,
          11.0480288,
          13.3888599,
          -94.1069211,
          -90.5643258,
          -84.1916069,
          121.6203873,
          -51.1429035,
          -116.6029835,
          115.6844851,
          null,
          100.5645684,
          100.9872185,
          109.0796699,
          -58.3628061,
          106.6384468,
          120.3120375,
          105.593182,
          113.7457788,
          null,
          106.8226134,
          9.3790871,
          130.1930487,
          -122.039966,
          -58.4370894,
          null,
          null,
          -122.6741949,
          130.7333361,
          153.0234991,
          80.9928846,
          114.4112498,
          121.4692071,
          111.6928724,
          111.2684212,
          101.277765,
          104.9224426,
          null,
          null,
          106.1518079,
          113.5922116,
          113.0505994,
          113.0505994,
          111.6081495,
          74.3540308,
          74.5411575,
          2.0413673,
          -80.0053176,
          -80.0053176,
          106.7017555,
          6.1762958,
          102.9346697,
          120.5810725,
          100.3821843,
          -88.0248937,
          72.7686942,
          17.3698016,
          106.7017555,
          null,
          null,
          121.3010003,
          -81.2986741,
          -95.8075134,
          35.7943856,
          36.0043148,
          11.9726933,
          74.3141829,
          74.3141829,
          74.3141829,
          119.4077008,
          -58.4370894,
          -89.6802434,
          -88.2220372,
          120.5810725,
          120.5810725,
          null,
          null,
          103.9656924,
          106.8529805,
          106.3658439,
          106.8529805,
          128.8908228,
          109.0796699,
          null,
          102.8137391,
          103.3190922,
          120.6478282,
          -1.5541362,
          106.7972421,
          121.3010003,
          -82.5748194,
          -93.7321871,
          11.3234319,
          79.9484613,
          8.1091847,
          -49.2416736,
          -58.4370894,
          11.3234319,
          2.1396015,
          31.2357257,
          null,
          -99.4680167,
          null,
          120.3074357,
          119.1075773,
          -52.0868635,
          106.51488582967849,
          106.7017555,
          120.6478282,
          119.3795377,
          120.6478282,
          120.478577,
          106.6990779,
          120.478577,
          106.7017555,
          113.3656141,
          105.8435398,
          11.3234319,
          109.1165772,
          105.593182,
          45.7573,
          null,
          121.3010003,
          -1.5541362,
          103.6514286,
          119.4200584,
          0.27343,
          121.3010003,
          106.7017555,
          -122.7681602,
          138.8878314,
          120.7480757,
          106.8529805,
          106.8226134,
          113.7457788,
          107.3610131,
          100.4980609,
          null,
          100.9676152,
          null,
          23.9944624,
          -88.1524717,
          23.7603118,
          119.4200584,
          106.6767031,
          null,
          106.7017555,
          106.7017555,
          106.7017555,
          -0.3555361,
          106.0964769,
          null,
          -90.8809957,
          31.009909,
          106.7017555,
          106.7017555,
          116.7120999,
          105.9669665,
          107.0765028,
          -51.1123342,
          120.6759733,
          120.184982,
          113.7457788,
          109.5946193,
          113.7457788,
          106.7017555,
          110.8518642,
          120.1576778,
          119.4077658,
          113.3656141,
          null,
          29.0677305,
          29.0677305,
          -79.0083993,
          120.184982,
          128.8785919,
          121.1063135,
          111.6081495,
          129.0752365,
          129.0752365,
          129.0752365,
          106.6010334,
          128.9751,
          null,
          129.0752365,
          null,
          120.5423,
          116.6775918,
          106.8226134,
          117.3178278,
          120.5514595,
          120.5514595,
          110.4741428,
          120.2052342,
          null,
          120.8640628,
          119.4200584,
          113.3656141,
          113.3656141,
          113.3656141,
          120.2419855
         ],
         "mode": "markers",
         "text": [
          "PORTLAND",
          "BIEN HOA",
          "MIXCO",
          "TAM DIEP TOWN",
          "POTI",
          "BA RIA",
          "BUENOS AIRES ",
          "LU'AN CITY",
          "CAMPO BOM – RS",
          "MASATEPE",
          "TINH GIA DISTRICT",
          "PILIYANDALA",
          "NACO QUIMISTAN",
          "ALEXANDER CITY",
          "CONCORD",
          "WEST IRVING",
          "NORFOLK",
          "CEADIR LUNGA",
          "KONGAZ,COMRAT ",
          "KAZAYAK",
          "CEADIR-LUNGA",
          "BIEN HOA",
          "PRESIDENTE LUCENA",
          "SAKURAI",
          "HAIPHONG",
          "WOERDEN",
          "SIHEUNG-SI",
          "TANGERANG",
          "HUYEN TAN UYEN & BEN CAT",
          "PORTLAND",
          "SEREGNO",
          "DALLAS",
          "DALLAS",
          "BALANGODA",
          "HORANA",
          "AGALAWATTA",
          "AGALAWATTA",
          "PICADA-CAFÉ",
          "NEW TAIPEI CITY",
          "YANGZHOU",
          "INDIANAPOLIS",
          "SUNGNAM-SI",
          "ZHONGSAN",
          "SAO GABRIEL DA PALHA",
          "RIENZI",
          "BRYAN",
          "VENANCIO AIRES",
          "PUEBLA",
          "ESPERANZA, CD OBREGON",
          "SAN FRANCISCO DE CAMPECHE",
          "DUONG MINH CHAU DISTRICT",
          "HO CHI MINH",
          "KARAWANG",
          "LONG THANH DISTRICT",
          "DONG NAI",
          "BUSAN",
          "TAOYUAN",
          "CHANGZHOU",
          "TAOYUAN",
          "YUAN LIN HSIEN",
          "TAICHUNG",
          "FARROUPILHA",
          "QUIXERAMOBIM",
          "ANCARANO",
          "GO CONG",
          "YINGTAN",
          "GUAYMALLEN",
          "GARIBALDI",
          "LAS FLORES",
          "MORADA NOVA",
          "PICADA CAFÉ",
          "VILLA NUEVA",
          "BARTLETT",
          "BEKASI",
          "PHNOM PENH",
          "ELDORADO",
          "VITÓRIA DA CONQUISTA",
          "IVOTI",
          "SANTO ESTEVÃO",
          "VITORIA DA CONQUISTA",
          "SAUDADES",
          "VENANCIO AIRES",
          "HO CHI MINH CITY",
          "CIUDAD ARCE",
          "DUZCE",
          "BINH DINH",
          "KARMIEL",
          "ROUSSE",
          "BUENOS AIRES",
          "DHAKA",
          "ENSENADA",
          "SORGA",
          "MONTEBELLUNA",
          "MIHINTALE",
          "DOSSON DI CASIER",
          "DONG NAI",
          "DONG NAI",
          "DONG NAI",
          "TRANG BOM DISTRICT",
          "LIAOBU TOWN, DONGGUAN",
          "DONGGUAN",
          "DONGGUAN",
          "YANGMEI CITY",
          "DONGGUAN",
          "DONG GUAN",
          "DONGGUAN",
          "DONGGUAN",
          "DONGGUAN",
          "BIEN HOA",
          "SA-HA GU, BUSAN",
          "DONGGUAN CITY",
          "GWANGJU-SI",
          "TORONTO",
          "YIFENG",
          "CHENNAI",
          "GUNMA PREF",
          "BA RIA VUNG TAU",
          "DONG NAI",
          "TAOYUAN CITY",
          "SAN PEDRO SULA",
          "HO CHI MINH  CITY",
          "LADKRABANG",
          "JOSE BONIFACIO",
          "THUAN AN",
          "MY XUAN VILLAGE, TAN THANH DISTRICT",
          "BANGALORE",
          "TAN UYEN DISTRICT",
          "TAINAN CITY",
          "SHANGHAI",
          "RATCHABURI",
          "HILLSBORO",
          "BLUMENAU",
          "NOVIGRAD",
          "UTHANGARAI TALUK",
          "JIANG SU",
          "SUZHOU",
          "THUAN AN",
          "BINH PHUOC",
          "TAOYUAN",
          "XUAN TAY",
          "BIEN HOA",
          "BIEN HOA",
          "ASCOLI PICENO",
          "DOU LIOU",
          "QUITO",
          "WOODBURN",
          "GUADALAJARA",
          "SAVAR",
          "ZHUHAI",
          "SATTELDORF - GRONINGEN",
          "PHNOM PENH",
          "YUAN-LIN CHEN",
          "SEMARANG",
          "HUIZHOU",
          "TOULIU",
          "CHANGSHU",
          "BEN LUC",
          "MATARO ",
          "ASAN",
          "DONG NAI",
          "HO CHI MINH",
          "PLYMOUTH",
          "PUTIAN",
          "FUZHOU",
          "FUQING",
          "PUTIAN",
          "LONG AN",
          "FUQING",
          "BANGKOK",
          "PHUOC DONG",
          "BUSAN",
          "THU DAU MOT",
          "VILLANUEVA",
          "CHOLOMA",
          "ATHENS",
          "ZHONGSHAN",
          "SÃO PAULO",
          "S.STEFANO ZIMELLA (VR)",
          "TIEN GIANG",
          "THUAN AN",
          "QING YUAN",
          "LONG AN PROVINCE",
          "ROCKFORD",
          "VISTA",
          "BEN CAT TOWN",
          "HA NOI CITY",
          "HAIYAN",
          "CHAU THANH, TIEN GIANG",
          "HO CHI MINH",
          "EMMAUS,",
          "KYOTO-SHI",
          "SAN PEDRO SULA",
          "POIPET CITY",
          "BANGKRU",
          "THATOOM",
          "MUANG",
          "BANGKOK",
          "MUANG",
          "DUY XUYEN DISTRICT",
          "NEW TAIEPI CITY",
          "BANGKOK",
          "RATHJABURANA",
          "DUC HOA DISTRICT",
          "BATU PAHAT",
          "JIANGSU PROVINCE",
          "PUTIAN",
          "HUAI AN",
          "TAOYUAN",
          "GUANGDONG PROVINCE",
          "HUIDONG",
          "HUIZHOU",
          "HUNG YEN",
          "HO CHI MINH CITY",
          "MEOLO (VENEZIA)",
          "MONTREAL",
          "TAINAN",
          "HUNTINGTON BEACH",
          "JILOTEPEC",
          "FAISALABAD",
          "CHENNAI",
          "MUTILVA BAJA",
          "ENPING",
          "ALEXANDRIA",
          "CHANGHUA",
          "10TH OF RAMADAN CITY",
          "HUAI AN",
          "HUAIAN",
          "YANGZHOU",
          "JIANGYIN",
          "NANCHANG",
          "JIAXING",
          "PING HU",
          "JIAXIANG",
          "JI NING CITY",
          "KURUNEGALA",
          "PUERTA PARADA",
          "BUSAN",
          "GÒ DẦU",
          "NORCROSS",
          "TORONTO",
          "PORTLAND",
          "CHANGHWA",
          "KASHIBA",
          "NEANG KOK VILLAGE",
          "SPOKANE",
          "KUNSHAN",
          "DONGGUAN",
          "NHON TRACH DISTRICT",
          "H THUAN AN",
          "PARQUE INDUSTRIAL PLATANOS",
          "PORTLAND",
          "THUAN AN TOWN",
          "CD. OBREGON",
          "KAGAWA",
          "GRANBY",
          "YUN-LIN HSIEN",
          "ITALY",
          "THULHIRIYA",
          "BAOAN",
          "SANTA CLARA DO SUL",
          "ALEXANDRIA",
          "TAN AN",
          "HEYUAN",
          "HUIZHOU",
          "HUIZHOU",
          "MEIZHOU",
          "SHENZHEN",
          "NEAR KANCHIPURAM",
          "TIRUVANNAMALAI DISTRICT",
          "32-050 SKAWINA, POLAND",
          "HO CHI MINH CITY",
          "LAHORE",
          "SAN JUAN RÍO",
          "PUOS D’ALPAGO",
          "BLUMENAU",
          "KATUNAYAKE",
          "PALLEKELE",
          "KATUNAYAKE",
          "AVISSAWELLA",
          "COLOMBO",
          "COLOMBO",
          "ANDHRA PRADESH",
          "KEGALLE",
          "THULHIRIYA",
          "RANCHO DOMINGUEZ",
          "KASHIHARA",
          "NAM DINH",
          "NAM DINH",
          "GUATEMALA CITY",
          "CHICOPEE",
          "TAOYUAN",
          "BIEN HOA",
          "JEDBURGH",
          "BEYLIKDUZU",
          "BATUMI",
          "BUSAN",
          "SAO PAULO",
          "NAM TRUC",
          "NAMDINH",
          "HO CHI MINH",
          "LADYAO, NAKHONSAWAN",
          "NONGKHAM",
          "WACHIRABARAMI",
          "A. SAMPHAN",
          "NEW TAIPEI CITY",
          "MANAGUA",
          "PINGHU",
          "KHONKEAN",
          "MUANG DISTRICT",
          "CHUMPAE",
          "NONGBUALAMPOO",
          "HUAI AN CITY",
          "NINGBO",
          "NINGBO",
          "NINGBO",
          "NINGBO",
          "NINGBO",
          "NINGBO",
          "NINGBO",
          "NINGBO",
          "NINGBO",
          "DALIAN",
          "KHON KAEN",
          "AN GIANG",
          "KITAKATSURAGI-GUN",
          "ZHANGJIAGANG",
          "KABINBURI",
          "PHNOM PENH",
          "SAMUTSAKORN",
          "PORTLAND",
          "AN GIANG",
          "NONGBUADANG",
          "DONGGUAN",
          "COSTA MESA",
          "LEON",
          "BOURBON",
          "WINONA",
          "COLLEGNO",
          "GUANGZHOU",
          "CAXIAS DO SUL",
          "CAXIAS DO SUL",
          "COATEPEQUE",
          "BUENOS AIRES",
          "MUANG",
          "AMMAN",
          "PINGHU",
          "PINGXIANG",
          "HUI ZHOU",
          "CHANG HUA",
          "CHANG HWA",
          "BIEN HOA CITY",
          "GALLARATE",
          "PITHAMPUR, DISTRICT DHAR",
          "SHENZHEN CITY",
          "BOYOLALI",
          "DONGGUAN",
          "TAN THANH",
          "TAOYUAN",
          "TAINAN",
          "NHON TRACH DISTRICT",
          "LONG BEACH",
          "YOGYAKARTA",
          "TANGERANG",
          "TANGERANG",
          "LELES",
          "JAKARTA",
          "KARAWANG TIMUR",
          "JAKARTA",
          "KABUPATEN SERANG",
          "SUKABUMI",
          "JAKARTA UTARA",
          "BEKASI",
          "TANGERANG",
          "BEKASI",
          "BOGOR",
          null,
          "SERANG",
          "SEMARANG",
          "TANGERANG SELATAN",
          "SUKABUMI",
          "SEMARANG",
          "SEMARANG",
          "KARAWANG",
          "TANGERANG",
          "TANGERANG",
          "TANGERANG",
          "SUKABUMI",
          "TANGERANG",
          "TANGERANG",
          "MAJALENGKA",
          "BANDUNG BARAT",
          "BANDUNG",
          "SEMARANG",
          "JEPARA, CENTRAL JAVA",
          "CIANJUR",
          "KARAWANG",
          "BELENDUNG, CIBOGO",
          "CIBATU KABUPATEN PURWAKARTA",
          "JIMO, QINGDAO",
          "QINGDAO",
          "LAIXI CITY",
          "JIMO CITY",
          "QINGDAO",
          "YANTAI",
          "QINGDAO",
          "TIEN GIANG",
          "HO CHI MINH",
          "QUANZHOU",
          "QUANZHOU",
          "CAPITAL FEDERAL",
          "SRIRACHA",
          "SUZHOU",
          "JIANG SU",
          "SUZHOU",
          " JOHOR",
          "NAKHON RATCHASIMA",
          "TAOYUAN",
          "SHENZHEN",
          null,
          "BERLIN",
          "PERRY",
          "CHESTERFIELD",
          "DAYTON",
          "NINGBO",
          "NOVO HAMBURGO",
          "ENSENADA",
          "DONGGUAN CITY",
          "SAMRONG TORNG DISTRICT",
          "AYUTTHAYA",
          "CHONBURI",
          "BINH DUONG",
          "AVELLANEDA",
          "TANGERANG",
          "KAOHSIUNG",
          "TAN THANH",
          "DONGGUAN",
          "CHOSEIGUN",
          "BIEN HOA CITY",
          "CARNATE",
          "AMAKUSA-CITY",
          "FAIRFIELD",
          "BUENOS AIRES",
          "VERTEMATE CON MINOPRIO (COMO)",
          "CHAUCHINA-GRANADA",
          "PORTLAND",
          "KUMAMOTO -CITY",
          "BRISBANE",
          "MAHIYANGANAYA",
          "YICHUN",
          "SHANGHAI",
          "CHANDE CITY",
          "SHAOYANG CITY",
          "RAYONG",
          "PHNOM PENH",
          "SHENZHEN GUANGMING DISTRICT",
          "HENGXIKENG, LONGGANG DISTRICT, SHENZHEN CITY",
          "SERANG",
          "SHAO GUANG",
          "QINGYUAN CITY",
          "QINGYUAN CITY",
          "YONGZHOU CITY",
          "DASKA",
          "SIALKOT",
          "SANT BOI DE LLOBREGAT",
          "HIGH POINT",
          "HIGH POINT",
          "HO CHI MINH CITY",
          "HAI HAU",
          "BATU PAHAT",
          "SUZHOU",
          "PRAI",
          "CARRETERA A SAN PEDRO SULA",
          "PALGHAR",
          "KOTOR VAROS",
          "HO CHI MINH CITY",
          "SONEPAT",
          "BHAGANI",
          "TAOYUAN",
          "ORANGE CITY",
          "MARCUS",
          "MADABA",
          "SAHAB",
          "CASELLE DI ALTIVOLE",
          "LAHORE",
          "LAHORE",
          "LAHORE",
          "YANGZHOU",
          "BUENOS AIRES",
          "CHALCHUAPA",
          "SUSSEX",
          "SUZHOU",
          "SUZHOU",
          "MUDU TOWN, WUZHONG SECTION",
          "NAKA-GUN",
          "CAI RANG",
          "BIEN HOA",
          "MY THO",
          "BIEN HOA",
          "GIMHAE",
          "BINH DUONG",
          "JOHOR DARUL TAKZIM",
          "SEGAMAT",
          "KLUANG",
          "TAICHUNG",
          "NANTO",
          "BOGOR",
          "TAOYUAN",
          "BRADENTON",
          "CLARION",
          "LUJAN",
          "MINUWANGODA",
          "SAN MARTIN",
          "INDAIAL",
          "CAPITAL FEDERAL",
          "LUJAN",
          "LES LOGES EN JOSAS",
          "CAIRO",
          "EL ROSARIO LA PAZ",
          "SANTIAGO TIANGUISTENCO",
          "PRAPRADAENG",
          "WUXI",
          "HUAIAN",
          "SANTA CLARA DO SUL",
          "BINH CHANH DISTRICT",
          "HO CHI MINH CITY",
          "TAICHUNG CITY",
          "FUQING CITY",
          "TAICHUNG",
          "PITOU",
          "THUAN AN",
          "PITOU",
          "HO CHI MINH CITY",
          "ZHONG SHAN",
          "THAI NGUYEN",
          "LUJAN",
          "BEIHAI",
          "TAN THANH",
          "KANDAL",
          "JIANG SU",
          "TAOYUAN",
          "NANTO",
          "ROI-ET",
          "TIEN GIANG",
          "TREMONT",
          "TAOYUAN",
          "HO CHI MINH",
          "WILSONVILLE",
          "ANNAKA",
          "CHANGSHU CITY",
          "BIEN HOA",
          "BIEN HOA CITY",
          "DONGGUAN",
          "DONG NAI",
          "SUNGAI  BAKAP",
          "NAKORNPRATHOM",
          "MUANG",
          "WARINCHAMRAB",
          "BACA",
          "TIZIMIN",
          "BEN TRE",
          "TIEN GIANG",
          "GO CONG TOWN",
          "NHON TRACH DISTRICT",
          "HO CHI MINH CITY",
          "HO CHI MINH",
          "HO CHI MINH",
          "BEN LUC COUNTY",
          "TAY NINH",
          "TRANG BOM",
          "ESTADO DE MEXICO",
          "DURBAN",
          "HO CHI MINH CITY",
          "HO CHI MINH",
          "LONG HO",
          "VINH LONG",
          "VUNG TAU",
          "NOVA PETRÓPOLIS",
          "HAINING",
          "TAINAN",
          "DONGGUAN",
          "GUIGANG",
          "DONGGUAN",
          "HO CHI MINH",
          "XINNING",
          "YANCHENG",
          "YANG ZHOU",
          "ZHONGSHAN",
          "TAN PHUOC DISTRICT",
          "BURSA",
          "BURSA",
          "LUMBERTON",
          "TAINAN",
          "YICHUN CITY",
          "FENG YUAN",
          "YONGZHOU",
          "BUSAN",
          "BUSAN",
          "BUSAN",
          "BEN CAT",
          "SAHA-GU",
          "TRANG BANG DISTRICT",
          "BUSAN",
          "KRATOOMBAN",
          "CHANGHUA CITY",
          "SHANTOU",
          "BIEN HOA CITY",
          "ZAOZHUANG CITY",
          "ZHANGJIAGANG",
          "ZHANGJIAGANG",
          "ZHANGJIAJIE",
          "HANGZHOU",
          "CAOTA TOWN, ZHUJI",
          "SHANGYU CITY",
          "ZHENJIANG",
          "ZHONGSHAN",
          "ZHONGSHAN",
          "ZHONGSHAN",
          "ZHUJI"
         ],
         "type": "scattergeo"
        }
       ],
       "layout": {
        "geo": {
         "scope": "world"
        },
        "template": {
         "data": {
          "bar": [
           {
            "error_x": {
             "color": "#2a3f5f"
            },
            "error_y": {
             "color": "#2a3f5f"
            },
            "marker": {
             "line": {
              "color": "#E5ECF6",
              "width": 0.5
             },
             "pattern": {
              "fillmode": "overlay",
              "size": 10,
              "solidity": 0.2
             }
            },
            "type": "bar"
           }
          ],
          "barpolar": [
           {
            "marker": {
             "line": {
              "color": "#E5ECF6",
              "width": 0.5
             },
             "pattern": {
              "fillmode": "overlay",
              "size": 10,
              "solidity": 0.2
             }
            },
            "type": "barpolar"
           }
          ],
          "carpet": [
           {
            "aaxis": {
             "endlinecolor": "#2a3f5f",
             "gridcolor": "white",
             "linecolor": "white",
             "minorgridcolor": "white",
             "startlinecolor": "#2a3f5f"
            },
            "baxis": {
             "endlinecolor": "#2a3f5f",
             "gridcolor": "white",
             "linecolor": "white",
             "minorgridcolor": "white",
             "startlinecolor": "#2a3f5f"
            },
            "type": "carpet"
           }
          ],
          "choropleth": [
           {
            "colorbar": {
             "outlinewidth": 0,
             "ticks": ""
            },
            "type": "choropleth"
           }
          ],
          "contour": [
           {
            "colorbar": {
             "outlinewidth": 0,
             "ticks": ""
            },
            "colorscale": [
             [
              0,
              "#0d0887"
             ],
             [
              0.1111111111111111,
              "#46039f"
             ],
             [
              0.2222222222222222,
              "#7201a8"
             ],
             [
              0.3333333333333333,
              "#9c179e"
             ],
             [
              0.4444444444444444,
              "#bd3786"
             ],
             [
              0.5555555555555556,
              "#d8576b"
             ],
             [
              0.6666666666666666,
              "#ed7953"
             ],
             [
              0.7777777777777778,
              "#fb9f3a"
             ],
             [
              0.8888888888888888,
              "#fdca26"
             ],
             [
              1,
              "#f0f921"
             ]
            ],
            "type": "contour"
           }
          ],
          "contourcarpet": [
           {
            "colorbar": {
             "outlinewidth": 0,
             "ticks": ""
            },
            "type": "contourcarpet"
           }
          ],
          "heatmap": [
           {
            "colorbar": {
             "outlinewidth": 0,
             "ticks": ""
            },
            "colorscale": [
             [
              0,
              "#0d0887"
             ],
             [
              0.1111111111111111,
              "#46039f"
             ],
             [
              0.2222222222222222,
              "#7201a8"
             ],
             [
              0.3333333333333333,
              "#9c179e"
             ],
             [
              0.4444444444444444,
              "#bd3786"
             ],
             [
              0.5555555555555556,
              "#d8576b"
             ],
             [
              0.6666666666666666,
              "#ed7953"
             ],
             [
              0.7777777777777778,
              "#fb9f3a"
             ],
             [
              0.8888888888888888,
              "#fdca26"
             ],
             [
              1,
              "#f0f921"
             ]
            ],
            "type": "heatmap"
           }
          ],
          "heatmapgl": [
           {
            "colorbar": {
             "outlinewidth": 0,
             "ticks": ""
            },
            "colorscale": [
             [
              0,
              "#0d0887"
             ],
             [
              0.1111111111111111,
              "#46039f"
             ],
             [
              0.2222222222222222,
              "#7201a8"
             ],
             [
              0.3333333333333333,
              "#9c179e"
             ],
             [
              0.4444444444444444,
              "#bd3786"
             ],
             [
              0.5555555555555556,
              "#d8576b"
             ],
             [
              0.6666666666666666,
              "#ed7953"
             ],
             [
              0.7777777777777778,
              "#fb9f3a"
             ],
             [
              0.8888888888888888,
              "#fdca26"
             ],
             [
              1,
              "#f0f921"
             ]
            ],
            "type": "heatmapgl"
           }
          ],
          "histogram": [
           {
            "marker": {
             "pattern": {
              "fillmode": "overlay",
              "size": 10,
              "solidity": 0.2
             }
            },
            "type": "histogram"
           }
          ],
          "histogram2d": [
           {
            "colorbar": {
             "outlinewidth": 0,
             "ticks": ""
            },
            "colorscale": [
             [
              0,
              "#0d0887"
             ],
             [
              0.1111111111111111,
              "#46039f"
             ],
             [
              0.2222222222222222,
              "#7201a8"
             ],
             [
              0.3333333333333333,
              "#9c179e"
             ],
             [
              0.4444444444444444,
              "#bd3786"
             ],
             [
              0.5555555555555556,
              "#d8576b"
             ],
             [
              0.6666666666666666,
              "#ed7953"
             ],
             [
              0.7777777777777778,
              "#fb9f3a"
             ],
             [
              0.8888888888888888,
              "#fdca26"
             ],
             [
              1,
              "#f0f921"
             ]
            ],
            "type": "histogram2d"
           }
          ],
          "histogram2dcontour": [
           {
            "colorbar": {
             "outlinewidth": 0,
             "ticks": ""
            },
            "colorscale": [
             [
              0,
              "#0d0887"
             ],
             [
              0.1111111111111111,
              "#46039f"
             ],
             [
              0.2222222222222222,
              "#7201a8"
             ],
             [
              0.3333333333333333,
              "#9c179e"
             ],
             [
              0.4444444444444444,
              "#bd3786"
             ],
             [
              0.5555555555555556,
              "#d8576b"
             ],
             [
              0.6666666666666666,
              "#ed7953"
             ],
             [
              0.7777777777777778,
              "#fb9f3a"
             ],
             [
              0.8888888888888888,
              "#fdca26"
             ],
             [
              1,
              "#f0f921"
             ]
            ],
            "type": "histogram2dcontour"
           }
          ],
          "mesh3d": [
           {
            "colorbar": {
             "outlinewidth": 0,
             "ticks": ""
            },
            "type": "mesh3d"
           }
          ],
          "parcoords": [
           {
            "line": {
             "colorbar": {
              "outlinewidth": 0,
              "ticks": ""
             }
            },
            "type": "parcoords"
           }
          ],
          "pie": [
           {
            "automargin": true,
            "type": "pie"
           }
          ],
          "scatter": [
           {
            "fillpattern": {
             "fillmode": "overlay",
             "size": 10,
             "solidity": 0.2
            },
            "type": "scatter"
           }
          ],
          "scatter3d": [
           {
            "line": {
             "colorbar": {
              "outlinewidth": 0,
              "ticks": ""
             }
            },
            "marker": {
             "colorbar": {
              "outlinewidth": 0,
              "ticks": ""
             }
            },
            "type": "scatter3d"
           }
          ],
          "scattercarpet": [
           {
            "marker": {
             "colorbar": {
              "outlinewidth": 0,
              "ticks": ""
             }
            },
            "type": "scattercarpet"
           }
          ],
          "scattergeo": [
           {
            "marker": {
             "colorbar": {
              "outlinewidth": 0,
              "ticks": ""
             }
            },
            "type": "scattergeo"
           }
          ],
          "scattergl": [
           {
            "marker": {
             "colorbar": {
              "outlinewidth": 0,
              "ticks": ""
             }
            },
            "type": "scattergl"
           }
          ],
          "scattermapbox": [
           {
            "marker": {
             "colorbar": {
              "outlinewidth": 0,
              "ticks": ""
             }
            },
            "type": "scattermapbox"
           }
          ],
          "scatterpolar": [
           {
            "marker": {
             "colorbar": {
              "outlinewidth": 0,
              "ticks": ""
             }
            },
            "type": "scatterpolar"
           }
          ],
          "scatterpolargl": [
           {
            "marker": {
             "colorbar": {
              "outlinewidth": 0,
              "ticks": ""
             }
            },
            "type": "scatterpolargl"
           }
          ],
          "scatterternary": [
           {
            "marker": {
             "colorbar": {
              "outlinewidth": 0,
              "ticks": ""
             }
            },
            "type": "scatterternary"
           }
          ],
          "surface": [
           {
            "colorbar": {
             "outlinewidth": 0,
             "ticks": ""
            },
            "colorscale": [
             [
              0,
              "#0d0887"
             ],
             [
              0.1111111111111111,
              "#46039f"
             ],
             [
              0.2222222222222222,
              "#7201a8"
             ],
             [
              0.3333333333333333,
              "#9c179e"
             ],
             [
              0.4444444444444444,
              "#bd3786"
             ],
             [
              0.5555555555555556,
              "#d8576b"
             ],
             [
              0.6666666666666666,
              "#ed7953"
             ],
             [
              0.7777777777777778,
              "#fb9f3a"
             ],
             [
              0.8888888888888888,
              "#fdca26"
             ],
             [
              1,
              "#f0f921"
             ]
            ],
            "type": "surface"
           }
          ],
          "table": [
           {
            "cells": {
             "fill": {
              "color": "#EBF0F8"
             },
             "line": {
              "color": "white"
             }
            },
            "header": {
             "fill": {
              "color": "#C8D4E3"
             },
             "line": {
              "color": "white"
             }
            },
            "type": "table"
           }
          ]
         },
         "layout": {
          "annotationdefaults": {
           "arrowcolor": "#2a3f5f",
           "arrowhead": 0,
           "arrowwidth": 1
          },
          "autotypenumbers": "strict",
          "coloraxis": {
           "colorbar": {
            "outlinewidth": 0,
            "ticks": ""
           }
          },
          "colorscale": {
           "diverging": [
            [
             0,
             "#8e0152"
            ],
            [
             0.1,
             "#c51b7d"
            ],
            [
             0.2,
             "#de77ae"
            ],
            [
             0.3,
             "#f1b6da"
            ],
            [
             0.4,
             "#fde0ef"
            ],
            [
             0.5,
             "#f7f7f7"
            ],
            [
             0.6,
             "#e6f5d0"
            ],
            [
             0.7,
             "#b8e186"
            ],
            [
             0.8,
             "#7fbc41"
            ],
            [
             0.9,
             "#4d9221"
            ],
            [
             1,
             "#276419"
            ]
           ],
           "sequential": [
            [
             0,
             "#0d0887"
            ],
            [
             0.1111111111111111,
             "#46039f"
            ],
            [
             0.2222222222222222,
             "#7201a8"
            ],
            [
             0.3333333333333333,
             "#9c179e"
            ],
            [
             0.4444444444444444,
             "#bd3786"
            ],
            [
             0.5555555555555556,
             "#d8576b"
            ],
            [
             0.6666666666666666,
             "#ed7953"
            ],
            [
             0.7777777777777778,
             "#fb9f3a"
            ],
            [
             0.8888888888888888,
             "#fdca26"
            ],
            [
             1,
             "#f0f921"
            ]
           ],
           "sequentialminus": [
            [
             0,
             "#0d0887"
            ],
            [
             0.1111111111111111,
             "#46039f"
            ],
            [
             0.2222222222222222,
             "#7201a8"
            ],
            [
             0.3333333333333333,
             "#9c179e"
            ],
            [
             0.4444444444444444,
             "#bd3786"
            ],
            [
             0.5555555555555556,
             "#d8576b"
            ],
            [
             0.6666666666666666,
             "#ed7953"
            ],
            [
             0.7777777777777778,
             "#fb9f3a"
            ],
            [
             0.8888888888888888,
             "#fdca26"
            ],
            [
             1,
             "#f0f921"
            ]
           ]
          },
          "colorway": [
           "#636efa",
           "#EF553B",
           "#00cc96",
           "#ab63fa",
           "#FFA15A",
           "#19d3f3",
           "#FF6692",
           "#B6E880",
           "#FF97FF",
           "#FECB52"
          ],
          "font": {
           "color": "#2a3f5f"
          },
          "geo": {
           "bgcolor": "white",
           "lakecolor": "white",
           "landcolor": "#E5ECF6",
           "showlakes": true,
           "showland": true,
           "subunitcolor": "white"
          },
          "hoverlabel": {
           "align": "left"
          },
          "hovermode": "closest",
          "mapbox": {
           "style": "light"
          },
          "paper_bgcolor": "white",
          "plot_bgcolor": "#E5ECF6",
          "polar": {
           "angularaxis": {
            "gridcolor": "white",
            "linecolor": "white",
            "ticks": ""
           },
           "bgcolor": "#E5ECF6",
           "radialaxis": {
            "gridcolor": "white",
            "linecolor": "white",
            "ticks": ""
           }
          },
          "scene": {
           "xaxis": {
            "backgroundcolor": "#E5ECF6",
            "gridcolor": "white",
            "gridwidth": 2,
            "linecolor": "white",
            "showbackground": true,
            "ticks": "",
            "zerolinecolor": "white"
           },
           "yaxis": {
            "backgroundcolor": "#E5ECF6",
            "gridcolor": "white",
            "gridwidth": 2,
            "linecolor": "white",
            "showbackground": true,
            "ticks": "",
            "zerolinecolor": "white"
           },
           "zaxis": {
            "backgroundcolor": "#E5ECF6",
            "gridcolor": "white",
            "gridwidth": 2,
            "linecolor": "white",
            "showbackground": true,
            "ticks": "",
            "zerolinecolor": "white"
           }
          },
          "shapedefaults": {
           "line": {
            "color": "#2a3f5f"
           }
          },
          "ternary": {
           "aaxis": {
            "gridcolor": "white",
            "linecolor": "white",
            "ticks": ""
           },
           "baxis": {
            "gridcolor": "white",
            "linecolor": "white",
            "ticks": ""
           },
           "bgcolor": "#E5ECF6",
           "caxis": {
            "gridcolor": "white",
            "linecolor": "white",
            "ticks": ""
           }
          },
          "title": {
           "x": 0.05
          },
          "xaxis": {
           "automargin": true,
           "gridcolor": "white",
           "linecolor": "white",
           "ticks": "",
           "title": {
            "standoff": 15
           },
           "zerolinecolor": "white",
           "zerolinewidth": 2
          },
          "yaxis": {
           "automargin": true,
           "gridcolor": "white",
           "linecolor": "white",
           "ticks": "",
           "title": {
            "standoff": 15
           },
           "zerolinecolor": "white",
           "zerolinewidth": 2
          }
         }
        },
        "title": {
         "text": "Nike Factory Locations all around the World"
        }
       }
      }
     },
     "metadata": {},
     "output_type": "display_data"
    }
   ],
   "source": [
    "# geomap of factories\n",
    "fig = go.Figure(data=go.Scattergeo(\n",
    "        lon = df['Longitude'],\n",
    "        lat = df['Latitude'],\n",
    "        text = df['City'],\n",
    "        mode = 'markers'\n",
    "        ))\n",
    "\n",
    "fig.update_layout(\n",
    "        title = 'Nike Factory Locations all around the World',\n",
    "        geo_scope='world',\n",
    "    )\n",
    "fig.show()"
   ]
  },
  {
   "cell_type": "code",
   "execution_count": 167,
   "metadata": {},
   "outputs": [
    {
     "data": {
      "application/vnd.plotly.v1+json": {
       "config": {
        "plotlyServerURL": "https://plot.ly"
       },
       "data": [
        {
         "hovertemplate": "<b>%{hovertext}</b><br><br>Country=USA<br>Total Workers=%{marker.size}<br>State=%{y}<extra></extra>",
         "hovertext": [
          "OREGON",
          "ALABAMA",
          "NORTH CAROLINA",
          "TEXAS",
          "VIRGINIA",
          "OR",
          "TEXAS",
          "TEXAS",
          "INDIANA",
          "MISSISSIPPI",
          "TEXAS",
          "TENNESSEE",
          "OREGON",
          "OREGON",
          "ILLINOIS",
          "CALIFORNIA",
          "PENNSYLVANIA",
          "CALIFORNIA",
          "GA",
          "OREGON",
          "WASHINGTON",
          "OREGON",
          "VIRGINIA",
          "CALIFORNIA",
          "MASSACHUSETTS",
          "OREGON",
          "CALIFORNIA",
          "MISSOURI",
          "MISSOURI",
          "CALIFORNIA",
          "WISCONSIN",
          "NEW YORK",
          "MISSOURI",
          "TENNESSEE",
          "OREGON",
          "CALIFORNIA",
          "NORTH CAROLINA",
          "NORTH CAROLINA",
          "IOWA",
          "IOWA",
          "WISCONSIN",
          "FLORIDA",
          "IOWA",
          "PENNSYLVANIA",
          "OREGON",
          "NEW JERSEY"
         ],
         "legendgroup": "USA",
         "marker": {
          "color": "#636efa",
          "size": [
           94,
           60,
           114,
           87,
           230,
           31,
           39,
           49,
           177,
           87,
           206,
           59,
           24,
           131,
           98,
           33,
           34,
           121,
           42,
           7,
           134,
           60,
           24,
           180,
           104,
           110,
           89,
           560,
           94,
           168,
           157,
           47,
           47,
           95,
           13,
           77,
           352,
           249,
           531,
           73,
           270,
           186,
           29,
           47,
           16,
           70
          ],
          "sizemode": "area",
          "sizeref": 6.87,
          "symbol": "circle"
         },
         "mode": "markers",
         "name": "USA",
         "orientation": "h",
         "showlegend": true,
         "type": "scatter",
         "x": [
          94,
          60,
          114,
          87,
          230,
          31,
          39,
          49,
          177,
          87,
          206,
          59,
          24,
          131,
          98,
          33,
          34,
          121,
          42,
          7,
          134,
          60,
          24,
          180,
          104,
          110,
          89,
          560,
          94,
          168,
          157,
          47,
          47,
          95,
          13,
          77,
          352,
          249,
          531,
          73,
          270,
          186,
          29,
          47,
          16,
          70
         ],
         "xaxis": "x",
         "y": [
          "OREGON",
          "ALABAMA",
          "NORTH CAROLINA",
          "TEXAS",
          "VIRGINIA",
          "OR",
          "TEXAS",
          "TEXAS",
          "INDIANA",
          "MISSISSIPPI",
          "TEXAS",
          "TENNESSEE",
          "OREGON",
          "OREGON",
          "ILLINOIS",
          "CALIFORNIA",
          "PENNSYLVANIA",
          "CALIFORNIA",
          "GA",
          "OREGON",
          "WASHINGTON",
          "OREGON",
          "VIRGINIA",
          "CALIFORNIA",
          "MASSACHUSETTS",
          "OREGON",
          "CALIFORNIA",
          "MISSOURI",
          "MISSOURI",
          "CALIFORNIA",
          "WISCONSIN",
          "NEW YORK",
          "MISSOURI",
          "TENNESSEE",
          "OREGON",
          "CALIFORNIA",
          "NORTH CAROLINA",
          "NORTH CAROLINA",
          "IOWA",
          "IOWA",
          "WISCONSIN",
          "FLORIDA",
          "IOWA",
          "PENNSYLVANIA",
          "OREGON",
          "NEW JERSEY"
         ],
         "yaxis": "y"
        },
        {
         "hovertemplate": "<b>%{hovertext}</b><br><br>Country=VIETNAM<br>Total Workers=%{marker.size}<br>State=%{y}<extra></extra>",
         "hovertext": [
          "DONG NAI",
          "NINH BINH PROVINCE.",
          "VUNG TAU PROVINCE",
          "THAN HOA",
          "DONG NAI",
          null,
          "BINH DUONG",
          "TAY NINH PROVINCE",
          "HO CHI MINH",
          "DONG NAI",
          "DONG NAI",
          "TIEN GIANG",
          "BINH CHIEU WARD, THU DUC DISTRICT",
          "BINH DINH",
          "DONG NAI",
          "DONG NAI  PROVINCE",
          "DONG NAI",
          "DONG NAI",
          "DONG NAI PROVINCE",
          "BA RIA-VUNG TAU",
          "DONG NAI",
          "HOA BINH",
          "BINH DUONG",
          "BA RIA – VUNG TAU PROVINCE",
          "BINH DUONG PROVINCE",
          "BINH DUONG",
          "BINH PHUOC",
          "DONG NAI",
          "DONG NAI",
          "DONG NAI",
          "LONG AN",
          "DONG NAI",
          null,
          "LONG AN",
          "TAY NINH",
          "BINH DUONG",
          "TIEN GIANG",
          "BINH DUONG PROVINCE",
          "LONG AN",
          "BINH DUONG",
          "HA NOI",
          "TIEN GIANG",
          "HO CHI MINH",
          "QUANG NAM",
          "LONG AN",
          "HUNG YEN",
          "HO CHI MINH CITY",
          "TAY NINH",
          "DONG NAI",
          "BINH DUONG",
          "BINH DUONG PROVINCE",
          "LONG AN",
          "THANH PHO HO CHI MINH",
          "NAM DINH",
          "NAM DINH",
          "DONG NAI",
          "NAM DINH",
          "HUNG YEN",
          "HO CHI MINH",
          "AN GIANG",
          "AN GIANG",
          "DONG NAI",
          "DONG NAI",
          "DONG NAI",
          "TIEN GIANG",
          "HO CHI MINH",
          "BINH DUONG",
          "THANH PHO HO CHI MINH",
          "DONG NAI PROVINCE",
          null,
          "NAM DINH",
          null,
          "CAN THO",
          "DONG NAI",
          "TIEN GIANG",
          "DONG NAI",
          "BINH DUONG",
          "THANH PHO HO CHI MINH",
          "THANH PHO HO CHI MINH",
          "BINH DUONG PROVINCE",
          "THANH PHO HO CHI MINH",
          "THAI NGUYEN",
          "BINH DUONG",
          null,
          "BINH DUONG",
          "DONG NAI",
          "DONG NAI",
          "DONG NAI",
          "BEN TRE",
          "TIEN GIANG",
          "TIEN GIANG",
          "DONG NAI PROVINCE",
          "THANH PHO HO CHI MINH",
          "THANH HOA",
          "HO CHI MINH",
          "LONG AN PROVINCE",
          "TAY NINH",
          "DONG NAI",
          "THANH PHO HO CHI MINH",
          "HO CHI MINH CITY",
          "VINH LONG",
          "VINH LONG",
          "BA RIA- VUNG TAU",
          "THANH PHO HO CHI MINH",
          "TIEN GIANG",
          "BINH DUONG",
          "TAY NINH",
          "DONG NAI"
         ],
         "legendgroup": "VIETNAM",
         "marker": {
          "color": "#EF553B",
          "size": [
           1958,
           7795,
           5313,
           14076,
           2242,
           7530,
           0,
           8951,
           2159,
           4689,
           24732,
           2180,
           13306,
           1780,
           10541,
           9469,
           14524,
           9625,
           0,
           0,
           6331,
           1580,
           5187,
           2658,
           603,
           4345,
           3333,
           748,
           859,
           2290,
           0,
           487,
           22170,
           8627,
           0,
           0,
           1010,
           2026,
           698,
           1244,
           396,
           5192,
           7726,
           1006,
           858,
           2563,
           341,
           0,
           0,
           118,
           2132,
           1300,
           1232,
           1711,
           591,
           0,
           1501,
           576,
           630,
           718,
           813,
           17856,
           0,
           0,
           6105,
           6247,
           764,
           0,
           1189,
           149,
           2000,
           155,
           2059,
           17369,
           5088,
           10596,
           105,
           1423,
           1334,
           0,
           2034,
           1536,
           0,
           60,
           902,
           351,
           1717,
           2232,
           2291,
           1676,
           1662,
           0,
           2338,
           2249,
           2769,
           22344,
           14494,
           16821,
           171,
           2047,
           9021,
           2079,
           1481,
           9549,
           838,
           0,
           0,
           1920
          ],
          "sizemode": "area",
          "sizeref": 6.87,
          "symbol": "circle"
         },
         "mode": "markers",
         "name": "VIETNAM",
         "orientation": "h",
         "showlegend": true,
         "type": "scatter",
         "x": [
          1958,
          7795,
          5313,
          14076,
          2242,
          7530,
          0,
          8951,
          2159,
          4689,
          24732,
          2180,
          13306,
          1780,
          10541,
          9469,
          14524,
          9625,
          0,
          0,
          6331,
          1580,
          5187,
          2658,
          603,
          4345,
          3333,
          748,
          859,
          2290,
          0,
          487,
          22170,
          8627,
          0,
          0,
          1010,
          2026,
          698,
          1244,
          396,
          5192,
          7726,
          1006,
          858,
          2563,
          341,
          0,
          0,
          118,
          2132,
          1300,
          1232,
          1711,
          591,
          0,
          1501,
          576,
          630,
          718,
          813,
          17856,
          0,
          0,
          6105,
          6247,
          764,
          0,
          1189,
          149,
          2000,
          155,
          2059,
          17369,
          5088,
          10596,
          105,
          1423,
          1334,
          0,
          2034,
          1536,
          0,
          60,
          902,
          351,
          1717,
          2232,
          2291,
          1676,
          1662,
          0,
          2338,
          2249,
          2769,
          22344,
          14494,
          16821,
          171,
          2047,
          9021,
          2079,
          1481,
          9549,
          838,
          0,
          0,
          1920
         ],
         "xaxis": "x",
         "y": [
          "DONG NAI",
          "NINH BINH PROVINCE.",
          "VUNG TAU PROVINCE",
          "THAN HOA",
          "DONG NAI",
          null,
          "BINH DUONG",
          "TAY NINH PROVINCE",
          "HO CHI MINH",
          "DONG NAI",
          "DONG NAI",
          "TIEN GIANG",
          "BINH CHIEU WARD, THU DUC DISTRICT",
          "BINH DINH",
          "DONG NAI",
          "DONG NAI  PROVINCE",
          "DONG NAI",
          "DONG NAI",
          "DONG NAI PROVINCE",
          "BA RIA-VUNG TAU",
          "DONG NAI",
          "HOA BINH",
          "BINH DUONG",
          "BA RIA – VUNG TAU PROVINCE",
          "BINH DUONG PROVINCE",
          "BINH DUONG",
          "BINH PHUOC",
          "DONG NAI",
          "DONG NAI",
          "DONG NAI",
          "LONG AN",
          "DONG NAI",
          null,
          "LONG AN",
          "TAY NINH",
          "BINH DUONG",
          "TIEN GIANG",
          "BINH DUONG PROVINCE",
          "LONG AN",
          "BINH DUONG",
          "HA NOI",
          "TIEN GIANG",
          "HO CHI MINH",
          "QUANG NAM",
          "LONG AN",
          "HUNG YEN",
          "HO CHI MINH CITY",
          "TAY NINH",
          "DONG NAI",
          "BINH DUONG",
          "BINH DUONG PROVINCE",
          "LONG AN",
          "THANH PHO HO CHI MINH",
          "NAM DINH",
          "NAM DINH",
          "DONG NAI",
          "NAM DINH",
          "HUNG YEN",
          "HO CHI MINH",
          "AN GIANG",
          "AN GIANG",
          "DONG NAI",
          "DONG NAI",
          "DONG NAI",
          "TIEN GIANG",
          "HO CHI MINH",
          "BINH DUONG",
          "THANH PHO HO CHI MINH",
          "DONG NAI PROVINCE",
          null,
          "NAM DINH",
          null,
          "CAN THO",
          "DONG NAI",
          "TIEN GIANG",
          "DONG NAI",
          "BINH DUONG",
          "THANH PHO HO CHI MINH",
          "THANH PHO HO CHI MINH",
          "BINH DUONG PROVINCE",
          "THANH PHO HO CHI MINH",
          "THAI NGUYEN",
          "BINH DUONG",
          null,
          "BINH DUONG",
          "DONG NAI",
          "DONG NAI",
          "DONG NAI",
          "BEN TRE",
          "TIEN GIANG",
          "TIEN GIANG",
          "DONG NAI PROVINCE",
          "THANH PHO HO CHI MINH",
          "THANH HOA",
          "HO CHI MINH",
          "LONG AN PROVINCE",
          "TAY NINH",
          "DONG NAI",
          "THANH PHO HO CHI MINH",
          "HO CHI MINH CITY",
          "VINH LONG",
          "VINH LONG",
          "BA RIA- VUNG TAU",
          "THANH PHO HO CHI MINH",
          "TIEN GIANG",
          "BINH DUONG",
          "TAY NINH",
          "DONG NAI"
         ],
         "yaxis": "y"
        },
        {
         "hovertemplate": "<b>%{hovertext}</b><br><br>Country=GUATEMALA<br>Total Workers=%{marker.size}<br>State=%{y}<extra></extra>",
         "hovertext": [
          "GUATEMALA",
          "GUATEMALA",
          null,
          null
         ],
         "legendgroup": "GUATEMALA",
         "marker": {
          "color": "#00cc96",
          "size": [
           191,
           2305,
           498,
           634
          ],
          "sizemode": "area",
          "sizeref": 6.87,
          "symbol": "circle"
         },
         "mode": "markers",
         "name": "GUATEMALA",
         "orientation": "h",
         "showlegend": true,
         "type": "scatter",
         "x": [
          191,
          2305,
          498,
          634
         ],
         "xaxis": "x",
         "y": [
          "GUATEMALA",
          "GUATEMALA",
          null,
          null
         ],
         "yaxis": "y"
        },
        {
         "hovertemplate": "<b>%{hovertext}</b><br><br>Country=GEORGIA<br>Total Workers=%{marker.size}<br>State=%{y}<extra></extra>",
         "hovertext": [
          "SAMEGRELO-ZEMO SVANETI",
          "ADJARA"
         ],
         "legendgroup": "GEORGIA",
         "marker": {
          "color": "#ab63fa",
          "size": [
           616,
           749
          ],
          "sizemode": "area",
          "sizeref": 6.87,
          "symbol": "circle"
         },
         "mode": "markers",
         "name": "GEORGIA",
         "orientation": "h",
         "showlegend": true,
         "type": "scatter",
         "x": [
          616,
          749
         ],
         "xaxis": "x",
         "y": [
          "SAMEGRELO-ZEMO SVANETI",
          "ADJARA"
         ],
         "yaxis": "y"
        },
        {
         "hovertemplate": "<b>%{hovertext}</b><br><br>Country=ARGENTINA<br>Total Workers=%{marker.size}<br>State=%{y}<extra></extra>",
         "hovertext": [
          "BUENOS AIRES ",
          "MENDOZA",
          "ARGENTINA",
          "MISIONES",
          "BUENOS AIRES",
          "BERAZATEGUI",
          "BUENOS AIRES",
          "BUENOS AIRES",
          "BUENOS AIRES",
          "BUENOS AIRES",
          "BUENOS AIRES",
          "BUENOS AIRES",
          "BUENOS AIRES",
          "BUENOS AIRES",
          "BUENOS AIRES",
          "BUENOS AIRES"
         ],
         "legendgroup": "ARGENTINA",
         "marker": {
          "color": "#FFA15A",
          "size": [
           7,
           35,
           152,
           1251,
           93,
           20,
           44,
           800,
           11,
           398,
           323,
           264,
           145,
           185,
           75,
           28
          ],
          "sizemode": "area",
          "sizeref": 6.87,
          "symbol": "circle"
         },
         "mode": "markers",
         "name": "ARGENTINA",
         "orientation": "h",
         "showlegend": true,
         "type": "scatter",
         "x": [
          7,
          35,
          152,
          1251,
          93,
          20,
          44,
          800,
          11,
          398,
          323,
          264,
          145,
          185,
          75,
          28
         ],
         "xaxis": "x",
         "y": [
          "BUENOS AIRES ",
          "MENDOZA",
          "ARGENTINA",
          "MISIONES",
          "BUENOS AIRES",
          "BERAZATEGUI",
          "BUENOS AIRES",
          "BUENOS AIRES",
          "BUENOS AIRES",
          "BUENOS AIRES",
          "BUENOS AIRES",
          "BUENOS AIRES",
          "BUENOS AIRES",
          "BUENOS AIRES",
          "BUENOS AIRES",
          "BUENOS AIRES"
         ],
         "yaxis": "y"
        },
        {
         "hovertemplate": "<b>%{hovertext}</b><br><br>Country=CHINA<br>Total Workers=%{marker.size}<br>State=%{y}<extra></extra>",
         "hovertext": [
          "ANHUI",
          "JIANGSU",
          "GUANGDONG",
          "JIANGSU",
          "JIANGXI",
          "GUANGDONG",
          "GUANGDONG",
          "GUANGDONG",
          "GUANGDONG",
          "GUANGDONG",
          "GUANGDONG",
          "GUANGDONG",
          "SHENZHEN",
          "GUANGDONG",
          "JIANGXI",
          "SHANGHAI",
          "JIANGSU",
          "JIANGSU",
          "GUANGDONG",
          "GUANGDONG",
          "JIANGSU",
          "FUJIAN",
          "FUJIAN",
          "FUJIAN",
          "FUJIAN",
          "FUJIAN",
          "GUANGDONG",
          "GUANGDONG",
          "ZHEJIANG",
          "JIANGSU",
          "FUJIAN",
          "JIANGSU",
          "GUANGDONG",
          "GUANGDONG",
          "GUANGDONG",
          "GUANGDONG",
          "JIANGSU",
          "JIANGSU",
          "JIANGSU",
          "JIANGSU",
          "JIANGXI",
          "ZHEJIANG",
          "ZHEJIANG",
          "ZHEJIANG",
          "SHANDONG",
          "JIANGSU",
          "GUANGDONG",
          "GUANGDONG",
          "GUANGDONG",
          "GUANGDONG",
          "GUANGDONG",
          "GUANGDONG",
          "GUANGDONG",
          "ZHEJIANG",
          "JIANGSU",
          "ZHEJIANG",
          "ZHEJIANG",
          "ZHEJIANG",
          "ZHEJIANG",
          "ZHEJIANG",
          "ZHEJIANG",
          "ZHEJIANG",
          "ZHEJIANG",
          "ZHEJIANG",
          "LIAONING",
          "JIANGSU",
          "GUANGDONG",
          "GUANGDONG",
          "ZHEJIANG",
          "JIANGXI",
          "GUANGDONG",
          "PRC",
          "GUANGDONG",
          "SHANDONG",
          "SHANDONG",
          "SHANDONG",
          "SHANDONG",
          "SHANDONG",
          "SHANDONG",
          "SHANDONG",
          "FUJIAN",
          "FUJIAN",
          "JIANGSU",
          "JIANGSU",
          "JIANGSU",
          "GUANGDONG",
          "ZHEJIANG",
          "GUANGDONG ,  CHINA",
          "GUANGDONG",
          "JIANGXI",
          "SHANGHAI",
          "HUNAN",
          "HUNAN",
          "GUANGDONG",
          "GUANGDONG",
          "GUANGDONG",
          "GUANGDONG",
          "GUANGDONG",
          "HUNAN",
          "JIANGSU",
          "JIANGSU",
          "JIANGSU",
          "JIANGSU",
          "JIANGSU",
          "JIANGSU",
          "JIANGSU",
          "FUJIAN",
          "GUANGDONG",
          "GUANGXI",
          "JIANGSU",
          "JIANGSU",
          "GUANGDONG",
          "ZHEJIANG",
          "SHENZHEN",
          "GUANGXI ZHUANG",
          "GUANGDONG",
          "GUANGDONG",
          "JIANGSU",
          "JIANGSU",
          "GUANGDONG",
          "JIANGXI PROVINCE",
          "HUNAN",
          "GUANGDONG",
          "SHANDONG",
          "JIANGSU",
          "JIANGSU",
          "HUNAN",
          "ZHEJIANG",
          "ZHEJIANG",
          "ZHEJIANG",
          "JIANGSU",
          "GUANGDONG",
          "GUANGDONG",
          "GUANGDONG",
          "ZHEJIANG"
         ],
         "legendgroup": "CHINA",
         "marker": {
          "color": "#19d3f3",
          "size": [
           372,
           899,
           194,
           815,
           54,
           1985,
           96,
           369,
           920,
           186,
           400,
           147,
           18,
           692,
           2439,
           0,
           0,
           1535,
           6325,
           370,
           0,
           4008,
           3270,
           1244,
           4974,
           200,
           0,
           1064,
           50,
           1067,
           113,
           811,
           329,
           286,
           101,
           166,
           1435,
           407,
           214,
           299,
           2551,
           22,
           1698,
           145,
           1192,
           972,
           0,
           452,
           5684,
           7517,
           2914,
           772,
           780,
           101,
           608,
           115,
           263,
           2143,
           124,
           0,
           1979,
           4183,
           3265,
           414,
           570,
           207,
           500,
           2096,
           125,
           1401,
           1063,
           158,
           0,
           573,
           4685,
           726,
           534,
           4323,
           903,
           2250,
           50,
           57,
           735,
           0,
           714,
           1417,
           361,
           53,
           0,
           9751,
           33,
           1037,
           5557,
           42,
           57,
           155,
           1132,
           11778,
           3735,
           344,
           279,
           30,
           51,
           563,
           70,
           67,
           0,
           560,
           0,
           0,
           85,
           198,
           930,
           1639,
           417,
           801,
           4341,
           86,
           2953,
           114,
           3218,
           1157,
           2515,
           2087,
           241,
           85,
           268,
           46,
           207,
           1228,
           553,
           658,
           893,
           2434,
           116
          ],
          "sizemode": "area",
          "sizeref": 6.87,
          "symbol": "circle"
         },
         "mode": "markers",
         "name": "CHINA",
         "orientation": "h",
         "showlegend": true,
         "type": "scatter",
         "x": [
          372,
          899,
          194,
          815,
          54,
          1985,
          96,
          369,
          920,
          186,
          400,
          147,
          18,
          692,
          2439,
          0,
          0,
          1535,
          6325,
          370,
          0,
          4008,
          3270,
          1244,
          4974,
          200,
          0,
          1064,
          50,
          1067,
          113,
          811,
          329,
          286,
          101,
          166,
          1435,
          407,
          214,
          299,
          2551,
          22,
          1698,
          145,
          1192,
          972,
          0,
          452,
          5684,
          7517,
          2914,
          772,
          780,
          101,
          608,
          115,
          263,
          2143,
          124,
          0,
          1979,
          4183,
          3265,
          414,
          570,
          207,
          500,
          2096,
          125,
          1401,
          1063,
          158,
          0,
          573,
          4685,
          726,
          534,
          4323,
          903,
          2250,
          50,
          57,
          735,
          0,
          714,
          1417,
          361,
          53,
          0,
          9751,
          33,
          1037,
          5557,
          42,
          57,
          155,
          1132,
          11778,
          3735,
          344,
          279,
          30,
          51,
          563,
          70,
          67,
          0,
          560,
          0,
          0,
          85,
          198,
          930,
          1639,
          417,
          801,
          4341,
          86,
          2953,
          114,
          3218,
          1157,
          2515,
          2087,
          241,
          85,
          268,
          46,
          207,
          1228,
          553,
          658,
          893,
          2434,
          116
         ],
         "xaxis": "x",
         "y": [
          "ANHUI",
          "JIANGSU",
          "GUANGDONG",
          "JIANGSU",
          "JIANGXI",
          "GUANGDONG",
          "GUANGDONG",
          "GUANGDONG",
          "GUANGDONG",
          "GUANGDONG",
          "GUANGDONG",
          "GUANGDONG",
          "SHENZHEN",
          "GUANGDONG",
          "JIANGXI",
          "SHANGHAI",
          "JIANGSU",
          "JIANGSU",
          "GUANGDONG",
          "GUANGDONG",
          "JIANGSU",
          "FUJIAN",
          "FUJIAN",
          "FUJIAN",
          "FUJIAN",
          "FUJIAN",
          "GUANGDONG",
          "GUANGDONG",
          "ZHEJIANG",
          "JIANGSU",
          "FUJIAN",
          "JIANGSU",
          "GUANGDONG",
          "GUANGDONG",
          "GUANGDONG",
          "GUANGDONG",
          "JIANGSU",
          "JIANGSU",
          "JIANGSU",
          "JIANGSU",
          "JIANGXI",
          "ZHEJIANG",
          "ZHEJIANG",
          "ZHEJIANG",
          "SHANDONG",
          "JIANGSU",
          "GUANGDONG",
          "GUANGDONG",
          "GUANGDONG",
          "GUANGDONG",
          "GUANGDONG",
          "GUANGDONG",
          "GUANGDONG",
          "ZHEJIANG",
          "JIANGSU",
          "ZHEJIANG",
          "ZHEJIANG",
          "ZHEJIANG",
          "ZHEJIANG",
          "ZHEJIANG",
          "ZHEJIANG",
          "ZHEJIANG",
          "ZHEJIANG",
          "ZHEJIANG",
          "LIAONING",
          "JIANGSU",
          "GUANGDONG",
          "GUANGDONG",
          "ZHEJIANG",
          "JIANGXI",
          "GUANGDONG",
          "PRC",
          "GUANGDONG",
          "SHANDONG",
          "SHANDONG",
          "SHANDONG",
          "SHANDONG",
          "SHANDONG",
          "SHANDONG",
          "SHANDONG",
          "FUJIAN",
          "FUJIAN",
          "JIANGSU",
          "JIANGSU",
          "JIANGSU",
          "GUANGDONG",
          "ZHEJIANG",
          "GUANGDONG ,  CHINA",
          "GUANGDONG",
          "JIANGXI",
          "SHANGHAI",
          "HUNAN",
          "HUNAN",
          "GUANGDONG",
          "GUANGDONG",
          "GUANGDONG",
          "GUANGDONG",
          "GUANGDONG",
          "HUNAN",
          "JIANGSU",
          "JIANGSU",
          "JIANGSU",
          "JIANGSU",
          "JIANGSU",
          "JIANGSU",
          "JIANGSU",
          "FUJIAN",
          "GUANGDONG",
          "GUANGXI",
          "JIANGSU",
          "JIANGSU",
          "GUANGDONG",
          "ZHEJIANG",
          "SHENZHEN",
          "GUANGXI ZHUANG",
          "GUANGDONG",
          "GUANGDONG",
          "JIANGSU",
          "JIANGSU",
          "GUANGDONG",
          "JIANGXI PROVINCE",
          "HUNAN",
          "GUANGDONG",
          "SHANDONG",
          "JIANGSU",
          "JIANGSU",
          "HUNAN",
          "ZHEJIANG",
          "ZHEJIANG",
          "ZHEJIANG",
          "JIANGSU",
          "GUANGDONG",
          "GUANGDONG",
          "GUANGDONG",
          "ZHEJIANG"
         ],
         "yaxis": "y"
        },
        {
         "hovertemplate": "<b>%{hovertext}</b><br><br>Country=BRAZIL<br>Total Workers=%{marker.size}<br>State=%{y}<extra></extra>",
         "hovertext": [
          "RS",
          "RS",
          "RS",
          "ES",
          "RS",
          "RS",
          "CEARÁ",
          "RIO GRANDE DO SUL",
          "CEARA",
          "RS",
          "BAHIA - BA",
          "RS",
          "BAHIA",
          "BAHIA",
          "SC",
          "RIO GRANDE DO SUL",
          "SAN PAULO BRAZIL",
          "SC",
          "SP",
          "RS",
          "SANTA CATARINA",
          "SAO PAULO",
          "RIO GRANDE DO SUL",
          "RIO GRANDE DO SUL",
          "RIO GRANDE DO SUL",
          "SANTA CATARINA",
          "RIO GRANDE DO SUL",
          "RS"
         ],
         "legendgroup": "BRAZIL",
         "marker": {
          "color": "#FF6692",
          "size": [
           490,
           34,
           42,
           64,
           83,
           31,
           4440,
           118,
           1972,
           873,
           1289,
           32,
           3500,
           2589,
           562,
           176,
           90,
           44,
           52,
           89,
           285,
           39,
           568,
           0,
           164,
           308,
           66,
           95
          ],
          "sizemode": "area",
          "sizeref": 6.87,
          "symbol": "circle"
         },
         "mode": "markers",
         "name": "BRAZIL",
         "orientation": "h",
         "showlegend": true,
         "type": "scatter",
         "x": [
          490,
          34,
          42,
          64,
          83,
          31,
          4440,
          118,
          1972,
          873,
          1289,
          32,
          3500,
          2589,
          562,
          176,
          90,
          44,
          52,
          89,
          285,
          39,
          568,
          0,
          164,
          308,
          66,
          95
         ],
         "xaxis": "x",
         "y": [
          "RS",
          "RS",
          "RS",
          "ES",
          "RS",
          "RS",
          "CEARÁ",
          "RIO GRANDE DO SUL",
          "CEARA",
          "RS",
          "BAHIA - BA",
          "RS",
          "BAHIA",
          "BAHIA",
          "SC",
          "RIO GRANDE DO SUL",
          "SAN PAULO BRAZIL",
          "SC",
          "SP",
          "RS",
          "SANTA CATARINA",
          "SAO PAULO",
          "RIO GRANDE DO SUL",
          "RIO GRANDE DO SUL",
          "RIO GRANDE DO SUL",
          "SANTA CATARINA",
          "RIO GRANDE DO SUL",
          "RS"
         ],
         "yaxis": "y"
        },
        {
         "hovertemplate": "<b>%{hovertext}</b><br><br>Country=NICARAGUA<br>Total Workers=%{marker.size}<br>State=%{y}<extra></extra>",
         "hovertext": [
          null,
          null
         ],
         "legendgroup": "NICARAGUA",
         "marker": {
          "color": "#B6E880",
          "size": [
           3963,
           1813
          ],
          "sizemode": "area",
          "sizeref": 6.87,
          "symbol": "circle"
         },
         "mode": "markers",
         "name": "NICARAGUA",
         "orientation": "h",
         "showlegend": true,
         "type": "scatter",
         "x": [
          3963,
          1813
         ],
         "xaxis": "x",
         "y": [
          null,
          null
         ],
         "yaxis": "y"
        },
        {
         "hovertemplate": "<b>%{hovertext}</b><br><br>Country=SRI LANKA<br>Total Workers=%{marker.size}<br>State=%{y}<extra></extra>",
         "hovertext": [
          "SRI LANKA",
          "SRI LANKA",
          "WESTERN PROVINCE",
          "WESTERN PROVINCE",
          "SRI LANKA",
          null,
          "NORTH  WESTURN",
          "SABARAGAMUWA",
          "WESTERN PROVINCE",
          "CENTRAL PROVINCE",
          "WESTERN PROVINCE",
          "WESTERN",
          "SRI LANKA",
          "SRI LANKA",
          "SRI LANKA",
          "SRI LANKA",
          "UVA",
          "SRI LANKA"
         ],
         "legendgroup": "SRI LANKA",
         "marker": {
          "color": "#FF97FF",
          "size": [
           903,
           1090,
           5903,
           2193,
           1018,
           1035,
           955,
           444,
           667,
           1608,
           1219,
           1995,
           777,
           1645,
           1814,
           2578,
           1651,
           597
          ],
          "sizemode": "area",
          "sizeref": 6.87,
          "symbol": "circle"
         },
         "mode": "markers",
         "name": "SRI LANKA",
         "orientation": "h",
         "showlegend": true,
         "type": "scatter",
         "x": [
          903,
          1090,
          5903,
          2193,
          1018,
          1035,
          955,
          444,
          667,
          1608,
          1219,
          1995,
          777,
          1645,
          1814,
          2578,
          1651,
          597
         ],
         "xaxis": "x",
         "y": [
          "SRI LANKA",
          "SRI LANKA",
          "WESTERN PROVINCE",
          "WESTERN PROVINCE",
          "SRI LANKA",
          null,
          "NORTH  WESTURN",
          "SABARAGAMUWA",
          "WESTERN PROVINCE",
          "CENTRAL PROVINCE",
          "WESTERN PROVINCE",
          "WESTERN",
          "SRI LANKA",
          "SRI LANKA",
          "SRI LANKA",
          "SRI LANKA",
          "UVA",
          "SRI LANKA"
         ],
         "yaxis": "y"
        },
        {
         "hovertemplate": "<b>%{hovertext}</b><br><br>Country=HONDURAS<br>Total Workers=%{marker.size}<br>State=%{y}<extra></extra>",
         "hovertext": [
          "SANTA BARBARA",
          "CORTES",
          "COLON",
          "YORO",
          "CORTES",
          "CORTÉS"
         ],
         "legendgroup": "HONDURAS",
         "marker": {
          "color": "#FECB52",
          "size": [
           0,
           2197,
           4686,
           2858,
           2197,
           3709
          ],
          "sizemode": "area",
          "sizeref": 6.87,
          "symbol": "circle"
         },
         "mode": "markers",
         "name": "HONDURAS",
         "orientation": "h",
         "showlegend": true,
         "type": "scatter",
         "x": [
          0,
          2197,
          4686,
          2858,
          2197,
          3709
         ],
         "xaxis": "x",
         "y": [
          "SANTA BARBARA",
          "CORTES",
          "COLON",
          "YORO",
          "CORTES",
          "CORTÉS"
         ],
         "yaxis": "y"
        },
        {
         "hovertemplate": "<b>%{hovertext}</b><br><br>Country=MOLDOVA<br>Total Workers=%{marker.size}<br>State=%{y}<extra></extra>",
         "hovertext": [
          null,
          null,
          "CEADIR LUNGA ",
          null
         ],
         "legendgroup": "MOLDOVA",
         "marker": {
          "color": "#636efa",
          "size": [
           335,
           387,
           283,
           354
          ],
          "sizemode": "area",
          "sizeref": 6.87,
          "symbol": "circle"
         },
         "mode": "markers",
         "name": "MOLDOVA",
         "orientation": "h",
         "showlegend": true,
         "type": "scatter",
         "x": [
          335,
          387,
          283,
          354
         ],
         "xaxis": "x",
         "y": [
          null,
          null,
          "CEADIR LUNGA ",
          null
         ],
         "yaxis": "y"
        },
        {
         "hovertemplate": "<b>%{hovertext}</b><br><br>Country=JAPAN<br>Total Workers=%{marker.size}<br>State=%{y}<extra></extra>",
         "hovertext": [
          "NARA PREFECTURE",
          "GUMMA",
          "KYOTO-FU",
          "NARA",
          "KAGAWA",
          "NARA",
          "NARA",
          "CHIBA",
          "KUMAMOTO",
          "KUMAMOTO",
          "IBARAKI-PREF",
          "TOYAMA",
          "TOYAMA",
          "GUNMA-KEN"
         ],
         "legendgroup": "JAPAN",
         "marker": {
          "color": "#EF553B",
          "size": [
           6,
           95,
           5,
           52,
           68,
           25,
           74,
           36,
           40,
           40,
           130,
           12,
           4,
           37
          ],
          "sizemode": "area",
          "sizeref": 6.87,
          "symbol": "circle"
         },
         "mode": "markers",
         "name": "JAPAN",
         "orientation": "h",
         "showlegend": true,
         "type": "scatter",
         "x": [
          6,
          95,
          5,
          52,
          68,
          25,
          74,
          36,
          40,
          40,
          130,
          12,
          4,
          37
         ],
         "xaxis": "x",
         "y": [
          "NARA PREFECTURE",
          "GUMMA",
          "KYOTO-FU",
          "NARA",
          "KAGAWA",
          "NARA",
          "NARA",
          "CHIBA",
          "KUMAMOTO",
          "KUMAMOTO",
          "IBARAKI-PREF",
          "TOYAMA",
          "TOYAMA",
          "GUNMA-KEN"
         ],
         "yaxis": "y"
        },
        {
         "hovertemplate": "<b>%{hovertext}</b><br><br>Country=NETHERLANDS<br>Total Workers=%{marker.size}<br>State=%{y}<extra></extra>",
         "hovertext": [
          null,
          null
         ],
         "legendgroup": "NETHERLANDS",
         "marker": {
          "color": "#00cc96",
          "size": [
           15,
           20
          ],
          "sizemode": "area",
          "sizeref": 6.87,
          "symbol": "circle"
         },
         "mode": "markers",
         "name": "NETHERLANDS",
         "orientation": "h",
         "showlegend": true,
         "type": "scatter",
         "x": [
          15,
          20
         ],
         "xaxis": "x",
         "y": [
          null,
          null
         ],
         "yaxis": "y"
        },
        {
         "hovertemplate": "<b>%{hovertext}</b><br><br>Country=SOUTH KOREA<br>Total Workers=%{marker.size}<br>State=%{y}<extra></extra>",
         "hovertext": [
          "BUSAN",
          "KYUNGGI-DO",
          "KOREA",
          "BUSAN",
          "GYEONGGI",
          "CHOONGNAM",
          "BUSAN",
          "BUSAN",
          "SOUTH GYEONGSANG",
          "GYUNGNAM",
          "BUSAN",
          "KOREA",
          null,
          "BUSAN",
          "SOUTH GYEONGSANG"
         ],
         "legendgroup": "SOUTH KOREA",
         "marker": {
          "color": "#ab63fa",
          "size": [
           0,
           10,
           824,
           150,
           26,
           37,
           0,
           640,
           0,
           770,
           0,
           255,
           0,
           0,
           0
          ],
          "sizemode": "area",
          "sizeref": 6.87,
          "symbol": "circle"
         },
         "mode": "markers",
         "name": "SOUTH KOREA",
         "orientation": "h",
         "showlegend": true,
         "type": "scatter",
         "x": [
          0,
          10,
          824,
          150,
          26,
          37,
          0,
          640,
          0,
          770,
          0,
          255,
          0,
          0,
          0
         ],
         "xaxis": "x",
         "y": [
          "BUSAN",
          "KYUNGGI-DO",
          "KOREA",
          "BUSAN",
          "GYEONGGI",
          "CHOONGNAM",
          "BUSAN",
          "BUSAN",
          "SOUTH GYEONGSANG",
          "GYUNGNAM",
          "BUSAN",
          "KOREA",
          null,
          "BUSAN",
          "SOUTH GYEONGSANG"
         ],
         "yaxis": "y"
        },
        {
         "hovertemplate": "<b>%{hovertext}</b><br><br>Country=INDONESIA<br>Total Workers=%{marker.size}<br>State=%{y}<extra></extra>",
         "hovertext": [
          "BANTEN",
          "WEST JAVA",
          "JAWA BARAT",
          "JAKARTA",
          "JAWA TENGAH",
          "DI YOGYAKARTA",
          "BANTEN",
          "BANTEN",
          "JAWA BARAT",
          "DKI JAKARTA",
          "JAWA BARAT (WEST JAVA)",
          "DKI JAKARTA",
          "BANTEN",
          "WEST JAVA",
          "DKI JAKARTA",
          "WEST JAVA",
          "BANTEN",
          "WEST JAVA",
          "WEST JAVA",
          "KECAMATAN BERGAS",
          "BANTEN",
          "JAWA TENGAH",
          "BANTEN",
          "WEST JAVA",
          "CENTRAL JAVA",
          "CENTRAL JAVA",
          "WEST JAVA",
          "BANTEN",
          "BANTEN",
          "BANTEN",
          "CENTRAL JAVA",
          "BANTEN",
          "BANTEN",
          "WEST JAVA",
          "JAWA BARAT, WEST JAVA",
          "WEST JAVA",
          "JAWA TENGAH",
          "CENTRAL JAVA",
          "JAWA BARAT",
          "JAWA BARAT",
          "WEST JAVA",
          "JAWA BARAT",
          "SERANG",
          "BANTEN",
          "WEST JAVA"
         ],
         "legendgroup": "INDONESIA",
         "marker": {
          "color": "#FFA15A",
          "size": [
           0,
           13425,
           0,
           1585,
           2629,
           159,
           8336,
           2344,
           6239,
           1178,
           2836,
           633,
           2693,
           7123,
           1474,
           2576,
           12768,
           1038,
           562,
           2321,
           19564,
           2008,
           7918,
           19038,
           672,
           3355,
           1621,
           1561,
           1158,
           15213,
           1729,
           0,
           0,
           2671,
           992,
           12686,
           2307,
           5138,
           7441,
           1922,
           16485,
           463,
           0,
           0,
           85
          ],
          "sizemode": "area",
          "sizeref": 6.87,
          "symbol": "circle"
         },
         "mode": "markers",
         "name": "INDONESIA",
         "orientation": "h",
         "showlegend": true,
         "type": "scatter",
         "x": [
          0,
          13425,
          0,
          1585,
          2629,
          159,
          8336,
          2344,
          6239,
          1178,
          2836,
          633,
          2693,
          7123,
          1474,
          2576,
          12768,
          1038,
          562,
          2321,
          19564,
          2008,
          7918,
          19038,
          672,
          3355,
          1621,
          1561,
          1158,
          15213,
          1729,
          0,
          0,
          2671,
          992,
          12686,
          2307,
          5138,
          7441,
          1922,
          16485,
          463,
          0,
          0,
          85
         ],
         "xaxis": "x",
         "y": [
          "BANTEN",
          "WEST JAVA",
          "JAWA BARAT",
          "JAKARTA",
          "JAWA TENGAH",
          "DI YOGYAKARTA",
          "BANTEN",
          "BANTEN",
          "JAWA BARAT",
          "DKI JAKARTA",
          "JAWA BARAT (WEST JAVA)",
          "DKI JAKARTA",
          "BANTEN",
          "WEST JAVA",
          "DKI JAKARTA",
          "WEST JAVA",
          "BANTEN",
          "WEST JAVA",
          "WEST JAVA",
          "KECAMATAN BERGAS",
          "BANTEN",
          "JAWA TENGAH",
          "BANTEN",
          "WEST JAVA",
          "CENTRAL JAVA",
          "CENTRAL JAVA",
          "WEST JAVA",
          "BANTEN",
          "BANTEN",
          "BANTEN",
          "CENTRAL JAVA",
          "BANTEN",
          "BANTEN",
          "WEST JAVA",
          "JAWA BARAT, WEST JAVA",
          "WEST JAVA",
          "JAWA TENGAH",
          "CENTRAL JAVA",
          "JAWA BARAT",
          "JAWA BARAT",
          "WEST JAVA",
          "JAWA BARAT",
          "SERANG",
          "BANTEN",
          "WEST JAVA"
         ],
         "yaxis": "y"
        },
        {
         "hovertemplate": "<b>%{hovertext}</b><br><br>Country=ITALY<br>Total Workers=%{marker.size}<br>State=%{y}<extra></extra>",
         "hovertext": [
          "LOMBARDIA",
          "ABRUZZI",
          "VERONA",
          "VENETO",
          "TV",
          "MARCHE",
          null,
          "VENETO",
          "VENETO",
          "VENETO",
          "PIEMONTE",
          "VERESE",
          "LOMBARDIA",
          null,
          "TREVISO"
         ],
         "legendgroup": "ITALY",
         "marker": {
          "color": "#19d3f3",
          "size": [
           16,
           360,
           230,
           51,
           14,
           13,
           18,
           15,
           23,
           315,
           95,
           28,
           103,
           25,
           18
          ],
          "sizemode": "area",
          "sizeref": 6.87,
          "symbol": "circle"
         },
         "mode": "markers",
         "name": "ITALY",
         "orientation": "h",
         "showlegend": true,
         "type": "scatter",
         "x": [
          16,
          360,
          230,
          51,
          14,
          13,
          18,
          15,
          23,
          315,
          95,
          28,
          103,
          25,
          18
         ],
         "xaxis": "x",
         "y": [
          "LOMBARDIA",
          "ABRUZZI",
          "VERONA",
          "VENETO",
          "TV",
          "MARCHE",
          null,
          "VENETO",
          "VENETO",
          "VENETO",
          "PIEMONTE",
          "VERESE",
          "LOMBARDIA",
          null,
          "TREVISO"
         ],
         "yaxis": "y"
        },
        {
         "hovertemplate": "<b>%{hovertext}</b><br><br>Country=TAIWAN<br>Total Workers=%{marker.size}<br>State=%{y}<extra></extra>",
         "hovertext": [
          "T'AI-PEI",
          "T'AI-PEI",
          "KAO-HSIUNG",
          null,
          "TAIWAN, R.O.C.",
          "T'AI-PEI",
          "T'AI-WAN",
          "T'AI-WAN",
          "T'AI-PEI",
          "YUNLIN COUNTY",
          "T'AI-WAN",
          null,
          "T'AI-PEI",
          "TAIWAN",
          "T'AI-WAN",
          "SHE-TOU SHANG",
          "T'AI-WAN",
          null,
          "T'AI-WAN",
          "T'AI-WAN",
          "T'AI-WAN",
          "TAIWAN",
          "T'AI-WAN",
          "T'AI-WAN",
          "T'AI-WAN",
          null,
          "T'AI-WAN",
          "T'AI-WAN",
          "T'AI-WAN",
          null,
          "T'AI-WAN",
          "T'AI-WAN",
          "T'AI-WAN",
          "T'AI-WAN",
          "T'AI-PEI",
          "TAIWAN",
          "T'AI-WAN",
          "TAICHUNG",
          "T'AI-WAN"
         ],
         "legendgroup": "TAIWAN",
         "marker": {
          "color": "#FF6692",
          "size": [
           0,
           0,
           0,
           50,
           94,
           0,
           0,
           0,
           0,
           1824,
           0,
           0,
           0,
           0,
           200,
           0,
           145,
           546,
           0,
           12,
           0,
           1713,
           0,
           0,
           0,
           0,
           627,
           85,
           0,
           0,
           0,
           0,
           0,
           0,
           0,
           11,
           30,
           46,
           245
          ],
          "sizemode": "area",
          "sizeref": 6.87,
          "symbol": "circle"
         },
         "mode": "markers",
         "name": "TAIWAN",
         "orientation": "h",
         "showlegend": true,
         "type": "scatter",
         "x": [
          0,
          0,
          0,
          50,
          94,
          0,
          0,
          0,
          0,
          1824,
          0,
          0,
          0,
          0,
          200,
          0,
          145,
          546,
          0,
          12,
          0,
          1713,
          0,
          0,
          0,
          0,
          627,
          85,
          0,
          0,
          0,
          0,
          0,
          0,
          0,
          11,
          30,
          46,
          245
         ],
         "xaxis": "x",
         "y": [
          "T'AI-PEI",
          "T'AI-PEI",
          "KAO-HSIUNG",
          null,
          "TAIWAN, R.O.C.",
          "T'AI-PEI",
          "T'AI-WAN",
          "T'AI-WAN",
          "T'AI-PEI",
          "YUNLIN COUNTY",
          "T'AI-WAN",
          null,
          "T'AI-PEI",
          "TAIWAN",
          "T'AI-WAN",
          "SHE-TOU SHANG",
          "T'AI-WAN",
          null,
          "T'AI-WAN",
          "T'AI-WAN",
          "T'AI-WAN",
          "TAIWAN",
          "T'AI-WAN",
          "T'AI-WAN",
          "T'AI-WAN",
          null,
          "T'AI-WAN",
          "T'AI-WAN",
          "T'AI-WAN",
          null,
          "T'AI-WAN",
          "T'AI-WAN",
          "T'AI-WAN",
          "T'AI-WAN",
          "T'AI-PEI",
          "TAIWAN",
          "T'AI-WAN",
          "TAICHUNG",
          "T'AI-WAN"
         ],
         "yaxis": "y"
        },
        {
         "hovertemplate": "<b>%{hovertext}</b><br><br>Country=MEXICO<br>Total Workers=%{marker.size}<br>State=%{y}<extra></extra>",
         "hovertext": [
          "PUEBLA",
          "SONORA",
          "CAMPECHE",
          "BAJA CALIFORNIA",
          "JALISCO",
          "ESTADO DE MEXICO",
          "SONORA",
          "QUERÉTARO",
          "GUANAJUATO",
          "BC",
          "ESTADO  DE MEXICO",
          "YUCATAN",
          "YUCATAN, MEXICO",
          "CP"
         ],
         "legendgroup": "MEXICO",
         "marker": {
          "color": "#B6E880",
          "size": [
           15,
           1109,
           189,
           813,
           5590,
           248,
           1542,
           1244,
           363,
           165,
           377,
           2099,
           240,
           630
          ],
          "sizemode": "area",
          "sizeref": 6.87,
          "symbol": "circle"
         },
         "mode": "markers",
         "name": "MEXICO",
         "orientation": "h",
         "showlegend": true,
         "type": "scatter",
         "x": [
          15,
          1109,
          189,
          813,
          5590,
          248,
          1542,
          1244,
          363,
          165,
          377,
          2099,
          240,
          630
         ],
         "xaxis": "x",
         "y": [
          "PUEBLA",
          "SONORA",
          "CAMPECHE",
          "BAJA CALIFORNIA",
          "JALISCO",
          "ESTADO DE MEXICO",
          "SONORA",
          "QUERÉTARO",
          "GUANAJUATO",
          "BC",
          "ESTADO  DE MEXICO",
          "YUCATAN",
          "YUCATAN, MEXICO",
          "CP"
         ],
         "yaxis": "y"
        },
        {
         "hovertemplate": "<b>%{hovertext}</b><br><br>Country=CAMBODIA<br>Total Workers=%{marker.size}<br>State=%{y}<extra></extra>",
         "hovertext": [
          "POUTHISAT",
          "KANDAL",
          "KANDAL",
          "KAOH KONG",
          "KAMPOT",
          "KAMPONG SPEU PROVINCE",
          null,
          null
         ],
         "legendgroup": "CAMBODIA",
         "marker": {
          "color": "#FF97FF",
          "size": [
           4843,
           106,
           2028,
           6361,
           1890,
           5971,
           2345,
           3987
          ],
          "sizemode": "area",
          "sizeref": 6.87,
          "symbol": "circle"
         },
         "mode": "markers",
         "name": "CAMBODIA",
         "orientation": "h",
         "showlegend": true,
         "type": "scatter",
         "x": [
          4843,
          106,
          2028,
          6361,
          1890,
          5971,
          2345,
          3987
         ],
         "xaxis": "x",
         "y": [
          "POUTHISAT",
          "KANDAL",
          "KANDAL",
          "KAOH KONG",
          "KAMPOT",
          "KAMPONG SPEU PROVINCE",
          null,
          null
         ],
         "yaxis": "y"
        },
        {
         "hovertemplate": "<b>%{hovertext}</b><br><br>Country=EL SALVADOR<br>Total Workers=%{marker.size}<br>State=%{y}<extra></extra>",
         "hovertext": [
          "LA LIBERTAD",
          "SAN SALVADOR",
          "SANTA ANA",
          "DEPTO DE LA PAZ"
         ],
         "legendgroup": "EL SALVADOR",
         "marker": {
          "color": "#FECB52",
          "size": [
           804,
           0,
           1839,
           2246
          ],
          "sizemode": "area",
          "sizeref": 6.87,
          "symbol": "circle"
         },
         "mode": "markers",
         "name": "EL SALVADOR",
         "orientation": "h",
         "showlegend": true,
         "type": "scatter",
         "x": [
          804,
          0,
          1839,
          2246
         ],
         "xaxis": "x",
         "y": [
          "LA LIBERTAD",
          "SAN SALVADOR",
          "SANTA ANA",
          "DEPTO DE LA PAZ"
         ],
         "yaxis": "y"
        },
        {
         "hovertemplate": "<b>%{hovertext}</b><br><br>Country=TURKEY<br>Total Workers=%{marker.size}<br>State=%{y}<extra></extra>",
         "hovertext": [
          "DUZCE",
          "ISTANBUL",
          "BURSA",
          "BURSA"
         ],
         "legendgroup": "TURKEY",
         "marker": {
          "color": "#636efa",
          "size": [
           543,
           191,
           2003,
           0
          ],
          "sizemode": "area",
          "sizeref": 6.87,
          "symbol": "circle"
         },
         "mode": "markers",
         "name": "TURKEY",
         "orientation": "h",
         "showlegend": true,
         "type": "scatter",
         "x": [
          543,
          191,
          2003,
          0
         ],
         "xaxis": "x",
         "y": [
          "DUZCE",
          "ISTANBUL",
          "BURSA",
          "BURSA"
         ],
         "yaxis": "y"
        },
        {
         "hovertemplate": "<b>%{hovertext}</b><br><br>Country=ISRAEL<br>Total Workers=%{marker.size}<br>State=%{y}<extra></extra>",
         "hovertext": [
          null
         ],
         "legendgroup": "ISRAEL",
         "marker": {
          "color": "#EF553B",
          "size": [
           307
          ],
          "sizemode": "area",
          "sizeref": 6.87,
          "symbol": "circle"
         },
         "mode": "markers",
         "name": "ISRAEL",
         "orientation": "h",
         "showlegend": true,
         "type": "scatter",
         "x": [
          307
         ],
         "xaxis": "x",
         "y": [
          null
         ],
         "yaxis": "y"
        },
        {
         "hovertemplate": "<b>%{hovertext}</b><br><br>Country=BULGARIA<br>Total Workers=%{marker.size}<br>State=%{y}<extra></extra>",
         "hovertext": [
          null
         ],
         "legendgroup": "BULGARIA",
         "marker": {
          "color": "#00cc96",
          "size": [
           610
          ],
          "sizemode": "area",
          "sizeref": 6.87,
          "symbol": "circle"
         },
         "mode": "markers",
         "name": "BULGARIA",
         "orientation": "h",
         "showlegend": true,
         "type": "scatter",
         "x": [
          610
         ],
         "xaxis": "x",
         "y": [
          null
         ],
         "yaxis": "y"
        },
        {
         "hovertemplate": "<b>%{hovertext}</b><br><br>Country=BANGLADESH<br>Total Workers=%{marker.size}<br>State=%{y}<extra></extra>",
         "hovertext": [
          "BANGLADESH",
          "DHAKA"
         ],
         "legendgroup": "BANGLADESH",
         "marker": {
          "color": "#ab63fa",
          "size": [
           2660,
           3178
          ],
          "sizemode": "area",
          "sizeref": 6.87,
          "symbol": "circle"
         },
         "mode": "markers",
         "name": "BANGLADESH",
         "orientation": "h",
         "showlegend": true,
         "type": "scatter",
         "x": [
          2660,
          3178
         ],
         "xaxis": "x",
         "y": [
          "BANGLADESH",
          "DHAKA"
         ],
         "yaxis": "y"
        },
        {
         "hovertemplate": "<b>%{hovertext}</b><br><br>Country=CANADA<br>Total Workers=%{marker.size}<br>State=%{y}<extra></extra>",
         "hovertext": [
          "ONTARIO",
          "QUEBEC",
          "ONTARIO",
          "QUEBEC"
         ],
         "legendgroup": "CANADA",
         "marker": {
          "color": "#FFA15A",
          "size": [
           100,
           4,
           46,
           87
          ],
          "sizemode": "area",
          "sizeref": 6.87,
          "symbol": "circle"
         },
         "mode": "markers",
         "name": "CANADA",
         "orientation": "h",
         "showlegend": true,
         "type": "scatter",
         "x": [
          100,
          4,
          46,
          87
         ],
         "xaxis": "x",
         "y": [
          "ONTARIO",
          "QUEBEC",
          "ONTARIO",
          "QUEBEC"
         ],
         "yaxis": "y"
        },
        {
         "hovertemplate": "<b>%{hovertext}</b><br><br>Country=INDIA<br>Total Workers=%{marker.size}<br>State=%{y}<extra></extra>",
         "hovertext": [
          "CHENNAI",
          "KARNATAKA",
          "TAMIL NADU",
          "TAMIL NADU",
          "TAMIL NADU",
          "TAMIL NADU",
          "TAMIL NADU",
          "MADHYA PRADESH",
          "MAHARASTRA",
          "HARYANA",
          "HIMACHAL PRADESH"
         ],
         "legendgroup": "INDIA",
         "marker": {
          "color": "#19d3f3",
          "size": [
           5852,
           960,
           2110,
           3652,
           5974,
           7600,
           608,
           2488,
           145,
           2634,
           506
          ],
          "sizemode": "area",
          "sizeref": 6.87,
          "symbol": "circle"
         },
         "mode": "markers",
         "name": "INDIA",
         "orientation": "h",
         "showlegend": true,
         "type": "scatter",
         "x": [
          5852,
          960,
          2110,
          3652,
          5974,
          7600,
          608,
          2488,
          145,
          2634,
          506
         ],
         "xaxis": "x",
         "y": [
          "CHENNAI",
          "KARNATAKA",
          "TAMIL NADU",
          "TAMIL NADU",
          "TAMIL NADU",
          "TAMIL NADU",
          "TAMIL NADU",
          "MADHYA PRADESH",
          "MAHARASTRA",
          "HARYANA",
          "HIMACHAL PRADESH"
         ],
         "yaxis": "y"
        },
        {
         "hovertemplate": "<b>%{hovertext}</b><br><br>Country=THAILAND<br>Total Workers=%{marker.size}<br>State=%{y}<extra></extra>",
         "hovertext": [
          "BANGKOK",
          "CENTRAL",
          "BANGKOK METROPOLIS",
          "SAMUTPRAKARN",
          null,
          "CHAIYAPHUM",
          "BANGKOK",
          "CHAIYAPHUM",
          null,
          "BANGKOK",
          null,
          "BANGKOK",
          "PICHIT",
          "NAKORNPATOM",
          null,
          "NONTHABURI",
          "KHONKAEN",
          "NORTHERN",
          "NORTHERN",
          "PRACHINBURI",
          "SAMUTSAKORN",
          "NORTHEASTERN",
          "SAMUTSAKHON",
          "CHONBURI",
          "NORTHEASTERN",
          "CENTRAL",
          "CENTRAL",
          "PLUAK DANG",
          "SAMUTPRAKARN",
          "NORTHEASTERN",
          null,
          "SAMUTPRAKARN",
          "UBONRATCHATHANI",
          "SAMUTSAKORN"
         ],
         "legendgroup": "THAILAND",
         "marker": {
          "color": "#FF6692",
          "size": [
           314,
           0,
           452,
           1217,
           684,
           1081,
           1106,
           617,
           471,
           3414,
           1339,
           1274,
           2111,
           1362,
           1732,
           1200,
           3509,
           1280,
           1391,
           674,
           109,
           257,
           673,
           290,
           96,
           0,
           0,
           2805,
           785,
           1944,
           490,
           609,
           2950,
           0
          ],
          "sizemode": "area",
          "sizeref": 6.87,
          "symbol": "circle"
         },
         "mode": "markers",
         "name": "THAILAND",
         "orientation": "h",
         "showlegend": true,
         "type": "scatter",
         "x": [
          314,
          0,
          452,
          1217,
          684,
          1081,
          1106,
          617,
          471,
          3414,
          1339,
          1274,
          2111,
          1362,
          1732,
          1200,
          3509,
          1280,
          1391,
          674,
          109,
          257,
          673,
          290,
          96,
          0,
          0,
          2805,
          785,
          1944,
          490,
          609,
          2950,
          0
         ],
         "xaxis": "x",
         "y": [
          "BANGKOK",
          "CENTRAL",
          "BANGKOK METROPOLIS",
          "SAMUTPRAKARN",
          null,
          "CHAIYAPHUM",
          "BANGKOK",
          "CHAIYAPHUM",
          null,
          "BANGKOK",
          null,
          "BANGKOK",
          "PICHIT",
          "NAKORNPATOM",
          null,
          "NONTHABURI",
          "KHONKAEN",
          "NORTHERN",
          "NORTHERN",
          "PRACHINBURI",
          "SAMUTSAKORN",
          "NORTHEASTERN",
          "SAMUTSAKHON",
          "CHONBURI",
          "NORTHEASTERN",
          "CENTRAL",
          "CENTRAL",
          "PLUAK DANG",
          "SAMUTPRAKARN",
          "NORTHEASTERN",
          null,
          "SAMUTPRAKARN",
          "UBONRATCHATHANI",
          "SAMUTSAKORN"
         ],
         "yaxis": "y"
        },
        {
         "hovertemplate": "<b>%{hovertext}</b><br><br>Country=CROATIA<br>Total Workers=%{marker.size}<br>State=%{y}<extra></extra>",
         "hovertext": [
          "ISTRIA"
         ],
         "legendgroup": "CROATIA",
         "marker": {
          "color": "#B6E880",
          "size": [
           72
          ],
          "sizemode": "area",
          "sizeref": 6.87,
          "symbol": "circle"
         },
         "mode": "markers",
         "name": "CROATIA",
         "orientation": "h",
         "showlegend": true,
         "type": "scatter",
         "x": [
          72
         ],
         "xaxis": "x",
         "y": [
          "ISTRIA"
         ],
         "yaxis": "y"
        },
        {
         "hovertemplate": "<b>%{hovertext}</b><br><br>Country=ECUADOR<br>Total Workers=%{marker.size}<br>State=%{y}<extra></extra>",
         "hovertext": [
          "PICHINCHA"
         ],
         "legendgroup": "ECUADOR",
         "marker": {
          "color": "#FF97FF",
          "size": [
           754
          ],
          "sizemode": "area",
          "sizeref": 6.87,
          "symbol": "circle"
         },
         "mode": "markers",
         "name": "ECUADOR",
         "orientation": "h",
         "showlegend": true,
         "type": "scatter",
         "x": [
          754
         ],
         "xaxis": "x",
         "y": [
          "PICHINCHA"
         ],
         "yaxis": "y"
        },
        {
         "hovertemplate": "<b>%{hovertext}</b><br><br>Country=GERMANY<br>Total Workers=%{marker.size}<br>State=%{y}<extra></extra>",
         "hovertext": [
          "BADEN-WURTTEMBERG"
         ],
         "legendgroup": "GERMANY",
         "marker": {
          "color": "#FECB52",
          "size": [
           10
          ],
          "sizemode": "area",
          "sizeref": 6.87,
          "symbol": "circle"
         },
         "mode": "markers",
         "name": "GERMANY",
         "orientation": "h",
         "showlegend": true,
         "type": "scatter",
         "x": [
          10
         ],
         "xaxis": "x",
         "y": [
          "BADEN-WURTTEMBERG"
         ],
         "yaxis": "y"
        },
        {
         "hovertemplate": "<b>%{hovertext}</b><br><br>Country=SPAIN<br>Total Workers=%{marker.size}<br>State=%{y}<extra></extra>",
         "hovertext": [
          null,
          "MUTILVA BAJA",
          "ANDALUCIA",
          "BARCELONA"
         ],
         "legendgroup": "SPAIN",
         "marker": {
          "color": "#636efa",
          "size": [
           7,
           5,
           14,
           14
          ],
          "sizemode": "area",
          "sizeref": 6.87,
          "symbol": "circle"
         },
         "mode": "markers",
         "name": "SPAIN",
         "orientation": "h",
         "showlegend": true,
         "type": "scatter",
         "x": [
          7,
          5,
          14,
          14
         ],
         "xaxis": "x",
         "y": [
          null,
          "MUTILVA BAJA",
          "ANDALUCIA",
          "BARCELONA"
         ],
         "yaxis": "y"
        },
        {
         "hovertemplate": "<b>%{hovertext}</b><br><br>Country=UNITED KINGDOM<br>Total Workers=%{marker.size}<br>State=%{y}<extra></extra>",
         "hovertext": [
          "ENGLAND",
          "SCOTLAND"
         ],
         "legendgroup": "UNITED KINGDOM",
         "marker": {
          "color": "#EF553B",
          "size": [
           78,
           18
          ],
          "sizemode": "area",
          "sizeref": 6.87,
          "symbol": "circle"
         },
         "mode": "markers",
         "name": "UNITED KINGDOM",
         "orientation": "h",
         "showlegend": true,
         "type": "scatter",
         "x": [
          78,
          18
         ],
         "xaxis": "x",
         "y": [
          "ENGLAND",
          "SCOTLAND"
         ],
         "yaxis": "y"
        },
        {
         "hovertemplate": "<b>%{hovertext}</b><br><br>Country=GREECE<br>Total Workers=%{marker.size}<br>State=%{y}<extra></extra>",
         "hovertext": [
          "CENTRAL GREECE & EVVOIA"
         ],
         "legendgroup": "GREECE",
         "marker": {
          "color": "#00cc96",
          "size": [
           10
          ],
          "sizemode": "area",
          "sizeref": 6.87,
          "symbol": "circle"
         },
         "mode": "markers",
         "name": "GREECE",
         "orientation": "h",
         "showlegend": true,
         "type": "scatter",
         "x": [
          10
         ],
         "xaxis": "x",
         "y": [
          "CENTRAL GREECE & EVVOIA"
         ],
         "yaxis": "y"
        },
        {
         "hovertemplate": "<b>%{hovertext}</b><br><br>Country=MALAYSIA<br>Total Workers=%{marker.size}<br>State=%{y}<extra></extra>",
         "hovertext": [
          "JOHOR",
          null,
          "JOHOR",
          "PENANG",
          "JOHOR",
          "JOHOR",
          "JOHOR",
          "PENANG"
         ],
         "legendgroup": "MALAYSIA",
         "marker": {
          "color": "#ab63fa",
          "size": [
           1449,
           0,
           728,
           421,
           1517,
           886,
           750,
           894
          ],
          "sizemode": "area",
          "sizeref": 6.87,
          "symbol": "circle"
         },
         "mode": "markers",
         "name": "MALAYSIA",
         "orientation": "h",
         "showlegend": true,
         "type": "scatter",
         "x": [
          1449,
          0,
          728,
          421,
          1517,
          886,
          750,
          894
         ],
         "xaxis": "x",
         "y": [
          "JOHOR",
          null,
          "JOHOR",
          "PENANG",
          "JOHOR",
          "JOHOR",
          "JOHOR",
          "PENANG"
         ],
         "yaxis": "y"
        },
        {
         "hovertemplate": "<b>%{hovertext}</b><br><br>Country=PAKISTAN<br>Total Workers=%{marker.size}<br>State=%{y}<extra></extra>",
         "hovertext": [
          "PUNJAB",
          "PUNJAB",
          "PUNJAB",
          "PANJAB",
          "PUNJAB",
          "PUNJAB",
          "PUNJAB"
         ],
         "legendgroup": "PAKISTAN",
         "marker": {
          "color": "#FFA15A",
          "size": [
           6578,
           4224,
           161,
           2129,
           3557,
           385,
           2844
          ],
          "sizemode": "area",
          "sizeref": 6.87,
          "symbol": "circle"
         },
         "mode": "markers",
         "name": "PAKISTAN",
         "orientation": "h",
         "showlegend": true,
         "type": "scatter",
         "x": [
          6578,
          4224,
          161,
          2129,
          3557,
          385,
          2844
         ],
         "xaxis": "x",
         "y": [
          "PUNJAB",
          "PUNJAB",
          "PUNJAB",
          "PANJAB",
          "PUNJAB",
          "PUNJAB",
          "PUNJAB"
         ],
         "yaxis": "y"
        },
        {
         "hovertemplate": "<b>%{hovertext}</b><br><br>Country=EGYPT<br>Total Workers=%{marker.size}<br>State=%{y}<extra></extra>",
         "hovertext": [
          null,
          "SHARKIYYA",
          "CAIRO"
         ],
         "legendgroup": "EGYPT",
         "marker": {
          "color": "#19d3f3",
          "size": [
           964,
           2362,
           1237
          ],
          "sizemode": "area",
          "sizeref": 6.87,
          "symbol": "circle"
         },
         "mode": "markers",
         "name": "EGYPT",
         "orientation": "h",
         "showlegend": true,
         "type": "scatter",
         "x": [
          964,
          2362,
          1237
         ],
         "xaxis": "x",
         "y": [
          null,
          "SHARKIYYA",
          "CAIRO"
         ],
         "yaxis": "y"
        },
        {
         "hovertemplate": "<b>%{hovertext}</b><br><br>Country=POLAND<br>Total Workers=%{marker.size}<br>State=%{y}<extra></extra>",
         "hovertext": [
          null
         ],
         "legendgroup": "POLAND",
         "marker": {
          "color": "#FF6692",
          "size": [
           269
          ],
          "sizemode": "area",
          "sizeref": 6.87,
          "symbol": "circle"
         },
         "mode": "markers",
         "name": "POLAND",
         "orientation": "h",
         "showlegend": true,
         "type": "scatter",
         "x": [
          269
         ],
         "xaxis": "x",
         "y": [
          null
         ],
         "yaxis": "y"
        },
        {
         "hovertemplate": "<b>%{hovertext}</b><br><br>Country=JORDAN<br>Total Workers=%{marker.size}<br>State=%{y}<extra></extra>",
         "hovertext": [
          "JORDAN",
          "JORDAN",
          "JORDAN"
         ],
         "legendgroup": "JORDAN",
         "marker": {
          "color": "#B6E880",
          "size": [
           2085,
           426,
           1504
          ],
          "sizemode": "area",
          "sizeref": 6.87,
          "symbol": "circle"
         },
         "mode": "markers",
         "name": "JORDAN",
         "orientation": "h",
         "showlegend": true,
         "type": "scatter",
         "x": [
          2085,
          426,
          1504
         ],
         "xaxis": "x",
         "y": [
          "JORDAN",
          "JORDAN",
          "JORDAN"
         ],
         "yaxis": "y"
        },
        {
         "hovertemplate": "<b>%{hovertext}</b><br><br>Country=AUSTRALIA<br>Total Workers=%{marker.size}<br>State=%{y}<extra></extra>",
         "hovertext": [
          "VICTORIA"
         ],
         "legendgroup": "AUSTRALIA",
         "marker": {
          "color": "#FF97FF",
          "size": [
           10
          ],
          "sizemode": "area",
          "sizeref": 6.87,
          "symbol": "circle"
         },
         "mode": "markers",
         "name": "AUSTRALIA",
         "orientation": "h",
         "showlegend": true,
         "type": "scatter",
         "x": [
          10
         ],
         "xaxis": "x",
         "y": [
          "VICTORIA"
         ],
         "yaxis": "y"
        },
        {
         "hovertemplate": "<b>%{hovertext}</b><br><br>Country=BOSNIA<br>Total Workers=%{marker.size}<br>State=%{y}<extra></extra>",
         "hovertext": [
          "BANJA LUKA"
         ],
         "legendgroup": "BOSNIA",
         "marker": {
          "color": "#FECB52",
          "size": [
           1944
          ],
          "sizemode": "area",
          "sizeref": 6.87,
          "symbol": "circle"
         },
         "mode": "markers",
         "name": "BOSNIA",
         "orientation": "h",
         "showlegend": true,
         "type": "scatter",
         "x": [
          1944
         ],
         "xaxis": "x",
         "y": [
          "BANJA LUKA"
         ],
         "yaxis": "y"
        },
        {
         "hovertemplate": "<b>%{hovertext}</b><br><br>Country=FRANCE<br>Total Workers=%{marker.size}<br>State=%{y}<extra></extra>",
         "hovertext": [
          "ILE-DE-FRANCE"
         ],
         "legendgroup": "FRANCE",
         "marker": {
          "color": "#636efa",
          "size": [
           17
          ],
          "sizemode": "area",
          "sizeref": 6.87,
          "symbol": "circle"
         },
         "mode": "markers",
         "name": "FRANCE",
         "orientation": "h",
         "showlegend": true,
         "type": "scatter",
         "x": [
          17
         ],
         "xaxis": "x",
         "y": [
          "ILE-DE-FRANCE"
         ],
         "yaxis": "y"
        },
        {
         "hovertemplate": "<b>%{hovertext}</b><br><br>Country=SOUTH AFRICA<br>Total Workers=%{marker.size}<br>State=%{y}<extra></extra>",
         "hovertext": [
          "KWAZULU NATAL"
         ],
         "legendgroup": "SOUTH AFRICA",
         "marker": {
          "color": "#EF553B",
          "size": [
           341
          ],
          "sizemode": "area",
          "sizeref": 6.87,
          "symbol": "circle"
         },
         "mode": "markers",
         "name": "SOUTH AFRICA",
         "orientation": "h",
         "showlegend": true,
         "type": "scatter",
         "x": [
          341
         ],
         "xaxis": "x",
         "y": [
          "KWAZULU NATAL"
         ],
         "yaxis": "y"
        }
       ],
       "layout": {
        "legend": {
         "itemsizing": "constant",
         "title": {
          "text": "Country"
         },
         "tracegroupgap": 0
        },
        "margin": {
         "t": 60
        },
        "template": {
         "data": {
          "bar": [
           {
            "error_x": {
             "color": "#2a3f5f"
            },
            "error_y": {
             "color": "#2a3f5f"
            },
            "marker": {
             "line": {
              "color": "#E5ECF6",
              "width": 0.5
             },
             "pattern": {
              "fillmode": "overlay",
              "size": 10,
              "solidity": 0.2
             }
            },
            "type": "bar"
           }
          ],
          "barpolar": [
           {
            "marker": {
             "line": {
              "color": "#E5ECF6",
              "width": 0.5
             },
             "pattern": {
              "fillmode": "overlay",
              "size": 10,
              "solidity": 0.2
             }
            },
            "type": "barpolar"
           }
          ],
          "carpet": [
           {
            "aaxis": {
             "endlinecolor": "#2a3f5f",
             "gridcolor": "white",
             "linecolor": "white",
             "minorgridcolor": "white",
             "startlinecolor": "#2a3f5f"
            },
            "baxis": {
             "endlinecolor": "#2a3f5f",
             "gridcolor": "white",
             "linecolor": "white",
             "minorgridcolor": "white",
             "startlinecolor": "#2a3f5f"
            },
            "type": "carpet"
           }
          ],
          "choropleth": [
           {
            "colorbar": {
             "outlinewidth": 0,
             "ticks": ""
            },
            "type": "choropleth"
           }
          ],
          "contour": [
           {
            "colorbar": {
             "outlinewidth": 0,
             "ticks": ""
            },
            "colorscale": [
             [
              0,
              "#0d0887"
             ],
             [
              0.1111111111111111,
              "#46039f"
             ],
             [
              0.2222222222222222,
              "#7201a8"
             ],
             [
              0.3333333333333333,
              "#9c179e"
             ],
             [
              0.4444444444444444,
              "#bd3786"
             ],
             [
              0.5555555555555556,
              "#d8576b"
             ],
             [
              0.6666666666666666,
              "#ed7953"
             ],
             [
              0.7777777777777778,
              "#fb9f3a"
             ],
             [
              0.8888888888888888,
              "#fdca26"
             ],
             [
              1,
              "#f0f921"
             ]
            ],
            "type": "contour"
           }
          ],
          "contourcarpet": [
           {
            "colorbar": {
             "outlinewidth": 0,
             "ticks": ""
            },
            "type": "contourcarpet"
           }
          ],
          "heatmap": [
           {
            "colorbar": {
             "outlinewidth": 0,
             "ticks": ""
            },
            "colorscale": [
             [
              0,
              "#0d0887"
             ],
             [
              0.1111111111111111,
              "#46039f"
             ],
             [
              0.2222222222222222,
              "#7201a8"
             ],
             [
              0.3333333333333333,
              "#9c179e"
             ],
             [
              0.4444444444444444,
              "#bd3786"
             ],
             [
              0.5555555555555556,
              "#d8576b"
             ],
             [
              0.6666666666666666,
              "#ed7953"
             ],
             [
              0.7777777777777778,
              "#fb9f3a"
             ],
             [
              0.8888888888888888,
              "#fdca26"
             ],
             [
              1,
              "#f0f921"
             ]
            ],
            "type": "heatmap"
           }
          ],
          "heatmapgl": [
           {
            "colorbar": {
             "outlinewidth": 0,
             "ticks": ""
            },
            "colorscale": [
             [
              0,
              "#0d0887"
             ],
             [
              0.1111111111111111,
              "#46039f"
             ],
             [
              0.2222222222222222,
              "#7201a8"
             ],
             [
              0.3333333333333333,
              "#9c179e"
             ],
             [
              0.4444444444444444,
              "#bd3786"
             ],
             [
              0.5555555555555556,
              "#d8576b"
             ],
             [
              0.6666666666666666,
              "#ed7953"
             ],
             [
              0.7777777777777778,
              "#fb9f3a"
             ],
             [
              0.8888888888888888,
              "#fdca26"
             ],
             [
              1,
              "#f0f921"
             ]
            ],
            "type": "heatmapgl"
           }
          ],
          "histogram": [
           {
            "marker": {
             "pattern": {
              "fillmode": "overlay",
              "size": 10,
              "solidity": 0.2
             }
            },
            "type": "histogram"
           }
          ],
          "histogram2d": [
           {
            "colorbar": {
             "outlinewidth": 0,
             "ticks": ""
            },
            "colorscale": [
             [
              0,
              "#0d0887"
             ],
             [
              0.1111111111111111,
              "#46039f"
             ],
             [
              0.2222222222222222,
              "#7201a8"
             ],
             [
              0.3333333333333333,
              "#9c179e"
             ],
             [
              0.4444444444444444,
              "#bd3786"
             ],
             [
              0.5555555555555556,
              "#d8576b"
             ],
             [
              0.6666666666666666,
              "#ed7953"
             ],
             [
              0.7777777777777778,
              "#fb9f3a"
             ],
             [
              0.8888888888888888,
              "#fdca26"
             ],
             [
              1,
              "#f0f921"
             ]
            ],
            "type": "histogram2d"
           }
          ],
          "histogram2dcontour": [
           {
            "colorbar": {
             "outlinewidth": 0,
             "ticks": ""
            },
            "colorscale": [
             [
              0,
              "#0d0887"
             ],
             [
              0.1111111111111111,
              "#46039f"
             ],
             [
              0.2222222222222222,
              "#7201a8"
             ],
             [
              0.3333333333333333,
              "#9c179e"
             ],
             [
              0.4444444444444444,
              "#bd3786"
             ],
             [
              0.5555555555555556,
              "#d8576b"
             ],
             [
              0.6666666666666666,
              "#ed7953"
             ],
             [
              0.7777777777777778,
              "#fb9f3a"
             ],
             [
              0.8888888888888888,
              "#fdca26"
             ],
             [
              1,
              "#f0f921"
             ]
            ],
            "type": "histogram2dcontour"
           }
          ],
          "mesh3d": [
           {
            "colorbar": {
             "outlinewidth": 0,
             "ticks": ""
            },
            "type": "mesh3d"
           }
          ],
          "parcoords": [
           {
            "line": {
             "colorbar": {
              "outlinewidth": 0,
              "ticks": ""
             }
            },
            "type": "parcoords"
           }
          ],
          "pie": [
           {
            "automargin": true,
            "type": "pie"
           }
          ],
          "scatter": [
           {
            "fillpattern": {
             "fillmode": "overlay",
             "size": 10,
             "solidity": 0.2
            },
            "type": "scatter"
           }
          ],
          "scatter3d": [
           {
            "line": {
             "colorbar": {
              "outlinewidth": 0,
              "ticks": ""
             }
            },
            "marker": {
             "colorbar": {
              "outlinewidth": 0,
              "ticks": ""
             }
            },
            "type": "scatter3d"
           }
          ],
          "scattercarpet": [
           {
            "marker": {
             "colorbar": {
              "outlinewidth": 0,
              "ticks": ""
             }
            },
            "type": "scattercarpet"
           }
          ],
          "scattergeo": [
           {
            "marker": {
             "colorbar": {
              "outlinewidth": 0,
              "ticks": ""
             }
            },
            "type": "scattergeo"
           }
          ],
          "scattergl": [
           {
            "marker": {
             "colorbar": {
              "outlinewidth": 0,
              "ticks": ""
             }
            },
            "type": "scattergl"
           }
          ],
          "scattermapbox": [
           {
            "marker": {
             "colorbar": {
              "outlinewidth": 0,
              "ticks": ""
             }
            },
            "type": "scattermapbox"
           }
          ],
          "scatterpolar": [
           {
            "marker": {
             "colorbar": {
              "outlinewidth": 0,
              "ticks": ""
             }
            },
            "type": "scatterpolar"
           }
          ],
          "scatterpolargl": [
           {
            "marker": {
             "colorbar": {
              "outlinewidth": 0,
              "ticks": ""
             }
            },
            "type": "scatterpolargl"
           }
          ],
          "scatterternary": [
           {
            "marker": {
             "colorbar": {
              "outlinewidth": 0,
              "ticks": ""
             }
            },
            "type": "scatterternary"
           }
          ],
          "surface": [
           {
            "colorbar": {
             "outlinewidth": 0,
             "ticks": ""
            },
            "colorscale": [
             [
              0,
              "#0d0887"
             ],
             [
              0.1111111111111111,
              "#46039f"
             ],
             [
              0.2222222222222222,
              "#7201a8"
             ],
             [
              0.3333333333333333,
              "#9c179e"
             ],
             [
              0.4444444444444444,
              "#bd3786"
             ],
             [
              0.5555555555555556,
              "#d8576b"
             ],
             [
              0.6666666666666666,
              "#ed7953"
             ],
             [
              0.7777777777777778,
              "#fb9f3a"
             ],
             [
              0.8888888888888888,
              "#fdca26"
             ],
             [
              1,
              "#f0f921"
             ]
            ],
            "type": "surface"
           }
          ],
          "table": [
           {
            "cells": {
             "fill": {
              "color": "#EBF0F8"
             },
             "line": {
              "color": "white"
             }
            },
            "header": {
             "fill": {
              "color": "#C8D4E3"
             },
             "line": {
              "color": "white"
             }
            },
            "type": "table"
           }
          ]
         },
         "layout": {
          "annotationdefaults": {
           "arrowcolor": "#2a3f5f",
           "arrowhead": 0,
           "arrowwidth": 1
          },
          "autotypenumbers": "strict",
          "coloraxis": {
           "colorbar": {
            "outlinewidth": 0,
            "ticks": ""
           }
          },
          "colorscale": {
           "diverging": [
            [
             0,
             "#8e0152"
            ],
            [
             0.1,
             "#c51b7d"
            ],
            [
             0.2,
             "#de77ae"
            ],
            [
             0.3,
             "#f1b6da"
            ],
            [
             0.4,
             "#fde0ef"
            ],
            [
             0.5,
             "#f7f7f7"
            ],
            [
             0.6,
             "#e6f5d0"
            ],
            [
             0.7,
             "#b8e186"
            ],
            [
             0.8,
             "#7fbc41"
            ],
            [
             0.9,
             "#4d9221"
            ],
            [
             1,
             "#276419"
            ]
           ],
           "sequential": [
            [
             0,
             "#0d0887"
            ],
            [
             0.1111111111111111,
             "#46039f"
            ],
            [
             0.2222222222222222,
             "#7201a8"
            ],
            [
             0.3333333333333333,
             "#9c179e"
            ],
            [
             0.4444444444444444,
             "#bd3786"
            ],
            [
             0.5555555555555556,
             "#d8576b"
            ],
            [
             0.6666666666666666,
             "#ed7953"
            ],
            [
             0.7777777777777778,
             "#fb9f3a"
            ],
            [
             0.8888888888888888,
             "#fdca26"
            ],
            [
             1,
             "#f0f921"
            ]
           ],
           "sequentialminus": [
            [
             0,
             "#0d0887"
            ],
            [
             0.1111111111111111,
             "#46039f"
            ],
            [
             0.2222222222222222,
             "#7201a8"
            ],
            [
             0.3333333333333333,
             "#9c179e"
            ],
            [
             0.4444444444444444,
             "#bd3786"
            ],
            [
             0.5555555555555556,
             "#d8576b"
            ],
            [
             0.6666666666666666,
             "#ed7953"
            ],
            [
             0.7777777777777778,
             "#fb9f3a"
            ],
            [
             0.8888888888888888,
             "#fdca26"
            ],
            [
             1,
             "#f0f921"
            ]
           ]
          },
          "colorway": [
           "#636efa",
           "#EF553B",
           "#00cc96",
           "#ab63fa",
           "#FFA15A",
           "#19d3f3",
           "#FF6692",
           "#B6E880",
           "#FF97FF",
           "#FECB52"
          ],
          "font": {
           "color": "#2a3f5f"
          },
          "geo": {
           "bgcolor": "white",
           "lakecolor": "white",
           "landcolor": "#E5ECF6",
           "showlakes": true,
           "showland": true,
           "subunitcolor": "white"
          },
          "hoverlabel": {
           "align": "left"
          },
          "hovermode": "closest",
          "mapbox": {
           "style": "light"
          },
          "paper_bgcolor": "white",
          "plot_bgcolor": "#E5ECF6",
          "polar": {
           "angularaxis": {
            "gridcolor": "white",
            "linecolor": "white",
            "ticks": ""
           },
           "bgcolor": "#E5ECF6",
           "radialaxis": {
            "gridcolor": "white",
            "linecolor": "white",
            "ticks": ""
           }
          },
          "scene": {
           "xaxis": {
            "backgroundcolor": "#E5ECF6",
            "gridcolor": "white",
            "gridwidth": 2,
            "linecolor": "white",
            "showbackground": true,
            "ticks": "",
            "zerolinecolor": "white"
           },
           "yaxis": {
            "backgroundcolor": "#E5ECF6",
            "gridcolor": "white",
            "gridwidth": 2,
            "linecolor": "white",
            "showbackground": true,
            "ticks": "",
            "zerolinecolor": "white"
           },
           "zaxis": {
            "backgroundcolor": "#E5ECF6",
            "gridcolor": "white",
            "gridwidth": 2,
            "linecolor": "white",
            "showbackground": true,
            "ticks": "",
            "zerolinecolor": "white"
           }
          },
          "shapedefaults": {
           "line": {
            "color": "#2a3f5f"
           }
          },
          "ternary": {
           "aaxis": {
            "gridcolor": "white",
            "linecolor": "white",
            "ticks": ""
           },
           "baxis": {
            "gridcolor": "white",
            "linecolor": "white",
            "ticks": ""
           },
           "bgcolor": "#E5ECF6",
           "caxis": {
            "gridcolor": "white",
            "linecolor": "white",
            "ticks": ""
           }
          },
          "title": {
           "x": 0.05
          },
          "xaxis": {
           "automargin": true,
           "gridcolor": "white",
           "linecolor": "white",
           "ticks": "",
           "title": {
            "standoff": 15
           },
           "zerolinecolor": "white",
           "zerolinewidth": 2
          },
          "yaxis": {
           "automargin": true,
           "gridcolor": "white",
           "linecolor": "white",
           "ticks": "",
           "title": {
            "standoff": 15
           },
           "zerolinecolor": "white",
           "zerolinewidth": 2
          }
         }
        },
        "xaxis": {
         "anchor": "y",
         "domain": [
          0,
          1
         ],
         "title": {
          "text": "Total Workers"
         },
         "type": "log"
        },
        "yaxis": {
         "anchor": "x",
         "domain": [
          0,
          1
         ],
         "title": {
          "text": "State"
         }
        }
       }
      }
     },
     "metadata": {},
     "output_type": "display_data"
    }
   ],
   "source": [
    "# bubble chart\n",
    "fig = px.scatter(df, x=\"Total Workers\", y=\"State\", color=\"Country\", size=\"Total Workers\",\n",
    "                 hover_name=\"State\", log_x=True, size_max=60)\n",
    "fig.show()"
   ]
  },
  {
   "cell_type": "code",
   "execution_count": 168,
   "metadata": {},
   "outputs": [
    {
     "data": {
      "application/vnd.plotly.v1+json": {
       "config": {
        "plotlyServerURL": "https://plot.ly"
       },
       "data": [
        {
         "domain": {
          "x": [
           0,
           1
          ],
          "y": [
           0,
           1
          ]
         },
         "hovertemplate": "Country=%{label}<br>Total Workers=%{value}<extra></extra>",
         "labels": [
          "USA",
          "VIETNAM",
          "GUATEMALA",
          "VIETNAM",
          "GEORGIA",
          "VIETNAM",
          "ARGENTINA",
          "CHINA",
          "BRAZIL",
          "NICARAGUA",
          "VIETNAM",
          "SRI LANKA",
          "HONDURAS",
          "USA",
          "USA",
          "USA",
          "USA",
          "MOLDOVA",
          "MOLDOVA",
          "MOLDOVA",
          "MOLDOVA",
          "VIETNAM",
          "BRAZIL",
          "JAPAN",
          "VIETNAM",
          "NETHERLANDS",
          "SOUTH KOREA",
          "INDONESIA",
          "VIETNAM",
          "USA",
          "ITALY",
          "USA",
          "USA",
          "SRI LANKA",
          "SRI LANKA",
          "SRI LANKA",
          "SRI LANKA",
          "BRAZIL",
          "TAIWAN",
          "CHINA",
          "USA",
          "SOUTH KOREA",
          "CHINA",
          "BRAZIL",
          "USA",
          "USA",
          "BRAZIL",
          "MEXICO",
          "MEXICO",
          "MEXICO",
          "VIETNAM",
          "VIETNAM",
          "INDONESIA",
          "VIETNAM",
          "VIETNAM",
          "SOUTH KOREA",
          "TAIWAN",
          "CHINA",
          "TAIWAN",
          "TAIWAN",
          "TAIWAN",
          "BRAZIL",
          "BRAZIL",
          "ITALY",
          "VIETNAM",
          "CHINA",
          "ARGENTINA",
          "BRAZIL",
          "ARGENTINA",
          "BRAZIL",
          "BRAZIL",
          "GUATEMALA",
          "USA",
          "INDONESIA",
          "CAMBODIA",
          "ARGENTINA",
          "BRAZIL",
          "BRAZIL",
          "BRAZIL",
          "BRAZIL",
          "BRAZIL",
          "BRAZIL",
          "VIETNAM",
          "EL SALVADOR",
          "TURKEY",
          "VIETNAM",
          "ISRAEL",
          "BULGARIA",
          "ARGENTINA",
          "BANGLADESH",
          "MEXICO",
          "ITALY",
          "ITALY",
          "SRI LANKA",
          "ITALY",
          "VIETNAM",
          "VIETNAM",
          "VIETNAM",
          "VIETNAM",
          "CHINA",
          "CHINA",
          "CHINA",
          "TAIWAN",
          "CHINA",
          "CHINA",
          "CHINA",
          "CHINA",
          "CHINA",
          "VIETNAM",
          "SOUTH KOREA",
          "CHINA",
          "SOUTH KOREA",
          "CANADA",
          "CHINA",
          "INDIA",
          "JAPAN",
          "VIETNAM",
          "VIETNAM",
          "TAIWAN",
          "HONDURAS",
          "VIETNAM",
          "THAILAND",
          "BRAZIL",
          "VIETNAM",
          "VIETNAM",
          "INDIA",
          "VIETNAM",
          "TAIWAN",
          "CHINA",
          "THAILAND",
          "USA",
          "BRAZIL",
          "CROATIA",
          "INDIA",
          "CHINA",
          "CHINA",
          "VIETNAM",
          "VIETNAM",
          "TAIWAN",
          "VIETNAM",
          "VIETNAM",
          "VIETNAM",
          "ITALY",
          "TAIWAN",
          "ECUADOR",
          "USA",
          "MEXICO",
          "BANGLADESH",
          "CHINA",
          "GERMANY",
          "CAMBODIA",
          "TAIWAN",
          "INDONESIA",
          "CHINA",
          "TAIWAN",
          "CHINA",
          "VIETNAM",
          "SPAIN",
          "SOUTH KOREA",
          "VIETNAM",
          "VIETNAM",
          "UNITED KINGDOM",
          "CHINA",
          "CHINA",
          "CHINA",
          "CHINA",
          "VIETNAM",
          "CHINA",
          "THAILAND",
          "VIETNAM",
          "SOUTH KOREA",
          "VIETNAM",
          "HONDURAS",
          "HONDURAS",
          "GREECE",
          "CHINA",
          "BRAZIL",
          "ITALY",
          "VIETNAM",
          "VIETNAM",
          "CHINA",
          "VIETNAM",
          "USA",
          "USA",
          "VIETNAM",
          "VIETNAM",
          "CHINA",
          "VIETNAM",
          "VIETNAM",
          "USA",
          "JAPAN",
          "HONDURAS",
          "CAMBODIA",
          "THAILAND",
          "THAILAND",
          "THAILAND",
          "THAILAND",
          "THAILAND",
          "VIETNAM",
          "TAIWAN",
          "THAILAND",
          "THAILAND",
          "VIETNAM",
          "MALAYSIA",
          "CHINA",
          "CHINA",
          "CHINA",
          "TAIWAN",
          "CHINA",
          "CHINA",
          "CHINA",
          "VIETNAM",
          "VIETNAM",
          "ITALY",
          "CANADA",
          "TAIWAN",
          "USA",
          "MEXICO",
          "PAKISTAN",
          "INDIA",
          "SPAIN",
          "CHINA",
          "EGYPT",
          "TAIWAN",
          "EGYPT",
          "CHINA",
          "CHINA",
          "CHINA",
          "CHINA",
          "CHINA",
          "CHINA",
          "CHINA",
          "CHINA",
          "CHINA",
          "SRI LANKA",
          "GUATEMALA",
          "SOUTH KOREA",
          "VIETNAM",
          "USA",
          "CANADA",
          "USA",
          "TAIWAN",
          "JAPAN",
          "CAMBODIA",
          "USA",
          "CHINA",
          "CHINA",
          "VIETNAM",
          "VIETNAM",
          "ARGENTINA",
          "USA",
          "VIETNAM",
          "MEXICO",
          "JAPAN",
          "CANADA",
          "TAIWAN",
          "ITALY",
          "SRI LANKA",
          "CHINA",
          "BRAZIL",
          "USA",
          "VIETNAM",
          "CHINA",
          "CHINA",
          "CHINA",
          "CHINA",
          "CHINA",
          "INDIA",
          "INDIA",
          "POLAND",
          "VIETNAM",
          "PAKISTAN",
          "MEXICO",
          "ITALY",
          "BRAZIL",
          "SRI LANKA",
          "SRI LANKA",
          "SRI LANKA",
          "SRI LANKA",
          "SRI LANKA",
          "SRI LANKA",
          "INDIA",
          "SRI LANKA",
          "SRI LANKA",
          "USA",
          "JAPAN",
          "VIETNAM",
          "VIETNAM",
          "GUATEMALA",
          "USA",
          "TAIWAN",
          "VIETNAM",
          "UNITED KINGDOM",
          "TURKEY",
          "GEORGIA",
          "SOUTH KOREA",
          "BRAZIL",
          "VIETNAM",
          "VIETNAM",
          "VIETNAM",
          "THAILAND",
          "THAILAND",
          "THAILAND",
          "THAILAND",
          "TAIWAN",
          "NICARAGUA",
          "CHINA",
          "THAILAND",
          "THAILAND",
          "THAILAND",
          "THAILAND",
          "CHINA",
          "CHINA",
          "CHINA",
          "CHINA",
          "CHINA",
          "CHINA",
          "CHINA",
          "CHINA",
          "CHINA",
          "CHINA",
          "CHINA",
          "THAILAND",
          "VIETNAM",
          "JAPAN",
          "CHINA",
          "THAILAND",
          "CAMBODIA",
          "THAILAND",
          "USA",
          "VIETNAM",
          "THAILAND",
          "CHINA",
          "USA",
          "MEXICO",
          "USA",
          "USA",
          "ITALY",
          "CHINA",
          "BRAZIL",
          "BRAZIL",
          "EL SALVADOR",
          "ARGENTINA",
          "THAILAND",
          "JORDAN",
          "CHINA",
          "CHINA",
          "CHINA",
          "TAIWAN",
          "TAIWAN",
          "VIETNAM",
          "ITALY",
          "INDIA",
          "CHINA",
          "INDONESIA",
          "CHINA",
          "VIETNAM",
          "TAIWAN",
          "TAIWAN",
          "VIETNAM",
          "USA",
          "INDONESIA",
          "INDONESIA",
          "INDONESIA",
          "INDONESIA",
          "INDONESIA",
          "INDONESIA",
          "INDONESIA",
          "INDONESIA",
          "INDONESIA",
          "INDONESIA",
          "INDONESIA",
          "INDONESIA",
          "INDONESIA",
          "INDONESIA",
          "INDONESIA",
          "INDONESIA",
          "INDONESIA",
          "INDONESIA",
          "INDONESIA",
          "INDONESIA",
          "INDONESIA",
          "INDONESIA",
          "INDONESIA",
          "INDONESIA",
          "INDONESIA",
          "INDONESIA",
          "INDONESIA",
          "INDONESIA",
          "INDONESIA",
          "INDONESIA",
          "INDONESIA",
          "INDONESIA",
          "INDONESIA",
          "INDONESIA",
          "INDONESIA",
          "INDONESIA",
          "INDONESIA",
          "CHINA",
          "CHINA",
          "CHINA",
          "CHINA",
          "CHINA",
          "CHINA",
          "CHINA",
          "VIETNAM",
          "VIETNAM",
          "CHINA",
          "CHINA",
          "ARGENTINA",
          "THAILAND",
          "CHINA",
          "CHINA",
          "CHINA",
          "MALAYSIA",
          "THAILAND",
          "TAIWAN",
          "CHINA",
          "NETHERLANDS",
          "USA",
          "USA",
          "USA",
          "USA",
          "CHINA",
          "BRAZIL",
          "MEXICO",
          "CHINA",
          "CAMBODIA",
          "THAILAND",
          "THAILAND",
          "VIETNAM",
          "ARGENTINA",
          "INDONESIA",
          "TAIWAN",
          "VIETNAM",
          "CHINA",
          "JAPAN",
          "VIETNAM",
          "ITALY",
          "JAPAN",
          "AUSTRALIA",
          "ARGENTINA",
          "ITALY",
          "SPAIN",
          "USA",
          "JAPAN",
          "USA",
          "SRI LANKA",
          "CHINA",
          "CHINA",
          "CHINA",
          "CHINA",
          "THAILAND",
          "CAMBODIA",
          "CHINA",
          "CHINA",
          "INDONESIA",
          "CHINA",
          "CHINA",
          "CHINA",
          "CHINA",
          "PAKISTAN",
          "PAKISTAN",
          "SPAIN",
          "USA",
          "USA",
          "VIETNAM",
          "VIETNAM",
          "MALAYSIA",
          "CHINA",
          "MALAYSIA",
          "HONDURAS",
          "INDIA",
          "BOSNIA",
          "VIETNAM",
          "INDIA",
          "INDIA",
          "TAIWAN",
          "USA",
          "USA",
          "JORDAN",
          "JORDAN",
          "ITALY",
          "PAKISTAN",
          "PAKISTAN",
          "PAKISTAN",
          "CHINA",
          "ARGENTINA",
          "EL SALVADOR",
          "USA",
          "CHINA",
          "CHINA",
          "CHINA",
          "JAPAN",
          "VIETNAM",
          "VIETNAM",
          "VIETNAM",
          "VIETNAM",
          "SOUTH KOREA",
          "VIETNAM",
          "MALAYSIA",
          "MALAYSIA",
          "MALAYSIA",
          "TAIWAN",
          "JAPAN",
          "INDONESIA",
          "TAIWAN",
          "USA",
          "USA",
          "ARGENTINA",
          "SRI LANKA",
          "ARGENTINA",
          "BRAZIL",
          "ARGENTINA",
          "ARGENTINA",
          "FRANCE",
          "EGYPT",
          "EL SALVADOR",
          "MEXICO",
          "THAILAND",
          "CHINA",
          "CHINA",
          "BRAZIL",
          "VIETNAM",
          "VIETNAM",
          "TAIWAN",
          "CHINA",
          "TAIWAN",
          "TAIWAN",
          "VIETNAM",
          "TAIWAN",
          "VIETNAM",
          "CHINA",
          "VIETNAM",
          "ARGENTINA",
          "CHINA",
          "VIETNAM",
          "CAMBODIA",
          "CHINA",
          "TAIWAN",
          "JAPAN",
          "THAILAND",
          "VIETNAM",
          "USA",
          "TAIWAN",
          "VIETNAM",
          "USA",
          "JAPAN",
          "CHINA",
          "VIETNAM",
          "VIETNAM",
          "CHINA",
          "VIETNAM",
          "MALAYSIA",
          "THAILAND",
          "THAILAND",
          "THAILAND",
          "MEXICO",
          "MEXICO",
          "VIETNAM",
          "VIETNAM",
          "VIETNAM",
          "VIETNAM",
          "VIETNAM",
          "VIETNAM",
          "VIETNAM",
          "VIETNAM",
          "VIETNAM",
          "VIETNAM",
          "MEXICO",
          "SOUTH AFRICA",
          "VIETNAM",
          "VIETNAM",
          "VIETNAM",
          "VIETNAM",
          "VIETNAM",
          "BRAZIL",
          "CHINA",
          "TAIWAN",
          "CHINA",
          "CHINA",
          "CHINA",
          "VIETNAM",
          "CHINA",
          "CHINA",
          "CHINA",
          "CHINA",
          "VIETNAM",
          "TURKEY",
          "TURKEY",
          "USA",
          "TAIWAN",
          "CHINA",
          "TAIWAN",
          "CHINA",
          "SOUTH KOREA",
          "SOUTH KOREA",
          "SOUTH KOREA",
          "VIETNAM",
          "SOUTH KOREA",
          "VIETNAM",
          "SOUTH KOREA",
          "THAILAND",
          "TAIWAN",
          "CHINA",
          "VIETNAM",
          "CHINA",
          "CHINA",
          "CHINA",
          "CHINA",
          "CHINA",
          "CHINA",
          "CHINA",
          "CHINA",
          "CHINA",
          "CHINA",
          "CHINA",
          "CHINA"
         ],
         "legendgroup": "",
         "name": "",
         "showlegend": true,
         "textinfo": "percent",
         "textposition": "inside",
         "type": "pie",
         "values": [
          94,
          1958,
          191,
          7795,
          616,
          5313,
          7,
          372,
          490,
          3963,
          14076,
          903,
          0,
          60,
          114,
          87,
          230,
          335,
          387,
          283,
          354,
          2242,
          34,
          6,
          7530,
          15,
          0,
          0,
          0,
          31,
          16,
          39,
          49,
          1090,
          5903,
          2193,
          1018,
          42,
          0,
          899,
          177,
          10,
          194,
          64,
          87,
          206,
          83,
          15,
          1109,
          189,
          8951,
          2159,
          13425,
          4689,
          24732,
          824,
          0,
          815,
          0,
          50,
          94,
          31,
          4440,
          360,
          2180,
          54,
          35,
          118,
          152,
          1972,
          873,
          2305,
          59,
          0,
          4843,
          1251,
          1289,
          32,
          3500,
          2589,
          562,
          176,
          13306,
          804,
          543,
          1780,
          307,
          610,
          93,
          2660,
          813,
          230,
          51,
          1035,
          14,
          10541,
          9469,
          14524,
          9625,
          1985,
          96,
          369,
          0,
          920,
          186,
          400,
          147,
          18,
          0,
          150,
          692,
          26,
          100,
          2439,
          5852,
          95,
          0,
          6331,
          0,
          2197,
          1580,
          314,
          90,
          5187,
          2658,
          960,
          603,
          0,
          0,
          0,
          24,
          44,
          72,
          2110,
          0,
          1535,
          4345,
          3333,
          0,
          748,
          859,
          2290,
          13,
          1824,
          754,
          131,
          5590,
          3178,
          6325,
          10,
          106,
          0,
          1585,
          370,
          0,
          0,
          0,
          7,
          37,
          487,
          22170,
          78,
          4008,
          3270,
          1244,
          4974,
          8627,
          200,
          452,
          0,
          0,
          0,
          4686,
          2858,
          10,
          0,
          52,
          18,
          1010,
          2026,
          1064,
          698,
          98,
          33,
          1244,
          396,
          50,
          5192,
          7726,
          34,
          5,
          2197,
          2028,
          1217,
          684,
          1081,
          1106,
          617,
          1006,
          0,
          471,
          3414,
          858,
          1449,
          1067,
          113,
          811,
          0,
          329,
          286,
          101,
          2563,
          341,
          15,
          4,
          200,
          121,
          248,
          6578,
          3652,
          5,
          166,
          964,
          0,
          2362,
          1435,
          407,
          214,
          299,
          2551,
          22,
          1698,
          145,
          1192,
          955,
          498,
          640,
          0,
          42,
          46,
          7,
          145,
          52,
          6361,
          134,
          972,
          0,
          0,
          118,
          20,
          60,
          2132,
          1542,
          68,
          87,
          546,
          23,
          444,
          452,
          89,
          24,
          1300,
          5684,
          7517,
          2914,
          772,
          780,
          5974,
          7600,
          269,
          1232,
          4224,
          1244,
          315,
          285,
          667,
          1608,
          1219,
          1995,
          777,
          1645,
          608,
          1814,
          2578,
          180,
          25,
          1711,
          591,
          634,
          104,
          0,
          0,
          18,
          191,
          749,
          0,
          39,
          1501,
          576,
          630,
          1339,
          1274,
          2111,
          1362,
          12,
          1813,
          101,
          1732,
          1200,
          3509,
          1280,
          608,
          115,
          263,
          2143,
          124,
          0,
          1979,
          4183,
          3265,
          414,
          570,
          1391,
          718,
          74,
          207,
          674,
          1890,
          109,
          110,
          813,
          257,
          500,
          89,
          363,
          560,
          94,
          95,
          2096,
          568,
          0,
          0,
          44,
          673,
          2085,
          125,
          1401,
          1063,
          0,
          1713,
          17856,
          28,
          2488,
          158,
          2629,
          0,
          0,
          0,
          0,
          0,
          168,
          159,
          8336,
          2344,
          6239,
          1178,
          2836,
          633,
          2693,
          7123,
          1474,
          2576,
          12768,
          1038,
          562,
          2321,
          19564,
          2008,
          7918,
          19038,
          672,
          3355,
          1621,
          1561,
          1158,
          15213,
          1729,
          0,
          0,
          2671,
          992,
          12686,
          2307,
          5138,
          7441,
          1922,
          16485,
          463,
          573,
          4685,
          726,
          534,
          4323,
          903,
          2250,
          6105,
          6247,
          50,
          57,
          800,
          290,
          735,
          0,
          714,
          0,
          96,
          0,
          1417,
          20,
          157,
          47,
          47,
          95,
          361,
          164,
          165,
          53,
          5971,
          0,
          0,
          764,
          11,
          0,
          0,
          0,
          0,
          36,
          1189,
          103,
          40,
          10,
          398,
          25,
          14,
          13,
          40,
          77,
          1651,
          9751,
          33,
          1037,
          5557,
          2805,
          2345,
          42,
          57,
          0,
          155,
          1132,
          11778,
          3735,
          161,
          2129,
          14,
          352,
          249,
          149,
          2000,
          728,
          344,
          421,
          3709,
          145,
          1944,
          155,
          2634,
          506,
          627,
          531,
          73,
          426,
          1504,
          18,
          3557,
          385,
          2844,
          279,
          323,
          1839,
          270,
          30,
          51,
          563,
          130,
          2059,
          17369,
          5088,
          10596,
          770,
          105,
          1517,
          886,
          750,
          85,
          12,
          85,
          0,
          186,
          29,
          264,
          597,
          145,
          308,
          185,
          75,
          17,
          1237,
          2246,
          377,
          785,
          70,
          67,
          66,
          1423,
          1334,
          0,
          0,
          0,
          0,
          0,
          0,
          2034,
          560,
          1536,
          28,
          0,
          0,
          3987,
          0,
          0,
          4,
          1944,
          60,
          47,
          0,
          902,
          16,
          37,
          85,
          351,
          1717,
          198,
          2232,
          894,
          490,
          609,
          2950,
          2099,
          240,
          2291,
          1676,
          1662,
          0,
          2338,
          2249,
          2769,
          22344,
          14494,
          16821,
          630,
          341,
          171,
          2047,
          9021,
          2079,
          1481,
          95,
          930,
          11,
          1639,
          417,
          801,
          9549,
          4341,
          86,
          2953,
          114,
          838,
          2003,
          0,
          70,
          30,
          3218,
          46,
          1157,
          0,
          255,
          0,
          0,
          0,
          0,
          0,
          0,
          245,
          2515,
          1920,
          2087,
          241,
          85,
          268,
          46,
          207,
          1228,
          553,
          658,
          893,
          2434,
          116
         ]
        }
       ],
       "layout": {
        "legend": {
         "tracegroupgap": 0
        },
        "template": {
         "data": {
          "bar": [
           {
            "error_x": {
             "color": "#2a3f5f"
            },
            "error_y": {
             "color": "#2a3f5f"
            },
            "marker": {
             "line": {
              "color": "#E5ECF6",
              "width": 0.5
             },
             "pattern": {
              "fillmode": "overlay",
              "size": 10,
              "solidity": 0.2
             }
            },
            "type": "bar"
           }
          ],
          "barpolar": [
           {
            "marker": {
             "line": {
              "color": "#E5ECF6",
              "width": 0.5
             },
             "pattern": {
              "fillmode": "overlay",
              "size": 10,
              "solidity": 0.2
             }
            },
            "type": "barpolar"
           }
          ],
          "carpet": [
           {
            "aaxis": {
             "endlinecolor": "#2a3f5f",
             "gridcolor": "white",
             "linecolor": "white",
             "minorgridcolor": "white",
             "startlinecolor": "#2a3f5f"
            },
            "baxis": {
             "endlinecolor": "#2a3f5f",
             "gridcolor": "white",
             "linecolor": "white",
             "minorgridcolor": "white",
             "startlinecolor": "#2a3f5f"
            },
            "type": "carpet"
           }
          ],
          "choropleth": [
           {
            "colorbar": {
             "outlinewidth": 0,
             "ticks": ""
            },
            "type": "choropleth"
           }
          ],
          "contour": [
           {
            "colorbar": {
             "outlinewidth": 0,
             "ticks": ""
            },
            "colorscale": [
             [
              0,
              "#0d0887"
             ],
             [
              0.1111111111111111,
              "#46039f"
             ],
             [
              0.2222222222222222,
              "#7201a8"
             ],
             [
              0.3333333333333333,
              "#9c179e"
             ],
             [
              0.4444444444444444,
              "#bd3786"
             ],
             [
              0.5555555555555556,
              "#d8576b"
             ],
             [
              0.6666666666666666,
              "#ed7953"
             ],
             [
              0.7777777777777778,
              "#fb9f3a"
             ],
             [
              0.8888888888888888,
              "#fdca26"
             ],
             [
              1,
              "#f0f921"
             ]
            ],
            "type": "contour"
           }
          ],
          "contourcarpet": [
           {
            "colorbar": {
             "outlinewidth": 0,
             "ticks": ""
            },
            "type": "contourcarpet"
           }
          ],
          "heatmap": [
           {
            "colorbar": {
             "outlinewidth": 0,
             "ticks": ""
            },
            "colorscale": [
             [
              0,
              "#0d0887"
             ],
             [
              0.1111111111111111,
              "#46039f"
             ],
             [
              0.2222222222222222,
              "#7201a8"
             ],
             [
              0.3333333333333333,
              "#9c179e"
             ],
             [
              0.4444444444444444,
              "#bd3786"
             ],
             [
              0.5555555555555556,
              "#d8576b"
             ],
             [
              0.6666666666666666,
              "#ed7953"
             ],
             [
              0.7777777777777778,
              "#fb9f3a"
             ],
             [
              0.8888888888888888,
              "#fdca26"
             ],
             [
              1,
              "#f0f921"
             ]
            ],
            "type": "heatmap"
           }
          ],
          "heatmapgl": [
           {
            "colorbar": {
             "outlinewidth": 0,
             "ticks": ""
            },
            "colorscale": [
             [
              0,
              "#0d0887"
             ],
             [
              0.1111111111111111,
              "#46039f"
             ],
             [
              0.2222222222222222,
              "#7201a8"
             ],
             [
              0.3333333333333333,
              "#9c179e"
             ],
             [
              0.4444444444444444,
              "#bd3786"
             ],
             [
              0.5555555555555556,
              "#d8576b"
             ],
             [
              0.6666666666666666,
              "#ed7953"
             ],
             [
              0.7777777777777778,
              "#fb9f3a"
             ],
             [
              0.8888888888888888,
              "#fdca26"
             ],
             [
              1,
              "#f0f921"
             ]
            ],
            "type": "heatmapgl"
           }
          ],
          "histogram": [
           {
            "marker": {
             "pattern": {
              "fillmode": "overlay",
              "size": 10,
              "solidity": 0.2
             }
            },
            "type": "histogram"
           }
          ],
          "histogram2d": [
           {
            "colorbar": {
             "outlinewidth": 0,
             "ticks": ""
            },
            "colorscale": [
             [
              0,
              "#0d0887"
             ],
             [
              0.1111111111111111,
              "#46039f"
             ],
             [
              0.2222222222222222,
              "#7201a8"
             ],
             [
              0.3333333333333333,
              "#9c179e"
             ],
             [
              0.4444444444444444,
              "#bd3786"
             ],
             [
              0.5555555555555556,
              "#d8576b"
             ],
             [
              0.6666666666666666,
              "#ed7953"
             ],
             [
              0.7777777777777778,
              "#fb9f3a"
             ],
             [
              0.8888888888888888,
              "#fdca26"
             ],
             [
              1,
              "#f0f921"
             ]
            ],
            "type": "histogram2d"
           }
          ],
          "histogram2dcontour": [
           {
            "colorbar": {
             "outlinewidth": 0,
             "ticks": ""
            },
            "colorscale": [
             [
              0,
              "#0d0887"
             ],
             [
              0.1111111111111111,
              "#46039f"
             ],
             [
              0.2222222222222222,
              "#7201a8"
             ],
             [
              0.3333333333333333,
              "#9c179e"
             ],
             [
              0.4444444444444444,
              "#bd3786"
             ],
             [
              0.5555555555555556,
              "#d8576b"
             ],
             [
              0.6666666666666666,
              "#ed7953"
             ],
             [
              0.7777777777777778,
              "#fb9f3a"
             ],
             [
              0.8888888888888888,
              "#fdca26"
             ],
             [
              1,
              "#f0f921"
             ]
            ],
            "type": "histogram2dcontour"
           }
          ],
          "mesh3d": [
           {
            "colorbar": {
             "outlinewidth": 0,
             "ticks": ""
            },
            "type": "mesh3d"
           }
          ],
          "parcoords": [
           {
            "line": {
             "colorbar": {
              "outlinewidth": 0,
              "ticks": ""
             }
            },
            "type": "parcoords"
           }
          ],
          "pie": [
           {
            "automargin": true,
            "type": "pie"
           }
          ],
          "scatter": [
           {
            "fillpattern": {
             "fillmode": "overlay",
             "size": 10,
             "solidity": 0.2
            },
            "type": "scatter"
           }
          ],
          "scatter3d": [
           {
            "line": {
             "colorbar": {
              "outlinewidth": 0,
              "ticks": ""
             }
            },
            "marker": {
             "colorbar": {
              "outlinewidth": 0,
              "ticks": ""
             }
            },
            "type": "scatter3d"
           }
          ],
          "scattercarpet": [
           {
            "marker": {
             "colorbar": {
              "outlinewidth": 0,
              "ticks": ""
             }
            },
            "type": "scattercarpet"
           }
          ],
          "scattergeo": [
           {
            "marker": {
             "colorbar": {
              "outlinewidth": 0,
              "ticks": ""
             }
            },
            "type": "scattergeo"
           }
          ],
          "scattergl": [
           {
            "marker": {
             "colorbar": {
              "outlinewidth": 0,
              "ticks": ""
             }
            },
            "type": "scattergl"
           }
          ],
          "scattermapbox": [
           {
            "marker": {
             "colorbar": {
              "outlinewidth": 0,
              "ticks": ""
             }
            },
            "type": "scattermapbox"
           }
          ],
          "scatterpolar": [
           {
            "marker": {
             "colorbar": {
              "outlinewidth": 0,
              "ticks": ""
             }
            },
            "type": "scatterpolar"
           }
          ],
          "scatterpolargl": [
           {
            "marker": {
             "colorbar": {
              "outlinewidth": 0,
              "ticks": ""
             }
            },
            "type": "scatterpolargl"
           }
          ],
          "scatterternary": [
           {
            "marker": {
             "colorbar": {
              "outlinewidth": 0,
              "ticks": ""
             }
            },
            "type": "scatterternary"
           }
          ],
          "surface": [
           {
            "colorbar": {
             "outlinewidth": 0,
             "ticks": ""
            },
            "colorscale": [
             [
              0,
              "#0d0887"
             ],
             [
              0.1111111111111111,
              "#46039f"
             ],
             [
              0.2222222222222222,
              "#7201a8"
             ],
             [
              0.3333333333333333,
              "#9c179e"
             ],
             [
              0.4444444444444444,
              "#bd3786"
             ],
             [
              0.5555555555555556,
              "#d8576b"
             ],
             [
              0.6666666666666666,
              "#ed7953"
             ],
             [
              0.7777777777777778,
              "#fb9f3a"
             ],
             [
              0.8888888888888888,
              "#fdca26"
             ],
             [
              1,
              "#f0f921"
             ]
            ],
            "type": "surface"
           }
          ],
          "table": [
           {
            "cells": {
             "fill": {
              "color": "#EBF0F8"
             },
             "line": {
              "color": "white"
             }
            },
            "header": {
             "fill": {
              "color": "#C8D4E3"
             },
             "line": {
              "color": "white"
             }
            },
            "type": "table"
           }
          ]
         },
         "layout": {
          "annotationdefaults": {
           "arrowcolor": "#2a3f5f",
           "arrowhead": 0,
           "arrowwidth": 1
          },
          "autotypenumbers": "strict",
          "coloraxis": {
           "colorbar": {
            "outlinewidth": 0,
            "ticks": ""
           }
          },
          "colorscale": {
           "diverging": [
            [
             0,
             "#8e0152"
            ],
            [
             0.1,
             "#c51b7d"
            ],
            [
             0.2,
             "#de77ae"
            ],
            [
             0.3,
             "#f1b6da"
            ],
            [
             0.4,
             "#fde0ef"
            ],
            [
             0.5,
             "#f7f7f7"
            ],
            [
             0.6,
             "#e6f5d0"
            ],
            [
             0.7,
             "#b8e186"
            ],
            [
             0.8,
             "#7fbc41"
            ],
            [
             0.9,
             "#4d9221"
            ],
            [
             1,
             "#276419"
            ]
           ],
           "sequential": [
            [
             0,
             "#0d0887"
            ],
            [
             0.1111111111111111,
             "#46039f"
            ],
            [
             0.2222222222222222,
             "#7201a8"
            ],
            [
             0.3333333333333333,
             "#9c179e"
            ],
            [
             0.4444444444444444,
             "#bd3786"
            ],
            [
             0.5555555555555556,
             "#d8576b"
            ],
            [
             0.6666666666666666,
             "#ed7953"
            ],
            [
             0.7777777777777778,
             "#fb9f3a"
            ],
            [
             0.8888888888888888,
             "#fdca26"
            ],
            [
             1,
             "#f0f921"
            ]
           ],
           "sequentialminus": [
            [
             0,
             "#0d0887"
            ],
            [
             0.1111111111111111,
             "#46039f"
            ],
            [
             0.2222222222222222,
             "#7201a8"
            ],
            [
             0.3333333333333333,
             "#9c179e"
            ],
            [
             0.4444444444444444,
             "#bd3786"
            ],
            [
             0.5555555555555556,
             "#d8576b"
            ],
            [
             0.6666666666666666,
             "#ed7953"
            ],
            [
             0.7777777777777778,
             "#fb9f3a"
            ],
            [
             0.8888888888888888,
             "#fdca26"
            ],
            [
             1,
             "#f0f921"
            ]
           ]
          },
          "colorway": [
           "#636efa",
           "#EF553B",
           "#00cc96",
           "#ab63fa",
           "#FFA15A",
           "#19d3f3",
           "#FF6692",
           "#B6E880",
           "#FF97FF",
           "#FECB52"
          ],
          "font": {
           "color": "#2a3f5f"
          },
          "geo": {
           "bgcolor": "white",
           "lakecolor": "white",
           "landcolor": "#E5ECF6",
           "showlakes": true,
           "showland": true,
           "subunitcolor": "white"
          },
          "hoverlabel": {
           "align": "left"
          },
          "hovermode": "closest",
          "mapbox": {
           "style": "light"
          },
          "paper_bgcolor": "white",
          "plot_bgcolor": "#E5ECF6",
          "polar": {
           "angularaxis": {
            "gridcolor": "white",
            "linecolor": "white",
            "ticks": ""
           },
           "bgcolor": "#E5ECF6",
           "radialaxis": {
            "gridcolor": "white",
            "linecolor": "white",
            "ticks": ""
           }
          },
          "scene": {
           "xaxis": {
            "backgroundcolor": "#E5ECF6",
            "gridcolor": "white",
            "gridwidth": 2,
            "linecolor": "white",
            "showbackground": true,
            "ticks": "",
            "zerolinecolor": "white"
           },
           "yaxis": {
            "backgroundcolor": "#E5ECF6",
            "gridcolor": "white",
            "gridwidth": 2,
            "linecolor": "white",
            "showbackground": true,
            "ticks": "",
            "zerolinecolor": "white"
           },
           "zaxis": {
            "backgroundcolor": "#E5ECF6",
            "gridcolor": "white",
            "gridwidth": 2,
            "linecolor": "white",
            "showbackground": true,
            "ticks": "",
            "zerolinecolor": "white"
           }
          },
          "shapedefaults": {
           "line": {
            "color": "#2a3f5f"
           }
          },
          "ternary": {
           "aaxis": {
            "gridcolor": "white",
            "linecolor": "white",
            "ticks": ""
           },
           "baxis": {
            "gridcolor": "white",
            "linecolor": "white",
            "ticks": ""
           },
           "bgcolor": "#E5ECF6",
           "caxis": {
            "gridcolor": "white",
            "linecolor": "white",
            "ticks": ""
           }
          },
          "title": {
           "x": 0.05
          },
          "xaxis": {
           "automargin": true,
           "gridcolor": "white",
           "linecolor": "white",
           "ticks": "",
           "title": {
            "standoff": 15
           },
           "zerolinecolor": "white",
           "zerolinewidth": 2
          },
          "yaxis": {
           "automargin": true,
           "gridcolor": "white",
           "linecolor": "white",
           "ticks": "",
           "title": {
            "standoff": 15
           },
           "zerolinecolor": "white",
           "zerolinewidth": 2
          }
         }
        },
        "title": {
         "text": "Total Worker Distrubution by Country"
        }
       }
      }
     },
     "metadata": {},
     "output_type": "display_data"
    }
   ],
   "source": [
    "# pie chart\n",
    "fig = px.pie(df, values='Total Workers', names='Country', title='Total Worker Distrubution by Country')\n",
    "fig.update_traces(textposition='inside', textinfo='percent')\n",
    "fig.show()"
   ]
  },
  {
   "cell_type": "code",
   "execution_count": 178,
   "metadata": {},
   "outputs": [
    {
     "data": {
      "application/vnd.plotly.v1+json": {
       "config": {
        "plotlyServerURL": "https://plot.ly"
       },
       "data": [
        {
         "alignmentgroup": "True",
         "hovertemplate": "Country=%{y}<br>Product Type=%{x}<extra></extra>",
         "legendgroup": "USA",
         "marker": {
          "color": "#636efa",
          "pattern": {
           "shape": ""
          }
         },
         "name": "USA",
         "offsetgroup": "USA",
         "orientation": "v",
         "showlegend": true,
         "textposition": "auto",
         "type": "bar",
         "x": [
          "APPAREL",
          "APPAREL",
          "APPAREL",
          "APPAREL",
          "APPAREL",
          "APPAREL",
          "EQUIPMENT",
          "APPAREL",
          "APPAREL",
          "APPAREL",
          "APPAREL",
          "APPAREL",
          "APPAREL",
          "APPAREL",
          "APPAREL",
          "APPAREL",
          "APPAREL",
          "APPAREL",
          "EQUIPMENT",
          "APPAREL",
          "APPAREL",
          "APPAREL",
          "APPAREL",
          "APPAREL",
          "EQUIPMENT",
          "APPAREL",
          "APPAREL",
          "APPAREL",
          "APPAREL",
          "APPAREL",
          "APPAREL",
          "APPAREL",
          "APPAREL",
          "APPAREL",
          "APPAREL",
          "APPAREL",
          "EQUIPMENT",
          "EQUIPMENT",
          "APPAREL",
          "APPAREL",
          "EQUIPMENT",
          "APPAREL",
          "EQUIPMENT",
          "APPAREL",
          "APPAREL",
          "APPAREL"
         ],
         "xaxis": "x",
         "y": [
          "USA",
          "USA",
          "USA",
          "USA",
          "USA",
          "USA",
          "USA",
          "USA",
          "USA",
          "USA",
          "USA",
          "USA",
          "USA",
          "USA",
          "USA",
          "USA",
          "USA",
          "USA",
          "USA",
          "USA",
          "USA",
          "USA",
          "USA",
          "USA",
          "USA",
          "USA",
          "USA",
          "USA",
          "USA",
          "USA",
          "USA",
          "USA",
          "USA",
          "USA",
          "USA",
          "USA",
          "USA",
          "USA",
          "USA",
          "USA",
          "USA",
          "USA",
          "USA",
          "USA",
          "USA",
          "USA"
         ],
         "yaxis": "y"
        },
        {
         "alignmentgroup": "True",
         "hovertemplate": "Country=%{y}<br>Product Type=%{x}<extra></extra>",
         "legendgroup": "VIETNAM",
         "marker": {
          "color": "#EF553B",
          "pattern": {
           "shape": ""
          }
         },
         "name": "VIETNAM",
         "offsetgroup": "VIETNAM",
         "orientation": "v",
         "showlegend": true,
         "textposition": "auto",
         "type": "bar",
         "x": [
          "APPAREL",
          "FOOTWEAR",
          "EQUIPMENT",
          "FOOTWEAR",
          "APPAREL",
          "FOOTWEAR",
          "MATERIALS",
          "FOOTWEAR",
          "APPAREL",
          "FOOTWEAR",
          "FOOTWEAR",
          "APPAREL",
          "FOOTWEAR",
          "EQUIPMENT",
          "FOOTWEAR",
          "FOOTWEAR",
          "FOOTWEAR",
          "FOOTWEAR",
          "MATERIALS",
          "MATERIALS",
          "APPAREL",
          "APPAREL",
          "APPAREL",
          "APPAREL",
          "FOOTWEAR",
          "APPAREL",
          "APPAREL",
          "APPAREL",
          "APPAREL",
          "APPAREL",
          "MATERIALS",
          "FOOTWEAR",
          "FOOTWEAR",
          "FOOTWEAR",
          "MATERIALS",
          "MATERIALS",
          "APPAREL",
          "APPAREL",
          "EQUIPMENT",
          "APPAREL",
          "APPAREL",
          "APPAREL",
          "APPAREL",
          "APPAREL",
          "APPAREL",
          "APPAREL",
          "APPAREL",
          "MATERIALS",
          "MATERIALS",
          "APPAREL",
          "APPAREL",
          "APPAREL",
          "APPAREL",
          "APPAREL",
          "APPAREL",
          "MATERIALS",
          "FOOTWEAR",
          "APPAREL",
          "APPAREL",
          "APPAREL",
          "APPAREL",
          "FOOTWEAR",
          "MATERIALS",
          "MATERIALS",
          "APPAREL",
          "APPAREL",
          "EQUIPMENT",
          "MATERIALS",
          "FOOTWEAR",
          "APPAREL",
          "APPAREL",
          "APPAREL",
          "FOOTWEAR",
          "FOOTWEAR",
          "FOOTWEAR",
          "FOOTWEAR",
          "APPAREL",
          "APPAREL",
          "APPAREL",
          "MATERIALS",
          "APPAREL",
          "APPAREL",
          "MATERIALS",
          "APPAREL",
          "APPAREL",
          "APPAREL",
          "APPAREL",
          "APPAREL",
          "APPAREL",
          "APPAREL",
          "APPAREL",
          "MATERIALS",
          "APPAREL",
          "APPAREL",
          "APPAREL",
          "FOOTWEAR",
          "FOOTWEAR",
          "FOOTWEAR",
          "APPAREL",
          "APPAREL",
          "FOOTWEAR",
          "APPAREL",
          "EQUIPMENT",
          "APPAREL",
          "EQUIPMENT",
          "MATERIALS",
          "MATERIALS",
          "APPAREL"
         ],
         "xaxis": "x",
         "y": [
          "VIETNAM",
          "VIETNAM",
          "VIETNAM",
          "VIETNAM",
          "VIETNAM",
          "VIETNAM",
          "VIETNAM",
          "VIETNAM",
          "VIETNAM",
          "VIETNAM",
          "VIETNAM",
          "VIETNAM",
          "VIETNAM",
          "VIETNAM",
          "VIETNAM",
          "VIETNAM",
          "VIETNAM",
          "VIETNAM",
          "VIETNAM",
          "VIETNAM",
          "VIETNAM",
          "VIETNAM",
          "VIETNAM",
          "VIETNAM",
          "VIETNAM",
          "VIETNAM",
          "VIETNAM",
          "VIETNAM",
          "VIETNAM",
          "VIETNAM",
          "VIETNAM",
          "VIETNAM",
          "VIETNAM",
          "VIETNAM",
          "VIETNAM",
          "VIETNAM",
          "VIETNAM",
          "VIETNAM",
          "VIETNAM",
          "VIETNAM",
          "VIETNAM",
          "VIETNAM",
          "VIETNAM",
          "VIETNAM",
          "VIETNAM",
          "VIETNAM",
          "VIETNAM",
          "VIETNAM",
          "VIETNAM",
          "VIETNAM",
          "VIETNAM",
          "VIETNAM",
          "VIETNAM",
          "VIETNAM",
          "VIETNAM",
          "VIETNAM",
          "VIETNAM",
          "VIETNAM",
          "VIETNAM",
          "VIETNAM",
          "VIETNAM",
          "VIETNAM",
          "VIETNAM",
          "VIETNAM",
          "VIETNAM",
          "VIETNAM",
          "VIETNAM",
          "VIETNAM",
          "VIETNAM",
          "VIETNAM",
          "VIETNAM",
          "VIETNAM",
          "VIETNAM",
          "VIETNAM",
          "VIETNAM",
          "VIETNAM",
          "VIETNAM",
          "VIETNAM",
          "VIETNAM",
          "VIETNAM",
          "VIETNAM",
          "VIETNAM",
          "VIETNAM",
          "VIETNAM",
          "VIETNAM",
          "VIETNAM",
          "VIETNAM",
          "VIETNAM",
          "VIETNAM",
          "VIETNAM",
          "VIETNAM",
          "VIETNAM",
          "VIETNAM",
          "VIETNAM",
          "VIETNAM",
          "VIETNAM",
          "VIETNAM",
          "VIETNAM",
          "VIETNAM",
          "VIETNAM",
          "VIETNAM",
          "VIETNAM",
          "VIETNAM",
          "VIETNAM",
          "VIETNAM",
          "VIETNAM",
          "VIETNAM",
          "VIETNAM"
         ],
         "yaxis": "y"
        },
        {
         "alignmentgroup": "True",
         "hovertemplate": "Country=%{y}<br>Product Type=%{x}<extra></extra>",
         "legendgroup": "GUATEMALA",
         "marker": {
          "color": "#00cc96",
          "pattern": {
           "shape": ""
          }
         },
         "name": "GUATEMALA",
         "offsetgroup": "GUATEMALA",
         "orientation": "v",
         "showlegend": true,
         "textposition": "auto",
         "type": "bar",
         "x": [
          "APPAREL",
          "APPAREL",
          "APPAREL",
          "APPAREL"
         ],
         "xaxis": "x",
         "y": [
          "GUATEMALA",
          "GUATEMALA",
          "GUATEMALA",
          "GUATEMALA"
         ],
         "yaxis": "y"
        },
        {
         "alignmentgroup": "True",
         "hovertemplate": "Country=%{y}<br>Product Type=%{x}<extra></extra>",
         "legendgroup": "GEORGIA",
         "marker": {
          "color": "#ab63fa",
          "pattern": {
           "shape": ""
          }
         },
         "name": "GEORGIA",
         "offsetgroup": "GEORGIA",
         "orientation": "v",
         "showlegend": true,
         "textposition": "auto",
         "type": "bar",
         "x": [
          "APPAREL",
          "APPAREL"
         ],
         "xaxis": "x",
         "y": [
          "GEORGIA",
          "GEORGIA"
         ],
         "yaxis": "y"
        },
        {
         "alignmentgroup": "True",
         "hovertemplate": "Country=%{y}<br>Product Type=%{x}<extra></extra>",
         "legendgroup": "ARGENTINA",
         "marker": {
          "color": "#FFA15A",
          "pattern": {
           "shape": ""
          }
         },
         "name": "ARGENTINA",
         "offsetgroup": "ARGENTINA",
         "orientation": "v",
         "showlegend": true,
         "textposition": "auto",
         "type": "bar",
         "x": [
          "EQUIPMENT",
          "APPAREL",
          "FOOTWEAR",
          "FOOTWEAR",
          "EQUIPMENT",
          "APPAREL",
          "EQUIPMENT",
          "APPAREL",
          "APPAREL",
          "APPAREL",
          "FOOTWEAR",
          "FOOTWEAR",
          "APPAREL",
          "EQUIPMENT",
          "APPAREL",
          "APPAREL"
         ],
         "xaxis": "x",
         "y": [
          "ARGENTINA",
          "ARGENTINA",
          "ARGENTINA",
          "ARGENTINA",
          "ARGENTINA",
          "ARGENTINA",
          "ARGENTINA",
          "ARGENTINA",
          "ARGENTINA",
          "ARGENTINA",
          "ARGENTINA",
          "ARGENTINA",
          "ARGENTINA",
          "ARGENTINA",
          "ARGENTINA",
          "ARGENTINA"
         ],
         "yaxis": "y"
        },
        {
         "alignmentgroup": "True",
         "hovertemplate": "Country=%{y}<br>Product Type=%{x}<extra></extra>",
         "legendgroup": "CHINA",
         "marker": {
          "color": "#19d3f3",
          "pattern": {
           "shape": ""
          }
         },
         "name": "CHINA",
         "offsetgroup": "CHINA",
         "orientation": "v",
         "showlegend": true,
         "textposition": "auto",
         "type": "bar",
         "x": [
          "EQUIPMENT",
          "APPAREL",
          "EQUIPMENT",
          "APPAREL",
          "EQUIPMENT",
          "EQUIPMENT",
          "EQUIPMENT",
          "FOOTWEAR",
          "APPAREL",
          "EQUIPMENT",
          "EQUIPMENT",
          "APPAREL",
          "EQUIPMENT",
          "APPAREL",
          "APPAREL",
          "MATERIALS",
          "MATERIALS",
          "APPAREL",
          "EQUIPMENT",
          "EQUIPMENT",
          "MATERIALS",
          "FOOTWEAR",
          "FOOTWEAR",
          "FOOTWEAR",
          "FOOTWEAR",
          "APPAREL",
          "MATERIALS",
          "EQUIPMENT",
          "EQUIPMENT",
          "APPAREL",
          "FOOTWEAR",
          "APPAREL",
          "FOOTWEAR",
          "EQUIPMENT",
          "EQUIPMENT",
          "APPAREL",
          "APPAREL",
          "EQUIPMENT",
          "APPAREL",
          "APPAREL",
          "FOOTWEAR",
          "APPAREL",
          "APPAREL",
          "EQUIPMENT",
          "FOOTWEAR",
          "APPAREL",
          "MATERIALS",
          "APPAREL",
          "FOOTWEAR",
          "FOOTWEAR",
          "FOOTWEAR",
          "FOOTWEAR",
          "EQUIPMENT",
          "EQUIPMENT",
          "EQUIPMENT",
          "APPAREL",
          "APPAREL",
          "APPAREL",
          "APPAREL",
          "MATERIALS",
          "APPAREL",
          "APPAREL",
          "APPAREL",
          "APPAREL",
          "EQUIPMENT",
          "EQUIPMENT",
          "APPAREL",
          "FOOTWEAR",
          "EQUIPMENT",
          "FOOTWEAR",
          "EQUIPMENT",
          "EQUIPMENT",
          "MATERIALS",
          "FOOTWEAR",
          "FOOTWEAR",
          "FOOTWEAR",
          "FOOTWEAR",
          "FOOTWEAR",
          "APPAREL",
          "APPAREL",
          "EQUIPMENT",
          "EQUIPMENT",
          "APPAREL",
          "MATERIALS",
          "APPAREL",
          "APPAREL",
          "APPAREL",
          "APPAREL",
          "MATERIALS",
          "FOOTWEAR",
          "APPAREL",
          "FOOTWEAR",
          "FOOTWEAR",
          "APPAREL",
          "EQUIPMENT",
          "APPAREL",
          "FOOTWEAR",
          "FOOTWEAR",
          "FOOTWEAR",
          "APPAREL",
          "APPAREL",
          "APPAREL",
          "APPAREL",
          "APPAREL",
          "APPAREL",
          "EQUIPMENT",
          "MATERIALS",
          "APPAREL",
          "MATERIALS",
          "MATERIALS",
          "APPAREL",
          "EQUIPMENT",
          "EQUIPMENT",
          "EQUIPMENT",
          "APPAREL",
          "EQUIPMENT",
          "FOOTWEAR",
          "APPAREL",
          "FOOTWEAR",
          "FOOTWEAR",
          "FOOTWEAR",
          "FOOTWEAR",
          "APPAREL",
          "FOOTWEAR",
          "EQUIPMENT",
          "APPAREL",
          "EQUIPMENT",
          "APPAREL",
          "EQUIPMENT",
          "APPAREL",
          "APPAREL",
          "FOOTWEAR",
          "APPAREL",
          "EQUIPMENT",
          "EQUIPMENT"
         ],
         "xaxis": "x",
         "y": [
          "CHINA",
          "CHINA",
          "CHINA",
          "CHINA",
          "CHINA",
          "CHINA",
          "CHINA",
          "CHINA",
          "CHINA",
          "CHINA",
          "CHINA",
          "CHINA",
          "CHINA",
          "CHINA",
          "CHINA",
          "CHINA",
          "CHINA",
          "CHINA",
          "CHINA",
          "CHINA",
          "CHINA",
          "CHINA",
          "CHINA",
          "CHINA",
          "CHINA",
          "CHINA",
          "CHINA",
          "CHINA",
          "CHINA",
          "CHINA",
          "CHINA",
          "CHINA",
          "CHINA",
          "CHINA",
          "CHINA",
          "CHINA",
          "CHINA",
          "CHINA",
          "CHINA",
          "CHINA",
          "CHINA",
          "CHINA",
          "CHINA",
          "CHINA",
          "CHINA",
          "CHINA",
          "CHINA",
          "CHINA",
          "CHINA",
          "CHINA",
          "CHINA",
          "CHINA",
          "CHINA",
          "CHINA",
          "CHINA",
          "CHINA",
          "CHINA",
          "CHINA",
          "CHINA",
          "CHINA",
          "CHINA",
          "CHINA",
          "CHINA",
          "CHINA",
          "CHINA",
          "CHINA",
          "CHINA",
          "CHINA",
          "CHINA",
          "CHINA",
          "CHINA",
          "CHINA",
          "CHINA",
          "CHINA",
          "CHINA",
          "CHINA",
          "CHINA",
          "CHINA",
          "CHINA",
          "CHINA",
          "CHINA",
          "CHINA",
          "CHINA",
          "CHINA",
          "CHINA",
          "CHINA",
          "CHINA",
          "CHINA",
          "CHINA",
          "CHINA",
          "CHINA",
          "CHINA",
          "CHINA",
          "CHINA",
          "CHINA",
          "CHINA",
          "CHINA",
          "CHINA",
          "CHINA",
          "CHINA",
          "CHINA",
          "CHINA",
          "CHINA",
          "CHINA",
          "CHINA",
          "CHINA",
          "CHINA",
          "CHINA",
          "CHINA",
          "CHINA",
          "CHINA",
          "CHINA",
          "CHINA",
          "CHINA",
          "CHINA",
          "CHINA",
          "CHINA",
          "CHINA",
          "CHINA",
          "CHINA",
          "CHINA",
          "CHINA",
          "CHINA",
          "CHINA",
          "CHINA",
          "CHINA",
          "CHINA",
          "CHINA",
          "CHINA",
          "CHINA",
          "CHINA",
          "CHINA",
          "CHINA",
          "CHINA",
          "CHINA"
         ],
         "yaxis": "y"
        },
        {
         "alignmentgroup": "True",
         "hovertemplate": "Country=%{y}<br>Product Type=%{x}<extra></extra>",
         "legendgroup": "BRAZIL",
         "marker": {
          "color": "#FF6692",
          "pattern": {
           "shape": ""
          }
         },
         "name": "BRAZIL",
         "offsetgroup": "BRAZIL",
         "orientation": "v",
         "showlegend": true,
         "textposition": "auto",
         "type": "bar",
         "x": [
          "FOOTWEAR",
          "FOOTWEAR",
          "FOOTWEAR",
          "APPAREL",
          "FOOTWEAR",
          "FOOTWEAR",
          "FOOTWEAR",
          "FOOTWEAR",
          "FOOTWEAR",
          "FOOTWEAR",
          "APPAREL",
          "FOOTWEAR",
          "FOOTWEAR",
          "FOOTWEAR",
          "APPAREL",
          "FOOTWEAR",
          "APPAREL",
          "APPAREL",
          "APPAREL",
          "FOOTWEAR",
          "APPAREL",
          "APPAREL",
          "APPAREL",
          "MATERIALS",
          "FOOTWEAR",
          "APPAREL",
          "FOOTWEAR",
          "FOOTWEAR"
         ],
         "xaxis": "x",
         "y": [
          "BRAZIL",
          "BRAZIL",
          "BRAZIL",
          "BRAZIL",
          "BRAZIL",
          "BRAZIL",
          "BRAZIL",
          "BRAZIL",
          "BRAZIL",
          "BRAZIL",
          "BRAZIL",
          "BRAZIL",
          "BRAZIL",
          "BRAZIL",
          "BRAZIL",
          "BRAZIL",
          "BRAZIL",
          "BRAZIL",
          "BRAZIL",
          "BRAZIL",
          "BRAZIL",
          "BRAZIL",
          "BRAZIL",
          "BRAZIL",
          "BRAZIL",
          "BRAZIL",
          "BRAZIL",
          "BRAZIL"
         ],
         "yaxis": "y"
        },
        {
         "alignmentgroup": "True",
         "hovertemplate": "Country=%{y}<br>Product Type=%{x}<extra></extra>",
         "legendgroup": "NICARAGUA",
         "marker": {
          "color": "#B6E880",
          "pattern": {
           "shape": ""
          }
         },
         "name": "NICARAGUA",
         "offsetgroup": "NICARAGUA",
         "orientation": "v",
         "showlegend": true,
         "textposition": "auto",
         "type": "bar",
         "x": [
          "APPAREL",
          "APPAREL"
         ],
         "xaxis": "x",
         "y": [
          "NICARAGUA",
          "NICARAGUA"
         ],
         "yaxis": "y"
        },
        {
         "alignmentgroup": "True",
         "hovertemplate": "Country=%{y}<br>Product Type=%{x}<extra></extra>",
         "legendgroup": "SRI LANKA",
         "marker": {
          "color": "#FF97FF",
          "pattern": {
           "shape": ""
          }
         },
         "name": "SRI LANKA",
         "offsetgroup": "SRI LANKA",
         "orientation": "v",
         "showlegend": true,
         "textposition": "auto",
         "type": "bar",
         "x": [
          "APPAREL",
          "APPAREL",
          "APPAREL",
          "APPAREL",
          "APPAREL",
          "APPAREL",
          "APPAREL",
          "APPAREL",
          "APPAREL",
          "APPAREL",
          "APPAREL",
          "APPAREL",
          "APPAREL",
          "APPAREL",
          "APPAREL",
          "FOOTWEAR",
          "APPAREL",
          "EQUIPMENT"
         ],
         "xaxis": "x",
         "y": [
          "SRI LANKA",
          "SRI LANKA",
          "SRI LANKA",
          "SRI LANKA",
          "SRI LANKA",
          "SRI LANKA",
          "SRI LANKA",
          "SRI LANKA",
          "SRI LANKA",
          "SRI LANKA",
          "SRI LANKA",
          "SRI LANKA",
          "SRI LANKA",
          "SRI LANKA",
          "SRI LANKA",
          "SRI LANKA",
          "SRI LANKA",
          "SRI LANKA"
         ],
         "yaxis": "y"
        },
        {
         "alignmentgroup": "True",
         "hovertemplate": "Country=%{y}<br>Product Type=%{x}<extra></extra>",
         "legendgroup": "HONDURAS",
         "marker": {
          "color": "#FECB52",
          "pattern": {
           "shape": ""
          }
         },
         "name": "HONDURAS",
         "offsetgroup": "HONDURAS",
         "orientation": "v",
         "showlegend": true,
         "textposition": "auto",
         "type": "bar",
         "x": [
          "MATERIALS",
          "APPAREL",
          "APPAREL",
          "APPAREL",
          "APPAREL",
          "APPAREL"
         ],
         "xaxis": "x",
         "y": [
          "HONDURAS",
          "HONDURAS",
          "HONDURAS",
          "HONDURAS",
          "HONDURAS",
          "HONDURAS"
         ],
         "yaxis": "y"
        },
        {
         "alignmentgroup": "True",
         "hovertemplate": "Country=%{y}<br>Product Type=%{x}<extra></extra>",
         "legendgroup": "MOLDOVA",
         "marker": {
          "color": "#636efa",
          "pattern": {
           "shape": ""
          }
         },
         "name": "MOLDOVA",
         "offsetgroup": "MOLDOVA",
         "orientation": "v",
         "showlegend": true,
         "textposition": "auto",
         "type": "bar",
         "x": [
          "APPAREL",
          "APPAREL",
          "APPAREL",
          "APPAREL"
         ],
         "xaxis": "x",
         "y": [
          "MOLDOVA",
          "MOLDOVA",
          "MOLDOVA",
          "MOLDOVA"
         ],
         "yaxis": "y"
        },
        {
         "alignmentgroup": "True",
         "hovertemplate": "Country=%{y}<br>Product Type=%{x}<extra></extra>",
         "legendgroup": "JAPAN",
         "marker": {
          "color": "#EF553B",
          "pattern": {
           "shape": ""
          }
         },
         "name": "JAPAN",
         "offsetgroup": "JAPAN",
         "orientation": "v",
         "showlegend": true,
         "textposition": "auto",
         "type": "bar",
         "x": [
          "EQUIPMENT",
          "APPAREL",
          "FOOTWEAR",
          "EQUIPMENT",
          "EQUIPMENT",
          "EQUIPMENT",
          "EQUIPMENT",
          "APPAREL",
          "APPAREL",
          "APPAREL",
          "EQUIPMENT",
          "EQUIPMENT",
          "EQUIPMENT",
          "APPAREL"
         ],
         "xaxis": "x",
         "y": [
          "JAPAN",
          "JAPAN",
          "JAPAN",
          "JAPAN",
          "JAPAN",
          "JAPAN",
          "JAPAN",
          "JAPAN",
          "JAPAN",
          "JAPAN",
          "JAPAN",
          "JAPAN",
          "JAPAN",
          "JAPAN"
         ],
         "yaxis": "y"
        },
        {
         "alignmentgroup": "True",
         "hovertemplate": "Country=%{y}<br>Product Type=%{x}<extra></extra>",
         "legendgroup": "NETHERLANDS",
         "marker": {
          "color": "#00cc96",
          "pattern": {
           "shape": ""
          }
         },
         "name": "NETHERLANDS",
         "offsetgroup": "NETHERLANDS",
         "orientation": "v",
         "showlegend": true,
         "textposition": "auto",
         "type": "bar",
         "x": [
          "APPAREL",
          "APPAREL"
         ],
         "xaxis": "x",
         "y": [
          "NETHERLANDS",
          "NETHERLANDS"
         ],
         "yaxis": "y"
        },
        {
         "alignmentgroup": "True",
         "hovertemplate": "Country=%{y}<br>Product Type=%{x}<extra></extra>",
         "legendgroup": "SOUTH KOREA",
         "marker": {
          "color": "#ab63fa",
          "pattern": {
           "shape": ""
          }
         },
         "name": "SOUTH KOREA",
         "offsetgroup": "SOUTH KOREA",
         "orientation": "v",
         "showlegend": true,
         "textposition": "auto",
         "type": "bar",
         "x": [
          "MATERIALS",
          "EQUIPMENT",
          "FOOTWEAR",
          "FOOTWEAR",
          "FOOTWEAR",
          "FOOTWEAR",
          "MATERIALS",
          "FOOTWEAR",
          "MATERIALS",
          "FOOTWEAR",
          "MATERIALS",
          "FOOTWEAR",
          "MATERIALS",
          "MATERIALS",
          "MATERIALS"
         ],
         "xaxis": "x",
         "y": [
          "SOUTH KOREA",
          "SOUTH KOREA",
          "SOUTH KOREA",
          "SOUTH KOREA",
          "SOUTH KOREA",
          "SOUTH KOREA",
          "SOUTH KOREA",
          "SOUTH KOREA",
          "SOUTH KOREA",
          "SOUTH KOREA",
          "SOUTH KOREA",
          "SOUTH KOREA",
          "SOUTH KOREA",
          "SOUTH KOREA",
          "SOUTH KOREA"
         ],
         "yaxis": "y"
        },
        {
         "alignmentgroup": "True",
         "hovertemplate": "Country=%{y}<br>Product Type=%{x}<extra></extra>",
         "legendgroup": "INDONESIA",
         "marker": {
          "color": "#FFA15A",
          "pattern": {
           "shape": ""
          }
         },
         "name": "INDONESIA",
         "offsetgroup": "INDONESIA",
         "orientation": "v",
         "showlegend": true,
         "textposition": "auto",
         "type": "bar",
         "x": [
          "MATERIALS",
          "FOOTWEAR",
          "MATERIALS",
          "EQUIPMENT",
          "APPAREL",
          "EQUIPMENT",
          "FOOTWEAR",
          "FOOTWEAR",
          "FOOTWEAR",
          "EQUIPMENT",
          "FOOTWEAR",
          "APPAREL",
          "APPAREL",
          "FOOTWEAR",
          "APPAREL",
          "APPAREL",
          "FOOTWEAR",
          "APPAREL",
          "APPAREL",
          "APPAREL",
          "FOOTWEAR",
          "APPAREL",
          "FOOTWEAR",
          "FOOTWEAR",
          "APPAREL",
          "APPAREL",
          "APPAREL",
          "APPAREL",
          "APPAREL",
          "FOOTWEAR",
          "APPAREL",
          "MATERIALS",
          "MATERIALS",
          "FOOTWEAR",
          "APPAREL",
          "FOOTWEAR",
          "APPAREL",
          "EQUIPMENT",
          "FOOTWEAR",
          "FOOTWEAR",
          "FOOTWEAR",
          "FOOTWEAR",
          "MATERIALS",
          "MATERIALS",
          "EQUIPMENT"
         ],
         "xaxis": "x",
         "y": [
          "INDONESIA",
          "INDONESIA",
          "INDONESIA",
          "INDONESIA",
          "INDONESIA",
          "INDONESIA",
          "INDONESIA",
          "INDONESIA",
          "INDONESIA",
          "INDONESIA",
          "INDONESIA",
          "INDONESIA",
          "INDONESIA",
          "INDONESIA",
          "INDONESIA",
          "INDONESIA",
          "INDONESIA",
          "INDONESIA",
          "INDONESIA",
          "INDONESIA",
          "INDONESIA",
          "INDONESIA",
          "INDONESIA",
          "INDONESIA",
          "INDONESIA",
          "INDONESIA",
          "INDONESIA",
          "INDONESIA",
          "INDONESIA",
          "INDONESIA",
          "INDONESIA",
          "INDONESIA",
          "INDONESIA",
          "INDONESIA",
          "INDONESIA",
          "INDONESIA",
          "INDONESIA",
          "INDONESIA",
          "INDONESIA",
          "INDONESIA",
          "INDONESIA",
          "INDONESIA",
          "INDONESIA",
          "INDONESIA",
          "INDONESIA"
         ],
         "yaxis": "y"
        },
        {
         "alignmentgroup": "True",
         "hovertemplate": "Country=%{y}<br>Product Type=%{x}<extra></extra>",
         "legendgroup": "ITALY",
         "marker": {
          "color": "#19d3f3",
          "pattern": {
           "shape": ""
          }
         },
         "name": "ITALY",
         "offsetgroup": "ITALY",
         "orientation": "v",
         "showlegend": true,
         "textposition": "auto",
         "type": "bar",
         "x": [
          "APPAREL",
          "FOOTWEAR",
          "FOOTWEAR",
          "FOOTWEAR",
          "APPAREL",
          "APPAREL",
          "APPAREL",
          "APPAREL",
          "FOOTWEAR",
          "EQUIPMENT",
          "APPAREL",
          "APPAREL",
          "EQUIPMENT",
          "APPAREL",
          "FOOTWEAR"
         ],
         "xaxis": "x",
         "y": [
          "ITALY",
          "ITALY",
          "ITALY",
          "ITALY",
          "ITALY",
          "ITALY",
          "ITALY",
          "ITALY",
          "ITALY",
          "ITALY",
          "ITALY",
          "ITALY",
          "ITALY",
          "ITALY",
          "ITALY"
         ],
         "yaxis": "y"
        },
        {
         "alignmentgroup": "True",
         "hovertemplate": "Country=%{y}<br>Product Type=%{x}<extra></extra>",
         "legendgroup": "TAIWAN",
         "marker": {
          "color": "#FF6692",
          "pattern": {
           "shape": ""
          }
         },
         "name": "TAIWAN",
         "offsetgroup": "TAIWAN",
         "orientation": "v",
         "showlegend": true,
         "textposition": "auto",
         "type": "bar",
         "x": [
          "MATERIALS",
          "MATERIALS",
          "MATERIALS",
          "APPAREL",
          "APPAREL",
          "MATERIALS",
          "MATERIALS",
          "MATERIALS",
          "MATERIALS",
          "FOOTWEAR",
          "MATERIALS",
          "MATERIALS",
          "MATERIALS",
          "MATERIALS",
          "EQUIPMENT",
          "MATERIALS",
          "EQUIPMENT",
          "FOOTWEAR",
          "MATERIALS",
          "APPAREL",
          "MATERIALS",
          "FOOTWEAR",
          "MATERIALS",
          "MATERIALS",
          "MATERIALS",
          "MATERIALS",
          "APPAREL",
          "APPAREL",
          "MATERIALS",
          "MATERIALS",
          "MATERIALS",
          "MATERIALS",
          "MATERIALS",
          "MATERIALS",
          "MATERIALS",
          "EQUIPMENT",
          "EQUIPMENT",
          "EQUIPMENT",
          "FOOTWEAR"
         ],
         "xaxis": "x",
         "y": [
          "TAIWAN",
          "TAIWAN",
          "TAIWAN",
          "TAIWAN",
          "TAIWAN",
          "TAIWAN",
          "TAIWAN",
          "TAIWAN",
          "TAIWAN",
          "TAIWAN",
          "TAIWAN",
          "TAIWAN",
          "TAIWAN",
          "TAIWAN",
          "TAIWAN",
          "TAIWAN",
          "TAIWAN",
          "TAIWAN",
          "TAIWAN",
          "TAIWAN",
          "TAIWAN",
          "TAIWAN",
          "TAIWAN",
          "TAIWAN",
          "TAIWAN",
          "TAIWAN",
          "TAIWAN",
          "TAIWAN",
          "TAIWAN",
          "TAIWAN",
          "TAIWAN",
          "TAIWAN",
          "TAIWAN",
          "TAIWAN",
          "TAIWAN",
          "TAIWAN",
          "TAIWAN",
          "TAIWAN",
          "TAIWAN"
         ],
         "yaxis": "y"
        },
        {
         "alignmentgroup": "True",
         "hovertemplate": "Country=%{y}<br>Product Type=%{x}<extra></extra>",
         "legendgroup": "MEXICO",
         "marker": {
          "color": "#B6E880",
          "pattern": {
           "shape": ""
          }
         },
         "name": "MEXICO",
         "offsetgroup": "MEXICO",
         "orientation": "v",
         "showlegend": true,
         "textposition": "auto",
         "type": "bar",
         "x": [
          "APPAREL",
          "APPAREL",
          "APPAREL",
          "APPAREL",
          "FOOTWEAR",
          "APPAREL",
          "APPAREL",
          "APPAREL",
          "FOOTWEAR",
          "APPAREL",
          "APPAREL",
          "APPAREL",
          "APPAREL",
          "APPAREL"
         ],
         "xaxis": "x",
         "y": [
          "MEXICO",
          "MEXICO",
          "MEXICO",
          "MEXICO",
          "MEXICO",
          "MEXICO",
          "MEXICO",
          "MEXICO",
          "MEXICO",
          "MEXICO",
          "MEXICO",
          "MEXICO",
          "MEXICO",
          "MEXICO"
         ],
         "yaxis": "y"
        },
        {
         "alignmentgroup": "True",
         "hovertemplate": "Country=%{y}<br>Product Type=%{x}<extra></extra>",
         "legendgroup": "CAMBODIA",
         "marker": {
          "color": "#FF97FF",
          "pattern": {
           "shape": ""
          }
         },
         "name": "CAMBODIA",
         "offsetgroup": "CAMBODIA",
         "orientation": "v",
         "showlegend": true,
         "textposition": "auto",
         "type": "bar",
         "x": [
          "APPAREL",
          "APPAREL",
          "APPAREL",
          "APPAREL",
          "APPAREL",
          "APPAREL",
          "APPAREL",
          "APPAREL"
         ],
         "xaxis": "x",
         "y": [
          "CAMBODIA",
          "CAMBODIA",
          "CAMBODIA",
          "CAMBODIA",
          "CAMBODIA",
          "CAMBODIA",
          "CAMBODIA",
          "CAMBODIA"
         ],
         "yaxis": "y"
        },
        {
         "alignmentgroup": "True",
         "hovertemplate": "Country=%{y}<br>Product Type=%{x}<extra></extra>",
         "legendgroup": "EL SALVADOR",
         "marker": {
          "color": "#FECB52",
          "pattern": {
           "shape": ""
          }
         },
         "name": "EL SALVADOR",
         "offsetgroup": "EL SALVADOR",
         "orientation": "v",
         "showlegend": true,
         "textposition": "auto",
         "type": "bar",
         "x": [
          "APPAREL",
          "MATERIALS",
          "APPAREL",
          "APPAREL"
         ],
         "xaxis": "x",
         "y": [
          "EL SALVADOR",
          "EL SALVADOR",
          "EL SALVADOR",
          "EL SALVADOR"
         ],
         "yaxis": "y"
        },
        {
         "alignmentgroup": "True",
         "hovertemplate": "Country=%{y}<br>Product Type=%{x}<extra></extra>",
         "legendgroup": "TURKEY",
         "marker": {
          "color": "#636efa",
          "pattern": {
           "shape": ""
          }
         },
         "name": "TURKEY",
         "offsetgroup": "TURKEY",
         "orientation": "v",
         "showlegend": true,
         "textposition": "auto",
         "type": "bar",
         "x": [
          "EQUIPMENT",
          "APPAREL",
          "APPAREL",
          "MATERIALS"
         ],
         "xaxis": "x",
         "y": [
          "TURKEY",
          "TURKEY",
          "TURKEY",
          "TURKEY"
         ],
         "yaxis": "y"
        },
        {
         "alignmentgroup": "True",
         "hovertemplate": "Country=%{y}<br>Product Type=%{x}<extra></extra>",
         "legendgroup": "ISRAEL",
         "marker": {
          "color": "#EF553B",
          "pattern": {
           "shape": ""
          }
         },
         "name": "ISRAEL",
         "offsetgroup": "ISRAEL",
         "orientation": "v",
         "showlegend": true,
         "textposition": "auto",
         "type": "bar",
         "x": [
          "EQUIPMENT"
         ],
         "xaxis": "x",
         "y": [
          "ISRAEL"
         ],
         "yaxis": "y"
        },
        {
         "alignmentgroup": "True",
         "hovertemplate": "Country=%{y}<br>Product Type=%{x}<extra></extra>",
         "legendgroup": "BULGARIA",
         "marker": {
          "color": "#00cc96",
          "pattern": {
           "shape": ""
          }
         },
         "name": "BULGARIA",
         "offsetgroup": "BULGARIA",
         "orientation": "v",
         "showlegend": true,
         "textposition": "auto",
         "type": "bar",
         "x": [
          "EQUIPMENT"
         ],
         "xaxis": "x",
         "y": [
          "BULGARIA"
         ],
         "yaxis": "y"
        },
        {
         "alignmentgroup": "True",
         "hovertemplate": "Country=%{y}<br>Product Type=%{x}<extra></extra>",
         "legendgroup": "BANGLADESH",
         "marker": {
          "color": "#ab63fa",
          "pattern": {
           "shape": ""
          }
         },
         "name": "BANGLADESH",
         "offsetgroup": "BANGLADESH",
         "orientation": "v",
         "showlegend": true,
         "textposition": "auto",
         "type": "bar",
         "x": [
          "APPAREL",
          "EQUIPMENT"
         ],
         "xaxis": "x",
         "y": [
          "BANGLADESH",
          "BANGLADESH"
         ],
         "yaxis": "y"
        },
        {
         "alignmentgroup": "True",
         "hovertemplate": "Country=%{y}<br>Product Type=%{x}<extra></extra>",
         "legendgroup": "CANADA",
         "marker": {
          "color": "#FFA15A",
          "pattern": {
           "shape": ""
          }
         },
         "name": "CANADA",
         "offsetgroup": "CANADA",
         "orientation": "v",
         "showlegend": true,
         "textposition": "auto",
         "type": "bar",
         "x": [
          "APPAREL",
          "APPAREL",
          "APPAREL",
          "APPAREL"
         ],
         "xaxis": "x",
         "y": [
          "CANADA",
          "CANADA",
          "CANADA",
          "CANADA"
         ],
         "yaxis": "y"
        },
        {
         "alignmentgroup": "True",
         "hovertemplate": "Country=%{y}<br>Product Type=%{x}<extra></extra>",
         "legendgroup": "INDIA",
         "marker": {
          "color": "#19d3f3",
          "pattern": {
           "shape": ""
          }
         },
         "name": "INDIA",
         "offsetgroup": "INDIA",
         "orientation": "v",
         "showlegend": true,
         "textposition": "auto",
         "type": "bar",
         "x": [
          "FOOTWEAR",
          "APPAREL",
          "FOOTWEAR",
          "APPAREL",
          "FOOTWEAR",
          "FOOTWEAR",
          "APPAREL",
          "APPAREL",
          "EQUIPMENT",
          "FOOTWEAR",
          "FOOTWEAR"
         ],
         "xaxis": "x",
         "y": [
          "INDIA",
          "INDIA",
          "INDIA",
          "INDIA",
          "INDIA",
          "INDIA",
          "INDIA",
          "INDIA",
          "INDIA",
          "INDIA",
          "INDIA"
         ],
         "yaxis": "y"
        },
        {
         "alignmentgroup": "True",
         "hovertemplate": "Country=%{y}<br>Product Type=%{x}<extra></extra>",
         "legendgroup": "THAILAND",
         "marker": {
          "color": "#FF6692",
          "pattern": {
           "shape": ""
          }
         },
         "name": "THAILAND",
         "offsetgroup": "THAILAND",
         "orientation": "v",
         "showlegend": true,
         "textposition": "auto",
         "type": "bar",
         "x": [
          "APPAREL",
          "MATERIALS",
          "APPAREL",
          "APPAREL",
          "APPAREL",
          "APPAREL",
          "APPAREL",
          "APPAREL",
          "APPAREL",
          "APPAREL",
          "APPAREL",
          "APPAREL",
          "APPAREL",
          "APPAREL",
          "APPAREL",
          "APPAREL",
          "APPAREL",
          "APPAREL",
          "APPAREL",
          "EQUIPMENT",
          "APPAREL",
          "APPAREL",
          "APPAREL",
          "EQUIPMENT",
          "APPAREL",
          "MATERIALS",
          "MATERIALS",
          "APPAREL",
          "EQUIPMENT",
          "APPAREL",
          "EQUIPMENT",
          "EQUIPMENT",
          "APPAREL",
          "MATERIALS"
         ],
         "xaxis": "x",
         "y": [
          "THAILAND",
          "THAILAND",
          "THAILAND",
          "THAILAND",
          "THAILAND",
          "THAILAND",
          "THAILAND",
          "THAILAND",
          "THAILAND",
          "THAILAND",
          "THAILAND",
          "THAILAND",
          "THAILAND",
          "THAILAND",
          "THAILAND",
          "THAILAND",
          "THAILAND",
          "THAILAND",
          "THAILAND",
          "THAILAND",
          "THAILAND",
          "THAILAND",
          "THAILAND",
          "THAILAND",
          "THAILAND",
          "THAILAND",
          "THAILAND",
          "THAILAND",
          "THAILAND",
          "THAILAND",
          "THAILAND",
          "THAILAND",
          "THAILAND",
          "THAILAND"
         ],
         "yaxis": "y"
        },
        {
         "alignmentgroup": "True",
         "hovertemplate": "Country=%{y}<br>Product Type=%{x}<extra></extra>",
         "legendgroup": "CROATIA",
         "marker": {
          "color": "#B6E880",
          "pattern": {
           "shape": ""
          }
         },
         "name": "CROATIA",
         "offsetgroup": "CROATIA",
         "orientation": "v",
         "showlegend": true,
         "textposition": "auto",
         "type": "bar",
         "x": [
          "EQUIPMENT"
         ],
         "xaxis": "x",
         "y": [
          "CROATIA"
         ],
         "yaxis": "y"
        },
        {
         "alignmentgroup": "True",
         "hovertemplate": "Country=%{y}<br>Product Type=%{x}<extra></extra>",
         "legendgroup": "ECUADOR",
         "marker": {
          "color": "#FF97FF",
          "pattern": {
           "shape": ""
          }
         },
         "name": "ECUADOR",
         "offsetgroup": "ECUADOR",
         "orientation": "v",
         "showlegend": true,
         "textposition": "auto",
         "type": "bar",
         "x": [
          "APPAREL"
         ],
         "xaxis": "x",
         "y": [
          "ECUADOR"
         ],
         "yaxis": "y"
        },
        {
         "alignmentgroup": "True",
         "hovertemplate": "Country=%{y}<br>Product Type=%{x}<extra></extra>",
         "legendgroup": "GERMANY",
         "marker": {
          "color": "#FECB52",
          "pattern": {
           "shape": ""
          }
         },
         "name": "GERMANY",
         "offsetgroup": "GERMANY",
         "orientation": "v",
         "showlegend": true,
         "textposition": "auto",
         "type": "bar",
         "x": [
          "APPAREL"
         ],
         "xaxis": "x",
         "y": [
          "GERMANY"
         ],
         "yaxis": "y"
        },
        {
         "alignmentgroup": "True",
         "hovertemplate": "Country=%{y}<br>Product Type=%{x}<extra></extra>",
         "legendgroup": "SPAIN",
         "marker": {
          "color": "#636efa",
          "pattern": {
           "shape": ""
          }
         },
         "name": "SPAIN",
         "offsetgroup": "SPAIN",
         "orientation": "v",
         "showlegend": true,
         "textposition": "auto",
         "type": "bar",
         "x": [
          "APPAREL",
          "APPAREL",
          "APPAREL",
          "APPAREL"
         ],
         "xaxis": "x",
         "y": [
          "SPAIN",
          "SPAIN",
          "SPAIN",
          "SPAIN"
         ],
         "yaxis": "y"
        },
        {
         "alignmentgroup": "True",
         "hovertemplate": "Country=%{y}<br>Product Type=%{x}<extra></extra>",
         "legendgroup": "UNITED KINGDOM",
         "marker": {
          "color": "#EF553B",
          "pattern": {
           "shape": ""
          }
         },
         "name": "UNITED KINGDOM",
         "offsetgroup": "UNITED KINGDOM",
         "orientation": "v",
         "showlegend": true,
         "textposition": "auto",
         "type": "bar",
         "x": [
          "APPAREL",
          "APPAREL"
         ],
         "xaxis": "x",
         "y": [
          "UNITED KINGDOM",
          "UNITED KINGDOM"
         ],
         "yaxis": "y"
        },
        {
         "alignmentgroup": "True",
         "hovertemplate": "Country=%{y}<br>Product Type=%{x}<extra></extra>",
         "legendgroup": "GREECE",
         "marker": {
          "color": "#00cc96",
          "pattern": {
           "shape": ""
          }
         },
         "name": "GREECE",
         "offsetgroup": "GREECE",
         "orientation": "v",
         "showlegend": true,
         "textposition": "auto",
         "type": "bar",
         "x": [
          "APPAREL"
         ],
         "xaxis": "x",
         "y": [
          "GREECE"
         ],
         "yaxis": "y"
        },
        {
         "alignmentgroup": "True",
         "hovertemplate": "Country=%{y}<br>Product Type=%{x}<extra></extra>",
         "legendgroup": "MALAYSIA",
         "marker": {
          "color": "#ab63fa",
          "pattern": {
           "shape": ""
          }
         },
         "name": "MALAYSIA",
         "offsetgroup": "MALAYSIA",
         "orientation": "v",
         "showlegend": true,
         "textposition": "auto",
         "type": "bar",
         "x": [
          "APPAREL",
          "MATERIALS",
          "APPAREL",
          "APPAREL",
          "APPAREL",
          "APPAREL",
          "APPAREL",
          "APPAREL"
         ],
         "xaxis": "x",
         "y": [
          "MALAYSIA",
          "MALAYSIA",
          "MALAYSIA",
          "MALAYSIA",
          "MALAYSIA",
          "MALAYSIA",
          "MALAYSIA",
          "MALAYSIA"
         ],
         "yaxis": "y"
        },
        {
         "alignmentgroup": "True",
         "hovertemplate": "Country=%{y}<br>Product Type=%{x}<extra></extra>",
         "legendgroup": "PAKISTAN",
         "marker": {
          "color": "#FFA15A",
          "pattern": {
           "shape": ""
          }
         },
         "name": "PAKISTAN",
         "offsetgroup": "PAKISTAN",
         "orientation": "v",
         "showlegend": true,
         "textposition": "auto",
         "type": "bar",
         "x": [
          "EQUIPMENT",
          "APPAREL",
          "EQUIPMENT",
          "EQUIPMENT",
          "APPAREL",
          "APPAREL",
          "APPAREL"
         ],
         "xaxis": "x",
         "y": [
          "PAKISTAN",
          "PAKISTAN",
          "PAKISTAN",
          "PAKISTAN",
          "PAKISTAN",
          "PAKISTAN",
          "PAKISTAN"
         ],
         "yaxis": "y"
        },
        {
         "alignmentgroup": "True",
         "hovertemplate": "Country=%{y}<br>Product Type=%{x}<extra></extra>",
         "legendgroup": "EGYPT",
         "marker": {
          "color": "#19d3f3",
          "pattern": {
           "shape": ""
          }
         },
         "name": "EGYPT",
         "offsetgroup": "EGYPT",
         "orientation": "v",
         "showlegend": true,
         "textposition": "auto",
         "type": "bar",
         "x": [
          "APPAREL",
          "APPAREL",
          "APPAREL"
         ],
         "xaxis": "x",
         "y": [
          "EGYPT",
          "EGYPT",
          "EGYPT"
         ],
         "yaxis": "y"
        },
        {
         "alignmentgroup": "True",
         "hovertemplate": "Country=%{y}<br>Product Type=%{x}<extra></extra>",
         "legendgroup": "POLAND",
         "marker": {
          "color": "#FF6692",
          "pattern": {
           "shape": ""
          }
         },
         "name": "POLAND",
         "offsetgroup": "POLAND",
         "orientation": "v",
         "showlegend": true,
         "textposition": "auto",
         "type": "bar",
         "x": [
          "APPAREL"
         ],
         "xaxis": "x",
         "y": [
          "POLAND"
         ],
         "yaxis": "y"
        },
        {
         "alignmentgroup": "True",
         "hovertemplate": "Country=%{y}<br>Product Type=%{x}<extra></extra>",
         "legendgroup": "JORDAN",
         "marker": {
          "color": "#B6E880",
          "pattern": {
           "shape": ""
          }
         },
         "name": "JORDAN",
         "offsetgroup": "JORDAN",
         "orientation": "v",
         "showlegend": true,
         "textposition": "auto",
         "type": "bar",
         "x": [
          "APPAREL",
          "APPAREL",
          "APPAREL"
         ],
         "xaxis": "x",
         "y": [
          "JORDAN",
          "JORDAN",
          "JORDAN"
         ],
         "yaxis": "y"
        },
        {
         "alignmentgroup": "True",
         "hovertemplate": "Country=%{y}<br>Product Type=%{x}<extra></extra>",
         "legendgroup": "AUSTRALIA",
         "marker": {
          "color": "#FF97FF",
          "pattern": {
           "shape": ""
          }
         },
         "name": "AUSTRALIA",
         "offsetgroup": "AUSTRALIA",
         "orientation": "v",
         "showlegend": true,
         "textposition": "auto",
         "type": "bar",
         "x": [
          "APPAREL"
         ],
         "xaxis": "x",
         "y": [
          "AUSTRALIA"
         ],
         "yaxis": "y"
        },
        {
         "alignmentgroup": "True",
         "hovertemplate": "Country=%{y}<br>Product Type=%{x}<extra></extra>",
         "legendgroup": "BOSNIA",
         "marker": {
          "color": "#FECB52",
          "pattern": {
           "shape": ""
          }
         },
         "name": "BOSNIA",
         "offsetgroup": "BOSNIA",
         "orientation": "v",
         "showlegend": true,
         "textposition": "auto",
         "type": "bar",
         "x": [
          "FOOTWEAR"
         ],
         "xaxis": "x",
         "y": [
          "BOSNIA"
         ],
         "yaxis": "y"
        },
        {
         "alignmentgroup": "True",
         "hovertemplate": "Country=%{y}<br>Product Type=%{x}<extra></extra>",
         "legendgroup": "FRANCE",
         "marker": {
          "color": "#636efa",
          "pattern": {
           "shape": ""
          }
         },
         "name": "FRANCE",
         "offsetgroup": "FRANCE",
         "orientation": "v",
         "showlegend": true,
         "textposition": "auto",
         "type": "bar",
         "x": [
          "APPAREL"
         ],
         "xaxis": "x",
         "y": [
          "FRANCE"
         ],
         "yaxis": "y"
        },
        {
         "alignmentgroup": "True",
         "hovertemplate": "Country=%{y}<br>Product Type=%{x}<extra></extra>",
         "legendgroup": "SOUTH AFRICA",
         "marker": {
          "color": "#EF553B",
          "pattern": {
           "shape": ""
          }
         },
         "name": "SOUTH AFRICA",
         "offsetgroup": "SOUTH AFRICA",
         "orientation": "v",
         "showlegend": true,
         "textposition": "auto",
         "type": "bar",
         "x": [
          "APPAREL"
         ],
         "xaxis": "x",
         "y": [
          "SOUTH AFRICA"
         ],
         "yaxis": "y"
        }
       ],
       "layout": {
        "barmode": "relative",
        "legend": {
         "title": {
          "text": "Country"
         },
         "tracegroupgap": 0
        },
        "template": {
         "data": {
          "bar": [
           {
            "error_x": {
             "color": "#2a3f5f"
            },
            "error_y": {
             "color": "#2a3f5f"
            },
            "marker": {
             "line": {
              "color": "#E5ECF6",
              "width": 0.5
             },
             "pattern": {
              "fillmode": "overlay",
              "size": 10,
              "solidity": 0.2
             }
            },
            "type": "bar"
           }
          ],
          "barpolar": [
           {
            "marker": {
             "line": {
              "color": "#E5ECF6",
              "width": 0.5
             },
             "pattern": {
              "fillmode": "overlay",
              "size": 10,
              "solidity": 0.2
             }
            },
            "type": "barpolar"
           }
          ],
          "carpet": [
           {
            "aaxis": {
             "endlinecolor": "#2a3f5f",
             "gridcolor": "white",
             "linecolor": "white",
             "minorgridcolor": "white",
             "startlinecolor": "#2a3f5f"
            },
            "baxis": {
             "endlinecolor": "#2a3f5f",
             "gridcolor": "white",
             "linecolor": "white",
             "minorgridcolor": "white",
             "startlinecolor": "#2a3f5f"
            },
            "type": "carpet"
           }
          ],
          "choropleth": [
           {
            "colorbar": {
             "outlinewidth": 0,
             "ticks": ""
            },
            "type": "choropleth"
           }
          ],
          "contour": [
           {
            "colorbar": {
             "outlinewidth": 0,
             "ticks": ""
            },
            "colorscale": [
             [
              0,
              "#0d0887"
             ],
             [
              0.1111111111111111,
              "#46039f"
             ],
             [
              0.2222222222222222,
              "#7201a8"
             ],
             [
              0.3333333333333333,
              "#9c179e"
             ],
             [
              0.4444444444444444,
              "#bd3786"
             ],
             [
              0.5555555555555556,
              "#d8576b"
             ],
             [
              0.6666666666666666,
              "#ed7953"
             ],
             [
              0.7777777777777778,
              "#fb9f3a"
             ],
             [
              0.8888888888888888,
              "#fdca26"
             ],
             [
              1,
              "#f0f921"
             ]
            ],
            "type": "contour"
           }
          ],
          "contourcarpet": [
           {
            "colorbar": {
             "outlinewidth": 0,
             "ticks": ""
            },
            "type": "contourcarpet"
           }
          ],
          "heatmap": [
           {
            "colorbar": {
             "outlinewidth": 0,
             "ticks": ""
            },
            "colorscale": [
             [
              0,
              "#0d0887"
             ],
             [
              0.1111111111111111,
              "#46039f"
             ],
             [
              0.2222222222222222,
              "#7201a8"
             ],
             [
              0.3333333333333333,
              "#9c179e"
             ],
             [
              0.4444444444444444,
              "#bd3786"
             ],
             [
              0.5555555555555556,
              "#d8576b"
             ],
             [
              0.6666666666666666,
              "#ed7953"
             ],
             [
              0.7777777777777778,
              "#fb9f3a"
             ],
             [
              0.8888888888888888,
              "#fdca26"
             ],
             [
              1,
              "#f0f921"
             ]
            ],
            "type": "heatmap"
           }
          ],
          "heatmapgl": [
           {
            "colorbar": {
             "outlinewidth": 0,
             "ticks": ""
            },
            "colorscale": [
             [
              0,
              "#0d0887"
             ],
             [
              0.1111111111111111,
              "#46039f"
             ],
             [
              0.2222222222222222,
              "#7201a8"
             ],
             [
              0.3333333333333333,
              "#9c179e"
             ],
             [
              0.4444444444444444,
              "#bd3786"
             ],
             [
              0.5555555555555556,
              "#d8576b"
             ],
             [
              0.6666666666666666,
              "#ed7953"
             ],
             [
              0.7777777777777778,
              "#fb9f3a"
             ],
             [
              0.8888888888888888,
              "#fdca26"
             ],
             [
              1,
              "#f0f921"
             ]
            ],
            "type": "heatmapgl"
           }
          ],
          "histogram": [
           {
            "marker": {
             "pattern": {
              "fillmode": "overlay",
              "size": 10,
              "solidity": 0.2
             }
            },
            "type": "histogram"
           }
          ],
          "histogram2d": [
           {
            "colorbar": {
             "outlinewidth": 0,
             "ticks": ""
            },
            "colorscale": [
             [
              0,
              "#0d0887"
             ],
             [
              0.1111111111111111,
              "#46039f"
             ],
             [
              0.2222222222222222,
              "#7201a8"
             ],
             [
              0.3333333333333333,
              "#9c179e"
             ],
             [
              0.4444444444444444,
              "#bd3786"
             ],
             [
              0.5555555555555556,
              "#d8576b"
             ],
             [
              0.6666666666666666,
              "#ed7953"
             ],
             [
              0.7777777777777778,
              "#fb9f3a"
             ],
             [
              0.8888888888888888,
              "#fdca26"
             ],
             [
              1,
              "#f0f921"
             ]
            ],
            "type": "histogram2d"
           }
          ],
          "histogram2dcontour": [
           {
            "colorbar": {
             "outlinewidth": 0,
             "ticks": ""
            },
            "colorscale": [
             [
              0,
              "#0d0887"
             ],
             [
              0.1111111111111111,
              "#46039f"
             ],
             [
              0.2222222222222222,
              "#7201a8"
             ],
             [
              0.3333333333333333,
              "#9c179e"
             ],
             [
              0.4444444444444444,
              "#bd3786"
             ],
             [
              0.5555555555555556,
              "#d8576b"
             ],
             [
              0.6666666666666666,
              "#ed7953"
             ],
             [
              0.7777777777777778,
              "#fb9f3a"
             ],
             [
              0.8888888888888888,
              "#fdca26"
             ],
             [
              1,
              "#f0f921"
             ]
            ],
            "type": "histogram2dcontour"
           }
          ],
          "mesh3d": [
           {
            "colorbar": {
             "outlinewidth": 0,
             "ticks": ""
            },
            "type": "mesh3d"
           }
          ],
          "parcoords": [
           {
            "line": {
             "colorbar": {
              "outlinewidth": 0,
              "ticks": ""
             }
            },
            "type": "parcoords"
           }
          ],
          "pie": [
           {
            "automargin": true,
            "type": "pie"
           }
          ],
          "scatter": [
           {
            "fillpattern": {
             "fillmode": "overlay",
             "size": 10,
             "solidity": 0.2
            },
            "type": "scatter"
           }
          ],
          "scatter3d": [
           {
            "line": {
             "colorbar": {
              "outlinewidth": 0,
              "ticks": ""
             }
            },
            "marker": {
             "colorbar": {
              "outlinewidth": 0,
              "ticks": ""
             }
            },
            "type": "scatter3d"
           }
          ],
          "scattercarpet": [
           {
            "marker": {
             "colorbar": {
              "outlinewidth": 0,
              "ticks": ""
             }
            },
            "type": "scattercarpet"
           }
          ],
          "scattergeo": [
           {
            "marker": {
             "colorbar": {
              "outlinewidth": 0,
              "ticks": ""
             }
            },
            "type": "scattergeo"
           }
          ],
          "scattergl": [
           {
            "marker": {
             "colorbar": {
              "outlinewidth": 0,
              "ticks": ""
             }
            },
            "type": "scattergl"
           }
          ],
          "scattermapbox": [
           {
            "marker": {
             "colorbar": {
              "outlinewidth": 0,
              "ticks": ""
             }
            },
            "type": "scattermapbox"
           }
          ],
          "scatterpolar": [
           {
            "marker": {
             "colorbar": {
              "outlinewidth": 0,
              "ticks": ""
             }
            },
            "type": "scatterpolar"
           }
          ],
          "scatterpolargl": [
           {
            "marker": {
             "colorbar": {
              "outlinewidth": 0,
              "ticks": ""
             }
            },
            "type": "scatterpolargl"
           }
          ],
          "scatterternary": [
           {
            "marker": {
             "colorbar": {
              "outlinewidth": 0,
              "ticks": ""
             }
            },
            "type": "scatterternary"
           }
          ],
          "surface": [
           {
            "colorbar": {
             "outlinewidth": 0,
             "ticks": ""
            },
            "colorscale": [
             [
              0,
              "#0d0887"
             ],
             [
              0.1111111111111111,
              "#46039f"
             ],
             [
              0.2222222222222222,
              "#7201a8"
             ],
             [
              0.3333333333333333,
              "#9c179e"
             ],
             [
              0.4444444444444444,
              "#bd3786"
             ],
             [
              0.5555555555555556,
              "#d8576b"
             ],
             [
              0.6666666666666666,
              "#ed7953"
             ],
             [
              0.7777777777777778,
              "#fb9f3a"
             ],
             [
              0.8888888888888888,
              "#fdca26"
             ],
             [
              1,
              "#f0f921"
             ]
            ],
            "type": "surface"
           }
          ],
          "table": [
           {
            "cells": {
             "fill": {
              "color": "#EBF0F8"
             },
             "line": {
              "color": "white"
             }
            },
            "header": {
             "fill": {
              "color": "#C8D4E3"
             },
             "line": {
              "color": "white"
             }
            },
            "type": "table"
           }
          ]
         },
         "layout": {
          "annotationdefaults": {
           "arrowcolor": "#2a3f5f",
           "arrowhead": 0,
           "arrowwidth": 1
          },
          "autotypenumbers": "strict",
          "coloraxis": {
           "colorbar": {
            "outlinewidth": 0,
            "ticks": ""
           }
          },
          "colorscale": {
           "diverging": [
            [
             0,
             "#8e0152"
            ],
            [
             0.1,
             "#c51b7d"
            ],
            [
             0.2,
             "#de77ae"
            ],
            [
             0.3,
             "#f1b6da"
            ],
            [
             0.4,
             "#fde0ef"
            ],
            [
             0.5,
             "#f7f7f7"
            ],
            [
             0.6,
             "#e6f5d0"
            ],
            [
             0.7,
             "#b8e186"
            ],
            [
             0.8,
             "#7fbc41"
            ],
            [
             0.9,
             "#4d9221"
            ],
            [
             1,
             "#276419"
            ]
           ],
           "sequential": [
            [
             0,
             "#0d0887"
            ],
            [
             0.1111111111111111,
             "#46039f"
            ],
            [
             0.2222222222222222,
             "#7201a8"
            ],
            [
             0.3333333333333333,
             "#9c179e"
            ],
            [
             0.4444444444444444,
             "#bd3786"
            ],
            [
             0.5555555555555556,
             "#d8576b"
            ],
            [
             0.6666666666666666,
             "#ed7953"
            ],
            [
             0.7777777777777778,
             "#fb9f3a"
            ],
            [
             0.8888888888888888,
             "#fdca26"
            ],
            [
             1,
             "#f0f921"
            ]
           ],
           "sequentialminus": [
            [
             0,
             "#0d0887"
            ],
            [
             0.1111111111111111,
             "#46039f"
            ],
            [
             0.2222222222222222,
             "#7201a8"
            ],
            [
             0.3333333333333333,
             "#9c179e"
            ],
            [
             0.4444444444444444,
             "#bd3786"
            ],
            [
             0.5555555555555556,
             "#d8576b"
            ],
            [
             0.6666666666666666,
             "#ed7953"
            ],
            [
             0.7777777777777778,
             "#fb9f3a"
            ],
            [
             0.8888888888888888,
             "#fdca26"
            ],
            [
             1,
             "#f0f921"
            ]
           ]
          },
          "colorway": [
           "#636efa",
           "#EF553B",
           "#00cc96",
           "#ab63fa",
           "#FFA15A",
           "#19d3f3",
           "#FF6692",
           "#B6E880",
           "#FF97FF",
           "#FECB52"
          ],
          "font": {
           "color": "#2a3f5f"
          },
          "geo": {
           "bgcolor": "white",
           "lakecolor": "white",
           "landcolor": "#E5ECF6",
           "showlakes": true,
           "showland": true,
           "subunitcolor": "white"
          },
          "hoverlabel": {
           "align": "left"
          },
          "hovermode": "closest",
          "mapbox": {
           "style": "light"
          },
          "paper_bgcolor": "white",
          "plot_bgcolor": "#E5ECF6",
          "polar": {
           "angularaxis": {
            "gridcolor": "white",
            "linecolor": "white",
            "ticks": ""
           },
           "bgcolor": "#E5ECF6",
           "radialaxis": {
            "gridcolor": "white",
            "linecolor": "white",
            "ticks": ""
           }
          },
          "scene": {
           "xaxis": {
            "backgroundcolor": "#E5ECF6",
            "gridcolor": "white",
            "gridwidth": 2,
            "linecolor": "white",
            "showbackground": true,
            "ticks": "",
            "zerolinecolor": "white"
           },
           "yaxis": {
            "backgroundcolor": "#E5ECF6",
            "gridcolor": "white",
            "gridwidth": 2,
            "linecolor": "white",
            "showbackground": true,
            "ticks": "",
            "zerolinecolor": "white"
           },
           "zaxis": {
            "backgroundcolor": "#E5ECF6",
            "gridcolor": "white",
            "gridwidth": 2,
            "linecolor": "white",
            "showbackground": true,
            "ticks": "",
            "zerolinecolor": "white"
           }
          },
          "shapedefaults": {
           "line": {
            "color": "#2a3f5f"
           }
          },
          "ternary": {
           "aaxis": {
            "gridcolor": "white",
            "linecolor": "white",
            "ticks": ""
           },
           "baxis": {
            "gridcolor": "white",
            "linecolor": "white",
            "ticks": ""
           },
           "bgcolor": "#E5ECF6",
           "caxis": {
            "gridcolor": "white",
            "linecolor": "white",
            "ticks": ""
           }
          },
          "title": {
           "x": 0.05
          },
          "xaxis": {
           "automargin": true,
           "gridcolor": "white",
           "linecolor": "white",
           "ticks": "",
           "title": {
            "standoff": 15
           },
           "zerolinecolor": "white",
           "zerolinewidth": 2
          },
          "yaxis": {
           "automargin": true,
           "gridcolor": "white",
           "linecolor": "white",
           "ticks": "",
           "title": {
            "standoff": 15
           },
           "zerolinecolor": "white",
           "zerolinewidth": 2
          }
         }
        },
        "title": {
         "text": "Product Type by Countries"
        },
        "xaxis": {
         "anchor": "y",
         "domain": [
          0,
          1
         ],
         "title": {
          "text": "Product Type"
         }
        },
        "yaxis": {
         "anchor": "x",
         "categoryarray": [
          "SOUTH AFRICA",
          "FRANCE",
          "BOSNIA",
          "AUSTRALIA",
          "JORDAN",
          "POLAND",
          "EGYPT",
          "PAKISTAN",
          "MALAYSIA",
          "GREECE",
          "UNITED KINGDOM",
          "SPAIN",
          "GERMANY",
          "ECUADOR",
          "CROATIA",
          "THAILAND",
          "INDIA",
          "CANADA",
          "BANGLADESH",
          "BULGARIA",
          "ISRAEL",
          "TURKEY",
          "EL SALVADOR",
          "CAMBODIA",
          "MEXICO",
          "TAIWAN",
          "ITALY",
          "INDONESIA",
          "SOUTH KOREA",
          "NETHERLANDS",
          "JAPAN",
          "MOLDOVA",
          "HONDURAS",
          "SRI LANKA",
          "NICARAGUA",
          "BRAZIL",
          "CHINA",
          "ARGENTINA",
          "GEORGIA",
          "GUATEMALA",
          "VIETNAM",
          "USA"
         ],
         "categoryorder": "array",
         "domain": [
          0,
          1
         ],
         "title": {
          "text": "Country"
         }
        }
       }
      }
     },
     "metadata": {},
     "output_type": "display_data"
    }
   ],
   "source": [
    "# bar chart\n",
    "fig = px.bar(df, x=\"Product Type\", y=\"Country\", color=\"Country\", title=\"Product Type by Countries\")\n",
    "fig.show()"
   ]
  },
  {
   "cell_type": "code",
   "execution_count": 219,
   "metadata": {},
   "outputs": [
    {
     "data": {
      "application/vnd.plotly.v1+json": {
       "config": {
        "plotlyServerURL": "https://plot.ly"
       },
       "data": [
        {
         "alignmentgroup": "True",
         "customdata": [
          [
           64,
           0
          ],
          [
           1723,
           121
          ],
          [
           61,
           0
          ],
          [
           591,
           0
          ],
          [
           4250,
           1689
          ],
          [
           331,
           0
          ],
          [
           240,
           0
          ],
          [
           1981,
           7
          ],
          [
           388,
           0
          ],
          [
           0,
           0
          ],
          [
           36,
           0
          ],
          [
           59,
           8
          ],
          [
           52,
           3
          ],
          [
           80,
           43
          ],
          [
           1838,
           2
          ],
          [
           3,
           0
          ],
          [
           5,
           0
          ],
          [
           0,
           0
          ],
          [
           0,
           0
          ],
          [
           0,
           0
          ],
          [
           18,
           0
          ],
          [
           9,
           0
          ],
          [
           7,
           17
          ],
          [
           30,
           0
          ],
          [
           850,
           0
          ],
          [
           4309,
           0
          ],
          [
           1864,
           0
          ],
          [
           977,
           0
          ],
          [
           0,
           0
          ],
          [
           710,
           0
          ],
          [
           92,
           0
          ],
          [
           5,
           0
          ],
          [
           51,
           0
          ],
          [
           73,
           0
          ],
          [
           107,
           0
          ],
          [
           82,
           0
          ],
          [
           765,
           41
          ],
          [
           83,
           0
          ],
          [
           5997,
           0
          ],
          [
           1835,
           1226
          ],
          [
           11545,
           53
          ],
          [
           4360,
           0
          ],
          [
           19785,
           0
          ],
          [
           304,
           0
          ],
          [
           0,
           0
          ],
          [
           733,
           0
          ],
          [
           0,
           0
          ],
          [
           44,
           0
          ],
          [
           72,
           22
          ],
          [
           2353,
           0
          ],
          [
           180,
           3
          ],
          [
           1874,
           0
          ],
          [
           1567,
           0
          ],
          [
           53,
           0
          ],
          [
           0,
           0
          ],
          [
           4600,
           4717
          ],
          [
           800,
           43
          ],
          [
           928,
           0
          ],
          [
           28,
           0
          ],
          [
           2380,
           0
          ],
          [
           1631,
           0
          ],
          [
           337,
           0
          ],
          [
           135,
           0
          ],
          [
           10511,
           0
          ],
          [
           402,
           0
          ],
          [
           1424,
           0
          ],
          [
           174,
           0
          ],
          [
           47,
           16
          ],
          [
           1569,
           0
          ],
          [
           504,
           0
          ],
          [
           807,
           0
          ],
          [
           7378,
           0
          ],
          [
           6344,
           0
          ],
          [
           9876,
           0
          ],
          [
           6641,
           0
          ],
          [
           1171,
           0
          ],
          [
           57,
           0
          ],
          [
           0,
           0
          ],
          [
           561,
           0
          ],
          [
           268,
           0
          ],
          [
           80,
           0
          ],
          [
           5,
           18
          ],
          [
           0,
           0
          ],
          [
           45,
           62
          ],
          [
           449,
           0
          ],
          [
           12,
           11
          ],
          [
           77,
           0
          ],
          [
           61,
           13
          ],
          [
           0,
           0
          ],
          [
           5697,
           0
          ],
          [
           0,
           0
          ],
          [
           1120,
           8
          ],
          [
           995,
           0
          ],
          [
           241,
           0
          ],
          [
           81,
           0
          ],
          [
           3786,
           0
          ],
          [
           2578,
           0
          ],
          [
           787,
           0
          ],
          [
           198,
           0
          ],
          [
           0,
           0
          ],
          [
           0,
           0
          ],
          [
           0,
           0
          ],
          [
           16,
           0
          ],
          [
           35,
           0
          ],
          [
           64,
           1
          ],
          [
           1392,
           0
          ],
          [
           0,
           0
          ],
          [
           1289,
           0
          ],
          [
           3519,
           0
          ],
          [
           2499,
           0
          ],
          [
           0,
           0
          ],
          [
           11,
           9
          ],
          [
           452,
           0
          ],
          [
           119,
           0
          ],
          [
           2962,
           0
          ],
          [
           2478,
           0
          ],
          [
           2783,
           0
          ],
          [
           3,
           0
          ],
          [
           63,
           0
          ],
          [
           0,
           0
          ],
          [
           1426,
           14
          ],
          [
           0,
           0
          ],
          [
           0,
           0
          ],
          [
           0,
           0
          ],
          [
           1,
           0
          ],
          [
           3,
           0
          ],
          [
           194,
           0
          ],
          [
           19287,
           0
          ],
          [
           3046,
           0
          ],
          [
           2583,
           0
          ],
          [
           3879,
           0
          ],
          [
           6383,
           0
          ],
          [
           160,
           0
          ],
          [
           298,
           295
          ],
          [
           0,
           0
          ],
          [
           0,
           0
          ],
          [
           0,
           0
          ],
          [
           2999,
           0
          ],
          [
           628,
           2
          ],
          [
           3,
           3
          ],
          [
           0,
           0
          ],
          [
           36,
           0
          ],
          [
           628,
           0
          ],
          [
           58,
           0
          ],
          [
           19,
           0
          ],
          [
           1057,
           0
          ],
          [
           4361,
           0
          ],
          [
           6180,
           3538
          ],
          [
           15,
           0
          ],
          [
           1,
           0
          ],
          [
           1384,
           24
          ],
          [
           1500,
           0
          ],
          [
           742,
           894
          ],
          [
           506,
           0
          ],
          [
           735,
           168
          ],
          [
           840,
           0
          ],
          [
           431,
           33
          ],
          [
           875,
           0
          ],
          [
           0,
           0
          ],
          [
           306,
           432
          ],
          [
           2219,
           3284
          ],
          [
           686,
           16
          ],
          [
           67,
           59
          ],
          [
           0,
           0
          ],
          [
           296,
           0
          ],
          [
           177,
           0
          ],
          [
           1794,
           0
          ],
          [
           194,
           0
          ],
          [
           9,
           0
          ],
          [
           98,
           37
          ],
          [
           81,
           0
          ],
          [
           328,
           0
          ],
          [
           3213,
           0
          ],
          [
           2,
           0
          ],
          [
           106,
           0
          ],
          [
           260,
           91
          ],
          [
           0,
           0
          ],
          [
           472,
           472
          ],
          [
           313,
           76
          ],
          [
           2091,
           316
          ],
          [
           1168,
           0
          ],
          [
           783,
           0
          ],
          [
           333,
           1
          ],
          [
           140,
           0
          ],
          [
           0,
           0
          ],
          [
           12,
           0
          ],
          [
           41,
           0
          ],
          [
           5,
           0
          ],
          [
           79,
           60
          ],
          [
           28,
           0
          ],
          [
           80,
           0
          ],
          [
           0,
           0
          ],
          [
           0,
           0
          ],
          [
           100,
           17
          ],
          [
           1279,
           67
          ],
          [
           36,
           8
          ],
          [
           69,
           11
          ],
          [
           256,
           271
          ],
          [
           368,
           0
          ],
          [
           212,
           0
          ],
          [
           74,
           0
          ],
          [
           7,
           0
          ],
          [
           909,
           0
          ],
          [
           4945,
           0
          ],
          [
           3908,
           0
          ],
          [
           1894,
           0
          ],
          [
           741,
           0
          ],
          [
           530,
           0
          ],
          [
           3046,
           0
          ],
          [
           4256,
           0
          ],
          [
           174,
           0
          ],
          [
           760,
           0
          ],
          [
           195,
           26
          ],
          [
           210,
           0
          ],
          [
           480,
           0
          ],
          [
           1061,
           0
          ],
          [
           853,
           0
          ],
          [
           1356,
           0
          ],
          [
           349,
           0
          ],
          [
           1365,
           0
          ],
          [
           486,
           0
          ],
          [
           1396,
           0
          ],
          [
           1314,
           0
          ],
          [
           102,
           0
          ],
          [
           16,
           10
          ],
          [
           1454,
           0
          ],
          [
           502,
           0
          ],
          [
           355,
           13
          ],
          [
           44,
           0
          ],
          [
           0,
           0
          ],
          [
           0,
           0
          ],
          [
           9,
           0
          ],
          [
           76,
           0
          ],
          [
           711,
           0
          ],
          [
           0,
           0
          ],
          [
           21,
           0
          ],
          [
           1305,
           0
          ],
          [
           489,
           0
          ],
          [
           491,
           0
          ],
          [
           1017,
           0
          ],
          [
           1646,
           0
          ],
          [
           10,
           2
          ],
          [
           942,
           9
          ],
          [
           55,
           0
          ],
          [
           1299,
           0
          ],
          [
           876,
           260
          ],
          [
           2596,
           0
          ],
          [
           972,
           0
          ],
          [
           1135,
           0
          ],
          [
           0,
           0
          ],
          [
           1385,
           0
          ],
          [
           2318,
           0
          ],
          [
           227,
           24
          ],
          [
           342,
           535
          ],
          [
           973,
           0
          ],
          [
           545,
           603
          ],
          [
           48,
           0
          ],
          [
           188,
           0
          ],
          [
           404,
           0
          ],
          [
           1606,
           0
          ],
          [
           95,
           0
          ],
          [
           57,
           0
          ],
          [
           210,
           24
          ],
          [
           350,
           0
          ],
          [
           57,
           0
          ],
          [
           199,
           1
          ],
          [
           330,
           0
          ],
          [
           65,
           0
          ],
          [
           71,
           17
          ],
          [
           1404,
           1672
          ],
          [
           471,
           1
          ],
          [
           0,
           0
          ],
          [
           0,
           0
          ],
          [
           33,
           5
          ],
          [
           430,
           489
          ],
          [
           1563,
           1553
          ],
          [
           1302,
           26
          ],
          [
           488,
           0
          ],
          [
           0,
           0
          ],
          [
           14999,
           0
          ],
          [
           25,
           2
          ],
          [
           0,
           0
          ],
          [
           0,
           0
          ],
          [
           0,
           0
          ],
          [
           0,
           0
          ],
          [
           0,
           0
          ],
          [
           151,
           0
          ],
          [
           4334,
           25
          ],
          [
           1101,
           2
          ],
          [
           5615,
           12
          ],
          [
           1095,
           0
          ],
          [
           1956,
           0
          ],
          [
           297,
           8
          ],
          [
           1858,
           35
          ],
          [
           1326,
           0
          ],
          [
           2215,
           12
          ],
          [
           9703,
           38
          ],
          [
           944,
           0
          ],
          [
           1972,
           0
          ],
          [
           16238,
           78
          ],
          [
           1807,
           0
          ],
          [
           6176,
           39
          ],
          [
           13326,
           0
          ],
          [
           3187,
           23
          ],
          [
           1389,
           0
          ],
          [
           1042,
           0
          ],
          [
           11409,
           45
          ],
          [
           1452,
           10
          ],
          [
           0,
           0
          ],
          [
           0,
           0
          ],
          [
           1709,
           34
          ],
          [
           714,
           2
          ],
          [
           8245,
           0
          ],
          [
           2145,
           9
          ],
          [
           1422,
           7
          ],
          [
           15495,
           65
          ],
          [
           277,
           6
          ],
          [
           252,
           1
          ],
          [
           4122,
           37
          ],
          [
           646,
           0
          ],
          [
           517,
           0
          ],
          [
           3501,
           0
          ],
          [
           5494,
           0
          ],
          [
           336,
           489
          ],
          [
           188,
           55
          ],
          [
           683,
           628
          ],
          [
           0,
           0
          ],
          [
           628,
           651
          ],
          [
           0,
           0
          ],
          [
           0,
           0
          ],
          [
           850,
           0
          ],
          [
           7,
           1
          ],
          [
           135,
           0
          ],
          [
           39,
           0
          ],
          [
           31,
           0
          ],
          [
           39,
           0
          ],
          [
           184,
           0
          ],
          [
           68,
           0
          ],
          [
           99,
           0
          ],
          [
           27,
           0
          ],
          [
           5553,
           310
          ],
          [
           0,
           0
          ],
          [
           0,
           0
          ],
          [
           618,
           84
          ],
          [
           0,
           0
          ],
          [
           0,
           0
          ],
          [
           0,
           0
          ],
          [
           0,
           0
          ],
          [
           25,
           0
          ],
          [
           1070,
           0
          ],
          [
           57,
           4
          ],
          [
           35,
           7
          ],
          [
           3,
           0
          ],
          [
           183,
           316
          ],
          [
           23,
           0
          ],
          [
           7,
           0
          ],
          [
           8,
           0
          ],
          [
           33,
           8
          ],
          [
           69,
           0
          ],
          [
           1238,
           0
          ],
          [
           8483,
           351
          ],
          [
           24,
           0
          ],
          [
           1005,
           0
          ],
          [
           2159,
           687
          ],
          [
           2180,
           2274
          ],
          [
           14,
           0
          ],
          [
           0,
           0
          ],
          [
           996,
           129
          ],
          [
           9422,
           4628
          ],
          [
           3137,
           463
          ],
          [
           0,
           0
          ],
          [
           21,
           0
          ],
          [
           7,
           0
          ],
          [
           204,
           0
          ],
          [
           141,
           0
          ],
          [
           104,
           147
          ],
          [
           276,
           692
          ],
          [
           302,
           335
          ],
          [
           273,
           309
          ],
          [
           2225,
           25
          ],
          [
           69,
           0
          ],
          [
           161,
           0
          ],
          [
           238,
           99
          ],
          [
           403,
           0
          ],
          [
           63,
           0
          ],
          [
           391,
           0
          ],
          [
           1022,
           1467
          ],
          [
           497,
           0
          ],
          [
           7,
           0
          ],
          [
           341,
           0
          ],
          [
           32,
           13
          ],
          [
           1066,
           9
          ],
          [
           75,
           0
          ],
          [
           27,
           0
          ],
          [
           22,
           0
          ],
          [
           512,
           547
          ],
          [
           78,
           0
          ],
          [
           1503,
           0
          ],
          [
           13721,
           0
          ],
          [
           4833,
           0
          ],
          [
           8476,
           0
          ],
          [
           269,
           11
          ],
          [
           28,
           21
          ],
          [
           455,
           1462
          ],
          [
           460,
           555
          ],
          [
           292,
           551
          ],
          [
           67,
           17
          ],
          [
           7,
           0
          ],
          [
           0,
           0
          ],
          [
           135,
           0
          ],
          [
           22,
           0
          ],
          [
           52,
           7
          ],
          [
           304,
           0
          ],
          [
           79,
           65
          ],
          [
           234,
           2
          ],
          [
           99,
           20
          ],
          [
           54,
           19
          ],
          [
           9,
           6
          ],
          [
           705,
           0
          ],
          [
           1167,
           8
          ],
          [
           233,
           0
          ],
          [
           50,
           0
          ],
          [
           65,
           0
          ],
          [
           0,
           0
          ],
          [
           0,
           0
          ],
          [
           0,
           0
          ],
          [
           0,
           0
          ],
          [
           0,
           0
          ],
          [
           0,
           0
          ],
          [
           1383,
           0
          ],
          [
           380,
           0
          ],
          [
           0,
           0
          ],
          [
           0,
           0
          ],
          [
           358,
           107
          ],
          [
           0,
           0
          ],
          [
           0,
           0
          ],
          [
           1,
           0
          ],
          [
           1360,
           0
          ],
          [
           19,
           0
          ],
          [
           34,
           0
          ],
          [
           0,
           0
          ],
          [
           784,
           0
          ],
          [
           14,
           0
          ],
          [
           17,
           0
          ],
          [
           59,
           0
          ],
          [
           336,
           0
          ],
          [
           196,
           734
          ],
          [
           387,
           167
          ],
          [
           444,
           78
          ],
          [
           2065,
           828
          ],
          [
           100,
           0
          ],
          [
           1603,
           0
          ],
          [
           1106,
           244
          ],
          [
           1312,
           0
          ],
          [
           0,
           0
          ],
          [
           1356,
           49
          ],
          [
           1619,
           0
          ],
          [
           1965,
           0
          ],
          [
           17651,
           4781
          ],
          [
           12174,
           0
          ],
          [
           415,
           0
          ],
          [
           313,
           0
          ],
          [
           92,
           0
          ],
          [
           1310,
           4
          ],
          [
           1663,
           0
          ],
          [
           903,
           0
          ],
          [
           678,
           0
          ],
          [
           4,
           0
          ],
          [
           1212,
           0
          ],
          [
           391,
           0
          ],
          [
           472,
           0
          ],
          [
           8689,
           0
          ],
          [
           3820,
           0
          ],
          [
           620,
           88
          ],
          [
           0,
           0
          ],
          [
           3121,
           119
          ],
          [
           26,
           12
          ],
          [
           1029,
           141
          ],
          [
           0,
           0
          ],
          [
           40,
           0
          ],
          [
           0,
           0
          ],
          [
           0,
           0
          ],
          [
           0,
           0
          ],
          [
           0,
           0
          ],
          [
           0,
           0
          ],
          [
           0,
           0
          ],
          [
           115,
           154
          ],
          [
           1886,
           0
          ],
          [
           1766,
           0
          ],
          [
           2003,
           2
          ],
          [
           254,
           0
          ],
          [
           113,
           199
          ],
          [
           957,
           0
          ],
          [
           503,
           0
          ],
          [
           526,
           0
          ]
         ],
         "hovertemplate": "Nike, Inc. Brand(s)=NIKE<br>Factory Type=%{x}<br>Total Workers=%{y}<br>Female Worker Count=%{customdata[0]}<br>Migrant Worker Count=%{customdata[1]}<extra></extra>",
         "legendgroup": "NIKE",
         "marker": {
          "color": "#636efa",
          "pattern": {
           "shape": ""
          }
         },
         "name": "NIKE",
         "offsetgroup": "NIKE",
         "orientation": "v",
         "showlegend": true,
         "textposition": "auto",
         "type": "bar",
         "x": [
          "FINISHED GOODS",
          "FINISHED GOODS",
          "FINISHED GOODS",
          "FINISHED GOODS",
          "FINISHED GOODS",
          "FINISHED GOODS",
          "FINISHED GOODS",
          "FINISHED GOODS",
          "FINISHED GOODS",
          "MATERIALS",
          "FINISHED GOODS",
          "FINISHED GOODS",
          "FINISHED GOODS",
          "FINISHED GOODS",
          "FINISHED GOODS",
          "FINISHED GOODS",
          "FINISHED GOODS",
          "MATERIALS",
          "MATERIALS",
          "MATERIALS",
          "FINISHED GOODS",
          "FINISHED GOODS",
          "FINISHED GOODS",
          "FINISHED GOODS",
          "FINISHED GOODS",
          "FINISHED GOODS",
          "FINISHED GOODS",
          "FINISHED GOODS",
          "MATERIALS",
          "FINISHED GOODS",
          "FINISHED GOODS",
          "FINISHED GOODS",
          "FINISHED GOODS",
          "FINISHED GOODS",
          "FINISHED GOODS",
          "FINISHED GOODS - COMPONENTS",
          "FINISHED GOODS",
          "FINISHED GOODS",
          "FINISHED GOODS",
          "FINISHED GOODS",
          "FINISHED GOODS",
          "FINISHED GOODS",
          "FINISHED GOODS",
          "FINISHED GOODS",
          "MATERIALS",
          "FINISHED GOODS",
          "MATERIALS",
          "FINISHED GOODS",
          "FINISHED GOODS",
          "FINISHED GOODS",
          "FINISHED GOODS - COMPONENTS",
          "FINISHED GOODS",
          "FINISHED GOODS",
          "FINISHED GOODS",
          "MATERIALS",
          "FINISHED GOODS",
          "FINISHED GOODS",
          "FINISHED GOODS",
          "FINISHED GOODS",
          "FINISHED GOODS",
          "FINISHED GOODS - COMPONENTS",
          "FINISHED GOODS",
          "FINISHED GOODS - COMPONENTS",
          "FINISHED GOODS",
          "FINISHED GOODS",
          "FINISHED GOODS",
          "FINISHED GOODS",
          "FINISHED GOODS",
          "FINISHED GOODS",
          "FINISHED GOODS",
          "FINISHED GOODS",
          "FINISHED GOODS",
          "FINISHED GOODS",
          "FINISHED GOODS",
          "FINISHED GOODS",
          "FINISHED GOODS",
          "FINISHED GOODS",
          "MATERIALS",
          "FINISHED GOODS",
          "FINISHED GOODS",
          "FINISHED GOODS",
          "FINISHED GOODS",
          "MATERIALS",
          "FINISHED GOODS - COMPONENTS",
          "FINISHED GOODS - COMPONENTS",
          "FINISHED GOODS - COMPONENTS",
          "FINISHED GOODS",
          "FINISHED GOODS",
          "MATERIALS",
          "FINISHED GOODS",
          "MATERIALS",
          "FINISHED GOODS",
          "FINISHED GOODS",
          "FINISHED GOODS",
          "FINISHED GOODS",
          "FINISHED GOODS",
          "FINISHED GOODS",
          "FINISHED GOODS",
          "FINISHED GOODS - COMPONENTS",
          "MATERIALS",
          "MATERIALS",
          "MATERIALS",
          "FINISHED GOODS",
          "FINISHED GOODS",
          "FINISHED GOODS",
          "FINISHED GOODS",
          "MATERIALS",
          "FINISHED GOODS",
          "FINISHED GOODS",
          "FINISHED GOODS",
          "MATERIALS",
          "FINISHED GOODS",
          "FINISHED GOODS",
          "FINISHED GOODS",
          "FINISHED GOODS",
          "FINISHED GOODS",
          "FINISHED GOODS",
          "FINISHED GOODS",
          "FINISHED GOODS",
          "MATERIALS",
          "FINISHED GOODS",
          "MATERIALS",
          "MATERIALS",
          "MATERIALS",
          "FINISHED GOODS",
          "FINISHED GOODS - COMPONENTS",
          "FINISHED GOODS - COMPONENTS",
          "FINISHED GOODS",
          "FINISHED GOODS",
          "FINISHED GOODS",
          "FINISHED GOODS",
          "FINISHED GOODS",
          "FINISHED GOODS",
          "FINISHED GOODS",
          "MATERIALS",
          "MATERIALS",
          "MATERIALS",
          "FINISHED GOODS",
          "FINISHED GOODS - COMPONENTS",
          "FINISHED GOODS",
          "MATERIALS",
          "FINISHED GOODS",
          "FINISHED GOODS",
          "FINISHED GOODS",
          "FINISHED GOODS",
          "FINISHED GOODS",
          "FINISHED GOODS",
          "FINISHED GOODS",
          "FINISHED GOODS",
          "FINISHED GOODS",
          "FINISHED GOODS - COMPONENTS",
          "FINISHED GOODS",
          "FINISHED GOODS",
          "FINISHED GOODS",
          "FINISHED GOODS",
          "FINISHED GOODS",
          "FINISHED GOODS",
          "FINISHED GOODS",
          "MATERIALS",
          "FINISHED GOODS",
          "FINISHED GOODS",
          "FINISHED GOODS",
          "FINISHED GOODS - COMPONENTS",
          "MATERIALS",
          "FINISHED GOODS - COMPONENTS",
          "FINISHED GOODS",
          "FINISHED GOODS",
          "FINISHED GOODS",
          "FINISHED GOODS",
          "FINISHED GOODS",
          "FINISHED GOODS",
          "FINISHED GOODS",
          "FINISHED GOODS",
          "FINISHED GOODS",
          "FINISHED GOODS - COMPONENTS",
          "FINISHED GOODS",
          "MATERIALS",
          "FINISHED GOODS",
          "FINISHED GOODS",
          "FINISHED GOODS",
          "FINISHED GOODS - COMPONENTS",
          "FINISHED GOODS",
          "FINISHED GOODS",
          "FINISHED GOODS - COMPONENTS",
          "MATERIALS",
          "FINISHED GOODS",
          "FINISHED GOODS",
          "FINISHED GOODS",
          "FINISHED GOODS",
          "FINISHED GOODS",
          "FINISHED GOODS",
          "MATERIALS",
          "MATERIALS",
          "FINISHED GOODS",
          "FINISHED GOODS",
          "FINISHED GOODS",
          "FINISHED GOODS",
          "FINISHED GOODS - COMPONENTS",
          "FINISHED GOODS",
          "FINISHED GOODS - COMPONENTS",
          "FINISHED GOODS - COMPONENTS",
          "FINISHED GOODS",
          "FINISHED GOODS",
          "FINISHED GOODS",
          "FINISHED GOODS",
          "FINISHED GOODS - COMPONENTS",
          "FINISHED GOODS - COMPONENTS",
          "FINISHED GOODS",
          "FINISHED GOODS",
          "FINISHED GOODS",
          "FINISHED GOODS",
          "FINISHED GOODS",
          "FINISHED GOODS",
          "FINISHED GOODS",
          "FINISHED GOODS",
          "FINISHED GOODS",
          "FINISHED GOODS",
          "FINISHED GOODS",
          "FINISHED GOODS",
          "FINISHED GOODS",
          "FINISHED GOODS",
          "FINISHED GOODS",
          "FINISHED GOODS - COMPONENTS",
          "FINISHED GOODS",
          "FINISHED GOODS",
          "FINISHED GOODS",
          "FINISHED GOODS",
          "FINISHED GOODS",
          "FINISHED GOODS",
          "MATERIALS",
          "MATERIALS",
          "FINISHED GOODS",
          "FINISHED GOODS",
          "FINISHED GOODS",
          "MATERIALS",
          "FINISHED GOODS",
          "FINISHED GOODS",
          "FINISHED GOODS",
          "FINISHED GOODS",
          "FINISHED GOODS",
          "FINISHED GOODS",
          "FINISHED GOODS - COMPONENTS",
          "FINISHED GOODS",
          "FINISHED GOODS",
          "FINISHED GOODS",
          "FINISHED GOODS",
          "FINISHED GOODS",
          "FINISHED GOODS",
          "FINISHED GOODS",
          "MATERIALS",
          "FINISHED GOODS",
          "FINISHED GOODS",
          "FINISHED GOODS",
          "FINISHED GOODS",
          "FINISHED GOODS",
          "FINISHED GOODS",
          "FINISHED GOODS",
          "FINISHED GOODS",
          "FINISHED GOODS",
          "FINISHED GOODS",
          "FINISHED GOODS",
          "FINISHED GOODS",
          "FINISHED GOODS",
          "FINISHED GOODS",
          "FINISHED GOODS",
          "FINISHED GOODS",
          "FINISHED GOODS",
          "FINISHED GOODS",
          "FINISHED GOODS",
          "FINISHED GOODS",
          "FINISHED GOODS",
          "MATERIALS",
          "MATERIALS",
          "FINISHED GOODS",
          "FINISHED GOODS",
          "FINISHED GOODS",
          "FINISHED GOODS - COMPONENTS",
          "FINISHED GOODS",
          "MATERIALS",
          "FINISHED GOODS",
          "FINISHED GOODS",
          "MATERIALS",
          "MATERIALS",
          "MATERIALS",
          "MATERIALS",
          "MATERIALS",
          "FINISHED GOODS",
          "FINISHED GOODS",
          "FINISHED GOODS",
          "FINISHED GOODS - COMPONENTS",
          "FINISHED GOODS",
          "FINISHED GOODS",
          "FINISHED GOODS",
          "FINISHED GOODS",
          "FINISHED GOODS",
          "FINISHED GOODS",
          "FINISHED GOODS",
          "FINISHED GOODS",
          "FINISHED GOODS",
          "FINISHED GOODS",
          "FINISHED GOODS",
          "FINISHED GOODS",
          "FINISHED GOODS",
          "FINISHED GOODS",
          "FINISHED GOODS",
          "FINISHED GOODS",
          "FINISHED GOODS",
          "FINISHED GOODS",
          "MATERIALS",
          "MATERIALS",
          "FINISHED GOODS - COMPONENTS",
          "FINISHED GOODS",
          "FINISHED GOODS",
          "FINISHED GOODS",
          "FINISHED GOODS",
          "FINISHED GOODS",
          "FINISHED GOODS",
          "FINISHED GOODS - COMPONENTS",
          "FINISHED GOODS",
          "FINISHED GOODS - COMPONENTS",
          "FINISHED GOODS - COMPONENTS",
          "FINISHED GOODS",
          "FINISHED GOODS",
          "FINISHED GOODS",
          "FINISHED GOODS",
          "FINISHED GOODS",
          "MATERIALS",
          "FINISHED GOODS",
          "MATERIALS",
          "MATERIALS",
          "FINISHED GOODS",
          "FINISHED GOODS",
          "FINISHED GOODS",
          "FINISHED GOODS - COMPONENTS",
          "FINISHED GOODS - COMPONENTS",
          "FINISHED GOODS",
          "FINISHED GOODS",
          "FINISHED GOODS - COMPONENTS",
          "FINISHED GOODS",
          "FINISHED GOODS - COMPONENTS",
          "FINISHED GOODS",
          "MATERIALS",
          "MATERIALS",
          "FINISHED GOODS",
          "MATERIALS",
          "MATERIALS",
          "MATERIALS",
          "MATERIALS",
          "FINISHED GOODS",
          "FINISHED GOODS - COMPONENTS",
          "FINISHED GOODS",
          "FINISHED GOODS",
          "FINISHED GOODS",
          "FINISHED GOODS",
          "FINISHED GOODS",
          "FINISHED GOODS",
          "FINISHED GOODS",
          "FINISHED GOODS",
          "FINISHED GOODS",
          "FINISHED GOODS",
          "FINISHED GOODS",
          "FINISHED GOODS",
          "FINISHED GOODS - COMPONENTS",
          "FINISHED GOODS",
          "FINISHED GOODS",
          "FINISHED GOODS",
          "MATERIALS",
          "FINISHED GOODS",
          "FINISHED GOODS",
          "FINISHED GOODS",
          "FINISHED GOODS",
          "FINISHED GOODS",
          "FINISHED GOODS",
          "FINISHED GOODS",
          "FINISHED GOODS",
          "FINISHED GOODS",
          "FINISHED GOODS",
          "FINISHED GOODS",
          "FINISHED GOODS",
          "FINISHED GOODS",
          "FINISHED GOODS",
          "FINISHED GOODS",
          "FINISHED GOODS - COMPONENTS",
          "FINISHED GOODS",
          "FINISHED GOODS",
          "FINISHED GOODS",
          "FINISHED GOODS",
          "FINISHED GOODS - COMPONENTS",
          "FINISHED GOODS",
          "FINISHED GOODS",
          "FINISHED GOODS",
          "FINISHED GOODS",
          "FINISHED GOODS",
          "FINISHED GOODS",
          "FINISHED GOODS",
          "FINISHED GOODS",
          "FINISHED GOODS",
          "FINISHED GOODS",
          "FINISHED GOODS",
          "FINISHED GOODS - COMPONENTS",
          "FINISHED GOODS - COMPONENTS",
          "FINISHED GOODS",
          "FINISHED GOODS - COMPONENTS",
          "FINISHED GOODS",
          "FINISHED GOODS",
          "FINISHED GOODS",
          "FINISHED GOODS - COMPONENTS",
          "FINISHED GOODS",
          "MATERIALS",
          "FINISHED GOODS",
          "FINISHED GOODS",
          "FINISHED GOODS",
          "FINISHED GOODS",
          "FINISHED GOODS",
          "FINISHED GOODS",
          "FINISHED GOODS",
          "FINISHED GOODS",
          "FINISHED GOODS",
          "FINISHED GOODS",
          "FINISHED GOODS",
          "FINISHED GOODS",
          "FINISHED GOODS",
          "FINISHED GOODS - COMPONENTS",
          "MATERIALS",
          "MATERIALS",
          "MATERIALS",
          "MATERIALS",
          "MATERIALS",
          "MATERIALS",
          "FINISHED GOODS",
          "FINISHED GOODS",
          "MATERIALS",
          "MATERIALS",
          "FINISHED GOODS",
          "MATERIALS",
          "MATERIALS",
          "FINISHED GOODS",
          "FINISHED GOODS",
          "FINISHED GOODS",
          "FINISHED GOODS",
          "MATERIALS",
          "FINISHED GOODS",
          "FINISHED GOODS",
          "FINISHED GOODS",
          "FINISHED GOODS",
          "FINISHED GOODS",
          "FINISHED GOODS",
          "FINISHED GOODS",
          "FINISHED GOODS",
          "FINISHED GOODS",
          "FINISHED GOODS",
          "FINISHED GOODS",
          "FINISHED GOODS",
          "FINISHED GOODS",
          "MATERIALS",
          "FINISHED GOODS - COMPONENTS",
          "FINISHED GOODS",
          "FINISHED GOODS",
          "FINISHED GOODS",
          "FINISHED GOODS",
          "FINISHED GOODS",
          "FINISHED GOODS",
          "FINISHED GOODS",
          "FINISHED GOODS",
          "FINISHED GOODS",
          "FINISHED GOODS",
          "FINISHED GOODS",
          "FINISHED GOODS",
          "FINISHED GOODS",
          "FINISHED GOODS",
          "FINISHED GOODS",
          "FINISHED GOODS",
          "FINISHED GOODS - COMPONENTS",
          "FINISHED GOODS",
          "MATERIALS",
          "FINISHED GOODS - COMPONENTS",
          "FINISHED GOODS",
          "FINISHED GOODS - COMPONENTS",
          "MATERIALS",
          "FINISHED GOODS - COMPONENTS",
          "MATERIALS",
          "MATERIALS",
          "MATERIALS",
          "MATERIALS",
          "MATERIALS",
          "MATERIALS",
          "FINISHED GOODS - COMPONENTS",
          "FINISHED GOODS",
          "FINISHED GOODS",
          "FINISHED GOODS - COMPONENTS",
          "FINISHED GOODS",
          "FINISHED GOODS",
          "FINISHED GOODS",
          "FINISHED GOODS",
          "FINISHED GOODS"
         ],
         "xaxis": "x",
         "y": [
          94,
          1958,
          191,
          616,
          5313,
          372,
          490,
          3963,
          903,
          0,
          60,
          114,
          87,
          230,
          2242,
          6,
          15,
          0,
          0,
          0,
          31,
          16,
          39,
          49,
          1090,
          5903,
          2193,
          1018,
          0,
          899,
          177,
          10,
          64,
          87,
          206,
          83,
          1109,
          189,
          8951,
          2159,
          13425,
          4689,
          24732,
          824,
          0,
          815,
          0,
          50,
          94,
          4440,
          360,
          2180,
          2305,
          59,
          0,
          4843,
          1251,
          1289,
          32,
          3500,
          2589,
          562,
          176,
          13306,
          804,
          1780,
          307,
          93,
          2660,
          813,
          1035,
          10541,
          9469,
          14524,
          9625,
          1985,
          96,
          0,
          920,
          400,
          147,
          18,
          0,
          150,
          692,
          26,
          100,
          95,
          0,
          6331,
          0,
          2197,
          1580,
          314,
          90,
          5187,
          2658,
          960,
          603,
          0,
          0,
          0,
          24,
          44,
          72,
          2110,
          0,
          1535,
          4345,
          3333,
          0,
          13,
          754,
          131,
          5590,
          3178,
          6325,
          10,
          106,
          0,
          1585,
          0,
          0,
          0,
          7,
          37,
          487,
          22170,
          4008,
          3270,
          4974,
          8627,
          200,
          452,
          0,
          0,
          0,
          4686,
          2858,
          10,
          0,
          52,
          698,
          98,
          33,
          1244,
          5192,
          7726,
          34,
          5,
          2197,
          2028,
          1217,
          684,
          1081,
          1106,
          617,
          1006,
          0,
          471,
          3414,
          858,
          113,
          0,
          329,
          286,
          2563,
          341,
          15,
          200,
          121,
          6578,
          3652,
          5,
          166,
          964,
          0,
          2362,
          407,
          2551,
          1192,
          955,
          498,
          640,
          0,
          42,
          46,
          7,
          145,
          52,
          134,
          0,
          0,
          118,
          1542,
          68,
          87,
          546,
          444,
          452,
          89,
          24,
          1300,
          5684,
          7517,
          2914,
          772,
          780,
          5974,
          7600,
          269,
          4224,
          315,
          285,
          667,
          1608,
          1219,
          1995,
          777,
          1645,
          608,
          1814,
          2578,
          180,
          25,
          1711,
          591,
          634,
          104,
          0,
          0,
          18,
          191,
          749,
          0,
          39,
          1501,
          576,
          630,
          1339,
          2111,
          12,
          1813,
          101,
          1732,
          1200,
          3509,
          1280,
          2143,
          0,
          1979,
          3265,
          414,
          570,
          1391,
          718,
          74,
          207,
          674,
          1890,
          109,
          110,
          257,
          500,
          89,
          363,
          560,
          94,
          95,
          2096,
          568,
          0,
          0,
          44,
          673,
          2085,
          1401,
          1063,
          0,
          17856,
          28,
          0,
          0,
          0,
          0,
          0,
          168,
          8336,
          2344,
          6239,
          1178,
          2836,
          633,
          2693,
          1474,
          2576,
          12768,
          1038,
          2321,
          19564,
          2008,
          7918,
          19038,
          3355,
          1561,
          1158,
          15213,
          1729,
          0,
          0,
          2671,
          992,
          12686,
          2307,
          1922,
          16485,
          463,
          573,
          4685,
          726,
          534,
          4323,
          6105,
          800,
          290,
          735,
          0,
          714,
          0,
          0,
          1417,
          20,
          157,
          47,
          47,
          95,
          361,
          164,
          165,
          53,
          5971,
          0,
          0,
          764,
          0,
          0,
          0,
          0,
          36,
          1189,
          103,
          40,
          10,
          398,
          25,
          14,
          13,
          40,
          77,
          1651,
          9751,
          33,
          1037,
          2805,
          2345,
          42,
          0,
          1132,
          11778,
          3735,
          161,
          2129,
          14,
          352,
          249,
          149,
          728,
          344,
          421,
          3709,
          155,
          506,
          627,
          531,
          73,
          426,
          1504,
          3557,
          385,
          2844,
          323,
          1839,
          270,
          30,
          51,
          563,
          130,
          2059,
          17369,
          5088,
          10596,
          770,
          105,
          1517,
          886,
          750,
          85,
          12,
          0,
          186,
          29,
          264,
          597,
          145,
          308,
          185,
          75,
          17,
          1237,
          2246,
          377,
          67,
          66,
          0,
          0,
          0,
          0,
          0,
          0,
          2034,
          560,
          0,
          0,
          3987,
          0,
          0,
          4,
          1944,
          60,
          47,
          0,
          902,
          16,
          37,
          85,
          351,
          894,
          490,
          609,
          2950,
          240,
          2291,
          1676,
          1662,
          0,
          2338,
          2249,
          2769,
          22344,
          14494,
          630,
          341,
          171,
          2047,
          2079,
          1481,
          930,
          11,
          1639,
          417,
          801,
          9549,
          4341,
          838,
          0,
          3218,
          46,
          1157,
          0,
          255,
          0,
          0,
          0,
          0,
          0,
          0,
          245,
          2515,
          1920,
          2087,
          268,
          207,
          1228,
          553,
          893
         ],
         "yaxis": "y"
        },
        {
         "alignmentgroup": "True",
         "customdata": [
          [
           7093,
           38
          ],
          [
           0,
           0
          ],
          [
           30,
           0
          ],
          [
           6551,
           82
          ],
          [
           38,
           0
          ],
          [
           8,
           0
          ],
          [
           28,
           0
          ],
          [
           30,
           54
          ],
          [
           25,
           0
          ],
          [
           101,
           0
          ],
          [
           56,
           1
          ],
          [
           1124,
           0
          ],
          [
           488,
           0
          ],
          [
           14,
           0
          ],
          [
           3628,
           0
          ],
          [
           833,
           0
          ],
          [
           16,
           0
          ],
          [
           32,
           12
          ],
          [
           70,
           0
          ],
          [
           186,
           0
          ],
          [
           166,
           0
          ],
          [
           10,
           1
          ],
          [
           5,
           1
          ],
          [
           746,
           6
          ],
          [
           111,
           0
          ],
          [
           80,
           0
          ],
          [
           74,
           0
          ],
          [
           5840,
           49
          ],
          [
           25,
           0
          ],
          [
           30,
           0
          ],
          [
           4,
           4
          ],
          [
           21,
           0
          ],
          [
           13,
           0
          ],
          [
           55,
           0
          ],
          [
           17,
           0
          ],
          [
           99,
           0
          ],
          [
           7577,
           0
          ],
          [
           79,
           0
          ],
          [
           70,
           0
          ],
          [
           2362,
           0
          ],
          [
           88,
           0
          ],
          [
           25,
           0
          ],
          [
           486,
           0
          ],
          [
           1582,
           0
          ]
         ],
         "hovertemplate": "Nike, Inc. Brand(s)=CONVERSE<br>Factory Type=%{x}<br>Total Workers=%{y}<br>Female Worker Count=%{customdata[0]}<br>Migrant Worker Count=%{customdata[1]}<extra></extra>",
         "legendgroup": "CONVERSE",
         "marker": {
          "color": "#EF553B",
          "pattern": {
           "shape": ""
          }
         },
         "name": "CONVERSE",
         "offsetgroup": "CONVERSE",
         "orientation": "v",
         "showlegend": true,
         "textposition": "auto",
         "type": "bar",
         "x": [
          "FINISHED GOODS",
          "FINISHED GOODS",
          "FINISHED GOODS",
          "FINISHED GOODS",
          "FINISHED GOODS",
          "FINISHED GOODS",
          "FINISHED GOODS",
          "FINISHED GOODS",
          "FINISHED GOODS",
          "FINISHED GOODS",
          "FINISHED GOODS",
          "FINISHED GOODS",
          "FINISHED GOODS",
          "FINISHED GOODS",
          "FINISHED GOODS",
          "FINISHED GOODS",
          "FINISHED GOODS",
          "FINISHED GOODS",
          "FINISHED GOODS",
          "FINISHED GOODS",
          "FINISHED GOODS",
          "FINISHED GOODS",
          "FINISHED GOODS",
          "FINISHED GOODS",
          "FINISHED GOODS",
          "FINISHED GOODS",
          "FINISHED GOODS",
          "FINISHED GOODS",
          "FINISHED GOODS",
          "FINISHED GOODS",
          "FINISHED GOODS",
          "FINISHED GOODS",
          "FINISHED GOODS",
          "FINISHED GOODS",
          "FINISHED GOODS",
          "FINISHED GOODS",
          "FINISHED GOODS",
          "FINISHED GOODS",
          "FINISHED GOODS",
          "FINISHED GOODS",
          "FINISHED GOODS",
          "FINISHED GOODS",
          "FINISHED GOODS",
          "FINISHED GOODS"
         ],
         "xaxis": "x",
         "y": [
          7795,
          7,
          34,
          7530,
          42,
          15,
          31,
          54,
          35,
          118,
          152,
          1972,
          873,
          14,
          5852,
          1244,
          18,
          50,
          101,
          248,
          214,
          20,
          23,
          1244,
          124,
          158,
          159,
          7123,
          50,
          57,
          11,
          57,
          18,
          85,
          28,
          198,
          9021,
          95,
          86,
          2953,
          114,
          30,
          658,
          2434
         ],
         "yaxis": "y"
        },
        {
         "alignmentgroup": "True",
         "customdata": [
          [
           12949,
           394
          ],
          [
           308,
           0
          ],
          [
           367,
           0
          ],
          [
           263,
           0
          ],
          [
           329,
           0
          ],
          [
           129,
           0
          ],
          [
           244,
           0
          ],
          [
           445,
           1
          ],
          [
           144,
           0
          ],
          [
           36,
           0
          ],
          [
           199,
           0
          ],
          [
           93,
           44
          ],
          [
           2292,
           248
          ],
          [
           635,
           0
          ],
          [
           755,
           0
          ],
          [
           1946,
           0
          ],
          [
           912,
           0
          ],
          [
           166,
           0
          ],
          [
           31,
           12
          ],
          [
           868,
           0
          ],
          [
           1681,
           0
          ],
          [
           915,
           0
          ],
          [
           332,
           0
          ],
          [
           362,
           1302
          ],
          [
           928,
           0
          ],
          [
           681,
           0
          ],
          [
           1,
           0
          ],
          [
           1248,
           0
          ],
          [
           194,
           0
          ],
          [
           9,
           0
          ],
          [
           882,
           15
          ],
          [
           113,
           0
          ],
          [
           3307,
           114
          ],
          [
           845,
           0
          ],
          [
           34,
           54
          ],
          [
           1748,
           0
          ],
          [
           924,
           0
          ],
          [
           942,
           1005
          ],
          [
           912,
           942
          ],
          [
           577,
           0
          ],
          [
           78,
           14
          ],
          [
           157,
           0
          ],
          [
           3137,
           0
          ],
          [
           674,
           0
          ],
          [
           81,
           0
          ],
          [
           1079,
           0
          ],
          [
           821,
           0
          ],
          [
           1577,
           0
          ],
          [
           505,
           2
          ],
          [
           591,
           0
          ],
          [
           1345,
           0
          ],
          [
           4110,
           5
          ],
          [
           4613,
           0
          ],
          [
           794,
           0
          ],
          [
           2002,
           0
          ],
          [
           5872,
           0
          ],
          [
           74,
           0
          ],
          [
           4779,
           0
          ],
          [
           120,
           0
          ],
          [
           1700,
           0
          ],
          [
           52,
           0
          ],
          [
           1302,
           3
          ],
          [
           1027,
           0
          ],
          [
           220,
           0
          ],
          [
           573,
           13
          ],
          [
           52,
           0
          ],
          [
           1166,
           0
          ],
          [
           907,
           0
          ],
          [
           1228,
           0
          ],
          [
           1648,
           0
          ],
          [
           1941,
           1850
          ],
          [
           860,
           0
          ],
          [
           14129,
           0
          ],
          [
           941,
           0
          ],
          [
           42,
           0
          ],
          [
           187,
           0
          ],
          [
           76,
           0
          ],
          [
           33,
           0
          ],
          [
           69,
           92
          ]
         ],
         "hovertemplate": "Nike, Inc. Brand(s)=NIKE, CONVERSE<br>Factory Type=%{x}<br>Total Workers=%{y}<br>Female Worker Count=%{customdata[0]}<br>Migrant Worker Count=%{customdata[1]}<extra></extra>",
         "legendgroup": "NIKE, CONVERSE",
         "marker": {
          "color": "#00cc96",
          "pattern": {
           "shape": ""
          }
         },
         "name": "NIKE, CONVERSE",
         "offsetgroup": "NIKE, CONVERSE",
         "orientation": "v",
         "showlegend": true,
         "textposition": "auto",
         "type": "bar",
         "x": [
          "FINISHED GOODS",
          "FINISHED GOODS",
          "FINISHED GOODS",
          "FINISHED GOODS",
          "FINISHED GOODS",
          "FINISHED GOODS",
          "FINISHED GOODS",
          "FINISHED GOODS",
          "FINISHED GOODS",
          "FINISHED GOODS",
          "FINISHED GOODS",
          "FINISHED GOODS",
          "FINISHED GOODS",
          "FINISHED GOODS",
          "FINISHED GOODS",
          "FINISHED GOODS",
          "FINISHED GOODS",
          "FINISHED GOODS",
          "FINISHED GOODS",
          "FINISHED GOODS",
          "FINISHED GOODS",
          "FINISHED GOODS",
          "FINISHED GOODS",
          "FINISHED GOODS",
          "FINISHED GOODS",
          "FINISHED GOODS",
          "FINISHED GOODS",
          "FINISHED GOODS",
          "FINISHED GOODS",
          "FINISHED GOODS",
          "FINISHED GOODS",
          "FINISHED GOODS",
          "FINISHED GOODS",
          "FINISHED GOODS",
          "FINISHED GOODS",
          "FINISHED GOODS",
          "FINISHED GOODS",
          "FINISHED GOODS",
          "FINISHED GOODS",
          "FINISHED GOODS",
          "FINISHED GOODS",
          "FINISHED GOODS",
          "FINISHED GOODS",
          "FINISHED GOODS",
          "FINISHED GOODS",
          "FINISHED GOODS",
          "FINISHED GOODS",
          "FINISHED GOODS",
          "FINISHED GOODS",
          "FINISHED GOODS",
          "FINISHED GOODS",
          "FINISHED GOODS",
          "FINISHED GOODS",
          "FINISHED GOODS",
          "FINISHED GOODS",
          "FINISHED GOODS",
          "FINISHED GOODS",
          "FINISHED GOODS",
          "FINISHED GOODS",
          "FINISHED GOODS",
          "FINISHED GOODS",
          "FINISHED GOODS",
          "FINISHED GOODS",
          "FINISHED GOODS",
          "FINISHED GOODS",
          "FINISHED GOODS",
          "FINISHED GOODS",
          "FINISHED GOODS",
          "FINISHED GOODS",
          "FINISHED GOODS",
          "FINISHED GOODS",
          "FINISHED GOODS",
          "FINISHED GOODS",
          "FINISHED GOODS",
          "FINISHED GOODS",
          "FINISHED GOODS",
          "FINISHED GOODS",
          "FINISHED GOODS",
          "FINISHED GOODS"
         ],
         "xaxis": "x",
         "y": [
          14076,
          335,
          387,
          283,
          354,
          194,
          543,
          610,
          230,
          51,
          369,
          186,
          2439,
          748,
          859,
          2290,
          1824,
          370,
          78,
          1010,
          2026,
          1064,
          396,
          1449,
          1067,
          811,
          4,
          1435,
          299,
          22,
          1698,
          145,
          6361,
          972,
          60,
          2132,
          1232,
          1274,
          1362,
          608,
          115,
          263,
          4183,
          813,
          125,
          1713,
          2488,
          2629,
          562,
          672,
          1621,
          5138,
          7441,
          903,
          2250,
          6247,
          96,
          5557,
          155,
          2000,
          145,
          1944,
          2634,
          279,
          785,
          70,
          1423,
          1334,
          1536,
          1717,
          2232,
          2099,
          16821,
          2003,
          70,
          241,
          85,
          46,
          116
         ],
         "yaxis": "y"
        }
       ],
       "layout": {
        "barmode": "relative",
        "height": 400,
        "legend": {
         "title": {
          "text": "Nike, Inc. Brand(s)"
         },
         "tracegroupgap": 0
        },
        "margin": {
         "t": 60
        },
        "template": {
         "data": {
          "bar": [
           {
            "error_x": {
             "color": "#2a3f5f"
            },
            "error_y": {
             "color": "#2a3f5f"
            },
            "marker": {
             "line": {
              "color": "#E5ECF6",
              "width": 0.5
             },
             "pattern": {
              "fillmode": "overlay",
              "size": 10,
              "solidity": 0.2
             }
            },
            "type": "bar"
           }
          ],
          "barpolar": [
           {
            "marker": {
             "line": {
              "color": "#E5ECF6",
              "width": 0.5
             },
             "pattern": {
              "fillmode": "overlay",
              "size": 10,
              "solidity": 0.2
             }
            },
            "type": "barpolar"
           }
          ],
          "carpet": [
           {
            "aaxis": {
             "endlinecolor": "#2a3f5f",
             "gridcolor": "white",
             "linecolor": "white",
             "minorgridcolor": "white",
             "startlinecolor": "#2a3f5f"
            },
            "baxis": {
             "endlinecolor": "#2a3f5f",
             "gridcolor": "white",
             "linecolor": "white",
             "minorgridcolor": "white",
             "startlinecolor": "#2a3f5f"
            },
            "type": "carpet"
           }
          ],
          "choropleth": [
           {
            "colorbar": {
             "outlinewidth": 0,
             "ticks": ""
            },
            "type": "choropleth"
           }
          ],
          "contour": [
           {
            "colorbar": {
             "outlinewidth": 0,
             "ticks": ""
            },
            "colorscale": [
             [
              0,
              "#0d0887"
             ],
             [
              0.1111111111111111,
              "#46039f"
             ],
             [
              0.2222222222222222,
              "#7201a8"
             ],
             [
              0.3333333333333333,
              "#9c179e"
             ],
             [
              0.4444444444444444,
              "#bd3786"
             ],
             [
              0.5555555555555556,
              "#d8576b"
             ],
             [
              0.6666666666666666,
              "#ed7953"
             ],
             [
              0.7777777777777778,
              "#fb9f3a"
             ],
             [
              0.8888888888888888,
              "#fdca26"
             ],
             [
              1,
              "#f0f921"
             ]
            ],
            "type": "contour"
           }
          ],
          "contourcarpet": [
           {
            "colorbar": {
             "outlinewidth": 0,
             "ticks": ""
            },
            "type": "contourcarpet"
           }
          ],
          "heatmap": [
           {
            "colorbar": {
             "outlinewidth": 0,
             "ticks": ""
            },
            "colorscale": [
             [
              0,
              "#0d0887"
             ],
             [
              0.1111111111111111,
              "#46039f"
             ],
             [
              0.2222222222222222,
              "#7201a8"
             ],
             [
              0.3333333333333333,
              "#9c179e"
             ],
             [
              0.4444444444444444,
              "#bd3786"
             ],
             [
              0.5555555555555556,
              "#d8576b"
             ],
             [
              0.6666666666666666,
              "#ed7953"
             ],
             [
              0.7777777777777778,
              "#fb9f3a"
             ],
             [
              0.8888888888888888,
              "#fdca26"
             ],
             [
              1,
              "#f0f921"
             ]
            ],
            "type": "heatmap"
           }
          ],
          "heatmapgl": [
           {
            "colorbar": {
             "outlinewidth": 0,
             "ticks": ""
            },
            "colorscale": [
             [
              0,
              "#0d0887"
             ],
             [
              0.1111111111111111,
              "#46039f"
             ],
             [
              0.2222222222222222,
              "#7201a8"
             ],
             [
              0.3333333333333333,
              "#9c179e"
             ],
             [
              0.4444444444444444,
              "#bd3786"
             ],
             [
              0.5555555555555556,
              "#d8576b"
             ],
             [
              0.6666666666666666,
              "#ed7953"
             ],
             [
              0.7777777777777778,
              "#fb9f3a"
             ],
             [
              0.8888888888888888,
              "#fdca26"
             ],
             [
              1,
              "#f0f921"
             ]
            ],
            "type": "heatmapgl"
           }
          ],
          "histogram": [
           {
            "marker": {
             "pattern": {
              "fillmode": "overlay",
              "size": 10,
              "solidity": 0.2
             }
            },
            "type": "histogram"
           }
          ],
          "histogram2d": [
           {
            "colorbar": {
             "outlinewidth": 0,
             "ticks": ""
            },
            "colorscale": [
             [
              0,
              "#0d0887"
             ],
             [
              0.1111111111111111,
              "#46039f"
             ],
             [
              0.2222222222222222,
              "#7201a8"
             ],
             [
              0.3333333333333333,
              "#9c179e"
             ],
             [
              0.4444444444444444,
              "#bd3786"
             ],
             [
              0.5555555555555556,
              "#d8576b"
             ],
             [
              0.6666666666666666,
              "#ed7953"
             ],
             [
              0.7777777777777778,
              "#fb9f3a"
             ],
             [
              0.8888888888888888,
              "#fdca26"
             ],
             [
              1,
              "#f0f921"
             ]
            ],
            "type": "histogram2d"
           }
          ],
          "histogram2dcontour": [
           {
            "colorbar": {
             "outlinewidth": 0,
             "ticks": ""
            },
            "colorscale": [
             [
              0,
              "#0d0887"
             ],
             [
              0.1111111111111111,
              "#46039f"
             ],
             [
              0.2222222222222222,
              "#7201a8"
             ],
             [
              0.3333333333333333,
              "#9c179e"
             ],
             [
              0.4444444444444444,
              "#bd3786"
             ],
             [
              0.5555555555555556,
              "#d8576b"
             ],
             [
              0.6666666666666666,
              "#ed7953"
             ],
             [
              0.7777777777777778,
              "#fb9f3a"
             ],
             [
              0.8888888888888888,
              "#fdca26"
             ],
             [
              1,
              "#f0f921"
             ]
            ],
            "type": "histogram2dcontour"
           }
          ],
          "mesh3d": [
           {
            "colorbar": {
             "outlinewidth": 0,
             "ticks": ""
            },
            "type": "mesh3d"
           }
          ],
          "parcoords": [
           {
            "line": {
             "colorbar": {
              "outlinewidth": 0,
              "ticks": ""
             }
            },
            "type": "parcoords"
           }
          ],
          "pie": [
           {
            "automargin": true,
            "type": "pie"
           }
          ],
          "scatter": [
           {
            "fillpattern": {
             "fillmode": "overlay",
             "size": 10,
             "solidity": 0.2
            },
            "type": "scatter"
           }
          ],
          "scatter3d": [
           {
            "line": {
             "colorbar": {
              "outlinewidth": 0,
              "ticks": ""
             }
            },
            "marker": {
             "colorbar": {
              "outlinewidth": 0,
              "ticks": ""
             }
            },
            "type": "scatter3d"
           }
          ],
          "scattercarpet": [
           {
            "marker": {
             "colorbar": {
              "outlinewidth": 0,
              "ticks": ""
             }
            },
            "type": "scattercarpet"
           }
          ],
          "scattergeo": [
           {
            "marker": {
             "colorbar": {
              "outlinewidth": 0,
              "ticks": ""
             }
            },
            "type": "scattergeo"
           }
          ],
          "scattergl": [
           {
            "marker": {
             "colorbar": {
              "outlinewidth": 0,
              "ticks": ""
             }
            },
            "type": "scattergl"
           }
          ],
          "scattermapbox": [
           {
            "marker": {
             "colorbar": {
              "outlinewidth": 0,
              "ticks": ""
             }
            },
            "type": "scattermapbox"
           }
          ],
          "scatterpolar": [
           {
            "marker": {
             "colorbar": {
              "outlinewidth": 0,
              "ticks": ""
             }
            },
            "type": "scatterpolar"
           }
          ],
          "scatterpolargl": [
           {
            "marker": {
             "colorbar": {
              "outlinewidth": 0,
              "ticks": ""
             }
            },
            "type": "scatterpolargl"
           }
          ],
          "scatterternary": [
           {
            "marker": {
             "colorbar": {
              "outlinewidth": 0,
              "ticks": ""
             }
            },
            "type": "scatterternary"
           }
          ],
          "surface": [
           {
            "colorbar": {
             "outlinewidth": 0,
             "ticks": ""
            },
            "colorscale": [
             [
              0,
              "#0d0887"
             ],
             [
              0.1111111111111111,
              "#46039f"
             ],
             [
              0.2222222222222222,
              "#7201a8"
             ],
             [
              0.3333333333333333,
              "#9c179e"
             ],
             [
              0.4444444444444444,
              "#bd3786"
             ],
             [
              0.5555555555555556,
              "#d8576b"
             ],
             [
              0.6666666666666666,
              "#ed7953"
             ],
             [
              0.7777777777777778,
              "#fb9f3a"
             ],
             [
              0.8888888888888888,
              "#fdca26"
             ],
             [
              1,
              "#f0f921"
             ]
            ],
            "type": "surface"
           }
          ],
          "table": [
           {
            "cells": {
             "fill": {
              "color": "#EBF0F8"
             },
             "line": {
              "color": "white"
             }
            },
            "header": {
             "fill": {
              "color": "#C8D4E3"
             },
             "line": {
              "color": "white"
             }
            },
            "type": "table"
           }
          ]
         },
         "layout": {
          "annotationdefaults": {
           "arrowcolor": "#2a3f5f",
           "arrowhead": 0,
           "arrowwidth": 1
          },
          "autotypenumbers": "strict",
          "coloraxis": {
           "colorbar": {
            "outlinewidth": 0,
            "ticks": ""
           }
          },
          "colorscale": {
           "diverging": [
            [
             0,
             "#8e0152"
            ],
            [
             0.1,
             "#c51b7d"
            ],
            [
             0.2,
             "#de77ae"
            ],
            [
             0.3,
             "#f1b6da"
            ],
            [
             0.4,
             "#fde0ef"
            ],
            [
             0.5,
             "#f7f7f7"
            ],
            [
             0.6,
             "#e6f5d0"
            ],
            [
             0.7,
             "#b8e186"
            ],
            [
             0.8,
             "#7fbc41"
            ],
            [
             0.9,
             "#4d9221"
            ],
            [
             1,
             "#276419"
            ]
           ],
           "sequential": [
            [
             0,
             "#0d0887"
            ],
            [
             0.1111111111111111,
             "#46039f"
            ],
            [
             0.2222222222222222,
             "#7201a8"
            ],
            [
             0.3333333333333333,
             "#9c179e"
            ],
            [
             0.4444444444444444,
             "#bd3786"
            ],
            [
             0.5555555555555556,
             "#d8576b"
            ],
            [
             0.6666666666666666,
             "#ed7953"
            ],
            [
             0.7777777777777778,
             "#fb9f3a"
            ],
            [
             0.8888888888888888,
             "#fdca26"
            ],
            [
             1,
             "#f0f921"
            ]
           ],
           "sequentialminus": [
            [
             0,
             "#0d0887"
            ],
            [
             0.1111111111111111,
             "#46039f"
            ],
            [
             0.2222222222222222,
             "#7201a8"
            ],
            [
             0.3333333333333333,
             "#9c179e"
            ],
            [
             0.4444444444444444,
             "#bd3786"
            ],
            [
             0.5555555555555556,
             "#d8576b"
            ],
            [
             0.6666666666666666,
             "#ed7953"
            ],
            [
             0.7777777777777778,
             "#fb9f3a"
            ],
            [
             0.8888888888888888,
             "#fdca26"
            ],
            [
             1,
             "#f0f921"
            ]
           ]
          },
          "colorway": [
           "#636efa",
           "#EF553B",
           "#00cc96",
           "#ab63fa",
           "#FFA15A",
           "#19d3f3",
           "#FF6692",
           "#B6E880",
           "#FF97FF",
           "#FECB52"
          ],
          "font": {
           "color": "#2a3f5f"
          },
          "geo": {
           "bgcolor": "white",
           "lakecolor": "white",
           "landcolor": "#E5ECF6",
           "showlakes": true,
           "showland": true,
           "subunitcolor": "white"
          },
          "hoverlabel": {
           "align": "left"
          },
          "hovermode": "closest",
          "mapbox": {
           "style": "light"
          },
          "paper_bgcolor": "white",
          "plot_bgcolor": "#E5ECF6",
          "polar": {
           "angularaxis": {
            "gridcolor": "white",
            "linecolor": "white",
            "ticks": ""
           },
           "bgcolor": "#E5ECF6",
           "radialaxis": {
            "gridcolor": "white",
            "linecolor": "white",
            "ticks": ""
           }
          },
          "scene": {
           "xaxis": {
            "backgroundcolor": "#E5ECF6",
            "gridcolor": "white",
            "gridwidth": 2,
            "linecolor": "white",
            "showbackground": true,
            "ticks": "",
            "zerolinecolor": "white"
           },
           "yaxis": {
            "backgroundcolor": "#E5ECF6",
            "gridcolor": "white",
            "gridwidth": 2,
            "linecolor": "white",
            "showbackground": true,
            "ticks": "",
            "zerolinecolor": "white"
           },
           "zaxis": {
            "backgroundcolor": "#E5ECF6",
            "gridcolor": "white",
            "gridwidth": 2,
            "linecolor": "white",
            "showbackground": true,
            "ticks": "",
            "zerolinecolor": "white"
           }
          },
          "shapedefaults": {
           "line": {
            "color": "#2a3f5f"
           }
          },
          "ternary": {
           "aaxis": {
            "gridcolor": "white",
            "linecolor": "white",
            "ticks": ""
           },
           "baxis": {
            "gridcolor": "white",
            "linecolor": "white",
            "ticks": ""
           },
           "bgcolor": "#E5ECF6",
           "caxis": {
            "gridcolor": "white",
            "linecolor": "white",
            "ticks": ""
           }
          },
          "title": {
           "x": 0.05
          },
          "xaxis": {
           "automargin": true,
           "gridcolor": "white",
           "linecolor": "white",
           "ticks": "",
           "title": {
            "standoff": 15
           },
           "zerolinecolor": "white",
           "zerolinewidth": 2
          },
          "yaxis": {
           "automargin": true,
           "gridcolor": "white",
           "linecolor": "white",
           "ticks": "",
           "title": {
            "standoff": 15
           },
           "zerolinecolor": "white",
           "zerolinewidth": 2
          }
         }
        },
        "xaxis": {
         "anchor": "y",
         "domain": [
          0,
          1
         ],
         "title": {
          "text": "Factory Type"
         }
        },
        "yaxis": {
         "anchor": "x",
         "domain": [
          0,
          1
         ],
         "title": {
          "text": "Total Workers"
         }
        }
       }
      }
     },
     "metadata": {},
     "output_type": "display_data"
    }
   ],
   "source": [
    "# female/migrant worker distrubitions over factories mentioned with the Brand together\n",
    "fig = px.bar(df, x='Factory Type', y='Total Workers',\n",
    "             hover_data=['Female Worker Count', 'Migrant Worker Count'], color=\"Nike, Inc. Brand(s)\",\n",
    "            #  labels={'':''}, \n",
    "             height=400)\n",
    "fig.show()"
   ]
  }
 ],
 "metadata": {
  "kernelspec": {
   "display_name": "Python 3.8.13 ('dataviz')",
   "language": "python",
   "name": "python3"
  },
  "language_info": {
   "codemirror_mode": {
    "name": "ipython",
    "version": 3
   },
   "file_extension": ".py",
   "mimetype": "text/x-python",
   "name": "python",
   "nbconvert_exporter": "python",
   "pygments_lexer": "ipython3",
   "version": "3.8.13"
  },
  "orig_nbformat": 4,
  "vscode": {
   "interpreter": {
    "hash": "f8a2408c42c83a9859e8627fd08f73cec50a544ca97b4982eb2243c0b86652fb"
   }
  }
 },
 "nbformat": 4,
 "nbformat_minor": 2
}
