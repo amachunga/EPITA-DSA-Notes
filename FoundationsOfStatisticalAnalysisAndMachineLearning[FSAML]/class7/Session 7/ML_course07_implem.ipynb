{
 "cells": [
  {
   "cell_type": "markdown",
   "metadata": {},
   "source": [
    "# Implementation 9 - kNN, Decision Tree, SVM"
   ]
  },
  {
   "cell_type": "code",
   "execution_count": 126,
   "metadata": {
    "ExecuteTime": {
     "end_time": "2022-04-27T21:19:06.625206Z",
     "start_time": "2022-04-27T21:19:05.368188Z"
    }
   },
   "outputs": [],
   "source": [
    "import numpy as np\n",
    "import matplotlib.pyplot as plt\n",
    "import pandas as pd\n",
    "import sklearn "
   ]
  },
  {
   "cell_type": "markdown",
   "metadata": {},
   "source": [
    "## Importing the data set"
   ]
  },
  {
   "cell_type": "code",
   "execution_count": 127,
   "metadata": {
    "ExecuteTime": {
     "end_time": "2022-04-27T21:19:06.632977Z",
     "start_time": "2022-04-27T21:19:06.627297Z"
    }
   },
   "outputs": [],
   "source": [
    "dataset = pd.read_csv('Social_Network_Ads.csv')"
   ]
  },
  {
   "cell_type": "code",
   "execution_count": 128,
   "metadata": {
    "ExecuteTime": {
     "end_time": "2022-04-27T21:19:06.645835Z",
     "start_time": "2022-04-27T21:19:06.635053Z"
    }
   },
   "outputs": [
    {
     "data": {
      "text/html": [
       "<div>\n",
       "<style scoped>\n",
       "    .dataframe tbody tr th:only-of-type {\n",
       "        vertical-align: middle;\n",
       "    }\n",
       "\n",
       "    .dataframe tbody tr th {\n",
       "        vertical-align: top;\n",
       "    }\n",
       "\n",
       "    .dataframe thead th {\n",
       "        text-align: right;\n",
       "    }\n",
       "</style>\n",
       "<table border=\"1\" class=\"dataframe\">\n",
       "  <thead>\n",
       "    <tr style=\"text-align: right;\">\n",
       "      <th></th>\n",
       "      <th>User ID</th>\n",
       "      <th>Gender</th>\n",
       "      <th>Age</th>\n",
       "      <th>EstimatedSalary</th>\n",
       "      <th>Purchased</th>\n",
       "    </tr>\n",
       "  </thead>\n",
       "  <tbody>\n",
       "    <tr>\n",
       "      <th>0</th>\n",
       "      <td>15624510</td>\n",
       "      <td>Male</td>\n",
       "      <td>19</td>\n",
       "      <td>19000</td>\n",
       "      <td>no</td>\n",
       "    </tr>\n",
       "    <tr>\n",
       "      <th>1</th>\n",
       "      <td>15810944</td>\n",
       "      <td>Male</td>\n",
       "      <td>35</td>\n",
       "      <td>20000</td>\n",
       "      <td>no</td>\n",
       "    </tr>\n",
       "    <tr>\n",
       "      <th>2</th>\n",
       "      <td>15668575</td>\n",
       "      <td>Female</td>\n",
       "      <td>26</td>\n",
       "      <td>43000</td>\n",
       "      <td>no</td>\n",
       "    </tr>\n",
       "    <tr>\n",
       "      <th>3</th>\n",
       "      <td>15603246</td>\n",
       "      <td>Female</td>\n",
       "      <td>27</td>\n",
       "      <td>57000</td>\n",
       "      <td>no</td>\n",
       "    </tr>\n",
       "    <tr>\n",
       "      <th>4</th>\n",
       "      <td>15804002</td>\n",
       "      <td>Male</td>\n",
       "      <td>19</td>\n",
       "      <td>76000</td>\n",
       "      <td>no</td>\n",
       "    </tr>\n",
       "    <tr>\n",
       "      <th>5</th>\n",
       "      <td>15728773</td>\n",
       "      <td>Male</td>\n",
       "      <td>27</td>\n",
       "      <td>58000</td>\n",
       "      <td>no</td>\n",
       "    </tr>\n",
       "    <tr>\n",
       "      <th>6</th>\n",
       "      <td>15598044</td>\n",
       "      <td>Female</td>\n",
       "      <td>27</td>\n",
       "      <td>84000</td>\n",
       "      <td>no</td>\n",
       "    </tr>\n",
       "    <tr>\n",
       "      <th>7</th>\n",
       "      <td>15694829</td>\n",
       "      <td>Female</td>\n",
       "      <td>32</td>\n",
       "      <td>150000</td>\n",
       "      <td>yes</td>\n",
       "    </tr>\n",
       "    <tr>\n",
       "      <th>8</th>\n",
       "      <td>15600575</td>\n",
       "      <td>Male</td>\n",
       "      <td>25</td>\n",
       "      <td>33000</td>\n",
       "      <td>no</td>\n",
       "    </tr>\n",
       "    <tr>\n",
       "      <th>9</th>\n",
       "      <td>15727311</td>\n",
       "      <td>Female</td>\n",
       "      <td>35</td>\n",
       "      <td>65000</td>\n",
       "      <td>no</td>\n",
       "    </tr>\n",
       "  </tbody>\n",
       "</table>\n",
       "</div>"
      ],
      "text/plain": [
       "    User ID  Gender  Age  EstimatedSalary Purchased\n",
       "0  15624510    Male   19            19000        no\n",
       "1  15810944    Male   35            20000        no\n",
       "2  15668575  Female   26            43000        no\n",
       "3  15603246  Female   27            57000        no\n",
       "4  15804002    Male   19            76000        no\n",
       "5  15728773    Male   27            58000        no\n",
       "6  15598044  Female   27            84000        no\n",
       "7  15694829  Female   32           150000       yes\n",
       "8  15600575    Male   25            33000        no\n",
       "9  15727311  Female   35            65000        no"
      ]
     },
     "execution_count": 128,
     "metadata": {},
     "output_type": "execute_result"
    }
   ],
   "source": [
    "dataset.head(10)"
   ]
  },
  {
   "cell_type": "markdown",
   "metadata": {},
   "source": [
    "## Inspecting the data set"
   ]
  },
  {
   "cell_type": "code",
   "execution_count": 129,
   "metadata": {
    "ExecuteTime": {
     "end_time": "2022-04-27T21:19:08.128558Z",
     "start_time": "2022-04-27T21:19:06.647414Z"
    }
   },
   "outputs": [
    {
     "data": {
      "image/png": "[encoded data removed]",
      "text/plain": [
       "<Figure size 960x240 with 2 Axes>"
      ]
     },
     "metadata": {
      "needs_background": "light"
     },
     "output_type": "display_data"
    }
   ],
   "source": [
    "feature_list = ['Age', 'EstimatedSalary']\n",
    "\n",
    "fig, axs = plt.subplots(1,len(feature_list), figsize=(12,3), dpi= 80)\n",
    "for i_axs in range(len(feature_list)):\n",
    "    for i_purchase, purchase in enumerate(['no', 'yes']):\n",
    "        (dataset[feature_list[i_axs]][dataset['Purchased']==purchase]).plot(kind='density', label=purchase, c=['red', 'green'][i_purchase], ax=axs[i_axs])\n",
    "    axs[i_axs].set_xlabel(feature_list[i_axs])\n",
    "    axs[i_axs].legend(title='Purchased')\n",
    "plt.show()   "
   ]
  },
  {
   "cell_type": "markdown",
   "metadata": {},
   "source": [
    "## Preparing the data set"
   ]
  },
  {
   "cell_type": "code",
   "execution_count": 130,
   "metadata": {
    "ExecuteTime": {
     "end_time": "2022-04-27T21:19:08.133653Z",
     "start_time": "2022-04-27T21:19:08.130292Z"
    }
   },
   "outputs": [],
   "source": [
    "X = dataset[['Age', 'EstimatedSalary']].values"
   ]
  },
  {
   "cell_type": "markdown",
   "metadata": {},
   "source": [
    "**Encoding:**"
   ]
  },
  {
   "cell_type": "code",
   "execution_count": 131,
   "metadata": {
    "ExecuteTime": {
     "end_time": "2022-04-27T21:19:08.151175Z",
     "start_time": "2022-04-27T21:19:08.135872Z"
    }
   },
   "outputs": [],
   "source": [
    "from sklearn.preprocessing import LabelEncoder\n",
    "\n",
    "label_encoder = LabelEncoder()\n",
    "y = label_encoder.fit_transform(dataset['Purchased'])"
   ]
  },
  {
   "cell_type": "markdown",
   "metadata": {},
   "source": [
    "**Train-test split:**"
   ]
  },
  {
   "cell_type": "code",
   "execution_count": 132,
   "metadata": {
    "ExecuteTime": {
     "end_time": "2022-04-27T21:19:08.179798Z",
     "start_time": "2022-04-27T21:19:08.154647Z"
    }
   },
   "outputs": [
    {
     "name": "stdout",
     "output_type": "stream",
     "text": [
      "Train set: (300, 2) (300,)\n",
      "Test set: (100, 2) (100,)\n"
     ]
    }
   ],
   "source": [
    "from sklearn.model_selection import train_test_split\n",
    "\n",
    "X_train, X_test, y_train, y_test = train_test_split(X, y, test_size = 0.25, random_state = 0)\n",
    "print ('Train set:', X_train.shape,  y_train.shape)\n",
    "print ('Test set:', X_test.shape,  y_test.shape)"
   ]
  },
  {
   "cell_type": "markdown",
   "metadata": {},
   "source": [
    "**Feature scaling:**"
   ]
  },
  {
   "cell_type": "code",
   "execution_count": 133,
   "metadata": {},
   "outputs": [
    {
     "name": "stdout",
     "output_type": "stream",
     "text": [
      "mean = 36.240, std = 11.397, min = 18.000, max = 60.000\n"
     ]
    }
   ],
   "source": [
    "# summarize numpy array\n",
    "def summarize(X):\n",
    "    print ('mean = %.3f, std = %.3f, min = %.3f, max = %.3f' % (np.mean(X), np.std(X), np.min(X), np.max(X)))\n",
    "\n",
    "summarize(X_test[:,0])"
   ]
  },
  {
   "cell_type": "code",
   "execution_count": 134,
   "metadata": {
    "ExecuteTime": {
     "end_time": "2022-04-27T21:19:08.187210Z",
     "start_time": "2022-04-27T21:19:08.183023Z"
    }
   },
   "outputs": [],
   "source": [
    "from sklearn.preprocessing import StandardScaler\n",
    "\n",
    "sc = StandardScaler()\n",
    "X_train = sc.fit_transform(X_train)\n",
    "X_test = sc.transform(X_test)"
   ]
  },
  {
   "cell_type": "code",
   "execution_count": 135,
   "metadata": {},
   "outputs": [
    {
     "name": "stdout",
     "output_type": "stream",
     "text": [
      "mean = -0.187, std = 1.129, min = -1.993, max = 2.166\n"
     ]
    }
   ],
   "source": [
    "summarize(X_test[:,0])"
   ]
  },
  {
   "cell_type": "markdown",
   "metadata": {},
   "source": [
    "## Training a logistic regression model"
   ]
  },
  {
   "cell_type": "code",
   "execution_count": 136,
   "metadata": {
    "ExecuteTime": {
     "end_time": "2022-04-27T21:19:08.223740Z",
     "start_time": "2022-04-27T21:19:08.188862Z"
    }
   },
   "outputs": [
    {
     "data": {
      "text/plain": [
       "LogisticRegression()"
      ]
     },
     "execution_count": 136,
     "metadata": {},
     "output_type": "execute_result"
    }
   ],
   "source": [
    "from sklearn.linear_model import LogisticRegression\n",
    "\n",
    "log_reg = {'classifier': LogisticRegression()}\n",
    "# log_reg = {'classifier': LogisticRegression(C=0.01, solver='liblinear')}\n",
    "log_reg['classifier'].fit(X_train, y_train)"
   ]
  },
  {
   "cell_type": "markdown",
   "metadata": {},
   "source": [
    "We can check what prediction is made on some examples:"
   ]
  },
  {
   "cell_type": "code",
   "execution_count": 137,
   "metadata": {
    "ExecuteTime": {
     "end_time": "2022-04-27T21:19:08.229074Z",
     "start_time": "2022-04-27T21:19:08.225352Z"
    }
   },
   "outputs": [
    {
     "name": "stdout",
     "output_type": "stream",
     "text": [
      "['yes']\n"
     ]
    }
   ],
   "source": [
    "print(label_encoder.inverse_transform(log_reg['classifier'].predict(sc.transform([[30,200000]]))))"
   ]
  },
  {
   "cell_type": "code",
   "execution_count": 138,
   "metadata": {
    "ExecuteTime": {
     "end_time": "2022-04-27T21:19:08.234930Z",
     "start_time": "2022-04-27T21:19:08.230829Z"
    }
   },
   "outputs": [
    {
     "name": "stdout",
     "output_type": "stream",
     "text": [
      "['no']\n"
     ]
    }
   ],
   "source": [
    "print(label_encoder.inverse_transform(log_reg['classifier'].predict(sc.transform([[30,100000]]))))"
   ]
  },
  {
   "cell_type": "markdown",
   "metadata": {},
   "source": [
    "## Training a k-NN model"
   ]
  },
  {
   "cell_type": "code",
   "execution_count": 139,
   "metadata": {
    "ExecuteTime": {
     "end_time": "2022-04-27T21:19:08.266228Z",
     "start_time": "2022-04-27T21:19:08.236829Z"
    }
   },
   "outputs": [
    {
     "data": {
      "text/plain": [
       "KNeighborsClassifier(metric='euclidean', n_neighbors=15)"
      ]
     },
     "execution_count": 139,
     "metadata": {},
     "output_type": "execute_result"
    }
   ],
   "source": [
    "from sklearn.neighbors import KNeighborsClassifier\n",
    "# knn = {'classifier': KNeighborsClassifier(n_neighbors = 4, metric = 'euclidean')}\n",
    "knn = {'classifier': KNeighborsClassifier(n_neighbors = 15, metric = 'euclidean')}\n",
    "# knn = {'classifier': KNeighborsClassifier(n_neighbors = 100, metric = 'euclidean')}\n",
    "knn['classifier'].fit(X_train, y_train)"
   ]
  },
  {
   "cell_type": "code",
   "execution_count": 140,
   "metadata": {
    "ExecuteTime": {
     "end_time": "2022-04-27T21:19:08.273402Z",
     "start_time": "2022-04-27T21:19:08.268302Z"
    }
   },
   "outputs": [
    {
     "name": "stdout",
     "output_type": "stream",
     "text": [
      "['yes']\n"
     ]
    }
   ],
   "source": [
    "print(label_encoder.inverse_transform(knn['classifier'].predict(sc.transform([[30,200000]]))))"
   ]
  },
  {
   "cell_type": "code",
   "execution_count": 141,
   "metadata": {
    "ExecuteTime": {
     "end_time": "2022-04-27T21:19:08.280273Z",
     "start_time": "2022-04-27T21:19:08.275595Z"
    }
   },
   "outputs": [
    {
     "name": "stdout",
     "output_type": "stream",
     "text": [
      "['no']\n"
     ]
    }
   ],
   "source": [
    "print(label_encoder.inverse_transform(knn['classifier'].predict(sc.transform([[30,100000]]))))"
   ]
  },
  {
   "cell_type": "markdown",
   "metadata": {},
   "source": [
    "## Training a Decision Tree model"
   ]
  },
  {
   "cell_type": "code",
   "execution_count": 142,
   "metadata": {
    "ExecuteTime": {
     "end_time": "2022-04-27T21:19:08.300831Z",
     "start_time": "2022-04-27T21:19:08.282016Z"
    }
   },
   "outputs": [
    {
     "data": {
      "text/plain": [
       "DecisionTreeClassifier(criterion='entropy', max_depth=4, random_state=0)"
      ]
     },
     "execution_count": 142,
     "metadata": {},
     "output_type": "execute_result"
    }
   ],
   "source": [
    "from sklearn.tree import DecisionTreeClassifier\n",
    "# dt = {'classifier': DecisionTreeClassifier(criterion = 'entropy', random_state = 0)}\n",
    "dt = {'classifier': DecisionTreeClassifier(criterion = 'entropy', random_state = 0, max_depth = 4)}\n",
    "dt['classifier'].fit(X_train, y_train)"
   ]
  },
  {
   "cell_type": "code",
   "execution_count": 143,
   "metadata": {
    "ExecuteTime": {
     "end_time": "2022-04-27T21:19:08.306615Z",
     "start_time": "2022-04-27T21:19:08.302795Z"
    }
   },
   "outputs": [
    {
     "name": "stdout",
     "output_type": "stream",
     "text": [
      "['yes']\n"
     ]
    }
   ],
   "source": [
    "print(label_encoder.inverse_transform(dt['classifier'].predict(sc.transform([[30,200000]]))))"
   ]
  },
  {
   "cell_type": "code",
   "execution_count": 144,
   "metadata": {
    "ExecuteTime": {
     "end_time": "2022-04-27T21:19:08.312454Z",
     "start_time": "2022-04-27T21:19:08.308863Z"
    }
   },
   "outputs": [
    {
     "name": "stdout",
     "output_type": "stream",
     "text": [
      "['yes']\n"
     ]
    }
   ],
   "source": [
    "print(label_encoder.inverse_transform(dt['classifier'].predict(sc.transform([[30,100000]]))))"
   ]
  },
  {
   "cell_type": "markdown",
   "metadata": {},
   "source": [
    "## Training a SVM model"
   ]
  },
  {
   "cell_type": "code",
   "execution_count": 145,
   "metadata": {
    "ExecuteTime": {
     "end_time": "2022-04-27T21:19:08.328634Z",
     "start_time": "2022-04-27T21:19:08.314221Z"
    }
   },
   "outputs": [
    {
     "data": {
      "text/plain": [
       "SVC(kernel='linear', probability=True, random_state=0)"
      ]
     },
     "execution_count": 145,
     "metadata": {},
     "output_type": "execute_result"
    }
   ],
   "source": [
    "from sklearn.svm import SVC\n",
    "svm = {'classifier': SVC(kernel = 'linear', random_state = 0, probability = True)}\n",
    "# svm = {'classifier': SVC(kernel = 'rbf', random_state = 0, probability = True)}\n",
    "svm['classifier'].fit(X_train, y_train)"
   ]
  },
  {
   "cell_type": "code",
   "execution_count": 146,
   "metadata": {
    "ExecuteTime": {
     "end_time": "2022-04-27T21:19:08.334801Z",
     "start_time": "2022-04-27T21:19:08.330677Z"
    }
   },
   "outputs": [
    {
     "name": "stdout",
     "output_type": "stream",
     "text": [
      "['yes']\n"
     ]
    }
   ],
   "source": [
    "print(label_encoder.inverse_transform(svm['classifier'].predict(sc.transform([[30,200000]]))))"
   ]
  },
  {
   "cell_type": "code",
   "execution_count": 147,
   "metadata": {
    "ExecuteTime": {
     "end_time": "2022-04-27T21:19:08.341319Z",
     "start_time": "2022-04-27T21:19:08.336934Z"
    }
   },
   "outputs": [
    {
     "name": "stdout",
     "output_type": "stream",
     "text": [
      "['no']\n"
     ]
    }
   ],
   "source": [
    "print(label_encoder.inverse_transform(svm['classifier'].predict(sc.transform([[30,100000]]))))"
   ]
  },
  {
   "cell_type": "code",
   "execution_count": 148,
   "metadata": {
    "ExecuteTime": {
     "end_time": "2022-04-27T21:19:08.345700Z",
     "start_time": "2022-04-27T21:19:08.343264Z"
    }
   },
   "outputs": [],
   "source": [
    "model_list = [log_reg, knn, dt, svm]"
   ]
  },
  {
   "cell_type": "markdown",
   "metadata": {},
   "source": [
    "## Making predictions"
   ]
  },
  {
   "cell_type": "markdown",
   "metadata": {},
   "source": [
    "**Probability of purchasing:**"
   ]
  },
  {
   "cell_type": "code",
   "execution_count": 149,
   "metadata": {
    "ExecuteTime": {
     "end_time": "2022-04-27T21:19:08.357877Z",
     "start_time": "2022-04-27T21:19:08.353354Z"
    }
   },
   "outputs": [
    {
     "data": {
      "text/plain": [
       "array([[0.88725351, 0.11274649],\n",
       "       [0.83324206, 0.16675794],\n",
       "       [0.80549253, 0.19450747],\n",
       "       [0.91056209, 0.08943791],\n",
       "       [0.90253903, 0.09746097],\n",
       "       [0.99212979, 0.00787021],\n",
       "       [0.9848589 , 0.0151411 ],\n",
       "       [0.26779092, 0.73220908],\n",
       "       [0.99419108, 0.00580892],\n",
       "       [0.49579544, 0.50420456]])"
      ]
     },
     "execution_count": 149,
     "metadata": {},
     "output_type": "execute_result"
    }
   ],
   "source": [
    "log_reg['y_proba'] = log_reg['classifier'].predict_proba(X_test)\n",
    "log_reg['y_proba'][:10]"
   ]
  },
  {
   "cell_type": "code",
   "execution_count": 150,
   "metadata": {
    "ExecuteTime": {
     "end_time": "2022-04-27T21:19:08.366284Z",
     "start_time": "2022-04-27T21:19:08.360782Z"
    }
   },
   "outputs": [
    {
     "data": {
      "text/plain": [
       "array([[0.93333333, 0.06666667],\n",
       "       [1.        , 0.        ],\n",
       "       [0.86666667, 0.13333333],\n",
       "       [1.        , 0.        ],\n",
       "       [1.        , 0.        ],\n",
       "       [1.        , 0.        ],\n",
       "       [1.        , 0.        ],\n",
       "       [0.        , 1.        ],\n",
       "       [1.        , 0.        ],\n",
       "       [0.2       , 0.8       ]])"
      ]
     },
     "execution_count": 150,
     "metadata": {},
     "output_type": "execute_result"
    }
   ],
   "source": [
    "knn['y_proba'] = knn['classifier'].predict_proba(X_test)\n",
    "knn['y_proba'][:10]"
   ]
  },
  {
   "cell_type": "code",
   "execution_count": 151,
   "metadata": {
    "ExecuteTime": {
     "end_time": "2022-04-27T21:19:08.372942Z",
     "start_time": "2022-04-27T21:19:08.368552Z"
    }
   },
   "outputs": [
    {
     "data": {
      "text/plain": [
       "array([[1.        , 0.        ],\n",
       "       [1.        , 0.        ],\n",
       "       [1.        , 0.        ],\n",
       "       [1.        , 0.        ],\n",
       "       [1.        , 0.        ],\n",
       "       [1.        , 0.        ],\n",
       "       [1.        , 0.        ],\n",
       "       [0.        , 1.        ],\n",
       "       [1.        , 0.        ],\n",
       "       [0.57142857, 0.42857143]])"
      ]
     },
     "execution_count": 151,
     "metadata": {},
     "output_type": "execute_result"
    }
   ],
   "source": [
    "dt['y_proba'] = dt['classifier'].predict_proba(X_test)\n",
    "dt['y_proba'][:10]"
   ]
  },
  {
   "cell_type": "code",
   "execution_count": 152,
   "metadata": {
    "ExecuteTime": {
     "end_time": "2022-04-27T21:19:08.380062Z",
     "start_time": "2022-04-27T21:19:08.374956Z"
    }
   },
   "outputs": [
    {
     "data": {
      "text/plain": [
       "array([[0.87256648, 0.12743352],\n",
       "       [0.83739142, 0.16260858],\n",
       "       [0.79479061, 0.20520939],\n",
       "       [0.90074611, 0.09925389],\n",
       "       [0.90329225, 0.09670775],\n",
       "       [0.9923935 , 0.0076065 ],\n",
       "       [0.98590055, 0.01409945],\n",
       "       [0.21854536, 0.78145464],\n",
       "       [0.99308966, 0.00691034],\n",
       "       [0.52478082, 0.47521918]])"
      ]
     },
     "execution_count": 152,
     "metadata": {},
     "output_type": "execute_result"
    }
   ],
   "source": [
    "svm['y_proba'] = svm['classifier'].predict_proba(X_test)\n",
    "svm['y_proba'][:10]"
   ]
  },
  {
   "cell_type": "markdown",
   "metadata": {},
   "source": [
    "**Storing the the probabilities for the positive class in a separate variable**"
   ]
  },
  {
   "cell_type": "code",
   "execution_count": 153,
   "metadata": {
    "ExecuteTime": {
     "end_time": "2022-04-27T21:19:08.385066Z",
     "start_time": "2022-04-27T21:19:08.381884Z"
    }
   },
   "outputs": [],
   "source": [
    "for model in model_list:\n",
    "    model['y_proba_positive'] = model['y_proba'][:,1]"
   ]
  },
  {
   "cell_type": "markdown",
   "metadata": {},
   "source": [
    "**Prediction of the class and comparison with the true one:**"
   ]
  },
  {
   "cell_type": "code",
   "execution_count": 154,
   "metadata": {
    "ExecuteTime": {
     "end_time": "2022-04-27T21:19:08.390529Z",
     "start_time": "2022-04-27T21:19:08.387531Z"
    }
   },
   "outputs": [],
   "source": [
    "log_reg['y_pred'] = log_reg['classifier'].predict(X_test)"
   ]
  },
  {
   "cell_type": "code",
   "execution_count": 155,
   "metadata": {
    "ExecuteTime": {
     "end_time": "2022-04-27T21:19:08.400437Z",
     "start_time": "2022-04-27T21:19:08.392328Z"
    }
   },
   "outputs": [],
   "source": [
    "knn['y_pred'] = knn['classifier'].predict(X_test)"
   ]
  },
  {
   "cell_type": "code",
   "execution_count": 156,
   "metadata": {
    "ExecuteTime": {
     "end_time": "2022-04-27T21:19:08.405104Z",
     "start_time": "2022-04-27T21:19:08.402420Z"
    }
   },
   "outputs": [],
   "source": [
    "dt['y_pred'] = dt['classifier'].predict(X_test)"
   ]
  },
  {
   "cell_type": "code",
   "execution_count": 157,
   "metadata": {
    "ExecuteTime": {
     "end_time": "2022-04-27T21:19:08.409931Z",
     "start_time": "2022-04-27T21:19:08.406914Z"
    }
   },
   "outputs": [],
   "source": [
    "svm['y_pred'] = svm['classifier'].predict(X_test)"
   ]
  },
  {
   "cell_type": "markdown",
   "metadata": {},
   "source": [
    "## Performance assessment"
   ]
  },
  {
   "cell_type": "markdown",
   "metadata": {},
   "source": [
    "**Confusion matrix:**"
   ]
  },
  {
   "cell_type": "code",
   "execution_count": 158,
   "metadata": {
    "ExecuteTime": {
     "end_time": "2022-04-27T21:19:08.553202Z",
     "start_time": "2022-04-27T21:19:08.411523Z"
    }
   },
   "outputs": [
    {
     "data": {
      "image/png": "[encoded data removed]",
      "text/plain": [
       "<Figure size 432x288 with 2 Axes>"
      ]
     },
     "metadata": {
      "needs_background": "light"
     },
     "output_type": "display_data"
    }
   ],
   "source": [
    "from sklearn.metrics import confusion_matrix\n",
    "from sklearn.metrics import ConfusionMatrixDisplay\n",
    "\n",
    "cm = confusion_matrix(y_test, knn['y_pred'])\n",
    "_ = ConfusionMatrixDisplay(cm, display_labels=[\"No purchase\", \"Purchased\"]).plot(cmap=\"Reds\")"
   ]
  },
  {
   "cell_type": "markdown",
   "metadata": {},
   "source": [
    "**Accuracy, precision, recall:**"
   ]
  },
  {
   "cell_type": "code",
   "execution_count": 159,
   "metadata": {
    "ExecuteTime": {
     "end_time": "2022-04-27T21:19:08.560396Z",
     "start_time": "2022-04-27T21:19:08.554795Z"
    }
   },
   "outputs": [],
   "source": [
    "from sklearn.metrics import accuracy_score, precision_score, recall_score, f1_score, roc_auc_score\n",
    "\n",
    "def compute_metrics(classifier_data, y_test):\n",
    "    model_name = classifier_data['classifier'].__class__.__name__\n",
    "    \n",
    "    accuracy = round(accuracy_score(y_test, classifier_data['y_pred']), 2)\n",
    "    precision = round(precision_score(y_test, classifier_data['y_pred']),2)\n",
    "    recall = round(recall_score(y_test, classifier_data['y_pred']),2)\n",
    "    f1 = round(f1_score(y_test, classifier_data['y_pred']), 2)\n",
    "    auc = round(roc_auc_score(y_test, classifier_data['y_proba_positive']), 2)\n",
    "    \n",
    "    print('Model: ' + model_name)\n",
    "    print('-' * 80)\n",
    "    print('Accuracy (proportion of correct predictions) is ' + str(accuracy))\n",
    "    print('Precision (proportion of true purchases among purchase predictions) is ' + str(precision))\n",
    "    print('Recall (proportion of true purchases that are correctly predicted) is ' + str(recall))\n",
    "    print('F1 score (combination of precision and recall) is ' + str(f1))\n",
    "    print('Area Under the Curve (AUC) is ' + str(auc))\n",
    "    return pd.DataFrame({\n",
    "        'Accuracy': accuracy,\n",
    "        'Precision': precision,\n",
    "        'Recall': recall,\n",
    "        'F1 score': f1,\n",
    "        'AUC score': auc\n",
    "    }, index=[model_name])"
   ]
  },
  {
   "cell_type": "code",
   "execution_count": 160,
   "metadata": {
    "ExecuteTime": {
     "end_time": "2022-04-27T21:19:08.569725Z",
     "start_time": "2022-04-27T21:19:08.562017Z"
    }
   },
   "outputs": [
    {
     "name": "stdout",
     "output_type": "stream",
     "text": [
      "Model: LogisticRegression\n",
      "--------------------------------------------------------------------------------\n",
      "Accuracy (proportion of correct predictions) is 0.89\n",
      "Precision (proportion of true purchases among purchase predictions) is 0.89\n",
      "Recall (proportion of true purchases that are correctly predicted) is 0.75\n",
      "F1 score (combination of precision and recall) is 0.81\n",
      "Area Under the Curve (AUC) is 0.95\n"
     ]
    }
   ],
   "source": [
    "log_reg['metrics'] = compute_metrics(log_reg, y_test)"
   ]
  },
  {
   "cell_type": "code",
   "execution_count": 161,
   "metadata": {
    "ExecuteTime": {
     "end_time": "2022-04-27T21:19:08.579434Z",
     "start_time": "2022-04-27T21:19:08.571402Z"
    }
   },
   "outputs": [
    {
     "name": "stdout",
     "output_type": "stream",
     "text": [
      "Model: KNeighborsClassifier\n",
      "--------------------------------------------------------------------------------\n",
      "Accuracy (proportion of correct predictions) is 0.93\n",
      "Precision (proportion of true purchases among purchase predictions) is 0.88\n",
      "Recall (proportion of true purchases that are correctly predicted) is 0.91\n",
      "F1 score (combination of precision and recall) is 0.89\n",
      "Area Under the Curve (AUC) is 0.97\n"
     ]
    }
   ],
   "source": [
    "knn['metrics'] = compute_metrics(knn, y_test)"
   ]
  },
  {
   "cell_type": "code",
   "execution_count": 162,
   "metadata": {
    "ExecuteTime": {
     "end_time": "2022-04-27T21:19:08.590265Z",
     "start_time": "2022-04-27T21:19:08.580876Z"
    }
   },
   "outputs": [
    {
     "name": "stdout",
     "output_type": "stream",
     "text": [
      "Model: DecisionTreeClassifier\n",
      "--------------------------------------------------------------------------------\n",
      "Accuracy (proportion of correct predictions) is 0.93\n",
      "Precision (proportion of true purchases among purchase predictions) is 0.9\n",
      "Recall (proportion of true purchases that are correctly predicted) is 0.88\n",
      "F1 score (combination of precision and recall) is 0.89\n",
      "Area Under the Curve (AUC) is 0.98\n"
     ]
    }
   ],
   "source": [
    "dt['metrics'] = compute_metrics(dt, y_test)"
   ]
  },
  {
   "cell_type": "code",
   "execution_count": 163,
   "metadata": {
    "ExecuteTime": {
     "end_time": "2022-04-27T21:19:08.600457Z",
     "start_time": "2022-04-27T21:19:08.591882Z"
    }
   },
   "outputs": [
    {
     "name": "stdout",
     "output_type": "stream",
     "text": [
      "Model: SVC\n",
      "--------------------------------------------------------------------------------\n",
      "Accuracy (proportion of correct predictions) is 0.9\n",
      "Precision (proportion of true purchases among purchase predictions) is 0.92\n",
      "Recall (proportion of true purchases that are correctly predicted) is 0.75\n",
      "F1 score (combination of precision and recall) is 0.83\n",
      "Area Under the Curve (AUC) is 0.95\n"
     ]
    }
   ],
   "source": [
    "svm['metrics'] = compute_metrics(svm, y_test)"
   ]
  },
  {
   "cell_type": "markdown",
   "metadata": {},
   "source": [
    "**ROC curve:**"
   ]
  },
  {
   "cell_type": "code",
   "execution_count": 164,
   "metadata": {
    "ExecuteTime": {
     "end_time": "2022-04-27T21:19:08.749392Z",
     "start_time": "2022-04-27T21:19:08.602343Z"
    }
   },
   "outputs": [
    {
     "data": {
      "image/png": "[encoded data removed]",
      "text/plain": [
       "<Figure size 504x504 with 1 Axes>"
      ]
     },
     "metadata": {
      "needs_background": "light"
     },
     "output_type": "display_data"
    }
   ],
   "source": [
    "from sklearn.metrics import roc_curve\n",
    "\n",
    "plt.subplots(1, figsize=(7,7))\n",
    "plt.title('Receiver Operating Characteristic')\n",
    "colors = ['red', 'green', 'blue', 'lightgreen']\n",
    "\n",
    "# Plot ROC curve of each model\n",
    "for i, model in enumerate(model_list):\n",
    "    model_name = model['classifier'].__class__.__name__\n",
    "    model['y_proba_positive'] = model['y_proba'][:,1]\n",
    "    false_positive_rate, true_positive_rate, threshold = roc_curve(y_test, model['y_proba_positive'])\n",
    "    plt.plot(false_positive_rate, true_positive_rate, c=colors[i], linewidth=2, label=model_name)\n",
    "\n",
    "# Plot ROC curve for a random classifier\n",
    "plt.plot([0, 1], ls='--', c='grey', label='Random classifier')\n",
    "\n",
    "# Formatting\n",
    "plt.xlim([-0.005, 1])\n",
    "plt.ylim([0, 1.005])\n",
    "plt.ylabel('True positive rate')\n",
    "plt.xlabel('False positive rate')\n",
    "plt.legend()\n",
    "plt.show()"
   ]
  },
  {
   "cell_type": "markdown",
   "metadata": {},
   "source": [
    "### Comparing to the metrics "
   ]
  },
  {
   "cell_type": "code",
   "execution_count": 165,
   "metadata": {
    "ExecuteTime": {
     "end_time": "2022-04-27T21:19:08.760937Z",
     "start_time": "2022-04-27T21:19:08.751785Z"
    }
   },
   "outputs": [
    {
     "data": {
      "text/html": [
       "<div>\n",
       "<style scoped>\n",
       "    .dataframe tbody tr th:only-of-type {\n",
       "        vertical-align: middle;\n",
       "    }\n",
       "\n",
       "    .dataframe tbody tr th {\n",
       "        vertical-align: top;\n",
       "    }\n",
       "\n",
       "    .dataframe thead th {\n",
       "        text-align: right;\n",
       "    }\n",
       "</style>\n",
       "<table border=\"1\" class=\"dataframe\">\n",
       "  <thead>\n",
       "    <tr style=\"text-align: right;\">\n",
       "      <th></th>\n",
       "      <th>Accuracy</th>\n",
       "      <th>Precision</th>\n",
       "      <th>Recall</th>\n",
       "      <th>F1 score</th>\n",
       "      <th>AUC score</th>\n",
       "    </tr>\n",
       "  </thead>\n",
       "  <tbody>\n",
       "    <tr>\n",
       "      <th>LogisticRegression</th>\n",
       "      <td>0.89</td>\n",
       "      <td>0.89</td>\n",
       "      <td>0.75</td>\n",
       "      <td>0.81</td>\n",
       "      <td>0.95</td>\n",
       "    </tr>\n",
       "    <tr>\n",
       "      <th>KNeighborsClassifier</th>\n",
       "      <td>0.93</td>\n",
       "      <td>0.88</td>\n",
       "      <td>0.91</td>\n",
       "      <td>0.89</td>\n",
       "      <td>0.97</td>\n",
       "    </tr>\n",
       "    <tr>\n",
       "      <th>DecisionTreeClassifier</th>\n",
       "      <td>0.93</td>\n",
       "      <td>0.90</td>\n",
       "      <td>0.88</td>\n",
       "      <td>0.89</td>\n",
       "      <td>0.98</td>\n",
       "    </tr>\n",
       "    <tr>\n",
       "      <th>SVC</th>\n",
       "      <td>0.90</td>\n",
       "      <td>0.92</td>\n",
       "      <td>0.75</td>\n",
       "      <td>0.83</td>\n",
       "      <td>0.95</td>\n",
       "    </tr>\n",
       "  </tbody>\n",
       "</table>\n",
       "</div>"
      ],
      "text/plain": [
       "                        Accuracy  Precision  Recall  F1 score  AUC score\n",
       "LogisticRegression          0.89       0.89    0.75      0.81       0.95\n",
       "KNeighborsClassifier        0.93       0.88    0.91      0.89       0.97\n",
       "DecisionTreeClassifier      0.93       0.90    0.88      0.89       0.98\n",
       "SVC                         0.90       0.92    0.75      0.83       0.95"
      ]
     },
     "execution_count": 165,
     "metadata": {},
     "output_type": "execute_result"
    }
   ],
   "source": [
    "pd.concat([model['metrics'] for model in model_list])"
   ]
  },
  {
   "cell_type": "markdown",
   "metadata": {},
   "source": [
    "## Plotting class domains"
   ]
  },
  {
   "cell_type": "markdown",
   "metadata": {},
   "source": [
    "**On test set**"
   ]
  },
  {
   "cell_type": "code",
   "execution_count": 166,
   "metadata": {
    "ExecuteTime": {
     "end_time": "2022-04-27T21:20:03.538997Z",
     "start_time": "2022-04-27T21:20:01.508618Z"
    }
   },
   "outputs": [
    {
     "data": {
      "image/png": "[encoded data removed]",
      "text/plain": [
       "<Figure size 1280x960 with 4 Axes>"
      ]
     },
     "metadata": {
      "needs_background": "light"
     },
     "output_type": "display_data"
    }
   ],
   "source": [
    "classifier_list = [log_reg, knn, dt, svm]\n",
    "\n",
    "from matplotlib.colors import ListedColormap\n",
    "\n",
    "# Prepare feature grid\n",
    "fig, axs = plt.subplots(2, 2, figsize=(16,12), dpi= 80)\n",
    "X_set, y_set = sc.inverse_transform(X_test), label_encoder.inverse_transform(y_test)\n",
    "X1, X2 = np.meshgrid(np.arange(start = X_set[:, 0].min(), stop = X_set[:, 0].max(), step = 0.1),\n",
    "    np.arange(start = X_set[:, 1].min(), stop = X_set[:, 1].max(), step = 1000))\n",
    "positions = [(0,0), (0,1), (1,0), (1,1)]\n",
    "\n",
    "# Loop on classifier \n",
    "for i, classifier in enumerate(classifier_list):\n",
    "    i_axs = positions[i]\n",
    "    axs[i_axs].contourf(X1, X2, classifier['classifier'].predict(sc.transform(np.array([X1.ravel(), X2.ravel()]).T)).reshape(X1.shape),\n",
    "                 alpha = 0.75, cmap = ListedColormap(('salmon', 'lightgreen')))\n",
    "    \n",
    "    for i, j in enumerate(np.unique(y_set)):\n",
    "        axs[i_axs].scatter(X_set[y_set == j, 0], X_set[y_set == j, 1], color = ListedColormap(('red', 'green'))(i), label = j)\n",
    "    \n",
    "    axs[i_axs].set_xlim(X1.min(), X1.max())\n",
    "    axs[i_axs].set_ylim(X2.min(), X2.max())\n",
    "    axs[i_axs].legend(title='Purchased (test set)')\n",
    "    axs[i_axs].set_title(str(classifier['classifier'].__class__.__name__))\n",
    "    axs[i_axs].set_xlabel('Age')\n",
    "    axs[i_axs].set_ylabel('Estimated Salary ($)')\n",
    "\n",
    "plt.show() "
   ]
  },
  {
   "cell_type": "code",
   "execution_count": null,
   "metadata": {},
   "outputs": [],
   "source": []
  },
  {
   "cell_type": "code",
   "execution_count": null,
   "metadata": {},
   "outputs": [],
   "source": []
  }
 ],
 "metadata": {
  "kernelspec": {
   "display_name": "Python 3",
   "language": "python",
   "name": "python3"
  },
  "language_info": {
   "codemirror_mode": {
    "name": "ipython",
    "version": 3
   },
   "file_extension": ".py",
   "mimetype": "text/x-python",
   "name": "python",
   "nbconvert_exporter": "python",
   "pygments_lexer": "ipython3",
   "version": "3.8.13"
  }
 },
 "nbformat": 4,
 "nbformat_minor": 4
}
