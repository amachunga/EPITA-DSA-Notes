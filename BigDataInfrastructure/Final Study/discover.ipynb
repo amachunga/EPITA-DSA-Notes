{
 "cells": [
  {
   "cell_type": "code",
   "execution_count": 131,
   "metadata": {},
   "outputs": [],
   "source": [
    "import pandas as pd\n",
    "import numpy as np\n",
    "import seaborn as sns\n",
    "import matplotlib.pyplot as plt\n",
    "import plotly.express as px\n",
    "from datetime import datetime"
   ]
  },
  {
   "cell_type": "code",
   "execution_count": 132,
   "metadata": {},
   "outputs": [],
   "source": [
    "pd.set_option('display.max_columns', None)"
   ]
  },
  {
   "cell_type": "code",
   "execution_count": 133,
   "metadata": {},
   "outputs": [],
   "source": [
    "df = pd.read_excel('./archive/2022.xlsx')"
   ]
  },
  {
   "cell_type": "code",
   "execution_count": 134,
   "metadata": {},
   "outputs": [
    {
     "name": "stderr",
     "output_type": "stream",
     "text": [
      "/var/folders/0k/369f7zf50c59w8dkhr5_kczr0000gn/T/ipykernel_35952/1608870733.py:1: SettingWithCopyWarning:\n",
      "\n",
      "\n",
      "A value is trying to be set on a copy of a slice from a DataFrame\n",
      "\n",
      "See the caveats in the documentation: https://pandas.pydata.org/pandas-docs/stable/user_guide/indexing.html#returning-a-view-versus-a-copy\n",
      "\n"
     ]
    }
   ],
   "source": [
    "df['Country'][5] = 'Luxembourg'"
   ]
  },
  {
   "cell_type": "code",
   "execution_count": 135,
   "metadata": {},
   "outputs": [
    {
     "data": {
      "text/html": [
       "<div>\n",
       "<style scoped>\n",
       "    .dataframe tbody tr th:only-of-type {\n",
       "        vertical-align: middle;\n",
       "    }\n",
       "\n",
       "    .dataframe tbody tr th {\n",
       "        vertical-align: top;\n",
       "    }\n",
       "\n",
       "    .dataframe thead th {\n",
       "        text-align: right;\n",
       "    }\n",
       "</style>\n",
       "<table border=\"1\" class=\"dataframe\">\n",
       "  <thead>\n",
       "    <tr style=\"text-align: right;\">\n",
       "      <th></th>\n",
       "      <th>RANK</th>\n",
       "      <th>Country</th>\n",
       "      <th>Happiness score</th>\n",
       "    </tr>\n",
       "  </thead>\n",
       "  <tbody>\n",
       "    <tr>\n",
       "      <th>0</th>\n",
       "      <td>1</td>\n",
       "      <td>Finland</td>\n",
       "      <td>7821</td>\n",
       "    </tr>\n",
       "    <tr>\n",
       "      <th>1</th>\n",
       "      <td>2</td>\n",
       "      <td>Denmark</td>\n",
       "      <td>7636</td>\n",
       "    </tr>\n",
       "    <tr>\n",
       "      <th>2</th>\n",
       "      <td>3</td>\n",
       "      <td>Iceland</td>\n",
       "      <td>7557</td>\n",
       "    </tr>\n",
       "    <tr>\n",
       "      <th>3</th>\n",
       "      <td>4</td>\n",
       "      <td>Switzerland</td>\n",
       "      <td>7512</td>\n",
       "    </tr>\n",
       "    <tr>\n",
       "      <th>4</th>\n",
       "      <td>5</td>\n",
       "      <td>Netherlands</td>\n",
       "      <td>7415</td>\n",
       "    </tr>\n",
       "    <tr>\n",
       "      <th>5</th>\n",
       "      <td>6</td>\n",
       "      <td>Luxembourg</td>\n",
       "      <td>7404</td>\n",
       "    </tr>\n",
       "    <tr>\n",
       "      <th>6</th>\n",
       "      <td>7</td>\n",
       "      <td>Sweden</td>\n",
       "      <td>7384</td>\n",
       "    </tr>\n",
       "    <tr>\n",
       "      <th>7</th>\n",
       "      <td>8</td>\n",
       "      <td>Norway</td>\n",
       "      <td>7365</td>\n",
       "    </tr>\n",
       "    <tr>\n",
       "      <th>8</th>\n",
       "      <td>9</td>\n",
       "      <td>Israel</td>\n",
       "      <td>7364</td>\n",
       "    </tr>\n",
       "    <tr>\n",
       "      <th>9</th>\n",
       "      <td>10</td>\n",
       "      <td>New Zealand</td>\n",
       "      <td>7200</td>\n",
       "    </tr>\n",
       "  </tbody>\n",
       "</table>\n",
       "</div>"
      ],
      "text/plain": [
       "   RANK      Country  Happiness score\n",
       "0     1      Finland             7821\n",
       "1     2      Denmark             7636\n",
       "2     3      Iceland             7557\n",
       "3     4  Switzerland             7512\n",
       "4     5  Netherlands             7415\n",
       "5     6   Luxembourg             7404\n",
       "6     7       Sweden             7384\n",
       "7     8       Norway             7365\n",
       "8     9       Israel             7364\n",
       "9    10  New Zealand             7200"
      ]
     },
     "execution_count": 135,
     "metadata": {},
     "output_type": "execute_result"
    }
   ],
   "source": [
    "df[['RANK', 'Country', 'Happiness score']].head(10)"
   ]
  },
  {
   "cell_type": "code",
   "execution_count": 136,
   "metadata": {},
   "outputs": [
    {
     "data": {
      "text/html": [
       "<div>\n",
       "<style scoped>\n",
       "    .dataframe tbody tr th:only-of-type {\n",
       "        vertical-align: middle;\n",
       "    }\n",
       "\n",
       "    .dataframe tbody tr th {\n",
       "        vertical-align: top;\n",
       "    }\n",
       "\n",
       "    .dataframe thead th {\n",
       "        text-align: right;\n",
       "    }\n",
       "</style>\n",
       "<table border=\"1\" class=\"dataframe\">\n",
       "  <thead>\n",
       "    <tr style=\"text-align: right;\">\n",
       "      <th></th>\n",
       "      <th>RANK</th>\n",
       "      <th>Country</th>\n",
       "      <th>Happiness score</th>\n",
       "      <th>Whisker-high</th>\n",
       "      <th>Whisker-low</th>\n",
       "      <th>Dystopia (1.83) + residual</th>\n",
       "      <th>Explained by: GDP per capita</th>\n",
       "      <th>Explained by: Social support</th>\n",
       "      <th>Explained by: Healthy life expectancy</th>\n",
       "      <th>Explained by: Freedom to make life choices</th>\n",
       "      <th>Explained by: Generosity</th>\n",
       "      <th>Explained by: Perceptions of corruption</th>\n",
       "    </tr>\n",
       "  </thead>\n",
       "  <tbody>\n",
       "    <tr>\n",
       "      <th>141</th>\n",
       "      <td>142</td>\n",
       "      <td>Botswana*</td>\n",
       "      <td>3471</td>\n",
       "      <td>3667</td>\n",
       "      <td>3275</td>\n",
       "      <td>187</td>\n",
       "      <td>1503</td>\n",
       "      <td>815</td>\n",
       "      <td>280</td>\n",
       "      <td>571</td>\n",
       "      <td>12</td>\n",
       "      <td>102</td>\n",
       "    </tr>\n",
       "    <tr>\n",
       "      <th>142</th>\n",
       "      <td>143</td>\n",
       "      <td>Rwanda*</td>\n",
       "      <td>3268</td>\n",
       "      <td>3462</td>\n",
       "      <td>3074</td>\n",
       "      <td>536</td>\n",
       "      <td>785</td>\n",
       "      <td>133</td>\n",
       "      <td>462</td>\n",
       "      <td>621</td>\n",
       "      <td>187</td>\n",
       "      <td>544</td>\n",
       "    </tr>\n",
       "    <tr>\n",
       "      <th>143</th>\n",
       "      <td>144</td>\n",
       "      <td>Zimbabwe</td>\n",
       "      <td>2995</td>\n",
       "      <td>3110</td>\n",
       "      <td>2880</td>\n",
       "      <td>548</td>\n",
       "      <td>947</td>\n",
       "      <td>690</td>\n",
       "      <td>270</td>\n",
       "      <td>329</td>\n",
       "      <td>106</td>\n",
       "      <td>105</td>\n",
       "    </tr>\n",
       "    <tr>\n",
       "      <th>144</th>\n",
       "      <td>145</td>\n",
       "      <td>Lebanon</td>\n",
       "      <td>2955</td>\n",
       "      <td>3049</td>\n",
       "      <td>2862</td>\n",
       "      <td>216</td>\n",
       "      <td>1392</td>\n",
       "      <td>498</td>\n",
       "      <td>631</td>\n",
       "      <td>103</td>\n",
       "      <td>82</td>\n",
       "      <td>34</td>\n",
       "    </tr>\n",
       "    <tr>\n",
       "      <th>145</th>\n",
       "      <td>146</td>\n",
       "      <td>Afghanistan</td>\n",
       "      <td>2404</td>\n",
       "      <td>2469</td>\n",
       "      <td>2339</td>\n",
       "      <td>1263</td>\n",
       "      <td>758</td>\n",
       "      <td>0</td>\n",
       "      <td>289</td>\n",
       "      <td>0</td>\n",
       "      <td>89</td>\n",
       "      <td>5</td>\n",
       "    </tr>\n",
       "  </tbody>\n",
       "</table>\n",
       "</div>"
      ],
      "text/plain": [
       "     RANK      Country  Happiness score  Whisker-high  Whisker-low  \\\n",
       "141   142    Botswana*             3471          3667         3275   \n",
       "142   143      Rwanda*             3268          3462         3074   \n",
       "143   144     Zimbabwe             2995          3110         2880   \n",
       "144   145      Lebanon             2955          3049         2862   \n",
       "145   146  Afghanistan             2404          2469         2339   \n",
       "\n",
       "     Dystopia (1.83) + residual  Explained by: GDP per capita  \\\n",
       "141                         187                          1503   \n",
       "142                         536                           785   \n",
       "143                         548                           947   \n",
       "144                         216                          1392   \n",
       "145                        1263                           758   \n",
       "\n",
       "     Explained by: Social support  Explained by: Healthy life expectancy  \\\n",
       "141                           815                                    280   \n",
       "142                           133                                    462   \n",
       "143                           690                                    270   \n",
       "144                           498                                    631   \n",
       "145                             0                                    289   \n",
       "\n",
       "     Explained by: Freedom to make life choices  Explained by: Generosity  \\\n",
       "141                                         571                        12   \n",
       "142                                         621                       187   \n",
       "143                                         329                       106   \n",
       "144                                         103                        82   \n",
       "145                                           0                        89   \n",
       "\n",
       "     Explained by: Perceptions of corruption  \n",
       "141                                      102  \n",
       "142                                      544  \n",
       "143                                      105  \n",
       "144                                       34  \n",
       "145                                        5  "
      ]
     },
     "execution_count": 136,
     "metadata": {},
     "output_type": "execute_result"
    }
   ],
   "source": [
    "df.tail()"
   ]
  },
  {
   "cell_type": "code",
   "execution_count": 137,
   "metadata": {},
   "outputs": [
    {
     "name": "stdout",
     "output_type": "stream",
     "text": [
      "<class 'pandas.core.frame.DataFrame'>\n",
      "RangeIndex: 146 entries, 0 to 145\n",
      "Data columns (total 12 columns):\n",
      " #   Column                                      Non-Null Count  Dtype \n",
      "---  ------                                      --------------  ----- \n",
      " 0   RANK                                        146 non-null    int64 \n",
      " 1   Country                                     146 non-null    object\n",
      " 2   Happiness score                             146 non-null    int64 \n",
      " 3   Whisker-high                                146 non-null    int64 \n",
      " 4   Whisker-low                                 146 non-null    int64 \n",
      " 5   Dystopia (1.83) + residual                  146 non-null    int64 \n",
      " 6   Explained by: GDP per capita                146 non-null    int64 \n",
      " 7   Explained by: Social support                146 non-null    int64 \n",
      " 8   Explained by: Healthy life expectancy       146 non-null    int64 \n",
      " 9   Explained by: Freedom to make life choices  146 non-null    int64 \n",
      " 10  Explained by: Generosity                    146 non-null    int64 \n",
      " 11  Explained by: Perceptions of corruption     146 non-null    int64 \n",
      "dtypes: int64(11), object(1)\n",
      "memory usage: 13.8+ KB\n"
     ]
    }
   ],
   "source": [
    "df.info()"
   ]
  },
  {
   "cell_type": "code",
   "execution_count": 138,
   "metadata": {},
   "outputs": [
    {
     "data": {
      "text/html": [
       "<div>\n",
       "<style scoped>\n",
       "    .dataframe tbody tr th:only-of-type {\n",
       "        vertical-align: middle;\n",
       "    }\n",
       "\n",
       "    .dataframe tbody tr th {\n",
       "        vertical-align: top;\n",
       "    }\n",
       "\n",
       "    .dataframe thead th {\n",
       "        text-align: right;\n",
       "    }\n",
       "</style>\n",
       "<table border=\"1\" class=\"dataframe\">\n",
       "  <thead>\n",
       "    <tr style=\"text-align: right;\">\n",
       "      <th></th>\n",
       "      <th>RANK</th>\n",
       "      <th>Happiness score</th>\n",
       "      <th>Whisker-high</th>\n",
       "      <th>Whisker-low</th>\n",
       "      <th>Dystopia (1.83) + residual</th>\n",
       "      <th>Explained by: GDP per capita</th>\n",
       "      <th>Explained by: Social support</th>\n",
       "      <th>Explained by: Healthy life expectancy</th>\n",
       "      <th>Explained by: Freedom to make life choices</th>\n",
       "      <th>Explained by: Generosity</th>\n",
       "      <th>Explained by: Perceptions of corruption</th>\n",
       "    </tr>\n",
       "  </thead>\n",
       "  <tbody>\n",
       "    <tr>\n",
       "      <th>count</th>\n",
       "      <td>146.000000</td>\n",
       "      <td>146.000000</td>\n",
       "      <td>146.000000</td>\n",
       "      <td>146.000000</td>\n",
       "      <td>146.000000</td>\n",
       "      <td>146.000000</td>\n",
       "      <td>146.000000</td>\n",
       "      <td>146.000000</td>\n",
       "      <td>146.000000</td>\n",
       "      <td>146.000000</td>\n",
       "      <td>146.000000</td>\n",
       "    </tr>\n",
       "    <tr>\n",
       "      <th>mean</th>\n",
       "      <td>73.500000</td>\n",
       "      <td>5553.575342</td>\n",
       "      <td>5673.589041</td>\n",
       "      <td>5433.568493</td>\n",
       "      <td>1831.808219</td>\n",
       "      <td>1410.445205</td>\n",
       "      <td>905.863014</td>\n",
       "      <td>586.171233</td>\n",
       "      <td>517.226027</td>\n",
       "      <td>147.376712</td>\n",
       "      <td>154.780822</td>\n",
       "    </tr>\n",
       "    <tr>\n",
       "      <th>std</th>\n",
       "      <td>42.290661</td>\n",
       "      <td>1086.842607</td>\n",
       "      <td>1065.621144</td>\n",
       "      <td>1109.379702</td>\n",
       "      <td>534.994248</td>\n",
       "      <td>421.663112</td>\n",
       "      <td>280.121541</td>\n",
       "      <td>176.336331</td>\n",
       "      <td>145.858730</td>\n",
       "      <td>82.798729</td>\n",
       "      <td>127.514353</td>\n",
       "    </tr>\n",
       "    <tr>\n",
       "      <th>min</th>\n",
       "      <td>1.000000</td>\n",
       "      <td>2404.000000</td>\n",
       "      <td>2469.000000</td>\n",
       "      <td>2339.000000</td>\n",
       "      <td>187.000000</td>\n",
       "      <td>0.000000</td>\n",
       "      <td>0.000000</td>\n",
       "      <td>0.000000</td>\n",
       "      <td>0.000000</td>\n",
       "      <td>0.000000</td>\n",
       "      <td>0.000000</td>\n",
       "    </tr>\n",
       "    <tr>\n",
       "      <th>25%</th>\n",
       "      <td>37.250000</td>\n",
       "      <td>4888.750000</td>\n",
       "      <td>5006.250000</td>\n",
       "      <td>4754.750000</td>\n",
       "      <td>1555.250000</td>\n",
       "      <td>1095.500000</td>\n",
       "      <td>732.000000</td>\n",
       "      <td>463.250000</td>\n",
       "      <td>440.500000</td>\n",
       "      <td>89.000000</td>\n",
       "      <td>68.250000</td>\n",
       "    </tr>\n",
       "    <tr>\n",
       "      <th>50%</th>\n",
       "      <td>73.500000</td>\n",
       "      <td>5568.500000</td>\n",
       "      <td>5680.000000</td>\n",
       "      <td>5453.000000</td>\n",
       "      <td>1894.500000</td>\n",
       "      <td>1445.500000</td>\n",
       "      <td>957.500000</td>\n",
       "      <td>621.500000</td>\n",
       "      <td>543.500000</td>\n",
       "      <td>132.500000</td>\n",
       "      <td>119.500000</td>\n",
       "    </tr>\n",
       "    <tr>\n",
       "      <th>75%</th>\n",
       "      <td>109.750000</td>\n",
       "      <td>6305.000000</td>\n",
       "      <td>6448.750000</td>\n",
       "      <td>6190.000000</td>\n",
       "      <td>2153.000000</td>\n",
       "      <td>1784.750000</td>\n",
       "      <td>1114.250000</td>\n",
       "      <td>719.750000</td>\n",
       "      <td>626.000000</td>\n",
       "      <td>197.750000</td>\n",
       "      <td>198.500000</td>\n",
       "    </tr>\n",
       "    <tr>\n",
       "      <th>max</th>\n",
       "      <td>146.000000</td>\n",
       "      <td>7821.000000</td>\n",
       "      <td>7886.000000</td>\n",
       "      <td>7756.000000</td>\n",
       "      <td>2844.000000</td>\n",
       "      <td>2209.000000</td>\n",
       "      <td>1320.000000</td>\n",
       "      <td>942.000000</td>\n",
       "      <td>740.000000</td>\n",
       "      <td>468.000000</td>\n",
       "      <td>587.000000</td>\n",
       "    </tr>\n",
       "  </tbody>\n",
       "</table>\n",
       "</div>"
      ],
      "text/plain": [
       "             RANK  Happiness score  Whisker-high  Whisker-low  \\\n",
       "count  146.000000       146.000000    146.000000   146.000000   \n",
       "mean    73.500000      5553.575342   5673.589041  5433.568493   \n",
       "std     42.290661      1086.842607   1065.621144  1109.379702   \n",
       "min      1.000000      2404.000000   2469.000000  2339.000000   \n",
       "25%     37.250000      4888.750000   5006.250000  4754.750000   \n",
       "50%     73.500000      5568.500000   5680.000000  5453.000000   \n",
       "75%    109.750000      6305.000000   6448.750000  6190.000000   \n",
       "max    146.000000      7821.000000   7886.000000  7756.000000   \n",
       "\n",
       "       Dystopia (1.83) + residual  Explained by: GDP per capita  \\\n",
       "count                  146.000000                    146.000000   \n",
       "mean                  1831.808219                   1410.445205   \n",
       "std                    534.994248                    421.663112   \n",
       "min                    187.000000                      0.000000   \n",
       "25%                   1555.250000                   1095.500000   \n",
       "50%                   1894.500000                   1445.500000   \n",
       "75%                   2153.000000                   1784.750000   \n",
       "max                   2844.000000                   2209.000000   \n",
       "\n",
       "       Explained by: Social support  Explained by: Healthy life expectancy  \\\n",
       "count                    146.000000                             146.000000   \n",
       "mean                     905.863014                             586.171233   \n",
       "std                      280.121541                             176.336331   \n",
       "min                        0.000000                               0.000000   \n",
       "25%                      732.000000                             463.250000   \n",
       "50%                      957.500000                             621.500000   \n",
       "75%                     1114.250000                             719.750000   \n",
       "max                     1320.000000                             942.000000   \n",
       "\n",
       "       Explained by: Freedom to make life choices  Explained by: Generosity  \\\n",
       "count                                  146.000000                146.000000   \n",
       "mean                                   517.226027                147.376712   \n",
       "std                                    145.858730                 82.798729   \n",
       "min                                      0.000000                  0.000000   \n",
       "25%                                    440.500000                 89.000000   \n",
       "50%                                    543.500000                132.500000   \n",
       "75%                                    626.000000                197.750000   \n",
       "max                                    740.000000                468.000000   \n",
       "\n",
       "       Explained by: Perceptions of corruption  \n",
       "count                               146.000000  \n",
       "mean                                154.780822  \n",
       "std                                 127.514353  \n",
       "min                                   0.000000  \n",
       "25%                                  68.250000  \n",
       "50%                                 119.500000  \n",
       "75%                                 198.500000  \n",
       "max                                 587.000000  "
      ]
     },
     "execution_count": 138,
     "metadata": {},
     "output_type": "execute_result"
    }
   ],
   "source": [
    "df.describe()"
   ]
  },
  {
   "cell_type": "code",
   "execution_count": 139,
   "metadata": {},
   "outputs": [
    {
     "data": {
      "text/plain": [
       "146"
      ]
     },
     "execution_count": 139,
     "metadata": {},
     "output_type": "execute_result"
    }
   ],
   "source": [
    "df['Country'].count()"
   ]
  },
  {
   "cell_type": "code",
   "execution_count": 140,
   "metadata": {},
   "outputs": [
    {
     "data": {
      "text/plain": [
       "<AxesSubplot:>"
      ]
     },
     "execution_count": 140,
     "metadata": {},
     "output_type": "execute_result"
    },
    {
     "data": {
      "image/png": "[encoded data removed]",
      "text/plain": [
       "<Figure size 1080x576 with 2 Axes>"
      ]
     },
     "metadata": {
      "needs_background": "light"
     },
     "output_type": "display_data"
    }
   ],
   "source": [
    "plt.figure(figsize=(15,8))\n",
    "sns.heatmap(df.corr(), annot=True)"
   ]
  },
  {
   "cell_type": "code",
   "execution_count": 141,
   "metadata": {},
   "outputs": [
    {
     "data": {
      "application/vnd.plotly.v1+json": {
       "config": {
        "plotlyServerURL": "https://plot.ly"
       },
       "data": [
        {
         "hovertemplate": "variable=Explained by: GDP per capita<br>Happiness score=%{x}<br>value=%{y}<extra></extra>",
         "legendgroup": "Explained by: GDP per capita",
         "line": {
          "color": "#636efa",
          "dash": "solid"
         },
         "marker": {
          "symbol": "circle"
         },
         "mode": "lines",
         "name": "Explained by: GDP per capita",
         "orientation": "v",
         "showlegend": true,
         "type": "scatter",
         "x": [
          7821,
          7636,
          7557,
          7512,
          7415,
          7404,
          7384,
          7365,
          7364,
          7200,
          7163,
          7162,
          7041,
          7034,
          7025,
          6977,
          6943,
          6920,
          6805,
          6687,
          6647,
          6630,
          6582,
          6576,
          6523,
          6512,
          6480,
          6477,
          6476,
          6474,
          6467,
          6455,
          6447,
          6446,
          6391,
          6341,
          6309,
          6293,
          6262,
          6234,
          6221,
          6180,
          6178,
          6172,
          6165,
          6128,
          6125,
          6123,
          6120,
          6106,
          6086,
          6071,
          6063,
          6039,
          6022,
          6016,
          5967,
          5948,
          5935,
          5904,
          5891,
          5857,
          5850,
          5828,
          5821,
          5781,
          5768,
          5761,
          5737,
          5711,
          5600,
          5585,
          5578,
          5559,
          5547,
          5533,
          5485,
          5474,
          5467,
          5459,
          5425,
          5399,
          5377,
          5377,
          5371,
          5330,
          5240,
          5235,
          5199,
          5199,
          5194,
          5173,
          5164,
          5155,
          5140,
          5122,
          5122,
          5084,
          5075,
          5060,
          5048,
          5048,
          5046,
          5003,
          4973,
          4958,
          4941,
          4925,
          4891,
          4888,
          4872,
          4744,
          4670,
          4640,
          4623,
          4609,
          4603,
          4552,
          4543,
          4516,
          4516,
          4483,
          4479,
          4459,
          4396,
          4394,
          4362,
          4339,
          4288,
          4251,
          4241,
          4197,
          4153,
          4152,
          4112,
          3777,
          3760,
          3750,
          3702,
          3574,
          3512,
          3471,
          3268,
          2995,
          2955,
          2404
         ],
         "xaxis": "x",
         "y": [
          1892,
          1953,
          1936,
          2026,
          1945,
          2209,
          1920,
          1997,
          1826,
          1852,
          1931,
          1900,
          2129,
          1924,
          1886,
          1982,
          1867,
          1815,
          1907,
          1863,
          1854,
          1810,
          1584,
          1998,
          1870,
          1897,
          2149,
          1719,
          1808,
          1615,
          1834,
          1362,
          1838,
          1804,
          1736,
          1793,
          1715,
          1462,
          1274,
          1668,
          1815,
          1732,
          1550,
          1651,
          1105,
          1552,
          1705,
          1758,
          1265,
          1904,
          1748,
          1591,
          1219,
          1835,
          1111,
          1760,
          1592,
          1703,
          1851,
          1268,
          1535,
          1417,
          1296,
          1069,
          1562,
          1452,
          1468,
          1393,
          1538,
          1689,
          1256,
          1508,
          1409,
          1397,
          1573,
          1352,
          1252,
          1484,
          1815,
          1685,
          1957,
          1434,
          966,
          984,
          1625,
          1476,
          1382,
          1094,
          1505,
          1439,
          1425,
          1458,
          785,
          1060,
          1239,
          1363,
          636,
          1411,
          950,
          1208,
          578,
          968,
          933,
          570,
          1467,
          1459,
          1289,
          0,
          848,
          1410,
          1112,
          1707,
          779,
          1019,
          932,
          899,
          777,
          1079,
          1032,
          1350,
          1049,
          1148,
          792,
          1292,
          1274,
          1038,
          1415,
          670,
          1388,
          662,
          788,
          691,
          1100,
          1324,
          771,
          1167,
          930,
          648,
          848,
          686,
          839,
          1503,
          785,
          947,
          1392,
          758
         ],
         "yaxis": "y"
        },
        {
         "hovertemplate": "variable=Explained by: Social support<br>Happiness score=%{x}<br>value=%{y}<extra></extra>",
         "legendgroup": "Explained by: Social support",
         "line": {
          "color": "#EF553B",
          "dash": "solid"
         },
         "marker": {
          "symbol": "circle"
         },
         "mode": "lines",
         "name": "Explained by: Social support",
         "orientation": "v",
         "showlegend": true,
         "type": "scatter",
         "x": [
          7821,
          7636,
          7557,
          7512,
          7415,
          7404,
          7384,
          7365,
          7364,
          7200,
          7163,
          7162,
          7041,
          7034,
          7025,
          6977,
          6943,
          6920,
          6805,
          6687,
          6647,
          6630,
          6582,
          6576,
          6523,
          6512,
          6480,
          6477,
          6476,
          6474,
          6467,
          6455,
          6447,
          6446,
          6391,
          6341,
          6309,
          6293,
          6262,
          6234,
          6221,
          6180,
          6178,
          6172,
          6165,
          6128,
          6125,
          6123,
          6120,
          6106,
          6086,
          6071,
          6063,
          6039,
          6022,
          6016,
          5967,
          5948,
          5935,
          5904,
          5891,
          5857,
          5850,
          5828,
          5821,
          5781,
          5768,
          5761,
          5737,
          5711,
          5600,
          5585,
          5578,
          5559,
          5547,
          5533,
          5485,
          5474,
          5467,
          5459,
          5425,
          5399,
          5377,
          5377,
          5371,
          5330,
          5240,
          5235,
          5199,
          5199,
          5194,
          5173,
          5164,
          5155,
          5140,
          5122,
          5122,
          5084,
          5075,
          5060,
          5048,
          5048,
          5046,
          5003,
          4973,
          4958,
          4941,
          4925,
          4891,
          4888,
          4872,
          4744,
          4670,
          4640,
          4623,
          4609,
          4603,
          4552,
          4543,
          4516,
          4516,
          4483,
          4479,
          4459,
          4396,
          4394,
          4362,
          4339,
          4288,
          4251,
          4241,
          4197,
          4153,
          4152,
          4112,
          3777,
          3760,
          3750,
          3702,
          3574,
          3512,
          3471,
          3268,
          2995,
          2955,
          2404
         ],
         "xaxis": "x",
         "y": [
          1258,
          1243,
          1320,
          1226,
          1206,
          1155,
          1204,
          1239,
          1221,
          1235,
          1165,
          1203,
          1166,
          1088,
          1188,
          1182,
          1143,
          1260,
          1106,
          1219,
          1029,
          1249,
          1054,
          980,
          1092,
          1095,
          1127,
          1006,
          1211,
          1180,
          1052,
          949,
          1169,
          1204,
          1232,
          1232,
          1107,
          1044,
          831,
          1220,
          909,
          1221,
          1086,
          1080,
          1029,
          886,
          1183,
          1174,
          768,
          983,
          1233,
          1116,
          1092,
          1089,
          885,
          1078,
          1102,
          980,
          886,
          912,
          1096,
          1008,
          1045,
          1109,
          1157,
          929,
          1068,
          1197,
          1003,
          938,
          880,
          958,
          1130,
          865,
          1023,
          879,
          932,
          1319,
          888,
          1095,
          954,
          820,
          1005,
          784,
          1163,
          943,
          883,
          442,
          863,
          646,
          1088,
          1093,
          621,
          614,
          654,
          970,
          670,
          1081,
          405,
          268,
          660,
          672,
          530,
          560,
          612,
          738,
          682,
          968,
          566,
          741,
          595,
          865,
          565,
          732,
          64,
          476,
          875,
          732,
          605,
          596,
          413,
          957,
          483,
          877,
          786,
          829,
          934,
          645,
          732,
          506,
          809,
          1043,
          865,
          724,
          322,
          376,
          577,
          279,
          597,
          416,
          848,
          815,
          133,
          690,
          498,
          0
         ],
         "yaxis": "y"
        },
        {
         "hovertemplate": "variable=Explained by: Healthy life expectancy<br>Happiness score=%{x}<br>value=%{y}<extra></extra>",
         "legendgroup": "Explained by: Healthy life expectancy",
         "line": {
          "color": "#00cc96",
          "dash": "solid"
         },
         "marker": {
          "symbol": "circle"
         },
         "mode": "lines",
         "name": "Explained by: Healthy life expectancy",
         "orientation": "v",
         "showlegend": true,
         "type": "scatter",
         "x": [
          7821,
          7636,
          7557,
          7512,
          7415,
          7404,
          7384,
          7365,
          7364,
          7200,
          7163,
          7162,
          7041,
          7034,
          7025,
          6977,
          6943,
          6920,
          6805,
          6687,
          6647,
          6630,
          6582,
          6576,
          6523,
          6512,
          6480,
          6477,
          6476,
          6474,
          6467,
          6455,
          6447,
          6446,
          6391,
          6341,
          6309,
          6293,
          6262,
          6234,
          6221,
          6180,
          6178,
          6172,
          6165,
          6128,
          6125,
          6123,
          6120,
          6106,
          6086,
          6071,
          6063,
          6039,
          6022,
          6016,
          5967,
          5948,
          5935,
          5904,
          5891,
          5857,
          5850,
          5828,
          5821,
          5781,
          5768,
          5761,
          5737,
          5711,
          5600,
          5585,
          5578,
          5559,
          5547,
          5533,
          5485,
          5474,
          5467,
          5459,
          5425,
          5399,
          5377,
          5377,
          5371,
          5330,
          5240,
          5235,
          5199,
          5199,
          5194,
          5173,
          5164,
          5155,
          5140,
          5122,
          5122,
          5084,
          5075,
          5060,
          5048,
          5048,
          5046,
          5003,
          4973,
          4958,
          4941,
          4925,
          4891,
          4888,
          4872,
          4744,
          4670,
          4640,
          4623,
          4609,
          4603,
          4552,
          4543,
          4516,
          4516,
          4483,
          4479,
          4459,
          4396,
          4394,
          4362,
          4339,
          4288,
          4251,
          4241,
          4197,
          4153,
          4152,
          4112,
          3777,
          3760,
          3750,
          3702,
          3574,
          3512,
          3471,
          3268,
          2995,
          2955,
          2404
         ],
         "xaxis": "x",
         "y": [
          775,
          777,
          803,
          822,
          787,
          790,
          803,
          786,
          818,
          752,
          774,
          772,
          779,
          776,
          783,
          628,
          750,
          715,
          764,
          808,
          625,
          769,
          744,
          633,
          577,
          733,
          851,
          655,
          808,
          672,
          801,
          569,
          789,
          659,
          707,
          728,
          709,
          615,
          522,
          611,
          819,
          637,
          658,
          748,
          617,
          623,
          709,
          712,
          607,
          747,
          668,
          568,
          600,
          866,
          555,
          777,
          662,
          774,
          841,
          514,
          697,
          597,
          646,
          638,
          629,
          720,
          665,
          467,
          577,
          620,
          555,
          705,
          624,
          735,
          659,
          708,
          611,
          516,
          819,
          586,
          942,
          668,
          518,
          499,
          640,
          606,
          539,
          322,
          637,
          719,
          361,
          560,
          369,
          581,
          479,
          643,
          309,
          583,
          355,
          565,
          191,
          317,
          447,
          326,
          595,
          396,
          554,
          578,
          275,
          642,
          409,
          702,
          320,
          505,
          335,
          424,
          418,
          300,
          401,
          656,
          374,
          521,
          311,
          354,
          197,
          491,
          660,
          378,
          548,
          225,
          457,
          384,
          450,
          675,
          360,
          471,
          306,
          388,
          425,
          273,
          0,
          280,
          462,
          270,
          631,
          289
         ],
         "yaxis": "y"
        },
        {
         "hovertemplate": "variable=Explained by: Freedom to make life choices<br>Happiness score=%{x}<br>value=%{y}<extra></extra>",
         "legendgroup": "Explained by: Freedom to make life choices",
         "line": {
          "color": "#ab63fa",
          "dash": "solid"
         },
         "marker": {
          "symbol": "circle"
         },
         "mode": "lines",
         "name": "Explained by: Freedom to make life choices",
         "orientation": "v",
         "showlegend": true,
         "type": "scatter",
         "x": [
          7821,
          7636,
          7557,
          7512,
          7415,
          7404,
          7384,
          7365,
          7364,
          7200,
          7163,
          7162,
          7041,
          7034,
          7025,
          6977,
          6943,
          6920,
          6805,
          6687,
          6647,
          6630,
          6582,
          6576,
          6523,
          6512,
          6480,
          6477,
          6476,
          6474,
          6467,
          6455,
          6447,
          6446,
          6391,
          6341,
          6309,
          6293,
          6262,
          6234,
          6221,
          6180,
          6178,
          6172,
          6165,
          6128,
          6125,
          6123,
          6120,
          6106,
          6086,
          6071,
          6063,
          6039,
          6022,
          6016,
          5967,
          5948,
          5935,
          5904,
          5891,
          5857,
          5850,
          5828,
          5821,
          5781,
          5768,
          5761,
          5737,
          5711,
          5600,
          5585,
          5578,
          5559,
          5547,
          5533,
          5485,
          5474,
          5467,
          5459,
          5425,
          5399,
          5377,
          5377,
          5371,
          5330,
          5240,
          5235,
          5199,
          5199,
          5194,
          5173,
          5164,
          5155,
          5140,
          5122,
          5122,
          5084,
          5075,
          5060,
          5048,
          5048,
          5046,
          5003,
          4973,
          4958,
          4941,
          4925,
          4891,
          4888,
          4872,
          4744,
          4670,
          4640,
          4623,
          4609,
          4603,
          4552,
          4543,
          4516,
          4516,
          4483,
          4479,
          4459,
          4396,
          4394,
          4362,
          4339,
          4288,
          4251,
          4241,
          4197,
          4153,
          4152,
          4112,
          3777,
          3760,
          3750,
          3702,
          3574,
          3512,
          3471,
          3268,
          2995,
          2955,
          2404
         ],
         "xaxis": "x",
         "y": [
          736,
          719,
          718,
          677,
          651,
          700,
          724,
          728,
          568,
          680,
          623,
          676,
          627,
          585,
          659,
          574,
          597,
          660,
          492,
          567,
          693,
          685,
          661,
          702,
          651,
          542,
          672,
          605,
          505,
          665,
          412,
          599,
          679,
          496,
          479,
          689,
          592,
          546,
          662,
          584,
          448,
          502,
          546,
          460,
          617,
          621,
          535,
          523,
          666,
          617,
          485,
          589,
          716,
          537,
          582,
          655,
          555,
          249,
          414,
          678,
          617,
          561,
          567,
          693,
          342,
          545,
          448,
          398,
          606,
          654,
          627,
          656,
          629,
          545,
          460,
          565,
          707,
          649,
          523,
          401,
          400,
          558,
          572,
          519,
          563,
          477,
          620,
          451,
          488,
          511,
          442,
          601,
          367,
          622,
          679,
          146,
          405,
          473,
          431,
          492,
          593,
          397,
          494,
          571,
          508,
          343,
          328,
          283,
          334,
          281,
          500,
          209,
          382,
          740,
          479,
          185,
          402,
          444,
          440,
          316,
          448,
          336,
          350,
          384,
          259,
          513,
          529,
          202,
          469,
          180,
          472,
          330,
          304,
          476,
          292,
          647,
          525,
          477,
          578,
          387,
          419,
          571,
          621,
          329,
          103,
          0
         ],
         "yaxis": "y"
        },
        {
         "hovertemplate": "variable=Explained by: Generosity<br>Happiness score=%{x}<br>value=%{y}<extra></extra>",
         "legendgroup": "Explained by: Generosity",
         "line": {
          "color": "#FFA15A",
          "dash": "solid"
         },
         "marker": {
          "symbol": "circle"
         },
         "mode": "lines",
         "name": "Explained by: Generosity",
         "orientation": "v",
         "showlegend": true,
         "type": "scatter",
         "x": [
          7821,
          7636,
          7557,
          7512,
          7415,
          7404,
          7384,
          7365,
          7364,
          7200,
          7163,
          7162,
          7041,
          7034,
          7025,
          6977,
          6943,
          6920,
          6805,
          6687,
          6647,
          6630,
          6582,
          6576,
          6523,
          6512,
          6480,
          6477,
          6476,
          6474,
          6467,
          6455,
          6447,
          6446,
          6391,
          6341,
          6309,
          6293,
          6262,
          6234,
          6221,
          6180,
          6178,
          6172,
          6165,
          6128,
          6125,
          6123,
          6120,
          6106,
          6086,
          6071,
          6063,
          6039,
          6022,
          6016,
          5967,
          5948,
          5935,
          5904,
          5891,
          5857,
          5850,
          5828,
          5821,
          5781,
          5768,
          5761,
          5737,
          5711,
          5600,
          5585,
          5578,
          5559,
          5547,
          5533,
          5485,
          5474,
          5467,
          5459,
          5425,
          5399,
          5377,
          5377,
          5371,
          5330,
          5240,
          5235,
          5199,
          5199,
          5194,
          5173,
          5164,
          5155,
          5140,
          5122,
          5122,
          5084,
          5075,
          5060,
          5048,
          5048,
          5046,
          5003,
          4973,
          4958,
          4941,
          4925,
          4891,
          4888,
          4872,
          4744,
          4670,
          4640,
          4623,
          4609,
          4603,
          4552,
          4543,
          4516,
          4516,
          4483,
          4479,
          4459,
          4396,
          4394,
          4362,
          4339,
          4288,
          4251,
          4241,
          4197,
          4153,
          4152,
          4112,
          3777,
          3760,
          3750,
          3702,
          3574,
          3512,
          3471,
          3268,
          2995,
          2955,
          2404
         ],
         "xaxis": "x",
         "y": [
          109,
          188,
          270,
          147,
          271,
          120,
          218,
          217,
          155,
          245,
          193,
          258,
          190,
          163,
          217,
          220,
          289,
          158,
          49,
          70,
          199,
          118,
          89,
          204,
          78,
          75,
          163,
          39,
          101,
          103,
          85,
          309,
          174,
          53,
          118,
          123,
          49,
          131,
          112,
          134,
          123,
          75,
          219,
          124,
          168,
          92,
          109,
          124,
          89,
          87,
          78,
          131,
          283,
          7,
          202,
          16,
          81,
          15,
          111,
          107,
          321,
          102,
          80,
          208,
          40,
          87,
          244,
          247,
          84,
          213,
          112,
          99,
          171,
          90,
          135,
          80,
          143,
          314,
          130,
          117,
          147,
          54,
          118,
          237,
          123,
          106,
          468,
          149,
          215,
          138,
          89,
          23,
          388,
          125,
          197,
          106,
          178,
          188,
          130,
          20,
          185,
          152,
          143,
          165,
          0,
          32,
          147,
          225,
          214,
          241,
          230,
          87,
          186,
          166,
          127,
          195,
          222,
          175,
          322,
          29,
          181,
          73,
          128,
          67,
          38,
          452,
          150,
          143,
          41,
          182,
          205,
          90,
          88,
          58,
          174,
          198,
          203,
          140,
          248,
          202,
          76,
          12,
          187,
          106,
          82,
          89
         ],
         "yaxis": "y"
        },
        {
         "hovertemplate": "variable=Explained by: Perceptions of corruption<br>Happiness score=%{x}<br>value=%{y}<extra></extra>",
         "legendgroup": "Explained by: Perceptions of corruption",
         "line": {
          "color": "#19d3f3",
          "dash": "solid"
         },
         "marker": {
          "symbol": "circle"
         },
         "mode": "lines",
         "name": "Explained by: Perceptions of corruption",
         "orientation": "v",
         "showlegend": true,
         "type": "scatter",
         "x": [
          7821,
          7636,
          7557,
          7512,
          7415,
          7404,
          7384,
          7365,
          7364,
          7200,
          7163,
          7162,
          7041,
          7034,
          7025,
          6977,
          6943,
          6920,
          6805,
          6687,
          6647,
          6630,
          6582,
          6576,
          6523,
          6512,
          6480,
          6477,
          6476,
          6474,
          6467,
          6455,
          6447,
          6446,
          6391,
          6341,
          6309,
          6293,
          6262,
          6234,
          6221,
          6180,
          6178,
          6172,
          6165,
          6128,
          6125,
          6123,
          6120,
          6106,
          6086,
          6071,
          6063,
          6039,
          6022,
          6016,
          5967,
          5948,
          5935,
          5904,
          5891,
          5857,
          5850,
          5828,
          5821,
          5781,
          5768,
          5761,
          5737,
          5711,
          5600,
          5585,
          5578,
          5559,
          5547,
          5533,
          5485,
          5474,
          5467,
          5459,
          5425,
          5399,
          5377,
          5377,
          5371,
          5330,
          5240,
          5235,
          5199,
          5199,
          5194,
          5173,
          5164,
          5155,
          5140,
          5122,
          5122,
          5084,
          5075,
          5060,
          5048,
          5048,
          5046,
          5003,
          4973,
          4958,
          4941,
          4925,
          4891,
          4888,
          4872,
          4744,
          4670,
          4640,
          4623,
          4609,
          4603,
          4552,
          4543,
          4516,
          4516,
          4483,
          4479,
          4459,
          4396,
          4394,
          4362,
          4339,
          4288,
          4251,
          4241,
          4197,
          4153,
          4152,
          4112,
          3777,
          3760,
          3750,
          3702,
          3574,
          3512,
          3471,
          3268,
          2995,
          2955,
          2404
         ],
         "xaxis": "x",
         "y": [
          534,
          532,
          191,
          461,
          419,
          388,
          512,
          474,
          143,
          483,
          329,
          341,
          408,
          358,
          368,
          177,
          329,
          48,
          204,
          266,
          155,
          115,
          102,
          250,
          180,
          168,
          587,
          6,
          149,
          265,
          59,
          35,
          166,
          77,
          25,
          333,
          51,
          134,
          115,
          157,
          62,
          90,
          88,
          69,
          212,
          115,
          0,
          140,
          212,
          147,
          64,
          107,
          240,
          218,
          76,
          39,
          85,
          108,
          176,
          142,
          26,
          28,
          53,
          25,
          282,
          77,
          6,
          59,
          179,
          126,
          64,
          142,
          59,
          37,
          77,
          83,
          105,
          32,
          213,
          80,
          383,
          210,
          304,
          130,
          21,
          179,
          47,
          124,
          31,
          28,
          46,
          341,
          103,
          187,
          184,
          150,
          80,
          17,
          146,
          102,
          200,
          74,
          81,
          145,
          208,
          99,
          46,
          82,
          116,
          146,
          56,
          115,
          126,
          68,
          230,
          125,
          66,
          38,
          82,
          29,
          112,
          79,
          42,
          71,
          154,
          194,
          79,
          154,
          254,
          77,
          136,
          98,
          138,
          200,
          132,
          123,
          83,
          157,
          270,
          55,
          18,
          102,
          544,
          105,
          34,
          5
         ],
         "yaxis": "y"
        }
       ],
       "layout": {
        "legend": {
         "title": {
          "text": "variable"
         },
         "tracegroupgap": 0
        },
        "margin": {
         "t": 60
        },
        "template": {
         "data": {
          "bar": [
           {
            "error_x": {
             "color": "#2a3f5f"
            },
            "error_y": {
             "color": "#2a3f5f"
            },
            "marker": {
             "line": {
              "color": "#E5ECF6",
              "width": 0.5
             },
             "pattern": {
              "fillmode": "overlay",
              "size": 10,
              "solidity": 0.2
             }
            },
            "type": "bar"
           }
          ],
          "barpolar": [
           {
            "marker": {
             "line": {
              "color": "#E5ECF6",
              "width": 0.5
             },
             "pattern": {
              "fillmode": "overlay",
              "size": 10,
              "solidity": 0.2
             }
            },
            "type": "barpolar"
           }
          ],
          "carpet": [
           {
            "aaxis": {
             "endlinecolor": "#2a3f5f",
             "gridcolor": "white",
             "linecolor": "white",
             "minorgridcolor": "white",
             "startlinecolor": "#2a3f5f"
            },
            "baxis": {
             "endlinecolor": "#2a3f5f",
             "gridcolor": "white",
             "linecolor": "white",
             "minorgridcolor": "white",
             "startlinecolor": "#2a3f5f"
            },
            "type": "carpet"
           }
          ],
          "choropleth": [
           {
            "colorbar": {
             "outlinewidth": 0,
             "ticks": ""
            },
            "type": "choropleth"
           }
          ],
          "contour": [
           {
            "colorbar": {
             "outlinewidth": 0,
             "ticks": ""
            },
            "colorscale": [
             [
              0,
              "#0d0887"
             ],
             [
              0.1111111111111111,
              "#46039f"
             ],
             [
              0.2222222222222222,
              "#7201a8"
             ],
             [
              0.3333333333333333,
              "#9c179e"
             ],
             [
              0.4444444444444444,
              "#bd3786"
             ],
             [
              0.5555555555555556,
              "#d8576b"
             ],
             [
              0.6666666666666666,
              "#ed7953"
             ],
             [
              0.7777777777777778,
              "#fb9f3a"
             ],
             [
              0.8888888888888888,
              "#fdca26"
             ],
             [
              1,
              "#f0f921"
             ]
            ],
            "type": "contour"
           }
          ],
          "contourcarpet": [
           {
            "colorbar": {
             "outlinewidth": 0,
             "ticks": ""
            },
            "type": "contourcarpet"
           }
          ],
          "heatmap": [
           {
            "colorbar": {
             "outlinewidth": 0,
             "ticks": ""
            },
            "colorscale": [
             [
              0,
              "#0d0887"
             ],
             [
              0.1111111111111111,
              "#46039f"
             ],
             [
              0.2222222222222222,
              "#7201a8"
             ],
             [
              0.3333333333333333,
              "#9c179e"
             ],
             [
              0.4444444444444444,
              "#bd3786"
             ],
             [
              0.5555555555555556,
              "#d8576b"
             ],
             [
              0.6666666666666666,
              "#ed7953"
             ],
             [
              0.7777777777777778,
              "#fb9f3a"
             ],
             [
              0.8888888888888888,
              "#fdca26"
             ],
             [
              1,
              "#f0f921"
             ]
            ],
            "type": "heatmap"
           }
          ],
          "heatmapgl": [
           {
            "colorbar": {
             "outlinewidth": 0,
             "ticks": ""
            },
            "colorscale": [
             [
              0,
              "#0d0887"
             ],
             [
              0.1111111111111111,
              "#46039f"
             ],
             [
              0.2222222222222222,
              "#7201a8"
             ],
             [
              0.3333333333333333,
              "#9c179e"
             ],
             [
              0.4444444444444444,
              "#bd3786"
             ],
             [
              0.5555555555555556,
              "#d8576b"
             ],
             [
              0.6666666666666666,
              "#ed7953"
             ],
             [
              0.7777777777777778,
              "#fb9f3a"
             ],
             [
              0.8888888888888888,
              "#fdca26"
             ],
             [
              1,
              "#f0f921"
             ]
            ],
            "type": "heatmapgl"
           }
          ],
          "histogram": [
           {
            "marker": {
             "pattern": {
              "fillmode": "overlay",
              "size": 10,
              "solidity": 0.2
             }
            },
            "type": "histogram"
           }
          ],
          "histogram2d": [
           {
            "colorbar": {
             "outlinewidth": 0,
             "ticks": ""
            },
            "colorscale": [
             [
              0,
              "#0d0887"
             ],
             [
              0.1111111111111111,
              "#46039f"
             ],
             [
              0.2222222222222222,
              "#7201a8"
             ],
             [
              0.3333333333333333,
              "#9c179e"
             ],
             [
              0.4444444444444444,
              "#bd3786"
             ],
             [
              0.5555555555555556,
              "#d8576b"
             ],
             [
              0.6666666666666666,
              "#ed7953"
             ],
             [
              0.7777777777777778,
              "#fb9f3a"
             ],
             [
              0.8888888888888888,
              "#fdca26"
             ],
             [
              1,
              "#f0f921"
             ]
            ],
            "type": "histogram2d"
           }
          ],
          "histogram2dcontour": [
           {
            "colorbar": {
             "outlinewidth": 0,
             "ticks": ""
            },
            "colorscale": [
             [
              0,
              "#0d0887"
             ],
             [
              0.1111111111111111,
              "#46039f"
             ],
             [
              0.2222222222222222,
              "#7201a8"
             ],
             [
              0.3333333333333333,
              "#9c179e"
             ],
             [
              0.4444444444444444,
              "#bd3786"
             ],
             [
              0.5555555555555556,
              "#d8576b"
             ],
             [
              0.6666666666666666,
              "#ed7953"
             ],
             [
              0.7777777777777778,
              "#fb9f3a"
             ],
             [
              0.8888888888888888,
              "#fdca26"
             ],
             [
              1,
              "#f0f921"
             ]
            ],
            "type": "histogram2dcontour"
           }
          ],
          "mesh3d": [
           {
            "colorbar": {
             "outlinewidth": 0,
             "ticks": ""
            },
            "type": "mesh3d"
           }
          ],
          "parcoords": [
           {
            "line": {
             "colorbar": {
              "outlinewidth": 0,
              "ticks": ""
             }
            },
            "type": "parcoords"
           }
          ],
          "pie": [
           {
            "automargin": true,
            "type": "pie"
           }
          ],
          "scatter": [
           {
            "fillpattern": {
             "fillmode": "overlay",
             "size": 10,
             "solidity": 0.2
            },
            "type": "scatter"
           }
          ],
          "scatter3d": [
           {
            "line": {
             "colorbar": {
              "outlinewidth": 0,
              "ticks": ""
             }
            },
            "marker": {
             "colorbar": {
              "outlinewidth": 0,
              "ticks": ""
             }
            },
            "type": "scatter3d"
           }
          ],
          "scattercarpet": [
           {
            "marker": {
             "colorbar": {
              "outlinewidth": 0,
              "ticks": ""
             }
            },
            "type": "scattercarpet"
           }
          ],
          "scattergeo": [
           {
            "marker": {
             "colorbar": {
              "outlinewidth": 0,
              "ticks": ""
             }
            },
            "type": "scattergeo"
           }
          ],
          "scattergl": [
           {
            "marker": {
             "colorbar": {
              "outlinewidth": 0,
              "ticks": ""
             }
            },
            "type": "scattergl"
           }
          ],
          "scattermapbox": [
           {
            "marker": {
             "colorbar": {
              "outlinewidth": 0,
              "ticks": ""
             }
            },
            "type": "scattermapbox"
           }
          ],
          "scatterpolar": [
           {
            "marker": {
             "colorbar": {
              "outlinewidth": 0,
              "ticks": ""
             }
            },
            "type": "scatterpolar"
           }
          ],
          "scatterpolargl": [
           {
            "marker": {
             "colorbar": {
              "outlinewidth": 0,
              "ticks": ""
             }
            },
            "type": "scatterpolargl"
           }
          ],
          "scatterternary": [
           {
            "marker": {
             "colorbar": {
              "outlinewidth": 0,
              "ticks": ""
             }
            },
            "type": "scatterternary"
           }
          ],
          "surface": [
           {
            "colorbar": {
             "outlinewidth": 0,
             "ticks": ""
            },
            "colorscale": [
             [
              0,
              "#0d0887"
             ],
             [
              0.1111111111111111,
              "#46039f"
             ],
             [
              0.2222222222222222,
              "#7201a8"
             ],
             [
              0.3333333333333333,
              "#9c179e"
             ],
             [
              0.4444444444444444,
              "#bd3786"
             ],
             [
              0.5555555555555556,
              "#d8576b"
             ],
             [
              0.6666666666666666,
              "#ed7953"
             ],
             [
              0.7777777777777778,
              "#fb9f3a"
             ],
             [
              0.8888888888888888,
              "#fdca26"
             ],
             [
              1,
              "#f0f921"
             ]
            ],
            "type": "surface"
           }
          ],
          "table": [
           {
            "cells": {
             "fill": {
              "color": "#EBF0F8"
             },
             "line": {
              "color": "white"
             }
            },
            "header": {
             "fill": {
              "color": "#C8D4E3"
             },
             "line": {
              "color": "white"
             }
            },
            "type": "table"
           }
          ]
         },
         "layout": {
          "annotationdefaults": {
           "arrowcolor": "#2a3f5f",
           "arrowhead": 0,
           "arrowwidth": 1
          },
          "autotypenumbers": "strict",
          "coloraxis": {
           "colorbar": {
            "outlinewidth": 0,
            "ticks": ""
           }
          },
          "colorscale": {
           "diverging": [
            [
             0,
             "#8e0152"
            ],
            [
             0.1,
             "#c51b7d"
            ],
            [
             0.2,
             "#de77ae"
            ],
            [
             0.3,
             "#f1b6da"
            ],
            [
             0.4,
             "#fde0ef"
            ],
            [
             0.5,
             "#f7f7f7"
            ],
            [
             0.6,
             "#e6f5d0"
            ],
            [
             0.7,
             "#b8e186"
            ],
            [
             0.8,
             "#7fbc41"
            ],
            [
             0.9,
             "#4d9221"
            ],
            [
             1,
             "#276419"
            ]
           ],
           "sequential": [
            [
             0,
             "#0d0887"
            ],
            [
             0.1111111111111111,
             "#46039f"
            ],
            [
             0.2222222222222222,
             "#7201a8"
            ],
            [
             0.3333333333333333,
             "#9c179e"
            ],
            [
             0.4444444444444444,
             "#bd3786"
            ],
            [
             0.5555555555555556,
             "#d8576b"
            ],
            [
             0.6666666666666666,
             "#ed7953"
            ],
            [
             0.7777777777777778,
             "#fb9f3a"
            ],
            [
             0.8888888888888888,
             "#fdca26"
            ],
            [
             1,
             "#f0f921"
            ]
           ],
           "sequentialminus": [
            [
             0,
             "#0d0887"
            ],
            [
             0.1111111111111111,
             "#46039f"
            ],
            [
             0.2222222222222222,
             "#7201a8"
            ],
            [
             0.3333333333333333,
             "#9c179e"
            ],
            [
             0.4444444444444444,
             "#bd3786"
            ],
            [
             0.5555555555555556,
             "#d8576b"
            ],
            [
             0.6666666666666666,
             "#ed7953"
            ],
            [
             0.7777777777777778,
             "#fb9f3a"
            ],
            [
             0.8888888888888888,
             "#fdca26"
            ],
            [
             1,
             "#f0f921"
            ]
           ]
          },
          "colorway": [
           "#636efa",
           "#EF553B",
           "#00cc96",
           "#ab63fa",
           "#FFA15A",
           "#19d3f3",
           "#FF6692",
           "#B6E880",
           "#FF97FF",
           "#FECB52"
          ],
          "font": {
           "color": "#2a3f5f"
          },
          "geo": {
           "bgcolor": "white",
           "lakecolor": "white",
           "landcolor": "#E5ECF6",
           "showlakes": true,
           "showland": true,
           "subunitcolor": "white"
          },
          "hoverlabel": {
           "align": "left"
          },
          "hovermode": "closest",
          "mapbox": {
           "style": "light"
          },
          "paper_bgcolor": "white",
          "plot_bgcolor": "#E5ECF6",
          "polar": {
           "angularaxis": {
            "gridcolor": "white",
            "linecolor": "white",
            "ticks": ""
           },
           "bgcolor": "#E5ECF6",
           "radialaxis": {
            "gridcolor": "white",
            "linecolor": "white",
            "ticks": ""
           }
          },
          "scene": {
           "xaxis": {
            "backgroundcolor": "#E5ECF6",
            "gridcolor": "white",
            "gridwidth": 2,
            "linecolor": "white",
            "showbackground": true,
            "ticks": "",
            "zerolinecolor": "white"
           },
           "yaxis": {
            "backgroundcolor": "#E5ECF6",
            "gridcolor": "white",
            "gridwidth": 2,
            "linecolor": "white",
            "showbackground": true,
            "ticks": "",
            "zerolinecolor": "white"
           },
           "zaxis": {
            "backgroundcolor": "#E5ECF6",
            "gridcolor": "white",
            "gridwidth": 2,
            "linecolor": "white",
            "showbackground": true,
            "ticks": "",
            "zerolinecolor": "white"
           }
          },
          "shapedefaults": {
           "line": {
            "color": "#2a3f5f"
           }
          },
          "ternary": {
           "aaxis": {
            "gridcolor": "white",
            "linecolor": "white",
            "ticks": ""
           },
           "baxis": {
            "gridcolor": "white",
            "linecolor": "white",
            "ticks": ""
           },
           "bgcolor": "#E5ECF6",
           "caxis": {
            "gridcolor": "white",
            "linecolor": "white",
            "ticks": ""
           }
          },
          "title": {
           "x": 0.05
          },
          "xaxis": {
           "automargin": true,
           "gridcolor": "white",
           "linecolor": "white",
           "ticks": "",
           "title": {
            "standoff": 15
           },
           "zerolinecolor": "white",
           "zerolinewidth": 2
          },
          "yaxis": {
           "automargin": true,
           "gridcolor": "white",
           "linecolor": "white",
           "ticks": "",
           "title": {
            "standoff": 15
           },
           "zerolinecolor": "white",
           "zerolinewidth": 2
          }
         }
        },
        "xaxis": {
         "anchor": "y",
         "domain": [
          0,
          1
         ],
         "title": {
          "text": "Happiness score"
         }
        },
        "yaxis": {
         "anchor": "x",
         "domain": [
          0,
          1
         ],
         "title": {
          "text": "value"
         }
        }
       }
      }
     },
     "metadata": {},
     "output_type": "display_data"
    }
   ],
   "source": [
    "fig = px.line(df, 'Happiness score', ['Explained by: GDP per capita', 'Explained by: Social support', 'Explained by: Healthy life expectancy', 'Explained by: Freedom to make life choices', 'Explained by: Generosity', 'Explained by: Perceptions of corruption'])\n",
    "fig.show()"
   ]
  },
  {
   "cell_type": "code",
   "execution_count": 142,
   "metadata": {},
   "outputs": [
    {
     "name": "stdout",
     "output_type": "stream",
     "text": [
      "\"Invalid Country Name: 'Taiwan Province of China'\"\n",
      "\"Invalid Country Name: 'Kosovo'\"\n",
      "\"Invalid Country Name: 'North Cyprus'\"\n",
      "\"Invalid Country Name: 'Hong Kong S.A.R. of China'\"\n",
      "\"Invalid Country Name: 'Palestinian Territories'\"\n",
      "\"Invalid Country Name: 'Eswatini, Kingdom of'\"\n"
     ]
    },
    {
     "name": "stderr",
     "output_type": "stream",
     "text": [
      "/var/folders/0k/369f7zf50c59w8dkhr5_kczr0000gn/T/ipykernel_35952/2397224673.py:19: SettingWithCopyWarning:\n",
      "\n",
      "\n",
      "A value is trying to be set on a copy of a slice from a DataFrame\n",
      "\n",
      "See the caveats in the documentation: https://pandas.pydata.org/pandas-docs/stable/user_guide/indexing.html#returning-a-view-versus-a-copy\n",
      "\n"
     ]
    }
   ],
   "source": [
    "import pycountry_convert as pcconvert\n",
    "\n",
    "\n",
    "def country_to_continent(country_name):\n",
    "    country_alpha2 = pcconvert.country_name_to_country_alpha2(country_name)\n",
    "    country_continent_code = pcconvert.country_alpha2_to_continent_code(country_alpha2)\n",
    "    country_continent_name = pcconvert.convert_continent_code_to_continent_name(country_continent_code)\n",
    "    return country_continent_name\n",
    "\n",
    "\n",
    "df2 = df.copy()\n",
    "df2['Continent'] = np.nan\n",
    "\n",
    "for i in range(len(df)):\n",
    "    try:\n",
    "        if '*' in df2['Country'][i]:\n",
    "            df2['Continent'][i] = country_to_continent(df2['Country'][i][:-1])\n",
    "        else:\n",
    "            df2['Continent'][i] = country_to_continent(df2['Country'][i])\n",
    "    except KeyError as e:\n",
    "        print(e)"
   ]
  },
  {
   "cell_type": "code",
   "execution_count": 143,
   "metadata": {},
   "outputs": [
    {
     "data": {
      "text/html": [
       "<div>\n",
       "<style scoped>\n",
       "    .dataframe tbody tr th:only-of-type {\n",
       "        vertical-align: middle;\n",
       "    }\n",
       "\n",
       "    .dataframe tbody tr th {\n",
       "        vertical-align: top;\n",
       "    }\n",
       "\n",
       "    .dataframe thead th {\n",
       "        text-align: right;\n",
       "    }\n",
       "</style>\n",
       "<table border=\"1\" class=\"dataframe\">\n",
       "  <thead>\n",
       "    <tr style=\"text-align: right;\">\n",
       "      <th></th>\n",
       "      <th>RANK</th>\n",
       "      <th>Country</th>\n",
       "      <th>Happiness score</th>\n",
       "      <th>Whisker-high</th>\n",
       "      <th>Whisker-low</th>\n",
       "      <th>Dystopia (1.83) + residual</th>\n",
       "      <th>Explained by: GDP per capita</th>\n",
       "      <th>Explained by: Social support</th>\n",
       "      <th>Explained by: Healthy life expectancy</th>\n",
       "      <th>Explained by: Freedom to make life choices</th>\n",
       "      <th>Explained by: Generosity</th>\n",
       "      <th>Explained by: Perceptions of corruption</th>\n",
       "      <th>Continent</th>\n",
       "    </tr>\n",
       "  </thead>\n",
       "  <tbody>\n",
       "    <tr>\n",
       "      <th>0</th>\n",
       "      <td>1</td>\n",
       "      <td>Finland</td>\n",
       "      <td>7821</td>\n",
       "      <td>7886</td>\n",
       "      <td>7756</td>\n",
       "      <td>2518</td>\n",
       "      <td>1892</td>\n",
       "      <td>1258</td>\n",
       "      <td>775</td>\n",
       "      <td>736</td>\n",
       "      <td>109</td>\n",
       "      <td>534</td>\n",
       "      <td>Europe</td>\n",
       "    </tr>\n",
       "    <tr>\n",
       "      <th>1</th>\n",
       "      <td>2</td>\n",
       "      <td>Denmark</td>\n",
       "      <td>7636</td>\n",
       "      <td>7710</td>\n",
       "      <td>7563</td>\n",
       "      <td>2226</td>\n",
       "      <td>1953</td>\n",
       "      <td>1243</td>\n",
       "      <td>777</td>\n",
       "      <td>719</td>\n",
       "      <td>188</td>\n",
       "      <td>532</td>\n",
       "      <td>Europe</td>\n",
       "    </tr>\n",
       "    <tr>\n",
       "      <th>2</th>\n",
       "      <td>3</td>\n",
       "      <td>Iceland</td>\n",
       "      <td>7557</td>\n",
       "      <td>7651</td>\n",
       "      <td>7464</td>\n",
       "      <td>2320</td>\n",
       "      <td>1936</td>\n",
       "      <td>1320</td>\n",
       "      <td>803</td>\n",
       "      <td>718</td>\n",
       "      <td>270</td>\n",
       "      <td>191</td>\n",
       "      <td>Europe</td>\n",
       "    </tr>\n",
       "    <tr>\n",
       "      <th>3</th>\n",
       "      <td>4</td>\n",
       "      <td>Switzerland</td>\n",
       "      <td>7512</td>\n",
       "      <td>7586</td>\n",
       "      <td>7437</td>\n",
       "      <td>2153</td>\n",
       "      <td>2026</td>\n",
       "      <td>1226</td>\n",
       "      <td>822</td>\n",
       "      <td>677</td>\n",
       "      <td>147</td>\n",
       "      <td>461</td>\n",
       "      <td>Europe</td>\n",
       "    </tr>\n",
       "    <tr>\n",
       "      <th>4</th>\n",
       "      <td>5</td>\n",
       "      <td>Netherlands</td>\n",
       "      <td>7415</td>\n",
       "      <td>7471</td>\n",
       "      <td>7359</td>\n",
       "      <td>2137</td>\n",
       "      <td>1945</td>\n",
       "      <td>1206</td>\n",
       "      <td>787</td>\n",
       "      <td>651</td>\n",
       "      <td>271</td>\n",
       "      <td>419</td>\n",
       "      <td>Europe</td>\n",
       "    </tr>\n",
       "  </tbody>\n",
       "</table>\n",
       "</div>"
      ],
      "text/plain": [
       "   RANK      Country  Happiness score  Whisker-high  Whisker-low  \\\n",
       "0     1      Finland             7821          7886         7756   \n",
       "1     2      Denmark             7636          7710         7563   \n",
       "2     3      Iceland             7557          7651         7464   \n",
       "3     4  Switzerland             7512          7586         7437   \n",
       "4     5  Netherlands             7415          7471         7359   \n",
       "\n",
       "   Dystopia (1.83) + residual  Explained by: GDP per capita  \\\n",
       "0                        2518                          1892   \n",
       "1                        2226                          1953   \n",
       "2                        2320                          1936   \n",
       "3                        2153                          2026   \n",
       "4                        2137                          1945   \n",
       "\n",
       "   Explained by: Social support  Explained by: Healthy life expectancy  \\\n",
       "0                          1258                                    775   \n",
       "1                          1243                                    777   \n",
       "2                          1320                                    803   \n",
       "3                          1226                                    822   \n",
       "4                          1206                                    787   \n",
       "\n",
       "   Explained by: Freedom to make life choices  Explained by: Generosity  \\\n",
       "0                                         736                       109   \n",
       "1                                         719                       188   \n",
       "2                                         718                       270   \n",
       "3                                         677                       147   \n",
       "4                                         651                       271   \n",
       "\n",
       "   Explained by: Perceptions of corruption Continent  \n",
       "0                                      534    Europe  \n",
       "1                                      532    Europe  \n",
       "2                                      191    Europe  \n",
       "3                                      461    Europe  \n",
       "4                                      419    Europe  "
      ]
     },
     "execution_count": 143,
     "metadata": {},
     "output_type": "execute_result"
    }
   ],
   "source": [
    "df2.head()"
   ]
  },
  {
   "cell_type": "code",
   "execution_count": 165,
   "metadata": {},
   "outputs": [
    {
     "data": {
      "text/plain": [
       "9     Oceania\n",
       "11    Oceania\n",
       "Name: Continent, dtype: object"
      ]
     },
     "execution_count": 165,
     "metadata": {},
     "output_type": "execute_result"
    }
   ],
   "source": [
    "df2['Continent'][df2['Continent'] == 'Oceania']"
   ]
  },
  {
   "cell_type": "code",
   "execution_count": 166,
   "metadata": {},
   "outputs": [],
   "source": [
    "df3 = df2.drop(labels=[9,11], axis=0)"
   ]
  },
  {
   "cell_type": "code",
   "execution_count": 167,
   "metadata": {},
   "outputs": [],
   "source": [
    "mean_df = df3.groupby('Continent').mean()"
   ]
  },
  {
   "cell_type": "code",
   "execution_count": 168,
   "metadata": {},
   "outputs": [
    {
     "data": {
      "text/html": [
       "<div>\n",
       "<style scoped>\n",
       "    .dataframe tbody tr th:only-of-type {\n",
       "        vertical-align: middle;\n",
       "    }\n",
       "\n",
       "    .dataframe tbody tr th {\n",
       "        vertical-align: top;\n",
       "    }\n",
       "\n",
       "    .dataframe thead th {\n",
       "        text-align: right;\n",
       "    }\n",
       "</style>\n",
       "<table border=\"1\" class=\"dataframe\">\n",
       "  <thead>\n",
       "    <tr style=\"text-align: right;\">\n",
       "      <th></th>\n",
       "      <th>RANK</th>\n",
       "      <th>Happiness score</th>\n",
       "      <th>Whisker-high</th>\n",
       "      <th>Whisker-low</th>\n",
       "      <th>Dystopia (1.83) + residual</th>\n",
       "      <th>Explained by: GDP per capita</th>\n",
       "      <th>Explained by: Social support</th>\n",
       "      <th>Explained by: Healthy life expectancy</th>\n",
       "      <th>Explained by: Freedom to make life choices</th>\n",
       "      <th>Explained by: Generosity</th>\n",
       "      <th>Explained by: Perceptions of corruption</th>\n",
       "    </tr>\n",
       "    <tr>\n",
       "      <th>Continent</th>\n",
       "      <th></th>\n",
       "      <th></th>\n",
       "      <th></th>\n",
       "      <th></th>\n",
       "      <th></th>\n",
       "      <th></th>\n",
       "      <th></th>\n",
       "      <th></th>\n",
       "      <th></th>\n",
       "      <th></th>\n",
       "      <th></th>\n",
       "    </tr>\n",
       "  </thead>\n",
       "  <tbody>\n",
       "    <tr>\n",
       "      <th>Africa</th>\n",
       "      <td>115.717949</td>\n",
       "      <td>4531.000000</td>\n",
       "      <td>4693.179487</td>\n",
       "      <td>4368.871795</td>\n",
       "      <td>1849.025641</td>\n",
       "      <td>987.000000</td>\n",
       "      <td>624.384615</td>\n",
       "      <td>379.487179</td>\n",
       "      <td>416.410256</td>\n",
       "      <td>150.666667</td>\n",
       "      <td>124.153846</td>\n",
       "    </tr>\n",
       "    <tr>\n",
       "      <th>Asia</th>\n",
       "      <td>81.666667</td>\n",
       "      <td>5323.871795</td>\n",
       "      <td>5428.717949</td>\n",
       "      <td>5219.128205</td>\n",
       "      <td>1567.589744</td>\n",
       "      <td>1421.435897</td>\n",
       "      <td>881.820513</td>\n",
       "      <td>604.435897</td>\n",
       "      <td>536.846154</td>\n",
       "      <td>163.051282</td>\n",
       "      <td>148.794872</td>\n",
       "    </tr>\n",
       "    <tr>\n",
       "      <th>Europe</th>\n",
       "      <td>37.230769</td>\n",
       "      <td>6469.820513</td>\n",
       "      <td>6560.820513</td>\n",
       "      <td>6378.769231</td>\n",
       "      <td>1932.410256</td>\n",
       "      <td>1776.846154</td>\n",
       "      <td>1138.769231</td>\n",
       "      <td>725.000000</td>\n",
       "      <td>566.564103</td>\n",
       "      <td>138.487179</td>\n",
       "      <td>191.846154</td>\n",
       "    </tr>\n",
       "    <tr>\n",
       "      <th>North America</th>\n",
       "      <td>41.545455</td>\n",
       "      <td>6288.818182</td>\n",
       "      <td>6424.000000</td>\n",
       "      <td>6153.272727</td>\n",
       "      <td>2273.909091</td>\n",
       "      <td>1482.545455</td>\n",
       "      <td>998.000000</td>\n",
       "      <td>637.363636</td>\n",
       "      <td>618.818182</td>\n",
       "      <td>127.454545</td>\n",
       "      <td>150.909091</td>\n",
       "    </tr>\n",
       "    <tr>\n",
       "      <th>South America</th>\n",
       "      <td>63.700000</td>\n",
       "      <td>5788.200000</td>\n",
       "      <td>5898.200000</td>\n",
       "      <td>5678.400000</td>\n",
       "      <td>2044.500000</td>\n",
       "      <td>1318.600000</td>\n",
       "      <td>1005.700000</td>\n",
       "      <td>661.700000</td>\n",
       "      <td>542.000000</td>\n",
       "      <td>120.400000</td>\n",
       "      <td>95.500000</td>\n",
       "    </tr>\n",
       "  </tbody>\n",
       "</table>\n",
       "</div>"
      ],
      "text/plain": [
       "                     RANK  Happiness score  Whisker-high  Whisker-low  \\\n",
       "Continent                                                               \n",
       "Africa         115.717949      4531.000000   4693.179487  4368.871795   \n",
       "Asia            81.666667      5323.871795   5428.717949  5219.128205   \n",
       "Europe          37.230769      6469.820513   6560.820513  6378.769231   \n",
       "North America   41.545455      6288.818182   6424.000000  6153.272727   \n",
       "South America   63.700000      5788.200000   5898.200000  5678.400000   \n",
       "\n",
       "               Dystopia (1.83) + residual  Explained by: GDP per capita  \\\n",
       "Continent                                                                 \n",
       "Africa                        1849.025641                    987.000000   \n",
       "Asia                          1567.589744                   1421.435897   \n",
       "Europe                        1932.410256                   1776.846154   \n",
       "North America                 2273.909091                   1482.545455   \n",
       "South America                 2044.500000                   1318.600000   \n",
       "\n",
       "               Explained by: Social support  \\\n",
       "Continent                                     \n",
       "Africa                           624.384615   \n",
       "Asia                             881.820513   \n",
       "Europe                          1138.769231   \n",
       "North America                    998.000000   \n",
       "South America                   1005.700000   \n",
       "\n",
       "               Explained by: Healthy life expectancy  \\\n",
       "Continent                                              \n",
       "Africa                                    379.487179   \n",
       "Asia                                      604.435897   \n",
       "Europe                                    725.000000   \n",
       "North America                             637.363636   \n",
       "South America                             661.700000   \n",
       "\n",
       "               Explained by: Freedom to make life choices  \\\n",
       "Continent                                                   \n",
       "Africa                                         416.410256   \n",
       "Asia                                           536.846154   \n",
       "Europe                                         566.564103   \n",
       "North America                                  618.818182   \n",
       "South America                                  542.000000   \n",
       "\n",
       "               Explained by: Generosity  \\\n",
       "Continent                                 \n",
       "Africa                       150.666667   \n",
       "Asia                         163.051282   \n",
       "Europe                       138.487179   \n",
       "North America                127.454545   \n",
       "South America                120.400000   \n",
       "\n",
       "               Explained by: Perceptions of corruption  \n",
       "Continent                                               \n",
       "Africa                                      124.153846  \n",
       "Asia                                        148.794872  \n",
       "Europe                                      191.846154  \n",
       "North America                               150.909091  \n",
       "South America                                95.500000  "
      ]
     },
     "execution_count": 168,
     "metadata": {},
     "output_type": "execute_result"
    }
   ],
   "source": [
    "mean_df.head()"
   ]
  },
  {
   "cell_type": "code",
   "execution_count": 169,
   "metadata": {},
   "outputs": [],
   "source": [
    "continent_index = mean_df.index.get_level_values(0)"
   ]
  },
  {
   "cell_type": "code",
   "execution_count": 172,
   "metadata": {},
   "outputs": [
    {
     "data": {
      "application/vnd.plotly.v1+json": {
       "config": {
        "plotlyServerURL": "https://plot.ly"
       },
       "data": [
        {
         "alignmentgroup": "True",
         "hovertemplate": "Continent=%{x}<br>Happiness score=%{y}<extra></extra>",
         "legendgroup": "Africa",
         "marker": {
          "color": "#636efa",
          "pattern": {
           "shape": ""
          }
         },
         "name": "Africa",
         "offsetgroup": "Africa",
         "orientation": "v",
         "showlegend": true,
         "textposition": "auto",
         "type": "bar",
         "x": [
          "Africa"
         ],
         "xaxis": "x",
         "y": [
          4531
         ],
         "yaxis": "y"
        },
        {
         "alignmentgroup": "True",
         "hovertemplate": "Continent=%{x}<br>Happiness score=%{y}<extra></extra>",
         "legendgroup": "Asia",
         "marker": {
          "color": "#EF553B",
          "pattern": {
           "shape": ""
          }
         },
         "name": "Asia",
         "offsetgroup": "Asia",
         "orientation": "v",
         "showlegend": true,
         "textposition": "auto",
         "type": "bar",
         "x": [
          "Asia"
         ],
         "xaxis": "x",
         "y": [
          5323.871794871795
         ],
         "yaxis": "y"
        },
        {
         "alignmentgroup": "True",
         "hovertemplate": "Continent=%{x}<br>Happiness score=%{y}<extra></extra>",
         "legendgroup": "Europe",
         "marker": {
          "color": "#00cc96",
          "pattern": {
           "shape": ""
          }
         },
         "name": "Europe",
         "offsetgroup": "Europe",
         "orientation": "v",
         "showlegend": true,
         "textposition": "auto",
         "type": "bar",
         "x": [
          "Europe"
         ],
         "xaxis": "x",
         "y": [
          6469.820512820513
         ],
         "yaxis": "y"
        },
        {
         "alignmentgroup": "True",
         "hovertemplate": "Continent=%{x}<br>Happiness score=%{y}<extra></extra>",
         "legendgroup": "North America",
         "marker": {
          "color": "#ab63fa",
          "pattern": {
           "shape": ""
          }
         },
         "name": "North America",
         "offsetgroup": "North America",
         "orientation": "v",
         "showlegend": true,
         "textposition": "auto",
         "type": "bar",
         "x": [
          "North America"
         ],
         "xaxis": "x",
         "y": [
          6288.818181818182
         ],
         "yaxis": "y"
        },
        {
         "alignmentgroup": "True",
         "hovertemplate": "Continent=%{x}<br>Happiness score=%{y}<extra></extra>",
         "legendgroup": "South America",
         "marker": {
          "color": "#FFA15A",
          "pattern": {
           "shape": ""
          }
         },
         "name": "South America",
         "offsetgroup": "South America",
         "orientation": "v",
         "showlegend": true,
         "textposition": "auto",
         "type": "bar",
         "x": [
          "South America"
         ],
         "xaxis": "x",
         "y": [
          5788.2
         ],
         "yaxis": "y"
        }
       ],
       "layout": {
        "barmode": "relative",
        "legend": {
         "title": {
          "text": "Continent"
         },
         "tracegroupgap": 0
        },
        "margin": {
         "t": 60
        },
        "template": {
         "data": {
          "bar": [
           {
            "error_x": {
             "color": "#2a3f5f"
            },
            "error_y": {
             "color": "#2a3f5f"
            },
            "marker": {
             "line": {
              "color": "#E5ECF6",
              "width": 0.5
             },
             "pattern": {
              "fillmode": "overlay",
              "size": 10,
              "solidity": 0.2
             }
            },
            "type": "bar"
           }
          ],
          "barpolar": [
           {
            "marker": {
             "line": {
              "color": "#E5ECF6",
              "width": 0.5
             },
             "pattern": {
              "fillmode": "overlay",
              "size": 10,
              "solidity": 0.2
             }
            },
            "type": "barpolar"
           }
          ],
          "carpet": [
           {
            "aaxis": {
             "endlinecolor": "#2a3f5f",
             "gridcolor": "white",
             "linecolor": "white",
             "minorgridcolor": "white",
             "startlinecolor": "#2a3f5f"
            },
            "baxis": {
             "endlinecolor": "#2a3f5f",
             "gridcolor": "white",
             "linecolor": "white",
             "minorgridcolor": "white",
             "startlinecolor": "#2a3f5f"
            },
            "type": "carpet"
           }
          ],
          "choropleth": [
           {
            "colorbar": {
             "outlinewidth": 0,
             "ticks": ""
            },
            "type": "choropleth"
           }
          ],
          "contour": [
           {
            "colorbar": {
             "outlinewidth": 0,
             "ticks": ""
            },
            "colorscale": [
             [
              0,
              "#0d0887"
             ],
             [
              0.1111111111111111,
              "#46039f"
             ],
             [
              0.2222222222222222,
              "#7201a8"
             ],
             [
              0.3333333333333333,
              "#9c179e"
             ],
             [
              0.4444444444444444,
              "#bd3786"
             ],
             [
              0.5555555555555556,
              "#d8576b"
             ],
             [
              0.6666666666666666,
              "#ed7953"
             ],
             [
              0.7777777777777778,
              "#fb9f3a"
             ],
             [
              0.8888888888888888,
              "#fdca26"
             ],
             [
              1,
              "#f0f921"
             ]
            ],
            "type": "contour"
           }
          ],
          "contourcarpet": [
           {
            "colorbar": {
             "outlinewidth": 0,
             "ticks": ""
            },
            "type": "contourcarpet"
           }
          ],
          "heatmap": [
           {
            "colorbar": {
             "outlinewidth": 0,
             "ticks": ""
            },
            "colorscale": [
             [
              0,
              "#0d0887"
             ],
             [
              0.1111111111111111,
              "#46039f"
             ],
             [
              0.2222222222222222,
              "#7201a8"
             ],
             [
              0.3333333333333333,
              "#9c179e"
             ],
             [
              0.4444444444444444,
              "#bd3786"
             ],
             [
              0.5555555555555556,
              "#d8576b"
             ],
             [
              0.6666666666666666,
              "#ed7953"
             ],
             [
              0.7777777777777778,
              "#fb9f3a"
             ],
             [
              0.8888888888888888,
              "#fdca26"
             ],
             [
              1,
              "#f0f921"
             ]
            ],
            "type": "heatmap"
           }
          ],
          "heatmapgl": [
           {
            "colorbar": {
             "outlinewidth": 0,
             "ticks": ""
            },
            "colorscale": [
             [
              0,
              "#0d0887"
             ],
             [
              0.1111111111111111,
              "#46039f"
             ],
             [
              0.2222222222222222,
              "#7201a8"
             ],
             [
              0.3333333333333333,
              "#9c179e"
             ],
             [
              0.4444444444444444,
              "#bd3786"
             ],
             [
              0.5555555555555556,
              "#d8576b"
             ],
             [
              0.6666666666666666,
              "#ed7953"
             ],
             [
              0.7777777777777778,
              "#fb9f3a"
             ],
             [
              0.8888888888888888,
              "#fdca26"
             ],
             [
              1,
              "#f0f921"
             ]
            ],
            "type": "heatmapgl"
           }
          ],
          "histogram": [
           {
            "marker": {
             "pattern": {
              "fillmode": "overlay",
              "size": 10,
              "solidity": 0.2
             }
            },
            "type": "histogram"
           }
          ],
          "histogram2d": [
           {
            "colorbar": {
             "outlinewidth": 0,
             "ticks": ""
            },
            "colorscale": [
             [
              0,
              "#0d0887"
             ],
             [
              0.1111111111111111,
              "#46039f"
             ],
             [
              0.2222222222222222,
              "#7201a8"
             ],
             [
              0.3333333333333333,
              "#9c179e"
             ],
             [
              0.4444444444444444,
              "#bd3786"
             ],
             [
              0.5555555555555556,
              "#d8576b"
             ],
             [
              0.6666666666666666,
              "#ed7953"
             ],
             [
              0.7777777777777778,
              "#fb9f3a"
             ],
             [
              0.8888888888888888,
              "#fdca26"
             ],
             [
              1,
              "#f0f921"
             ]
            ],
            "type": "histogram2d"
           }
          ],
          "histogram2dcontour": [
           {
            "colorbar": {
             "outlinewidth": 0,
             "ticks": ""
            },
            "colorscale": [
             [
              0,
              "#0d0887"
             ],
             [
              0.1111111111111111,
              "#46039f"
             ],
             [
              0.2222222222222222,
              "#7201a8"
             ],
             [
              0.3333333333333333,
              "#9c179e"
             ],
             [
              0.4444444444444444,
              "#bd3786"
             ],
             [
              0.5555555555555556,
              "#d8576b"
             ],
             [
              0.6666666666666666,
              "#ed7953"
             ],
             [
              0.7777777777777778,
              "#fb9f3a"
             ],
             [
              0.8888888888888888,
              "#fdca26"
             ],
             [
              1,
              "#f0f921"
             ]
            ],
            "type": "histogram2dcontour"
           }
          ],
          "mesh3d": [
           {
            "colorbar": {
             "outlinewidth": 0,
             "ticks": ""
            },
            "type": "mesh3d"
           }
          ],
          "parcoords": [
           {
            "line": {
             "colorbar": {
              "outlinewidth": 0,
              "ticks": ""
             }
            },
            "type": "parcoords"
           }
          ],
          "pie": [
           {
            "automargin": true,
            "type": "pie"
           }
          ],
          "scatter": [
           {
            "fillpattern": {
             "fillmode": "overlay",
             "size": 10,
             "solidity": 0.2
            },
            "type": "scatter"
           }
          ],
          "scatter3d": [
           {
            "line": {
             "colorbar": {
              "outlinewidth": 0,
              "ticks": ""
             }
            },
            "marker": {
             "colorbar": {
              "outlinewidth": 0,
              "ticks": ""
             }
            },
            "type": "scatter3d"
           }
          ],
          "scattercarpet": [
           {
            "marker": {
             "colorbar": {
              "outlinewidth": 0,
              "ticks": ""
             }
            },
            "type": "scattercarpet"
           }
          ],
          "scattergeo": [
           {
            "marker": {
             "colorbar": {
              "outlinewidth": 0,
              "ticks": ""
             }
            },
            "type": "scattergeo"
           }
          ],
          "scattergl": [
           {
            "marker": {
             "colorbar": {
              "outlinewidth": 0,
              "ticks": ""
             }
            },
            "type": "scattergl"
           }
          ],
          "scattermapbox": [
           {
            "marker": {
             "colorbar": {
              "outlinewidth": 0,
              "ticks": ""
             }
            },
            "type": "scattermapbox"
           }
          ],
          "scatterpolar": [
           {
            "marker": {
             "colorbar": {
              "outlinewidth": 0,
              "ticks": ""
             }
            },
            "type": "scatterpolar"
           }
          ],
          "scatterpolargl": [
           {
            "marker": {
             "colorbar": {
              "outlinewidth": 0,
              "ticks": ""
             }
            },
            "type": "scatterpolargl"
           }
          ],
          "scatterternary": [
           {
            "marker": {
             "colorbar": {
              "outlinewidth": 0,
              "ticks": ""
             }
            },
            "type": "scatterternary"
           }
          ],
          "surface": [
           {
            "colorbar": {
             "outlinewidth": 0,
             "ticks": ""
            },
            "colorscale": [
             [
              0,
              "#0d0887"
             ],
             [
              0.1111111111111111,
              "#46039f"
             ],
             [
              0.2222222222222222,
              "#7201a8"
             ],
             [
              0.3333333333333333,
              "#9c179e"
             ],
             [
              0.4444444444444444,
              "#bd3786"
             ],
             [
              0.5555555555555556,
              "#d8576b"
             ],
             [
              0.6666666666666666,
              "#ed7953"
             ],
             [
              0.7777777777777778,
              "#fb9f3a"
             ],
             [
              0.8888888888888888,
              "#fdca26"
             ],
             [
              1,
              "#f0f921"
             ]
            ],
            "type": "surface"
           }
          ],
          "table": [
           {
            "cells": {
             "fill": {
              "color": "#EBF0F8"
             },
             "line": {
              "color": "white"
             }
            },
            "header": {
             "fill": {
              "color": "#C8D4E3"
             },
             "line": {
              "color": "white"
             }
            },
            "type": "table"
           }
          ]
         },
         "layout": {
          "annotationdefaults": {
           "arrowcolor": "#2a3f5f",
           "arrowhead": 0,
           "arrowwidth": 1
          },
          "autotypenumbers": "strict",
          "coloraxis": {
           "colorbar": {
            "outlinewidth": 0,
            "ticks": ""
           }
          },
          "colorscale": {
           "diverging": [
            [
             0,
             "#8e0152"
            ],
            [
             0.1,
             "#c51b7d"
            ],
            [
             0.2,
             "#de77ae"
            ],
            [
             0.3,
             "#f1b6da"
            ],
            [
             0.4,
             "#fde0ef"
            ],
            [
             0.5,
             "#f7f7f7"
            ],
            [
             0.6,
             "#e6f5d0"
            ],
            [
             0.7,
             "#b8e186"
            ],
            [
             0.8,
             "#7fbc41"
            ],
            [
             0.9,
             "#4d9221"
            ],
            [
             1,
             "#276419"
            ]
           ],
           "sequential": [
            [
             0,
             "#0d0887"
            ],
            [
             0.1111111111111111,
             "#46039f"
            ],
            [
             0.2222222222222222,
             "#7201a8"
            ],
            [
             0.3333333333333333,
             "#9c179e"
            ],
            [
             0.4444444444444444,
             "#bd3786"
            ],
            [
             0.5555555555555556,
             "#d8576b"
            ],
            [
             0.6666666666666666,
             "#ed7953"
            ],
            [
             0.7777777777777778,
             "#fb9f3a"
            ],
            [
             0.8888888888888888,
             "#fdca26"
            ],
            [
             1,
             "#f0f921"
            ]
           ],
           "sequentialminus": [
            [
             0,
             "#0d0887"
            ],
            [
             0.1111111111111111,
             "#46039f"
            ],
            [
             0.2222222222222222,
             "#7201a8"
            ],
            [
             0.3333333333333333,
             "#9c179e"
            ],
            [
             0.4444444444444444,
             "#bd3786"
            ],
            [
             0.5555555555555556,
             "#d8576b"
            ],
            [
             0.6666666666666666,
             "#ed7953"
            ],
            [
             0.7777777777777778,
             "#fb9f3a"
            ],
            [
             0.8888888888888888,
             "#fdca26"
            ],
            [
             1,
             "#f0f921"
            ]
           ]
          },
          "colorway": [
           "#636efa",
           "#EF553B",
           "#00cc96",
           "#ab63fa",
           "#FFA15A",
           "#19d3f3",
           "#FF6692",
           "#B6E880",
           "#FF97FF",
           "#FECB52"
          ],
          "font": {
           "color": "#2a3f5f"
          },
          "geo": {
           "bgcolor": "white",
           "lakecolor": "white",
           "landcolor": "#E5ECF6",
           "showlakes": true,
           "showland": true,
           "subunitcolor": "white"
          },
          "hoverlabel": {
           "align": "left"
          },
          "hovermode": "closest",
          "mapbox": {
           "style": "light"
          },
          "paper_bgcolor": "white",
          "plot_bgcolor": "#E5ECF6",
          "polar": {
           "angularaxis": {
            "gridcolor": "white",
            "linecolor": "white",
            "ticks": ""
           },
           "bgcolor": "#E5ECF6",
           "radialaxis": {
            "gridcolor": "white",
            "linecolor": "white",
            "ticks": ""
           }
          },
          "scene": {
           "xaxis": {
            "backgroundcolor": "#E5ECF6",
            "gridcolor": "white",
            "gridwidth": 2,
            "linecolor": "white",
            "showbackground": true,
            "ticks": "",
            "zerolinecolor": "white"
           },
           "yaxis": {
            "backgroundcolor": "#E5ECF6",
            "gridcolor": "white",
            "gridwidth": 2,
            "linecolor": "white",
            "showbackground": true,
            "ticks": "",
            "zerolinecolor": "white"
           },
           "zaxis": {
            "backgroundcolor": "#E5ECF6",
            "gridcolor": "white",
            "gridwidth": 2,
            "linecolor": "white",
            "showbackground": true,
            "ticks": "",
            "zerolinecolor": "white"
           }
          },
          "shapedefaults": {
           "line": {
            "color": "#2a3f5f"
           }
          },
          "ternary": {
           "aaxis": {
            "gridcolor": "white",
            "linecolor": "white",
            "ticks": ""
           },
           "baxis": {
            "gridcolor": "white",
            "linecolor": "white",
            "ticks": ""
           },
           "bgcolor": "#E5ECF6",
           "caxis": {
            "gridcolor": "white",
            "linecolor": "white",
            "ticks": ""
           }
          },
          "title": {
           "x": 0.05
          },
          "xaxis": {
           "automargin": true,
           "gridcolor": "white",
           "linecolor": "white",
           "ticks": "",
           "title": {
            "standoff": 15
           },
           "zerolinecolor": "white",
           "zerolinewidth": 2
          },
          "yaxis": {
           "automargin": true,
           "gridcolor": "white",
           "linecolor": "white",
           "ticks": "",
           "title": {
            "standoff": 15
           },
           "zerolinecolor": "white",
           "zerolinewidth": 2
          }
         }
        },
        "xaxis": {
         "anchor": "y",
         "categoryarray": [
          "Africa",
          "Asia",
          "Europe",
          "North America",
          "South America"
         ],
         "categoryorder": "array",
         "domain": [
          0,
          1
         ],
         "title": {
          "text": "Continent"
         }
        },
        "yaxis": {
         "anchor": "x",
         "domain": [
          0,
          1
         ],
         "title": {
          "text": "Happiness score"
         }
        }
       }
      }
     },
     "metadata": {},
     "output_type": "display_data"
    },
    {
     "data": {
      "text/plain": [
       "<Figure size 720x864 with 0 Axes>"
      ]
     },
     "metadata": {},
     "output_type": "display_data"
    }
   ],
   "source": [
    "plt.figure(figsize=(10,12))\n",
    "fig2 = px.bar(mean_df, continent_index, 'Happiness score', color=continent_index)\n",
    "fig2.show()"
   ]
  },
  {
   "cell_type": "code",
   "execution_count": null,
   "metadata": {},
   "outputs": [
    {
     "data": {
      "application/vnd.plotly.v1+json": {
       "config": {
        "plotlyServerURL": "https://plot.ly"
       },
       "data": [
        {
         "alignmentgroup": "True",
         "bingroup": "x",
         "hovertemplate": "Continent=Europe<br>Happiness score=%{x}<br>count=%{y}<extra></extra>",
         "legendgroup": "Europe",
         "marker": {
          "color": "#636efa",
          "pattern": {
           "shape": ""
          }
         },
         "name": "Europe",
         "offsetgroup": "Europe",
         "orientation": "v",
         "showlegend": true,
         "type": "histogram",
         "x": [
          7821,
          7636,
          7557,
          7512,
          7415,
          7404,
          7384,
          7365,
          7163,
          7041,
          7034,
          6943,
          6920,
          6805,
          6687,
          6630,
          6477,
          6476,
          6467,
          6447,
          6446,
          6391,
          6341,
          6180,
          6178,
          6125,
          6123,
          6086,
          6016,
          5948,
          5857,
          5821,
          5768,
          5547,
          5459,
          5371,
          5199,
          5199,
          5084
         ],
         "xaxis": "x",
         "yaxis": "y"
        },
        {
         "alignmentgroup": "True",
         "bingroup": "x",
         "hovertemplate": "Continent=Asia<br>Happiness score=%{x}<br>count=%{y}<extra></extra>",
         "legendgroup": "Asia",
         "marker": {
          "color": "#EF553B",
          "pattern": {
           "shape": ""
          }
         },
         "name": "Asia",
         "offsetgroup": "Asia",
         "orientation": "v",
         "showlegend": true,
         "type": "histogram",
         "x": [
          7364,
          6647,
          6576,
          6523,
          6480,
          6234,
          6221,
          6106,
          6063,
          6039,
          5935,
          5904,
          5891,
          5828,
          5761,
          5711,
          5585,
          5485,
          5474,
          5399,
          5377,
          5377,
          5240,
          5173,
          5155,
          5140,
          4973,
          4941,
          4888,
          4744,
          4640,
          4516,
          4394,
          4362,
          4197,
          4152,
          3777,
          2955,
          2404
         ],
         "xaxis": "x",
         "yaxis": "y"
        },
        {
         "alignmentgroup": "True",
         "bingroup": "x",
         "hovertemplate": "Continent=Oceania<br>Happiness score=%{x}<br>count=%{y}<extra></extra>",
         "legendgroup": "Oceania",
         "marker": {
          "color": "#00cc96",
          "pattern": {
           "shape": ""
          }
         },
         "name": "Oceania",
         "offsetgroup": "Oceania",
         "orientation": "v",
         "showlegend": true,
         "type": "histogram",
         "x": [
          7200,
          7162
         ],
         "xaxis": "x",
         "yaxis": "y"
        },
        {
         "alignmentgroup": "True",
         "bingroup": "x",
         "hovertemplate": "Continent=North America<br>Happiness score=%{x}<br>count=%{y}<extra></extra>",
         "legendgroup": "North America",
         "marker": {
          "color": "#ab63fa",
          "pattern": {
           "shape": ""
          }
         },
         "name": "North America",
         "offsetgroup": "North America",
         "orientation": "v",
         "showlegend": true,
         "type": "histogram",
         "x": [
          7025,
          6977,
          6582,
          6309,
          6262,
          6165,
          6128,
          6120,
          6022,
          5850,
          5737
         ],
         "xaxis": "x",
         "yaxis": "y"
        },
        {
         "alignmentgroup": "True",
         "bingroup": "x",
         "hovertemplate": "Continent=South America<br>Happiness score=%{x}<br>count=%{y}<extra></extra>",
         "legendgroup": "South America",
         "marker": {
          "color": "#19d3f3",
          "pattern": {
           "shape": ""
          }
         },
         "name": "South America",
         "offsetgroup": "South America",
         "orientation": "v",
         "showlegend": true,
         "type": "histogram",
         "x": [
          6474,
          6293,
          6172,
          5967,
          5781,
          5600,
          5578,
          5559,
          5533,
          4925
         ],
         "xaxis": "x",
         "yaxis": "y"
        },
        {
         "alignmentgroup": "True",
         "bingroup": "x",
         "hovertemplate": "Continent=Africa<br>Happiness score=%{x}<br>count=%{y}<extra></extra>",
         "legendgroup": "Africa",
         "marker": {
          "color": "#FF6692",
          "pattern": {
           "shape": ""
          }
         },
         "name": "Africa",
         "offsetgroup": "Africa",
         "orientation": "v",
         "showlegend": true,
         "type": "histogram",
         "x": [
          6071,
          5330,
          5235,
          5194,
          5164,
          5122,
          5122,
          5075,
          5060,
          5048,
          5048,
          5046,
          5003,
          4958,
          4891,
          4872,
          4670,
          4623,
          4609,
          4603,
          4552,
          4543,
          4516,
          4479,
          4459,
          4339,
          4288,
          4251,
          4241,
          4153,
          4112,
          3760,
          3750,
          3702,
          3574,
          3512,
          3471,
          3268,
          2995
         ],
         "xaxis": "x",
         "yaxis": "y"
        }
       ],
       "layout": {
        "barmode": "relative",
        "legend": {
         "title": {
          "text": "Continent"
         },
         "tracegroupgap": 0
        },
        "margin": {
         "t": 60
        },
        "template": {
         "data": {
          "bar": [
           {
            "error_x": {
             "color": "#2a3f5f"
            },
            "error_y": {
             "color": "#2a3f5f"
            },
            "marker": {
             "line": {
              "color": "#E5ECF6",
              "width": 0.5
             },
             "pattern": {
              "fillmode": "overlay",
              "size": 10,
              "solidity": 0.2
             }
            },
            "type": "bar"
           }
          ],
          "barpolar": [
           {
            "marker": {
             "line": {
              "color": "#E5ECF6",
              "width": 0.5
             },
             "pattern": {
              "fillmode": "overlay",
              "size": 10,
              "solidity": 0.2
             }
            },
            "type": "barpolar"
           }
          ],
          "carpet": [
           {
            "aaxis": {
             "endlinecolor": "#2a3f5f",
             "gridcolor": "white",
             "linecolor": "white",
             "minorgridcolor": "white",
             "startlinecolor": "#2a3f5f"
            },
            "baxis": {
             "endlinecolor": "#2a3f5f",
             "gridcolor": "white",
             "linecolor": "white",
             "minorgridcolor": "white",
             "startlinecolor": "#2a3f5f"
            },
            "type": "carpet"
           }
          ],
          "choropleth": [
           {
            "colorbar": {
             "outlinewidth": 0,
             "ticks": ""
            },
            "type": "choropleth"
           }
          ],
          "contour": [
           {
            "colorbar": {
             "outlinewidth": 0,
             "ticks": ""
            },
            "colorscale": [
             [
              0,
              "#0d0887"
             ],
             [
              0.1111111111111111,
              "#46039f"
             ],
             [
              0.2222222222222222,
              "#7201a8"
             ],
             [
              0.3333333333333333,
              "#9c179e"
             ],
             [
              0.4444444444444444,
              "#bd3786"
             ],
             [
              0.5555555555555556,
              "#d8576b"
             ],
             [
              0.6666666666666666,
              "#ed7953"
             ],
             [
              0.7777777777777778,
              "#fb9f3a"
             ],
             [
              0.8888888888888888,
              "#fdca26"
             ],
             [
              1,
              "#f0f921"
             ]
            ],
            "type": "contour"
           }
          ],
          "contourcarpet": [
           {
            "colorbar": {
             "outlinewidth": 0,
             "ticks": ""
            },
            "type": "contourcarpet"
           }
          ],
          "heatmap": [
           {
            "colorbar": {
             "outlinewidth": 0,
             "ticks": ""
            },
            "colorscale": [
             [
              0,
              "#0d0887"
             ],
             [
              0.1111111111111111,
              "#46039f"
             ],
             [
              0.2222222222222222,
              "#7201a8"
             ],
             [
              0.3333333333333333,
              "#9c179e"
             ],
             [
              0.4444444444444444,
              "#bd3786"
             ],
             [
              0.5555555555555556,
              "#d8576b"
             ],
             [
              0.6666666666666666,
              "#ed7953"
             ],
             [
              0.7777777777777778,
              "#fb9f3a"
             ],
             [
              0.8888888888888888,
              "#fdca26"
             ],
             [
              1,
              "#f0f921"
             ]
            ],
            "type": "heatmap"
           }
          ],
          "heatmapgl": [
           {
            "colorbar": {
             "outlinewidth": 0,
             "ticks": ""
            },
            "colorscale": [
             [
              0,
              "#0d0887"
             ],
             [
              0.1111111111111111,
              "#46039f"
             ],
             [
              0.2222222222222222,
              "#7201a8"
             ],
             [
              0.3333333333333333,
              "#9c179e"
             ],
             [
              0.4444444444444444,
              "#bd3786"
             ],
             [
              0.5555555555555556,
              "#d8576b"
             ],
             [
              0.6666666666666666,
              "#ed7953"
             ],
             [
              0.7777777777777778,
              "#fb9f3a"
             ],
             [
              0.8888888888888888,
              "#fdca26"
             ],
             [
              1,
              "#f0f921"
             ]
            ],
            "type": "heatmapgl"
           }
          ],
          "histogram": [
           {
            "marker": {
             "pattern": {
              "fillmode": "overlay",
              "size": 10,
              "solidity": 0.2
             }
            },
            "type": "histogram"
           }
          ],
          "histogram2d": [
           {
            "colorbar": {
             "outlinewidth": 0,
             "ticks": ""
            },
            "colorscale": [
             [
              0,
              "#0d0887"
             ],
             [
              0.1111111111111111,
              "#46039f"
             ],
             [
              0.2222222222222222,
              "#7201a8"
             ],
             [
              0.3333333333333333,
              "#9c179e"
             ],
             [
              0.4444444444444444,
              "#bd3786"
             ],
             [
              0.5555555555555556,
              "#d8576b"
             ],
             [
              0.6666666666666666,
              "#ed7953"
             ],
             [
              0.7777777777777778,
              "#fb9f3a"
             ],
             [
              0.8888888888888888,
              "#fdca26"
             ],
             [
              1,
              "#f0f921"
             ]
            ],
            "type": "histogram2d"
           }
          ],
          "histogram2dcontour": [
           {
            "colorbar": {
             "outlinewidth": 0,
             "ticks": ""
            },
            "colorscale": [
             [
              0,
              "#0d0887"
             ],
             [
              0.1111111111111111,
              "#46039f"
             ],
             [
              0.2222222222222222,
              "#7201a8"
             ],
             [
              0.3333333333333333,
              "#9c179e"
             ],
             [
              0.4444444444444444,
              "#bd3786"
             ],
             [
              0.5555555555555556,
              "#d8576b"
             ],
             [
              0.6666666666666666,
              "#ed7953"
             ],
             [
              0.7777777777777778,
              "#fb9f3a"
             ],
             [
              0.8888888888888888,
              "#fdca26"
             ],
             [
              1,
              "#f0f921"
             ]
            ],
            "type": "histogram2dcontour"
           }
          ],
          "mesh3d": [
           {
            "colorbar": {
             "outlinewidth": 0,
             "ticks": ""
            },
            "type": "mesh3d"
           }
          ],
          "parcoords": [
           {
            "line": {
             "colorbar": {
              "outlinewidth": 0,
              "ticks": ""
             }
            },
            "type": "parcoords"
           }
          ],
          "pie": [
           {
            "automargin": true,
            "type": "pie"
           }
          ],
          "scatter": [
           {
            "fillpattern": {
             "fillmode": "overlay",
             "size": 10,
             "solidity": 0.2
            },
            "type": "scatter"
           }
          ],
          "scatter3d": [
           {
            "line": {
             "colorbar": {
              "outlinewidth": 0,
              "ticks": ""
             }
            },
            "marker": {
             "colorbar": {
              "outlinewidth": 0,
              "ticks": ""
             }
            },
            "type": "scatter3d"
           }
          ],
          "scattercarpet": [
           {
            "marker": {
             "colorbar": {
              "outlinewidth": 0,
              "ticks": ""
             }
            },
            "type": "scattercarpet"
           }
          ],
          "scattergeo": [
           {
            "marker": {
             "colorbar": {
              "outlinewidth": 0,
              "ticks": ""
             }
            },
            "type": "scattergeo"
           }
          ],
          "scattergl": [
           {
            "marker": {
             "colorbar": {
              "outlinewidth": 0,
              "ticks": ""
             }
            },
            "type": "scattergl"
           }
          ],
          "scattermapbox": [
           {
            "marker": {
             "colorbar": {
              "outlinewidth": 0,
              "ticks": ""
             }
            },
            "type": "scattermapbox"
           }
          ],
          "scatterpolar": [
           {
            "marker": {
             "colorbar": {
              "outlinewidth": 0,
              "ticks": ""
             }
            },
            "type": "scatterpolar"
           }
          ],
          "scatterpolargl": [
           {
            "marker": {
             "colorbar": {
              "outlinewidth": 0,
              "ticks": ""
             }
            },
            "type": "scatterpolargl"
           }
          ],
          "scatterternary": [
           {
            "marker": {
             "colorbar": {
              "outlinewidth": 0,
              "ticks": ""
             }
            },
            "type": "scatterternary"
           }
          ],
          "surface": [
           {
            "colorbar": {
             "outlinewidth": 0,
             "ticks": ""
            },
            "colorscale": [
             [
              0,
              "#0d0887"
             ],
             [
              0.1111111111111111,
              "#46039f"
             ],
             [
              0.2222222222222222,
              "#7201a8"
             ],
             [
              0.3333333333333333,
              "#9c179e"
             ],
             [
              0.4444444444444444,
              "#bd3786"
             ],
             [
              0.5555555555555556,
              "#d8576b"
             ],
             [
              0.6666666666666666,
              "#ed7953"
             ],
             [
              0.7777777777777778,
              "#fb9f3a"
             ],
             [
              0.8888888888888888,
              "#fdca26"
             ],
             [
              1,
              "#f0f921"
             ]
            ],
            "type": "surface"
           }
          ],
          "table": [
           {
            "cells": {
             "fill": {
              "color": "#EBF0F8"
             },
             "line": {
              "color": "white"
             }
            },
            "header": {
             "fill": {
              "color": "#C8D4E3"
             },
             "line": {
              "color": "white"
             }
            },
            "type": "table"
           }
          ]
         },
         "layout": {
          "annotationdefaults": {
           "arrowcolor": "#2a3f5f",
           "arrowhead": 0,
           "arrowwidth": 1
          },
          "autotypenumbers": "strict",
          "coloraxis": {
           "colorbar": {
            "outlinewidth": 0,
            "ticks": ""
           }
          },
          "colorscale": {
           "diverging": [
            [
             0,
             "#8e0152"
            ],
            [
             0.1,
             "#c51b7d"
            ],
            [
             0.2,
             "#de77ae"
            ],
            [
             0.3,
             "#f1b6da"
            ],
            [
             0.4,
             "#fde0ef"
            ],
            [
             0.5,
             "#f7f7f7"
            ],
            [
             0.6,
             "#e6f5d0"
            ],
            [
             0.7,
             "#b8e186"
            ],
            [
             0.8,
             "#7fbc41"
            ],
            [
             0.9,
             "#4d9221"
            ],
            [
             1,
             "#276419"
            ]
           ],
           "sequential": [
            [
             0,
             "#0d0887"
            ],
            [
             0.1111111111111111,
             "#46039f"
            ],
            [
             0.2222222222222222,
             "#7201a8"
            ],
            [
             0.3333333333333333,
             "#9c179e"
            ],
            [
             0.4444444444444444,
             "#bd3786"
            ],
            [
             0.5555555555555556,
             "#d8576b"
            ],
            [
             0.6666666666666666,
             "#ed7953"
            ],
            [
             0.7777777777777778,
             "#fb9f3a"
            ],
            [
             0.8888888888888888,
             "#fdca26"
            ],
            [
             1,
             "#f0f921"
            ]
           ],
           "sequentialminus": [
            [
             0,
             "#0d0887"
            ],
            [
             0.1111111111111111,
             "#46039f"
            ],
            [
             0.2222222222222222,
             "#7201a8"
            ],
            [
             0.3333333333333333,
             "#9c179e"
            ],
            [
             0.4444444444444444,
             "#bd3786"
            ],
            [
             0.5555555555555556,
             "#d8576b"
            ],
            [
             0.6666666666666666,
             "#ed7953"
            ],
            [
             0.7777777777777778,
             "#fb9f3a"
            ],
            [
             0.8888888888888888,
             "#fdca26"
            ],
            [
             1,
             "#f0f921"
            ]
           ]
          },
          "colorway": [
           "#636efa",
           "#EF553B",
           "#00cc96",
           "#ab63fa",
           "#FFA15A",
           "#19d3f3",
           "#FF6692",
           "#B6E880",
           "#FF97FF",
           "#FECB52"
          ],
          "font": {
           "color": "#2a3f5f"
          },
          "geo": {
           "bgcolor": "white",
           "lakecolor": "white",
           "landcolor": "#E5ECF6",
           "showlakes": true,
           "showland": true,
           "subunitcolor": "white"
          },
          "hoverlabel": {
           "align": "left"
          },
          "hovermode": "closest",
          "mapbox": {
           "style": "light"
          },
          "paper_bgcolor": "white",
          "plot_bgcolor": "#E5ECF6",
          "polar": {
           "angularaxis": {
            "gridcolor": "white",
            "linecolor": "white",
            "ticks": ""
           },
           "bgcolor": "#E5ECF6",
           "radialaxis": {
            "gridcolor": "white",
            "linecolor": "white",
            "ticks": ""
           }
          },
          "scene": {
           "xaxis": {
            "backgroundcolor": "#E5ECF6",
            "gridcolor": "white",
            "gridwidth": 2,
            "linecolor": "white",
            "showbackground": true,
            "ticks": "",
            "zerolinecolor": "white"
           },
           "yaxis": {
            "backgroundcolor": "#E5ECF6",
            "gridcolor": "white",
            "gridwidth": 2,
            "linecolor": "white",
            "showbackground": true,
            "ticks": "",
            "zerolinecolor": "white"
           },
           "zaxis": {
            "backgroundcolor": "#E5ECF6",
            "gridcolor": "white",
            "gridwidth": 2,
            "linecolor": "white",
            "showbackground": true,
            "ticks": "",
            "zerolinecolor": "white"
           }
          },
          "shapedefaults": {
           "line": {
            "color": "#2a3f5f"
           }
          },
          "ternary": {
           "aaxis": {
            "gridcolor": "white",
            "linecolor": "white",
            "ticks": ""
           },
           "baxis": {
            "gridcolor": "white",
            "linecolor": "white",
            "ticks": ""
           },
           "bgcolor": "#E5ECF6",
           "caxis": {
            "gridcolor": "white",
            "linecolor": "white",
            "ticks": ""
           }
          },
          "title": {
           "x": 0.05
          },
          "xaxis": {
           "automargin": true,
           "gridcolor": "white",
           "linecolor": "white",
           "ticks": "",
           "title": {
            "standoff": 15
           },
           "zerolinecolor": "white",
           "zerolinewidth": 2
          },
          "yaxis": {
           "automargin": true,
           "gridcolor": "white",
           "linecolor": "white",
           "ticks": "",
           "title": {
            "standoff": 15
           },
           "zerolinecolor": "white",
           "zerolinewidth": 2
          }
         }
        },
        "xaxis": {
         "anchor": "y",
         "domain": [
          0,
          1
         ],
         "title": {
          "text": "Happiness score"
         }
        },
        "yaxis": {
         "anchor": "x",
         "domain": [
          0,
          1
         ],
         "title": {
          "text": "count"
         }
        }
       }
      }
     },
     "metadata": {},
     "output_type": "display_data"
    }
   ],
   "source": [
    "fig3 = px.histogram(df2, 'Happiness score', color='Continent', )\n",
    "fig3.show()"
   ]
  },
  {
   "cell_type": "code",
   "execution_count": null,
   "metadata": {},
   "outputs": [
    {
     "data": {
      "application/vnd.plotly.v1+json": {
       "config": {
        "plotlyServerURL": "https://plot.ly"
       },
       "data": [
        {
         "hovertemplate": "variable=Explained by: GDP per capita<br>Happiness score=%{x}<br>value=%{y}<extra></extra>",
         "legendgroup": "Explained by: GDP per capita",
         "line": {
          "color": "#636efa",
          "dash": "solid"
         },
         "marker": {
          "symbol": "circle"
         },
         "mode": "lines",
         "name": "Explained by: GDP per capita",
         "orientation": "v",
         "showlegend": true,
         "type": "scatter",
         "x": [
          7821,
          7636,
          7557,
          7512,
          7415,
          7404,
          7384,
          7365,
          7364,
          7200,
          7163,
          7162,
          7041,
          7034,
          7025,
          6977,
          6943,
          6920,
          6805,
          6687,
          6647,
          6630,
          6582,
          6576,
          6523,
          6512,
          6480,
          6477,
          6476,
          6474,
          6467,
          6455,
          6447,
          6446,
          6391,
          6341,
          6309,
          6293,
          6262,
          6234,
          6221,
          6180,
          6178,
          6172,
          6165,
          6128,
          6125,
          6123,
          6120,
          6106,
          6086,
          6071,
          6063,
          6039,
          6022,
          6016,
          5967,
          5948,
          5935,
          5904,
          5891,
          5857,
          5850,
          5828,
          5821,
          5781,
          5768,
          5761,
          5737,
          5711,
          5600,
          5585,
          5578,
          5559,
          5547,
          5533,
          5485,
          5474,
          5467,
          5459,
          5425,
          5399,
          5377,
          5377,
          5371,
          5330,
          5240,
          5235,
          5199,
          5199,
          5194,
          5173,
          5164,
          5155,
          5140,
          5122,
          5122,
          5084,
          5075,
          5060,
          5048,
          5048,
          5046,
          5003,
          4973,
          4958,
          4941,
          4925,
          4891,
          4888,
          4872,
          4744,
          4670,
          4640,
          4623,
          4609,
          4603,
          4552,
          4543,
          4516,
          4516,
          4483,
          4479,
          4459,
          4396,
          4394,
          4362,
          4339,
          4288,
          4251,
          4241,
          4197,
          4153,
          4152,
          4112,
          3777,
          3760,
          3750,
          3702,
          3574,
          3512,
          3471,
          3268,
          2995,
          2955,
          2404
         ],
         "xaxis": "x",
         "y": [
          1892,
          1953,
          1936,
          2026,
          1945,
          2209,
          1920,
          1997,
          1826,
          1852,
          1931,
          1900,
          2129,
          1924,
          1886,
          1982,
          1867,
          1815,
          1907,
          1863,
          1854,
          1810,
          1584,
          1998,
          1870,
          1897,
          2149,
          1719,
          1808,
          1615,
          1834,
          1362,
          1838,
          1804,
          1736,
          1793,
          1715,
          1462,
          1274,
          1668,
          1815,
          1732,
          1550,
          1651,
          1105,
          1552,
          1705,
          1758,
          1265,
          1904,
          1748,
          1591,
          1219,
          1835,
          1111,
          1760,
          1592,
          1703,
          1851,
          1268,
          1535,
          1417,
          1296,
          1069,
          1562,
          1452,
          1468,
          1393,
          1538,
          1689,
          1256,
          1508,
          1409,
          1397,
          1573,
          1352,
          1252,
          1484,
          1815,
          1685,
          1957,
          1434,
          966,
          984,
          1625,
          1476,
          1382,
          1094,
          1505,
          1439,
          1425,
          1458,
          785,
          1060,
          1239,
          1363,
          636,
          1411,
          950,
          1208,
          578,
          968,
          933,
          570,
          1467,
          1459,
          1289,
          0,
          848,
          1410,
          1112,
          1707,
          779,
          1019,
          932,
          899,
          777,
          1079,
          1032,
          1350,
          1049,
          1148,
          792,
          1292,
          1274,
          1038,
          1415,
          670,
          1388,
          662,
          788,
          691,
          1100,
          1324,
          771,
          1167,
          930,
          648,
          848,
          686,
          839,
          1503,
          785,
          947,
          1392,
          758
         ],
         "yaxis": "y"
        },
        {
         "hovertemplate": "variable=Explained by: Social support<br>Happiness score=%{x}<br>value=%{y}<extra></extra>",
         "legendgroup": "Explained by: Social support",
         "line": {
          "color": "#EF553B",
          "dash": "solid"
         },
         "marker": {
          "symbol": "circle"
         },
         "mode": "lines",
         "name": "Explained by: Social support",
         "orientation": "v",
         "showlegend": true,
         "type": "scatter",
         "x": [
          7821,
          7636,
          7557,
          7512,
          7415,
          7404,
          7384,
          7365,
          7364,
          7200,
          7163,
          7162,
          7041,
          7034,
          7025,
          6977,
          6943,
          6920,
          6805,
          6687,
          6647,
          6630,
          6582,
          6576,
          6523,
          6512,
          6480,
          6477,
          6476,
          6474,
          6467,
          6455,
          6447,
          6446,
          6391,
          6341,
          6309,
          6293,
          6262,
          6234,
          6221,
          6180,
          6178,
          6172,
          6165,
          6128,
          6125,
          6123,
          6120,
          6106,
          6086,
          6071,
          6063,
          6039,
          6022,
          6016,
          5967,
          5948,
          5935,
          5904,
          5891,
          5857,
          5850,
          5828,
          5821,
          5781,
          5768,
          5761,
          5737,
          5711,
          5600,
          5585,
          5578,
          5559,
          5547,
          5533,
          5485,
          5474,
          5467,
          5459,
          5425,
          5399,
          5377,
          5377,
          5371,
          5330,
          5240,
          5235,
          5199,
          5199,
          5194,
          5173,
          5164,
          5155,
          5140,
          5122,
          5122,
          5084,
          5075,
          5060,
          5048,
          5048,
          5046,
          5003,
          4973,
          4958,
          4941,
          4925,
          4891,
          4888,
          4872,
          4744,
          4670,
          4640,
          4623,
          4609,
          4603,
          4552,
          4543,
          4516,
          4516,
          4483,
          4479,
          4459,
          4396,
          4394,
          4362,
          4339,
          4288,
          4251,
          4241,
          4197,
          4153,
          4152,
          4112,
          3777,
          3760,
          3750,
          3702,
          3574,
          3512,
          3471,
          3268,
          2995,
          2955,
          2404
         ],
         "xaxis": "x",
         "y": [
          1258,
          1243,
          1320,
          1226,
          1206,
          1155,
          1204,
          1239,
          1221,
          1235,
          1165,
          1203,
          1166,
          1088,
          1188,
          1182,
          1143,
          1260,
          1106,
          1219,
          1029,
          1249,
          1054,
          980,
          1092,
          1095,
          1127,
          1006,
          1211,
          1180,
          1052,
          949,
          1169,
          1204,
          1232,
          1232,
          1107,
          1044,
          831,
          1220,
          909,
          1221,
          1086,
          1080,
          1029,
          886,
          1183,
          1174,
          768,
          983,
          1233,
          1116,
          1092,
          1089,
          885,
          1078,
          1102,
          980,
          886,
          912,
          1096,
          1008,
          1045,
          1109,
          1157,
          929,
          1068,
          1197,
          1003,
          938,
          880,
          958,
          1130,
          865,
          1023,
          879,
          932,
          1319,
          888,
          1095,
          954,
          820,
          1005,
          784,
          1163,
          943,
          883,
          442,
          863,
          646,
          1088,
          1093,
          621,
          614,
          654,
          970,
          670,
          1081,
          405,
          268,
          660,
          672,
          530,
          560,
          612,
          738,
          682,
          968,
          566,
          741,
          595,
          865,
          565,
          732,
          64,
          476,
          875,
          732,
          605,
          596,
          413,
          957,
          483,
          877,
          786,
          829,
          934,
          645,
          732,
          506,
          809,
          1043,
          865,
          724,
          322,
          376,
          577,
          279,
          597,
          416,
          848,
          815,
          133,
          690,
          498,
          0
         ],
         "yaxis": "y"
        },
        {
         "hovertemplate": "variable=Explained by: Healthy life expectancy<br>Happiness score=%{x}<br>value=%{y}<extra></extra>",
         "legendgroup": "Explained by: Healthy life expectancy",
         "line": {
          "color": "#00cc96",
          "dash": "solid"
         },
         "marker": {
          "symbol": "circle"
         },
         "mode": "lines",
         "name": "Explained by: Healthy life expectancy",
         "orientation": "v",
         "showlegend": true,
         "type": "scatter",
         "x": [
          7821,
          7636,
          7557,
          7512,
          7415,
          7404,
          7384,
          7365,
          7364,
          7200,
          7163,
          7162,
          7041,
          7034,
          7025,
          6977,
          6943,
          6920,
          6805,
          6687,
          6647,
          6630,
          6582,
          6576,
          6523,
          6512,
          6480,
          6477,
          6476,
          6474,
          6467,
          6455,
          6447,
          6446,
          6391,
          6341,
          6309,
          6293,
          6262,
          6234,
          6221,
          6180,
          6178,
          6172,
          6165,
          6128,
          6125,
          6123,
          6120,
          6106,
          6086,
          6071,
          6063,
          6039,
          6022,
          6016,
          5967,
          5948,
          5935,
          5904,
          5891,
          5857,
          5850,
          5828,
          5821,
          5781,
          5768,
          5761,
          5737,
          5711,
          5600,
          5585,
          5578,
          5559,
          5547,
          5533,
          5485,
          5474,
          5467,
          5459,
          5425,
          5399,
          5377,
          5377,
          5371,
          5330,
          5240,
          5235,
          5199,
          5199,
          5194,
          5173,
          5164,
          5155,
          5140,
          5122,
          5122,
          5084,
          5075,
          5060,
          5048,
          5048,
          5046,
          5003,
          4973,
          4958,
          4941,
          4925,
          4891,
          4888,
          4872,
          4744,
          4670,
          4640,
          4623,
          4609,
          4603,
          4552,
          4543,
          4516,
          4516,
          4483,
          4479,
          4459,
          4396,
          4394,
          4362,
          4339,
          4288,
          4251,
          4241,
          4197,
          4153,
          4152,
          4112,
          3777,
          3760,
          3750,
          3702,
          3574,
          3512,
          3471,
          3268,
          2995,
          2955,
          2404
         ],
         "xaxis": "x",
         "y": [
          775,
          777,
          803,
          822,
          787,
          790,
          803,
          786,
          818,
          752,
          774,
          772,
          779,
          776,
          783,
          628,
          750,
          715,
          764,
          808,
          625,
          769,
          744,
          633,
          577,
          733,
          851,
          655,
          808,
          672,
          801,
          569,
          789,
          659,
          707,
          728,
          709,
          615,
          522,
          611,
          819,
          637,
          658,
          748,
          617,
          623,
          709,
          712,
          607,
          747,
          668,
          568,
          600,
          866,
          555,
          777,
          662,
          774,
          841,
          514,
          697,
          597,
          646,
          638,
          629,
          720,
          665,
          467,
          577,
          620,
          555,
          705,
          624,
          735,
          659,
          708,
          611,
          516,
          819,
          586,
          942,
          668,
          518,
          499,
          640,
          606,
          539,
          322,
          637,
          719,
          361,
          560,
          369,
          581,
          479,
          643,
          309,
          583,
          355,
          565,
          191,
          317,
          447,
          326,
          595,
          396,
          554,
          578,
          275,
          642,
          409,
          702,
          320,
          505,
          335,
          424,
          418,
          300,
          401,
          656,
          374,
          521,
          311,
          354,
          197,
          491,
          660,
          378,
          548,
          225,
          457,
          384,
          450,
          675,
          360,
          471,
          306,
          388,
          425,
          273,
          0,
          280,
          462,
          270,
          631,
          289
         ],
         "yaxis": "y"
        },
        {
         "hovertemplate": "variable=Explained by: Freedom to make life choices<br>Happiness score=%{x}<br>value=%{y}<extra></extra>",
         "legendgroup": "Explained by: Freedom to make life choices",
         "line": {
          "color": "#ab63fa",
          "dash": "solid"
         },
         "marker": {
          "symbol": "circle"
         },
         "mode": "lines",
         "name": "Explained by: Freedom to make life choices",
         "orientation": "v",
         "showlegend": true,
         "type": "scatter",
         "x": [
          7821,
          7636,
          7557,
          7512,
          7415,
          7404,
          7384,
          7365,
          7364,
          7200,
          7163,
          7162,
          7041,
          7034,
          7025,
          6977,
          6943,
          6920,
          6805,
          6687,
          6647,
          6630,
          6582,
          6576,
          6523,
          6512,
          6480,
          6477,
          6476,
          6474,
          6467,
          6455,
          6447,
          6446,
          6391,
          6341,
          6309,
          6293,
          6262,
          6234,
          6221,
          6180,
          6178,
          6172,
          6165,
          6128,
          6125,
          6123,
          6120,
          6106,
          6086,
          6071,
          6063,
          6039,
          6022,
          6016,
          5967,
          5948,
          5935,
          5904,
          5891,
          5857,
          5850,
          5828,
          5821,
          5781,
          5768,
          5761,
          5737,
          5711,
          5600,
          5585,
          5578,
          5559,
          5547,
          5533,
          5485,
          5474,
          5467,
          5459,
          5425,
          5399,
          5377,
          5377,
          5371,
          5330,
          5240,
          5235,
          5199,
          5199,
          5194,
          5173,
          5164,
          5155,
          5140,
          5122,
          5122,
          5084,
          5075,
          5060,
          5048,
          5048,
          5046,
          5003,
          4973,
          4958,
          4941,
          4925,
          4891,
          4888,
          4872,
          4744,
          4670,
          4640,
          4623,
          4609,
          4603,
          4552,
          4543,
          4516,
          4516,
          4483,
          4479,
          4459,
          4396,
          4394,
          4362,
          4339,
          4288,
          4251,
          4241,
          4197,
          4153,
          4152,
          4112,
          3777,
          3760,
          3750,
          3702,
          3574,
          3512,
          3471,
          3268,
          2995,
          2955,
          2404
         ],
         "xaxis": "x",
         "y": [
          736,
          719,
          718,
          677,
          651,
          700,
          724,
          728,
          568,
          680,
          623,
          676,
          627,
          585,
          659,
          574,
          597,
          660,
          492,
          567,
          693,
          685,
          661,
          702,
          651,
          542,
          672,
          605,
          505,
          665,
          412,
          599,
          679,
          496,
          479,
          689,
          592,
          546,
          662,
          584,
          448,
          502,
          546,
          460,
          617,
          621,
          535,
          523,
          666,
          617,
          485,
          589,
          716,
          537,
          582,
          655,
          555,
          249,
          414,
          678,
          617,
          561,
          567,
          693,
          342,
          545,
          448,
          398,
          606,
          654,
          627,
          656,
          629,
          545,
          460,
          565,
          707,
          649,
          523,
          401,
          400,
          558,
          572,
          519,
          563,
          477,
          620,
          451,
          488,
          511,
          442,
          601,
          367,
          622,
          679,
          146,
          405,
          473,
          431,
          492,
          593,
          397,
          494,
          571,
          508,
          343,
          328,
          283,
          334,
          281,
          500,
          209,
          382,
          740,
          479,
          185,
          402,
          444,
          440,
          316,
          448,
          336,
          350,
          384,
          259,
          513,
          529,
          202,
          469,
          180,
          472,
          330,
          304,
          476,
          292,
          647,
          525,
          477,
          578,
          387,
          419,
          571,
          621,
          329,
          103,
          0
         ],
         "yaxis": "y"
        },
        {
         "hovertemplate": "variable=Explained by: Generosity<br>Happiness score=%{x}<br>value=%{y}<extra></extra>",
         "legendgroup": "Explained by: Generosity",
         "line": {
          "color": "#FFA15A",
          "dash": "solid"
         },
         "marker": {
          "symbol": "circle"
         },
         "mode": "lines",
         "name": "Explained by: Generosity",
         "orientation": "v",
         "showlegend": true,
         "type": "scatter",
         "x": [
          7821,
          7636,
          7557,
          7512,
          7415,
          7404,
          7384,
          7365,
          7364,
          7200,
          7163,
          7162,
          7041,
          7034,
          7025,
          6977,
          6943,
          6920,
          6805,
          6687,
          6647,
          6630,
          6582,
          6576,
          6523,
          6512,
          6480,
          6477,
          6476,
          6474,
          6467,
          6455,
          6447,
          6446,
          6391,
          6341,
          6309,
          6293,
          6262,
          6234,
          6221,
          6180,
          6178,
          6172,
          6165,
          6128,
          6125,
          6123,
          6120,
          6106,
          6086,
          6071,
          6063,
          6039,
          6022,
          6016,
          5967,
          5948,
          5935,
          5904,
          5891,
          5857,
          5850,
          5828,
          5821,
          5781,
          5768,
          5761,
          5737,
          5711,
          5600,
          5585,
          5578,
          5559,
          5547,
          5533,
          5485,
          5474,
          5467,
          5459,
          5425,
          5399,
          5377,
          5377,
          5371,
          5330,
          5240,
          5235,
          5199,
          5199,
          5194,
          5173,
          5164,
          5155,
          5140,
          5122,
          5122,
          5084,
          5075,
          5060,
          5048,
          5048,
          5046,
          5003,
          4973,
          4958,
          4941,
          4925,
          4891,
          4888,
          4872,
          4744,
          4670,
          4640,
          4623,
          4609,
          4603,
          4552,
          4543,
          4516,
          4516,
          4483,
          4479,
          4459,
          4396,
          4394,
          4362,
          4339,
          4288,
          4251,
          4241,
          4197,
          4153,
          4152,
          4112,
          3777,
          3760,
          3750,
          3702,
          3574,
          3512,
          3471,
          3268,
          2995,
          2955,
          2404
         ],
         "xaxis": "x",
         "y": [
          109,
          188,
          270,
          147,
          271,
          120,
          218,
          217,
          155,
          245,
          193,
          258,
          190,
          163,
          217,
          220,
          289,
          158,
          49,
          70,
          199,
          118,
          89,
          204,
          78,
          75,
          163,
          39,
          101,
          103,
          85,
          309,
          174,
          53,
          118,
          123,
          49,
          131,
          112,
          134,
          123,
          75,
          219,
          124,
          168,
          92,
          109,
          124,
          89,
          87,
          78,
          131,
          283,
          7,
          202,
          16,
          81,
          15,
          111,
          107,
          321,
          102,
          80,
          208,
          40,
          87,
          244,
          247,
          84,
          213,
          112,
          99,
          171,
          90,
          135,
          80,
          143,
          314,
          130,
          117,
          147,
          54,
          118,
          237,
          123,
          106,
          468,
          149,
          215,
          138,
          89,
          23,
          388,
          125,
          197,
          106,
          178,
          188,
          130,
          20,
          185,
          152,
          143,
          165,
          0,
          32,
          147,
          225,
          214,
          241,
          230,
          87,
          186,
          166,
          127,
          195,
          222,
          175,
          322,
          29,
          181,
          73,
          128,
          67,
          38,
          452,
          150,
          143,
          41,
          182,
          205,
          90,
          88,
          58,
          174,
          198,
          203,
          140,
          248,
          202,
          76,
          12,
          187,
          106,
          82,
          89
         ],
         "yaxis": "y"
        },
        {
         "hovertemplate": "variable=Explained by: Perceptions of corruption<br>Happiness score=%{x}<br>value=%{y}<extra></extra>",
         "legendgroup": "Explained by: Perceptions of corruption",
         "line": {
          "color": "#19d3f3",
          "dash": "solid"
         },
         "marker": {
          "symbol": "circle"
         },
         "mode": "lines",
         "name": "Explained by: Perceptions of corruption",
         "orientation": "v",
         "showlegend": true,
         "type": "scatter",
         "x": [
          7821,
          7636,
          7557,
          7512,
          7415,
          7404,
          7384,
          7365,
          7364,
          7200,
          7163,
          7162,
          7041,
          7034,
          7025,
          6977,
          6943,
          6920,
          6805,
          6687,
          6647,
          6630,
          6582,
          6576,
          6523,
          6512,
          6480,
          6477,
          6476,
          6474,
          6467,
          6455,
          6447,
          6446,
          6391,
          6341,
          6309,
          6293,
          6262,
          6234,
          6221,
          6180,
          6178,
          6172,
          6165,
          6128,
          6125,
          6123,
          6120,
          6106,
          6086,
          6071,
          6063,
          6039,
          6022,
          6016,
          5967,
          5948,
          5935,
          5904,
          5891,
          5857,
          5850,
          5828,
          5821,
          5781,
          5768,
          5761,
          5737,
          5711,
          5600,
          5585,
          5578,
          5559,
          5547,
          5533,
          5485,
          5474,
          5467,
          5459,
          5425,
          5399,
          5377,
          5377,
          5371,
          5330,
          5240,
          5235,
          5199,
          5199,
          5194,
          5173,
          5164,
          5155,
          5140,
          5122,
          5122,
          5084,
          5075,
          5060,
          5048,
          5048,
          5046,
          5003,
          4973,
          4958,
          4941,
          4925,
          4891,
          4888,
          4872,
          4744,
          4670,
          4640,
          4623,
          4609,
          4603,
          4552,
          4543,
          4516,
          4516,
          4483,
          4479,
          4459,
          4396,
          4394,
          4362,
          4339,
          4288,
          4251,
          4241,
          4197,
          4153,
          4152,
          4112,
          3777,
          3760,
          3750,
          3702,
          3574,
          3512,
          3471,
          3268,
          2995,
          2955,
          2404
         ],
         "xaxis": "x",
         "y": [
          534,
          532,
          191,
          461,
          419,
          388,
          512,
          474,
          143,
          483,
          329,
          341,
          408,
          358,
          368,
          177,
          329,
          48,
          204,
          266,
          155,
          115,
          102,
          250,
          180,
          168,
          587,
          6,
          149,
          265,
          59,
          35,
          166,
          77,
          25,
          333,
          51,
          134,
          115,
          157,
          62,
          90,
          88,
          69,
          212,
          115,
          0,
          140,
          212,
          147,
          64,
          107,
          240,
          218,
          76,
          39,
          85,
          108,
          176,
          142,
          26,
          28,
          53,
          25,
          282,
          77,
          6,
          59,
          179,
          126,
          64,
          142,
          59,
          37,
          77,
          83,
          105,
          32,
          213,
          80,
          383,
          210,
          304,
          130,
          21,
          179,
          47,
          124,
          31,
          28,
          46,
          341,
          103,
          187,
          184,
          150,
          80,
          17,
          146,
          102,
          200,
          74,
          81,
          145,
          208,
          99,
          46,
          82,
          116,
          146,
          56,
          115,
          126,
          68,
          230,
          125,
          66,
          38,
          82,
          29,
          112,
          79,
          42,
          71,
          154,
          194,
          79,
          154,
          254,
          77,
          136,
          98,
          138,
          200,
          132,
          123,
          83,
          157,
          270,
          55,
          18,
          102,
          544,
          105,
          34,
          5
         ],
         "yaxis": "y"
        }
       ],
       "layout": {
        "legend": {
         "title": {
          "text": "variable"
         },
         "tracegroupgap": 0
        },
        "margin": {
         "t": 60
        },
        "template": {
         "data": {
          "bar": [
           {
            "error_x": {
             "color": "#2a3f5f"
            },
            "error_y": {
             "color": "#2a3f5f"
            },
            "marker": {
             "line": {
              "color": "#E5ECF6",
              "width": 0.5
             },
             "pattern": {
              "fillmode": "overlay",
              "size": 10,
              "solidity": 0.2
             }
            },
            "type": "bar"
           }
          ],
          "barpolar": [
           {
            "marker": {
             "line": {
              "color": "#E5ECF6",
              "width": 0.5
             },
             "pattern": {
              "fillmode": "overlay",
              "size": 10,
              "solidity": 0.2
             }
            },
            "type": "barpolar"
           }
          ],
          "carpet": [
           {
            "aaxis": {
             "endlinecolor": "#2a3f5f",
             "gridcolor": "white",
             "linecolor": "white",
             "minorgridcolor": "white",
             "startlinecolor": "#2a3f5f"
            },
            "baxis": {
             "endlinecolor": "#2a3f5f",
             "gridcolor": "white",
             "linecolor": "white",
             "minorgridcolor": "white",
             "startlinecolor": "#2a3f5f"
            },
            "type": "carpet"
           }
          ],
          "choropleth": [
           {
            "colorbar": {
             "outlinewidth": 0,
             "ticks": ""
            },
            "type": "choropleth"
           }
          ],
          "contour": [
           {
            "colorbar": {
             "outlinewidth": 0,
             "ticks": ""
            },
            "colorscale": [
             [
              0,
              "#0d0887"
             ],
             [
              0.1111111111111111,
              "#46039f"
             ],
             [
              0.2222222222222222,
              "#7201a8"
             ],
             [
              0.3333333333333333,
              "#9c179e"
             ],
             [
              0.4444444444444444,
              "#bd3786"
             ],
             [
              0.5555555555555556,
              "#d8576b"
             ],
             [
              0.6666666666666666,
              "#ed7953"
             ],
             [
              0.7777777777777778,
              "#fb9f3a"
             ],
             [
              0.8888888888888888,
              "#fdca26"
             ],
             [
              1,
              "#f0f921"
             ]
            ],
            "type": "contour"
           }
          ],
          "contourcarpet": [
           {
            "colorbar": {
             "outlinewidth": 0,
             "ticks": ""
            },
            "type": "contourcarpet"
           }
          ],
          "heatmap": [
           {
            "colorbar": {
             "outlinewidth": 0,
             "ticks": ""
            },
            "colorscale": [
             [
              0,
              "#0d0887"
             ],
             [
              0.1111111111111111,
              "#46039f"
             ],
             [
              0.2222222222222222,
              "#7201a8"
             ],
             [
              0.3333333333333333,
              "#9c179e"
             ],
             [
              0.4444444444444444,
              "#bd3786"
             ],
             [
              0.5555555555555556,
              "#d8576b"
             ],
             [
              0.6666666666666666,
              "#ed7953"
             ],
             [
              0.7777777777777778,
              "#fb9f3a"
             ],
             [
              0.8888888888888888,
              "#fdca26"
             ],
             [
              1,
              "#f0f921"
             ]
            ],
            "type": "heatmap"
           }
          ],
          "heatmapgl": [
           {
            "colorbar": {
             "outlinewidth": 0,
             "ticks": ""
            },
            "colorscale": [
             [
              0,
              "#0d0887"
             ],
             [
              0.1111111111111111,
              "#46039f"
             ],
             [
              0.2222222222222222,
              "#7201a8"
             ],
             [
              0.3333333333333333,
              "#9c179e"
             ],
             [
              0.4444444444444444,
              "#bd3786"
             ],
             [
              0.5555555555555556,
              "#d8576b"
             ],
             [
              0.6666666666666666,
              "#ed7953"
             ],
             [
              0.7777777777777778,
              "#fb9f3a"
             ],
             [
              0.8888888888888888,
              "#fdca26"
             ],
             [
              1,
              "#f0f921"
             ]
            ],
            "type": "heatmapgl"
           }
          ],
          "histogram": [
           {
            "marker": {
             "pattern": {
              "fillmode": "overlay",
              "size": 10,
              "solidity": 0.2
             }
            },
            "type": "histogram"
           }
          ],
          "histogram2d": [
           {
            "colorbar": {
             "outlinewidth": 0,
             "ticks": ""
            },
            "colorscale": [
             [
              0,
              "#0d0887"
             ],
             [
              0.1111111111111111,
              "#46039f"
             ],
             [
              0.2222222222222222,
              "#7201a8"
             ],
             [
              0.3333333333333333,
              "#9c179e"
             ],
             [
              0.4444444444444444,
              "#bd3786"
             ],
             [
              0.5555555555555556,
              "#d8576b"
             ],
             [
              0.6666666666666666,
              "#ed7953"
             ],
             [
              0.7777777777777778,
              "#fb9f3a"
             ],
             [
              0.8888888888888888,
              "#fdca26"
             ],
             [
              1,
              "#f0f921"
             ]
            ],
            "type": "histogram2d"
           }
          ],
          "histogram2dcontour": [
           {
            "colorbar": {
             "outlinewidth": 0,
             "ticks": ""
            },
            "colorscale": [
             [
              0,
              "#0d0887"
             ],
             [
              0.1111111111111111,
              "#46039f"
             ],
             [
              0.2222222222222222,
              "#7201a8"
             ],
             [
              0.3333333333333333,
              "#9c179e"
             ],
             [
              0.4444444444444444,
              "#bd3786"
             ],
             [
              0.5555555555555556,
              "#d8576b"
             ],
             [
              0.6666666666666666,
              "#ed7953"
             ],
             [
              0.7777777777777778,
              "#fb9f3a"
             ],
             [
              0.8888888888888888,
              "#fdca26"
             ],
             [
              1,
              "#f0f921"
             ]
            ],
            "type": "histogram2dcontour"
           }
          ],
          "mesh3d": [
           {
            "colorbar": {
             "outlinewidth": 0,
             "ticks": ""
            },
            "type": "mesh3d"
           }
          ],
          "parcoords": [
           {
            "line": {
             "colorbar": {
              "outlinewidth": 0,
              "ticks": ""
             }
            },
            "type": "parcoords"
           }
          ],
          "pie": [
           {
            "automargin": true,
            "type": "pie"
           }
          ],
          "scatter": [
           {
            "fillpattern": {
             "fillmode": "overlay",
             "size": 10,
             "solidity": 0.2
            },
            "type": "scatter"
           }
          ],
          "scatter3d": [
           {
            "line": {
             "colorbar": {
              "outlinewidth": 0,
              "ticks": ""
             }
            },
            "marker": {
             "colorbar": {
              "outlinewidth": 0,
              "ticks": ""
             }
            },
            "type": "scatter3d"
           }
          ],
          "scattercarpet": [
           {
            "marker": {
             "colorbar": {
              "outlinewidth": 0,
              "ticks": ""
             }
            },
            "type": "scattercarpet"
           }
          ],
          "scattergeo": [
           {
            "marker": {
             "colorbar": {
              "outlinewidth": 0,
              "ticks": ""
             }
            },
            "type": "scattergeo"
           }
          ],
          "scattergl": [
           {
            "marker": {
             "colorbar": {
              "outlinewidth": 0,
              "ticks": ""
             }
            },
            "type": "scattergl"
           }
          ],
          "scattermapbox": [
           {
            "marker": {
             "colorbar": {
              "outlinewidth": 0,
              "ticks": ""
             }
            },
            "type": "scattermapbox"
           }
          ],
          "scatterpolar": [
           {
            "marker": {
             "colorbar": {
              "outlinewidth": 0,
              "ticks": ""
             }
            },
            "type": "scatterpolar"
           }
          ],
          "scatterpolargl": [
           {
            "marker": {
             "colorbar": {
              "outlinewidth": 0,
              "ticks": ""
             }
            },
            "type": "scatterpolargl"
           }
          ],
          "scatterternary": [
           {
            "marker": {
             "colorbar": {
              "outlinewidth": 0,
              "ticks": ""
             }
            },
            "type": "scatterternary"
           }
          ],
          "surface": [
           {
            "colorbar": {
             "outlinewidth": 0,
             "ticks": ""
            },
            "colorscale": [
             [
              0,
              "#0d0887"
             ],
             [
              0.1111111111111111,
              "#46039f"
             ],
             [
              0.2222222222222222,
              "#7201a8"
             ],
             [
              0.3333333333333333,
              "#9c179e"
             ],
             [
              0.4444444444444444,
              "#bd3786"
             ],
             [
              0.5555555555555556,
              "#d8576b"
             ],
             [
              0.6666666666666666,
              "#ed7953"
             ],
             [
              0.7777777777777778,
              "#fb9f3a"
             ],
             [
              0.8888888888888888,
              "#fdca26"
             ],
             [
              1,
              "#f0f921"
             ]
            ],
            "type": "surface"
           }
          ],
          "table": [
           {
            "cells": {
             "fill": {
              "color": "#EBF0F8"
             },
             "line": {
              "color": "white"
             }
            },
            "header": {
             "fill": {
              "color": "#C8D4E3"
             },
             "line": {
              "color": "white"
             }
            },
            "type": "table"
           }
          ]
         },
         "layout": {
          "annotationdefaults": {
           "arrowcolor": "#2a3f5f",
           "arrowhead": 0,
           "arrowwidth": 1
          },
          "autotypenumbers": "strict",
          "coloraxis": {
           "colorbar": {
            "outlinewidth": 0,
            "ticks": ""
           }
          },
          "colorscale": {
           "diverging": [
            [
             0,
             "#8e0152"
            ],
            [
             0.1,
             "#c51b7d"
            ],
            [
             0.2,
             "#de77ae"
            ],
            [
             0.3,
             "#f1b6da"
            ],
            [
             0.4,
             "#fde0ef"
            ],
            [
             0.5,
             "#f7f7f7"
            ],
            [
             0.6,
             "#e6f5d0"
            ],
            [
             0.7,
             "#b8e186"
            ],
            [
             0.8,
             "#7fbc41"
            ],
            [
             0.9,
             "#4d9221"
            ],
            [
             1,
             "#276419"
            ]
           ],
           "sequential": [
            [
             0,
             "#0d0887"
            ],
            [
             0.1111111111111111,
             "#46039f"
            ],
            [
             0.2222222222222222,
             "#7201a8"
            ],
            [
             0.3333333333333333,
             "#9c179e"
            ],
            [
             0.4444444444444444,
             "#bd3786"
            ],
            [
             0.5555555555555556,
             "#d8576b"
            ],
            [
             0.6666666666666666,
             "#ed7953"
            ],
            [
             0.7777777777777778,
             "#fb9f3a"
            ],
            [
             0.8888888888888888,
             "#fdca26"
            ],
            [
             1,
             "#f0f921"
            ]
           ],
           "sequentialminus": [
            [
             0,
             "#0d0887"
            ],
            [
             0.1111111111111111,
             "#46039f"
            ],
            [
             0.2222222222222222,
             "#7201a8"
            ],
            [
             0.3333333333333333,
             "#9c179e"
            ],
            [
             0.4444444444444444,
             "#bd3786"
            ],
            [
             0.5555555555555556,
             "#d8576b"
            ],
            [
             0.6666666666666666,
             "#ed7953"
            ],
            [
             0.7777777777777778,
             "#fb9f3a"
            ],
            [
             0.8888888888888888,
             "#fdca26"
            ],
            [
             1,
             "#f0f921"
            ]
           ]
          },
          "colorway": [
           "#636efa",
           "#EF553B",
           "#00cc96",
           "#ab63fa",
           "#FFA15A",
           "#19d3f3",
           "#FF6692",
           "#B6E880",
           "#FF97FF",
           "#FECB52"
          ],
          "font": {
           "color": "#2a3f5f"
          },
          "geo": {
           "bgcolor": "white",
           "lakecolor": "white",
           "landcolor": "#E5ECF6",
           "showlakes": true,
           "showland": true,
           "subunitcolor": "white"
          },
          "hoverlabel": {
           "align": "left"
          },
          "hovermode": "closest",
          "mapbox": {
           "style": "light"
          },
          "paper_bgcolor": "white",
          "plot_bgcolor": "#E5ECF6",
          "polar": {
           "angularaxis": {
            "gridcolor": "white",
            "linecolor": "white",
            "ticks": ""
           },
           "bgcolor": "#E5ECF6",
           "radialaxis": {
            "gridcolor": "white",
            "linecolor": "white",
            "ticks": ""
           }
          },
          "scene": {
           "xaxis": {
            "backgroundcolor": "#E5ECF6",
            "gridcolor": "white",
            "gridwidth": 2,
            "linecolor": "white",
            "showbackground": true,
            "ticks": "",
            "zerolinecolor": "white"
           },
           "yaxis": {
            "backgroundcolor": "#E5ECF6",
            "gridcolor": "white",
            "gridwidth": 2,
            "linecolor": "white",
            "showbackground": true,
            "ticks": "",
            "zerolinecolor": "white"
           },
           "zaxis": {
            "backgroundcolor": "#E5ECF6",
            "gridcolor": "white",
            "gridwidth": 2,
            "linecolor": "white",
            "showbackground": true,
            "ticks": "",
            "zerolinecolor": "white"
           }
          },
          "shapedefaults": {
           "line": {
            "color": "#2a3f5f"
           }
          },
          "ternary": {
           "aaxis": {
            "gridcolor": "white",
            "linecolor": "white",
            "ticks": ""
           },
           "baxis": {
            "gridcolor": "white",
            "linecolor": "white",
            "ticks": ""
           },
           "bgcolor": "#E5ECF6",
           "caxis": {
            "gridcolor": "white",
            "linecolor": "white",
            "ticks": ""
           }
          },
          "title": {
           "x": 0.05
          },
          "xaxis": {
           "automargin": true,
           "gridcolor": "white",
           "linecolor": "white",
           "ticks": "",
           "title": {
            "standoff": 15
           },
           "zerolinecolor": "white",
           "zerolinewidth": 2
          },
          "yaxis": {
           "automargin": true,
           "gridcolor": "white",
           "linecolor": "white",
           "ticks": "",
           "title": {
            "standoff": 15
           },
           "zerolinecolor": "white",
           "zerolinewidth": 2
          }
         }
        },
        "xaxis": {
         "anchor": "y",
         "domain": [
          0,
          1
         ],
         "title": {
          "text": "Happiness score"
         }
        },
        "yaxis": {
         "anchor": "x",
         "domain": [
          0,
          1
         ],
         "title": {
          "text": "value"
         }
        }
       }
      }
     },
     "metadata": {},
     "output_type": "display_data"
    },
    {
     "data": {
      "text/plain": [
       "<Figure size 720x1440 with 0 Axes>"
      ]
     },
     "metadata": {},
     "output_type": "display_data"
    }
   ],
   "source": [
    "plt.figure(figsize=(10,20))\n",
    "fig4 = px.line(df2, 'Happiness score', ['Explained by: GDP per capita', 'Explained by: Social support', 'Explained by: Healthy life expectancy', 'Explained by: Freedom to make life choices', 'Explained by: Generosity', 'Explained by: Perceptions of corruption'])\n",
    "fig4.show()"
   ]
  },
  {
   "cell_type": "code",
   "execution_count": null,
   "metadata": {},
   "outputs": [
    {
     "data": {
      "application/vnd.plotly.v1+json": {
       "config": {
        "plotlyServerURL": "https://plot.ly"
       },
       "data": [
        {
         "alignmentgroup": "True",
         "hovertemplate": "Continent=%{x}<br>Happiness score=%{y}<br>Explained by: GDP per capita=%{marker.color}<extra></extra>",
         "legendgroup": "",
         "marker": {
          "color": [
           1892,
           1953,
           1936,
           2026,
           1945,
           2209,
           1920,
           1997,
           1826,
           1852,
           1931,
           1900,
           2129,
           1924,
           1886,
           1982,
           1867,
           1815,
           1907,
           1863,
           1854,
           1810,
           1584,
           1998,
           1870,
           1897,
           2149,
           1719,
           1808,
           1615,
           1834,
           1362,
           1838,
           1804,
           1736,
           1793,
           1715,
           1462,
           1274,
           1668,
           1815,
           1732,
           1550,
           1651,
           1105,
           1552,
           1705,
           1758,
           1265,
           1904,
           1748,
           1591,
           1219,
           1835,
           1111,
           1760,
           1592,
           1703,
           1851,
           1268,
           1535,
           1417,
           1296,
           1069,
           1562,
           1452,
           1468,
           1393,
           1538,
           1689,
           1256,
           1508,
           1409,
           1397,
           1573,
           1352,
           1252,
           1484,
           1815,
           1685,
           1957,
           1434,
           966,
           984,
           1625,
           1476,
           1382,
           1094,
           1505,
           1439,
           1425,
           1458,
           785,
           1060,
           1239,
           1363,
           636,
           1411,
           950,
           1208,
           578,
           968,
           933,
           570,
           1467,
           1459,
           1289,
           0,
           848,
           1410,
           1112,
           1707,
           779,
           1019,
           932,
           899,
           777,
           1079,
           1032,
           1350,
           1049,
           1148,
           792,
           1292,
           1274,
           1038,
           1415,
           670,
           1388,
           662,
           788,
           691,
           1100,
           1324,
           771,
           1167,
           930,
           648,
           848,
           686,
           839,
           1503,
           785,
           947,
           1392,
           758
          ],
          "coloraxis": "coloraxis",
          "pattern": {
           "shape": ""
          }
         },
         "name": "",
         "offsetgroup": "",
         "orientation": "v",
         "showlegend": false,
         "textposition": "auto",
         "type": "bar",
         "x": [
          "Europe",
          "Europe",
          "Europe",
          "Europe",
          "Europe",
          "Europe",
          "Europe",
          "Europe",
          "Asia",
          "Oceania",
          "Europe",
          "Oceania",
          "Europe",
          "Europe",
          "North America",
          "North America",
          "Europe",
          "Europe",
          "Europe",
          "Europe",
          "Asia",
          "Europe",
          "North America",
          "Asia",
          "Asia",
          null,
          "Asia",
          "Europe",
          "Europe",
          "South America",
          "Europe",
          null,
          "Europe",
          "Europe",
          "Europe",
          "Europe",
          "North America",
          "South America",
          "North America",
          "Asia",
          "Asia",
          "Europe",
          "Europe",
          "South America",
          "North America",
          "North America",
          "Europe",
          "Europe",
          "North America",
          "Asia",
          "Europe",
          "Africa",
          "Asia",
          "Asia",
          "North America",
          "Europe",
          "South America",
          "Europe",
          "Asia",
          "Asia",
          "Asia",
          "Europe",
          "North America",
          "Asia",
          "Europe",
          "South America",
          "Europe",
          "Asia",
          "North America",
          "Asia",
          "South America",
          "Asia",
          "South America",
          "South America",
          "Europe",
          "South America",
          "Asia",
          "Asia",
          null,
          "Europe",
          null,
          "Asia",
          "Asia",
          "Asia",
          "Europe",
          "Africa",
          "Asia",
          "Africa",
          "Europe",
          "Europe",
          "Africa",
          "Asia",
          "Africa",
          "Asia",
          "Asia",
          "Africa",
          "Africa",
          "Europe",
          "Africa",
          "Africa",
          "Africa",
          "Africa",
          "Africa",
          "Africa",
          "Asia",
          "Africa",
          "Asia",
          "South America",
          "Africa",
          "Asia",
          "Africa",
          "Asia",
          "Africa",
          "Asia",
          "Africa",
          "Africa",
          "Africa",
          "Africa",
          "Africa",
          "Africa",
          "Asia",
          null,
          "Africa",
          "Africa",
          null,
          "Asia",
          "Asia",
          "Africa",
          "Africa",
          "Africa",
          "Africa",
          "Asia",
          "Africa",
          "Asia",
          "Africa",
          "Asia",
          "Africa",
          "Africa",
          "Africa",
          "Africa",
          "Africa",
          "Africa",
          "Africa",
          "Africa",
          "Asia",
          "Asia"
         ],
         "xaxis": "x",
         "y": [
          7821,
          7636,
          7557,
          7512,
          7415,
          7404,
          7384,
          7365,
          7364,
          7200,
          7163,
          7162,
          7041,
          7034,
          7025,
          6977,
          6943,
          6920,
          6805,
          6687,
          6647,
          6630,
          6582,
          6576,
          6523,
          6512,
          6480,
          6477,
          6476,
          6474,
          6467,
          6455,
          6447,
          6446,
          6391,
          6341,
          6309,
          6293,
          6262,
          6234,
          6221,
          6180,
          6178,
          6172,
          6165,
          6128,
          6125,
          6123,
          6120,
          6106,
          6086,
          6071,
          6063,
          6039,
          6022,
          6016,
          5967,
          5948,
          5935,
          5904,
          5891,
          5857,
          5850,
          5828,
          5821,
          5781,
          5768,
          5761,
          5737,
          5711,
          5600,
          5585,
          5578,
          5559,
          5547,
          5533,
          5485,
          5474,
          5467,
          5459,
          5425,
          5399,
          5377,
          5377,
          5371,
          5330,
          5240,
          5235,
          5199,
          5199,
          5194,
          5173,
          5164,
          5155,
          5140,
          5122,
          5122,
          5084,
          5075,
          5060,
          5048,
          5048,
          5046,
          5003,
          4973,
          4958,
          4941,
          4925,
          4891,
          4888,
          4872,
          4744,
          4670,
          4640,
          4623,
          4609,
          4603,
          4552,
          4543,
          4516,
          4516,
          4483,
          4479,
          4459,
          4396,
          4394,
          4362,
          4339,
          4288,
          4251,
          4241,
          4197,
          4153,
          4152,
          4112,
          3777,
          3760,
          3750,
          3702,
          3574,
          3512,
          3471,
          3268,
          2995,
          2955,
          2404
         ],
         "yaxis": "y"
        }
       ],
       "layout": {
        "barmode": "relative",
        "coloraxis": {
         "colorbar": {
          "title": {
           "text": "Explained by: GDP per capita"
          }
         },
         "colorscale": [
          [
           0,
           "#0d0887"
          ],
          [
           0.1111111111111111,
           "#46039f"
          ],
          [
           0.2222222222222222,
           "#7201a8"
          ],
          [
           0.3333333333333333,
           "#9c179e"
          ],
          [
           0.4444444444444444,
           "#bd3786"
          ],
          [
           0.5555555555555556,
           "#d8576b"
          ],
          [
           0.6666666666666666,
           "#ed7953"
          ],
          [
           0.7777777777777778,
           "#fb9f3a"
          ],
          [
           0.8888888888888888,
           "#fdca26"
          ],
          [
           1,
           "#f0f921"
          ]
         ]
        },
        "legend": {
         "tracegroupgap": 0
        },
        "margin": {
         "t": 60
        },
        "template": {
         "data": {
          "bar": [
           {
            "error_x": {
             "color": "#2a3f5f"
            },
            "error_y": {
             "color": "#2a3f5f"
            },
            "marker": {
             "line": {
              "color": "#E5ECF6",
              "width": 0.5
             },
             "pattern": {
              "fillmode": "overlay",
              "size": 10,
              "solidity": 0.2
             }
            },
            "type": "bar"
           }
          ],
          "barpolar": [
           {
            "marker": {
             "line": {
              "color": "#E5ECF6",
              "width": 0.5
             },
             "pattern": {
              "fillmode": "overlay",
              "size": 10,
              "solidity": 0.2
             }
            },
            "type": "barpolar"
           }
          ],
          "carpet": [
           {
            "aaxis": {
             "endlinecolor": "#2a3f5f",
             "gridcolor": "white",
             "linecolor": "white",
             "minorgridcolor": "white",
             "startlinecolor": "#2a3f5f"
            },
            "baxis": {
             "endlinecolor": "#2a3f5f",
             "gridcolor": "white",
             "linecolor": "white",
             "minorgridcolor": "white",
             "startlinecolor": "#2a3f5f"
            },
            "type": "carpet"
           }
          ],
          "choropleth": [
           {
            "colorbar": {
             "outlinewidth": 0,
             "ticks": ""
            },
            "type": "choropleth"
           }
          ],
          "contour": [
           {
            "colorbar": {
             "outlinewidth": 0,
             "ticks": ""
            },
            "colorscale": [
             [
              0,
              "#0d0887"
             ],
             [
              0.1111111111111111,
              "#46039f"
             ],
             [
              0.2222222222222222,
              "#7201a8"
             ],
             [
              0.3333333333333333,
              "#9c179e"
             ],
             [
              0.4444444444444444,
              "#bd3786"
             ],
             [
              0.5555555555555556,
              "#d8576b"
             ],
             [
              0.6666666666666666,
              "#ed7953"
             ],
             [
              0.7777777777777778,
              "#fb9f3a"
             ],
             [
              0.8888888888888888,
              "#fdca26"
             ],
             [
              1,
              "#f0f921"
             ]
            ],
            "type": "contour"
           }
          ],
          "contourcarpet": [
           {
            "colorbar": {
             "outlinewidth": 0,
             "ticks": ""
            },
            "type": "contourcarpet"
           }
          ],
          "heatmap": [
           {
            "colorbar": {
             "outlinewidth": 0,
             "ticks": ""
            },
            "colorscale": [
             [
              0,
              "#0d0887"
             ],
             [
              0.1111111111111111,
              "#46039f"
             ],
             [
              0.2222222222222222,
              "#7201a8"
             ],
             [
              0.3333333333333333,
              "#9c179e"
             ],
             [
              0.4444444444444444,
              "#bd3786"
             ],
             [
              0.5555555555555556,
              "#d8576b"
             ],
             [
              0.6666666666666666,
              "#ed7953"
             ],
             [
              0.7777777777777778,
              "#fb9f3a"
             ],
             [
              0.8888888888888888,
              "#fdca26"
             ],
             [
              1,
              "#f0f921"
             ]
            ],
            "type": "heatmap"
           }
          ],
          "heatmapgl": [
           {
            "colorbar": {
             "outlinewidth": 0,
             "ticks": ""
            },
            "colorscale": [
             [
              0,
              "#0d0887"
             ],
             [
              0.1111111111111111,
              "#46039f"
             ],
             [
              0.2222222222222222,
              "#7201a8"
             ],
             [
              0.3333333333333333,
              "#9c179e"
             ],
             [
              0.4444444444444444,
              "#bd3786"
             ],
             [
              0.5555555555555556,
              "#d8576b"
             ],
             [
              0.6666666666666666,
              "#ed7953"
             ],
             [
              0.7777777777777778,
              "#fb9f3a"
             ],
             [
              0.8888888888888888,
              "#fdca26"
             ],
             [
              1,
              "#f0f921"
             ]
            ],
            "type": "heatmapgl"
           }
          ],
          "histogram": [
           {
            "marker": {
             "pattern": {
              "fillmode": "overlay",
              "size": 10,
              "solidity": 0.2
             }
            },
            "type": "histogram"
           }
          ],
          "histogram2d": [
           {
            "colorbar": {
             "outlinewidth": 0,
             "ticks": ""
            },
            "colorscale": [
             [
              0,
              "#0d0887"
             ],
             [
              0.1111111111111111,
              "#46039f"
             ],
             [
              0.2222222222222222,
              "#7201a8"
             ],
             [
              0.3333333333333333,
              "#9c179e"
             ],
             [
              0.4444444444444444,
              "#bd3786"
             ],
             [
              0.5555555555555556,
              "#d8576b"
             ],
             [
              0.6666666666666666,
              "#ed7953"
             ],
             [
              0.7777777777777778,
              "#fb9f3a"
             ],
             [
              0.8888888888888888,
              "#fdca26"
             ],
             [
              1,
              "#f0f921"
             ]
            ],
            "type": "histogram2d"
           }
          ],
          "histogram2dcontour": [
           {
            "colorbar": {
             "outlinewidth": 0,
             "ticks": ""
            },
            "colorscale": [
             [
              0,
              "#0d0887"
             ],
             [
              0.1111111111111111,
              "#46039f"
             ],
             [
              0.2222222222222222,
              "#7201a8"
             ],
             [
              0.3333333333333333,
              "#9c179e"
             ],
             [
              0.4444444444444444,
              "#bd3786"
             ],
             [
              0.5555555555555556,
              "#d8576b"
             ],
             [
              0.6666666666666666,
              "#ed7953"
             ],
             [
              0.7777777777777778,
              "#fb9f3a"
             ],
             [
              0.8888888888888888,
              "#fdca26"
             ],
             [
              1,
              "#f0f921"
             ]
            ],
            "type": "histogram2dcontour"
           }
          ],
          "mesh3d": [
           {
            "colorbar": {
             "outlinewidth": 0,
             "ticks": ""
            },
            "type": "mesh3d"
           }
          ],
          "parcoords": [
           {
            "line": {
             "colorbar": {
              "outlinewidth": 0,
              "ticks": ""
             }
            },
            "type": "parcoords"
           }
          ],
          "pie": [
           {
            "automargin": true,
            "type": "pie"
           }
          ],
          "scatter": [
           {
            "fillpattern": {
             "fillmode": "overlay",
             "size": 10,
             "solidity": 0.2
            },
            "type": "scatter"
           }
          ],
          "scatter3d": [
           {
            "line": {
             "colorbar": {
              "outlinewidth": 0,
              "ticks": ""
             }
            },
            "marker": {
             "colorbar": {
              "outlinewidth": 0,
              "ticks": ""
             }
            },
            "type": "scatter3d"
           }
          ],
          "scattercarpet": [
           {
            "marker": {
             "colorbar": {
              "outlinewidth": 0,
              "ticks": ""
             }
            },
            "type": "scattercarpet"
           }
          ],
          "scattergeo": [
           {
            "marker": {
             "colorbar": {
              "outlinewidth": 0,
              "ticks": ""
             }
            },
            "type": "scattergeo"
           }
          ],
          "scattergl": [
           {
            "marker": {
             "colorbar": {
              "outlinewidth": 0,
              "ticks": ""
             }
            },
            "type": "scattergl"
           }
          ],
          "scattermapbox": [
           {
            "marker": {
             "colorbar": {
              "outlinewidth": 0,
              "ticks": ""
             }
            },
            "type": "scattermapbox"
           }
          ],
          "scatterpolar": [
           {
            "marker": {
             "colorbar": {
              "outlinewidth": 0,
              "ticks": ""
             }
            },
            "type": "scatterpolar"
           }
          ],
          "scatterpolargl": [
           {
            "marker": {
             "colorbar": {
              "outlinewidth": 0,
              "ticks": ""
             }
            },
            "type": "scatterpolargl"
           }
          ],
          "scatterternary": [
           {
            "marker": {
             "colorbar": {
              "outlinewidth": 0,
              "ticks": ""
             }
            },
            "type": "scatterternary"
           }
          ],
          "surface": [
           {
            "colorbar": {
             "outlinewidth": 0,
             "ticks": ""
            },
            "colorscale": [
             [
              0,
              "#0d0887"
             ],
             [
              0.1111111111111111,
              "#46039f"
             ],
             [
              0.2222222222222222,
              "#7201a8"
             ],
             [
              0.3333333333333333,
              "#9c179e"
             ],
             [
              0.4444444444444444,
              "#bd3786"
             ],
             [
              0.5555555555555556,
              "#d8576b"
             ],
             [
              0.6666666666666666,
              "#ed7953"
             ],
             [
              0.7777777777777778,
              "#fb9f3a"
             ],
             [
              0.8888888888888888,
              "#fdca26"
             ],
             [
              1,
              "#f0f921"
             ]
            ],
            "type": "surface"
           }
          ],
          "table": [
           {
            "cells": {
             "fill": {
              "color": "#EBF0F8"
             },
             "line": {
              "color": "white"
             }
            },
            "header": {
             "fill": {
              "color": "#C8D4E3"
             },
             "line": {
              "color": "white"
             }
            },
            "type": "table"
           }
          ]
         },
         "layout": {
          "annotationdefaults": {
           "arrowcolor": "#2a3f5f",
           "arrowhead": 0,
           "arrowwidth": 1
          },
          "autotypenumbers": "strict",
          "coloraxis": {
           "colorbar": {
            "outlinewidth": 0,
            "ticks": ""
           }
          },
          "colorscale": {
           "diverging": [
            [
             0,
             "#8e0152"
            ],
            [
             0.1,
             "#c51b7d"
            ],
            [
             0.2,
             "#de77ae"
            ],
            [
             0.3,
             "#f1b6da"
            ],
            [
             0.4,
             "#fde0ef"
            ],
            [
             0.5,
             "#f7f7f7"
            ],
            [
             0.6,
             "#e6f5d0"
            ],
            [
             0.7,
             "#b8e186"
            ],
            [
             0.8,
             "#7fbc41"
            ],
            [
             0.9,
             "#4d9221"
            ],
            [
             1,
             "#276419"
            ]
           ],
           "sequential": [
            [
             0,
             "#0d0887"
            ],
            [
             0.1111111111111111,
             "#46039f"
            ],
            [
             0.2222222222222222,
             "#7201a8"
            ],
            [
             0.3333333333333333,
             "#9c179e"
            ],
            [
             0.4444444444444444,
             "#bd3786"
            ],
            [
             0.5555555555555556,
             "#d8576b"
            ],
            [
             0.6666666666666666,
             "#ed7953"
            ],
            [
             0.7777777777777778,
             "#fb9f3a"
            ],
            [
             0.8888888888888888,
             "#fdca26"
            ],
            [
             1,
             "#f0f921"
            ]
           ],
           "sequentialminus": [
            [
             0,
             "#0d0887"
            ],
            [
             0.1111111111111111,
             "#46039f"
            ],
            [
             0.2222222222222222,
             "#7201a8"
            ],
            [
             0.3333333333333333,
             "#9c179e"
            ],
            [
             0.4444444444444444,
             "#bd3786"
            ],
            [
             0.5555555555555556,
             "#d8576b"
            ],
            [
             0.6666666666666666,
             "#ed7953"
            ],
            [
             0.7777777777777778,
             "#fb9f3a"
            ],
            [
             0.8888888888888888,
             "#fdca26"
            ],
            [
             1,
             "#f0f921"
            ]
           ]
          },
          "colorway": [
           "#636efa",
           "#EF553B",
           "#00cc96",
           "#ab63fa",
           "#FFA15A",
           "#19d3f3",
           "#FF6692",
           "#B6E880",
           "#FF97FF",
           "#FECB52"
          ],
          "font": {
           "color": "#2a3f5f"
          },
          "geo": {
           "bgcolor": "white",
           "lakecolor": "white",
           "landcolor": "#E5ECF6",
           "showlakes": true,
           "showland": true,
           "subunitcolor": "white"
          },
          "hoverlabel": {
           "align": "left"
          },
          "hovermode": "closest",
          "mapbox": {
           "style": "light"
          },
          "paper_bgcolor": "white",
          "plot_bgcolor": "#E5ECF6",
          "polar": {
           "angularaxis": {
            "gridcolor": "white",
            "linecolor": "white",
            "ticks": ""
           },
           "bgcolor": "#E5ECF6",
           "radialaxis": {
            "gridcolor": "white",
            "linecolor": "white",
            "ticks": ""
           }
          },
          "scene": {
           "xaxis": {
            "backgroundcolor": "#E5ECF6",
            "gridcolor": "white",
            "gridwidth": 2,
            "linecolor": "white",
            "showbackground": true,
            "ticks": "",
            "zerolinecolor": "white"
           },
           "yaxis": {
            "backgroundcolor": "#E5ECF6",
            "gridcolor": "white",
            "gridwidth": 2,
            "linecolor": "white",
            "showbackground": true,
            "ticks": "",
            "zerolinecolor": "white"
           },
           "zaxis": {
            "backgroundcolor": "#E5ECF6",
            "gridcolor": "white",
            "gridwidth": 2,
            "linecolor": "white",
            "showbackground": true,
            "ticks": "",
            "zerolinecolor": "white"
           }
          },
          "shapedefaults": {
           "line": {
            "color": "#2a3f5f"
           }
          },
          "ternary": {
           "aaxis": {
            "gridcolor": "white",
            "linecolor": "white",
            "ticks": ""
           },
           "baxis": {
            "gridcolor": "white",
            "linecolor": "white",
            "ticks": ""
           },
           "bgcolor": "#E5ECF6",
           "caxis": {
            "gridcolor": "white",
            "linecolor": "white",
            "ticks": ""
           }
          },
          "title": {
           "x": 0.05
          },
          "xaxis": {
           "automargin": true,
           "gridcolor": "white",
           "linecolor": "white",
           "ticks": "",
           "title": {
            "standoff": 15
           },
           "zerolinecolor": "white",
           "zerolinewidth": 2
          },
          "yaxis": {
           "automargin": true,
           "gridcolor": "white",
           "linecolor": "white",
           "ticks": "",
           "title": {
            "standoff": 15
           },
           "zerolinecolor": "white",
           "zerolinewidth": 2
          }
         }
        },
        "xaxis": {
         "anchor": "y",
         "domain": [
          0,
          1
         ],
         "title": {
          "text": "Continent"
         }
        },
        "yaxis": {
         "anchor": "x",
         "domain": [
          0,
          1
         ],
         "title": {
          "text": "Happiness score"
         }
        }
       }
      }
     },
     "metadata": {},
     "output_type": "display_data"
    }
   ],
   "source": [
    "fig5 = px.bar(df2, 'Continent', 'Happiness score', color='Explained by: GDP per capita')\n",
    "fig5.show()"
   ]
  }
 ],
 "metadata": {
  "kernelspec": {
   "display_name": "Python 3.8.13 ('bigdata')",
   "language": "python",
   "name": "python3"
  },
  "language_info": {
   "codemirror_mode": {
    "name": "ipython",
    "version": 3
   },
   "file_extension": ".py",
   "mimetype": "text/x-python",
   "name": "python",
   "nbconvert_exporter": "python",
   "pygments_lexer": "ipython3",
   "version": "3.8.13"
  },
  "orig_nbformat": 4,
  "vscode": {
   "interpreter": {
    "hash": "8f3e60d45272a1a7ec9b3da7b276ef59ece85f5b51e5d8a4c5909cb973103c8c"
   }
  }
 },
 "nbformat": 4,
 "nbformat_minor": 2
}
