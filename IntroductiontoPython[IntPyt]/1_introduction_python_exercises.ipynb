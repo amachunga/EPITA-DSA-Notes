{
 "cells": [
  {
   "cell_type": "markdown",
   "id": "060ee695",
   "metadata": {},
   "source": [
    "## Exercices <a name=\"E\"></a>"
   ]
  },
  {
   "cell_type": "markdown",
   "id": "e101fcea",
   "metadata": {},
   "source": [
    "### Exercice 1.\n",
    "\n",
    "Create the following list with loops:\n",
    "\n",
    "    [['car', 0, 1, 4, 9, 16],\n",
    "     ['bus', 1, 4, 9, 16, 25],\n",
    "     ['train', 4, 9, 16, 25, 36],\n",
    "     ['boat', 9, 16, 25, 36, 49]]\n",
    "    \n",
    "Create a script that prints this list in the following manner:\n",
    "\n",
    "    car      0    1    4    9   16\n",
    "    bus      1    4    9   16   25\n",
    "    train    4    9   16   25   36\n",
    "    boat     9    16  25   36   49"
   ]
  },
  {
   "cell_type": "code",
   "execution_count": 35,
   "id": "d4430735",
   "metadata": {},
   "outputs": [
    {
     "name": "stdout",
     "output_type": "stream",
     "text": [
      "car       0         1         4         9         16        \n",
      "\n",
      "bus       1         4         9         16        25        \n",
      "\n",
      "train     4         9         16        25        36        \n",
      "\n",
      "boat      9         16        25        36        49        \n",
      "\n"
     ]
    }
   ],
   "source": [
    "listg, list1, list2, result = ['car', 'bus', 'train', 'boat'], [], [], []\n",
    "a, b = 0, 5\n",
    "for i in listg:\n",
    "    list1.append(i)\n",
    "    for y in range(a, b):\n",
    "        list2.append(y*y)\n",
    "    templist = list1 + list2\n",
    "    result.append(templist)\n",
    "    list1, list2, templist = [], [], []\n",
    "    a += 1\n",
    "    b += 1\n",
    "\n",
    "for i in range(len(result)):\n",
    "    for y in result[i]:\n",
    "        print(y, end=\" \" * (10 - len(str(y))))\n",
    "    print('\\n')"
   ]
  },
  {
   "cell_type": "markdown",
   "id": "213f2337",
   "metadata": {},
   "source": [
    "### Exercice 2.\n",
    "\n",
    "For the following list of dictionaries, write a script that add a field *registrations* which is twice the number of accepted papers."
   ]
  },
  {
   "cell_type": "code",
   "execution_count": 36,
   "id": "4cb48a83",
   "metadata": {},
   "outputs": [],
   "source": [
    "confs = [{\"Name\": \"NeurIPS\", \"Date\": 2016, \"Location\": \"Barcelona\", \"acc_papers\": 300},\n",
    "             {\"Name\": \"ICML\", \"Date\": 2016, \"Location\": \"New York City\", \"acc_papers\": 450},\n",
    "             {\"Name\": \"ICML\", \"Date\": 2015, \"Location\": \"Lille\", \"acc_papers\": 250},\n",
    "             {\"Name\": \"AISTATS\", \"Date\": 2016, \"Location\": \"Cadiz\", \"acc_papers\": 100}]"
   ]
  },
  {
   "cell_type": "code",
   "execution_count": 41,
   "id": "3af226a7",
   "metadata": {},
   "outputs": [
    {
     "name": "stdout",
     "output_type": "stream",
     "text": [
      "[{'Name': 'NeurIPS', 'Date': 2016, 'Location': 'Barcelona', 'acc_papers': 300, 'regstrations': 600}, {'Name': 'ICML', 'Date': 2016, 'Location': 'New York City', 'acc_papers': 450, 'regstrations': 900}, {'Name': 'ICML', 'Date': 2015, 'Location': 'Lille', 'acc_papers': 250, 'regstrations': 500}, {'Name': 'AISTATS', 'Date': 2016, 'Location': 'Cadiz', 'acc_papers': 100, 'regstrations': 200}]\n"
     ]
    }
   ],
   "source": [
    "for i in range(len(confs)):\n",
    "    confs[i]['regstrations'] = confs[i]['acc_papers'] * 2"
   ]
  },
  {
   "cell_type": "markdown",
   "id": "de1fc48e",
   "metadata": {},
   "source": [
    "### Exercice 3.\n",
    "\n",
    "Write a function *include*, that produces the following results:\n",
    "\n",
    "    >>> l = [0]\n",
    "    >>> include(l, 2)\n",
    "    >>> print(l)\n",
    "    [0, 2]\n",
    "    >>> include(l, \"-1\")\n",
    "    >>> print(l)\n",
    "    [0, 2, '-1']\n",
    "    >>> include(l)\n",
    "    >>> print(l)\n",
    "    []"
   ]
  },
  {
   "cell_type": "code",
   "execution_count": 90,
   "id": "5dec7fa6",
   "metadata": {},
   "outputs": [
    {
     "name": "stdout",
     "output_type": "stream",
     "text": [
      "[]\n"
     ]
    }
   ],
   "source": [
    "def include(x, y=None):\n",
    "    if y is not None:\n",
    "        x.append(y)\n",
    "    else:\n",
    "        x.clear()"
   ]
  },
  {
   "cell_type": "markdown",
   "id": "463754cf",
   "metadata": {},
   "source": [
    "### Exercice 4.\n",
    "\n",
    "Create a module, that contains a function fibonacci(n) computing the $n^{th}$ [Fibonacci number](https://en.wikipedia.org/wiki/Fibonacci_number). Then create a script using this function."
   ]
  },
  {
   "cell_type": "code",
   "execution_count": 94,
   "id": "df1faf46",
   "metadata": {},
   "outputs": [
    {
     "name": "stdout",
     "output_type": "stream",
     "text": [
      "0 1 1 2 3 5 8 \n"
     ]
    }
   ],
   "source": [
    "def fibonacci(n):\n",
    "    a, b = 0, 1\n",
    "    while a < n:\n",
    "        print(a, end=' ')\n",
    "        a, b = b, a+b\n",
    "    print()\n",
    "\n",
    "fibonacci(9)"
   ]
  },
  {
   "cell_type": "markdown",
   "id": "8d79341e",
   "metadata": {},
   "source": [
    "### Exercice 5.\n",
    "\n",
    "Change the class `Point` (the toy example bellow) in order to take account a 3rd coordinate `z`.\n",
    "\n",
    "    class Point:\n",
    "        \"\"\"\n",
    "        Definition of the class \"Point\"\n",
    "        \"\"\"\n",
    "        def __init__(self, x, y):          \n",
    "            self.x = x                     \n",
    "            self.y = y                     \n",
    "            self.norm = self.compute_norm()\n",
    "\n",
    "        def compute_norm(self):\n",
    "            norm = (self.x**2 + self.y**2)**(0.5) \n",
    "            return norm\n",
    "\n",
    "        def __add__(self, another_point) :\n",
    "             return Point(self.x + another_point.x, self.y + another_point.y)\n",
    "             \n",
    "Then execute the following script.\n",
    "\n",
    "    p1 = Point(1, -1, 1)\n",
    "    p2 = Point(1, 1, 3)\n",
    "    p3 = p1 + p2\n",
    "\n",
    "    print(f\"p1 = ({p1.x}, {p1.y}, {p1.z})\")\n",
    "    print(f\"p2 = ({p2.x}, {p2.y}, {p2.z})\")\n",
    "    print(f\"p3 = ({p3.x}, {p3.y}, {p3.z})\")"
   ]
  },
  {
   "cell_type": "code",
   "execution_count": 95,
   "id": "5e933bba",
   "metadata": {},
   "outputs": [
    {
     "name": "stdout",
     "output_type": "stream",
     "text": [
      "p1 = (1, -1, 1)\n",
      "p2 = (1, 1, 3)\n",
      "p3 = (2, 0, 4)\n"
     ]
    }
   ],
   "source": [
    "class Point:\n",
    "    \"\"\"\n",
    "    Definition of the class \"Point\"\n",
    "    \"\"\"\n",
    "    def __init__(self, x, y, z):          \n",
    "        self.x = x\n",
    "        self.y = y\n",
    "        self.z = z\n",
    "        self.norm = self.compute_norm()\n",
    "\n",
    "    def compute_norm(self):\n",
    "        norm = (self.x**2 + self.y**2 + self.z**2)**(0.5) \n",
    "        return norm\n",
    "\n",
    "    def __add__(self, another_point) :\n",
    "            return Point(self.x + another_point.x, self.y + another_point.y, self.z + another_point.z)\n",
    "        \n",
    "p1 = Point(1, -1, 1)\n",
    "p2 = Point(1, 1, 3)\n",
    "p3 = p1 + p2\n",
    "\n",
    "print(f\"p1 = ({p1.x}, {p1.y}, {p1.z})\")\n",
    "print(f\"p2 = ({p2.x}, {p2.y}, {p2.z})\")\n",
    "print(f\"p3 = ({p3.x}, {p3.y}, {p3.z})\")"
   ]
  }
 ],
 "metadata": {
  "interpreter": {
   "hash": "eb41dba41134829c88e5d12c32bb30abf5a3ad118ed62948a4747cb2ca716f29"
  },
  "kernelspec": {
   "display_name": "Python 3.8.11 64-bit ('base': conda)",
   "name": "python3"
  },
  "language_info": {
   "codemirror_mode": {
    "name": "ipython",
    "version": 3
   },
   "file_extension": ".py",
   "mimetype": "text/x-python",
   "name": "python",
   "nbconvert_exporter": "python",
   "pygments_lexer": "ipython3",
   "version": "3.8.11"
  }
 },
 "nbformat": 4,
 "nbformat_minor": 5
}
