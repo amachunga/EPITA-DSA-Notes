{
  "cells": [
    {
      "cell_type": "code",
      "execution_count": 146,
      "metadata": {
        "id": "hzPSLChqOpo5"
      },
      "outputs": [],
      "source": [
        "def row_unused_digit(grid, valid_digits, i):\n",
        "    for digit in valid_digits:\n",
        "        if digit not in grid[i]:\n",
        "            return digit\n",
        "    return None"
      ]
    },
    {
      "cell_type": "code",
      "execution_count": 147,
      "metadata": {},
      "outputs": [],
      "source": [
        "def column_unused_digit(grid, valid_digits, j):\n",
        "    for i in range(9):\n",
        "        if valid_digits[i] not in grid[i][j]:\n",
        "            return valid_digits[i]\n",
        "    return None"
      ]
    },
    {
      "cell_type": "code",
      "execution_count": 148,
      "metadata": {
        "id": "LVInCnY6OwdC"
      },
      "outputs": [],
      "source": [
        "def block_unused_digit(grid, valid_digits, i, j):\n",
        "    for digit in valid_digits:\n",
        "        if digit not in grid[i][j]:\n",
        "            return digit\n",
        "    return None"
      ]
    },
    {
      "cell_type": "code",
      "execution_count": 149,
      "metadata": {},
      "outputs": [],
      "source": [
        "def possible_number(grid, i, j):\n",
        "    valid_digits = set(range(1, 10))\n",
        "    for row in range(9):\n",
        "        if grid[row][j] in valid_digits:\n",
        "            valid_digits.remove(grid[row][j])\n",
        "    for col in range(9):\n",
        "        if grid[i][col] in valid_digits:\n",
        "            valid_digits.remove(grid[i][col])\n",
        "    i_start = (i // 3) * 3\n",
        "    j_start = (j // 3) * 3\n",
        "    for row in range(i_start, i_start + 3):\n",
        "        for col in range(j_start, j_start + 3):\n",
        "            if grid[row][col] in valid_digits:\n",
        "                valid_digits.remove(grid[row][col])\n",
        "    return valid_digits"
      ]
    },
    {
      "cell_type": "code",
      "execution_count": 150,
      "metadata": {},
      "outputs": [],
      "source": [
        "def best_cell(grid):\n",
        "    min_digits = 10\n",
        "    min_cell = None\n",
        "    for i in range(9):\n",
        "        for j in range(9):\n",
        "            if grid[i][j] == 0:\n",
        "                digits = len(possible_number(grid, i, j))\n",
        "                if digits < min_digits:\n",
        "                    min_digits = digits\n",
        "                    min_cell = (i, j)\n",
        "    return min_cell"
      ]
    },
    {
      "cell_type": "code",
      "execution_count": 151,
      "metadata": {},
      "outputs": [],
      "source": [
        "def solve_sudoku(grid):\n",
        "    cell = best_cell(grid)\n",
        "    if cell is None:\n",
        "        return True\n",
        "    i, j = cell\n",
        "    for digit in possible_number(grid, i, j):\n",
        "        grid[i][j] = digit\n",
        "        if solve_sudoku(grid):\n",
        "            return True\n",
        "        grid[i][j] = 0\n",
        "    return False"
      ]
    },
    {
      "cell_type": "code",
      "execution_count": 152,
      "metadata": {},
      "outputs": [],
      "source": [
        "def sudoku2str(grid):\n",
        "    space = '\\n------------------------------\\n'\n",
        "    sep = ' | '\n",
        "    s = space\n",
        "    for i in range(9):\n",
        "        for j in range(9):\n",
        "            if j % 3 == 0 :\n",
        "                s += sep\n",
        "            s += str(grid[i][j])\n",
        "            s += ' '\n",
        "        s += sep\n",
        "        s += space\n",
        "    return s"
      ]
    },
    {
      "cell_type": "code",
      "execution_count": 153,
      "metadata": {
        "id": "4UvPuif2OyfN"
      },
      "outputs": [],
      "source": [
        "grid_wiki = [\n",
        "    [5, 3, 0, 0, 7, 0, 0, 0, 0],\n",
        "    [6, 0, 0, 1, 9, 5, 0, 0, 0],\n",
        "    [0, 9, 8, 0, 0, 0, 0, 6, 0],\n",
        "    [8, 0, 0, 0, 6, 0, 0, 0, 3],\n",
        "    [4, 0, 0, 8, 0, 3, 0, 0, 1],\n",
        "    [7, 0, 0, 0, 2, 0, 0, 0, 6],\n",
        "    [0, 6, 0, 0, 0, 0, 2, 8, 0],\n",
        "    [0, 0, 0, 4, 1, 9, 0, 0, 5],\n",
        "    [0, 0, 0, 0, 8, 0, 0, 7, 9],\n",
        "]"
      ]
    },
    {
      "cell_type": "code",
      "execution_count": 154,
      "metadata": {
        "colab": {
          "base_uri": "https://localhost:8080/"
        },
        "id": "EzoAIG06O0hL",
        "outputId": "5aa887f6-3e64-4cce-ea68-627e3fe4ccc6"
      },
      "outputs": [
        {
          "name": "stdout",
          "output_type": "stream",
          "text": [
            "\n",
            "------------------------------\n",
            " | 5 3 4  | 6 7 8  | 9 1 2  | \n",
            "------------------------------\n",
            " | 6 7 2  | 1 9 5  | 3 4 8  | \n",
            "------------------------------\n",
            " | 1 9 8  | 3 4 2  | 5 6 7  | \n",
            "------------------------------\n",
            " | 8 5 9  | 7 6 1  | 4 2 3  | \n",
            "------------------------------\n",
            " | 4 2 6  | 8 5 3  | 7 9 1  | \n",
            "------------------------------\n",
            " | 7 1 3  | 9 2 4  | 8 5 6  | \n",
            "------------------------------\n",
            " | 9 6 1  | 5 3 7  | 2 8 4  | \n",
            "------------------------------\n",
            " | 2 8 7  | 4 1 9  | 6 3 5  | \n",
            "------------------------------\n",
            " | 3 4 5  | 2 8 6  | 1 7 9  | \n",
            "------------------------------\n",
            "\n"
          ]
        }
      ],
      "source": [
        "solve_sudoku(grid_wiki)\n",
        "print(sudoku2str(grid_wiki))"
      ]
    }
  ],
  "metadata": {
    "colab": {
      "collapsed_sections": [],
      "name": "sudoku.ipynb",
      "provenance": []
    },
    "kernelspec": {
      "display_name": "Python 3",
      "name": "python3"
    },
    "language_info": {
      "codemirror_mode": {
        "name": "ipython",
        "version": 3
      },
      "file_extension": ".py",
      "mimetype": "text/x-python",
      "name": "python",
      "nbconvert_exporter": "python",
      "pygments_lexer": "ipython3",
      "version": "3.9.7"
    }
  },
  "nbformat": 4,
  "nbformat_minor": 0
}
